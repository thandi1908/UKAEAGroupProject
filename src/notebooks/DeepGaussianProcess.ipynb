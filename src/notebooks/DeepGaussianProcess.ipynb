{
 "cells": [
  {
   "cell_type": "code",
   "execution_count": 1,
   "id": "6bc6bf14",
   "metadata": {},
   "outputs": [],
   "source": [
    "# GP imports\n",
    "import math\n",
    "import tqdm\n",
    "import torch\n",
    "import gpytorch\n",
    "from matplotlib import pyplot as plt\n",
    "import numpy as np \n",
    "import pandas as pd\n",
    "from sklearn.preprocessing import StandardScaler\n",
    "import copy\n",
    "# Make plots inline\n",
    "%matplotlib inline\n",
    "\n",
    "# AutoEncoder imports\n",
    "from scripts.AutoEncoder import AutoEncoder, AutoEncoderDataset, Encoder, Decoder\n",
    "from scripts.AutoEncoder import EncoderBig, DecoderBig, EncoderHuge, DecoderHuge\n",
    "from scripts.utils import train_keys, target_keys, ScaleData"
   ]
  },
  {
   "cell_type": "markdown",
   "id": "1b7b4371",
   "metadata": {},
   "source": [
    "### Load Training Data"
   ]
  },
  {
   "cell_type": "code",
   "execution_count": 2,
   "id": "f93f1954",
   "metadata": {},
   "outputs": [
    {
     "name": "stdout",
     "output_type": "stream",
     "text": [
      "^C\r\n"
     ]
    }
   ],
   "source": [
    "!ls /share/rcifdata/jbarr/UKAEAGroupProject/logs/AutoEncoder/"
   ]
  },
  {
   "cell_type": "code",
   "execution_count": 3,
   "id": "f9aac1f3",
   "metadata": {},
   "outputs": [],
   "source": [
    "path = \"/share/rcifdata/jbarr/UKAEAGroupProject/logs/AutoEncoder/Run-18/experiment_name=0-epoch=199-val_loss=0.02.ckpt\"\n",
    "# modelAE = AutoEncoder.load_from_checkpoint(path, encoder = EncoderHuge, decoder = DecoderHuge,\n",
    "#                                          n_input = 15, batch_size = 2048, epochs = 150, learning_rate = 0.001)\n",
    "# encoder = modelAE.encoder"
   ]
  },
  {
   "cell_type": "code",
   "execution_count": 4,
   "id": "4315f95e",
   "metadata": {},
   "outputs": [],
   "source": [
    "train_path = \"/home/tmadula/data/UKAEA/train_data_clipped.pkl\"\n",
    "valid_path = \"/home/tmadula/data/UKAEA/valid_data_clipped.pkl\"\n",
    "\n",
    "train = pd.read_pickle(train_path) \n",
    "valid = pd.read_pickle(valid_path)"
   ]
  },
  {
   "cell_type": "code",
   "execution_count": 5,
   "id": "56165e35",
   "metadata": {},
   "outputs": [],
   "source": [
    "train_target = train['target']"
   ]
  },
  {
   "cell_type": "markdown",
   "id": "2c4cde03",
   "metadata": {},
   "source": [
    "### Data Processing"
   ]
  },
  {
   "cell_type": "code",
   "execution_count": 6,
   "id": "5519b3c1",
   "metadata": {},
   "outputs": [],
   "source": [
    "scaler = StandardScaler()\n",
    "train_scale = scaler.fit_transform(train)\n",
    "valid_scale = scaler.transform(valid)\n",
    "train_scale = train_scale[:,:-1]\n",
    "valid_scale = valid_scale[:,:-1]"
   ]
  },
  {
   "cell_type": "code",
   "execution_count": 7,
   "id": "7768056e",
   "metadata": {},
   "outputs": [],
   "source": [
    "train_scale = pd.DataFrame(train_scale, columns = train_keys+target_keys)\n",
    "valid_scale = pd.DataFrame(valid_scale, columns = train_keys+target_keys)"
   ]
  },
  {
   "cell_type": "code",
   "execution_count": 8,
   "id": "aa3154ed",
   "metadata": {},
   "outputs": [],
   "source": [
    "def dropNan(df, feature):\n",
    "    keys = copy.deepcopy(train_keys)\n",
    "    keys.append(feature)\n",
    "    df = df[keys].dropna()\n",
    "    \n",
    "    return df"
   ]
  },
  {
   "cell_type": "markdown",
   "id": "a9362a33",
   "metadata": {},
   "source": [
    "### Model Definitions"
   ]
  },
  {
   "cell_type": "code",
   "execution_count": 9,
   "id": "4a34308e",
   "metadata": {},
   "outputs": [],
   "source": [
    "class GPRegressionModel(gpytorch.models.ExactGP):\n",
    "        def __init__(self, feature_extractor,train_x, train_y, likelihood):\n",
    "            super(GPRegressionModel, self).__init__(train_x, train_y, likelihood)\n",
    "            self.feature_extractor = feature_extractor\n",
    "            self.mean_module = gpytorch.means.ConstantMean()\n",
    "            self.covar_module = gpytorch.kernels.GridInterpolationKernel(\n",
    "                gpytorch.kernels.ScaleKernel(gpytorch.kernels.RBFKernel(ard_num_dims=5)),\n",
    "                num_dims=5, grid_size=100\n",
    "            )\n",
    "            self.feature_extractor = feature_extractor\n",
    "\n",
    "            # This module will scale the NN features so that they're nice values\n",
    "            self.scale_to_bounds = gpytorch.utils.grid.ScaleToBounds(-1., 1.)\n",
    "\n",
    "        def forward(self, x):\n",
    "            # We're first putting our data through a deep net (feature extractor)\n",
    "            projected_x = self.feature_extractor(x)\n",
    "            projected_x = self.scale_to_bounds(projected_x)  # Make the NN values \"nice\"\n",
    "\n",
    "            mean_x = self.mean_module(projected_x)\n",
    "            covar_x = self.covar_module(projected_x)\n",
    "            return gpytorch.distributions.MultivariateNormal(mean_x, covar_x)"
   ]
  },
  {
   "cell_type": "code",
   "execution_count": 10,
   "id": "67ff56ce",
   "metadata": {},
   "outputs": [],
   "source": [
    "def train(training_iterations, model,  train_x, train_y):\n",
    "    iterator = tqdm.notebook.tqdm(range(training_iterations))\n",
    "    for i in iterator:\n",
    "        # Zero backprop gradients\n",
    "        optimizer.zero_grad()\n",
    "        # Get output from model\n",
    "        output = model(train_x)\n",
    "        # Calc loss and backprop derivatives\n",
    "        loss = -mll(output, train_y)\n",
    "        loss.backward()\n",
    "        iterator.set_postfix(loss=loss.item())\n",
    "        optimizer.step()"
   ]
  },
  {
   "cell_type": "code",
   "execution_count": 11,
   "id": "2725b460",
   "metadata": {},
   "outputs": [],
   "source": [
    "def getAE(path):\n",
    "    modelAE = AutoEncoder.load_from_checkpoint(path, encoder = EncoderHuge,\n",
    "                                               decoder = DecoderHuge,n_input = 15,\n",
    "                                               batch_size = 2048, epochs = 150,\n",
    "                                               learning_rate = 0.001)\n",
    "    return modelAE.encoder"
   ]
  },
  {
   "cell_type": "code",
   "execution_count": 12,
   "id": "240144d0",
   "metadata": {},
   "outputs": [],
   "source": [
    "leading_fluxes = [\n",
    "    \"efeetg_gb\",\n",
    "    \"efetem_gb\",\n",
    "    \"efiitg_gb\",\n",
    "]"
   ]
  },
  {
   "cell_type": "code",
   "execution_count": 13,
   "id": "6931fb23",
   "metadata": {},
   "outputs": [],
   "source": [
    "n = 15_000"
   ]
  },
  {
   "cell_type": "code",
   "execution_count": null,
   "id": "d1ad7e34",
   "metadata": {},
   "outputs": [],
   "source": [
    "results_dict = {}\n",
    "for flux in leading_fluxes:\n",
    "    \n",
    "    # Get Fresh AutoEncoder\n",
    "    AE = getAE(path)\n",
    "    \n",
    "    # Remove NaNs according to current flux\n",
    "    train_data = dropNan(train_scale, flux)\n",
    "    \n",
    "    idx = np.random.permutation(train_data.shape[0])[:n]\n",
    "    \n",
    "    train_x = train_data[train_keys].iloc[idx]\n",
    "    train_y = train_data[flux].iloc[idx]\n",
    "    \n",
    "    train_x = torch.tensor(train_x.to_numpy()).cuda()\n",
    "    train_y = torch.tensor(train_y.to_numpy()).cuda()\n",
    "    \n",
    "    train_x = train_x.float()\n",
    "    train_y = train_y.float()\n",
    "    \n",
    "    likelihood = gpytorch.likelihoods.GaussianLikelihood()\n",
    "    model = GPRegressionModel(AE, train_x, train_y, likelihood)\n",
    "\n",
    "    if torch.cuda.is_available():\n",
    "        model = model.cuda()\n",
    "        likelihood = likelihood.cuda()\n",
    "    \n",
    "    training_iterations = 60\n",
    "\n",
    "    # Find optimal model hyperparameters\n",
    "    model.train()\n",
    "    likelihood.train()\n",
    "\n",
    "    # Use the adam optimizer\n",
    "    optimizer = torch.optim.Adam([\n",
    "        {'params': model.feature_extractor.parameters()},\n",
    "        {'params': model.covar_module.parameters()},\n",
    "        {'params': model.mean_module.parameters()},\n",
    "        {'params': model.likelihood.parameters()},\n",
    "    ], lr=0.01)\n",
    "\n",
    "    # \"Loss\" for GPs - the marginal log likelihood\n",
    "    mll = gpytorch.mlls.ExactMarginalLogLikelihood(likelihood, model)\n",
    "\n",
    "    %time train(training_iterations, model, train_x, train_y)\n",
    "    \n",
    "    # Get Validation Data\n",
    "    valid_data = dropNan(valid_scale, flux)\n",
    "    \n",
    "    valid_x = torch.tensor(valid_data[train_keys].to_numpy()).cuda()\n",
    "    valid_x = valid_x[:10_000]\n",
    "    \n",
    "    model.eval()\n",
    "    likelihood.eval()\n",
    "    with torch.no_grad(), gpytorch.settings.use_toeplitz(False), gpytorch.settings.fast_pred_var():\n",
    "        preds = model(valid_x.float())\n",
    "        means = preds.mean.cpu()\n",
    "        variance = preds.variance.cpu()\n",
    "        \n",
    "    \n",
    "        results_dict[flux] = {\"means\": means.detach().numpy(), \"variances\": variance.detach().numpy()}"
   ]
  },
  {
   "cell_type": "code",
   "execution_count": null,
   "id": "69acaedd",
   "metadata": {},
   "outputs": [],
   "source": [
    "for flux in leading_fluxes: \n",
    "    valid_data = dropNan(valid_scale, flux).iloc[:10_000]\n",
    "    truth = valid_data[flux]\n",
    "    x = np.linspace(truth.min(), truth.max(), 100)\n",
    "    mean = results_dict[flux]['means']\n",
    "    std = np.sqrt(results_dict[flux]['variances'])\n",
    "    plt.figure()\n",
    "    plt.scatter(truth, mean, c = std)\n",
    "    plt.plot(x,x, color = 'black', ls ='--')\n",
    "    plt.colorbar(label = 'STD')\n",
    "    plt.xlabel('Ground Truth Value')\n",
    "    plt.ylabel('Predicted Value')\n",
    "    RMS = np.sqrt(np.sum((mean - truth)**2)/10_000)\n",
    "    print(f'{flux}: {RMS}')"
   ]
  },
  {
   "cell_type": "code",
   "execution_count": null,
   "id": "d7e24faf",
   "metadata": {},
   "outputs": [],
   "source": [
    "rms_data = pd.read_csv(\"/home/tmadula/data/UKAEA/RMS.csv\")"
   ]
  },
  {
   "cell_type": "code",
   "execution_count": null,
   "id": "3419ae5e",
   "metadata": {},
   "outputs": [],
   "source": [
    "for flux in leading_fluxes: \n",
    "    plt.figure()\n",
    "    plt.plot(rms_data['Data Points'], rms_data[flux], ls ='--', c = 'black')\n",
    "    plt.plot(rms_data['Data Points'], rms_data[flux], '.', ms=12, c ='forestgreen')\n",
    "    plt.xlabel('Number of Training Points', fontsize = 12)\n",
    "    plt.ylabel('RMS', fontsize = 12)\n",
    "    plt.grid(which = 'both')\n",
    "    "
   ]
  },
  {
   "cell_type": "code",
   "execution_count": null,
   "id": "be5af714",
   "metadata": {},
   "outputs": [],
   "source": []
  }
 ],
 "metadata": {
  "kernelspec": {
   "display_name": "Python 3 (ipykernel)",
   "language": "python",
   "name": "python3"
  },
  "language_info": {
   "codemirror_mode": {
    "name": "ipython",
    "version": 3
   },
   "file_extension": ".py",
   "mimetype": "text/x-python",
   "name": "python",
   "nbconvert_exporter": "python",
   "pygments_lexer": "ipython3",
   "version": "3.9.0"
  }
 },
 "nbformat": 4,
 "nbformat_minor": 5
}
