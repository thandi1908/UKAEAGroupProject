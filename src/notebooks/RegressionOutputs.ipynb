{
 "cells": [
  {
   "cell_type": "markdown",
   "id": "207040a2",
   "metadata": {},
   "source": [
    "# Note to self:\n",
    "\n",
    "## draw histogram of each output for QLKNN and target to compare"
   ]
  },
  {
   "cell_type": "code",
   "execution_count": 1,
   "id": "66258a72",
   "metadata": {},
   "outputs": [],
   "source": [
    "import numpy as np\n",
    "import pandas as pd\n",
    "import matplotlib.pyplot as plt\n",
    "import seaborn as sns\n",
    "\n",
    "import torch\n",
    "import pytorch_lightning as pl\n",
    "from pytorch_lightning import Trainer\n",
    "from torch.utils.data import Dataset, DataLoader\n",
    "\n",
    "from sklearn.preprocessing import StandardScaler\n",
    "import glob"
   ]
  },
  {
   "cell_type": "code",
   "execution_count": 2,
   "id": "7a9e7868",
   "metadata": {},
   "outputs": [
    {
     "ename": "ModuleNotFoundError",
     "evalue": "No module named 'utils'",
     "output_type": "error",
     "traceback": [
      "\u001b[0;31m---------------------------------------------------------------------------\u001b[0m",
      "\u001b[0;31mModuleNotFoundError\u001b[0m                       Traceback (most recent call last)",
      "\u001b[0;32m/tmp/ipykernel_80831/2961024346.py\u001b[0m in \u001b[0;36m<module>\u001b[0;34m\u001b[0m\n\u001b[0;32m----> 1\u001b[0;31m \u001b[0;32mfrom\u001b[0m \u001b[0mscripts\u001b[0m\u001b[0;34m.\u001b[0m\u001b[0mQLKNN\u001b[0m \u001b[0;32mimport\u001b[0m \u001b[0mQLKNN\u001b[0m\u001b[0;34m,\u001b[0m \u001b[0mQLKNNDataset\u001b[0m\u001b[0;34m,\u001b[0m \u001b[0mtrain_keys\u001b[0m\u001b[0;34m,\u001b[0m \u001b[0mtarget_keys\u001b[0m\u001b[0;34m\u001b[0m\u001b[0;34m\u001b[0m\u001b[0m\n\u001b[0m",
      "\u001b[0;32m~/.conda/envs/UKAEA/lib/python3.9/site-packages/scripts/QLKNN.py\u001b[0m in \u001b[0;36m<module>\u001b[0;34m\u001b[0m\n\u001b[1;32m      6\u001b[0m \u001b[0;34m\u001b[0m\u001b[0m\n\u001b[1;32m      7\u001b[0m \u001b[0;32mfrom\u001b[0m \u001b[0mtorch\u001b[0m\u001b[0;34m.\u001b[0m\u001b[0mutils\u001b[0m\u001b[0;34m.\u001b[0m\u001b[0mdata\u001b[0m \u001b[0;32mimport\u001b[0m \u001b[0mDataset\u001b[0m\u001b[0;34m\u001b[0m\u001b[0;34m\u001b[0m\u001b[0m\n\u001b[0;32m----> 8\u001b[0;31m \u001b[0;32mfrom\u001b[0m \u001b[0mutils\u001b[0m \u001b[0;32mimport\u001b[0m \u001b[0mScaleData\u001b[0m\u001b[0;34m\u001b[0m\u001b[0;34m\u001b[0m\u001b[0m\n\u001b[0m\u001b[1;32m      9\u001b[0m \u001b[0;34m\u001b[0m\u001b[0m\n\u001b[1;32m     10\u001b[0m \u001b[0;34m\u001b[0m\u001b[0m\n",
      "\u001b[0;31mModuleNotFoundError\u001b[0m: No module named 'utils'"
     ]
    }
   ],
   "source": [
    "from scripts.QLKNN import QLKNN, QLKNNDataset, train_keys, target_keys"
   ]
  },
  {
   "cell_type": "code",
   "execution_count": null,
   "id": "c1196272",
   "metadata": {},
   "outputs": [],
   "source": [
    "test_data_path = \"data/QLKNN_test_data.pkl\"\n",
    "test_data = QLKNN_Dataset(test_data_path)\n",
    "\n",
    "scaler = StandardScaler()\n",
    "test_data.data = scaler.fit_transform(test_data.data)\n",
    "test_data.data = pd.DataFrame(test_data.data, columns = train_keys + target_keys)\n",
    "\n",
    "for target in target_keys:\n",
    "    path = glob.glob(f\"logs/QLKNN-Regressor/{target}/*.ckpt\")[0]\n",
    "    model = QLKNN.load_from_checkpoint(path, n_input = 15, batch_size = 2048, epochs = 25, learning_rate = 0.001)\n",
    "\n",
    "    tested = test_data.data[train_keys + [target]]\n",
    "\n",
    "    test_loader = DataLoader(tested, batch_size = 2048, shuffle = True, num_workers = 1)\n",
    "    \n",
    "    y = test_data.data[target]\n",
    "    y = torch.tensor(y.values)\n",
    "    X = test_data.data[train_keys]\n",
    "    X = torch.tensor(X.values)\n",
    "    \n",
    "    predictions = model(X).detach().numpy()\n",
    "    \n",
    "    \n",
    "    plt.figure()\n",
    "    \n",
    "    plt.hist(predictions, bins = 100, histtype = 'step',\n",
    "             label = \"Predictions\", range = (predictions.min(), 6))\n",
    "    plt.hist(test_data.data[target], bins = 100, histtype = 'step',\n",
    "             label = \"QuaLikz\", range = (predictions.min(), 6))\n",
    "    plt.legend()"
   ]
  },
  {
   "cell_type": "code",
   "execution_count": null,
   "id": "fc8cce9c",
   "metadata": {},
   "outputs": [],
   "source": []
  },
  {
   "cell_type": "code",
   "execution_count": null,
   "id": "0ac2a783",
   "metadata": {},
   "outputs": [],
   "source": [
    "plt.figure()\n",
    "\n",
    "x = test_data.data[train_keys[5]]\n",
    "y = test_data.data[target]\n",
    "\n",
    "x_range = [x.min(), x.mean() + 3*x.std()]\n",
    "y_range = [y.mean(), y.mean() + 2*y.std()]\n",
    "\n",
    "plt.hist2d(test_data.data[train_keys[6]], test_data.data[target], range = [x_range, y_range], bins = 100);"
   ]
  },
  {
   "cell_type": "code",
   "execution_count": null,
   "id": "2f468d54",
   "metadata": {},
   "outputs": [],
   "source": [
    "predictions_numpy = predictions.squeeze().detach().numpy()\n",
    "\n",
    "random_variable = test_data.data[train_keys[3]].to_numpy()\n",
    "\n",
    "predictions_dict = {'x': random_variable, 'y': predictions_numpy}\n",
    "predictions_df = pd.DataFrame(data = predictions_dict)\n",
    "predictions_df['type'] = 'QLKNN'\n",
    "\n",
    "target_dict = {'x': random_variable, 'y': test_data.data[target]}\n",
    "target_df = pd.DataFrame(data = target_dict)\n",
    "target_df['type'] = 'target'\n",
    "\n",
    "plot_df = pd.concat([predictions_df.sample(5_000), target_df.sample(5_000)], axis = 0, ignore_index = True)\n",
    "\n",
    "plot_df"
   ]
  },
  {
   "cell_type": "code",
   "execution_count": null,
   "id": "abb421bf",
   "metadata": {},
   "outputs": [],
   "source": [
    "sns.jointplot(data = plot_df, x = 'x', y = 'y', hue = 'type', kind = 'kde')"
   ]
  },
  {
   "cell_type": "code",
   "execution_count": null,
   "id": "b17556b0",
   "metadata": {},
   "outputs": [],
   "source": [
    "trainer = Trainer()\n",
    "\n",
    "trainer.test(model = model, dataloaders = test_loader)"
   ]
  },
  {
   "cell_type": "code",
   "execution_count": null,
   "id": "cdbce3da",
   "metadata": {},
   "outputs": [],
   "source": []
  }
 ],
 "metadata": {
  "kernelspec": {
   "display_name": "Python 3 (ipykernel)",
   "language": "python",
   "name": "python3"
  },
  "language_info": {
   "codemirror_mode": {
    "name": "ipython",
    "version": 3
   },
   "file_extension": ".py",
   "mimetype": "text/x-python",
   "name": "python",
   "nbconvert_exporter": "python",
   "pygments_lexer": "ipython3",
   "version": "3.9.7"
  }
 },
 "nbformat": 4,
 "nbformat_minor": 5
}
