{
 "cells": [
  {
   "cell_type": "markdown",
   "id": "33210b17",
   "metadata": {},
   "source": [
    "### Required Modules"
   ]
  },
  {
   "cell_type": "code",
   "execution_count": 1,
   "id": "8aa0b0ae",
   "metadata": {},
   "outputs": [],
   "source": [
    "import numpy as np \n",
    "import pandas as pd\n",
    "import h5py as h5\n",
    "import seaborn as sns\n",
    "import tensorflow as tf\n",
    "import sys\n",
    "\n",
    "from sklearn.preprocessing import StandardScaler\n",
    "from sklearn.model_selection import train_test_split\n",
    "from sklearn.metrics import confusion_matrix\n",
    "from scripts.utils import train_keys"
   ]
  },
  {
   "cell_type": "code",
   "execution_count": 2,
   "id": "ecc2e79b",
   "metadata": {},
   "outputs": [],
   "source": [
    "import pickle\n",
    "import matplotlib.pyplot as plt\n",
    "import seaborn as sns"
   ]
  },
  {
   "cell_type": "markdown",
   "id": "7b2cf0fb",
   "metadata": {},
   "source": [
    "### Load Data "
   ]
  },
  {
   "cell_type": "code",
   "execution_count": 3,
   "id": "bd1c6aef",
   "metadata": {},
   "outputs": [],
   "source": [
    "train_data = pd.read_pickle(\"/share/rcifdata/jbarr/UKAEAGroupProject/data/train_data_clipped.pkl\")\n",
    "\n",
    "X_train, Y_train = train_data.iloc[:,:15].to_numpy(), train_data.iloc[:,-1].to_numpy()\n",
    "\n",
    "validation_data = pd.read_pickle(\"/share/rcifdata/jbarr/UKAEAGroupProject/data/valid_data_clipped.pkl\")\n",
    "\n",
    "X_val, Y_val = validation_data.iloc[:,:15].to_numpy(), validation_data.iloc[:,-1].to_numpy()"
   ]
  },
  {
   "cell_type": "code",
   "execution_count": 4,
   "id": "251d2185",
   "metadata": {},
   "outputs": [
    {
     "name": "stdout",
     "output_type": "stream",
     "text": [
      "(26715960, 15)\n"
     ]
    }
   ],
   "source": [
    "print(X_train.shape)"
   ]
  },
  {
   "cell_type": "code",
   "execution_count": 5,
   "id": "0ddc1a69",
   "metadata": {},
   "outputs": [],
   "source": [
    "# corr = X_train.corr()\n",
    "\n",
    "# plt.figure(figsize = (12,8))\n",
    "# sns.heatmap(corr, xticklabels = corr.columns, yticklabels = corr.columns, linewidths = .5, cmap = \"hot\")"
   ]
  },
  {
   "cell_type": "code",
   "execution_count": 6,
   "id": "fb9c2a54",
   "metadata": {},
   "outputs": [],
   "source": [
    "# standard scaler\n",
    "scaler = StandardScaler()\n",
    "scaler.fit(X_train)\n",
    "x_train = scaler.transform(X_train)\n",
    "x_val = scaler.transform (X_val)"
   ]
  },
  {
   "cell_type": "markdown",
   "id": "2406bbaa",
   "metadata": {},
   "source": [
    "###  Best Neural Network Classifier From Initial Grid Search\n",
    "\n",
    "**Initial Grid Search Parameters**\n",
    "\n",
    "Number of nodes: [5,10, 20, 30]\n",
    "\n",
    "Number of layers: [2,3,4]"
   ]
  },
  {
   "cell_type": "code",
   "execution_count": 7,
   "id": "3b51adaa",
   "metadata": {},
   "outputs": [],
   "source": [
    "file_path = '/share/rcifdata/jbarr/UKAEAGroupProject/grid_search/'\n",
    "trainings = []\n",
    "for i in range(336):\n",
    "    trial_dict = pickle.load(open(file_path+\"trial_\"+str(i)+\".pkl\", 'rb'))\n",
    "    trainings.append(trial_dict)"
   ]
  },
  {
   "cell_type": "code",
   "execution_count": 8,
   "id": "f8625509",
   "metadata": {},
   "outputs": [],
   "source": [
    "### calculate the number of parameters\n",
    "def model_params(nodes, n_inputs=15):\n",
    "    nodes.append(1)\n",
    "    params = 0\n",
    "    \n",
    "    # bottle neck, 0 if model doesn't include a bottle neck and 1 if the model does include one.\n",
    "    bottle_in = 0\n",
    "    bottle_hidden = 0\n",
    "    \n",
    "    # parameters from models\n",
    "    for i in range(len(nodes)):\n",
    "        if i == 0:\n",
    "            if nodes[i] < n_inputs: bottle_in = 1\n",
    "            params += n_inputs * nodes[i]\n",
    "        else:\n",
    "            params += nodes[i-1]* nodes[i]\n",
    "            \n",
    "            if nodes[i-1] < nodes[i]: bottle_hidden = 1\n",
    "    \n",
    "    # parameters from biases\n",
    "    for i in nodes: \n",
    "        params += i\n",
    "    return params, bottle_in, bottle_hidden"
   ]
  },
  {
   "cell_type": "code",
   "execution_count": 9,
   "id": "8f2add51",
   "metadata": {},
   "outputs": [],
   "source": [
    "assert model_params([2,2])[0] == 41"
   ]
  },
  {
   "cell_type": "code",
   "execution_count": 10,
   "id": "937a13a2",
   "metadata": {},
   "outputs": [],
   "source": [
    "# Find the best architecture\n",
    "best_trial = None \n",
    "best_val_acc = - sys.float_info.max\n",
    "val_accs = []\n",
    "n_params = []\n",
    "bottle_in = []\n",
    "bottle_hid = []\n",
    "\n",
    "for trial in trainings:\n",
    "    val_acc = trial[\"perfomance\"][1]\n",
    "    \n",
    "    val_accs.append(val_acc)\n",
    "    \n",
    "    n_param, bot_in, bot_hid  = model_params(list(trial['nodes']))\n",
    "    \n",
    "    n_params.append(n_param)\n",
    "    \n",
    "    bottle_in.append(bot_in)\n",
    "    bottle_hid.append(bot_hid)\n",
    "    \n",
    "    \n",
    "    \n",
    "    if val_acc > best_val_acc: \n",
    "        best_val_acc = val_acc\n",
    "        best_trial = trial\n",
    "        \n",
    "n_params = np.array(n_params)\n",
    "bottle_in = np.array(bottle_in)\n",
    "bottle_hid= np.array(bottle_hid)\n",
    "val_accs = np.array(val_accs)\n"
   ]
  },
  {
   "cell_type": "code",
   "execution_count": 11,
   "id": "fafb7613",
   "metadata": {},
   "outputs": [
    {
     "name": "stdout",
     "output_type": "stream",
     "text": [
      "Best Model\n",
      "\n",
      "Network: [30 30 30 30] \n",
      "\n",
      "Validation accuracy: 0.8433062434196472\n"
     ]
    }
   ],
   "source": [
    "print(\"Best Model\\n\")\n",
    "print(\"Network:\",best_trial[\"nodes\"],\"\\n\" )\n",
    "print(\"Validation accuracy:\", best_trial['perfomance'][1])"
   ]
  },
  {
   "cell_type": "code",
   "execution_count": 12,
   "id": "7a6c819b",
   "metadata": {},
   "outputs": [
    {
     "data": {
      "text/plain": [
       "Text(0, 0.5, 'Accuracy')"
      ]
     },
     "execution_count": 12,
     "metadata": {},
     "output_type": "execute_result"
    },
    {
     "data": {
      "image/png": "[encoded data removed]",
      "text/plain": [
       "<Figure size 432x288 with 1 Axes>"
      ]
     },
     "metadata": {
      "needs_background": "light"
     },
     "output_type": "display_data"
    }
   ],
   "source": [
    "plt.figure()\n",
    "plt.plot(best_trial[\"history\"][\"acc\"],color = 'blue')\n",
    "plt.title(\"Training Accuracy\")\n",
    "plt.xlabel(\"Epochs\")\n",
    "plt.ylabel(\"Accuracy\")"
   ]
  },
  {
   "cell_type": "code",
   "execution_count": 13,
   "id": "16ec0258",
   "metadata": {},
   "outputs": [
    {
     "data": {
      "text/plain": [
       "Text(0, 0.5, 'MSE')"
      ]
     },
     "execution_count": 13,
     "metadata": {},
     "output_type": "execute_result"
    },
    {
     "data": {
      "image/png": "[encoded data removed]",
      "text/plain": [
       "<Figure size 432x288 with 1 Axes>"
      ]
     },
     "metadata": {
      "needs_background": "light"
     },
     "output_type": "display_data"
    }
   ],
   "source": [
    "plt.figure()\n",
    "plt.plot(best_trial[\"history\"][\"loss\"], color = 'blue')\n",
    "plt.title(\"Training Loss Curve\")\n",
    "plt.xlabel(\"Epochs\")\n",
    "plt.ylabel(\"MSE\")"
   ]
  },
  {
   "cell_type": "code",
   "execution_count": 14,
   "id": "54b26d62",
   "metadata": {},
   "outputs": [
    {
     "data": {
      "text/plain": [
       "Text(0, 0.5, 'Frequency')"
      ]
     },
     "execution_count": 14,
     "metadata": {},
     "output_type": "execute_result"
    },
    {
     "data": {
      "image/png": "[encoded data removed]",
      "text/plain": [
       "<Figure size 432x288 with 1 Axes>"
      ]
     },
     "metadata": {
      "needs_background": "light"
     },
     "output_type": "display_data"
    }
   ],
   "source": [
    "plt.figure()\n",
    "plt.hist(val_accs, bins = 20, color = 'purple');\n",
    "plt.xlabel(\"Validation Accuracy\")\n",
    "plt.ylabel(\"Frequency\")"
   ]
  },
  {
   "cell_type": "code",
   "execution_count": 15,
   "id": "754a7a98",
   "metadata": {},
   "outputs": [
    {
     "data": {
      "text/plain": [
       "<matplotlib.legend.Legend at 0x7fb3948ceeb0>"
      ]
     },
     "execution_count": 15,
     "metadata": {},
     "output_type": "execute_result"
    },
    {
     "data": {
      "image/png": "[encoded data removed]",
      "text/plain": [
       "<Figure size 432x288 with 1 Axes>"
      ]
     },
     "metadata": {
      "needs_background": "light"
     },
     "output_type": "display_data"
    }
   ],
   "source": [
    "plt.figure()\n",
    "plt.plot(n_params[np.where(bottle_in == 0)], val_accs[np.where(bottle_in == 0)], '.', label = 'Normal')\n",
    "plt.plot(n_params[np.where(bottle_in == 1)], val_accs[np.where(bottle_in == 1)], '.', label = 'Input bn')\n",
    "plt.plot(n_params[np.where(bottle_hid == 1)], val_accs[np.where(bottle_hid == 1)], '.', label = 'Hidden bn')\n",
    "plt.xlabel(\"Number of Model Parameters\")\n",
    "plt.ylabel(\"Validation Accuracy\")\n",
    "plt.legend()"
   ]
  },
  {
   "cell_type": "markdown",
   "id": "18029aa4",
   "metadata": {},
   "source": [
    "### Grid Search Conclusion\n",
    "\n",
    "Looking at the plot above we can see that increasing the number of model parameters in general leads to an increase in the models validation accuracy, the graph looks as though it will plateau, but it also suggestes we haven't hit the peak, a further grid search of models with a higher number of parameters should be conducted."
   ]
  },
  {
   "cell_type": "markdown",
   "id": "637a2ce8",
   "metadata": {},
   "source": [
    "### Final classifier"
   ]
  },
  {
   "cell_type": "code",
   "execution_count": 16,
   "id": "6bdd9bb7",
   "metadata": {},
   "outputs": [],
   "source": [
    "def nn_classifier():\n",
    "    model = tf.keras.Sequential([\n",
    "    tf.keras.layers.Dense(30, activation = 'tanh'),\n",
    "    tf.keras.layers.Dropout(0.1),\n",
    "    tf.keras.layers.Dense(30, activation = 'tanh'),\n",
    "    tf.keras.layers.Dropout(0.1),\n",
    "    tf.keras.layers.Dense(30, activation = 'tanh'),\n",
    "    tf.keras.layers.Dropout(0.1),\n",
    "    tf.keras.layers.Dense(30, activation = 'tanh'),\n",
    "    tf.keras.layers.Dropout(0.1),\n",
    "    tf.keras.layers.Dense(1, activation = 'sigmoid')   \n",
    "    ])\n",
    "    return model"
   ]
  },
  {
   "cell_type": "code",
   "execution_count": 17,
   "id": "fd72645d",
   "metadata": {},
   "outputs": [
    {
     "name": "stderr",
     "output_type": "stream",
     "text": [
      "2022-03-10 18:35:10.917435: I tensorflow/compiler/jit/xla_cpu_device.cc:41] Not creating XLA devices, tf_xla_enable_xla_devices not set\n",
      "2022-03-10 18:35:10.918176: I tensorflow/core/platform/cpu_feature_guard.cc:142] This TensorFlow binary is optimized with oneAPI Deep Neural Network Library (oneDNN) to use the following CPU instructions in performance-critical operations:  SSE4.1 SSE4.2 AVX AVX2 AVX512F FMA\n",
      "To enable them in other operations, rebuild TensorFlow with the appropriate compiler flags.\n",
      "2022-03-10 18:35:10.918331: I tensorflow/core/common_runtime/process_util.cc:146] Creating new thread pool with default inter op setting: 2. Tune using inter_op_parallelism_threads for best performance.\n"
     ]
    }
   ],
   "source": [
    "model = nn_classifier()"
   ]
  },
  {
   "cell_type": "code",
   "execution_count": 18,
   "id": "de731df1",
   "metadata": {},
   "outputs": [],
   "source": [
    "model.compile(optimizer = 'adam', loss ='binary_crossentropy', metrics = 'acc')\n",
    "stop_early = tf.keras.callbacks.EarlyStopping(monitor='val_acc', patience=5)"
   ]
  },
  {
   "cell_type": "code",
   "execution_count": 19,
   "id": "45621c72",
   "metadata": {},
   "outputs": [
    {
     "name": "stderr",
     "output_type": "stream",
     "text": [
      "2022-03-10 18:35:33.798586: I tensorflow/compiler/mlir/mlir_graph_optimization_pass.cc:116] None of the MLIR optimization passes are enabled (registered 2)\n",
      "2022-03-10 18:35:33.813404: I tensorflow/core/platform/profile_utils/cpu_utils.cc:112] CPU Frequency: 2200000000 Hz\n"
     ]
    },
    {
     "name": "stdout",
     "output_type": "stream",
     "text": [
      "Epoch 1/50\n",
      "6523/6523 [==============================] - 347s 51ms/step - loss: 0.4837 - acc: 0.7460 - val_loss: 0.3819 - val_acc: 0.8157\n",
      "Epoch 2/50\n",
      "6523/6523 [==============================] - 275s 42ms/step - loss: 0.4049 - acc: 0.8011 - val_loss: 0.3720 - val_acc: 0.8217\n",
      "Epoch 3/50\n",
      "6523/6523 [==============================] - 252s 39ms/step - loss: 0.3969 - acc: 0.8060 - val_loss: 0.3682 - val_acc: 0.8240\n",
      "Epoch 4/50\n",
      "3928/6523 [=================>............] - ETA: 1:42 - loss: 0.3938 - acc: 0.8080"
     ]
    },
    {
     "ename": "KeyboardInterrupt",
     "evalue": "",
     "output_type": "error",
     "traceback": [
      "\u001b[0;31m---------------------------------------------------------------------------\u001b[0m",
      "\u001b[0;31mKeyboardInterrupt\u001b[0m                         Traceback (most recent call last)",
      "\u001b[0;32m/tmp/ipykernel_55103/597723551.py\u001b[0m in \u001b[0;36m<module>\u001b[0;34m\u001b[0m\n\u001b[0;32m----> 1\u001b[0;31m \u001b[0mhistory\u001b[0m \u001b[0;34m=\u001b[0m \u001b[0mmodel\u001b[0m\u001b[0;34m.\u001b[0m\u001b[0mfit\u001b[0m\u001b[0;34m(\u001b[0m\u001b[0mx_train\u001b[0m\u001b[0;34m,\u001b[0m \u001b[0mY_train\u001b[0m\u001b[0;34m,\u001b[0m \u001b[0mvalidation_data\u001b[0m \u001b[0;34m=\u001b[0m \u001b[0;34m(\u001b[0m\u001b[0mx_val\u001b[0m\u001b[0;34m,\u001b[0m \u001b[0mY_val\u001b[0m\u001b[0;34m)\u001b[0m\u001b[0;34m,\u001b[0m \u001b[0mbatch_size\u001b[0m \u001b[0;34m=\u001b[0m \u001b[0;36m4096\u001b[0m\u001b[0;34m,\u001b[0m \u001b[0mepochs\u001b[0m \u001b[0;34m=\u001b[0m\u001b[0;36m50\u001b[0m\u001b[0;34m,\u001b[0m \u001b[0mcallbacks\u001b[0m\u001b[0;34m=\u001b[0m\u001b[0;34m[\u001b[0m\u001b[0mstop_early\u001b[0m\u001b[0;34m]\u001b[0m\u001b[0;34m)\u001b[0m\u001b[0;34m\u001b[0m\u001b[0;34m\u001b[0m\u001b[0m\n\u001b[0m",
      "\u001b[0;32m~/.conda/envs/UKAEA/lib/python3.9/site-packages/tensorflow/python/keras/engine/training.py\u001b[0m in \u001b[0;36mfit\u001b[0;34m(self, x, y, batch_size, epochs, verbose, callbacks, validation_split, validation_data, shuffle, class_weight, sample_weight, initial_epoch, steps_per_epoch, validation_steps, validation_batch_size, validation_freq, max_queue_size, workers, use_multiprocessing)\u001b[0m\n\u001b[1;32m   1098\u001b[0m                 _r=1):\n\u001b[1;32m   1099\u001b[0m               \u001b[0mcallbacks\u001b[0m\u001b[0;34m.\u001b[0m\u001b[0mon_train_batch_begin\u001b[0m\u001b[0;34m(\u001b[0m\u001b[0mstep\u001b[0m\u001b[0;34m)\u001b[0m\u001b[0;34m\u001b[0m\u001b[0;34m\u001b[0m\u001b[0m\n\u001b[0;32m-> 1100\u001b[0;31m               \u001b[0mtmp_logs\u001b[0m \u001b[0;34m=\u001b[0m \u001b[0mself\u001b[0m\u001b[0;34m.\u001b[0m\u001b[0mtrain_function\u001b[0m\u001b[0;34m(\u001b[0m\u001b[0miterator\u001b[0m\u001b[0;34m)\u001b[0m\u001b[0;34m\u001b[0m\u001b[0;34m\u001b[0m\u001b[0m\n\u001b[0m\u001b[1;32m   1101\u001b[0m               \u001b[0;32mif\u001b[0m \u001b[0mdata_handler\u001b[0m\u001b[0;34m.\u001b[0m\u001b[0mshould_sync\u001b[0m\u001b[0;34m:\u001b[0m\u001b[0;34m\u001b[0m\u001b[0;34m\u001b[0m\u001b[0m\n\u001b[1;32m   1102\u001b[0m                 \u001b[0mcontext\u001b[0m\u001b[0;34m.\u001b[0m\u001b[0masync_wait\u001b[0m\u001b[0;34m(\u001b[0m\u001b[0;34m)\u001b[0m\u001b[0;34m\u001b[0m\u001b[0;34m\u001b[0m\u001b[0m\n",
      "\u001b[0;32m~/.conda/envs/UKAEA/lib/python3.9/site-packages/tensorflow/python/eager/def_function.py\u001b[0m in \u001b[0;36m__call__\u001b[0;34m(self, *args, **kwds)\u001b[0m\n\u001b[1;32m    826\u001b[0m     \u001b[0mtracing_count\u001b[0m \u001b[0;34m=\u001b[0m \u001b[0mself\u001b[0m\u001b[0;34m.\u001b[0m\u001b[0mexperimental_get_tracing_count\u001b[0m\u001b[0;34m(\u001b[0m\u001b[0;34m)\u001b[0m\u001b[0;34m\u001b[0m\u001b[0;34m\u001b[0m\u001b[0m\n\u001b[1;32m    827\u001b[0m     \u001b[0;32mwith\u001b[0m \u001b[0mtrace\u001b[0m\u001b[0;34m.\u001b[0m\u001b[0mTrace\u001b[0m\u001b[0;34m(\u001b[0m\u001b[0mself\u001b[0m\u001b[0;34m.\u001b[0m\u001b[0m_name\u001b[0m\u001b[0;34m)\u001b[0m \u001b[0;32mas\u001b[0m \u001b[0mtm\u001b[0m\u001b[0;34m:\u001b[0m\u001b[0;34m\u001b[0m\u001b[0;34m\u001b[0m\u001b[0m\n\u001b[0;32m--> 828\u001b[0;31m       \u001b[0mresult\u001b[0m \u001b[0;34m=\u001b[0m \u001b[0mself\u001b[0m\u001b[0;34m.\u001b[0m\u001b[0m_call\u001b[0m\u001b[0;34m(\u001b[0m\u001b[0;34m*\u001b[0m\u001b[0margs\u001b[0m\u001b[0;34m,\u001b[0m \u001b[0;34m**\u001b[0m\u001b[0mkwds\u001b[0m\u001b[0;34m)\u001b[0m\u001b[0;34m\u001b[0m\u001b[0;34m\u001b[0m\u001b[0m\n\u001b[0m\u001b[1;32m    829\u001b[0m       \u001b[0mcompiler\u001b[0m \u001b[0;34m=\u001b[0m \u001b[0;34m\"xla\"\u001b[0m \u001b[0;32mif\u001b[0m \u001b[0mself\u001b[0m\u001b[0;34m.\u001b[0m\u001b[0m_experimental_compile\u001b[0m \u001b[0;32melse\u001b[0m \u001b[0;34m\"nonXla\"\u001b[0m\u001b[0;34m\u001b[0m\u001b[0;34m\u001b[0m\u001b[0m\n\u001b[1;32m    830\u001b[0m       \u001b[0mnew_tracing_count\u001b[0m \u001b[0;34m=\u001b[0m \u001b[0mself\u001b[0m\u001b[0;34m.\u001b[0m\u001b[0mexperimental_get_tracing_count\u001b[0m\u001b[0;34m(\u001b[0m\u001b[0;34m)\u001b[0m\u001b[0;34m\u001b[0m\u001b[0;34m\u001b[0m\u001b[0m\n",
      "\u001b[0;32m~/.conda/envs/UKAEA/lib/python3.9/site-packages/tensorflow/python/eager/def_function.py\u001b[0m in \u001b[0;36m_call\u001b[0;34m(self, *args, **kwds)\u001b[0m\n\u001b[1;32m    853\u001b[0m       \u001b[0;31m# In this case we have created variables on the first call, so we run the\u001b[0m\u001b[0;34m\u001b[0m\u001b[0;34m\u001b[0m\u001b[0;34m\u001b[0m\u001b[0m\n\u001b[1;32m    854\u001b[0m       \u001b[0;31m# defunned version which is guaranteed to never create variables.\u001b[0m\u001b[0;34m\u001b[0m\u001b[0;34m\u001b[0m\u001b[0;34m\u001b[0m\u001b[0m\n\u001b[0;32m--> 855\u001b[0;31m       \u001b[0;32mreturn\u001b[0m \u001b[0mself\u001b[0m\u001b[0;34m.\u001b[0m\u001b[0m_stateless_fn\u001b[0m\u001b[0;34m(\u001b[0m\u001b[0;34m*\u001b[0m\u001b[0margs\u001b[0m\u001b[0;34m,\u001b[0m \u001b[0;34m**\u001b[0m\u001b[0mkwds\u001b[0m\u001b[0;34m)\u001b[0m  \u001b[0;31m# pylint: disable=not-callable\u001b[0m\u001b[0;34m\u001b[0m\u001b[0;34m\u001b[0m\u001b[0m\n\u001b[0m\u001b[1;32m    856\u001b[0m     \u001b[0;32melif\u001b[0m \u001b[0mself\u001b[0m\u001b[0;34m.\u001b[0m\u001b[0m_stateful_fn\u001b[0m \u001b[0;32mis\u001b[0m \u001b[0;32mnot\u001b[0m \u001b[0;32mNone\u001b[0m\u001b[0;34m:\u001b[0m\u001b[0;34m\u001b[0m\u001b[0;34m\u001b[0m\u001b[0m\n\u001b[1;32m    857\u001b[0m       \u001b[0;31m# Release the lock early so that multiple threads can perform the call\u001b[0m\u001b[0;34m\u001b[0m\u001b[0;34m\u001b[0m\u001b[0;34m\u001b[0m\u001b[0m\n",
      "\u001b[0;32m~/.conda/envs/UKAEA/lib/python3.9/site-packages/tensorflow/python/eager/function.py\u001b[0m in \u001b[0;36m__call__\u001b[0;34m(self, *args, **kwargs)\u001b[0m\n\u001b[1;32m   2940\u001b[0m       (graph_function,\n\u001b[1;32m   2941\u001b[0m        filtered_flat_args) = self._maybe_define_function(args, kwargs)\n\u001b[0;32m-> 2942\u001b[0;31m     return graph_function._call_flat(\n\u001b[0m\u001b[1;32m   2943\u001b[0m         filtered_flat_args, captured_inputs=graph_function.captured_inputs)  # pylint: disable=protected-access\n\u001b[1;32m   2944\u001b[0m \u001b[0;34m\u001b[0m\u001b[0m\n",
      "\u001b[0;32m~/.conda/envs/UKAEA/lib/python3.9/site-packages/tensorflow/python/eager/function.py\u001b[0m in \u001b[0;36m_call_flat\u001b[0;34m(self, args, captured_inputs, cancellation_manager)\u001b[0m\n\u001b[1;32m   1916\u001b[0m         and executing_eagerly):\n\u001b[1;32m   1917\u001b[0m       \u001b[0;31m# No tape is watching; skip to running the function.\u001b[0m\u001b[0;34m\u001b[0m\u001b[0;34m\u001b[0m\u001b[0;34m\u001b[0m\u001b[0m\n\u001b[0;32m-> 1918\u001b[0;31m       return self._build_call_outputs(self._inference_function.call(\n\u001b[0m\u001b[1;32m   1919\u001b[0m           ctx, args, cancellation_manager=cancellation_manager))\n\u001b[1;32m   1920\u001b[0m     forward_backward = self._select_forward_and_backward_functions(\n",
      "\u001b[0;32m~/.conda/envs/UKAEA/lib/python3.9/site-packages/tensorflow/python/eager/function.py\u001b[0m in \u001b[0;36mcall\u001b[0;34m(self, ctx, args, cancellation_manager)\u001b[0m\n\u001b[1;32m    553\u001b[0m       \u001b[0;32mwith\u001b[0m \u001b[0m_InterpolateFunctionError\u001b[0m\u001b[0;34m(\u001b[0m\u001b[0mself\u001b[0m\u001b[0;34m)\u001b[0m\u001b[0;34m:\u001b[0m\u001b[0;34m\u001b[0m\u001b[0;34m\u001b[0m\u001b[0m\n\u001b[1;32m    554\u001b[0m         \u001b[0;32mif\u001b[0m \u001b[0mcancellation_manager\u001b[0m \u001b[0;32mis\u001b[0m \u001b[0;32mNone\u001b[0m\u001b[0;34m:\u001b[0m\u001b[0;34m\u001b[0m\u001b[0;34m\u001b[0m\u001b[0m\n\u001b[0;32m--> 555\u001b[0;31m           outputs = execute.execute(\n\u001b[0m\u001b[1;32m    556\u001b[0m               \u001b[0mstr\u001b[0m\u001b[0;34m(\u001b[0m\u001b[0mself\u001b[0m\u001b[0;34m.\u001b[0m\u001b[0msignature\u001b[0m\u001b[0;34m.\u001b[0m\u001b[0mname\u001b[0m\u001b[0;34m)\u001b[0m\u001b[0;34m,\u001b[0m\u001b[0;34m\u001b[0m\u001b[0;34m\u001b[0m\u001b[0m\n\u001b[1;32m    557\u001b[0m               \u001b[0mnum_outputs\u001b[0m\u001b[0;34m=\u001b[0m\u001b[0mself\u001b[0m\u001b[0;34m.\u001b[0m\u001b[0m_num_outputs\u001b[0m\u001b[0;34m,\u001b[0m\u001b[0;34m\u001b[0m\u001b[0;34m\u001b[0m\u001b[0m\n",
      "\u001b[0;32m~/.conda/envs/UKAEA/lib/python3.9/site-packages/tensorflow/python/eager/execute.py\u001b[0m in \u001b[0;36mquick_execute\u001b[0;34m(op_name, num_outputs, inputs, attrs, ctx, name)\u001b[0m\n\u001b[1;32m     57\u001b[0m   \u001b[0;32mtry\u001b[0m\u001b[0;34m:\u001b[0m\u001b[0;34m\u001b[0m\u001b[0;34m\u001b[0m\u001b[0m\n\u001b[1;32m     58\u001b[0m     \u001b[0mctx\u001b[0m\u001b[0;34m.\u001b[0m\u001b[0mensure_initialized\u001b[0m\u001b[0;34m(\u001b[0m\u001b[0;34m)\u001b[0m\u001b[0;34m\u001b[0m\u001b[0;34m\u001b[0m\u001b[0m\n\u001b[0;32m---> 59\u001b[0;31m     tensors = pywrap_tfe.TFE_Py_Execute(ctx._handle, device_name, op_name,\n\u001b[0m\u001b[1;32m     60\u001b[0m                                         inputs, attrs, num_outputs)\n\u001b[1;32m     61\u001b[0m   \u001b[0;32mexcept\u001b[0m \u001b[0mcore\u001b[0m\u001b[0;34m.\u001b[0m\u001b[0m_NotOkStatusException\u001b[0m \u001b[0;32mas\u001b[0m \u001b[0me\u001b[0m\u001b[0;34m:\u001b[0m\u001b[0;34m\u001b[0m\u001b[0;34m\u001b[0m\u001b[0m\n",
      "\u001b[0;31mKeyboardInterrupt\u001b[0m: "
     ]
    }
   ],
   "source": [
    "history = model.fit(x_train, Y_train, validation_data = (x_val, Y_val), batch_size = 4096, epochs =50, callbacks=[stop_early])"
   ]
  },
  {
   "cell_type": "code",
   "execution_count": null,
   "id": "58ba4c63",
   "metadata": {},
   "outputs": [],
   "source": [
    "# !mkdir -p saved_model\n",
    "# model.save('saved_model/classifier_model')"
   ]
  },
  {
   "cell_type": "code",
   "execution_count": null,
   "id": "ca8ac323",
   "metadata": {},
   "outputs": [],
   "source": [
    "plt.figure()\n",
    "plt.plot(history.history['acc'], 'o', label = 'Train acc')\n",
    "plt.plot(history.history['val_acc'], 'o', label = 'Val acc')\n",
    "plt.xlabel('Epoch')\n",
    "plt.ylabel('Accuracy')\n",
    "plt.legend()"
   ]
  },
  {
   "cell_type": "code",
   "execution_count": null,
   "id": "e56127d7",
   "metadata": {},
   "outputs": [],
   "source": [
    "plt.figure()\n",
    "plt.plot(history.history['loss'], 'o', label = 'Train loss')\n",
    "plt.plot(history.history['val_loss'], 'o', label = 'Val loss')\n",
    "plt.xlabel('Epoch')\n",
    "plt.ylabel('Loss')\n",
    "plt.legend()"
   ]
  },
  {
   "cell_type": "markdown",
   "id": "e398f7d9",
   "metadata": {},
   "source": [
    "### Evaluate Model on Test Set"
   ]
  },
  {
   "cell_type": "code",
   "execution_count": null,
   "id": "7648b33f",
   "metadata": {},
   "outputs": [],
   "source": [
    "from sklearn.metrics import roc_curve"
   ]
  },
  {
   "cell_type": "code",
   "execution_count": null,
   "id": "98607833",
   "metadata": {},
   "outputs": [],
   "source": [
    "!ls /share/rcifdata/jbarr/UKAEAGroupProject/data/"
   ]
  },
  {
   "cell_type": "code",
   "execution_count": null,
   "id": "25260b99",
   "metadata": {},
   "outputs": [],
   "source": [
    "test_data = pd.read_pickle(\"/share/rcifdata/jbarr/UKAEAGroupProject/data/test_data_clipped.pkl\")\n",
    "\n",
    "X_test, Y_test = test_data.iloc[:,:15].to_numpy(), test_data.iloc[:,-1].to_numpy()"
   ]
  },
  {
   "cell_type": "code",
   "execution_count": null,
   "id": "0bdb9b16",
   "metadata": {},
   "outputs": [],
   "source": [
    "x_test = scaler.transform(X_test)"
   ]
  },
  {
   "cell_type": "code",
   "execution_count": null,
   "id": "66f92687",
   "metadata": {},
   "outputs": [],
   "source": [
    "predictions = model.predict(x_test)\n",
    "\n",
    "fpr, tpr, thresholds = roc_curve(Y_test, predictions)"
   ]
  },
  {
   "cell_type": "code",
   "execution_count": null,
   "id": "831a5a08",
   "metadata": {},
   "outputs": [],
   "source": [
    "from sklearn.metrics import roc_auc_score\n",
    "auc = roc_auc_score(Y_test, predictions)"
   ]
  },
  {
   "cell_type": "code",
   "execution_count": null,
   "id": "b9ca55ee",
   "metadata": {},
   "outputs": [],
   "source": [
    "plt.figure()\n",
    "plt.plot(fpr, tpr)\n",
    "random_class = np.arange(0,1,0.005)\n",
    "plt.plot(random_class, random_class, '--')\n",
    "plt.xlabel('False Positive Rate')\n",
    "plt.ylabel('Flase Negative Rate')\n",
    "plt.text(0.8, 0.2, f'auc = {auc: .2f}', fontsize=10)"
   ]
  },
  {
   "cell_type": "code",
   "execution_count": null,
   "id": "40cfb505",
   "metadata": {},
   "outputs": [],
   "source": [
    "test_pred = np.where(predictions < 0.5, predictions, 1)\n",
    "test_pred = np.where(predictions >= 0.5, test_pred, 0)"
   ]
  },
  {
   "cell_type": "code",
   "execution_count": null,
   "id": "86457a86",
   "metadata": {},
   "outputs": [],
   "source": [
    "n_positive = np.where(Y_test ==0)[0].shape[0]\n",
    "n_negative = np.where(Y_test ==1)[0].shape[0]\n",
    "div_arr = np.array([[n_positive, n_negative]]).T"
   ]
  },
  {
   "cell_type": "code",
   "execution_count": null,
   "id": "12713400",
   "metadata": {},
   "outputs": [],
   "source": [
    "con_mat = confusion_matrix(Y_test, test_pred, labels =[0,1])/div_arr\n",
    "sns.heatmap(con_mat, annot=True).set(title='Confusion Matrix', xlabel='Predicted', ylabel='Actual');"
   ]
  },
  {
   "cell_type": "markdown",
   "id": "fc73e3fd",
   "metadata": {},
   "source": [
    "### Distributions from classifier"
   ]
  },
  {
   "cell_type": "code",
   "execution_count": null,
   "id": "cea3e9d1",
   "metadata": {},
   "outputs": [],
   "source": [
    "preds = np.round(predictions).flatten()"
   ]
  },
  {
   "cell_type": "code",
   "execution_count": null,
   "id": "7d485338",
   "metadata": {},
   "outputs": [],
   "source": [
    "no_output = x_test[np.where(preds == 0)]\n",
    "yes_output = x_test[np.where(preds == 1)] \n",
    "assert no_output.shape[0] + yes_output.shape[0] == x_test.shape[0]"
   ]
  },
  {
   "cell_type": "code",
   "execution_count": null,
   "id": "b96807ce",
   "metadata": {},
   "outputs": [],
   "source": [
    "columns = list(train_data.iloc[:,:-1].columns)\n",
    "print(columns)"
   ]
  },
  {
   "cell_type": "code",
   "execution_count": null,
   "id": "9fcb7b4e",
   "metadata": {
    "scrolled": false
   },
   "outputs": [],
   "source": [
    "for i, column in enumerate(columns):\n",
    "    # find the mean and std \n",
    "    mean_no, mean_yes = np.mean(no_output[:,i]), np.mean(yes_output[:,i])\n",
    "    std_no, std_yes = np.std(no_output[:,i]), np.std(yes_output[:,i])\n",
    "    \n",
    "    no_lower, no_upper = (mean_no - 3*std_no), (mean_no + 3*std_no)\n",
    "    yes_lower, yes_upper = (mean_yes - 3*std_yes), (mean_yes + 3*std_yes)\n",
    "    \n",
    "    plt.figure()\n",
    "    plt.hist(no_output[:,i], histtype = 'step', color = 'lime',\n",
    "             label =\" No output\", density = True, bins =50, range = (no_lower, no_upper));\n",
    "    \n",
    "    plt.hist(yes_output[:,i], histtype = 'step', color = 'purple',\n",
    "             label = \"Output\", density = True, bins = 50, range = (yes_lower,yes_upper ));\n",
    "    plt.legend()\n",
    "    plt.xlabel(column)"
   ]
  },
  {
   "cell_type": "markdown",
   "id": "7298e5c4",
   "metadata": {},
   "source": [
    "# Train model with varying number of data points"
   ]
  },
  {
   "cell_type": "code",
   "execution_count": null,
   "id": "b368b3eb",
   "metadata": {},
   "outputs": [],
   "source": [
    "# def nn_classifier_big():\n",
    "#     model = tf.keras.Sequential([\n",
    "#     tf.keras.layers.Dense(64, activation = 'relu'),\n",
    "#     tf.keras.layers.Dropout(0.1),\n",
    "#     tf.keras.layers.Dense(64, activation = 'relu'),\n",
    "#     tf.keras.layers.Dropout(0.1),\n",
    "#     tf.keras.layers.Dense(64, activation = 'relu'),\n",
    "#     tf.keras.layers.Dropout(0.1),\n",
    "#     tf.keras.layers.Dense(64, activation = 'relu'),\n",
    "#     tf.keras.layers.Dropout(0.1),\n",
    "#     tf.keras.layers.Dense(64, activation = 'relu'),\n",
    "#     tf.keras.layers.Dropout(0.1),\n",
    "#     tf.keras.layers.Dense(1, activation = 'sigmoid')   \n",
    "#     ])\n",
    "#     return model\n",
    "def nn_classifier_big():\n",
    "    model = tf.keras.Sequential([\n",
    "    tf.keras.layers.Dense(150, activation = 'relu'),\n",
    "    tf.keras.layers.Dropout(0.1),\n",
    "    tf.keras.layers.Dense(75, activation = 'relu'),\n",
    "    tf.keras.layers.Dropout(0.1),\n",
    "    tf.keras.layers.Dense(30, activation = 'relu'),\n",
    "    tf.keras.layers.Dropout(0.1),\n",
    "    tf.keras.layers.Dense(1, activation = 'sigmoid')   \n",
    "    ])\n",
    "    return model"
   ]
  },
  {
   "cell_type": "code",
   "execution_count": null,
   "id": "1554d8ce",
   "metadata": {},
   "outputs": [],
   "source": [
    "val_indices = np.random.choice(x_val.shape[0], size = 100_000, replace=False)\n",
    "x_val_sample = x_val[val_indices]\n",
    "y_val_sample = Y_val[val_indices]"
   ]
  },
  {
   "cell_type": "code",
   "execution_count": null,
   "id": "ec988372",
   "metadata": {
    "scrolled": true
   },
   "outputs": [],
   "source": [
    "training_size = [100, 500, 1000, 2000, 5000,\n",
    "                 7500, 10_000, 12_500, 15_000, 20_000, 30_000, 50_000,\n",
    "                 100_000, 200_000, 500_000,\n",
    "                 1_000_000, x_train.shape[0]]\n",
    "train_losses = []\n",
    "val_losses = []\n",
    "\n",
    "train_accuracies = []\n",
    "val_accuracies = []\n",
    "\n",
    "permuted_idx = np.random.permutation(x_train.shape[0])\n",
    "permuted_x = x_train[permuted_idx]\n",
    "permuted_y = Y_train[permuted_idx]\n",
    "\n",
    "for size in training_size:\n",
    "\n",
    "    x_sample = permuted_x[:size]\n",
    "    y_sample = permuted_y[:size]\n",
    "    \n",
    "    batch_size = size if size <= 10_000 else 4096\n",
    "    \n",
    "    print(f\"Training model with {size} training points:\")\n",
    "    model = nn_classifier_big()\n",
    "    model.compile(optimizer = 'adam', loss = 'binary_crossentropy', metrics = 'acc')\n",
    "    stop_early = tf.keras.callbacks.EarlyStopping(monitor = 'val_acc', patience = 5)\n",
    "    history = model.fit(x_sample,\n",
    "                        y_sample,\n",
    "                        validation_data = (x_val_sample, y_val_sample),\n",
    "                        batch_size = batch_size,\n",
    "                        epochs = 100,\n",
    "                        callbacks = [stop_early])\n",
    "    \n",
    "    train_losses.append(history.history['loss'])\n",
    "    val_losses.append(history.history['val_loss'])\n",
    "    \n",
    "    train_accuracies.append(history.history['acc'])\n",
    "    val_accuracies.append(history.history['val_acc'])\n",
    "    \n",
    "    print(\"\\n \\n\")"
   ]
  },
  {
   "cell_type": "code",
   "execution_count": null,
   "id": "263ac942",
   "metadata": {},
   "outputs": [],
   "source": [
    "loss_ = [x[-1] for x in val_losses]\n",
    "acc_ = [x[-1] for x in val_accuracies]\n",
    "\n",
    "trainable_params = np.sum([np.prod(v.get_shape()) for v in model.trainable_weights])\n",
    "ratio = training_size / trainable_params\n",
    "\n",
    "\n",
    "mosaic = \"\"\"\n",
    "    A\n",
    "    A\n",
    "    B\n",
    "\"\"\"\n",
    "\n",
    "fig = plt.figure(constrained_layout= True, figsize = (12,8))\n",
    "\n",
    "ax_dict = fig.subplot_mosaic(mosaic)\n",
    "\n",
    "ax_dict[\"A\"].plot(training_size, acc_, \"-o\")\n",
    "ax_dict[\"A\"].set_xscale(\"log\");\n",
    "ax_dict[\"A\"].set_ylabel(\"Validation Accuracy\", size = 18);\n",
    "ax_dict[\"A\"].grid()\n",
    "\n",
    "ax_dict[\"B\"].plot(training_size, ratio, \"-o\", color = \"orange\")\n",
    "ax_dict[\"B\"].set_xscale(\"log\");\n",
    "ax_dict[\"B\"].set_yscale(\"log\");\n",
    "ax_dict[\"B\"].hlines(1, training_size[0], training_size[-1], linestyles = \"dashed\", color = \"k\")\n",
    "ax_dict[\"B\"].grid()\n",
    "ax_dict[\"B\"].set_ylabel(r\"$\\frac{Training\\ Points}{Number\\ of\\ Parameters}$\", size = 18);\n",
    "\n",
    "plt.xlabel(\"Number of Training Points\");\n"
   ]
  },
  {
   "cell_type": "code",
   "execution_count": null,
   "id": "a352cac7",
   "metadata": {},
   "outputs": [],
   "source": [
    "import shap"
   ]
  },
  {
   "cell_type": "code",
   "execution_count": null,
   "id": "a7905158",
   "metadata": {},
   "outputs": [],
   "source": [
    "x_train_df = pd.DataFrame(x_train, columns = train_keys)\n",
    "x_val_df = pd.DataFrame(x_val, columns = train_keys)"
   ]
  },
  {
   "cell_type": "code",
   "execution_count": null,
   "id": "59dce60e",
   "metadata": {},
   "outputs": [],
   "source": [
    "f = lambda x: model.predict(x)\n",
    "med = np.median(x_train, axis = 0).reshape((1,x_train.shape[1]))\n",
    "\n",
    "explainer = shap.Explainer(f, med)\n",
    "shap_values = explainer(x_val_df.iloc[:1000])\n"
   ]
  },
  {
   "cell_type": "code",
   "execution_count": null,
   "id": "ff1ab770",
   "metadata": {},
   "outputs": [],
   "source": [
    "shap.plots.beeswarm(shap_values, max_display = 20)"
   ]
  },
  {
   "cell_type": "code",
   "execution_count": null,
   "id": "263c08ef",
   "metadata": {},
   "outputs": [],
   "source": []
  }
 ],
 "metadata": {
  "kernelspec": {
   "display_name": "Python 3 (ipykernel)",
   "language": "python",
   "name": "python3"
  },
  "language_info": {
   "codemirror_mode": {
    "name": "ipython",
    "version": 3
   },
   "file_extension": ".py",
   "mimetype": "text/x-python",
   "name": "python",
   "nbconvert_exporter": "python",
   "pygments_lexer": "ipython3",
   "version": "3.9.0"
  }
 },
 "nbformat": 4,
 "nbformat_minor": 5
}
