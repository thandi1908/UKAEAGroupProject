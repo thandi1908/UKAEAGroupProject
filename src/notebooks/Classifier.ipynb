{
 "cells": [
  {
   "cell_type": "markdown",
   "id": "33210b17",
   "metadata": {},
   "source": [
    "### Required Modules"
   ]
  },
  {
   "cell_type": "code",
   "execution_count": null,
   "id": "8aa0b0ae",
   "metadata": {},
   "outputs": [],
   "source": [
    "import numpy as np \n",
    "import pandas as pd\n",
    "import h5py as h5\n",
    "import seaborn as sns\n",
    "import tensorflow as tf\n",
    "import sys\n",
    "\n",
    "from sklearn.preprocessing import StandardScaler\n",
    "from sklearn.model_selection import train_test_split\n",
    "from sklearn.metrics import confusion_matrix\n",
    "from scripts.utils import train_keys"
   ]
  },
  {
   "cell_type": "code",
   "execution_count": null,
   "id": "ecc2e79b",
   "metadata": {},
   "outputs": [],
   "source": [
    "import pickle\n",
    "import matplotlib.pyplot as plt\n",
    "import seaborn as sns"
   ]
  },
  {
   "cell_type": "markdown",
   "id": "7b2cf0fb",
   "metadata": {},
   "source": [
    "### Load Data "
   ]
  },
  {
   "cell_type": "code",
   "execution_count": null,
   "id": "bd1c6aef",
   "metadata": {},
   "outputs": [],
   "source": [
    "train_data = pd.read_pickle(\"/share/rcifdata/jbarr/UKAEAGroupProject/data/train_data_clipped.pkl\")\n",
    "\n",
    "X_train, Y_train = train_data.iloc[:,:15].to_numpy(), train_data.iloc[:,-1].to_numpy()\n",
    "\n",
    "validation_data = pd.read_pickle(\"/share/rcifdata/jbarr/UKAEAGroupProject/data/valid_data_clipped.pkl\")\n",
    "\n",
    "X_val, Y_val = validation_data.iloc[:,:15].to_numpy(), validation_data.iloc[:,-1].to_numpy()"
   ]
  },
  {
   "cell_type": "code",
   "execution_count": 4,
   "id": "251d2185",
   "metadata": {},
   "outputs": [
    {
     "name": "stdout",
     "output_type": "stream",
     "text": [
      "(26715960, 15)\n"
     ]
    }
   ],
   "source": [
    "print(X_train.shape)"
   ]
  },
  {
   "cell_type": "code",
   "execution_count": null,
   "id": "0ddc1a69",
   "metadata": {},
   "outputs": [],
   "source": [
    "# corr = X_train.corr()\n",
    "\n",
    "#plt.figure(figsize = (12,8))\n",
    "#sns.heatmap(corr, xticklabels = corr.columns, yticklabels = corr.columns, linewidths = .5, cmap = \"hot\")"
   ]
  },
  {
   "cell_type": "code",
   "execution_count": null,
   "id": "fb9c2a54",
   "metadata": {},
   "outputs": [],
   "source": [
    "# standard scaler\n",
    "scaler = StandardScaler()\n",
    "scaler.fit(X_train)\n",
    "x_train = scaler.transform(X_train)\n",
    "x_val = scaler.transform (X_val)"
   ]
  },
  {
   "cell_type": "markdown",
   "id": "2406bbaa",
   "metadata": {},
   "source": [
    "###  Best Neural Network Classifier From Initial Grid Search\n",
    "\n",
    "**Initial Grid Search Parameters**\n",
    "\n",
    "Number of nodes: [5,10, 20, 30]\n",
    "\n",
    "Number of layers: [2,3,4]"
   ]
  },
  {
   "cell_type": "code",
   "execution_count": 6,
   "id": "3b51adaa",
   "metadata": {},
   "outputs": [],
   "source": [
    "file_path = '/share/rcifdata/jbarr/UKAEAGroupProject/grid_search/'\n",
    "trainings = []\n",
    "for i in range(336):\n",
    "    trial_dict = pickle.load(open(file_path+\"trial_\"+str(i)+\".pkl\", 'rb'))\n",
    "    trainings.append(trial_dict)"
   ]
  },
  {
   "cell_type": "code",
   "execution_count": 7,
   "id": "f8625509",
   "metadata": {},
   "outputs": [],
   "source": [
    "### calculate the number of parameters\n",
    "def model_params(nodes, n_inputs=15):\n",
    "    nodes.append(1)\n",
    "    params = 0\n",
    "    \n",
    "    # bottle neck, 0 if model doesn't include a bottle neck and 1 if the model does include one.\n",
    "    bottle_in = 0\n",
    "    bottle_hidden = 0\n",
    "    \n",
    "    # parameters from models\n",
    "    for i in range(len(nodes)):\n",
    "        if i == 0:\n",
    "            if nodes[i] < n_inputs: bottle_in = 1\n",
    "            params += n_inputs * nodes[i]\n",
    "        else:\n",
    "            params += nodes[i-1]* nodes[i]\n",
    "            \n",
    "            if nodes[i-1] < nodes[i]: bottle_hidden = 1\n",
    "    \n",
    "    # parameters from biases\n",
    "    for i in nodes: \n",
    "        params += i\n",
    "    return params, bottle_in, bottle_hidden"
   ]
  },
  {
   "cell_type": "code",
   "execution_count": 8,
   "id": "8f2add51",
   "metadata": {},
   "outputs": [],
   "source": [
    "assert model_params([2,2])[0] == 41"
   ]
  },
  {
   "cell_type": "code",
   "execution_count": 9,
   "id": "937a13a2",
   "metadata": {},
   "outputs": [],
   "source": [
    "# Find the best architecture\n",
    "best_trial = None \n",
    "best_val_acc = - sys.float_info.max\n",
    "val_accs = []\n",
    "n_params = []\n",
    "bottle_in = []\n",
    "bottle_hid = []\n",
    "\n",
    "for trial in trainings:\n",
    "    val_acc = trial[\"perfomance\"][1]\n",
    "    \n",
    "    val_accs.append(val_acc)\n",
    "    \n",
    "    n_param, bot_in, bot_hid  = model_params(list(trial['nodes']))\n",
    "    \n",
    "    n_params.append(n_param)\n",
    "    \n",
    "    bottle_in.append(bot_in)\n",
    "    bottle_hid.append(bot_hid)\n",
    "    \n",
    "    \n",
    "    \n",
    "    if val_acc > best_val_acc: \n",
    "        best_val_acc = val_acc\n",
    "        best_trial = trial\n",
    "        \n",
    "n_params = np.array(n_params)\n",
    "bottle_in = np.array(bottle_in)\n",
    "bottle_hid= np.array(bottle_hid)\n",
    "val_accs = np.array(val_accs)\n"
   ]
  },
  {
   "cell_type": "code",
   "execution_count": 10,
   "id": "fafb7613",
   "metadata": {},
   "outputs": [
    {
     "name": "stdout",
     "output_type": "stream",
     "text": [
      "Best Model\n",
      "\n",
      "Network: [30 30 30 30] \n",
      "\n",
      "Validation accuracy: 0.8433062434196472\n"
     ]
    }
   ],
   "source": [
    "print(\"Best Model\\n\")\n",
    "print(\"Network:\",best_trial[\"nodes\"],\"\\n\" )\n",
    "print(\"Validation accuracy:\", best_trial['perfomance'][1])"
   ]
  },
  {
   "cell_type": "code",
   "execution_count": 11,
   "id": "7a6c819b",
   "metadata": {},
   "outputs": [
    {
     "data": {
      "text/plain": [
       "Text(0, 0.5, 'Accuracy')"
      ]
     },
     "execution_count": 11,
     "metadata": {},
     "output_type": "execute_result"
    },
    {
     "data": {
      "image/png": "[encoded data removed]",
      "text/plain": [
       "<Figure size 432x288 with 1 Axes>"
      ]
     },
     "metadata": {
      "needs_background": "light"
     },
     "output_type": "display_data"
    }
   ],
   "source": [
    "plt.figure()\n",
    "plt.plot(best_trial[\"history\"][\"acc\"],color = 'blue')\n",
    "plt.title(\"Training Accuracy\")\n",
    "plt.xlabel(\"Epochs\")\n",
    "plt.ylabel(\"Accuracy\")"
   ]
  },
  {
   "cell_type": "code",
   "execution_count": 12,
   "id": "16ec0258",
   "metadata": {},
   "outputs": [
    {
     "data": {
      "text/plain": [
       "Text(0, 0.5, 'MSE')"
      ]
     },
     "execution_count": 12,
     "metadata": {},
     "output_type": "execute_result"
    },
    {
     "data": {
      "image/png": "[encoded data removed]",
      "text/plain": [
       "<Figure size 432x288 with 1 Axes>"
      ]
     },
     "metadata": {
      "needs_background": "light"
     },
     "output_type": "display_data"
    }
   ],
   "source": [
    "plt.figure()\n",
    "plt.plot(best_trial[\"history\"][\"loss\"], color = 'blue')\n",
    "plt.title(\"Training Loss Curve\")\n",
    "plt.xlabel(\"Epochs\")\n",
    "plt.ylabel(\"MSE\")"
   ]
  },
  {
   "cell_type": "code",
   "execution_count": 13,
   "id": "54b26d62",
   "metadata": {},
   "outputs": [
    {
     "data": {
      "text/plain": [
       "Text(0, 0.5, 'Frequency')"
      ]
     },
     "execution_count": 13,
     "metadata": {},
     "output_type": "execute_result"
    },
    {
     "data": {
      "image/png": "[encoded data removed]",
      "text/plain": [
       "<Figure size 432x288 with 1 Axes>"
      ]
     },
     "metadata": {
      "needs_background": "light"
     },
     "output_type": "display_data"
    }
   ],
   "source": [
    "plt.figure()\n",
    "plt.hist(val_accs, bins = 20, color = 'purple');\n",
    "plt.xlabel(\"Validation Accuracy\")\n",
    "plt.ylabel(\"Frequency\")"
   ]
  },
  {
   "cell_type": "code",
   "execution_count": 14,
   "id": "754a7a98",
   "metadata": {},
   "outputs": [
    {
     "name": "stderr",
     "output_type": "stream",
     "text": [
      "<<<<<<< local\n"
     ]
    },
    {
     "name": "stderr",
     "output_type": "stream",
     "text": [
      "<<<<<<< local <modified: text/plain>\n"
     ]
    },
    {
     "data": {
      "text/plain": [
       "<matplotlib.legend.Legend at 0x7fb3948ceeb0>"
      ]
     },
     "execution_count": 15,
     "metadata": {},
     "output_type": "execute_result"
    },
    {
     "name": "stderr",
     "output_type": "stream",
     "text": [
      "=======\n"
     ]
    },
    {
     "name": "stderr",
     "output_type": "stream",
     "text": [
      ">>>>>>> remote <removed>\n"
     ]
    },
    {
     "name": "stderr",
     "output_type": "stream",
     "text": [
      "=======\n"
     ]
    },
    {
     "data": {
      "text/plain": [
       "<matplotlib.legend.Legend at 0x7f347954d4f0>"
      ]
     },
     "execution_count": 14,
     "metadata": {},
     "output_type": "execute_result"
    },
    {
     "data": {
      "image/png": "[encoded data removed]",
      "text/plain": [
       "<Figure size 432x288 with 1 Axes>"
      ]
     },
     "metadata": {
      "needs_background": "light"
     },
     "output_type": "display_data"
    },
    {
     "name": "stderr",
     "output_type": "stream",
     "text": [
      ">>>>>>> remote\n"
     ]
    }
   ],
   "source": [
    "plt.figure()\n",
    "plt.plot(n_params[np.where(bottle_in == 0)], val_accs[np.where(bottle_in == 0)], '.', label = 'Normal')\n",
    "plt.plot(n_params[np.where(bottle_in == 1)], val_accs[np.where(bottle_in == 1)], '.', label = 'Input bn')\n",
    "plt.plot(n_params[np.where(bottle_hid == 1)], val_accs[np.where(bottle_hid == 1)], '.', label = 'Hidden bn')\n",
    "plt.xlabel(\"Number of Model Parameters\")\n",
    "plt.ylabel(\"Validation Accuracy\")\n",
    "plt.legend()"
   ]
  },
  {
   "cell_type": "markdown",
   "id": "18029aa4",
   "metadata": {},
   "source": [
    "### Grid Search Conclusion\n",
    "\n",
    "Looking at the plot above we can see that increasing the number of model parameters in general leads to an increase in the models validation accuracy, the graph looks as though it will plateau, but it also suggestes we haven't hit the peak, a further grid search of models with a higher number of parameters should be conducted."
   ]
  },
  {
   "cell_type": "markdown",
   "id": "637a2ce8",
   "metadata": {},
   "source": [
    "### Final classifier"
   ]
  },
  {
   "cell_type": "code",
   "execution_count": 15,
   "id": "6bdd9bb7",
   "metadata": {},
   "outputs": [],
   "source": [
    "def nn_classifier():\n",
    "    model = tf.keras.Sequential([\n",
    "    tf.keras.layers.Dense(30, activation = 'tanh'),\n",
    "    tf.keras.layers.Dropout(0.1),\n",
    "    tf.keras.layers.Dense(30, activation = 'tanh'),\n",
    "    tf.keras.layers.Dropout(0.1),\n",
    "    tf.keras.layers.Dense(30, activation = 'tanh'),\n",
    "    tf.keras.layers.Dropout(0.1),\n",
    "    tf.keras.layers.Dense(30, activation = 'tanh'),\n",
    "    tf.keras.layers.Dropout(0.1),\n",
    "    tf.keras.layers.Dense(1, activation = 'sigmoid')   \n",
    "    ])\n",
    "    return model"
   ]
  },
  {
   "cell_type": "code",
   "execution_count": 16,
   "id": "fd72645d",
   "metadata": {},
   "outputs": [
    {
     "name": "stderr",
     "output_type": "stream",
     "text": [
      "<<<<<<< local\n"
     ]
    },
    {
     "name": "stderr",
     "output_type": "stream",
     "text": [
      "<<<<<<< local <modified: >\n"
     ]
    },
    {
     "name": "stderr",
     "output_type": "stream",
     "text": [
      "2022-03-10 18:35:10.917435: I tensorflow/compiler/jit/xla_cpu_device.cc:41] Not creating XLA devices, tf_xla_enable_xla_devices not set\n",
      "2022-03-10 18:35:10.918176: I tensorflow/core/platform/cpu_feature_guard.cc:142] This TensorFlow binary is optimized with oneAPI Deep Neural Network Library (oneDNN) to use the following CPU instructions in performance-critical operations:  SSE4.1 SSE4.2 AVX AVX2 AVX512F FMA\n",
      "To enable them in other operations, rebuild TensorFlow with the appropriate compiler flags.\n",
      "2022-03-10 18:35:10.918331: I tensorflow/core/common_runtime/process_util.cc:146] Creating new thread pool with default inter op setting: 2. Tune using inter_op_parallelism_threads for best performance.\n"
     ]
    },
    {
     "name": "stderr",
     "output_type": "stream",
     "text": [
      "=======\n"
     ]
    },
    {
     "name": "stderr",
     "output_type": "stream",
     "text": [
      ">>>>>>> remote <removed>\n"
     ]
    },
    {
     "name": "stderr",
     "output_type": "stream",
     "text": [
      "=======\n"
     ]
    },
    {
     "name": "stderr",
     "output_type": "stream",
     "text": [
      "2022-03-10 15:43:35.993493: I tensorflow/compiler/jit/xla_cpu_device.cc:41] Not creating XLA devices, tf_xla_enable_xla_devices not set\n",
      "2022-03-10 15:43:35.994074: I tensorflow/core/platform/cpu_feature_guard.cc:142] This TensorFlow binary is optimized with oneAPI Deep Neural Network Library (oneDNN) to use the following CPU instructions in performance-critical operations:  SSE4.1 SSE4.2 AVX AVX2 AVX512F FMA\n",
      "To enable them in other operations, rebuild TensorFlow with the appropriate compiler flags.\n",
      "2022-03-10 15:43:35.994205: I tensorflow/core/common_runtime/process_util.cc:146] Creating new thread pool with default inter op setting: 2. Tune using inter_op_parallelism_threads for best performance.\n"
     ]
    },
    {
     "name": "stderr",
     "output_type": "stream",
     "text": [
      ">>>>>>> remote\n"
     ]
    }
   ],
   "source": [
    "model = nn_classifier()"
   ]
  },
  {
   "cell_type": "code",
   "execution_count": 17,
   "id": "de731df1",
   "metadata": {},
   "outputs": [],
   "source": [
    "model.compile(optimizer = 'adam', loss ='binary_crossentropy', metrics = 'acc')\n",
    "stop_early = tf.keras.callbacks.EarlyStopping(monitor='val_acc', patience=5)"
   ]
  },
  {
   "cell_type": "code",
   "execution_count": 18,
   "id": "45621c72",
   "metadata": {},
   "outputs": [
    {
     "name": "stderr",
     "output_type": "stream",
     "text": [
      "<<<<<<< local\n"
     ]
    },
    {
     "name": "stderr",
     "output_type": "stream",
     "text": [
      "<<<<<<< local <modified: >\n"
     ]
    },
    {
     "name": "stderr",
     "output_type": "stream",
     "text": [
      "2022-03-10 18:35:33.798586: I tensorflow/compiler/mlir/mlir_graph_optimization_pass.cc:116] None of the MLIR optimization passes are enabled (registered 2)\n",
      "2022-03-10 18:35:33.813404: I tensorflow/core/platform/profile_utils/cpu_utils.cc:112] CPU Frequency: 2200000000 Hz\n"
     ]
    },
    {
     "name": "stderr",
     "output_type": "stream",
     "text": [
      "=======\n"
     ]
    },
    {
     "name": "stderr",
     "output_type": "stream",
     "text": [
      ">>>>>>> remote <removed>\n"
     ]
    },
    {
     "name": "stdout",
     "output_type": "stream",
     "text": [
      "Epoch 1/50\n",
      "6523/6523 [==============================] - 347s 51ms/step - loss: 0.4837 - acc: 0.7460 - val_loss: 0.3819 - val_acc: 0.8157\n",
      "Epoch 2/50\n",
      "6523/6523 [==============================] - 275s 42ms/step - loss: 0.4049 - acc: 0.8011 - val_loss: 0.3720 - val_acc: 0.8217\n",
      "Epoch 3/50\n",
      "6523/6523 [==============================] - 252s 39ms/step - loss: 0.3969 - acc: 0.8060 - val_loss: 0.3682 - val_acc: 0.8240\n",
      "Epoch 4/50\n",
      "3928/6523 [=================>............] - ETA: 1:42 - loss: 0.3938 - acc: 0.8080"
     ]
    },
    {
     "ename": "KeyboardInterrupt",
     "evalue": "",
     "output_type": "error",
     "traceback": [
      "\u001b[0;31m---------------------------------------------------------------------------\u001b[0m",
      "\u001b[0;31mKeyboardInterrupt\u001b[0m                         Traceback (most recent call last)",
      "\u001b[0;32m/tmp/ipykernel_55103/597723551.py\u001b[0m in \u001b[0;36m<module>\u001b[0;34m\u001b[0m\n\u001b[0;32m----> 1\u001b[0;31m \u001b[0mhistory\u001b[0m \u001b[0;34m=\u001b[0m \u001b[0mmodel\u001b[0m\u001b[0;34m.\u001b[0m\u001b[0mfit\u001b[0m\u001b[0;34m(\u001b[0m\u001b[0mx_train\u001b[0m\u001b[0;34m,\u001b[0m \u001b[0mY_train\u001b[0m\u001b[0;34m,\u001b[0m \u001b[0mvalidation_data\u001b[0m \u001b[0;34m=\u001b[0m \u001b[0;34m(\u001b[0m\u001b[0mx_val\u001b[0m\u001b[0;34m,\u001b[0m \u001b[0mY_val\u001b[0m\u001b[0;34m)\u001b[0m\u001b[0;34m,\u001b[0m \u001b[0mbatch_size\u001b[0m \u001b[0;34m=\u001b[0m \u001b[0;36m4096\u001b[0m\u001b[0;34m,\u001b[0m \u001b[0mepochs\u001b[0m \u001b[0;34m=\u001b[0m\u001b[0;36m50\u001b[0m\u001b[0;34m,\u001b[0m \u001b[0mcallbacks\u001b[0m\u001b[0;34m=\u001b[0m\u001b[0;34m[\u001b[0m\u001b[0mstop_early\u001b[0m\u001b[0;34m]\u001b[0m\u001b[0;34m)\u001b[0m\u001b[0;34m\u001b[0m\u001b[0;34m\u001b[0m\u001b[0m\n\u001b[0m",
      "\u001b[0;32m~/.conda/envs/UKAEA/lib/python3.9/site-packages/tensorflow/python/keras/engine/training.py\u001b[0m in \u001b[0;36mfit\u001b[0;34m(self, x, y, batch_size, epochs, verbose, callbacks, validation_split, validation_data, shuffle, class_weight, sample_weight, initial_epoch, steps_per_epoch, validation_steps, validation_batch_size, validation_freq, max_queue_size, workers, use_multiprocessing)\u001b[0m\n\u001b[1;32m   1098\u001b[0m                 _r=1):\n\u001b[1;32m   1099\u001b[0m               \u001b[0mcallbacks\u001b[0m\u001b[0;34m.\u001b[0m\u001b[0mon_train_batch_begin\u001b[0m\u001b[0;34m(\u001b[0m\u001b[0mstep\u001b[0m\u001b[0;34m)\u001b[0m\u001b[0;34m\u001b[0m\u001b[0;34m\u001b[0m\u001b[0m\n\u001b[0;32m-> 1100\u001b[0;31m               \u001b[0mtmp_logs\u001b[0m \u001b[0;34m=\u001b[0m \u001b[0mself\u001b[0m\u001b[0;34m.\u001b[0m\u001b[0mtrain_function\u001b[0m\u001b[0;34m(\u001b[0m\u001b[0miterator\u001b[0m\u001b[0;34m)\u001b[0m\u001b[0;34m\u001b[0m\u001b[0;34m\u001b[0m\u001b[0m\n\u001b[0m\u001b[1;32m   1101\u001b[0m               \u001b[0;32mif\u001b[0m \u001b[0mdata_handler\u001b[0m\u001b[0;34m.\u001b[0m\u001b[0mshould_sync\u001b[0m\u001b[0;34m:\u001b[0m\u001b[0;34m\u001b[0m\u001b[0;34m\u001b[0m\u001b[0m\n\u001b[1;32m   1102\u001b[0m                 \u001b[0mcontext\u001b[0m\u001b[0;34m.\u001b[0m\u001b[0masync_wait\u001b[0m\u001b[0;34m(\u001b[0m\u001b[0;34m)\u001b[0m\u001b[0;34m\u001b[0m\u001b[0;34m\u001b[0m\u001b[0m\n",
      "\u001b[0;32m~/.conda/envs/UKAEA/lib/python3.9/site-packages/tensorflow/python/eager/def_function.py\u001b[0m in \u001b[0;36m__call__\u001b[0;34m(self, *args, **kwds)\u001b[0m\n\u001b[1;32m    826\u001b[0m     \u001b[0mtracing_count\u001b[0m \u001b[0;34m=\u001b[0m \u001b[0mself\u001b[0m\u001b[0;34m.\u001b[0m\u001b[0mexperimental_get_tracing_count\u001b[0m\u001b[0;34m(\u001b[0m\u001b[0;34m)\u001b[0m\u001b[0;34m\u001b[0m\u001b[0;34m\u001b[0m\u001b[0m\n\u001b[1;32m    827\u001b[0m     \u001b[0;32mwith\u001b[0m \u001b[0mtrace\u001b[0m\u001b[0;34m.\u001b[0m\u001b[0mTrace\u001b[0m\u001b[0;34m(\u001b[0m\u001b[0mself\u001b[0m\u001b[0;34m.\u001b[0m\u001b[0m_name\u001b[0m\u001b[0;34m)\u001b[0m \u001b[0;32mas\u001b[0m \u001b[0mtm\u001b[0m\u001b[0;34m:\u001b[0m\u001b[0;34m\u001b[0m\u001b[0;34m\u001b[0m\u001b[0m\n\u001b[0;32m--> 828\u001b[0;31m       \u001b[0mresult\u001b[0m \u001b[0;34m=\u001b[0m \u001b[0mself\u001b[0m\u001b[0;34m.\u001b[0m\u001b[0m_call\u001b[0m\u001b[0;34m(\u001b[0m\u001b[0;34m*\u001b[0m\u001b[0margs\u001b[0m\u001b[0;34m,\u001b[0m \u001b[0;34m**\u001b[0m\u001b[0mkwds\u001b[0m\u001b[0;34m)\u001b[0m\u001b[0;34m\u001b[0m\u001b[0;34m\u001b[0m\u001b[0m\n\u001b[0m\u001b[1;32m    829\u001b[0m       \u001b[0mcompiler\u001b[0m \u001b[0;34m=\u001b[0m \u001b[0;34m\"xla\"\u001b[0m \u001b[0;32mif\u001b[0m \u001b[0mself\u001b[0m\u001b[0;34m.\u001b[0m\u001b[0m_experimental_compile\u001b[0m \u001b[0;32melse\u001b[0m \u001b[0;34m\"nonXla\"\u001b[0m\u001b[0;34m\u001b[0m\u001b[0;34m\u001b[0m\u001b[0m\n\u001b[1;32m    830\u001b[0m       \u001b[0mnew_tracing_count\u001b[0m \u001b[0;34m=\u001b[0m \u001b[0mself\u001b[0m\u001b[0;34m.\u001b[0m\u001b[0mexperimental_get_tracing_count\u001b[0m\u001b[0;34m(\u001b[0m\u001b[0;34m)\u001b[0m\u001b[0;34m\u001b[0m\u001b[0;34m\u001b[0m\u001b[0m\n",
      "\u001b[0;32m~/.conda/envs/UKAEA/lib/python3.9/site-packages/tensorflow/python/eager/def_function.py\u001b[0m in \u001b[0;36m_call\u001b[0;34m(self, *args, **kwds)\u001b[0m\n\u001b[1;32m    853\u001b[0m       \u001b[0;31m# In this case we have created variables on the first call, so we run the\u001b[0m\u001b[0;34m\u001b[0m\u001b[0;34m\u001b[0m\u001b[0;34m\u001b[0m\u001b[0m\n\u001b[1;32m    854\u001b[0m       \u001b[0;31m# defunned version which is guaranteed to never create variables.\u001b[0m\u001b[0;34m\u001b[0m\u001b[0;34m\u001b[0m\u001b[0;34m\u001b[0m\u001b[0m\n\u001b[0;32m--> 855\u001b[0;31m       \u001b[0;32mreturn\u001b[0m \u001b[0mself\u001b[0m\u001b[0;34m.\u001b[0m\u001b[0m_stateless_fn\u001b[0m\u001b[0;34m(\u001b[0m\u001b[0;34m*\u001b[0m\u001b[0margs\u001b[0m\u001b[0;34m,\u001b[0m \u001b[0;34m**\u001b[0m\u001b[0mkwds\u001b[0m\u001b[0;34m)\u001b[0m  \u001b[0;31m# pylint: disable=not-callable\u001b[0m\u001b[0;34m\u001b[0m\u001b[0;34m\u001b[0m\u001b[0m\n\u001b[0m\u001b[1;32m    856\u001b[0m     \u001b[0;32melif\u001b[0m \u001b[0mself\u001b[0m\u001b[0;34m.\u001b[0m\u001b[0m_stateful_fn\u001b[0m \u001b[0;32mis\u001b[0m \u001b[0;32mnot\u001b[0m \u001b[0;32mNone\u001b[0m\u001b[0;34m:\u001b[0m\u001b[0;34m\u001b[0m\u001b[0;34m\u001b[0m\u001b[0m\n\u001b[1;32m    857\u001b[0m       \u001b[0;31m# Release the lock early so that multiple threads can perform the call\u001b[0m\u001b[0;34m\u001b[0m\u001b[0;34m\u001b[0m\u001b[0;34m\u001b[0m\u001b[0m\n",
      "\u001b[0;32m~/.conda/envs/UKAEA/lib/python3.9/site-packages/tensorflow/python/eager/function.py\u001b[0m in \u001b[0;36m__call__\u001b[0;34m(self, *args, **kwargs)\u001b[0m\n\u001b[1;32m   2940\u001b[0m       (graph_function,\n\u001b[1;32m   2941\u001b[0m        filtered_flat_args) = self._maybe_define_function(args, kwargs)\n\u001b[0;32m-> 2942\u001b[0;31m     return graph_function._call_flat(\n\u001b[0m\u001b[1;32m   2943\u001b[0m         filtered_flat_args, captured_inputs=graph_function.captured_inputs)  # pylint: disable=protected-access\n\u001b[1;32m   2944\u001b[0m \u001b[0;34m\u001b[0m\u001b[0m\n",
      "\u001b[0;32m~/.conda/envs/UKAEA/lib/python3.9/site-packages/tensorflow/python/eager/function.py\u001b[0m in \u001b[0;36m_call_flat\u001b[0;34m(self, args, captured_inputs, cancellation_manager)\u001b[0m\n\u001b[1;32m   1916\u001b[0m         and executing_eagerly):\n\u001b[1;32m   1917\u001b[0m       \u001b[0;31m# No tape is watching; skip to running the function.\u001b[0m\u001b[0;34m\u001b[0m\u001b[0;34m\u001b[0m\u001b[0;34m\u001b[0m\u001b[0m\n\u001b[0;32m-> 1918\u001b[0;31m       return self._build_call_outputs(self._inference_function.call(\n\u001b[0m\u001b[1;32m   1919\u001b[0m           ctx, args, cancellation_manager=cancellation_manager))\n\u001b[1;32m   1920\u001b[0m     forward_backward = self._select_forward_and_backward_functions(\n",
      "\u001b[0;32m~/.conda/envs/UKAEA/lib/python3.9/site-packages/tensorflow/python/eager/function.py\u001b[0m in \u001b[0;36mcall\u001b[0;34m(self, ctx, args, cancellation_manager)\u001b[0m\n\u001b[1;32m    553\u001b[0m       \u001b[0;32mwith\u001b[0m \u001b[0m_InterpolateFunctionError\u001b[0m\u001b[0;34m(\u001b[0m\u001b[0mself\u001b[0m\u001b[0;34m)\u001b[0m\u001b[0;34m:\u001b[0m\u001b[0;34m\u001b[0m\u001b[0;34m\u001b[0m\u001b[0m\n\u001b[1;32m    554\u001b[0m         \u001b[0;32mif\u001b[0m \u001b[0mcancellation_manager\u001b[0m \u001b[0;32mis\u001b[0m \u001b[0;32mNone\u001b[0m\u001b[0;34m:\u001b[0m\u001b[0;34m\u001b[0m\u001b[0;34m\u001b[0m\u001b[0m\n\u001b[0;32m--> 555\u001b[0;31m           outputs = execute.execute(\n\u001b[0m\u001b[1;32m    556\u001b[0m               \u001b[0mstr\u001b[0m\u001b[0;34m(\u001b[0m\u001b[0mself\u001b[0m\u001b[0;34m.\u001b[0m\u001b[0msignature\u001b[0m\u001b[0;34m.\u001b[0m\u001b[0mname\u001b[0m\u001b[0;34m)\u001b[0m\u001b[0;34m,\u001b[0m\u001b[0;34m\u001b[0m\u001b[0;34m\u001b[0m\u001b[0m\n\u001b[1;32m    557\u001b[0m               \u001b[0mnum_outputs\u001b[0m\u001b[0;34m=\u001b[0m\u001b[0mself\u001b[0m\u001b[0;34m.\u001b[0m\u001b[0m_num_outputs\u001b[0m\u001b[0;34m,\u001b[0m\u001b[0;34m\u001b[0m\u001b[0;34m\u001b[0m\u001b[0m\n",
      "\u001b[0;32m~/.conda/envs/UKAEA/lib/python3.9/site-packages/tensorflow/python/eager/execute.py\u001b[0m in \u001b[0;36mquick_execute\u001b[0;34m(op_name, num_outputs, inputs, attrs, ctx, name)\u001b[0m\n\u001b[1;32m     57\u001b[0m   \u001b[0;32mtry\u001b[0m\u001b[0;34m:\u001b[0m\u001b[0;34m\u001b[0m\u001b[0;34m\u001b[0m\u001b[0m\n\u001b[1;32m     58\u001b[0m     \u001b[0mctx\u001b[0m\u001b[0;34m.\u001b[0m\u001b[0mensure_initialized\u001b[0m\u001b[0;34m(\u001b[0m\u001b[0;34m)\u001b[0m\u001b[0;34m\u001b[0m\u001b[0;34m\u001b[0m\u001b[0m\n\u001b[0;32m---> 59\u001b[0;31m     tensors = pywrap_tfe.TFE_Py_Execute(ctx._handle, device_name, op_name,\n\u001b[0m\u001b[1;32m     60\u001b[0m                                         inputs, attrs, num_outputs)\n\u001b[1;32m     61\u001b[0m   \u001b[0;32mexcept\u001b[0m \u001b[0mcore\u001b[0m\u001b[0;34m.\u001b[0m\u001b[0m_NotOkStatusException\u001b[0m \u001b[0;32mas\u001b[0m \u001b[0me\u001b[0m\u001b[0;34m:\u001b[0m\u001b[0;34m\u001b[0m\u001b[0;34m\u001b[0m\u001b[0m\n",
      "\u001b[0;31mKeyboardInterrupt\u001b[0m: "
     ]
    },
    {
     "name": "stderr",
     "output_type": "stream",
     "text": [
      "=======\n"
     ]
    },
    {
     "name": "stderr",
     "output_type": "stream",
     "text": [
      "2022-03-10 15:43:36.460777: I tensorflow/compiler/mlir/mlir_graph_optimization_pass.cc:116] None of the MLIR optimization passes are enabled (registered 2)\n",
      "2022-03-10 15:43:36.461623: I tensorflow/core/platform/profile_utils/cpu_utils.cc:112] CPU Frequency: 2200000000 Hz\n"
     ]
    },
    {
     "name": "stdout",
     "output_type": "stream",
     "text": [
      "Epoch 1/50\n",
      "816/816 [==============================] - 8s 9ms/step - loss: 0.5486 - acc: 0.6926 - val_loss: 0.4379 - val_acc: 0.7768\n",
      "Epoch 2/50\n",
      "816/816 [==============================] - 6s 8ms/step - loss: 0.4262 - acc: 0.7852 - val_loss: 0.3944 - val_acc: 0.8063\n",
      "Epoch 3/50\n",
      "816/816 [==============================] - 6s 8ms/step - loss: 0.3904 - acc: 0.8090 - val_loss: 0.3792 - val_acc: 0.8159\n",
      "Epoch 4/50\n",
      "816/816 [==============================] - 6s 8ms/step - loss: 0.3771 - acc: 0.8173 - val_loss: 0.3701 - val_acc: 0.8215\n",
      "Epoch 5/50\n",
      "816/816 [==============================] - 6s 8ms/step - loss: 0.3694 - acc: 0.8217 - val_loss: 0.3649 - val_acc: 0.8241\n",
      "Epoch 6/50\n",
      "816/816 [==============================] - 6s 7ms/step - loss: 0.3641 - acc: 0.8246 - val_loss: 0.3606 - val_acc: 0.8265\n",
      "Epoch 7/50\n",
      "816/816 [==============================] - 6s 7ms/step - loss: 0.3611 - acc: 0.8262 - val_loss: 0.3596 - val_acc: 0.8267\n",
      "Epoch 8/50\n",
      "816/816 [==============================] - 6s 8ms/step - loss: 0.3593 - acc: 0.8273 - val_loss: 0.3573 - val_acc: 0.8281\n",
      "Epoch 9/50\n",
      "816/816 [==============================] - 6s 7ms/step - loss: 0.3566 - acc: 0.8287 - val_loss: 0.3557 - val_acc: 0.8294\n",
      "Epoch 10/50\n",
      "816/816 [==============================] - 6s 7ms/step - loss: 0.3550 - acc: 0.8292 - val_loss: 0.3532 - val_acc: 0.8304\n",
      "Epoch 11/50\n",
      "816/816 [==============================] - 6s 7ms/step - loss: 0.3537 - acc: 0.8302 - val_loss: 0.3531 - val_acc: 0.8309\n",
      "Epoch 12/50\n",
      "816/816 [==============================] - 6s 7ms/step - loss: 0.3522 - acc: 0.8311 - val_loss: 0.3521 - val_acc: 0.8310\n",
      "Epoch 13/50\n",
      "816/816 [==============================] - 6s 8ms/step - loss: 0.3509 - acc: 0.8318 - val_loss: 0.3500 - val_acc: 0.8320\n",
      "Epoch 14/50\n",
      "816/816 [==============================] - 6s 7ms/step - loss: 0.3505 - acc: 0.8317 - val_loss: 0.3491 - val_acc: 0.8329\n",
      "Epoch 15/50\n",
      "816/816 [==============================] - 6s 7ms/step - loss: 0.3494 - acc: 0.8321 - val_loss: 0.3484 - val_acc: 0.8329\n",
      "Epoch 16/50\n",
      "816/816 [==============================] - 6s 7ms/step - loss: 0.3484 - acc: 0.8330 - val_loss: 0.3485 - val_acc: 0.8329\n",
      "Epoch 17/50\n",
      "816/816 [==============================] - 6s 7ms/step - loss: 0.3483 - acc: 0.8328 - val_loss: 0.3475 - val_acc: 0.8332\n",
      "Epoch 18/50\n",
      "816/816 [==============================] - 6s 7ms/step - loss: 0.3474 - acc: 0.8333 - val_loss: 0.3459 - val_acc: 0.8342\n",
      "Epoch 19/50\n",
      "816/816 [==============================] - 6s 7ms/step - loss: 0.3464 - acc: 0.8339 - val_loss: 0.3456 - val_acc: 0.8339\n",
      "Epoch 20/50\n",
      "816/816 [==============================] - 6s 7ms/step - loss: 0.3456 - acc: 0.8342 - val_loss: 0.3445 - val_acc: 0.8349\n",
      "Epoch 21/50\n",
      "816/816 [==============================] - 6s 7ms/step - loss: 0.3447 - acc: 0.8349 - val_loss: 0.3448 - val_acc: 0.8342\n",
      "Epoch 22/50\n",
      "816/816 [==============================] - 6s 7ms/step - loss: 0.3445 - acc: 0.8346 - val_loss: 0.3432 - val_acc: 0.8353\n",
      "Epoch 23/50\n",
      "816/816 [==============================] - 6s 7ms/step - loss: 0.3434 - acc: 0.8355 - val_loss: 0.3425 - val_acc: 0.8359\n",
      "Epoch 24/50\n",
      "816/816 [==============================] - 6s 7ms/step - loss: 0.3428 - acc: 0.8358 - val_loss: 0.3426 - val_acc: 0.8356\n",
      "Epoch 25/50\n",
      "816/816 [==============================] - 6s 7ms/step - loss: 0.3425 - acc: 0.8359 - val_loss: 0.3419 - val_acc: 0.8360\n",
      "Epoch 26/50\n",
      "816/816 [==============================] - 6s 7ms/step - loss: 0.3418 - acc: 0.8361 - val_loss: 0.3410 - val_acc: 0.8364\n",
      "Epoch 27/50\n",
      "816/816 [==============================] - 6s 7ms/step - loss: 0.3409 - acc: 0.8364 - val_loss: 0.3408 - val_acc: 0.8365\n",
      "Epoch 28/50\n",
      "816/816 [==============================] - 6s 7ms/step - loss: 0.3411 - acc: 0.8363 - val_loss: 0.3402 - val_acc: 0.8368\n",
      "Epoch 29/50\n",
      "816/816 [==============================] - 6s 7ms/step - loss: 0.3407 - acc: 0.8368 - val_loss: 0.3401 - val_acc: 0.8369\n",
      "Epoch 30/50\n",
      "816/816 [==============================] - 6s 7ms/step - loss: 0.3402 - acc: 0.8364 - val_loss: 0.3389 - val_acc: 0.8374\n",
      "Epoch 31/50\n",
      "816/816 [==============================] - 6s 7ms/step - loss: 0.3396 - acc: 0.8371 - val_loss: 0.3399 - val_acc: 0.8370\n",
      "Epoch 32/50\n",
      "816/816 [==============================] - 6s 8ms/step - loss: 0.3399 - acc: 0.8364 - val_loss: 0.3395 - val_acc: 0.8372\n",
      "Epoch 33/50\n",
      "816/816 [==============================] - 6s 7ms/step - loss: 0.3396 - acc: 0.8370 - val_loss: 0.3380 - val_acc: 0.8377\n",
      "Epoch 34/50\n",
      "816/816 [==============================] - 6s 7ms/step - loss: 0.3394 - acc: 0.8370 - val_loss: 0.3386 - val_acc: 0.8375\n",
      "Epoch 35/50\n",
      "816/816 [==============================] - 6s 7ms/step - loss: 0.3383 - acc: 0.8376 - val_loss: 0.3374 - val_acc: 0.8382\n",
      "Epoch 36/50\n",
      "816/816 [==============================] - 6s 7ms/step - loss: 0.3381 - acc: 0.8377 - val_loss: 0.3379 - val_acc: 0.8378\n",
      "Epoch 37/50\n",
      "816/816 [==============================] - 6s 7ms/step - loss: 0.3378 - acc: 0.8380 - val_loss: 0.3387 - val_acc: 0.8376\n",
      "Epoch 38/50\n",
      "816/816 [==============================] - 6s 7ms/step - loss: 0.3374 - acc: 0.8380 - val_loss: 0.3370 - val_acc: 0.8380\n",
      "Epoch 39/50\n",
      "816/816 [==============================] - 6s 7ms/step - loss: 0.3372 - acc: 0.8380 - val_loss: 0.3370 - val_acc: 0.8383\n",
      "Epoch 40/50\n",
      "816/816 [==============================] - 6s 7ms/step - loss: 0.3368 - acc: 0.8384 - val_loss: 0.3362 - val_acc: 0.8387\n",
      "Epoch 41/50\n",
      "816/816 [==============================] - 6s 7ms/step - loss: 0.3368 - acc: 0.8380 - val_loss: 0.3365 - val_acc: 0.8384\n",
      "Epoch 42/50\n",
      "816/816 [==============================] - 6s 7ms/step - loss: 0.3365 - acc: 0.8383 - val_loss: 0.3366 - val_acc: 0.8383\n",
      "Epoch 43/50\n",
      "816/816 [==============================] - 6s 7ms/step - loss: 0.3357 - acc: 0.8390 - val_loss: 0.3356 - val_acc: 0.8390\n",
      "Epoch 44/50\n",
      "816/816 [==============================] - 6s 7ms/step - loss: 0.3361 - acc: 0.8387 - val_loss: 0.3352 - val_acc: 0.8393\n",
      "Epoch 45/50\n",
      "816/816 [==============================] - 6s 7ms/step - loss: 0.3355 - acc: 0.8392 - val_loss: 0.3356 - val_acc: 0.8392\n",
      "Epoch 46/50\n",
      "816/816 [==============================] - 6s 7ms/step - loss: 0.3354 - acc: 0.8389 - val_loss: 0.3349 - val_acc: 0.8389\n",
      "Epoch 47/50\n",
      "816/816 [==============================] - 6s 7ms/step - loss: 0.3354 - acc: 0.8390 - val_loss: 0.3363 - val_acc: 0.8384\n",
      "Epoch 48/50\n",
      "816/816 [==============================] - 6s 7ms/step - loss: 0.3351 - acc: 0.8391 - val_loss: 0.3339 - val_acc: 0.8398\n",
      "Epoch 49/50\n",
      "816/816 [==============================] - 6s 7ms/step - loss: 0.3351 - acc: 0.8390 - val_loss: 0.3343 - val_acc: 0.8394\n",
      "Epoch 50/50\n",
      "816/816 [==============================] - 6s 7ms/step - loss: 0.3339 - acc: 0.8399 - val_loss: 0.3359 - val_acc: 0.8389\n"
     ]
    },
    {
     "name": "stderr",
     "output_type": "stream",
     "text": [
      ">>>>>>> remote\n"
     ]
    }
   ],
   "source": [
    "history = model.fit(x_train, Y_train, validation_data = (x_val, Y_val), batch_size = 4096, epochs =50, callbacks=[stop_early])"
   ]
  },
  {
   "cell_type": "code",
   "execution_count": 19,
   "id": "58ba4c63",
   "metadata": {},
   "outputs": [
    {
     "name": "stderr",
     "output_type": "stream",
     "text": [
      "2022-03-10 15:48:42.096748: W tensorflow/python/util/util.cc:348] Sets are not currently considered sequences, but this may change in the future, so consider avoiding using them.\n"
     ]
    },
    {
     "name": "stdout",
     "output_type": "stream",
     "text": [
      "INFO:tensorflow:Assets written to: saved_model/classifier_model/assets\n"
     ]
    }
   ],
   "source": [
    "# !mkdir -p saved_model\n",
    "# model.save('saved_model/classifier_model')"
   ]
  },
  {
   "cell_type": "code",
   "execution_count": 20,
   "id": "ca8ac323",
   "metadata": {},
   "outputs": [
    {
     "data": {
      "text/plain": [
       "<matplotlib.legend.Legend at 0x7f3455614940>"
      ]
     },
     "execution_count": 20,
     "metadata": {},
     "output_type": "execute_result"
    },
    {
     "data": {
      "image/png": "[encoded data removed]",
      "text/plain": [
       "<Figure size 432x288 with 1 Axes>"
      ]
     },
     "metadata": {
      "needs_background": "light"
     },
     "output_type": "display_data"
    }
   ],
   "source": [
    "plt.figure()\n",
    "plt.plot(history.history['acc'], 'o', label = 'Train acc')\n",
    "plt.plot(history.history['val_acc'], 'o', label = 'Val acc')\n",
    "plt.xlabel('Epoch')\n",
    "plt.ylabel('Accuracy')\n",
    "plt.legend()"
   ]
  },
  {
   "cell_type": "code",
   "execution_count": 21,
   "id": "e56127d7",
   "metadata": {},
   "outputs": [
    {
     "data": {
      "text/plain": [
       "<matplotlib.legend.Legend at 0x7f3455514340>"
      ]
     },
     "execution_count": 21,
     "metadata": {},
     "output_type": "execute_result"
    },
    {
     "data": {
      "image/png": "[encoded data removed]",
      "text/plain": [
       "<Figure size 432x288 with 1 Axes>"
      ]
     },
     "metadata": {
      "needs_background": "light"
     },
     "output_type": "display_data"
    }
   ],
   "source": [
    "plt.figure()\n",
    "plt.plot(history.history['loss'], 'o', label = 'Train loss')\n",
    "plt.plot(history.history['val_loss'], 'o', label = 'Val loss')\n",
    "plt.xlabel('Epoch')\n",
    "plt.ylabel('Loss')\n",
    "plt.legend()"
   ]
  },
  {
   "cell_type": "markdown",
   "id": "e398f7d9",
   "metadata": {},
   "source": [
    "### Evaluate Model on Test Set"
   ]
  },
  {
   "cell_type": "code",
   "execution_count": 22,
   "id": "7648b33f",
   "metadata": {},
   "outputs": [],
   "source": [
    "from sklearn.metrics import roc_curve"
   ]
  },
  {
   "cell_type": "code",
   "execution_count": null,
   "id": "98607833",
   "metadata": {},
   "outputs": [],
   "source": [
    "!ls /share/rcifdata/jbarr/UKAEAGroupProject/data/"
   ]
  },
  {
   "cell_type": "code",
   "execution_count": 23,
   "id": "25260b99",
   "metadata": {},
   "outputs": [],
   "source": [
    "test_data = pd.read_pickle(\"/share/rcifdata/jbarr/UKAEAGroupProject/data/test_data_clipped.pkl\")\n",
    "\n",
    "X_test, Y_test = test_data.iloc[:,:15].to_numpy(), test_data.iloc[:,-1].to_numpy()"
   ]
  },
  {
   "cell_type": "code",
   "execution_count": 24,
   "id": "0bdb9b16",
   "metadata": {},
   "outputs": [],
   "source": [
    "x_test = scaler.transform(X_test)"
   ]
  },
  {
   "cell_type": "code",
   "execution_count": 25,
   "id": "66f92687",
   "metadata": {},
   "outputs": [],
   "source": [
    "predictions = model.predict(x_test)\n",
    "\n",
    "fpr, tpr, thresholds = roc_curve(Y_test, predictions)"
   ]
  },
  {
   "cell_type": "code",
   "execution_count": 26,
   "id": "831a5a08",
   "metadata": {},
   "outputs": [],
   "source": [
    "from sklearn.metrics import roc_auc_score\n",
    "auc = roc_auc_score(Y_test, predictions)"
   ]
  },
  {
   "cell_type": "code",
   "execution_count": 27,
   "id": "b9ca55ee",
   "metadata": {},
   "outputs": [
    {
     "data": {
      "text/plain": [
       "Text(0.8, 0.2, 'auc =  0.92')"
      ]
     },
     "execution_count": 27,
     "metadata": {},
     "output_type": "execute_result"
    },
    {
     "data": {
      "image/png": "[encoded data removed]",
      "text/plain": [
       "<Figure size 432x288 with 1 Axes>"
      ]
     },
     "metadata": {
      "needs_background": "light"
     },
     "output_type": "display_data"
    }
   ],
   "source": [
    "plt.figure()\n",
    "plt.plot(fpr, tpr)\n",
    "random_class = np.arange(0,1,0.005)\n",
    "plt.plot(random_class, random_class, '--')\n",
    "plt.xlabel('False Positive Rate')\n",
    "plt.ylabel('Flase Negative Rate')\n",
    "plt.text(0.8, 0.2, f'auc = {auc: .2f}', fontsize=10)"
   ]
  },
  {
   "cell_type": "code",
   "execution_count": 28,
   "id": "40cfb505",
   "metadata": {},
   "outputs": [],
   "source": [
    "test_pred = np.where(predictions < 0.5, predictions, 1)\n",
    "test_pred = np.where(predictions >= 0.5, test_pred, 0)"
   ]
  },
  {
   "cell_type": "code",
   "execution_count": 29,
   "id": "86457a86",
   "metadata": {},
   "outputs": [],
   "source": [
    "n_positive = np.where(Y_test ==0)[0].shape[0]\n",
    "n_negative = np.where(Y_test ==1)[0].shape[0]\n",
    "div_arr = np.array([[n_positive, n_negative]]).T"
   ]
  },
  {
   "cell_type": "code",
   "execution_count": 30,
   "id": "12713400",
   "metadata": {},
   "outputs": [
    {
     "data": {
      "image/png": "[encoded data removed]",
      "text/plain": [
       "<Figure size 432x288 with 2 Axes>"
      ]
     },
     "metadata": {
      "needs_background": "light"
     },
     "output_type": "display_data"
    }
   ],
   "source": [
    "con_mat = confusion_matrix(Y_test, test_pred, labels =[0,1])/div_arr\n",
    "sns.heatmap(con_mat, annot=True).set(title='Confusion Matrix', xlabel='Predicted', ylabel='Actual');"
   ]
  },
  {
   "cell_type": "markdown",
   "id": "fc73e3fd",
   "metadata": {},
   "source": [
    "### Distributions from classifier"
   ]
  },
  {
   "cell_type": "code",
   "execution_count": 31,
   "id": "cea3e9d1",
   "metadata": {},
   "outputs": [],
   "source": [
    "preds = np.round(predictions).flatten()"
   ]
  },
  {
   "cell_type": "code",
   "execution_count": 32,
   "id": "7d485338",
   "metadata": {},
   "outputs": [],
   "source": [
    "no_output = x_test[np.where(preds == 0)]\n",
    "yes_output = x_test[np.where(preds == 1)] \n",
    "assert no_output.shape[0] + yes_output.shape[0] == x_test.shape[0]"
   ]
  },
  {
   "cell_type": "code",
   "execution_count": 33,
   "id": "b96807ce",
   "metadata": {},
   "outputs": [
    {
     "name": "stdout",
     "output_type": "stream",
     "text": [
      "['ane', 'ate', 'autor', 'machtor', 'x', 'zeff', 'gammae', 'q', 'smag', 'alpha', 'ani1', 'ati0', 'normni1', 'ti_te0', 'lognustar']\n"
     ]
    }
   ],
   "source": [
    "columns = list(train_data.iloc[:,:-1].columns)\n",
    "print(columns)"
   ]
  },
  {
   "cell_type": "code",
   "execution_count": 34,
   "id": "9fcb7b4e",
   "metadata": {
    "scrolled": false
   },
   "outputs": [
    {
     "data": {
      "image/png": "[encoded data removed]",
      "text/plain": [
       "<Figure size 432x288 with 1 Axes>"
      ]
     },
     "metadata": {
      "needs_background": "light"
     },
     "output_type": "display_data"
    },
    {
     "data": {
      "image/png": "[encoded data removed]",
      "text/plain": [
       "<Figure size 432x288 with 1 Axes>"
      ]
     },
     "metadata": {
      "needs_background": "light"
     },
     "output_type": "display_data"
    },
    {
     "data": {
      "image/png": "[encoded data removed]",
      "text/plain": [
       "<Figure size 432x288 with 1 Axes>"
      ]
     },
     "metadata": {
      "needs_background": "light"
     },
     "output_type": "display_data"
    },
    {
     "data": {
      "image/png": "[encoded data removed]",
      "text/plain": [
       "<Figure size 432x288 with 1 Axes>"
      ]
     },
     "metadata": {
      "needs_background": "light"
     },
     "output_type": "display_data"
    },
    {
     "data": {
      "image/png": "[encoded data removed]",
      "text/plain": [
       "<Figure size 432x288 with 1 Axes>"
      ]
     },
     "metadata": {
      "needs_background": "light"
     },
     "output_type": "display_data"
    },
    {
     "data": {
      "image/png": "[encoded data removed]",
      "text/plain": [
       "<Figure size 432x288 with 1 Axes>"
      ]
     },
     "metadata": {
      "needs_background": "light"
     },
     "output_type": "display_data"
    },
    {
     "data": {
      "image/png": "[encoded data removed]",
      "text/plain": [
       "<Figure size 432x288 with 1 Axes>"
      ]
     },
     "metadata": {
      "needs_background": "light"
     },
     "output_type": "display_data"
    },
    {
     "data": {
      "image/png": "[encoded data removed]",
      "text/plain": [
       "<Figure size 432x288 with 1 Axes>"
      ]
     },
     "metadata": {
      "needs_background": "light"
     },
     "output_type": "display_data"
    },
    {
     "data": {
      "image/png": "[encoded data removed]",
      "text/plain": [
       "<Figure size 432x288 with 1 Axes>"
      ]
     },
     "metadata": {
      "needs_background": "light"
     },
     "output_type": "display_data"
    },
    {
     "data": {
      "image/png": "[encoded data removed]",
      "text/plain": [
       "<Figure size 432x288 with 1 Axes>"
      ]
     },
     "metadata": {
      "needs_background": "light"
     },
     "output_type": "display_data"
    },
    {
     "data": {
      "image/png": "[encoded data removed]",
      "text/plain": [
       "<Figure size 432x288 with 1 Axes>"
      ]
     },
     "metadata": {
      "needs_background": "light"
     },
     "output_type": "display_data"
    },
    {
     "data": {
      "image/png": "[encoded data removed]",
      "text/plain": [
       "<Figure size 432x288 with 1 Axes>"
      ]
     },
     "metadata": {
      "needs_background": "light"
     },
     "output_type": "display_data"
    },
    {
     "data": {
      "image/png": "[encoded data removed]",
      "text/plain": [
       "<Figure size 432x288 with 1 Axes>"
      ]
     },
     "metadata": {
      "needs_background": "light"
     },
     "output_type": "display_data"
    },
    {
     "data": {
      "image/png": "[encoded data removed]",
      "text/plain": [
       "<Figure size 432x288 with 1 Axes>"
      ]
     },
     "metadata": {
      "needs_background": "light"
     },
     "output_type": "display_data"
    },
    {
     "data": {
      "image/png": "[encoded data removed]",
      "text/plain": [
       "<Figure size 432x288 with 1 Axes>"
      ]
     },
     "metadata": {
      "needs_background": "light"
     },
     "output_type": "display_data"
    }
   ],
   "source": [
    "for i, column in enumerate(columns):\n",
    "    # find the mean and std \n",
    "    mean_no, mean_yes = np.mean(no_output[:,i]), np.mean(yes_output[:,i])\n",
    "    std_no, std_yes = np.std(no_output[:,i]), np.std(yes_output[:,i])\n",
    "    \n",
    "    no_lower, no_upper = (mean_no - 3*std_no), (mean_no + 3*std_no)\n",
    "    yes_lower, yes_upper = (mean_yes - 3*std_yes), (mean_yes + 3*std_yes)\n",
    "    \n",
    "    plt.figure()\n",
    "    plt.hist(no_output[:,i], histtype = 'step', color = 'lime',\n",
    "             label =\" No output\", density = True, bins =50, range = (no_lower, no_upper));\n",
    "    \n",
    "    plt.hist(yes_output[:,i], histtype = 'step', color = 'purple',\n",
    "             label = \"Output\", density = True, bins = 50, range = (yes_lower,yes_upper ));\n",
    "    plt.legend()\n",
    "    plt.xlabel(column)"
   ]
  },
  {
   "cell_type": "markdown",
   "id": "7298e5c4",
   "metadata": {},
   "source": [
    "# Train model with varying number of data points"
   ]
  },
  {
   "cell_type": "code",
   "execution_count": 35,
   "id": "b368b3eb",
   "metadata": {},
   "outputs": [],
   "source": [
    "def nn_classifier_big():\n",
    "    model = tf.keras.Sequential([\n",
    "        tf.keras.layers.Dense(256, activation = 'relu'),\n",
    "        tf.keras.layers.Dropout(0.2),\n",
    "        tf.keras.layers.Dense(256, activation = 'relu'),\n",
    "        tf.keras.layers.Dropout(0.2),\n",
    "        tf.keras.layers.Dense(256, activation = 'relu'),\n",
    "        tf.keras.layers.Dropout(0.2),\n",
    "        tf.keras.layers.Dense(256,activation = 'relu'),\n",
    "        tf.keras.layers.Dropout(0.2),\n",
    "        tf.keras.layers.Dense(256, activation = 'relu'),\n",
    "        tf.keras.layers.Dropout(0.2),\n",
    "        tf.keras.layers.Dense(256, activation = 'relu'),\n",
    "        tf.keras.layers.Dropout(0.2),\n",
    "        tf.keras.layers.Dense(128, activation = 'relu'),\n",
    "        tf.keras.layers.Dropout(0.1),\n",
    "        tf.keras.layers.Dense(1, activation = 'sigmoid')   \n",
    "    ])\n",
    "    return model\n",
    "\n",
    "# def nn_classifier_big():\n",
    "#     model = tf.keras.Sequential([\n",
    "#     tf.keras.layers.Dense(30, activation = 'relu'),\n",
    "#     tf.keras.layers.Dropout(0.1),\n",
    "#     tf.keras.layers.Dense(30, activation = 'relu'),\n",
    "#     tf.keras.layers.Dropout(0.1),\n",
    "#     tf.keras.layers.Dense(30, activation = 'relu'),\n",
    "#     tf.keras.layers.Dropout(0.1),\n",
    "#     tf.keras.layers.Dense(1, activation = 'sigmoid')   \n",
    "#     ])\n",
    "#     return model"
   ]
  },
  {
   "cell_type": "code",
   "execution_count": null,
   "id": "1b63a742",
   "metadata": {},
   "outputs": [],
   "source": [
    "<<<<<<< REMOTE CELL DELETED >>>>>>>\n",
    "# def nn_classifier_big():\n",
    "#     model = tf.keras.Sequential([\n",
    "#     tf.keras.layers.Dense(64, activation = 'relu'),\n",
    "#     tf.keras.layers.Dropout(0.1),\n",
    "#     tf.keras.layers.Dense(64, activation = 'relu'),\n",
    "#     tf.keras.layers.Dropout(0.1),\n",
    "#     tf.keras.layers.Dense(64, activation = 'relu'),\n",
    "#     tf.keras.layers.Dropout(0.1),\n",
    "#     tf.keras.layers.Dense(64, activation = 'relu'),\n",
    "#     tf.keras.layers.Dropout(0.1),\n",
    "#     tf.keras.layers.Dense(64, activation = 'relu'),\n",
    "#     tf.keras.layers.Dropout(0.1),\n",
    "#     tf.keras.layers.Dense(1, activation = 'sigmoid')   \n",
    "#     ])\n",
    "#     return model\n",
    "def nn_classifier_big():\n",
    "    model = tf.keras.Sequential([\n",
    "    tf.keras.layers.Dense(150, activation = 'relu'),\n",
    "    tf.keras.layers.Dropout(0.1),\n",
    "    tf.keras.layers.Dense(75, activation = 'relu'),\n",
    "    tf.keras.layers.Dropout(0.1),\n",
    "    tf.keras.layers.Dense(30, activation = 'relu'),\n",
    "    tf.keras.layers.Dropout(0.1),\n",
    "    tf.keras.layers.Dense(1, activation = 'sigmoid')   \n",
    "    ])\n",
    "    return model"
   ]
  },
  {
   "cell_type": "code",
   "execution_count": null,
   "id": "1554d8ce",
   "metadata": {},
   "outputs": [],
   "source": [
    "val_indices = np.random.choice(x_val.shape[0], size = 100_000, replace=False)\n",
    "x_val_sample = x_val[val_indices]\n",
    "y_val_sample = Y_val[val_indices]"
   ]
  },
  {
   "cell_type": "code",
   "execution_count": null,
   "id": "ec988372",
   "metadata": {
    "scrolled": true
   },
   "outputs": [
    {
     "name": "stdout",
     "output_type": "stream",
     "text": [
      "Training model with 1000 training points:\n",
      "Epoch 1/100\n",
      "1/1 [==============================] - 3s 3s/step - loss: 0.6839 - acc: 0.6370 - val_loss: 0.6654 - val_acc: 0.6612\n",
      "Epoch 2/100\n",
      "1/1 [==============================] - 2s 2s/step - loss: 0.6661 - acc: 0.6490 - val_loss: 0.6505 - val_acc: 0.6612\n",
      "Epoch 3/100\n",
      "1/1 [==============================] - 2s 2s/step - loss: 0.6637 - acc: 0.6490 - val_loss: 0.6385 - val_acc: 0.6612\n",
      "Epoch 4/100\n",
      "1/1 [==============================] - 2s 2s/step - loss: 0.6561 - acc: 0.6490 - val_loss: 0.6283 - val_acc: 0.6612\n",
      "Epoch 5/100\n",
      "1/1 [==============================] - 2s 2s/step - loss: 0.6345 - acc: 0.6490 - val_loss: 0.6185 - val_acc: 0.6612\n",
      "Epoch 6/100\n",
      "1/1 [==============================] - 2s 2s/step - loss: 0.6272 - acc: 0.6490 - val_loss: 0.6086 - val_acc: 0.6612\n",
      "Epoch 7/100\n",
      "1/1 [==============================] - 1s 1s/step - loss: 0.6177 - acc: 0.6490 - val_loss: 0.5996 - val_acc: 0.6612\n",
      "Epoch 8/100\n",
      "1/1 [==============================] - 2s 2s/step - loss: 0.6071 - acc: 0.6490 - val_loss: 0.5937 - val_acc: 0.6612\n",
      "Epoch 9/100\n",
      "1/1 [==============================] - 2s 2s/step - loss: 0.6028 - acc: 0.6490 - val_loss: 0.5914 - val_acc: 0.6628\n",
      "Epoch 10/100\n",
      "1/1 [==============================] - 2s 2s/step - loss: 0.5951 - acc: 0.6480 - val_loss: 0.5902 - val_acc: 0.6665\n",
      "Epoch 11/100\n",
      "1/1 [==============================] - 2s 2s/step - loss: 0.5929 - acc: 0.6520 - val_loss: 0.5886 - val_acc: 0.6617\n",
      "Epoch 12/100\n",
      "1/1 [==============================] - 2s 2s/step - loss: 0.5851 - acc: 0.6610 - val_loss: 0.5871 - val_acc: 0.6565\n",
      "Epoch 13/100\n",
      "1/1 [==============================] - 2s 2s/step - loss: 0.5817 - acc: 0.6570 - val_loss: 0.5862 - val_acc: 0.6541\n",
      "Epoch 14/100\n",
      "1/1 [==============================] - 2s 2s/step - loss: 0.5803 - acc: 0.6730 - val_loss: 0.5862 - val_acc: 0.6553\n",
      "Epoch 15/100\n",
      "1/1 [==============================] - 2s 2s/step - loss: 0.5721 - acc: 0.6840 - val_loss: 0.5878 - val_acc: 0.6585\n",
      "Epoch 16/100\n",
      "1/1 [==============================] - 2s 2s/step - loss: 0.5696 - acc: 0.6760 - val_loss: 0.5892 - val_acc: 0.6618\n",
      "Epoch 17/100\n",
      "1/1 [==============================] - 2s 2s/step - loss: 0.5631 - acc: 0.6840 - val_loss: 0.5889 - val_acc: 0.6637\n",
      "Epoch 18/100\n",
      "1/1 [==============================] - 2s 2s/step - loss: 0.5657 - acc: 0.6850 - val_loss: 0.5862 - val_acc: 0.6636\n",
      "Epoch 19/100\n",
      "1/1 [==============================] - 2s 2s/step - loss: 0.5565 - acc: 0.6850 - val_loss: 0.5839 - val_acc: 0.6618\n",
      "Epoch 20/100\n",
      "1/1 [==============================] - 2s 2s/step - loss: 0.5627 - acc: 0.6880 - val_loss: 0.5830 - val_acc: 0.6626\n",
      "Epoch 21/100\n",
      "1/1 [==============================] - 2s 2s/step - loss: 0.5570 - acc: 0.6990 - val_loss: 0.5837 - val_acc: 0.6653\n",
      "Epoch 22/100\n",
      "1/1 [==============================] - 2s 2s/step - loss: 0.5575 - acc: 0.7010 - val_loss: 0.5847 - val_acc: 0.6666\n",
      "Epoch 23/100\n",
      "1/1 [==============================] - 2s 2s/step - loss: 0.5387 - acc: 0.7070 - val_loss: 0.5860 - val_acc: 0.6669\n",
      "Epoch 24/100\n",
      "1/1 [==============================] - 2s 2s/step - loss: 0.5520 - acc: 0.7000 - val_loss: 0.5859 - val_acc: 0.6674\n",
      "Epoch 25/100\n",
      "1/1 [==============================] - 2s 2s/step - loss: 0.5469 - acc: 0.7030 - val_loss: 0.5859 - val_acc: 0.6672\n",
      "Epoch 26/100\n",
      "1/1 [==============================] - 2s 2s/step - loss: 0.5526 - acc: 0.6920 - val_loss: 0.5867 - val_acc: 0.6673\n",
      "Epoch 27/100\n",
      "1/1 [==============================] - 2s 2s/step - loss: 0.5549 - acc: 0.6970 - val_loss: 0.5877 - val_acc: 0.6673\n",
      "Epoch 28/100\n",
      "1/1 [==============================] - 2s 2s/step - loss: 0.5498 - acc: 0.7110 - val_loss: 0.5882 - val_acc: 0.6689\n",
      "Epoch 29/100\n",
      "1/1 [==============================] - 2s 2s/step - loss: 0.5456 - acc: 0.7020 - val_loss: 0.5872 - val_acc: 0.6722\n",
      "Epoch 30/100\n",
      "1/1 [==============================] - 2s 2s/step - loss: 0.5403 - acc: 0.7100 - val_loss: 0.5855 - val_acc: 0.6753\n",
      "Epoch 31/100\n",
      "1/1 [==============================] - 2s 2s/step - loss: 0.5473 - acc: 0.7120 - val_loss: 0.5819 - val_acc: 0.6763\n",
      "Epoch 32/100\n",
      "1/1 [==============================] - 2s 2s/step - loss: 0.5346 - acc: 0.7180 - val_loss: 0.5790 - val_acc: 0.6771\n",
      "Epoch 33/100\n",
      "1/1 [==============================] - 2s 2s/step - loss: 0.5297 - acc: 0.7130 - val_loss: 0.5771 - val_acc: 0.6781\n",
      "Epoch 34/100\n",
      "1/1 [==============================] - 2s 2s/step - loss: 0.5403 - acc: 0.7100 - val_loss: 0.5760 - val_acc: 0.6802\n",
      "Epoch 35/100\n",
      "1/1 [==============================] - 2s 2s/step - loss: 0.5214 - acc: 0.7190 - val_loss: 0.5766 - val_acc: 0.6830\n",
      "Epoch 36/100\n",
      "1/1 [==============================] - 2s 2s/step - loss: 0.5266 - acc: 0.7280 - val_loss: 0.5773 - val_acc: 0.6843\n",
      "Epoch 37/100\n",
      "1/1 [==============================] - 2s 2s/step - loss: 0.5262 - acc: 0.7190 - val_loss: 0.5776 - val_acc: 0.6854\n",
      "Epoch 38/100\n",
      "1/1 [==============================] - 2s 2s/step - loss: 0.5155 - acc: 0.7310 - val_loss: 0.5778 - val_acc: 0.6848\n",
      "Epoch 39/100\n",
      "1/1 [==============================] - 2s 2s/step - loss: 0.5187 - acc: 0.7250 - val_loss: 0.5786 - val_acc: 0.6835\n",
      "Epoch 40/100\n",
      "1/1 [==============================] - 2s 2s/step - loss: 0.5182 - acc: 0.7270 - val_loss: 0.5796 - val_acc: 0.6861\n",
      "Epoch 41/100\n",
      "1/1 [==============================] - 2s 2s/step - loss: 0.5135 - acc: 0.7490 - val_loss: 0.5819 - val_acc: 0.6902\n",
      "Epoch 42/100\n",
      "1/1 [==============================] - 2s 2s/step - loss: 0.5170 - acc: 0.7260 - val_loss: 0.5805 - val_acc: 0.6907\n",
      "Epoch 43/100\n",
      "1/1 [==============================] - 2s 2s/step - loss: 0.5115 - acc: 0.7360 - val_loss: 0.5785 - val_acc: 0.6903\n",
      "Epoch 44/100\n",
      "1/1 [==============================] - 2s 2s/step - loss: 0.5180 - acc: 0.7430 - val_loss: 0.5769 - val_acc: 0.6900\n",
      "Epoch 45/100\n",
      "1/1 [==============================] - 2s 2s/step - loss: 0.5031 - acc: 0.7350 - val_loss: 0.5763 - val_acc: 0.6909\n",
      "Epoch 46/100\n",
      "1/1 [==============================] - 2s 2s/step - loss: 0.5067 - acc: 0.7450 - val_loss: 0.5769 - val_acc: 0.6917\n",
      "Epoch 47/100\n",
      "1/1 [==============================] - 2s 2s/step - loss: 0.5090 - acc: 0.7460 - val_loss: 0.5776 - val_acc: 0.6926\n",
      "Epoch 48/100\n",
      "1/1 [==============================] - 2s 2s/step - loss: 0.4914 - acc: 0.7600 - val_loss: 0.5810 - val_acc: 0.6929\n",
      "Epoch 49/100\n",
      "1/1 [==============================] - 2s 2s/step - loss: 0.4932 - acc: 0.7570 - val_loss: 0.5855 - val_acc: 0.6928\n",
      "Epoch 50/100\n",
      "1/1 [==============================] - 2s 2s/step - loss: 0.4894 - acc: 0.7640 - val_loss: 0.5879 - val_acc: 0.6908\n",
      "Epoch 51/100\n",
      "1/1 [==============================] - 2s 2s/step - loss: 0.4899 - acc: 0.7550 - val_loss: 0.5887 - val_acc: 0.6904\n",
      "Epoch 52/100\n",
      "1/1 [==============================] - 2s 2s/step - loss: 0.4925 - acc: 0.7520 - val_loss: 0.5877 - val_acc: 0.6888\n",
      "Epoch 53/100\n",
      "1/1 [==============================] - 2s 2s/step - loss: 0.4765 - acc: 0.7740 - val_loss: 0.5891 - val_acc: 0.6919\n",
      "Epoch 54/100\n",
      "1/1 [==============================] - 2s 2s/step - loss: 0.4807 - acc: 0.7610 - val_loss: 0.5952 - val_acc: 0.6949\n",
      "Epoch 55/100\n",
      "1/1 [==============================] - 2s 2s/step - loss: 0.4783 - acc: 0.7600 - val_loss: 0.6000 - val_acc: 0.6948\n",
      "Epoch 56/100\n",
      "1/1 [==============================] - 2s 2s/step - loss: 0.4877 - acc: 0.7580 - val_loss: 0.6002 - val_acc: 0.6867\n",
      "Epoch 57/100\n",
      "1/1 [==============================] - 2s 2s/step - loss: 0.4597 - acc: 0.7740 - val_loss: 0.6063 - val_acc: 0.6808\n",
      "Epoch 58/100\n",
      "1/1 [==============================] - 2s 2s/step - loss: 0.4592 - acc: 0.7760 - val_loss: 0.6133 - val_acc: 0.6862\n",
      "Epoch 59/100\n",
      "1/1 [==============================] - 2s 2s/step - loss: 0.4717 - acc: 0.7670 - val_loss: 0.6198 - val_acc: 0.6890\n",
      "Epoch 60/100\n",
      "1/1 [==============================] - 1s 1s/step - loss: 0.4506 - acc: 0.7800 - val_loss: 0.6224 - val_acc: 0.6906\n",
      "Epoch 61/100\n",
      "1/1 [==============================] - 1s 1s/step - loss: 0.4601 - acc: 0.7870 - val_loss: 0.6178 - val_acc: 0.6876\n",
      "Epoch 62/100\n",
      "1/1 [==============================] - 1s 1s/step - loss: 0.4568 - acc: 0.7770 - val_loss: 0.6153 - val_acc: 0.6834\n",
      "Epoch 63/100\n",
      "1/1 [==============================] - 2s 2s/step - loss: 0.4557 - acc: 0.7910 - val_loss: 0.6158 - val_acc: 0.6864\n",
      "Epoch 64/100\n",
      "1/1 [==============================] - 2s 2s/step - loss: 0.4522 - acc: 0.7850 - val_loss: 0.6200 - val_acc: 0.6902\n",
      "Epoch 65/100\n",
      "1/1 [==============================] - 1s 1s/step - loss: 0.4574 - acc: 0.7780 - val_loss: 0.6234 - val_acc: 0.6914\n",
      "Epoch 66/100\n",
      "1/1 [==============================] - 1s 1s/step - loss: 0.4521 - acc: 0.7770 - val_loss: 0.6243 - val_acc: 0.6919\n",
      "Epoch 67/100\n",
      "1/1 [==============================] - 1s 1s/step - loss: 0.4419 - acc: 0.7920 - val_loss: 0.6269 - val_acc: 0.6871\n",
      "Epoch 68/100\n",
      "1/1 [==============================] - 2s 2s/step - loss: 0.4494 - acc: 0.7760 - val_loss: 0.6315 - val_acc: 0.6856\n",
      "Epoch 69/100\n",
      "1/1 [==============================] - 2s 2s/step - loss: 0.4413 - acc: 0.7990 - val_loss: 0.6334 - val_acc: 0.6885\n",
      "Epoch 70/100\n",
      "1/1 [==============================] - 2s 2s/step - loss: 0.4410 - acc: 0.7970 - val_loss: 0.6329 - val_acc: 0.6915\n",
      "Epoch 71/100\n",
      "1/1 [==============================] - 2s 2s/step - loss: 0.4330 - acc: 0.7900 - val_loss: 0.6348 - val_acc: 0.6929\n",
      "Epoch 72/100\n",
      "1/1 [==============================] - 2s 2s/step - loss: 0.4322 - acc: 0.7950 - val_loss: 0.6331 - val_acc: 0.6894\n",
      "Epoch 73/100\n",
      "1/1 [==============================] - 2s 2s/step - loss: 0.4341 - acc: 0.7930 - val_loss: 0.6345 - val_acc: 0.6820\n",
      "Epoch 74/100\n",
      "1/1 [==============================] - 2s 2s/step - loss: 0.4144 - acc: 0.8040 - val_loss: 0.6410 - val_acc: 0.6841\n",
      "Epoch 75/100\n",
      "1/1 [==============================] - 2s 2s/step - loss: 0.4350 - acc: 0.7930 - val_loss: 0.6512 - val_acc: 0.6897\n",
      "Epoch 76/100\n",
      "1/1 [==============================] - 2s 2s/step - loss: 0.4365 - acc: 0.7980 - val_loss: 0.6579 - val_acc: 0.6935\n",
      "Epoch 77/100\n",
      "1/1 [==============================] - 2s 2s/step - loss: 0.4293 - acc: 0.7930 - val_loss: 0.6553 - val_acc: 0.6915\n",
      "Epoch 78/100\n",
      "1/1 [==============================] - 1s 1s/step - loss: 0.4299 - acc: 0.7970 - val_loss: 0.6519 - val_acc: 0.6862\n",
      "Epoch 79/100\n",
      "1/1 [==============================] - 2s 2s/step - loss: 0.4258 - acc: 0.8050 - val_loss: 0.6507 - val_acc: 0.6874\n",
      "\n",
      " \n",
      "\n",
      "Training model with 2000 training points:\n",
      "Epoch 1/100\n",
      "1/1 [==============================] - 3s 3s/step - loss: 0.6998 - acc: 0.3770 - val_loss: 0.6818 - val_acc: 0.6612\n",
      "Epoch 2/100\n",
      "1/1 [==============================] - 2s 2s/step - loss: 0.6807 - acc: 0.6615 - val_loss: 0.6684 - val_acc: 0.6612\n",
      "Epoch 3/100\n",
      "1/1 [==============================] - 2s 2s/step - loss: 0.6659 - acc: 0.6610 - val_loss: 0.6546 - val_acc: 0.6612\n",
      "Epoch 4/100\n",
      "1/1 [==============================] - 2s 2s/step - loss: 0.6529 - acc: 0.6610 - val_loss: 0.6423 - val_acc: 0.6612\n",
      "Epoch 5/100\n",
      "1/1 [==============================] - 2s 2s/step - loss: 0.6505 - acc: 0.6610 - val_loss: 0.6302 - val_acc: 0.6612\n",
      "Epoch 6/100\n",
      "1/1 [==============================] - 2s 2s/step - loss: 0.6399 - acc: 0.6610 - val_loss: 0.6186 - val_acc: 0.6612\n",
      "Epoch 7/100\n",
      "1/1 [==============================] - 2s 2s/step - loss: 0.6250 - acc: 0.6610 - val_loss: 0.6095 - val_acc: 0.6612\n",
      "Epoch 8/100\n",
      "1/1 [==============================] - 2s 2s/step - loss: 0.6180 - acc: 0.6610 - val_loss: 0.6019 - val_acc: 0.6612\n",
      "Epoch 9/100\n",
      "1/1 [==============================] - 2s 2s/step - loss: 0.6056 - acc: 0.6610 - val_loss: 0.5949 - val_acc: 0.6612\n",
      "Epoch 10/100\n",
      "1/1 [==============================] - 2s 2s/step - loss: 0.5963 - acc: 0.6610 - val_loss: 0.5892 - val_acc: 0.6612\n",
      "Epoch 11/100\n",
      "1/1 [==============================] - 2s 2s/step - loss: 0.5902 - acc: 0.6610 - val_loss: 0.5872 - val_acc: 0.6612\n",
      "Epoch 12/100\n",
      "1/1 [==============================] - 2s 2s/step - loss: 0.5876 - acc: 0.6610 - val_loss: 0.5869 - val_acc: 0.6612\n",
      "Epoch 13/100\n",
      "1/1 [==============================] - 2s 2s/step - loss: 0.5832 - acc: 0.6610 - val_loss: 0.5854 - val_acc: 0.6612\n",
      "Epoch 14/100\n",
      "1/1 [==============================] - 2s 2s/step - loss: 0.5837 - acc: 0.6610 - val_loss: 0.5830 - val_acc: 0.6612\n",
      "Epoch 15/100\n",
      "1/1 [==============================] - 2s 2s/step - loss: 0.5823 - acc: 0.6610 - val_loss: 0.5808 - val_acc: 0.6614\n",
      "Epoch 16/100\n",
      "1/1 [==============================] - 2s 2s/step - loss: 0.5798 - acc: 0.6610 - val_loss: 0.5786 - val_acc: 0.6619\n",
      "Epoch 17/100\n",
      "1/1 [==============================] - 2s 2s/step - loss: 0.5769 - acc: 0.6610 - val_loss: 0.5756 - val_acc: 0.6629\n",
      "Epoch 18/100\n",
      "1/1 [==============================] - 2s 2s/step - loss: 0.5749 - acc: 0.6625 - val_loss: 0.5729 - val_acc: 0.6641\n",
      "Epoch 19/100\n",
      "1/1 [==============================] - 2s 2s/step - loss: 0.5738 - acc: 0.6635 - val_loss: 0.5717 - val_acc: 0.6652\n",
      "Epoch 20/100\n",
      "1/1 [==============================] - 2s 2s/step - loss: 0.5674 - acc: 0.6615 - val_loss: 0.5714 - val_acc: 0.6658\n",
      "Epoch 21/100\n",
      "1/1 [==============================] - 2s 2s/step - loss: 0.5656 - acc: 0.6645 - val_loss: 0.5707 - val_acc: 0.6672\n",
      "Epoch 22/100\n",
      "1/1 [==============================] - 2s 2s/step - loss: 0.5709 - acc: 0.6640 - val_loss: 0.5694 - val_acc: 0.6704\n",
      "Epoch 23/100\n",
      "1/1 [==============================] - 2s 2s/step - loss: 0.5651 - acc: 0.6650 - val_loss: 0.5694 - val_acc: 0.6751\n",
      "Epoch 24/100\n",
      "1/1 [==============================] - 2s 2s/step - loss: 0.5623 - acc: 0.6750 - val_loss: 0.5693 - val_acc: 0.6773\n",
      "Epoch 25/100\n",
      "1/1 [==============================] - 2s 2s/step - loss: 0.5617 - acc: 0.6825 - val_loss: 0.5684 - val_acc: 0.6780\n",
      "Epoch 26/100\n",
      "1/1 [==============================] - 2s 2s/step - loss: 0.5620 - acc: 0.6825 - val_loss: 0.5678 - val_acc: 0.6776\n",
      "Epoch 27/100\n",
      "1/1 [==============================] - 2s 2s/step - loss: 0.5549 - acc: 0.6880 - val_loss: 0.5682 - val_acc: 0.6762\n",
      "Epoch 28/100\n",
      "1/1 [==============================] - 2s 2s/step - loss: 0.5561 - acc: 0.6910 - val_loss: 0.5680 - val_acc: 0.6748\n",
      "Epoch 29/100\n",
      "1/1 [==============================] - 2s 2s/step - loss: 0.5539 - acc: 0.6910 - val_loss: 0.5662 - val_acc: 0.6714\n",
      "Epoch 30/100\n",
      "1/1 [==============================] - 2s 2s/step - loss: 0.5575 - acc: 0.6875 - val_loss: 0.5644 - val_acc: 0.6669\n",
      "Epoch 31/100\n",
      "1/1 [==============================] - 2s 2s/step - loss: 0.5597 - acc: 0.6810 - val_loss: 0.5642 - val_acc: 0.6647\n",
      "Epoch 32/100\n",
      "1/1 [==============================] - 2s 2s/step - loss: 0.5552 - acc: 0.6820 - val_loss: 0.5639 - val_acc: 0.6650\n",
      "Epoch 33/100\n",
      "1/1 [==============================] - 2s 2s/step - loss: 0.5556 - acc: 0.6855 - val_loss: 0.5632 - val_acc: 0.6690\n",
      "Epoch 34/100\n",
      "1/1 [==============================] - 2s 2s/step - loss: 0.5549 - acc: 0.6955 - val_loss: 0.5631 - val_acc: 0.6728\n",
      "Epoch 35/100\n",
      "1/1 [==============================] - 2s 2s/step - loss: 0.5436 - acc: 0.6990 - val_loss: 0.5636 - val_acc: 0.6764\n",
      "Epoch 36/100\n",
      "1/1 [==============================] - 2s 2s/step - loss: 0.5489 - acc: 0.7035 - val_loss: 0.5618 - val_acc: 0.6774\n",
      "Epoch 37/100\n",
      "1/1 [==============================] - 2s 2s/step - loss: 0.5504 - acc: 0.7065 - val_loss: 0.5585 - val_acc: 0.6788\n",
      "Epoch 38/100\n",
      "1/1 [==============================] - 2s 2s/step - loss: 0.5430 - acc: 0.7075 - val_loss: 0.5563 - val_acc: 0.6808\n",
      "Epoch 39/100\n",
      "1/1 [==============================] - 2s 2s/step - loss: 0.5419 - acc: 0.7020 - val_loss: 0.5544 - val_acc: 0.6827\n",
      "Epoch 40/100\n",
      "1/1 [==============================] - 2s 2s/step - loss: 0.5368 - acc: 0.7105 - val_loss: 0.5529 - val_acc: 0.6848\n",
      "Epoch 41/100\n",
      "1/1 [==============================] - 2s 2s/step - loss: 0.5370 - acc: 0.7120 - val_loss: 0.5520 - val_acc: 0.6869\n",
      "Epoch 42/100\n",
      "1/1 [==============================] - 2s 2s/step - loss: 0.5412 - acc: 0.7075 - val_loss: 0.5506 - val_acc: 0.6880\n",
      "Epoch 43/100\n",
      "1/1 [==============================] - 2s 2s/step - loss: 0.5413 - acc: 0.7030 - val_loss: 0.5486 - val_acc: 0.6885\n",
      "Epoch 44/100\n",
      "1/1 [==============================] - 2s 2s/step - loss: 0.5332 - acc: 0.7190 - val_loss: 0.5476 - val_acc: 0.6884\n",
      "Epoch 45/100\n",
      "1/1 [==============================] - 2s 2s/step - loss: 0.5315 - acc: 0.7100 - val_loss: 0.5472 - val_acc: 0.6890\n",
      "Epoch 46/100\n",
      "1/1 [==============================] - 2s 2s/step - loss: 0.5241 - acc: 0.7215 - val_loss: 0.5468 - val_acc: 0.6912\n",
      "Epoch 47/100\n",
      "1/1 [==============================] - 2s 2s/step - loss: 0.5190 - acc: 0.7250 - val_loss: 0.5481 - val_acc: 0.6949\n",
      "Epoch 48/100\n"
     ]
    },
    {
     "name": "stdout",
     "output_type": "stream",
     "text": [
      "1/1 [==============================] - 2s 2s/step - loss: 0.5249 - acc: 0.7230 - val_loss: 0.5479 - val_acc: 0.6961\n",
      "Epoch 49/100\n",
      "1/1 [==============================] - 2s 2s/step - loss: 0.5245 - acc: 0.7200 - val_loss: 0.5454 - val_acc: 0.6973\n",
      "Epoch 50/100\n",
      "1/1 [==============================] - 2s 2s/step - loss: 0.5191 - acc: 0.7280 - val_loss: 0.5432 - val_acc: 0.6976\n",
      "Epoch 51/100\n",
      "1/1 [==============================] - 2s 2s/step - loss: 0.5149 - acc: 0.7285 - val_loss: 0.5414 - val_acc: 0.6988\n",
      "Epoch 52/100\n",
      "1/1 [==============================] - 2s 2s/step - loss: 0.5111 - acc: 0.7365 - val_loss: 0.5404 - val_acc: 0.7006\n",
      "Epoch 53/100\n",
      "1/1 [==============================] - 2s 2s/step - loss: 0.5130 - acc: 0.7380 - val_loss: 0.5406 - val_acc: 0.7020\n",
      "Epoch 54/100\n",
      "1/1 [==============================] - 2s 2s/step - loss: 0.5097 - acc: 0.7365 - val_loss: 0.5404 - val_acc: 0.7030\n",
      "Epoch 55/100\n",
      "1/1 [==============================] - 2s 2s/step - loss: 0.5084 - acc: 0.7410 - val_loss: 0.5401 - val_acc: 0.7036\n",
      "Epoch 56/100\n",
      "1/1 [==============================] - 2s 2s/step - loss: 0.5028 - acc: 0.7300 - val_loss: 0.5413 - val_acc: 0.7033\n",
      "Epoch 57/100\n",
      "1/1 [==============================] - 2s 2s/step - loss: 0.5039 - acc: 0.7340 - val_loss: 0.5430 - val_acc: 0.7045\n",
      "Epoch 58/100\n",
      "1/1 [==============================] - 2s 2s/step - loss: 0.5019 - acc: 0.7345 - val_loss: 0.5427 - val_acc: 0.7051\n",
      "Epoch 59/100\n",
      "1/1 [==============================] - 2s 2s/step - loss: 0.4968 - acc: 0.7410 - val_loss: 0.5412 - val_acc: 0.7054\n",
      "Epoch 60/100\n",
      "1/1 [==============================] - 2s 2s/step - loss: 0.4921 - acc: 0.7350 - val_loss: 0.5433 - val_acc: 0.7067\n",
      "Epoch 61/100\n",
      "1/1 [==============================] - 2s 2s/step - loss: 0.4952 - acc: 0.7370 - val_loss: 0.5442 - val_acc: 0.7074\n",
      "Epoch 62/100\n",
      "1/1 [==============================] - 2s 2s/step - loss: 0.4980 - acc: 0.7460 - val_loss: 0.5415 - val_acc: 0.7064\n",
      "Epoch 63/100\n",
      "1/1 [==============================] - 2s 2s/step - loss: 0.4976 - acc: 0.7435 - val_loss: 0.5413 - val_acc: 0.7059\n",
      "Epoch 64/100\n",
      "1/1 [==============================] - 2s 2s/step - loss: 0.5000 - acc: 0.7445 - val_loss: 0.5414 - val_acc: 0.7075\n",
      "Epoch 65/100\n",
      "1/1 [==============================] - 2s 2s/step - loss: 0.4927 - acc: 0.7515 - val_loss: 0.5426 - val_acc: 0.7099\n",
      "Epoch 66/100\n",
      "1/1 [==============================] - 2s 2s/step - loss: 0.4825 - acc: 0.7580 - val_loss: 0.5426 - val_acc: 0.7105\n",
      "Epoch 67/100\n",
      "1/1 [==============================] - 2s 2s/step - loss: 0.4830 - acc: 0.7545 - val_loss: 0.5391 - val_acc: 0.7094\n",
      "Epoch 68/100\n",
      "1/1 [==============================] - 2s 2s/step - loss: 0.4829 - acc: 0.7575 - val_loss: 0.5388 - val_acc: 0.7092\n",
      "Epoch 69/100\n",
      "1/1 [==============================] - 2s 2s/step - loss: 0.4952 - acc: 0.7360 - val_loss: 0.5388 - val_acc: 0.7114\n",
      "Epoch 70/100\n",
      "1/1 [==============================] - 2s 2s/step - loss: 0.4841 - acc: 0.7535 - val_loss: 0.5407 - val_acc: 0.7116\n",
      "Epoch 71/100\n",
      "1/1 [==============================] - 2s 2s/step - loss: 0.4809 - acc: 0.7525 - val_loss: 0.5412 - val_acc: 0.7112\n",
      "Epoch 72/100\n",
      "1/1 [==============================] - 2s 2s/step - loss: 0.4803 - acc: 0.7405 - val_loss: 0.5407 - val_acc: 0.7115\n",
      "Epoch 73/100\n",
      "1/1 [==============================] - 2s 2s/step - loss: 0.4777 - acc: 0.7635 - val_loss: 0.5420 - val_acc: 0.7082\n",
      "Epoch 74/100\n",
      "1/1 [==============================] - 2s 2s/step - loss: 0.4711 - acc: 0.7560 - val_loss: 0.5446 - val_acc: 0.7081\n",
      "Epoch 75/100\n",
      "1/1 [==============================] - 2s 2s/step - loss: 0.4723 - acc: 0.7580 - val_loss: 0.5496 - val_acc: 0.7107\n",
      "Epoch 76/100\n",
      "1/1 [==============================] - 2s 2s/step - loss: 0.4678 - acc: 0.7585 - val_loss: 0.5486 - val_acc: 0.7111\n",
      "Epoch 77/100\n",
      "1/1 [==============================] - 2s 2s/step - loss: 0.4657 - acc: 0.7665 - val_loss: 0.5466 - val_acc: 0.7116\n",
      "Epoch 78/100\n",
      "1/1 [==============================] - 2s 2s/step - loss: 0.4604 - acc: 0.7605 - val_loss: 0.5488 - val_acc: 0.7124\n",
      "Epoch 79/100\n",
      "1/1 [==============================] - 2s 2s/step - loss: 0.4615 - acc: 0.7685 - val_loss: 0.5552 - val_acc: 0.7136\n",
      "Epoch 80/100\n",
      "1/1 [==============================] - 2s 2s/step - loss: 0.4639 - acc: 0.7635 - val_loss: 0.5585 - val_acc: 0.7143\n",
      "Epoch 81/100\n",
      "1/1 [==============================] - 2s 2s/step - loss: 0.4564 - acc: 0.7700 - val_loss: 0.5559 - val_acc: 0.7139\n",
      "Epoch 82/100\n",
      "1/1 [==============================] - 2s 2s/step - loss: 0.4626 - acc: 0.7675 - val_loss: 0.5544 - val_acc: 0.7127\n",
      "Epoch 83/100\n",
      "1/1 [==============================] - 2s 2s/step - loss: 0.4541 - acc: 0.7655 - val_loss: 0.5540 - val_acc: 0.7111\n",
      "Epoch 84/100\n",
      "1/1 [==============================] - 2s 2s/step - loss: 0.4549 - acc: 0.7675 - val_loss: 0.5544 - val_acc: 0.7126\n",
      "Epoch 85/100\n",
      "1/1 [==============================] - 2s 2s/step - loss: 0.4502 - acc: 0.7780 - val_loss: 0.5582 - val_acc: 0.7151\n",
      "Epoch 86/100\n",
      "1/1 [==============================] - 2s 2s/step - loss: 0.4476 - acc: 0.7775 - val_loss: 0.5593 - val_acc: 0.7156\n",
      "Epoch 87/100\n",
      "1/1 [==============================] - 2s 2s/step - loss: 0.4409 - acc: 0.7820 - val_loss: 0.5594 - val_acc: 0.7136\n",
      "Epoch 88/100\n",
      "1/1 [==============================] - 2s 2s/step - loss: 0.4537 - acc: 0.7635 - val_loss: 0.5582 - val_acc: 0.7130\n",
      "Epoch 89/100\n",
      "1/1 [==============================] - 2s 2s/step - loss: 0.4459 - acc: 0.7780 - val_loss: 0.5581 - val_acc: 0.7150\n",
      "Epoch 90/100\n",
      "1/1 [==============================] - 2s 2s/step - loss: 0.4444 - acc: 0.7660 - val_loss: 0.5624 - val_acc: 0.7149\n",
      "Epoch 91/100\n",
      "1/1 [==============================] - 2s 2s/step - loss: 0.4467 - acc: 0.7750 - val_loss: 0.5618 - val_acc: 0.7154\n",
      "Epoch 92/100\n",
      "1/1 [==============================] - 2s 2s/step - loss: 0.4459 - acc: 0.7715 - val_loss: 0.5608 - val_acc: 0.7140\n",
      "Epoch 93/100\n",
      "1/1 [==============================] - 2s 2s/step - loss: 0.4364 - acc: 0.7885 - val_loss: 0.5635 - val_acc: 0.7148\n",
      "Epoch 94/100\n",
      "1/1 [==============================] - 2s 2s/step - loss: 0.4346 - acc: 0.7810 - val_loss: 0.5689 - val_acc: 0.7149\n",
      "Epoch 95/100\n",
      "1/1 [==============================] - 2s 2s/step - loss: 0.4374 - acc: 0.7750 - val_loss: 0.5694 - val_acc: 0.7150\n",
      "Epoch 96/100\n",
      "1/1 [==============================] - 2s 2s/step - loss: 0.4394 - acc: 0.7710 - val_loss: 0.5659 - val_acc: 0.7150\n",
      "Epoch 97/100\n",
      "1/1 [==============================] - 2s 2s/step - loss: 0.4347 - acc: 0.7840 - val_loss: 0.5680 - val_acc: 0.7139\n",
      "Epoch 98/100\n",
      "1/1 [==============================] - 2s 2s/step - loss: 0.4205 - acc: 0.7930 - val_loss: 0.5781 - val_acc: 0.7144\n",
      "Epoch 99/100\n",
      "1/1 [==============================] - 2s 2s/step - loss: 0.4328 - acc: 0.7845 - val_loss: 0.5814 - val_acc: 0.7142\n",
      "Epoch 100/100\n",
      "1/1 [==============================] - 2s 2s/step - loss: 0.4215 - acc: 0.8005 - val_loss: 0.5812 - val_acc: 0.7150\n",
      "\n",
      " \n",
      "\n",
      "Training model with 5000 training points:\n",
      "Epoch 1/100\n",
      "1/1 [==============================] - 3s 3s/step - loss: 0.6828 - acc: 0.6556 - val_loss: 0.6638 - val_acc: 0.6612\n",
      "Epoch 2/100\n",
      "1/1 [==============================] - 2s 2s/step - loss: 0.6616 - acc: 0.6594 - val_loss: 0.6454 - val_acc: 0.6612\n",
      "Epoch 3/100\n",
      "1/1 [==============================] - 2s 2s/step - loss: 0.6510 - acc: 0.6594 - val_loss: 0.6322 - val_acc: 0.6612\n",
      "Epoch 4/100\n",
      "1/1 [==============================] - 2s 2s/step - loss: 0.6441 - acc: 0.6594 - val_loss: 0.6211 - val_acc: 0.6612\n",
      "Epoch 5/100\n",
      "1/1 [==============================] - 2s 2s/step - loss: 0.6342 - acc: 0.6594 - val_loss: 0.6135 - val_acc: 0.6612\n",
      "Epoch 6/100\n",
      "1/1 [==============================] - 2s 2s/step - loss: 0.6198 - acc: 0.6594 - val_loss: 0.6046 - val_acc: 0.6612\n",
      "Epoch 7/100\n",
      "1/1 [==============================] - 2s 2s/step - loss: 0.6141 - acc: 0.6594 - val_loss: 0.5955 - val_acc: 0.6612\n",
      "Epoch 8/100\n",
      "1/1 [==============================] - 2s 2s/step - loss: 0.6029 - acc: 0.6594 - val_loss: 0.5900 - val_acc: 0.6612\n",
      "Epoch 9/100\n",
      "1/1 [==============================] - 2s 2s/step - loss: 0.5977 - acc: 0.6594 - val_loss: 0.5883 - val_acc: 0.6612\n",
      "Epoch 10/100\n",
      "1/1 [==============================] - 2s 2s/step - loss: 0.5925 - acc: 0.6594 - val_loss: 0.5852 - val_acc: 0.6612\n",
      "Epoch 11/100\n",
      "1/1 [==============================] - 2s 2s/step - loss: 0.5902 - acc: 0.6594 - val_loss: 0.5820 - val_acc: 0.6612\n",
      "Epoch 12/100\n",
      "1/1 [==============================] - 2s 2s/step - loss: 0.5881 - acc: 0.6596 - val_loss: 0.5801 - val_acc: 0.6613\n",
      "Epoch 13/100\n",
      "1/1 [==============================] - 2s 2s/step - loss: 0.5874 - acc: 0.6598 - val_loss: 0.5778 - val_acc: 0.6629\n",
      "Epoch 14/100\n",
      "1/1 [==============================] - 2s 2s/step - loss: 0.5851 - acc: 0.6612 - val_loss: 0.5751 - val_acc: 0.6643\n",
      "Epoch 15/100\n",
      "1/1 [==============================] - 2s 2s/step - loss: 0.5829 - acc: 0.6604 - val_loss: 0.5733 - val_acc: 0.6649\n",
      "Epoch 16/100\n",
      "1/1 [==============================] - 2s 2s/step - loss: 0.5800 - acc: 0.6612 - val_loss: 0.5715 - val_acc: 0.6651\n",
      "Epoch 17/100\n",
      "1/1 [==============================] - 2s 2s/step - loss: 0.5805 - acc: 0.6592 - val_loss: 0.5689 - val_acc: 0.6652\n",
      "Epoch 18/100\n",
      "1/1 [==============================] - 2s 2s/step - loss: 0.5750 - acc: 0.6600 - val_loss: 0.5669 - val_acc: 0.6655\n",
      "Epoch 19/100\n",
      "1/1 [==============================] - 2s 2s/step - loss: 0.5748 - acc: 0.6610 - val_loss: 0.5661 - val_acc: 0.6664\n",
      "Epoch 20/100\n",
      "1/1 [==============================] - 2s 2s/step - loss: 0.5739 - acc: 0.6664 - val_loss: 0.5654 - val_acc: 0.6670\n",
      "Epoch 21/100\n",
      "1/1 [==============================] - 2s 2s/step - loss: 0.5742 - acc: 0.6682 - val_loss: 0.5644 - val_acc: 0.6688\n",
      "Epoch 22/100\n",
      "1/1 [==============================] - 2s 2s/step - loss: 0.5705 - acc: 0.6658 - val_loss: 0.5631 - val_acc: 0.6718\n",
      "Epoch 23/100\n",
      "1/1 [==============================] - 2s 2s/step - loss: 0.5702 - acc: 0.6672 - val_loss: 0.5618 - val_acc: 0.6741\n",
      "Epoch 24/100\n",
      "1/1 [==============================] - 2s 2s/step - loss: 0.5677 - acc: 0.6804 - val_loss: 0.5605 - val_acc: 0.6764\n",
      "Epoch 25/100\n",
      "1/1 [==============================] - 2s 2s/step - loss: 0.5677 - acc: 0.6772 - val_loss: 0.5594 - val_acc: 0.6777\n",
      "Epoch 26/100\n",
      "1/1 [==============================] - 2s 2s/step - loss: 0.5658 - acc: 0.6832 - val_loss: 0.5586 - val_acc: 0.6772\n",
      "Epoch 27/100\n",
      "1/1 [==============================] - 2s 2s/step - loss: 0.5648 - acc: 0.6802 - val_loss: 0.5578 - val_acc: 0.6781\n",
      "Epoch 28/100\n",
      "1/1 [==============================] - 2s 2s/step - loss: 0.5647 - acc: 0.6780 - val_loss: 0.5563 - val_acc: 0.6795\n",
      "Epoch 29/100\n",
      "1/1 [==============================] - 2s 2s/step - loss: 0.5619 - acc: 0.6782 - val_loss: 0.5545 - val_acc: 0.6814\n",
      "Epoch 30/100\n",
      "1/1 [==============================] - 2s 2s/step - loss: 0.5627 - acc: 0.6790 - val_loss: 0.5524 - val_acc: 0.6838\n",
      "Epoch 31/100\n",
      "1/1 [==============================] - 2s 2s/step - loss: 0.5608 - acc: 0.6818 - val_loss: 0.5506 - val_acc: 0.6859\n",
      "Epoch 32/100\n",
      "1/1 [==============================] - 2s 2s/step - loss: 0.5593 - acc: 0.6866 - val_loss: 0.5492 - val_acc: 0.6881\n",
      "Epoch 33/100\n",
      "1/1 [==============================] - 2s 2s/step - loss: 0.5551 - acc: 0.6866 - val_loss: 0.5479 - val_acc: 0.6896\n",
      "Epoch 34/100\n",
      "1/1 [==============================] - 2s 2s/step - loss: 0.5519 - acc: 0.6852 - val_loss: 0.5461 - val_acc: 0.6910\n",
      "Epoch 35/100\n",
      "1/1 [==============================] - 2s 2s/step - loss: 0.5563 - acc: 0.6932 - val_loss: 0.5444 - val_acc: 0.6921\n",
      "Epoch 36/100\n",
      "1/1 [==============================] - 2s 2s/step - loss: 0.5528 - acc: 0.6996 - val_loss: 0.5426 - val_acc: 0.6940\n",
      "Epoch 37/100\n",
      "1/1 [==============================] - 2s 2s/step - loss: 0.5475 - acc: 0.6976 - val_loss: 0.5411 - val_acc: 0.6952\n",
      "Epoch 38/100\n",
      "1/1 [==============================] - 2s 2s/step - loss: 0.5530 - acc: 0.6886 - val_loss: 0.5398 - val_acc: 0.6968\n",
      "Epoch 39/100\n",
      "1/1 [==============================] - 2s 2s/step - loss: 0.5513 - acc: 0.6974 - val_loss: 0.5385 - val_acc: 0.6990\n",
      "Epoch 40/100\n",
      "1/1 [==============================] - 2s 2s/step - loss: 0.5413 - acc: 0.7074 - val_loss: 0.5372 - val_acc: 0.7003\n",
      "Epoch 41/100\n",
      "1/1 [==============================] - 2s 2s/step - loss: 0.5438 - acc: 0.6972 - val_loss: 0.5360 - val_acc: 0.7015\n",
      "Epoch 42/100\n",
      "1/1 [==============================] - 2s 2s/step - loss: 0.5409 - acc: 0.7058 - val_loss: 0.5343 - val_acc: 0.7042\n",
      "Epoch 43/100\n",
      "1/1 [==============================] - 2s 2s/step - loss: 0.5396 - acc: 0.7026 - val_loss: 0.5331 - val_acc: 0.7051\n",
      "Epoch 44/100\n",
      "1/1 [==============================] - 2s 2s/step - loss: 0.5385 - acc: 0.7092 - val_loss: 0.5316 - val_acc: 0.7065\n",
      "Epoch 45/100\n",
      "1/1 [==============================] - 2s 2s/step - loss: 0.5418 - acc: 0.7042 - val_loss: 0.5309 - val_acc: 0.7063\n",
      "Epoch 46/100\n",
      "1/1 [==============================] - 2s 2s/step - loss: 0.5334 - acc: 0.7084 - val_loss: 0.5299 - val_acc: 0.7064\n",
      "Epoch 47/100\n",
      "1/1 [==============================] - 2s 2s/step - loss: 0.5383 - acc: 0.7040 - val_loss: 0.5286 - val_acc: 0.7097\n",
      "Epoch 48/100\n",
      "1/1 [==============================] - 2s 2s/step - loss: 0.5323 - acc: 0.7140 - val_loss: 0.5278 - val_acc: 0.7107\n",
      "Epoch 49/100\n",
      "1/1 [==============================] - 2s 2s/step - loss: 0.5306 - acc: 0.7098 - val_loss: 0.5262 - val_acc: 0.7112\n",
      "Epoch 50/100\n",
      "1/1 [==============================] - 2s 2s/step - loss: 0.5287 - acc: 0.7174 - val_loss: 0.5254 - val_acc: 0.7111\n",
      "Epoch 51/100\n",
      "1/1 [==============================] - 2s 2s/step - loss: 0.5351 - acc: 0.7102 - val_loss: 0.5239 - val_acc: 0.7125\n",
      "Epoch 52/100\n",
      "1/1 [==============================] - 2s 2s/step - loss: 0.5280 - acc: 0.7168 - val_loss: 0.5233 - val_acc: 0.7130\n",
      "Epoch 53/100\n",
      "1/1 [==============================] - 2s 2s/step - loss: 0.5232 - acc: 0.7162 - val_loss: 0.5218 - val_acc: 0.7133\n",
      "Epoch 54/100\n",
      "1/1 [==============================] - 2s 2s/step - loss: 0.5245 - acc: 0.7208 - val_loss: 0.5206 - val_acc: 0.7137\n",
      "Epoch 55/100\n",
      "1/1 [==============================] - 2s 2s/step - loss: 0.5193 - acc: 0.7246 - val_loss: 0.5195 - val_acc: 0.7144\n",
      "Epoch 56/100\n",
      "1/1 [==============================] - 2s 2s/step - loss: 0.5231 - acc: 0.7148 - val_loss: 0.5183 - val_acc: 0.7163\n",
      "Epoch 57/100\n",
      "1/1 [==============================] - 2s 2s/step - loss: 0.5257 - acc: 0.7132 - val_loss: 0.5180 - val_acc: 0.7172\n",
      "Epoch 58/100\n",
      "1/1 [==============================] - 2s 2s/step - loss: 0.5175 - acc: 0.7238 - val_loss: 0.5170 - val_acc: 0.7178\n",
      "Epoch 59/100\n",
      "1/1 [==============================] - 2s 2s/step - loss: 0.5188 - acc: 0.7166 - val_loss: 0.5165 - val_acc: 0.7175\n",
      "Epoch 60/100\n",
      "1/1 [==============================] - 2s 2s/step - loss: 0.5169 - acc: 0.7220 - val_loss: 0.5157 - val_acc: 0.7177\n",
      "Epoch 61/100\n",
      "1/1 [==============================] - 2s 2s/step - loss: 0.5208 - acc: 0.7254 - val_loss: 0.5144 - val_acc: 0.7192\n",
      "Epoch 62/100\n",
      "1/1 [==============================] - 2s 2s/step - loss: 0.5099 - acc: 0.7278 - val_loss: 0.5134 - val_acc: 0.7206\n",
      "Epoch 63/100\n",
      "1/1 [==============================] - 2s 2s/step - loss: 0.5149 - acc: 0.7220 - val_loss: 0.5127 - val_acc: 0.7211\n",
      "Epoch 64/100\n",
      "1/1 [==============================] - 2s 2s/step - loss: 0.5116 - acc: 0.7300 - val_loss: 0.5120 - val_acc: 0.7214\n",
      "Epoch 65/100\n",
      "1/1 [==============================] - 2s 2s/step - loss: 0.5069 - acc: 0.7236 - val_loss: 0.5119 - val_acc: 0.7220\n",
      "Epoch 66/100\n",
      "1/1 [==============================] - 2s 2s/step - loss: 0.5152 - acc: 0.7280 - val_loss: 0.5112 - val_acc: 0.7219\n",
      "Epoch 67/100\n",
      "1/1 [==============================] - 2s 2s/step - loss: 0.5036 - acc: 0.7336 - val_loss: 0.5104 - val_acc: 0.7222\n",
      "Epoch 68/100\n",
      "1/1 [==============================] - 2s 2s/step - loss: 0.5059 - acc: 0.7290 - val_loss: 0.5099 - val_acc: 0.7223\n",
      "Epoch 69/100\n",
      "1/1 [==============================] - 2s 2s/step - loss: 0.5112 - acc: 0.7260 - val_loss: 0.5094 - val_acc: 0.7222\n",
      "Epoch 70/100\n",
      "1/1 [==============================] - 2s 2s/step - loss: 0.5054 - acc: 0.7262 - val_loss: 0.5089 - val_acc: 0.7221\n",
      "Epoch 71/100\n",
      "1/1 [==============================] - 2s 2s/step - loss: 0.5051 - acc: 0.7364 - val_loss: 0.5082 - val_acc: 0.7235\n",
      "Epoch 72/100\n",
      "1/1 [==============================] - 2s 2s/step - loss: 0.5025 - acc: 0.7300 - val_loss: 0.5079 - val_acc: 0.7241\n",
      "Epoch 73/100\n",
      "1/1 [==============================] - 2s 2s/step - loss: 0.4986 - acc: 0.7322 - val_loss: 0.5072 - val_acc: 0.7246\n",
      "Epoch 74/100\n"
     ]
    },
    {
     "name": "stdout",
     "output_type": "stream",
     "text": [
      "1/1 [==============================] - 2s 2s/step - loss: 0.4968 - acc: 0.7386 - val_loss: 0.5078 - val_acc: 0.7247\n",
      "Epoch 75/100\n",
      "1/1 [==============================] - 2s 2s/step - loss: 0.4973 - acc: 0.7310 - val_loss: 0.5073 - val_acc: 0.7247\n",
      "Epoch 76/100\n",
      "1/1 [==============================] - 2s 2s/step - loss: 0.4964 - acc: 0.7376 - val_loss: 0.5073 - val_acc: 0.7244\n",
      "Epoch 77/100\n",
      "1/1 [==============================] - 2s 2s/step - loss: 0.4945 - acc: 0.7356 - val_loss: 0.5067 - val_acc: 0.7253\n",
      "Epoch 78/100\n",
      "1/1 [==============================] - 2s 2s/step - loss: 0.4934 - acc: 0.7398 - val_loss: 0.5069 - val_acc: 0.7258\n",
      "Epoch 79/100\n",
      "1/1 [==============================] - 2s 2s/step - loss: 0.4966 - acc: 0.7352 - val_loss: 0.5061 - val_acc: 0.7259\n",
      "Epoch 80/100\n",
      "1/1 [==============================] - 2s 2s/step - loss: 0.4876 - acc: 0.7466 - val_loss: 0.5059 - val_acc: 0.7252\n",
      "Epoch 81/100\n",
      "1/1 [==============================] - 2s 2s/step - loss: 0.4894 - acc: 0.7402 - val_loss: 0.5062 - val_acc: 0.7257\n",
      "Epoch 82/100\n",
      "1/1 [==============================] - 2s 2s/step - loss: 0.4870 - acc: 0.7376 - val_loss: 0.5065 - val_acc: 0.7268\n",
      "Epoch 83/100\n",
      "1/1 [==============================] - 2s 2s/step - loss: 0.4883 - acc: 0.7426 - val_loss: 0.5057 - val_acc: 0.7270\n",
      "Epoch 84/100\n",
      "1/1 [==============================] - 2s 2s/step - loss: 0.4866 - acc: 0.7388 - val_loss: 0.5052 - val_acc: 0.7271\n",
      "Epoch 85/100\n",
      "1/1 [==============================] - 2s 2s/step - loss: 0.4816 - acc: 0.7446 - val_loss: 0.5051 - val_acc: 0.7274\n",
      "Epoch 86/100\n",
      "1/1 [==============================] - 2s 2s/step - loss: 0.4828 - acc: 0.7470 - val_loss: 0.5058 - val_acc: 0.7273\n",
      "Epoch 87/100\n",
      "1/1 [==============================] - 2s 2s/step - loss: 0.4838 - acc: 0.7444 - val_loss: 0.5050 - val_acc: 0.7274\n",
      "Epoch 88/100\n",
      "1/1 [==============================] - 2s 2s/step - loss: 0.4811 - acc: 0.7466 - val_loss: 0.5051 - val_acc: 0.7274\n",
      "Epoch 89/100\n",
      "1/1 [==============================] - 2s 2s/step - loss: 0.4764 - acc: 0.7566 - val_loss: 0.5052 - val_acc: 0.7279\n",
      "Epoch 90/100\n",
      "1/1 [==============================] - 2s 2s/step - loss: 0.4743 - acc: 0.7470 - val_loss: 0.5067 - val_acc: 0.7284\n",
      "Epoch 91/100\n",
      "1/1 [==============================] - 2s 2s/step - loss: 0.4803 - acc: 0.7448 - val_loss: 0.5045 - val_acc: 0.7291\n",
      "Epoch 92/100\n",
      "1/1 [==============================] - 2s 2s/step - loss: 0.4699 - acc: 0.7566 - val_loss: 0.5049 - val_acc: 0.7287\n",
      "Epoch 93/100\n",
      "1/1 [==============================] - 2s 2s/step - loss: 0.4773 - acc: 0.7458 - val_loss: 0.5047 - val_acc: 0.7296\n",
      "Epoch 94/100\n",
      "1/1 [==============================] - 2s 2s/step - loss: 0.4782 - acc: 0.7534 - val_loss: 0.5049 - val_acc: 0.7303\n",
      "Epoch 95/100\n",
      "1/1 [==============================] - 2s 2s/step - loss: 0.4696 - acc: 0.7560 - val_loss: 0.5055 - val_acc: 0.7304\n",
      "Epoch 96/100\n",
      "1/1 [==============================] - 2s 2s/step - loss: 0.4726 - acc: 0.7568 - val_loss: 0.5050 - val_acc: 0.7309\n",
      "Epoch 97/100\n",
      "1/1 [==============================] - 2s 2s/step - loss: 0.4659 - acc: 0.7602 - val_loss: 0.5054 - val_acc: 0.7305\n",
      "Epoch 98/100\n",
      "1/1 [==============================] - 2s 2s/step - loss: 0.4710 - acc: 0.7590 - val_loss: 0.5053 - val_acc: 0.7314\n",
      "Epoch 99/100\n",
      "1/1 [==============================] - 2s 2s/step - loss: 0.4708 - acc: 0.7588 - val_loss: 0.5040 - val_acc: 0.7324\n",
      "Epoch 100/100\n",
      "1/1 [==============================] - 2s 2s/step - loss: 0.4561 - acc: 0.7662 - val_loss: 0.5038 - val_acc: 0.7327\n",
      "\n",
      " \n",
      "\n",
      "Training model with 10000 training points:\n",
      "Epoch 1/100\n",
      "1/1 [==============================] - 4s 4s/step - loss: 0.6836 - acc: 0.6483 - val_loss: 0.6631 - val_acc: 0.6612\n",
      "Epoch 2/100\n",
      "1/1 [==============================] - 2s 2s/step - loss: 0.6657 - acc: 0.6591 - val_loss: 0.6448 - val_acc: 0.6612\n",
      "Epoch 3/100\n",
      "1/1 [==============================] - 2s 2s/step - loss: 0.6560 - acc: 0.6591 - val_loss: 0.6309 - val_acc: 0.6612\n",
      "Epoch 4/100\n",
      "1/1 [==============================] - 2s 2s/step - loss: 0.6480 - acc: 0.6591 - val_loss: 0.6205 - val_acc: 0.6612\n",
      "Epoch 5/100\n",
      "1/1 [==============================] - 2s 2s/step - loss: 0.6351 - acc: 0.6591 - val_loss: 0.6127 - val_acc: 0.6612\n",
      "Epoch 6/100\n",
      "1/1 [==============================] - 2s 2s/step - loss: 0.6237 - acc: 0.6591 - val_loss: 0.6040 - val_acc: 0.6612\n",
      "Epoch 7/100\n",
      "1/1 [==============================] - 2s 2s/step - loss: 0.6132 - acc: 0.6591 - val_loss: 0.5946 - val_acc: 0.6612\n",
      "Epoch 8/100\n",
      "1/1 [==============================] - 2s 2s/step - loss: 0.6037 - acc: 0.6591 - val_loss: 0.5885 - val_acc: 0.6612\n",
      "Epoch 9/100\n",
      "1/1 [==============================] - 2s 2s/step - loss: 0.5990 - acc: 0.6591 - val_loss: 0.5853 - val_acc: 0.6620\n",
      "Epoch 10/100\n",
      "1/1 [==============================] - 2s 2s/step - loss: 0.5921 - acc: 0.6590 - val_loss: 0.5817 - val_acc: 0.6647\n",
      "Epoch 11/100\n",
      "1/1 [==============================] - 2s 2s/step - loss: 0.5887 - acc: 0.6607 - val_loss: 0.5786 - val_acc: 0.6687\n",
      "Epoch 12/100\n",
      "1/1 [==============================] - 2s 2s/step - loss: 0.5844 - acc: 0.6592 - val_loss: 0.5761 - val_acc: 0.6715\n",
      "Epoch 13/100\n",
      "1/1 [==============================] - 2s 2s/step - loss: 0.5852 - acc: 0.6587 - val_loss: 0.5738 - val_acc: 0.6725\n",
      "Epoch 14/100\n",
      "1/1 [==============================] - 2s 2s/step - loss: 0.5810 - acc: 0.6614 - val_loss: 0.5724 - val_acc: 0.6730\n",
      "Epoch 15/100\n",
      "1/1 [==============================] - 2s 2s/step - loss: 0.5801 - acc: 0.6606 - val_loss: 0.5705 - val_acc: 0.6721\n",
      "Epoch 16/100\n",
      "1/1 [==============================] - 2s 2s/step - loss: 0.5809 - acc: 0.6666 - val_loss: 0.5675 - val_acc: 0.6713\n",
      "Epoch 17/100\n",
      "1/1 [==============================] - 2s 2s/step - loss: 0.5762 - acc: 0.6637 - val_loss: 0.5649 - val_acc: 0.6704\n",
      "Epoch 18/100\n",
      "1/1 [==============================] - 2s 2s/step - loss: 0.5742 - acc: 0.6658 - val_loss: 0.5627 - val_acc: 0.6688\n",
      "Epoch 19/100\n",
      "1/1 [==============================] - 2s 2s/step - loss: 0.5733 - acc: 0.6615 - val_loss: 0.5613 - val_acc: 0.6681\n",
      "Epoch 20/100\n",
      "1/1 [==============================] - 2s 2s/step - loss: 0.5725 - acc: 0.6631 - val_loss: 0.5605 - val_acc: 0.6689\n",
      "Epoch 21/100\n",
      "1/1 [==============================] - 2s 2s/step - loss: 0.5710 - acc: 0.6637 - val_loss: 0.5595 - val_acc: 0.6715\n",
      "Epoch 22/100\n",
      "1/1 [==============================] - 2s 2s/step - loss: 0.5681 - acc: 0.6678 - val_loss: 0.5583 - val_acc: 0.6759\n",
      "Epoch 23/100\n",
      "1/1 [==============================] - 2s 2s/step - loss: 0.5676 - acc: 0.6651 - val_loss: 0.5572 - val_acc: 0.6790\n",
      "Epoch 24/100\n",
      "1/1 [==============================] - 2s 2s/step - loss: 0.5662 - acc: 0.6717 - val_loss: 0.5562 - val_acc: 0.6799\n",
      "Epoch 25/100\n",
      "1/1 [==============================] - 2s 2s/step - loss: 0.5655 - acc: 0.6727 - val_loss: 0.5556 - val_acc: 0.6812\n",
      "Epoch 26/100\n",
      "1/1 [==============================] - 2s 2s/step - loss: 0.5637 - acc: 0.6760 - val_loss: 0.5547 - val_acc: 0.6830\n",
      "Epoch 27/100\n",
      "1/1 [==============================] - 2s 2s/step - loss: 0.5620 - acc: 0.6783 - val_loss: 0.5532 - val_acc: 0.6853\n",
      "Epoch 28/100\n",
      "1/1 [==============================] - 2s 2s/step - loss: 0.5620 - acc: 0.6745 - val_loss: 0.5513 - val_acc: 0.6877\n",
      "Epoch 29/100\n",
      "1/1 [==============================] - 2s 2s/step - loss: 0.5612 - acc: 0.6824 - val_loss: 0.5495 - val_acc: 0.6899\n",
      "Epoch 30/100\n",
      "1/1 [==============================] - 2s 2s/step - loss: 0.5581 - acc: 0.6825 - val_loss: 0.5482 - val_acc: 0.6913\n",
      "Epoch 31/100\n",
      "1/1 [==============================] - 2s 2s/step - loss: 0.5578 - acc: 0.6802 - val_loss: 0.5474 - val_acc: 0.6917\n",
      "Epoch 32/100\n",
      "1/1 [==============================] - 2s 2s/step - loss: 0.5579 - acc: 0.6827 - val_loss: 0.5465 - val_acc: 0.6930\n",
      "Epoch 33/100\n",
      "1/1 [==============================] - 2s 2s/step - loss: 0.5562 - acc: 0.6854 - val_loss: 0.5451 - val_acc: 0.6943\n",
      "Epoch 34/100\n",
      "1/1 [==============================] - 2s 2s/step - loss: 0.5517 - acc: 0.6883 - val_loss: 0.5434 - val_acc: 0.6956\n",
      "Epoch 35/100\n",
      "1/1 [==============================] - 2s 2s/step - loss: 0.5500 - acc: 0.6904 - val_loss: 0.5418 - val_acc: 0.6974\n",
      "Epoch 36/100\n",
      "1/1 [==============================] - 2s 2s/step - loss: 0.5503 - acc: 0.6873 - val_loss: 0.5405 - val_acc: 0.6980\n",
      "Epoch 37/100\n",
      "1/1 [==============================] - 2s 2s/step - loss: 0.5481 - acc: 0.6945 - val_loss: 0.5391 - val_acc: 0.7000\n",
      "Epoch 38/100\n",
      "1/1 [==============================] - 2s 2s/step - loss: 0.5480 - acc: 0.6933 - val_loss: 0.5380 - val_acc: 0.7019\n",
      "Epoch 39/100\n",
      "1/1 [==============================] - 2s 2s/step - loss: 0.5443 - acc: 0.6957 - val_loss: 0.5372 - val_acc: 0.7020\n",
      "Epoch 40/100\n",
      "1/1 [==============================] - 2s 2s/step - loss: 0.5456 - acc: 0.6957 - val_loss: 0.5363 - val_acc: 0.7034\n",
      "Epoch 41/100\n",
      "1/1 [==============================] - 2s 2s/step - loss: 0.5448 - acc: 0.6988 - val_loss: 0.5349 - val_acc: 0.7049\n",
      "Epoch 42/100\n",
      "1/1 [==============================] - 2s 2s/step - loss: 0.5433 - acc: 0.6950 - val_loss: 0.5330 - val_acc: 0.7061\n",
      "Epoch 43/100\n",
      "1/1 [==============================] - 2s 2s/step - loss: 0.5425 - acc: 0.6949 - val_loss: 0.5315 - val_acc: 0.7074\n",
      "Epoch 44/100\n",
      "1/1 [==============================] - 2s 2s/step - loss: 0.5406 - acc: 0.6991 - val_loss: 0.5301 - val_acc: 0.7087\n",
      "Epoch 45/100\n",
      "1/1 [==============================] - 2s 2s/step - loss: 0.5372 - acc: 0.7054 - val_loss: 0.5287 - val_acc: 0.7098\n",
      "Epoch 46/100\n",
      "1/1 [==============================] - 2s 2s/step - loss: 0.5365 - acc: 0.7036 - val_loss: 0.5277 - val_acc: 0.7108\n",
      "Epoch 47/100\n",
      "1/1 [==============================] - 2s 2s/step - loss: 0.5356 - acc: 0.6993 - val_loss: 0.5266 - val_acc: 0.7120\n",
      "Epoch 48/100\n",
      "1/1 [==============================] - 2s 2s/step - loss: 0.5325 - acc: 0.7059 - val_loss: 0.5250 - val_acc: 0.7133\n",
      "Epoch 49/100\n",
      "1/1 [==============================] - 2s 2s/step - loss: 0.5317 - acc: 0.7043 - val_loss: 0.5234 - val_acc: 0.7147\n",
      "Epoch 50/100\n",
      "1/1 [==============================] - 2s 2s/step - loss: 0.5324 - acc: 0.7071 - val_loss: 0.5222 - val_acc: 0.7154\n",
      "Epoch 51/100\n",
      "1/1 [==============================] - 2s 2s/step - loss: 0.5302 - acc: 0.7114 - val_loss: 0.5210 - val_acc: 0.7164\n",
      "Epoch 52/100\n",
      "1/1 [==============================] - 2s 2s/step - loss: 0.5293 - acc: 0.7161 - val_loss: 0.5200 - val_acc: 0.7175\n",
      "Epoch 53/100\n",
      "1/1 [==============================] - 2s 2s/step - loss: 0.5277 - acc: 0.7102 - val_loss: 0.5187 - val_acc: 0.7188\n",
      "Epoch 54/100\n",
      "1/1 [==============================] - 2s 2s/step - loss: 0.5251 - acc: 0.7131 - val_loss: 0.5173 - val_acc: 0.7200\n",
      "Epoch 55/100\n",
      "1/1 [==============================] - 2s 2s/step - loss: 0.5252 - acc: 0.7107 - val_loss: 0.5160 - val_acc: 0.7206\n",
      "Epoch 56/100\n",
      "1/1 [==============================] - 2s 2s/step - loss: 0.5234 - acc: 0.7153 - val_loss: 0.5148 - val_acc: 0.7218\n",
      "Epoch 57/100\n",
      "1/1 [==============================] - 2s 2s/step - loss: 0.5229 - acc: 0.7127 - val_loss: 0.5140 - val_acc: 0.7226\n",
      "Epoch 58/100\n",
      "1/1 [==============================] - 2s 2s/step - loss: 0.5204 - acc: 0.7195 - val_loss: 0.5130 - val_acc: 0.7231\n",
      "Epoch 59/100\n",
      "1/1 [==============================] - 2s 2s/step - loss: 0.5204 - acc: 0.7154 - val_loss: 0.5122 - val_acc: 0.7239\n",
      "Epoch 60/100\n",
      "1/1 [==============================] - 2s 2s/step - loss: 0.5162 - acc: 0.7188 - val_loss: 0.5113 - val_acc: 0.7240\n",
      "Epoch 61/100\n",
      "1/1 [==============================] - 2s 2s/step - loss: 0.5173 - acc: 0.7237 - val_loss: 0.5102 - val_acc: 0.7243\n",
      "Epoch 62/100\n",
      "1/1 [==============================] - 2s 2s/step - loss: 0.5165 - acc: 0.7186 - val_loss: 0.5091 - val_acc: 0.7253\n",
      "Epoch 63/100\n",
      "1/1 [==============================] - 2s 2s/step - loss: 0.5175 - acc: 0.7191 - val_loss: 0.5085 - val_acc: 0.7258\n",
      "Epoch 64/100\n",
      "1/1 [==============================] - 2s 2s/step - loss: 0.5170 - acc: 0.7209 - val_loss: 0.5087 - val_acc: 0.7259\n",
      "Epoch 65/100\n",
      "1/1 [==============================] - 2s 2s/step - loss: 0.5108 - acc: 0.7205 - val_loss: 0.5075 - val_acc: 0.7271\n",
      "Epoch 66/100\n",
      "1/1 [==============================] - 2s 2s/step - loss: 0.5131 - acc: 0.7252 - val_loss: 0.5058 - val_acc: 0.7275\n",
      "Epoch 67/100\n",
      "1/1 [==============================] - 2s 2s/step - loss: 0.5138 - acc: 0.7210 - val_loss: 0.5050 - val_acc: 0.7281\n",
      "Epoch 68/100\n",
      "1/1 [==============================] - 2s 2s/step - loss: 0.5070 - acc: 0.7295 - val_loss: 0.5044 - val_acc: 0.7290\n",
      "Epoch 69/100\n",
      "1/1 [==============================] - 2s 2s/step - loss: 0.5115 - acc: 0.7175 - val_loss: 0.5038 - val_acc: 0.7291\n",
      "Epoch 70/100\n",
      "1/1 [==============================] - 2s 2s/step - loss: 0.5075 - acc: 0.7293 - val_loss: 0.5033 - val_acc: 0.7303\n",
      "Epoch 71/100\n",
      "1/1 [==============================] - 2s 2s/step - loss: 0.5061 - acc: 0.7262 - val_loss: 0.5024 - val_acc: 0.7309\n",
      "Epoch 72/100\n",
      "1/1 [==============================] - 2s 2s/step - loss: 0.5059 - acc: 0.7293 - val_loss: 0.5014 - val_acc: 0.7315\n",
      "Epoch 73/100\n",
      "1/1 [==============================] - 2s 2s/step - loss: 0.5042 - acc: 0.7261 - val_loss: 0.5006 - val_acc: 0.7319\n",
      "Epoch 74/100\n",
      "1/1 [==============================] - 2s 2s/step - loss: 0.5058 - acc: 0.7289 - val_loss: 0.4998 - val_acc: 0.7329\n",
      "Epoch 75/100\n",
      "1/1 [==============================] - 2s 2s/step - loss: 0.5027 - acc: 0.7308 - val_loss: 0.4987 - val_acc: 0.7334\n",
      "Epoch 76/100\n",
      "1/1 [==============================] - 2s 2s/step - loss: 0.4984 - acc: 0.7310 - val_loss: 0.4979 - val_acc: 0.7345\n",
      "Epoch 77/100\n",
      "1/1 [==============================] - 2s 2s/step - loss: 0.4996 - acc: 0.7324 - val_loss: 0.4980 - val_acc: 0.7340\n",
      "Epoch 78/100\n",
      "1/1 [==============================] - 2s 2s/step - loss: 0.5013 - acc: 0.7339 - val_loss: 0.4962 - val_acc: 0.7355\n",
      "Epoch 79/100\n",
      "1/1 [==============================] - 2s 2s/step - loss: 0.4956 - acc: 0.7366 - val_loss: 0.4953 - val_acc: 0.7357\n",
      "Epoch 80/100\n",
      "1/1 [==============================] - 2s 2s/step - loss: 0.4959 - acc: 0.7390 - val_loss: 0.4952 - val_acc: 0.7360\n",
      "Epoch 81/100\n",
      "1/1 [==============================] - 2s 2s/step - loss: 0.4929 - acc: 0.7396 - val_loss: 0.4944 - val_acc: 0.7365\n",
      "Epoch 82/100\n",
      "1/1 [==============================] - 2s 2s/step - loss: 0.4944 - acc: 0.7373 - val_loss: 0.4931 - val_acc: 0.7364\n",
      "Epoch 83/100\n",
      "1/1 [==============================] - 2s 2s/step - loss: 0.4967 - acc: 0.7328 - val_loss: 0.4929 - val_acc: 0.7380\n",
      "Epoch 84/100\n",
      "1/1 [==============================] - 2s 2s/step - loss: 0.4939 - acc: 0.7420 - val_loss: 0.4942 - val_acc: 0.7381\n",
      "Epoch 85/100\n",
      "1/1 [==============================] - 2s 2s/step - loss: 0.4919 - acc: 0.7407 - val_loss: 0.4916 - val_acc: 0.7388\n",
      "Epoch 86/100\n",
      "1/1 [==============================] - 2s 2s/step - loss: 0.4911 - acc: 0.7424 - val_loss: 0.4909 - val_acc: 0.7381\n",
      "Epoch 87/100\n",
      "1/1 [==============================] - 2s 2s/step - loss: 0.4912 - acc: 0.7371 - val_loss: 0.4909 - val_acc: 0.7391\n",
      "Epoch 88/100\n",
      "1/1 [==============================] - 2s 2s/step - loss: 0.4902 - acc: 0.7383 - val_loss: 0.4912 - val_acc: 0.7397\n",
      "Epoch 89/100\n",
      "1/1 [==============================] - 2s 2s/step - loss: 0.4822 - acc: 0.7477 - val_loss: 0.4888 - val_acc: 0.7405\n",
      "Epoch 90/100\n",
      "1/1 [==============================] - 2s 2s/step - loss: 0.4870 - acc: 0.7469 - val_loss: 0.4880 - val_acc: 0.7409\n",
      "Epoch 91/100\n",
      "1/1 [==============================] - 2s 2s/step - loss: 0.4859 - acc: 0.7440 - val_loss: 0.4887 - val_acc: 0.7420\n",
      "Epoch 92/100\n",
      "1/1 [==============================] - 2s 2s/step - loss: 0.4806 - acc: 0.7482 - val_loss: 0.4878 - val_acc: 0.7418\n",
      "Epoch 93/100\n",
      "1/1 [==============================] - 2s 2s/step - loss: 0.4850 - acc: 0.7435 - val_loss: 0.4874 - val_acc: 0.7417\n",
      "Epoch 94/100\n",
      "1/1 [==============================] - 2s 2s/step - loss: 0.4812 - acc: 0.7495 - val_loss: 0.4879 - val_acc: 0.7418\n",
      "Epoch 95/100\n",
      "1/1 [==============================] - 2s 2s/step - loss: 0.4815 - acc: 0.7472 - val_loss: 0.4873 - val_acc: 0.7423\n",
      "Epoch 96/100\n",
      "1/1 [==============================] - 2s 2s/step - loss: 0.4785 - acc: 0.7500 - val_loss: 0.4863 - val_acc: 0.7428\n",
      "Epoch 97/100\n",
      "1/1 [==============================] - 2s 2s/step - loss: 0.4830 - acc: 0.7447 - val_loss: 0.4857 - val_acc: 0.7434\n",
      "Epoch 98/100\n",
      "1/1 [==============================] - 2s 2s/step - loss: 0.4782 - acc: 0.7481 - val_loss: 0.4856 - val_acc: 0.7438\n",
      "Epoch 99/100\n",
      "1/1 [==============================] - 2s 2s/step - loss: 0.4729 - acc: 0.7528 - val_loss: 0.4847 - val_acc: 0.7440\n",
      "Epoch 100/100\n"
     ]
    },
    {
     "name": "stdout",
     "output_type": "stream",
     "text": [
      "1/1 [==============================] - 2s 2s/step - loss: 0.4760 - acc: 0.7520 - val_loss: 0.4842 - val_acc: 0.7440\n",
      "\n",
      " \n",
      "\n",
      "Training model with 12500 training points:\n",
      "Epoch 1/100\n",
      "4/4 [==============================] - 4s 774ms/step - loss: 0.6808 - acc: 0.6230 - val_loss: 0.6348 - val_acc: 0.6612\n",
      "Epoch 2/100\n",
      "4/4 [==============================] - 2s 670ms/step - loss: 0.6446 - acc: 0.6575 - val_loss: 0.6023 - val_acc: 0.6612\n",
      "Epoch 3/100\n",
      "4/4 [==============================] - 2s 660ms/step - loss: 0.6111 - acc: 0.6548 - val_loss: 0.5892 - val_acc: 0.6623\n",
      "Epoch 4/100\n",
      "4/4 [==============================] - 2s 665ms/step - loss: 0.5964 - acc: 0.6570 - val_loss: 0.5796 - val_acc: 0.6657\n",
      "Epoch 5/100\n",
      "4/4 [==============================] - 2s 657ms/step - loss: 0.5845 - acc: 0.6611 - val_loss: 0.5756 - val_acc: 0.6666\n",
      "Epoch 6/100\n",
      "4/4 [==============================] - 2s 653ms/step - loss: 0.5786 - acc: 0.6621 - val_loss: 0.5714 - val_acc: 0.6670\n",
      "Epoch 7/100\n",
      "4/4 [==============================] - 2s 654ms/step - loss: 0.5773 - acc: 0.6596 - val_loss: 0.5637 - val_acc: 0.6694\n",
      "Epoch 8/100\n",
      "4/4 [==============================] - 2s 650ms/step - loss: 0.5721 - acc: 0.6620 - val_loss: 0.5588 - val_acc: 0.6780\n",
      "Epoch 9/100\n",
      "4/4 [==============================] - 2s 654ms/step - loss: 0.5695 - acc: 0.6689 - val_loss: 0.5565 - val_acc: 0.6826\n",
      "Epoch 10/100\n",
      "4/4 [==============================] - 2s 651ms/step - loss: 0.5654 - acc: 0.6743 - val_loss: 0.5546 - val_acc: 0.6866\n",
      "Epoch 11/100\n",
      "4/4 [==============================] - 2s 650ms/step - loss: 0.5669 - acc: 0.6770 - val_loss: 0.5497 - val_acc: 0.6895\n",
      "Epoch 12/100\n",
      "4/4 [==============================] - 2s 656ms/step - loss: 0.5615 - acc: 0.6786 - val_loss: 0.5471 - val_acc: 0.6915\n",
      "Epoch 13/100\n",
      "4/4 [==============================] - 2s 657ms/step - loss: 0.5536 - acc: 0.6913 - val_loss: 0.5434 - val_acc: 0.6933\n",
      "Epoch 14/100\n",
      "4/4 [==============================] - 2s 653ms/step - loss: 0.5535 - acc: 0.6854 - val_loss: 0.5409 - val_acc: 0.6962\n",
      "Epoch 15/100\n",
      "4/4 [==============================] - 2s 660ms/step - loss: 0.5521 - acc: 0.6876 - val_loss: 0.5383 - val_acc: 0.6997\n",
      "Epoch 16/100\n",
      "4/4 [==============================] - 2s 674ms/step - loss: 0.5442 - acc: 0.6983 - val_loss: 0.5351 - val_acc: 0.7032\n",
      "Epoch 17/100\n",
      "4/4 [==============================] - 2s 651ms/step - loss: 0.5442 - acc: 0.7003 - val_loss: 0.5333 - val_acc: 0.7045\n",
      "Epoch 18/100\n",
      "4/4 [==============================] - 2s 652ms/step - loss: 0.5459 - acc: 0.6967 - val_loss: 0.5310 - val_acc: 0.7078\n",
      "Epoch 19/100\n",
      "4/4 [==============================] - 2s 661ms/step - loss: 0.5390 - acc: 0.7016 - val_loss: 0.5325 - val_acc: 0.7075\n",
      "Epoch 20/100\n",
      "4/4 [==============================] - 2s 650ms/step - loss: 0.5437 - acc: 0.6960 - val_loss: 0.5287 - val_acc: 0.7063\n",
      "Epoch 21/100\n",
      "4/4 [==============================] - 2s 651ms/step - loss: 0.5396 - acc: 0.7017 - val_loss: 0.5255 - val_acc: 0.7127\n",
      "Epoch 22/100\n",
      "4/4 [==============================] - 2s 648ms/step - loss: 0.5346 - acc: 0.7032 - val_loss: 0.5230 - val_acc: 0.7142\n",
      "Epoch 23/100\n",
      "4/4 [==============================] - 2s 652ms/step - loss: 0.5349 - acc: 0.7081 - val_loss: 0.5184 - val_acc: 0.7155\n",
      "Epoch 24/100\n",
      "4/4 [==============================] - 2s 658ms/step - loss: 0.5266 - acc: 0.7096 - val_loss: 0.5167 - val_acc: 0.7198\n",
      "Epoch 25/100\n",
      "4/4 [==============================] - 2s 666ms/step - loss: 0.5299 - acc: 0.7080 - val_loss: 0.5193 - val_acc: 0.7166\n",
      "Epoch 26/100\n",
      "4/4 [==============================] - 2s 669ms/step - loss: 0.5323 - acc: 0.7067 - val_loss: 0.5148 - val_acc: 0.7219\n",
      "Epoch 27/100\n",
      "4/4 [==============================] - 2s 665ms/step - loss: 0.5246 - acc: 0.7192 - val_loss: 0.5125 - val_acc: 0.7242\n",
      "Epoch 28/100\n",
      "4/4 [==============================] - 2s 654ms/step - loss: 0.5227 - acc: 0.7151 - val_loss: 0.5096 - val_acc: 0.7267\n",
      "Epoch 29/100\n",
      "4/4 [==============================] - 2s 680ms/step - loss: 0.5222 - acc: 0.7132 - val_loss: 0.5125 - val_acc: 0.7257\n",
      "Epoch 30/100\n",
      "4/4 [==============================] - 2s 660ms/step - loss: 0.5221 - acc: 0.7196 - val_loss: 0.5130 - val_acc: 0.7177\n",
      "Epoch 31/100\n",
      "4/4 [==============================] - 2s 656ms/step - loss: 0.5266 - acc: 0.7069 - val_loss: 0.5098 - val_acc: 0.7255\n",
      "Epoch 32/100\n",
      "4/4 [==============================] - 2s 679ms/step - loss: 0.5216 - acc: 0.7153 - val_loss: 0.5088 - val_acc: 0.7266\n",
      "Epoch 33/100\n",
      "4/4 [==============================] - 2s 654ms/step - loss: 0.5158 - acc: 0.7219 - val_loss: 0.5097 - val_acc: 0.7241\n",
      "\n",
      " \n",
      "\n",
      "Training model with 15000 training points:\n",
      "Epoch 1/100\n",
      "4/4 [==============================] - 4s 829ms/step - loss: 0.6792 - acc: 0.6136 - val_loss: 0.6325 - val_acc: 0.6612\n",
      "Epoch 2/100\n",
      "4/4 [==============================] - 2s 713ms/step - loss: 0.6396 - acc: 0.6565 - val_loss: 0.5977 - val_acc: 0.6612\n",
      "Epoch 3/100\n",
      "4/4 [==============================] - 2s 715ms/step - loss: 0.6044 - acc: 0.6617 - val_loss: 0.5821 - val_acc: 0.6612\n",
      "Epoch 4/100\n",
      "4/4 [==============================] - 2s 724ms/step - loss: 0.5865 - acc: 0.6612 - val_loss: 0.5745 - val_acc: 0.6698\n",
      "Epoch 5/100\n",
      "4/4 [==============================] - 2s 718ms/step - loss: 0.5786 - acc: 0.6663 - val_loss: 0.5696 - val_acc: 0.6764\n",
      "Epoch 6/100\n",
      "4/4 [==============================] - 2s 712ms/step - loss: 0.5760 - acc: 0.6652 - val_loss: 0.5615 - val_acc: 0.6724\n",
      "Epoch 7/100\n",
      "4/4 [==============================] - 2s 720ms/step - loss: 0.5676 - acc: 0.6662 - val_loss: 0.5559 - val_acc: 0.6799\n",
      "Epoch 8/100\n",
      "4/4 [==============================] - 3s 779ms/step - loss: 0.5634 - acc: 0.6772 - val_loss: 0.5519 - val_acc: 0.6856\n",
      "Epoch 9/100\n",
      "4/4 [==============================] - 2s 723ms/step - loss: 0.5585 - acc: 0.6754 - val_loss: 0.5464 - val_acc: 0.6922\n",
      "Epoch 10/100\n",
      "4/4 [==============================] - 2s 725ms/step - loss: 0.5592 - acc: 0.6799 - val_loss: 0.5436 - val_acc: 0.6941\n",
      "Epoch 11/100\n",
      "4/4 [==============================] - 2s 716ms/step - loss: 0.5518 - acc: 0.6907 - val_loss: 0.5384 - val_acc: 0.6996\n",
      "Epoch 12/100\n",
      "4/4 [==============================] - 2s 717ms/step - loss: 0.5490 - acc: 0.6892 - val_loss: 0.5341 - val_acc: 0.7049\n",
      "Epoch 13/100\n",
      "4/4 [==============================] - 2s 728ms/step - loss: 0.5492 - acc: 0.6905 - val_loss: 0.5304 - val_acc: 0.7082\n",
      "Epoch 14/100\n",
      "4/4 [==============================] - 2s 733ms/step - loss: 0.5384 - acc: 0.7004 - val_loss: 0.5262 - val_acc: 0.7114\n",
      "Epoch 15/100\n",
      "4/4 [==============================] - 3s 760ms/step - loss: 0.5413 - acc: 0.6969 - val_loss: 0.5234 - val_acc: 0.7142\n",
      "Epoch 16/100\n",
      "4/4 [==============================] - 2s 732ms/step - loss: 0.5345 - acc: 0.7043 - val_loss: 0.5197 - val_acc: 0.7166\n",
      "Epoch 17/100\n",
      "4/4 [==============================] - 2s 719ms/step - loss: 0.5326 - acc: 0.7034 - val_loss: 0.5162 - val_acc: 0.7204\n",
      "Epoch 18/100\n",
      "4/4 [==============================] - 2s 726ms/step - loss: 0.5282 - acc: 0.7118 - val_loss: 0.5126 - val_acc: 0.7234\n",
      "Epoch 19/100\n",
      "4/4 [==============================] - 2s 730ms/step - loss: 0.5276 - acc: 0.7061 - val_loss: 0.5096 - val_acc: 0.7265\n",
      "Epoch 20/100\n",
      "4/4 [==============================] - 3s 790ms/step - loss: 0.5229 - acc: 0.7122 - val_loss: 0.5067 - val_acc: 0.7281\n",
      "Epoch 21/100\n",
      "4/4 [==============================] - 2s 712ms/step - loss: 0.5194 - acc: 0.7168 - val_loss: 0.5033 - val_acc: 0.7304\n",
      "Epoch 22/100\n",
      "4/4 [==============================] - 2s 732ms/step - loss: 0.5146 - acc: 0.7169 - val_loss: 0.5013 - val_acc: 0.7336\n",
      "Epoch 23/100\n",
      "4/4 [==============================] - 3s 771ms/step - loss: 0.5150 - acc: 0.7192 - val_loss: 0.4988 - val_acc: 0.7350\n",
      "Epoch 24/100\n",
      "4/4 [==============================] - 2s 726ms/step - loss: 0.5144 - acc: 0.7194 - val_loss: 0.4971 - val_acc: 0.7360\n",
      "Epoch 25/100\n",
      "4/4 [==============================] - 3s 981ms/step - loss: 0.5074 - acc: 0.7258 - val_loss: 0.4947 - val_acc: 0.7381\n",
      "Epoch 26/100\n",
      "4/4 [==============================] - 3s 773ms/step - loss: 0.5098 - acc: 0.7250 - val_loss: 0.4926 - val_acc: 0.7391\n",
      "Epoch 27/100\n",
      "4/4 [==============================] - 4s 1s/step - loss: 0.5021 - acc: 0.7291 - val_loss: 0.4904 - val_acc: 0.7412\n",
      "Epoch 28/100\n",
      "4/4 [==============================] - 4s 1s/step - loss: 0.5022 - acc: 0.7305 - val_loss: 0.4893 - val_acc: 0.7402\n",
      "Epoch 29/100\n",
      "4/4 [==============================] - 3s 886ms/step - loss: 0.4984 - acc: 0.7310 - val_loss: 0.4851 - val_acc: 0.7434\n",
      "Epoch 30/100\n",
      "4/4 [==============================] - 4s 1s/step - loss: 0.4928 - acc: 0.7353 - val_loss: 0.4851 - val_acc: 0.7440\n",
      "Epoch 31/100\n",
      "4/4 [==============================] - 3s 711ms/step - loss: 0.4954 - acc: 0.7365 - val_loss: 0.4852 - val_acc: 0.7458\n",
      "Epoch 32/100\n",
      "4/4 [==============================] - 2s 720ms/step - loss: 0.4883 - acc: 0.7376 - val_loss: 0.4841 - val_acc: 0.7434\n",
      "Epoch 33/100\n",
      "4/4 [==============================] - 2s 715ms/step - loss: 0.4896 - acc: 0.7364 - val_loss: 0.4820 - val_acc: 0.7484\n",
      "Epoch 34/100\n",
      "4/4 [==============================] - 2s 722ms/step - loss: 0.4848 - acc: 0.7406 - val_loss: 0.4796 - val_acc: 0.7495\n",
      "Epoch 35/100\n",
      "4/4 [==============================] - 2s 722ms/step - loss: 0.4845 - acc: 0.7429 - val_loss: 0.4790 - val_acc: 0.7477\n",
      "Epoch 36/100\n",
      "4/4 [==============================] - 2s 722ms/step - loss: 0.4846 - acc: 0.7419 - val_loss: 0.4783 - val_acc: 0.7497\n",
      "Epoch 37/100\n",
      "4/4 [==============================] - 2s 722ms/step - loss: 0.4776 - acc: 0.7504 - val_loss: 0.4764 - val_acc: 0.7510\n",
      "Epoch 38/100\n",
      "4/4 [==============================] - 2s 718ms/step - loss: 0.4835 - acc: 0.7457 - val_loss: 0.4735 - val_acc: 0.7510\n",
      "Epoch 39/100\n",
      "4/4 [==============================] - 2s 718ms/step - loss: 0.4742 - acc: 0.7495 - val_loss: 0.4721 - val_acc: 0.7517\n",
      "Epoch 40/100\n",
      "4/4 [==============================] - 2s 725ms/step - loss: 0.4744 - acc: 0.7508 - val_loss: 0.4747 - val_acc: 0.7527\n",
      "Epoch 41/100\n",
      "4/4 [==============================] - 3s 731ms/step - loss: 0.4748 - acc: 0.7499 - val_loss: 0.4695 - val_acc: 0.7531\n",
      "Epoch 42/100\n",
      "4/4 [==============================] - 2s 720ms/step - loss: 0.4700 - acc: 0.7511 - val_loss: 0.4711 - val_acc: 0.7532\n",
      "Epoch 43/100\n",
      "4/4 [==============================] - 2s 726ms/step - loss: 0.4723 - acc: 0.7523 - val_loss: 0.4719 - val_acc: 0.7553\n",
      "Epoch 44/100\n",
      "4/4 [==============================] - 2s 732ms/step - loss: 0.4726 - acc: 0.7490 - val_loss: 0.4662 - val_acc: 0.7578\n",
      "Epoch 45/100\n",
      "4/4 [==============================] - 2s 726ms/step - loss: 0.4710 - acc: 0.7534 - val_loss: 0.4663 - val_acc: 0.7563\n",
      "Epoch 46/100\n",
      "4/4 [==============================] - 2s 726ms/step - loss: 0.4659 - acc: 0.7569 - val_loss: 0.4676 - val_acc: 0.7555\n",
      "Epoch 47/100\n",
      "4/4 [==============================] - 2s 725ms/step - loss: 0.4609 - acc: 0.7621 - val_loss: 0.4675 - val_acc: 0.7561\n",
      "Epoch 48/100\n",
      "4/4 [==============================] - 3s 752ms/step - loss: 0.4583 - acc: 0.7597 - val_loss: 0.4645 - val_acc: 0.7576\n",
      "Epoch 49/100\n",
      "4/4 [==============================] - 3s 732ms/step - loss: 0.4601 - acc: 0.7598 - val_loss: 0.4639 - val_acc: 0.7589\n",
      "Epoch 50/100\n",
      "4/4 [==============================] - 2s 736ms/step - loss: 0.4594 - acc: 0.7633 - val_loss: 0.4648 - val_acc: 0.7609\n",
      "Epoch 51/100\n",
      "4/4 [==============================] - 2s 728ms/step - loss: 0.4559 - acc: 0.7630 - val_loss: 0.4613 - val_acc: 0.7600\n",
      "Epoch 52/100\n",
      "4/4 [==============================] - 2s 717ms/step - loss: 0.4557 - acc: 0.7672 - val_loss: 0.4621 - val_acc: 0.7614\n",
      "Epoch 53/100\n",
      "4/4 [==============================] - 2s 717ms/step - loss: 0.4491 - acc: 0.7678 - val_loss: 0.4604 - val_acc: 0.7621\n",
      "Epoch 54/100\n",
      "4/4 [==============================] - 3s 774ms/step - loss: 0.4491 - acc: 0.7668 - val_loss: 0.4616 - val_acc: 0.7592\n",
      "Epoch 55/100\n",
      "4/4 [==============================] - 2s 712ms/step - loss: 0.4545 - acc: 0.7668 - val_loss: 0.4675 - val_acc: 0.7600\n",
      "Epoch 56/100\n",
      "4/4 [==============================] - 2s 721ms/step - loss: 0.4544 - acc: 0.7621 - val_loss: 0.4585 - val_acc: 0.7628\n",
      "Epoch 57/100\n",
      "4/4 [==============================] - 2s 714ms/step - loss: 0.4510 - acc: 0.7668 - val_loss: 0.4591 - val_acc: 0.7624\n",
      "Epoch 58/100\n",
      "4/4 [==============================] - 2s 717ms/step - loss: 0.4471 - acc: 0.7671 - val_loss: 0.4635 - val_acc: 0.7589\n",
      "Epoch 59/100\n",
      "4/4 [==============================] - 2s 724ms/step - loss: 0.4434 - acc: 0.7708 - val_loss: 0.4601 - val_acc: 0.7602\n",
      "Epoch 60/100\n",
      "4/4 [==============================] - 2s 714ms/step - loss: 0.4452 - acc: 0.7711 - val_loss: 0.4633 - val_acc: 0.7592\n",
      "Epoch 61/100\n",
      "4/4 [==============================] - 2s 716ms/step - loss: 0.4442 - acc: 0.7722 - val_loss: 0.4574 - val_acc: 0.7632\n",
      "Epoch 62/100\n",
      "4/4 [==============================] - 2s 722ms/step - loss: 0.4428 - acc: 0.7723 - val_loss: 0.4549 - val_acc: 0.7651\n",
      "Epoch 63/100\n",
      "4/4 [==============================] - 2s 714ms/step - loss: 0.4373 - acc: 0.7775 - val_loss: 0.4546 - val_acc: 0.7664\n",
      "Epoch 64/100\n",
      "4/4 [==============================] - 2s 733ms/step - loss: 0.4337 - acc: 0.7811 - val_loss: 0.4561 - val_acc: 0.7661\n",
      "Epoch 65/100\n",
      "4/4 [==============================] - 2s 734ms/step - loss: 0.4369 - acc: 0.7730 - val_loss: 0.4514 - val_acc: 0.7674\n",
      "Epoch 66/100\n",
      "4/4 [==============================] - 2s 722ms/step - loss: 0.4296 - acc: 0.7856 - val_loss: 0.4545 - val_acc: 0.7672\n",
      "Epoch 67/100\n",
      "4/4 [==============================] - 2s 714ms/step - loss: 0.4344 - acc: 0.7796 - val_loss: 0.4534 - val_acc: 0.7672\n",
      "Epoch 68/100\n",
      "4/4 [==============================] - 2s 710ms/step - loss: 0.4343 - acc: 0.7754 - val_loss: 0.4525 - val_acc: 0.7689\n",
      "Epoch 69/100\n",
      "4/4 [==============================] - 3s 735ms/step - loss: 0.4333 - acc: 0.7792 - val_loss: 0.4520 - val_acc: 0.7689\n",
      "Epoch 70/100\n",
      "4/4 [==============================] - 2s 712ms/step - loss: 0.4251 - acc: 0.7843 - val_loss: 0.4509 - val_acc: 0.7700\n",
      "Epoch 71/100\n",
      "4/4 [==============================] - 2s 732ms/step - loss: 0.4285 - acc: 0.7848 - val_loss: 0.4521 - val_acc: 0.7700\n",
      "Epoch 72/100\n",
      "4/4 [==============================] - 2s 715ms/step - loss: 0.4264 - acc: 0.7892 - val_loss: 0.4508 - val_acc: 0.7691\n",
      "Epoch 73/100\n",
      "4/4 [==============================] - 3s 784ms/step - loss: 0.4226 - acc: 0.7877 - val_loss: 0.4533 - val_acc: 0.7704\n",
      "Epoch 74/100\n",
      "4/4 [==============================] - 3s 738ms/step - loss: 0.4236 - acc: 0.7862 - val_loss: 0.4512 - val_acc: 0.7703\n",
      "Epoch 75/100\n",
      "4/4 [==============================] - 3s 897ms/step - loss: 0.4168 - acc: 0.7915 - val_loss: 0.4500 - val_acc: 0.7708\n",
      "Epoch 76/100\n",
      "4/4 [==============================] - 4s 1s/step - loss: 0.4176 - acc: 0.7873 - val_loss: 0.4489 - val_acc: 0.7714\n",
      "Epoch 77/100\n",
      "4/4 [==============================] - 5s 1s/step - loss: 0.4172 - acc: 0.7878 - val_loss: 0.4486 - val_acc: 0.7725\n",
      "Epoch 78/100\n",
      "4/4 [==============================] - 4s 1s/step - loss: 0.4150 - acc: 0.7916 - val_loss: 0.4496 - val_acc: 0.7727\n",
      "Epoch 79/100\n",
      "4/4 [==============================] - 4s 1s/step - loss: 0.4168 - acc: 0.7927 - val_loss: 0.4491 - val_acc: 0.7721\n",
      "Epoch 80/100\n",
      "4/4 [==============================] - 4s 1s/step - loss: 0.4163 - acc: 0.7909 - val_loss: 0.4499 - val_acc: 0.7709\n",
      "Epoch 81/100\n",
      "4/4 [==============================] - 4s 1s/step - loss: 0.4128 - acc: 0.7916 - val_loss: 0.4488 - val_acc: 0.7736\n",
      "Epoch 82/100\n",
      "4/4 [==============================] - 4s 1s/step - loss: 0.4125 - acc: 0.7943 - val_loss: 0.4470 - val_acc: 0.7747\n",
      "Epoch 83/100\n",
      "4/4 [==============================] - 4s 1s/step - loss: 0.4168 - acc: 0.7922 - val_loss: 0.4480 - val_acc: 0.7718\n",
      "Epoch 84/100\n",
      "4/4 [==============================] - 4s 1s/step - loss: 0.4083 - acc: 0.7965 - val_loss: 0.4470 - val_acc: 0.7753\n",
      "Epoch 85/100\n",
      "4/4 [==============================] - 5s 1s/step - loss: 0.4101 - acc: 0.7944 - val_loss: 0.4446 - val_acc: 0.7753\n",
      "Epoch 86/100\n",
      "4/4 [==============================] - 4s 1s/step - loss: 0.4075 - acc: 0.7993 - val_loss: 0.4452 - val_acc: 0.7760\n",
      "Epoch 87/100\n",
      "4/4 [==============================] - 4s 1s/step - loss: 0.4026 - acc: 0.7998 - val_loss: 0.4470 - val_acc: 0.7771\n",
      "Epoch 88/100\n",
      "4/4 [==============================] - 4s 1s/step - loss: 0.3980 - acc: 0.8023 - val_loss: 0.4491 - val_acc: 0.7759\n",
      "Epoch 89/100\n",
      "4/4 [==============================] - 5s 1s/step - loss: 0.3972 - acc: 0.8030 - val_loss: 0.4450 - val_acc: 0.7751\n",
      "Epoch 90/100\n"
     ]
    },
    {
     "name": "stdout",
     "output_type": "stream",
     "text": [
      "4/4 [==============================] - 4s 1s/step - loss: 0.3992 - acc: 0.8028 - val_loss: 0.4447 - val_acc: 0.7790\n",
      "Epoch 91/100\n",
      "4/4 [==============================] - 5s 1s/step - loss: 0.3989 - acc: 0.8019 - val_loss: 0.4433 - val_acc: 0.7793\n",
      "Epoch 92/100\n",
      "4/4 [==============================] - 4s 1s/step - loss: 0.3989 - acc: 0.8021 - val_loss: 0.4459 - val_acc: 0.7772\n",
      "Epoch 93/100\n",
      "4/4 [==============================] - 4s 1s/step - loss: 0.3932 - acc: 0.8105 - val_loss: 0.4440 - val_acc: 0.7792\n",
      "Epoch 94/100\n",
      "4/4 [==============================] - 4s 1s/step - loss: 0.3932 - acc: 0.8064 - val_loss: 0.4429 - val_acc: 0.7802\n",
      "Epoch 95/100\n",
      "4/4 [==============================] - 4s 1s/step - loss: 0.3923 - acc: 0.8091 - val_loss: 0.4407 - val_acc: 0.7791\n",
      "Epoch 96/100\n",
      "4/4 [==============================] - 4s 1s/step - loss: 0.3890 - acc: 0.8064 - val_loss: 0.4450 - val_acc: 0.7792\n",
      "Epoch 97/100\n",
      "4/4 [==============================] - 4s 1s/step - loss: 0.3880 - acc: 0.8122 - val_loss: 0.4446 - val_acc: 0.7800\n",
      "Epoch 98/100\n",
      "4/4 [==============================] - 4s 1s/step - loss: 0.3898 - acc: 0.8067 - val_loss: 0.4437 - val_acc: 0.7815\n",
      "Epoch 99/100\n",
      "4/4 [==============================] - 4s 1s/step - loss: 0.3857 - acc: 0.8103 - val_loss: 0.4464 - val_acc: 0.7809\n",
      "Epoch 100/100\n",
      "4/4 [==============================] - 4s 1s/step - loss: 0.3903 - acc: 0.8099 - val_loss: 0.4423 - val_acc: 0.7808\n",
      "\n",
      " \n",
      "\n",
      "Training model with 20000 training points:\n",
      "Epoch 1/100\n",
      "5/5 [==============================] - 8s 1s/step - loss: 0.6848 - acc: 0.5633 - val_loss: 0.6349 - val_acc: 0.6612\n",
      "Epoch 2/100\n",
      "5/5 [==============================] - 5s 1s/step - loss: 0.6413 - acc: 0.6571 - val_loss: 0.5912 - val_acc: 0.6612\n",
      "Epoch 3/100\n",
      "5/5 [==============================] - 5s 1s/step - loss: 0.5967 - acc: 0.6595 - val_loss: 0.5787 - val_acc: 0.6659\n",
      "Epoch 4/100\n",
      "5/5 [==============================] - 5s 1s/step - loss: 0.5872 - acc: 0.6594 - val_loss: 0.5737 - val_acc: 0.6717\n",
      "Epoch 5/100\n",
      "5/5 [==============================] - 5s 1s/step - loss: 0.5779 - acc: 0.6666 - val_loss: 0.5595 - val_acc: 0.6745\n",
      "Epoch 6/100\n",
      "5/5 [==============================] - 3s 736ms/step - loss: 0.5689 - acc: 0.6683 - val_loss: 0.5548 - val_acc: 0.6822\n",
      "Epoch 7/100\n",
      "5/5 [==============================] - 3s 626ms/step - loss: 0.5662 - acc: 0.6754 - val_loss: 0.5500 - val_acc: 0.6879\n",
      "Epoch 8/100\n",
      "5/5 [==============================] - 3s 630ms/step - loss: 0.5628 - acc: 0.6783 - val_loss: 0.5438 - val_acc: 0.6946\n",
      "Epoch 9/100\n",
      "5/5 [==============================] - 3s 631ms/step - loss: 0.5557 - acc: 0.6851 - val_loss: 0.5368 - val_acc: 0.7006\n",
      "Epoch 10/100\n",
      "5/5 [==============================] - 3s 633ms/step - loss: 0.5507 - acc: 0.6909 - val_loss: 0.5320 - val_acc: 0.7064\n",
      "Epoch 11/100\n",
      "5/5 [==============================] - 3s 633ms/step - loss: 0.5444 - acc: 0.6965 - val_loss: 0.5262 - val_acc: 0.7110\n",
      "Epoch 12/100\n",
      "5/5 [==============================] - 3s 633ms/step - loss: 0.5409 - acc: 0.6943 - val_loss: 0.5219 - val_acc: 0.7130\n",
      "Epoch 13/100\n",
      "5/5 [==============================] - 3s 629ms/step - loss: 0.5342 - acc: 0.7030 - val_loss: 0.5178 - val_acc: 0.7188\n",
      "Epoch 14/100\n",
      "5/5 [==============================] - 3s 642ms/step - loss: 0.5336 - acc: 0.7100 - val_loss: 0.5147 - val_acc: 0.7229\n",
      "Epoch 15/100\n",
      "5/5 [==============================] - 3s 625ms/step - loss: 0.5283 - acc: 0.7077 - val_loss: 0.5115 - val_acc: 0.7263\n",
      "Epoch 16/100\n",
      "5/5 [==============================] - 3s 646ms/step - loss: 0.5268 - acc: 0.7111 - val_loss: 0.5058 - val_acc: 0.7291\n",
      "Epoch 17/100\n",
      "5/5 [==============================] - 3s 618ms/step - loss: 0.5211 - acc: 0.7165 - val_loss: 0.5043 - val_acc: 0.7327\n",
      "Epoch 18/100\n",
      "5/5 [==============================] - 3s 632ms/step - loss: 0.5188 - acc: 0.7200 - val_loss: 0.5002 - val_acc: 0.7331\n",
      "Epoch 19/100\n",
      "5/5 [==============================] - 3s 642ms/step - loss: 0.5160 - acc: 0.7167 - val_loss: 0.5013 - val_acc: 0.7331\n",
      "Epoch 20/100\n",
      "5/5 [==============================] - 3s 629ms/step - loss: 0.5126 - acc: 0.7250 - val_loss: 0.4937 - val_acc: 0.7388\n",
      "Epoch 21/100\n",
      "5/5 [==============================] - 3s 618ms/step - loss: 0.5079 - acc: 0.7277 - val_loss: 0.4930 - val_acc: 0.7391\n",
      "Epoch 22/100\n",
      "5/5 [==============================] - 3s 660ms/step - loss: 0.5034 - acc: 0.7284 - val_loss: 0.4876 - val_acc: 0.7417\n",
      "Epoch 23/100\n",
      "5/5 [==============================] - 3s 628ms/step - loss: 0.5065 - acc: 0.7286 - val_loss: 0.4880 - val_acc: 0.7428\n",
      "Epoch 24/100\n",
      "5/5 [==============================] - 3s 633ms/step - loss: 0.5015 - acc: 0.7336 - val_loss: 0.4832 - val_acc: 0.7453\n",
      "Epoch 25/100\n",
      "5/5 [==============================] - 3s 625ms/step - loss: 0.4985 - acc: 0.7342 - val_loss: 0.4801 - val_acc: 0.7464\n",
      "Epoch 26/100\n",
      "5/5 [==============================] - 3s 623ms/step - loss: 0.4934 - acc: 0.7388 - val_loss: 0.4779 - val_acc: 0.7471\n",
      "Epoch 27/100\n",
      "5/5 [==============================] - 3s 631ms/step - loss: 0.4935 - acc: 0.7346 - val_loss: 0.4798 - val_acc: 0.7483\n",
      "Epoch 28/100\n",
      "5/5 [==============================] - 3s 624ms/step - loss: 0.4898 - acc: 0.7381 - val_loss: 0.4745 - val_acc: 0.7487\n",
      "Epoch 29/100\n",
      "5/5 [==============================] - 3s 624ms/step - loss: 0.4824 - acc: 0.7461 - val_loss: 0.4723 - val_acc: 0.7515\n",
      "Epoch 30/100\n",
      "5/5 [==============================] - 3s 630ms/step - loss: 0.4850 - acc: 0.7442 - val_loss: 0.4696 - val_acc: 0.7527\n",
      "Epoch 31/100\n",
      "5/5 [==============================] - 3s 638ms/step - loss: 0.4866 - acc: 0.7410 - val_loss: 0.4710 - val_acc: 0.7533\n",
      "Epoch 32/100\n",
      "5/5 [==============================] - 3s 641ms/step - loss: 0.4763 - acc: 0.7467 - val_loss: 0.4669 - val_acc: 0.7542\n",
      "Epoch 33/100\n",
      "5/5 [==============================] - 3s 637ms/step - loss: 0.4757 - acc: 0.7513 - val_loss: 0.4643 - val_acc: 0.7575\n",
      "Epoch 34/100\n",
      "5/5 [==============================] - 3s 629ms/step - loss: 0.4719 - acc: 0.7551 - val_loss: 0.4623 - val_acc: 0.7586\n",
      "Epoch 35/100\n",
      "5/5 [==============================] - 3s 638ms/step - loss: 0.4691 - acc: 0.7568 - val_loss: 0.4626 - val_acc: 0.7569\n",
      "Epoch 36/100\n",
      "5/5 [==============================] - 3s 643ms/step - loss: 0.4678 - acc: 0.7540 - val_loss: 0.4603 - val_acc: 0.7588\n",
      "Epoch 37/100\n",
      "5/5 [==============================] - 3s 626ms/step - loss: 0.4723 - acc: 0.7543 - val_loss: 0.4613 - val_acc: 0.7607\n",
      "Epoch 38/100\n",
      "5/5 [==============================] - 3s 641ms/step - loss: 0.4672 - acc: 0.7584 - val_loss: 0.4592 - val_acc: 0.7606\n",
      "Epoch 39/100\n",
      "5/5 [==============================] - 3s 670ms/step - loss: 0.4682 - acc: 0.7544 - val_loss: 0.4599 - val_acc: 0.7556\n",
      "Epoch 40/100\n",
      "5/5 [==============================] - 3s 627ms/step - loss: 0.4615 - acc: 0.7600 - val_loss: 0.4572 - val_acc: 0.7626\n",
      "Epoch 41/100\n",
      "5/5 [==============================] - 3s 654ms/step - loss: 0.4627 - acc: 0.7568 - val_loss: 0.4552 - val_acc: 0.7636\n",
      "Epoch 42/100\n",
      "5/5 [==============================] - 3s 624ms/step - loss: 0.4561 - acc: 0.7666 - val_loss: 0.4535 - val_acc: 0.7642\n",
      "Epoch 43/100\n",
      "5/5 [==============================] - 3s 639ms/step - loss: 0.4526 - acc: 0.7655 - val_loss: 0.4515 - val_acc: 0.7649\n",
      "Epoch 44/100\n",
      "5/5 [==============================] - 3s 637ms/step - loss: 0.4536 - acc: 0.7679 - val_loss: 0.4516 - val_acc: 0.7663\n",
      "Epoch 45/100\n",
      "5/5 [==============================] - 3s 640ms/step - loss: 0.4520 - acc: 0.7676 - val_loss: 0.4499 - val_acc: 0.7668\n",
      "Epoch 46/100\n",
      "5/5 [==============================] - 3s 616ms/step - loss: 0.4488 - acc: 0.7706 - val_loss: 0.4508 - val_acc: 0.7666\n",
      "Epoch 47/100\n",
      "5/5 [==============================] - 3s 622ms/step - loss: 0.4487 - acc: 0.7694 - val_loss: 0.4483 - val_acc: 0.7687\n",
      "Epoch 48/100\n",
      "5/5 [==============================] - 3s 623ms/step - loss: 0.4458 - acc: 0.7712 - val_loss: 0.4496 - val_acc: 0.7679\n",
      "Epoch 49/100\n",
      "5/5 [==============================] - 3s 627ms/step - loss: 0.4426 - acc: 0.7774 - val_loss: 0.4497 - val_acc: 0.7660\n",
      "Epoch 50/100\n",
      "5/5 [==============================] - 3s 620ms/step - loss: 0.4460 - acc: 0.7722 - val_loss: 0.4469 - val_acc: 0.7680\n",
      "Epoch 51/100\n",
      "5/5 [==============================] - 3s 623ms/step - loss: 0.4412 - acc: 0.7759 - val_loss: 0.4460 - val_acc: 0.7702\n",
      "Epoch 52/100\n",
      "5/5 [==============================] - 3s 627ms/step - loss: 0.4403 - acc: 0.7746 - val_loss: 0.4446 - val_acc: 0.7720\n",
      "Epoch 53/100\n",
      "5/5 [==============================] - 3s 628ms/step - loss: 0.4413 - acc: 0.7767 - val_loss: 0.4434 - val_acc: 0.7714\n",
      "Epoch 54/100\n",
      "5/5 [==============================] - 3s 629ms/step - loss: 0.4361 - acc: 0.7780 - val_loss: 0.4440 - val_acc: 0.7716\n",
      "Epoch 55/100\n",
      "5/5 [==============================] - 3s 631ms/step - loss: 0.4380 - acc: 0.7791 - val_loss: 0.4411 - val_acc: 0.7728\n",
      "Epoch 56/100\n",
      "5/5 [==============================] - 3s 629ms/step - loss: 0.4309 - acc: 0.7828 - val_loss: 0.4426 - val_acc: 0.7756\n",
      "Epoch 57/100\n",
      "5/5 [==============================] - 3s 636ms/step - loss: 0.4355 - acc: 0.7802 - val_loss: 0.4421 - val_acc: 0.7731\n",
      "Epoch 58/100\n",
      "5/5 [==============================] - 3s 623ms/step - loss: 0.4319 - acc: 0.7818 - val_loss: 0.4412 - val_acc: 0.7738\n",
      "Epoch 59/100\n",
      "5/5 [==============================] - 3s 631ms/step - loss: 0.4337 - acc: 0.7794 - val_loss: 0.4372 - val_acc: 0.7764\n",
      "Epoch 60/100\n",
      "5/5 [==============================] - 3s 644ms/step - loss: 0.4270 - acc: 0.7856 - val_loss: 0.4411 - val_acc: 0.7778\n",
      "Epoch 61/100\n",
      "5/5 [==============================] - 3s 631ms/step - loss: 0.4248 - acc: 0.7875 - val_loss: 0.4363 - val_acc: 0.7785\n",
      "Epoch 62/100\n",
      "5/5 [==============================] - 3s 634ms/step - loss: 0.4230 - acc: 0.7894 - val_loss: 0.4375 - val_acc: 0.7790\n",
      "Epoch 63/100\n",
      "5/5 [==============================] - 3s 632ms/step - loss: 0.4252 - acc: 0.7892 - val_loss: 0.4361 - val_acc: 0.7782\n",
      "Epoch 64/100\n",
      "5/5 [==============================] - 3s 635ms/step - loss: 0.4170 - acc: 0.7927 - val_loss: 0.4349 - val_acc: 0.7809\n",
      "Epoch 65/100\n",
      "5/5 [==============================] - 3s 672ms/step - loss: 0.4220 - acc: 0.7895 - val_loss: 0.4318 - val_acc: 0.7823\n",
      "Epoch 66/100\n",
      "5/5 [==============================] - 3s 640ms/step - loss: 0.4162 - acc: 0.7954 - val_loss: 0.4303 - val_acc: 0.7832\n",
      "Epoch 67/100\n",
      "5/5 [==============================] - 3s 659ms/step - loss: 0.4150 - acc: 0.7953 - val_loss: 0.4304 - val_acc: 0.7847\n",
      "Epoch 68/100\n",
      "5/5 [==============================] - 3s 627ms/step - loss: 0.4126 - acc: 0.7934 - val_loss: 0.4301 - val_acc: 0.7852\n",
      "Epoch 69/100\n",
      "5/5 [==============================] - 3s 627ms/step - loss: 0.4140 - acc: 0.7940 - val_loss: 0.4289 - val_acc: 0.7854\n",
      "Epoch 70/100\n",
      "5/5 [==============================] - 3s 630ms/step - loss: 0.4124 - acc: 0.7958 - val_loss: 0.4297 - val_acc: 0.7865\n",
      "Epoch 71/100\n",
      "5/5 [==============================] - 3s 636ms/step - loss: 0.4117 - acc: 0.7987 - val_loss: 0.4302 - val_acc: 0.7842\n",
      "Epoch 72/100\n",
      "5/5 [==============================] - 3s 637ms/step - loss: 0.4126 - acc: 0.7989 - val_loss: 0.4277 - val_acc: 0.7864\n",
      "Epoch 73/100\n",
      "5/5 [==============================] - 3s 638ms/step - loss: 0.4059 - acc: 0.8005 - val_loss: 0.4284 - val_acc: 0.7871\n",
      "Epoch 74/100\n",
      "5/5 [==============================] - 3s 635ms/step - loss: 0.4075 - acc: 0.7957 - val_loss: 0.4257 - val_acc: 0.7883\n",
      "Epoch 75/100\n",
      "5/5 [==============================] - 3s 640ms/step - loss: 0.4064 - acc: 0.8006 - val_loss: 0.4241 - val_acc: 0.7890\n",
      "Epoch 76/100\n",
      "5/5 [==============================] - 3s 624ms/step - loss: 0.4061 - acc: 0.7987 - val_loss: 0.4262 - val_acc: 0.7893\n",
      "Epoch 77/100\n",
      "5/5 [==============================] - 3s 623ms/step - loss: 0.4040 - acc: 0.7978 - val_loss: 0.4274 - val_acc: 0.7874\n",
      "Epoch 78/100\n",
      "5/5 [==============================] - 3s 631ms/step - loss: 0.3968 - acc: 0.8036 - val_loss: 0.4226 - val_acc: 0.7906\n",
      "Epoch 79/100\n",
      "5/5 [==============================] - 3s 623ms/step - loss: 0.3967 - acc: 0.8051 - val_loss: 0.4254 - val_acc: 0.7880\n",
      "Epoch 80/100\n",
      "5/5 [==============================] - 3s 632ms/step - loss: 0.4011 - acc: 0.8036 - val_loss: 0.4211 - val_acc: 0.7917\n",
      "Epoch 81/100\n",
      "5/5 [==============================] - 3s 627ms/step - loss: 0.3941 - acc: 0.8061 - val_loss: 0.4202 - val_acc: 0.7916\n",
      "Epoch 82/100\n",
      "5/5 [==============================] - 3s 621ms/step - loss: 0.3951 - acc: 0.8078 - val_loss: 0.4211 - val_acc: 0.7920\n",
      "Epoch 83/100\n",
      "5/5 [==============================] - 3s 628ms/step - loss: 0.3907 - acc: 0.8115 - val_loss: 0.4235 - val_acc: 0.7914\n",
      "Epoch 84/100\n",
      "5/5 [==============================] - 3s 633ms/step - loss: 0.3935 - acc: 0.8096 - val_loss: 0.4179 - val_acc: 0.7938\n",
      "Epoch 85/100\n",
      "5/5 [==============================] - 3s 621ms/step - loss: 0.3852 - acc: 0.8124 - val_loss: 0.4199 - val_acc: 0.7938\n",
      "Epoch 86/100\n",
      "5/5 [==============================] - 3s 626ms/step - loss: 0.3848 - acc: 0.8147 - val_loss: 0.4196 - val_acc: 0.7943\n",
      "Epoch 87/100\n",
      "5/5 [==============================] - 3s 631ms/step - loss: 0.3869 - acc: 0.8125 - val_loss: 0.4174 - val_acc: 0.7952\n",
      "Epoch 88/100\n",
      "5/5 [==============================] - 3s 632ms/step - loss: 0.3814 - acc: 0.8163 - val_loss: 0.4187 - val_acc: 0.7942\n",
      "Epoch 89/100\n",
      "5/5 [==============================] - 3s 636ms/step - loss: 0.3800 - acc: 0.8150 - val_loss: 0.4167 - val_acc: 0.7948\n",
      "Epoch 90/100\n",
      "5/5 [==============================] - 3s 622ms/step - loss: 0.3760 - acc: 0.8202 - val_loss: 0.4200 - val_acc: 0.7951\n",
      "Epoch 91/100\n",
      "5/5 [==============================] - 3s 635ms/step - loss: 0.3827 - acc: 0.8166 - val_loss: 0.4140 - val_acc: 0.7962\n",
      "Epoch 92/100\n",
      "5/5 [==============================] - 3s 633ms/step - loss: 0.3762 - acc: 0.8169 - val_loss: 0.4160 - val_acc: 0.7965\n",
      "Epoch 93/100\n",
      "5/5 [==============================] - 3s 625ms/step - loss: 0.3767 - acc: 0.8183 - val_loss: 0.4156 - val_acc: 0.7956\n",
      "Epoch 94/100\n",
      "5/5 [==============================] - 3s 631ms/step - loss: 0.3818 - acc: 0.8108 - val_loss: 0.4172 - val_acc: 0.7968\n",
      "Epoch 95/100\n",
      "5/5 [==============================] - 3s 628ms/step - loss: 0.3824 - acc: 0.8144 - val_loss: 0.4151 - val_acc: 0.7969\n",
      "Epoch 96/100\n",
      "5/5 [==============================] - 3s 629ms/step - loss: 0.3720 - acc: 0.8201 - val_loss: 0.4174 - val_acc: 0.7944\n",
      "Epoch 97/100\n",
      "5/5 [==============================] - 3s 624ms/step - loss: 0.3713 - acc: 0.8232 - val_loss: 0.4144 - val_acc: 0.7968\n",
      "Epoch 98/100\n",
      "5/5 [==============================] - 3s 634ms/step - loss: 0.3714 - acc: 0.8208 - val_loss: 0.4130 - val_acc: 0.7980\n",
      "Epoch 99/100\n",
      "5/5 [==============================] - 3s 635ms/step - loss: 0.3734 - acc: 0.8203 - val_loss: 0.4150 - val_acc: 0.7969\n",
      "Epoch 100/100\n",
      "5/5 [==============================] - 3s 626ms/step - loss: 0.3660 - acc: 0.8268 - val_loss: 0.4120 - val_acc: 0.7984\n",
      "\n",
      " \n",
      "\n"
     ]
    }
   ],
   "source": [
    "training_size = [1000, 2000, 5000,\n",
    "                10_000, 12_500, 15_000, 20_000]#, 30_000, 50_000,\n",
    "                 #100_000, 200_000, 500_000,\n",
    "                 #1_000_000, x_train.shape[0]]\n",
    "train_losses = []\n",
    "val_losses = []\n",
    "\n",
    "train_accuracies = []\n",
    "val_accuracies = []\n",
    "\n",
    "permuted_idx = np.random.permutation(x_train.shape[0])\n",
    "permuted_x = x_train[permuted_idx]\n",
    "permuted_y = Y_train[permuted_idx]\n",
    "\n",
    "for size in training_size:\n",
    "\n",
    "    x_sample = permuted_x[:size]\n",
    "    y_sample = permuted_y[:size]\n",
    "    \n",
    "    batch_size = size if size <= 10_000 else 4096\n",
    "    patience = 25 if size <= 10_000 else 5\n",
    "    \n",
    "    print(f\"Training model with {size} training points:\")\n",
    "    model = nn_classifier_big()\n",
    "    model.compile(optimizer = 'adam', loss = 'binary_crossentropy', metrics = 'acc')\n",
    "    stop_early = tf.keras.callbacks.EarlyStopping(monitor = 'val_acc', patience = patience)\n",
    "    history = model.fit(x_sample,\n",
    "                        y_sample,\n",
    "                        validation_data = (x_val_sample, y_val_sample),\n",
    "                        batch_size = batch_size,\n",
    "                        epochs = 100,\n",
    "                        callbacks = [stop_early])\n",
    "\n",
    "    train_losses.append(history.history['loss'])\n",
    "    val_losses.append(history.history['val_loss'])\n",
    "    train_accuracies.append(history.history['acc'])\n",
    "    val_accuracies.append(history.history['val_acc'])\n",
    "    \n",
    "    print(\"\\n \\n\")"
   ]
  },
  {
   "cell_type": "code",
   "execution_count": null,
   "id": "263ac942",
   "metadata": {},
   "outputs": [
    {
     "data": {
      "image/png": "[encoded data removed]",
      "text/plain": [
       "<Figure size 864x576 with 2 Axes>"
      ]
     },
     "metadata": {
      "needs_background": "light"
     },
     "output_type": "display_data"
    }
   ],
   "source": [
    "#loss_ = [x[-1] for x in val_losses]\n",
    "#acc_ = [x[-1] for x in val_accuracies]\n",
    "acc_ = []\n",
    "loss_ = []\n",
    "for i in range(len(val_losses)):\n",
    "    acc_idx = np.argmax(np.array(val_accuracies[i]))\n",
    "    acc_.append(val_accuracies[i][acc_idx])\n",
    "    loss_.append(val_losses[i][acc_idx])\n",
    "\n",
    "trainable_params = np.sum([np.prod(v.get_shape()) for v in model.trainable_weights])\n",
    "ratio = training_size / trainable_params\n",
    "\n",
    "\n",
    "mosaic = \"\"\"\n",
    "    A\n",
    "    A\n",
    "    B\n",
    "\"\"\"\n",
    "\n",
    "fig = plt.figure(constrained_layout= True, figsize = (12,8))\n",
    "\n",
    "ax_dict = fig.subplot_mosaic(mosaic)\n",
    "\n",
    "ax_dict[\"A\"].plot(training_size, acc_, \"-o\")\n",
    "ax_dict[\"A\"].set_xscale(\"log\");\n",
    "ax_dict[\"A\"].set_ylabel(\"Validation Accuracy\", size = 18);\n",
    "ax_dict[\"A\"].grid()\n",
    "\n",
    "ax_dict[\"B\"].plot(training_size, ratio, \"-o\", color = \"orange\")\n",
    "ax_dict[\"B\"].set_xscale(\"log\");\n",
    "ax_dict[\"B\"].set_yscale(\"log\");\n",
    "ax_dict[\"B\"].hlines(1, training_size[0], training_size[-1], linestyles = \"dashed\", color = \"k\")\n",
    "ax_dict[\"B\"].grid()\n",
    "ax_dict[\"B\"].set_ylabel(r\"$\\frac{Training\\ Points}{Number\\ of\\ Parameters}$\", size = 18);\n",
    "\n",
    "plt.xlabel(\"Number of Training Points\");\n"
   ]
  },
  {
   "cell_type": "code",
   "execution_count": 63,
   "id": "a352cac7",
   "metadata": {},
   "outputs": [],
   "source": [
    "import shap\n",
    "from shap import Explanation"
   ]
  },
  {
   "cell_type": "code",
   "execution_count": 50,
   "id": "c5c142d4",
   "metadata": {},
   "outputs": [],
   "source": [
    "df_train = pd.DataFrame(data = x_train, columns = train_keys)\n",
    "df_val = pd.DataFrame(data = x_val, columns = train_keys)"
   ]
  },
  {
   "cell_type": "code",
   "execution_count": null,
   "id": "a7905158",
   "metadata": {},
   "outputs": [],
   "source": [
    "x_train_df = pd.DataFrame(x_train, columns = train_keys)\n",
    "x_val_df = pd.DataFrame(x_val, columns = train_keys)"
   ]
  },
  {
   "cell_type": "code",
   "execution_count": 54,
   "id": "59dce60e",
   "metadata": {},
   "outputs": [
    {
     "name": "stderr",
     "output_type": "stream",
     "text": [
      "Permutation explainer: 1001it [1:12:24,  4.35s/it]                          \n"
     ]
    }
   ],
   "source": [
    "f = lambda x: model.predict(x)\n",
    "#med = np.median(x, axis = 0).reshape((1,x_train.shape[1]))\n",
    "\n",
    "explainer = shap.Explainer(f, df)\n",
    "#explainer = shap.explainers.Permutation(f, df)\n",
    "\n",
    "shap_values = explainer(df_val[:1000])"
   ]
  },
  {
   "cell_type": "code",
   "execution_count": 55,
   "id": "ff1ab770",
   "metadata": {},
   "outputs": [
    {
     "data": {
      "image/png": "[encoded data removed]",
      "text/plain": [
       "<Figure size 576x540 with 2 Axes>"
      ]
     },
     "metadata": {
      "needs_background": "light"
     },
     "output_type": "display_data"
    }
   ],
   "source": [
    "shap.plots.beeswarm(shap_values, max_display = 20)"
   ]
  },
  {
   "cell_type": "code",
   "execution_count": 69,
   "id": "89e97191",
   "metadata": {},
   "outputs": [
    {
     "ename": "Exception",
     "evalue": "waterfall_plot requires a scalar base_values of the model output as the first parameter, but you have passed an array as the first parameter! Try shap.waterfall_plot(explainer.base_values[0], values[0], X[0]) or for multi-output models try shap.waterfall_plot(explainer.base_values[0], values[0][0], X[0]).",
     "output_type": "error",
     "traceback": [
      "\u001b[0;31m---------------------------------------------------------------------------\u001b[0m",
      "\u001b[0;31mException\u001b[0m                                 Traceback (most recent call last)",
      "\u001b[0;32m/tmp/ipykernel_102939/1189868841.py\u001b[0m in \u001b[0;36m<module>\u001b[0;34m\u001b[0m\n\u001b[0;32m----> 1\u001b[0;31m \u001b[0mshap\u001b[0m\u001b[0;34m.\u001b[0m\u001b[0mplots\u001b[0m\u001b[0;34m.\u001b[0m\u001b[0mwaterfall\u001b[0m\u001b[0;34m(\u001b[0m\u001b[0mshap_values\u001b[0m\u001b[0;34m,\u001b[0m \u001b[0mmax_display\u001b[0m\u001b[0;34m=\u001b[0m\u001b[0;36m20\u001b[0m\u001b[0;34m)\u001b[0m\u001b[0;34m\u001b[0m\u001b[0;34m\u001b[0m\u001b[0m\n\u001b[0m",
      "\u001b[0;32m~/.conda/envs/UKAEA/lib/python3.9/site-packages/comet_ml/monkey_patching.py\u001b[0m in \u001b[0;36mwrapper\u001b[0;34m(*args, **kwargs)\u001b[0m\n\u001b[1;32m    310\u001b[0m                     )\n\u001b[1;32m    311\u001b[0m \u001b[0;34m\u001b[0m\u001b[0m\n\u001b[0;32m--> 312\u001b[0;31m         \u001b[0mreturn_value\u001b[0m \u001b[0;34m=\u001b[0m \u001b[0moriginal\u001b[0m\u001b[0;34m(\u001b[0m\u001b[0;34m*\u001b[0m\u001b[0margs\u001b[0m\u001b[0;34m,\u001b[0m \u001b[0;34m**\u001b[0m\u001b[0mkwargs\u001b[0m\u001b[0;34m)\u001b[0m\u001b[0;34m\u001b[0m\u001b[0;34m\u001b[0m\u001b[0m\n\u001b[0m\u001b[1;32m    313\u001b[0m \u001b[0;34m\u001b[0m\u001b[0m\n\u001b[1;32m    314\u001b[0m         \u001b[0;31m# Call after callbacks once we have the return value\u001b[0m\u001b[0;34m\u001b[0m\u001b[0;34m\u001b[0m\u001b[0m\n",
      "\u001b[0;32m~/.conda/envs/UKAEA/lib/python3.9/site-packages/shap/plots/_waterfall.py\u001b[0m in \u001b[0;36mwaterfall\u001b[0;34m(shap_values, max_display, show)\u001b[0m\n\u001b[1;32m     54\u001b[0m     \u001b[0;31m# make sure we only have a single output to explain\u001b[0m\u001b[0;34m\u001b[0m\u001b[0;34m\u001b[0m\u001b[0m\n\u001b[1;32m     55\u001b[0m     \u001b[0;32mif\u001b[0m \u001b[0;34m(\u001b[0m\u001b[0mtype\u001b[0m\u001b[0;34m(\u001b[0m\u001b[0mbase_values\u001b[0m\u001b[0;34m)\u001b[0m \u001b[0;34m==\u001b[0m \u001b[0mnp\u001b[0m\u001b[0;34m.\u001b[0m\u001b[0mndarray\u001b[0m \u001b[0;32mand\u001b[0m \u001b[0mlen\u001b[0m\u001b[0;34m(\u001b[0m\u001b[0mbase_values\u001b[0m\u001b[0;34m)\u001b[0m \u001b[0;34m>\u001b[0m \u001b[0;36m0\u001b[0m\u001b[0;34m)\u001b[0m \u001b[0;32mor\u001b[0m \u001b[0mtype\u001b[0m\u001b[0;34m(\u001b[0m\u001b[0mbase_values\u001b[0m\u001b[0;34m)\u001b[0m \u001b[0;34m==\u001b[0m \u001b[0mlist\u001b[0m\u001b[0;34m:\u001b[0m\u001b[0;34m\u001b[0m\u001b[0;34m\u001b[0m\u001b[0m\n\u001b[0;32m---> 56\u001b[0;31m         raise Exception(\"waterfall_plot requires a scalar base_values of the model output as the first \" \\\n\u001b[0m\u001b[1;32m     57\u001b[0m                         \u001b[0;34m\"parameter, but you have passed an array as the first parameter! \"\u001b[0m\u001b[0;31m \u001b[0m\u001b[0;31m\\\u001b[0m\u001b[0;34m\u001b[0m\u001b[0;34m\u001b[0m\u001b[0m\n\u001b[1;32m     58\u001b[0m                         \u001b[0;34m\"Try shap.waterfall_plot(explainer.base_values[0], values[0], X[0]) or \"\u001b[0m\u001b[0;31m \u001b[0m\u001b[0;31m\\\u001b[0m\u001b[0;34m\u001b[0m\u001b[0;34m\u001b[0m\u001b[0m\n",
      "\u001b[0;31mException\u001b[0m: waterfall_plot requires a scalar base_values of the model output as the first parameter, but you have passed an array as the first parameter! Try shap.waterfall_plot(explainer.base_values[0], values[0], X[0]) or for multi-output models try shap.waterfall_plot(explainer.base_values[0], values[0][0], X[0])."
     ]
    }
   ],
   "source": [
    "shap.plots.waterfall(shap_values, max_display=20)"
   ]
  },
  {
   "cell_type": "code",
   "execution_count": 68,
   "id": "cd77b167",
   "metadata": {},
   "outputs": [
    {
     "data": {
      "text/plain": [
       ".values =\n",
       "array([ 1.12395370e-02,  6.42691167e-02,  5.27819832e-03,  3.25836086e-03,\n",
       "        1.61726223e-02, -5.90397120e-04,  3.72529056e-11,  5.40620706e-02,\n",
       "       -3.81295320e-02,  1.57764612e-02,  1.76101623e-02,  1.85646143e-01,\n",
       "       -2.58921091e-03,  3.48726942e-03, -5.03727866e-02])\n",
       "\n",
       ".base_values =\n",
       "array([0.71480557])\n",
       "\n",
       ".data =\n",
       "array([-3.31189206e-02, -3.21823551e-01, -2.21116535e-01, -5.67875277e-01,\n",
       "       -7.44960860e-01, -2.22011916e-01, -2.27728735e-04, -9.01294808e-01,\n",
       "       -4.08028458e-01, -3.75115312e-01, -1.39294802e-01, -8.99836469e-02,\n",
       "       -1.22795960e-01, -8.65711560e-02, -1.30170249e+00])"
      ]
     },
     "execution_count": 68,
     "metadata": {},
     "output_type": "execute_result"
    }
   ],
   "source": [
    "shap_values[0]"
   ]
  },
  {
   "cell_type": "code",
   "execution_count": null,
   "id": "4a5a7e3a",
   "metadata": {},
   "outputs": [],
   "source": [
    "train_keys"
   ]
  },
  {
   "cell_type": "code",
   "execution_count": null,
   "metadata": {},
   "outputs": [],
   "source": []
  }
 ],
 "metadata": {
  "kernelspec": {
   "display_name": "Python 3 (ipykernel)",
   "language": "python",
   "name": "python3"
  },
  "language_info": {
   "codemirror_mode": {
    "name": "ipython",
    "version": 3
   },
   "file_extension": ".py",
   "mimetype": "text/x-python",
   "name": "python",
   "nbconvert_exporter": "python",
   "pygments_lexer": "ipython3",
   "version": "3.9.0"
  }
 },
 "nbformat": 4,
 "nbformat_minor": 5
}
