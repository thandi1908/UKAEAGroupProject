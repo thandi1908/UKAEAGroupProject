{
 "cells": [
  {
   "cell_type": "code",
   "execution_count": 1,
   "metadata": {},
   "outputs": [],
   "source": [
    "from scripts.pipeline_tools import (\n",
    "    classifier_accuracy,\n",
    "    prepare_data,\n",
    "    regressor_uncertainty,\n",
    "    select_unstable_data,\n",
    "    retrain_regressor,\n",
    "    plot_scatter,\n",
    "    uncertainty_change\n",
    ")\n",
    "from scripts.Models import ITGDatasetDF, load_model, ITGDataset\n",
    "from sklearn.preprocessing import StandardScaler\n",
    "from torch.utils.data import DataLoader\n",
    "from scripts.utils import train_keys\n",
    "import copy\n",
    "import numpy as np\n",
    "from tqdm.auto import tqdm\n",
    "import matplotlib.pyplot as plt"
   ]
  },
  {
   "cell_type": "code",
   "execution_count": 2,
   "metadata": {},
   "outputs": [],
   "source": [
    "pretrained = {\n",
    "    \"ITG_class\": {\n",
    "        \"trained\": True,\n",
    "        # \"save_path\": \"/home/tmadula/UKAEAGroupProject/src/notebooks/classifier_model.pt\",\n",
    "        # \"save_path\": \"/unix/atlastracking/jbarr/UKAEAGroupProject/src/notebooks/classifier_model.pt\",\n",
    "        \"save_path\": \"/Users/thandikiremadula/Desktop/UKAEA_data/classifier_model.pt\"\n",
    "    },\n",
    "    \"ITG_reg\": {\n",
    "        \"trained\": True,\n",
    "        # \"save_path\": \"/home/tmadula/UKAEAGroupProject/src/notebooks/regression_model.pt\",\n",
    "        # \"save_path\": \"/unix/atlastracking/jbarr/UKAEAGroupProject/src/notebooks/regression_model.pt\",\n",
    "        \"save_path\": \"/Users/thandikiremadula/Desktop/UKAEA_data/regression_model.pt\"\n",
    "    },\n",
    "}\n",
    "\n",
    "# Data loading\n",
    "\n",
    "# TRAIN_PATH = \"/share/rcifdata/jbarr/UKAEAGroupProject/data/train_data_clipped.pkl\"\n",
    "# TRAIN_PATH = \"/unix/atlastracking/jbarr/train_data_clipped.pkl\"\n",
    "TRAIN_PATH = \"/Users/thandikiremadula/Desktop/UKAEA_data/train_data_clipped.pkl\"\n",
    "\n",
    "# VALIDATION_PATH = \"/share/rcifdata/jbarr/UKAEAGroupProject/data/valid_data_clipped.pkl\"\n",
    "# VALIDATION_PATH = \"/unix/atlastracking/jbarr/valid_data_clipped.pkl\"\n",
    "VALIDATION_PATH = \"/Users/thandikiremadula/Desktop/UKAEA_data/valid_data_clipped.pkl\""
   ]
  },
  {
   "cell_type": "code",
   "execution_count": 3,
   "metadata": {},
   "outputs": [],
   "source": [
    "train_data, val_data = prepare_data(\n",
    "    TRAIN_PATH, VALIDATION_PATH, target_column=\"efiitg_gb\", target_var=\"itg\"\n",
    ")\n",
    "\n",
    "scaler = StandardScaler()\n",
    "scaler.fit_transform(train_data.drop([\"itg\"], axis=1))\n",
    "\n",
    "train_dataset = ITGDatasetDF(train_data, target_column=\"efiitg_gb\", target_var=\"itg\")\n",
    "valid_dataset = ITGDatasetDF(val_data, target_column=\"efiitg_gb\", target_var=\"itg\")\n",
    "\n",
    "# # TODO: further testing of the scale function\n",
    "train_dataset.scale(scaler)\n",
    "valid_dataset.scale(scaler)"
   ]
  },
  {
   "cell_type": "code",
   "execution_count": 4,
   "metadata": {},
   "outputs": [
    {
     "name": "stdout",
     "output_type": "stream",
     "text": [
      "ITG_class\n",
      "ITG_reg\n",
      "Loaded the following models:\n",
      "\n",
      "Model: ITG_class\n",
      "\n",
      "Model: ITG_reg\n",
      "\n"
     ]
    }
   ],
   "source": [
    "# Load pretrained models\n",
    "models = {}\n",
    "for model in pretrained:\n",
    "    if pretrained[model][\"trained\"] == True:\n",
    "        trained_model = load_model(model, pretrained[model][\"save_path\"])\n",
    "        models[model] = trained_model\n",
    "print(\"Loaded the following models:\\n\")\n",
    "for model_name in models:\n",
    "    print(f\"Model: {model_name}\\n\")\n",
    "    # print(models[model_name])"
   ]
  },
  {
   "cell_type": "code",
   "execution_count": 5,
   "metadata": {},
   "outputs": [],
   "source": [
    "# TODO: Needs to be the true training samples used!!!\n",
    "train_sample = train_dataset.sample(10_000)\n",
    "valid_sample = valid_dataset.sample(10_000)\n",
    "\n",
    "\n",
    "# remove the sampled data points from the dataset\n",
    "valid_dataset.remove(valid_sample.data.index)"
   ]
  },
  {
   "cell_type": "code",
   "execution_count": 6,
   "metadata": {},
   "outputs": [
    {
     "name": "stdout",
     "output_type": "stream",
     "text": [
      "\n",
      "Running classifier selection...\n",
      "\n"
     ]
    },
    {
     "name": "stderr",
     "output_type": "stream",
     "text": [
      "100%|██████████| 100/100 [00:03<00:00, 26.34it/s]"
     ]
    },
    {
     "name": "stdout",
     "output_type": "stream",
     "text": [
      "\n",
      "Stable points: 7468\n",
      "Misclassified points: 650\n",
      "Percentage of misclassified points:  6.5%\n",
      "\n",
      "Dropped 7684 rows\n"
     ]
    },
    {
     "name": "stderr",
     "output_type": "stream",
     "text": [
      "\n"
     ]
    }
   ],
   "source": [
    "select_unstable_data(valid_sample, batch_size=100, classifier=models[\"ITG_class\"])"
   ]
  },
  {
   "cell_type": "code",
   "execution_count": 7,
   "metadata": {},
   "outputs": [
    {
     "name": "stdout",
     "output_type": "stream",
     "text": [
      "\n",
      "Running MC Dropout....\n",
      "\n"
     ]
    },
    {
     "name": "stderr",
     "output_type": "stream",
     "text": [
      "100%|██████████| 15/15 [00:19<00:00,  1.30s/it]\n"
     ]
    },
    {
     "name": "stdout",
     "output_type": "stream",
     "text": [
      "\n",
      "Number of points passed for MC dropout: 2316\n"
     ]
    }
   ],
   "source": [
    "uncertain_datset, uncert_before, data_idx = regressor_uncertainty(\n",
    "    valid_sample, models[\"ITG_reg\"], n_runs=15, keep=0.25\n",
    ")\n",
    "\n",
    "train_sample.add(uncertain_datset)\n",
    "\n",
    "uncertain_loader = DataLoader(train_sample, batch_size=len(train_sample), shuffle=True)"
   ]
  },
  {
   "cell_type": "code",
   "execution_count": 8,
   "metadata": {},
   "outputs": [],
   "source": [
    "prediction_before, prediction_idx_order = models[\"ITG_reg\"].predict(uncertain_loader)"
   ]
  },
  {
   "cell_type": "code",
   "execution_count": 9,
   "metadata": {},
   "outputs": [],
   "source": [
    "# Switching validation dataset to numpy arrays to see if it is quicker\n",
    "x_array = valid_dataset.data[train_keys].values\n",
    "y_array = valid_dataset.data[\"itg\"].values\n",
    "z_array = valid_dataset.data[\"efiitg_gb\"].values\n",
    "dataset_numpy = ITGDataset(x_array, y_array, z_array)\n",
    "valid_loader = DataLoader(\n",
    "    dataset_numpy, batch_size=int(0.1 * len(y_array)), shuffle=True\n",
    ")"
   ]
  },
  {
   "cell_type": "code",
   "execution_count": 10,
   "metadata": {},
   "outputs": [
    {
     "name": "stdout",
     "output_type": "stream",
     "text": [
      "\n",
      "Retraining regressor...\n",
      "\n",
      "Training on 10579 points\n"
     ]
    },
    {
     "name": "stderr",
     "output_type": "stream",
     "text": [
      "100%|██████████| 11/11 [00:15<00:00,  1.41s/it]\n"
     ]
    },
    {
     "name": "stdout",
     "output_type": "stream",
     "text": [
      "Initial loss: 0.7401\n",
      "Train Step:  0\n",
      "Loss: 1.1762\n",
      "Validation Step:  0\n"
     ]
    },
    {
     "name": "stderr",
     "output_type": "stream",
     "text": [
      "100%|██████████| 11/11 [00:15<00:00,  1.43s/it]\n"
     ]
    },
    {
     "name": "stdout",
     "output_type": "stream",
     "text": [
      "Test loss: 0.6682\n",
      "Train Step:  1\n",
      "Loss: 1.0512\n",
      "Train Step:  2\n",
      "Loss: 0.9473\n",
      "Train Step:  3\n",
      "Loss: 0.8681\n",
      "Train Step:  4\n",
      "Loss: 0.8076\n",
      "Train Step:  5\n",
      "Loss: 0.7674\n",
      "Train Step:  6\n",
      "Loss: 0.7341\n",
      "Train Step:  7\n",
      "Loss: 0.7004\n",
      "Train Step:  8\n",
      "Loss: 0.6609\n",
      "Train Step:  9\n",
      "Loss: 0.6127\n",
      "Train Step:  10\n",
      "Loss: 0.5735\n",
      "Validation Step:  10\n"
     ]
    },
    {
     "name": "stderr",
     "output_type": "stream",
     "text": [
      "100%|██████████| 11/11 [00:16<00:00,  1.48s/it]\n"
     ]
    },
    {
     "name": "stdout",
     "output_type": "stream",
     "text": [
      "Test loss: 0.3917\n",
      "Train Step:  11\n",
      "Loss: 0.5270\n",
      "Train Step:  12\n",
      "Loss: 0.4960\n",
      "Train Step:  13\n",
      "Loss: 0.4800\n",
      "Train Step:  14\n",
      "Loss: 0.4615\n",
      "Train Step:  15\n",
      "Loss: 0.4519\n",
      "Train Step:  16\n",
      "Loss: 0.4279\n",
      "Train Step:  17\n",
      "Loss: 0.4088\n",
      "Train Step:  18\n",
      "Loss: 0.3816\n",
      "Train Step:  19\n",
      "Loss: 0.3718\n"
     ]
    }
   ],
   "source": [
    "# Retrain Regressor (Further research required)\n",
    "retrain_regressor(\n",
    "    uncertain_loader,\n",
    "    valid_loader,\n",
    "    models[\"ITG_reg\"],\n",
    "    learning_rate=1e-3,\n",
    "    epochs=20,\n",
    "    validation_step=True,\n",
    "    mode=\"warm_start\",\n",
    ")"
   ]
  },
  {
   "cell_type": "code",
   "execution_count": 11,
   "metadata": {},
   "outputs": [],
   "source": [
    "prediction_after,_ = models[\"ITG_reg\"].predict(uncertain_loader, prediction_idx_order)"
   ]
  },
  {
   "cell_type": "code",
   "execution_count": 12,
   "metadata": {},
   "outputs": [
    {
     "name": "stdout",
     "output_type": "stream",
     "text": [
      "\n",
      "Running MC Dropout....\n",
      "\n"
     ]
    },
    {
     "name": "stderr",
     "output_type": "stream",
     "text": [
      "100%|██████████| 15/15 [00:19<00:00,  1.27s/it]\n"
     ]
    },
    {
     "name": "stdout",
     "output_type": "stream",
     "text": [
      "\n",
      "Number of points passed for MC dropout: 2316\n"
     ]
    }
   ],
   "source": [
    "_, uncert_after,_ = regressor_uncertainty(valid_sample, models[\"ITG_reg\"], n_runs=15, keep=0.25, order_idx=data_idx)"
   ]
  },
  {
   "cell_type": "code",
   "execution_count": 13,
   "metadata": {},
   "outputs": [
    {
     "name": "stdout",
     "output_type": "stream",
     "text": [
      " Decreased 98.618% Increased: 1.382 % No Change: 0.000 \n"
     ]
    },
    {
     "data": {
      "image/png": "[encoded data removed]",
      "text/plain": [
       "<Figure size 432x288 with 1 Axes>"
      ]
     },
     "metadata": {
      "needs_background": "light"
     },
     "output_type": "display_data"
    }
   ],
   "source": [
    "uncertainty_change(x=uncert_before, y=uncert_after);"
   ]
  },
  {
   "cell_type": "markdown",
   "metadata": {},
   "source": [
    "### Section to be modularised"
   ]
  },
  {
   "cell_type": "code",
   "execution_count": 14,
   "metadata": {},
   "outputs": [],
   "source": [
    "def get_mse(y_hat, y): \n",
    "    mse = np.mean((y-y_hat)**2)\n",
    "    return mse\n"
   ]
  },
  {
   "cell_type": "code",
   "execution_count": 15,
   "metadata": {},
   "outputs": [],
   "source": [
    "idxs = prediction_idx_order.astype(int)\n",
    "ground_truth = uncertain_loader.dataset.data.loc[idxs]\n",
    "ground_truth = ground_truth['efiitg_gb']\n",
    "ground_truth = ground_truth.to_numpy()"
   ]
  },
  {
   "cell_type": "code",
   "execution_count": 16,
   "metadata": {},
   "outputs": [],
   "source": [
    "mse_before = get_mse(prediction_before, ground_truth)\n",
    "mse_after = get_mse(prediction_after, ground_truth)\n",
    "delta_mse = mse_after - mse_before"
   ]
  },
  {
   "cell_type": "code",
   "execution_count": 17,
   "metadata": {},
   "outputs": [
    {
     "data": {
      "text/plain": [
       "<matplotlib.legend.Legend at 0x7fecfa8036a0>"
      ]
     },
     "execution_count": 17,
     "metadata": {},
     "output_type": "execute_result"
    },
    {
     "data": {
      "image/png": "[encoded data removed]",
      "text/plain": [
       "<Figure size 432x288 with 1 Axes>"
      ]
     },
     "metadata": {
      "needs_background": "light"
     },
     "output_type": "display_data"
    }
   ],
   "source": [
    "x_min = ground_truth.min()\n",
    "x_max = ground_truth.max()\n",
    "plt.figure()\n",
    "plt.scatter(prediction_before, ground_truth, c='forestgreen')\n",
    "plt.scatter(prediction_after, ground_truth, c='purple')\n",
    "plt.plot(\n",
    "    np.linspace(x_min, x_max, 50),\n",
    "    np.linspace(x_min, x_max, 50),\n",
    "    ls='--',\n",
    "    c='black',\n",
    "    label = f'$\\Delta$MSE: {delta_mse:.4f}',\n",
    "    alpha = 0.1\n",
    "    )\n",
    "plt.plot(\n",
    "    np.linspace(x_min, x_max, 50),\n",
    "    np.linspace(x_min, x_max, 50),\n",
    "    ls='--',\n",
    "    c='black',\n",
    "    label = 'y = x'\n",
    "    )\n",
    "plt.xlabel(\"Initial Regression Prediction\")\n",
    "plt.ylabel(\"Retrained Regression Prediction\")\n",
    "plt.legend()"
   ]
  },
  {
   "cell_type": "markdown",
   "metadata": {},
   "source": [
    "#### Change in Training Data Regression Quality and Uncertainties"
   ]
  },
  {
   "cell_type": "code",
   "execution_count": null,
   "metadata": {},
   "outputs": [],
   "source": []
  }
 ],
 "metadata": {
  "interpreter": {
   "hash": "35c235ff99f8605ca4fe7a283017706943881a3c0b9b82454bde1f1c1c4aedb1"
  },
  "kernelspec": {
   "display_name": "Python 3.9.0 ('UKAEA')",
   "language": "python",
   "name": "python3"
  },
  "language_info": {
   "codemirror_mode": {
    "name": "ipython",
    "version": 3
   },
   "file_extension": ".py",
   "mimetype": "text/x-python",
   "name": "python",
   "nbconvert_exporter": "python",
   "pygments_lexer": "ipython3",
   "version": "3.9.0"
  },
  "orig_nbformat": 4
 },
 "nbformat": 4,
 "nbformat_minor": 2
}
