{
 "cells": [
  {
   "cell_type": "code",
   "execution_count": 1,
   "metadata": {},
   "outputs": [],
   "source": [
    "from scripts.pipeline_tools import (\n",
    "    prepare_data,\n",
    "    regressor_uncertainty,\n",
    "    select_unstable_data,\n",
    "    retrain_regressor,\n",
    "    uncertainty_change,\n",
    "    mse_change,\n",
    ")\n",
    "from scripts.Models import ITGDatasetDF, load_model, ITGDataset\n",
    "from sklearn.preprocessing import StandardScaler\n",
    "from torch.utils.data import DataLoader\n",
    "from scripts.utils import train_keys\n",
    "import copy\n",
    "import numpy as np\n",
    "from tqdm.auto import tqdm\n",
    "import matplotlib.pyplot as plt\n",
    "import yaml "
   ]
  },
  {
   "cell_type": "code",
   "execution_count": 2,
   "metadata": {},
   "outputs": [],
   "source": [
    "with open('pipeline_config.yaml') as f:\n",
    "    cfg = yaml.load(f, Loader=yaml.FullLoader)\n",
    "\n",
    "pretrained = cfg['pretrained']\n",
    "paths = cfg['data']"
   ]
  },
  {
   "cell_type": "code",
   "execution_count": 3,
   "metadata": {},
   "outputs": [],
   "source": [
    "train_data, val_data = prepare_data(\n",
    "    paths['train'], paths['validation'], target_column=\"efiitg_gb\", target_var=\"itg\"\n",
    ")\n",
    "\n",
    "scaler = StandardScaler()\n",
    "scaler.fit_transform(train_data.drop([\"itg\"], axis=1))\n",
    "\n",
    "train_dataset = ITGDatasetDF(train_data, target_column=\"efiitg_gb\", target_var=\"itg\")\n",
    "valid_dataset = ITGDatasetDF(val_data, target_column=\"efiitg_gb\", target_var=\"itg\")\n",
    "\n",
    "# # TODO: further testing of the scale function\n",
    "train_dataset.scale(scaler)\n",
    "valid_dataset.scale(scaler)"
   ]
  },
  {
   "cell_type": "code",
   "execution_count": 4,
   "metadata": {},
   "outputs": [
    {
     "name": "stdout",
     "output_type": "stream",
     "text": [
      "Loaded the following models:\n",
      "\n",
      "Model Loaded: ITG_class\n",
      "Model Loaded: ITG_reg\n"
     ]
    }
   ],
   "source": [
    "# Load pretrained models\n",
    "print(\"Loaded the following models:\\n\")\n",
    "models = {}\n",
    "for model in pretrained:\n",
    "    if pretrained[model][\"trained\"] == True:\n",
    "        trained_model = load_model(model, pretrained[model][\"save_path\"])\n",
    "        models[model] = trained_model"
   ]
  },
  {
   "cell_type": "code",
   "execution_count": 5,
   "metadata": {},
   "outputs": [],
   "source": [
    "# TODO: Needs to be the true training samples used!!!\n",
    "train_sample = train_dataset.sample(10_000)"
   ]
  },
  {
   "cell_type": "code",
   "execution_count": 6,
   "metadata": {},
   "outputs": [
    {
     "name": "stdout",
     "output_type": "stream",
     "text": [
      "\n",
      "Iteration: 0\n",
      "\n",
      "\n",
      "Running classifier selection...\n",
      "\n"
     ]
    },
    {
     "data": {
      "application/vnd.jupyter.widget-view+json": {
       "model_id": "500d73fd376941dbacfde50ef2f247a8",
       "version_major": 2,
       "version_minor": 0
      },
      "text/plain": [
       "  0%|          | 0/100 [00:00<?, ?it/s]"
      ]
     },
     "metadata": {},
     "output_type": "display_data"
    },
    {
     "name": "stdout",
     "output_type": "stream",
     "text": [
      "\n",
      "Stable points: 7552\n",
      "Misclassified points: 573\n",
      "Percentage of misclassified points:  5.73%\n",
      "\n",
      "Dropped 7778 rows\n",
      "\n",
      "Running MC Dropout on Novel Data....\n",
      "\n"
     ]
    },
    {
     "data": {
      "application/vnd.jupyter.widget-view+json": {
       "model_id": "0b33fff9e74045a2834a54abc4ee3d57",
       "version_major": 2,
       "version_minor": 0
      },
      "text/plain": [
       "  0%|          | 0/15 [00:00<?, ?it/s]"
      ]
     },
     "metadata": {},
     "output_type": "display_data"
    },
    {
     "name": "stdout",
     "output_type": "stream",
     "text": [
      "\n",
      "Number of points passed for MC dropout: 2222\n",
      "no valid before : 2199776\n",
      "no valid after : 2201443\n",
      "\n",
      "Running MC Dropout on Training Data....\n",
      "\n"
     ]
    },
    {
     "data": {
      "application/vnd.jupyter.widget-view+json": {
       "model_id": "77875f0ab7394b56a4aac9afc266f4a2",
       "version_major": 2,
       "version_minor": 0
      },
      "text/plain": [
       "  0%|          | 0/15 [00:00<?, ?it/s]"
      ]
     },
     "metadata": {},
     "output_type": "display_data"
    },
    {
     "name": "stdout",
     "output_type": "stream",
     "text": [
      "\n",
      "Number of points passed for MC dropout: 10000\n",
      "\n",
      "Retraining regressor...\n",
      "\n",
      "Training on 10555 points\n"
     ]
    },
    {
     "data": {
      "application/vnd.jupyter.widget-view+json": {
       "model_id": "65e400286a4843aeb504eae174d399a5",
       "version_major": 2,
       "version_minor": 0
      },
      "text/plain": [
       "  0%|          | 0/11 [00:00<?, ?it/s]"
      ]
     },
     "metadata": {},
     "output_type": "display_data"
    },
    {
     "name": "stdout",
     "output_type": "stream",
     "text": [
      "Initial loss: 0.5976\n",
      "Train Step:  0\n",
      "Loss: 0.9398\n",
      "Validation Step:  0\n"
     ]
    },
    {
     "data": {
      "application/vnd.jupyter.widget-view+json": {
       "model_id": "e33386e803c7448a88538d54770ad5ba",
       "version_major": 2,
       "version_minor": 0
      },
      "text/plain": [
       "  0%|          | 0/11 [00:00<?, ?it/s]"
      ]
     },
     "metadata": {},
     "output_type": "display_data"
    },
    {
     "name": "stdout",
     "output_type": "stream",
     "text": [
      "Test loss: 0.5330\n",
      "Train Step:  1\n",
      "Loss: 0.8348\n",
      "Train Step:  2\n",
      "Loss: 0.7440\n",
      "Train Step:  3\n",
      "Loss: 0.6642\n",
      "Train Step:  4\n",
      "Loss: 0.5988\n",
      "Train Step:  5\n",
      "Loss: 0.5421\n",
      "Train Step:  6\n",
      "Loss: 0.4952\n",
      "Train Step:  7\n",
      "Loss: 0.4532\n",
      "Train Step:  8\n",
      "Loss: 0.4272\n",
      "Train Step:  9\n",
      "Loss: 0.3942\n",
      "Train Step:  10\n",
      "Loss: 0.3698\n",
      "Validation Step:  10\n"
     ]
    },
    {
     "data": {
      "application/vnd.jupyter.widget-view+json": {
       "model_id": "8e88c0048bc7487bb99e06f1d7ffb944",
       "version_major": 2,
       "version_minor": 0
      },
      "text/plain": [
       "  0%|          | 0/11 [00:00<?, ?it/s]"
      ]
     },
     "metadata": {},
     "output_type": "display_data"
    },
    {
     "name": "stdout",
     "output_type": "stream",
     "text": [
      "Test loss: 0.2563\n",
      "Train Step:  11\n",
      "Loss: 0.3424\n",
      "Train Step:  12\n",
      "Loss: 0.3255\n",
      "Train Step:  13\n",
      "Loss: 0.3069\n",
      "Train Step:  14\n",
      "Loss: 0.2923\n",
      "Train Step:  15\n",
      "Loss: 0.2828\n",
      "Train Step:  16\n",
      "Loss: 0.2712\n",
      "Train Step:  17\n",
      "Loss: 0.2685\n",
      "Train Step:  18\n",
      "Loss: 0.2602\n",
      "Train Step:  19\n",
      "Loss: 0.2519\n",
      "Train Step:  20\n",
      "Loss: 0.2419\n",
      "Validation Step:  20\n"
     ]
    },
    {
     "data": {
      "application/vnd.jupyter.widget-view+json": {
       "model_id": "ac8d3e39bc7540448fbecb9881414321",
       "version_major": 2,
       "version_minor": 0
      },
      "text/plain": [
       "  0%|          | 0/11 [00:00<?, ?it/s]"
      ]
     },
     "metadata": {},
     "output_type": "display_data"
    },
    {
     "name": "stdout",
     "output_type": "stream",
     "text": [
      "Test loss: 0.2026\n",
      "Train Step:  21\n",
      "Loss: 0.2391\n",
      "Train Step:  22\n",
      "Loss: 0.2364\n",
      "Train Step:  23\n",
      "Loss: 0.2293\n",
      "Train Step:  24\n",
      "Loss: 0.2238\n",
      "\n",
      "Running MC Dropout on Novel Data....\n",
      "\n"
     ]
    },
    {
     "data": {
      "application/vnd.jupyter.widget-view+json": {
       "model_id": "7327e9dc9008498197dbd21f764aa6f8",
       "version_major": 2,
       "version_minor": 0
      },
      "text/plain": [
       "  0%|          | 0/15 [00:00<?, ?it/s]"
      ]
     },
     "metadata": {},
     "output_type": "display_data"
    },
    {
     "name": "stdout",
     "output_type": "stream",
     "text": [
      "\n",
      "Number of points passed for MC dropout: 2222\n",
      "\n",
      "Running MC Dropout on Training Data....\n",
      "\n"
     ]
    },
    {
     "data": {
      "application/vnd.jupyter.widget-view+json": {
       "model_id": "f3c7b253ab9846928d9137682a56925b",
       "version_major": 2,
       "version_minor": 0
      },
      "text/plain": [
       "  0%|          | 0/15 [00:00<?, ?it/s]"
      ]
     },
     "metadata": {},
     "output_type": "display_data"
    },
    {
     "name": "stdout",
     "output_type": "stream",
     "text": [
      "\n",
      "Number of points passed for MC dropout: 10000\n",
      "\n",
      "Novel Data Uncertainty changes...\n",
      "\n",
      " Decreased 74.775% Increased: 25.225 % No Change: 0.000 \n",
      "Initial Average Uncertainty: 0.3851, Final Average Uncertainty: 0.3124\n",
      "\n",
      "Training Data Uncertainty changes...\n",
      "\n",
      " Decreased 60.240% Increased: 39.760 % No Change: 0.000 \n",
      "Initial Average Uncertainty: 0.0793, Final Average Uncertainty: 0.0713\n",
      "\n",
      "Change in MSE for novel dataset: 0.2504\n",
      "\n",
      "\n",
      "Change in MSE for train dataset: 0.0338\n",
      "\n",
      "\n",
      "Iteration: 1\n",
      "\n",
      "\n",
      "Running classifier selection...\n",
      "\n"
     ]
    },
    {
     "data": {
      "application/vnd.jupyter.widget-view+json": {
       "model_id": "c70df3723e4f40e8b50e1ef2038234fd",
       "version_major": 2,
       "version_minor": 0
      },
      "text/plain": [
       "  0%|          | 0/100 [00:00<?, ?it/s]"
      ]
     },
     "metadata": {},
     "output_type": "display_data"
    },
    {
     "name": "stdout",
     "output_type": "stream",
     "text": [
      "\n",
      "Stable points: 7412\n",
      "Misclassified points: 544\n",
      "Percentage of misclassified points:  5.44%\n",
      "\n",
      "Dropped 7639 rows\n",
      "\n",
      "Running MC Dropout on Novel Data....\n",
      "\n"
     ]
    },
    {
     "data": {
      "application/vnd.jupyter.widget-view+json": {
       "model_id": "9f24607cb91a49e2808adc9f01686606",
       "version_major": 2,
       "version_minor": 0
      },
      "text/plain": [
       "  0%|          | 0/15 [00:00<?, ?it/s]"
      ]
     },
     "metadata": {},
     "output_type": "display_data"
    },
    {
     "name": "stdout",
     "output_type": "stream",
     "text": [
      "\n",
      "Number of points passed for MC dropout: 2361\n",
      "no valid before : 2191443\n",
      "no valid after : 2193214\n",
      "\n",
      "Running MC Dropout on Training Data....\n",
      "\n"
     ]
    },
    {
     "data": {
      "application/vnd.jupyter.widget-view+json": {
       "model_id": "c74497ad99c346ecb636a3a71561ddd3",
       "version_major": 2,
       "version_minor": 0
      },
      "text/plain": [
       "  0%|          | 0/15 [00:00<?, ?it/s]"
      ]
     },
     "metadata": {},
     "output_type": "display_data"
    },
    {
     "name": "stdout",
     "output_type": "stream",
     "text": [
      "\n",
      "Number of points passed for MC dropout: 10555\n",
      "\n",
      "Retraining regressor...\n",
      "\n",
      "Training on 11145 points\n"
     ]
    },
    {
     "data": {
      "application/vnd.jupyter.widget-view+json": {
       "model_id": "f3ed5931d89b402c88c9909280397d00",
       "version_major": 2,
       "version_minor": 0
      },
      "text/plain": [
       "  0%|          | 0/11 [00:00<?, ?it/s]"
      ]
     },
     "metadata": {},
     "output_type": "display_data"
    },
    {
     "name": "stdout",
     "output_type": "stream",
     "text": [
      "Initial loss: 0.6775\n",
      "Train Step:  0\n",
      "Loss: 1.3858\n",
      "Validation Step:  0\n"
     ]
    },
    {
     "data": {
      "application/vnd.jupyter.widget-view+json": {
       "model_id": "558738ec0a444b06ae07e447e57ae4fb",
       "version_major": 2,
       "version_minor": 0
      },
      "text/plain": [
       "  0%|          | 0/11 [00:00<?, ?it/s]"
      ]
     },
     "metadata": {},
     "output_type": "display_data"
    },
    {
     "name": "stdout",
     "output_type": "stream",
     "text": [
      "Test loss: 0.6333\n",
      "Train Step:  1\n",
      "Loss: 1.2752\n",
      "Train Step:  2\n",
      "Loss: 1.1883\n",
      "Train Step:  3\n",
      "Loss: 1.1106\n",
      "Train Step:  4\n",
      "Loss: 1.0455\n",
      "Train Step:  5\n",
      "Loss: 0.9868\n",
      "Train Step:  6\n",
      "Loss: 0.9322\n",
      "Train Step:  7\n",
      "Loss: 0.8777\n",
      "Train Step:  8\n",
      "Loss: 0.8329\n",
      "Train Step:  9\n",
      "Loss: 0.7886\n",
      "Train Step:  10\n",
      "Loss: 0.7399\n",
      "Validation Step:  10\n"
     ]
    },
    {
     "data": {
      "application/vnd.jupyter.widget-view+json": {
       "model_id": "961b4a89be1b4ee48855970911952232",
       "version_major": 2,
       "version_minor": 0
      },
      "text/plain": [
       "  0%|          | 0/11 [00:00<?, ?it/s]"
      ]
     },
     "metadata": {},
     "output_type": "display_data"
    },
    {
     "name": "stdout",
     "output_type": "stream",
     "text": [
      "Test loss: 0.4577\n",
      "Train Step:  11\n",
      "Loss: 0.6900\n",
      "Train Step:  12\n",
      "Loss: 0.6442\n",
      "Train Step:  13\n",
      "Loss: 0.6190\n",
      "Train Step:  14\n",
      "Loss: 0.5779\n",
      "Train Step:  15\n",
      "Loss: 0.5483\n",
      "Train Step:  16\n",
      "Loss: 0.5221\n",
      "Train Step:  17\n",
      "Loss: 0.5023\n",
      "Train Step:  18\n",
      "Loss: 0.4776\n",
      "Train Step:  19\n",
      "Loss: 0.4569\n",
      "Train Step:  20\n",
      "Loss: 0.4448\n",
      "Validation Step:  20\n"
     ]
    },
    {
     "data": {
      "application/vnd.jupyter.widget-view+json": {
       "model_id": "54efcae6b119402584ef7480138b22e3",
       "version_major": 2,
       "version_minor": 0
      },
      "text/plain": [
       "  0%|          | 0/11 [00:00<?, ?it/s]"
      ]
     },
     "metadata": {},
     "output_type": "display_data"
    },
    {
     "name": "stdout",
     "output_type": "stream",
     "text": [
      "Test loss: 0.3167\n",
      "Train Step:  21\n",
      "Loss: 0.4321\n",
      "Train Step:  22\n",
      "Loss: 0.4154\n",
      "Train Step:  23\n",
      "Loss: 0.3929\n",
      "Train Step:  24\n",
      "Loss: 0.3855\n",
      "Train Step:  25\n",
      "Loss: 0.3699\n",
      "Train Step:  26\n",
      "Loss: 0.3600\n",
      "Train Step:  27\n",
      "Loss: 0.3445\n",
      "Train Step:  28\n",
      "Loss: 0.3459\n",
      "Train Step:  29\n",
      "Loss: 0.3298\n",
      "Train Step:  30\n",
      "Loss: 0.3277\n",
      "Validation Step:  30\n"
     ]
    },
    {
     "data": {
      "application/vnd.jupyter.widget-view+json": {
       "model_id": "93a7b23f9678402bb5085a0bf735cd43",
       "version_major": 2,
       "version_minor": 0
      },
      "text/plain": [
       "  0%|          | 0/11 [00:00<?, ?it/s]"
      ]
     },
     "metadata": {},
     "output_type": "display_data"
    },
    {
     "name": "stdout",
     "output_type": "stream",
     "text": [
      "Test loss: 0.2363\n",
      "Train Step:  31\n",
      "Loss: 0.3257\n",
      "Train Step:  32\n",
      "Loss: 0.3216\n",
      "Train Step:  33\n",
      "Loss: 0.3130\n",
      "Train Step:  34\n",
      "Loss: 0.3084\n",
      "Train Step:  35\n",
      "Loss: 0.3030\n",
      "Train Step:  36\n",
      "Loss: 0.2934\n",
      "Train Step:  37\n",
      "Loss: 0.2911\n",
      "Train Step:  38\n",
      "Loss: 0.2800\n",
      "Train Step:  39\n",
      "Loss: 0.2791\n",
      "Train Step:  40\n",
      "Loss: 0.2782\n",
      "Validation Step:  40\n"
     ]
    },
    {
     "data": {
      "application/vnd.jupyter.widget-view+json": {
       "model_id": "12603efa4f66445899b40c06eb6501fb",
       "version_major": 2,
       "version_minor": 0
      },
      "text/plain": [
       "  0%|          | 0/11 [00:00<?, ?it/s]"
      ]
     },
     "metadata": {},
     "output_type": "display_data"
    },
    {
     "name": "stdout",
     "output_type": "stream",
     "text": [
      "Test loss: 0.2030\n",
      "Train Step:  41\n",
      "Loss: 0.2823\n",
      "Train Step:  42\n",
      "Loss: 0.2711\n",
      "Train Step:  43\n",
      "Loss: 0.2729\n",
      "Train Step:  44\n",
      "Loss: 0.2694\n",
      "Train Step:  45\n",
      "Loss: 0.2673\n",
      "Train Step:  46\n",
      "Loss: 0.2659\n",
      "Train Step:  47\n",
      "Loss: 0.2571\n",
      "Train Step:  48\n",
      "Loss: 0.2636\n",
      "Train Step:  49\n",
      "Loss: 0.2498\n",
      "\n",
      "Running MC Dropout on Novel Data....\n",
      "\n"
     ]
    },
    {
     "data": {
      "application/vnd.jupyter.widget-view+json": {
       "model_id": "628ba2322b8b48a79f0e5fa018917a73",
       "version_major": 2,
       "version_minor": 0
      },
      "text/plain": [
       "  0%|          | 0/15 [00:00<?, ?it/s]"
      ]
     },
     "metadata": {},
     "output_type": "display_data"
    },
    {
     "name": "stdout",
     "output_type": "stream",
     "text": [
      "\n",
      "Number of points passed for MC dropout: 2361\n",
      "\n",
      "Running MC Dropout on Training Data....\n",
      "\n"
     ]
    },
    {
     "data": {
      "application/vnd.jupyter.widget-view+json": {
       "model_id": "702adff16c4a42bda5bf91a48aecc505",
       "version_major": 2,
       "version_minor": 0
      },
      "text/plain": [
       "  0%|          | 0/15 [00:00<?, ?it/s]"
      ]
     },
     "metadata": {},
     "output_type": "display_data"
    },
    {
     "name": "stdout",
     "output_type": "stream",
     "text": [
      "\n",
      "Number of points passed for MC dropout: 10555\n",
      "\n",
      "Novel Data Uncertainty changes...\n",
      "\n",
      " Decreased 58.475% Increased: 41.525 % No Change: 0.000 \n",
      "Initial Average Uncertainty: 0.3461, Final Average Uncertainty: 0.3260\n",
      "\n",
      "Training Data Uncertainty changes...\n",
      "\n",
      " Decreased 28.735% Increased: 71.265 % No Change: 0.000 \n",
      "Initial Average Uncertainty: 0.0841, Final Average Uncertainty: 0.0928\n",
      "\n",
      "Change in MSE for novel dataset: -0.1570\n",
      "\n",
      "\n",
      "Change in MSE for train dataset: 0.0012\n",
      "\n",
      "\n",
      "Iteration: 2\n",
      "\n",
      "\n",
      "Running classifier selection...\n",
      "\n"
     ]
    },
    {
     "data": {
      "application/vnd.jupyter.widget-view+json": {
       "model_id": "a32e078d89324431a3af949738b225b6",
       "version_major": 2,
       "version_minor": 0
      },
      "text/plain": [
       "  0%|          | 0/100 [00:00<?, ?it/s]"
      ]
     },
     "metadata": {},
     "output_type": "display_data"
    },
    {
     "name": "stdout",
     "output_type": "stream",
     "text": [
      "\n",
      "Stable points: 7428\n",
      "Misclassified points: 536\n",
      "Percentage of misclassified points:  5.36%\n",
      "\n",
      "Dropped 7652 rows\n",
      "\n",
      "Running MC Dropout on Novel Data....\n",
      "\n"
     ]
    },
    {
     "data": {
      "application/vnd.jupyter.widget-view+json": {
       "model_id": "b69b6858d0934976b4e9efcb50bc7b40",
       "version_major": 2,
       "version_minor": 0
      },
      "text/plain": [
       "  0%|          | 0/15 [00:00<?, ?it/s]"
      ]
     },
     "metadata": {},
     "output_type": "display_data"
    },
    {
     "name": "stdout",
     "output_type": "stream",
     "text": [
      "\n",
      "Number of points passed for MC dropout: 2348\n",
      "no valid before : 2183214\n",
      "no valid after : 2184975\n",
      "\n",
      "Running MC Dropout on Training Data....\n",
      "\n"
     ]
    },
    {
     "data": {
      "application/vnd.jupyter.widget-view+json": {
       "model_id": "bfe9a02fe43849fba13effcc30226c73",
       "version_major": 2,
       "version_minor": 0
      },
      "text/plain": [
       "  0%|          | 0/15 [00:00<?, ?it/s]"
      ]
     },
     "metadata": {},
     "output_type": "display_data"
    },
    {
     "name": "stdout",
     "output_type": "stream",
     "text": [
      "\n",
      "Number of points passed for MC dropout: 11145\n",
      "\n",
      "Retraining regressor...\n",
      "\n",
      "Training on 11732 points\n"
     ]
    },
    {
     "data": {
      "application/vnd.jupyter.widget-view+json": {
       "model_id": "e2a281918b5f4dcebbcae6af07464e27",
       "version_major": 2,
       "version_minor": 0
      },
      "text/plain": [
       "  0%|          | 0/11 [00:00<?, ?it/s]"
      ]
     },
     "metadata": {},
     "output_type": "display_data"
    },
    {
     "name": "stdout",
     "output_type": "stream",
     "text": [
      "Initial loss: 0.7115\n",
      "Train Step:  0\n",
      "Loss: 1.7559\n",
      "Validation Step:  0\n"
     ]
    },
    {
     "data": {
      "application/vnd.jupyter.widget-view+json": {
       "model_id": "0f65ad47643647708fc0e812bb6bc597",
       "version_major": 2,
       "version_minor": 0
      },
      "text/plain": [
       "  0%|          | 0/11 [00:00<?, ?it/s]"
      ]
     },
     "metadata": {},
     "output_type": "display_data"
    },
    {
     "name": "stdout",
     "output_type": "stream",
     "text": [
      "Test loss: 0.6560\n",
      "Train Step:  1\n",
      "Loss: 1.5742\n",
      "Train Step:  2\n",
      "Loss: 1.4389\n",
      "Train Step:  3\n",
      "Loss: 1.3343\n",
      "Train Step:  4\n",
      "Loss: 1.2542\n",
      "Train Step:  5\n",
      "Loss: 1.1984\n",
      "Train Step:  6\n",
      "Loss: 1.1484\n",
      "Train Step:  7\n",
      "Loss: 1.1149\n",
      "Train Step:  8\n",
      "Loss: 1.0735\n",
      "Train Step:  9\n",
      "Loss: 1.0339\n",
      "Train Step:  10\n",
      "Loss: 0.9764\n",
      "Validation Step:  10\n"
     ]
    },
    {
     "data": {
      "application/vnd.jupyter.widget-view+json": {
       "model_id": "06bbdeb4b8ef46f587f2133d24f19ec4",
       "version_major": 2,
       "version_minor": 0
      },
      "text/plain": [
       "  0%|          | 0/11 [00:00<?, ?it/s]"
      ]
     },
     "metadata": {},
     "output_type": "display_data"
    },
    {
     "name": "stdout",
     "output_type": "stream",
     "text": [
      "Test loss: 0.6174\n",
      "Train Step:  11\n",
      "Loss: 0.9194\n",
      "Train Step:  12\n",
      "Loss: 0.8459\n",
      "Train Step:  13\n",
      "Loss: 0.7935\n",
      "Train Step:  14\n",
      "Loss: 0.7603\n",
      "Train Step:  15\n",
      "Loss: 0.7247\n",
      "Train Step:  16\n",
      "Loss: 0.6948\n",
      "Train Step:  17\n",
      "Loss: 0.6644\n",
      "Train Step:  18\n",
      "Loss: 0.6423\n",
      "Train Step:  19\n",
      "Loss: 0.6088\n",
      "Train Step:  20\n",
      "Loss: 0.5882\n",
      "Validation Step:  20\n"
     ]
    },
    {
     "data": {
      "application/vnd.jupyter.widget-view+json": {
       "model_id": "2fd46723d39b47a8845dfe6baa68ee04",
       "version_major": 2,
       "version_minor": 0
      },
      "text/plain": [
       "  0%|          | 0/11 [00:00<?, ?it/s]"
      ]
     },
     "metadata": {},
     "output_type": "display_data"
    },
    {
     "name": "stdout",
     "output_type": "stream",
     "text": [
      "Test loss: 0.4023\n",
      "Train Step:  21\n",
      "Loss: 0.5757\n",
      "Train Step:  22\n",
      "Loss: 0.5668\n",
      "Train Step:  23\n",
      "Loss: 0.5489\n",
      "Train Step:  24\n",
      "Loss: 0.5231\n",
      "Train Step:  25\n",
      "Loss: 0.5084\n",
      "Train Step:  26\n",
      "Loss: 0.4898\n",
      "Train Step:  27\n",
      "Loss: 0.4830\n",
      "Train Step:  28\n",
      "Loss: 0.4660\n",
      "Train Step:  29\n",
      "Loss: 0.4486\n",
      "Train Step:  30\n",
      "Loss: 0.4447\n",
      "Validation Step:  30\n"
     ]
    },
    {
     "data": {
      "application/vnd.jupyter.widget-view+json": {
       "model_id": "23e8174d2d8749e08b8591dfa983ca87",
       "version_major": 2,
       "version_minor": 0
      },
      "text/plain": [
       "  0%|          | 0/11 [00:00<?, ?it/s]"
      ]
     },
     "metadata": {},
     "output_type": "display_data"
    },
    {
     "name": "stdout",
     "output_type": "stream",
     "text": [
      "Test loss: 0.2859\n",
      "Train Step:  31\n",
      "Loss: 0.4273\n",
      "Train Step:  32\n",
      "Loss: 0.4162\n",
      "Train Step:  33\n",
      "Loss: 0.4061\n",
      "Train Step:  34\n",
      "Loss: 0.4056\n",
      "Train Step:  35\n",
      "Loss: 0.3863\n",
      "Train Step:  36\n",
      "Loss: 0.3906\n",
      "Train Step:  37\n",
      "Loss: 0.3847\n",
      "Train Step:  38\n",
      "Loss: 0.3685\n",
      "Train Step:  39\n",
      "Loss: 0.3620\n",
      "Train Step:  40\n",
      "Loss: 0.3590\n",
      "Validation Step:  40\n"
     ]
    },
    {
     "data": {
      "application/vnd.jupyter.widget-view+json": {
       "model_id": "3947239ebd94493fa9d3ca8c032f9ede",
       "version_major": 2,
       "version_minor": 0
      },
      "text/plain": [
       "  0%|          | 0/11 [00:00<?, ?it/s]"
      ]
     },
     "metadata": {},
     "output_type": "display_data"
    },
    {
     "name": "stdout",
     "output_type": "stream",
     "text": [
      "Test loss: 0.2563\n",
      "Train Step:  41\n",
      "Loss: 0.3542\n",
      "Train Step:  42\n",
      "Loss: 0.3545\n",
      "Train Step:  43\n",
      "Loss: 0.3426\n",
      "Train Step:  44\n",
      "Loss: 0.3420\n",
      "Train Step:  45\n",
      "Loss: 0.3383\n",
      "Train Step:  46\n",
      "Loss: 0.3352\n",
      "Train Step:  47\n",
      "Loss: 0.3258\n",
      "Train Step:  48\n",
      "Loss: 0.3271\n",
      "Train Step:  49\n",
      "Loss: 0.3252\n",
      "Train Step:  50\n",
      "Loss: 0.3266\n",
      "Validation Step:  50\n"
     ]
    },
    {
     "data": {
      "application/vnd.jupyter.widget-view+json": {
       "model_id": "cada759641f64b9aa0b5005f576ebf0c",
       "version_major": 2,
       "version_minor": 0
      },
      "text/plain": [
       "  0%|          | 0/11 [00:00<?, ?it/s]"
      ]
     },
     "metadata": {},
     "output_type": "display_data"
    },
    {
     "name": "stdout",
     "output_type": "stream",
     "text": [
      "Test loss: 0.2264\n",
      "Train Step:  51\n",
      "Loss: 0.3157\n",
      "Train Step:  52\n",
      "Loss: 0.3100\n",
      "Train Step:  53\n",
      "Loss: 0.3198\n",
      "Train Step:  54\n",
      "Loss: 0.3090\n",
      "Train Step:  55\n",
      "Loss: 0.3015\n",
      "Train Step:  56\n",
      "Loss: 0.3094\n",
      "Train Step:  57\n",
      "Loss: 0.3029\n",
      "Train Step:  58\n",
      "Loss: 0.2961\n",
      "Train Step:  59\n",
      "Loss: 0.3016\n",
      "Train Step:  60\n",
      "Loss: 0.2957\n",
      "Validation Step:  60\n"
     ]
    },
    {
     "data": {
      "application/vnd.jupyter.widget-view+json": {
       "model_id": "12a755a9e17840baa7c9056e2e684345",
       "version_major": 2,
       "version_minor": 0
      },
      "text/plain": [
       "  0%|          | 0/11 [00:00<?, ?it/s]"
      ]
     },
     "metadata": {},
     "output_type": "display_data"
    },
    {
     "name": "stdout",
     "output_type": "stream",
     "text": [
      "Test loss: 0.2114\n",
      "Train Step:  61\n",
      "Loss: 0.2923\n",
      "Train Step:  62\n",
      "Loss: 0.2906\n",
      "Train Step:  63\n",
      "Loss: 0.2884\n",
      "Train Step:  64\n",
      "Loss: 0.2841\n",
      "Train Step:  65\n",
      "Loss: 0.2838\n",
      "Train Step:  66\n",
      "Loss: 0.2756\n",
      "Train Step:  67\n",
      "Loss: 0.2824\n",
      "Train Step:  68\n",
      "Loss: 0.2783\n",
      "Train Step:  69\n",
      "Loss: 0.2813\n",
      "Train Step:  70\n",
      "Loss: 0.2799\n",
      "Validation Step:  70\n"
     ]
    },
    {
     "data": {
      "application/vnd.jupyter.widget-view+json": {
       "model_id": "a0e0375779304887874166ba89090662",
       "version_major": 2,
       "version_minor": 0
      },
      "text/plain": [
       "  0%|          | 0/11 [00:00<?, ?it/s]"
      ]
     },
     "metadata": {},
     "output_type": "display_data"
    },
    {
     "name": "stdout",
     "output_type": "stream",
     "text": [
      "Test loss: 0.2044\n",
      "Train Step:  71\n",
      "Loss: 0.2726\n",
      "Train Step:  72\n",
      "Loss: 0.2709\n",
      "Train Step:  73\n",
      "Loss: 0.2764\n",
      "Train Step:  74\n",
      "Loss: 0.2691\n",
      "\n",
      "Running MC Dropout on Novel Data....\n",
      "\n"
     ]
    },
    {
     "data": {
      "application/vnd.jupyter.widget-view+json": {
       "model_id": "6f3191eeb7b340169586f9950211a306",
       "version_major": 2,
       "version_minor": 0
      },
      "text/plain": [
       "  0%|          | 0/15 [00:00<?, ?it/s]"
      ]
     },
     "metadata": {},
     "output_type": "display_data"
    },
    {
     "name": "stdout",
     "output_type": "stream",
     "text": [
      "\n",
      "Number of points passed for MC dropout: 2348\n",
      "\n",
      "Running MC Dropout on Training Data....\n",
      "\n"
     ]
    },
    {
     "data": {
      "application/vnd.jupyter.widget-view+json": {
       "model_id": "76f6d6adec6c4d42b4e2fb71d1f71b3d",
       "version_major": 2,
       "version_minor": 0
      },
      "text/plain": [
       "  0%|          | 0/15 [00:00<?, ?it/s]"
      ]
     },
     "metadata": {},
     "output_type": "display_data"
    },
    {
     "name": "stdout",
     "output_type": "stream",
     "text": [
      "\n",
      "Number of points passed for MC dropout: 11145\n",
      "\n",
      "Novel Data Uncertainty changes...\n",
      "\n",
      " Decreased 68.825% Increased: 31.175 % No Change: 0.000 \n",
      "Initial Average Uncertainty: 0.3726, Final Average Uncertainty: 0.3313\n",
      "\n",
      "Training Data Uncertainty changes...\n",
      "\n",
      " Decreased 43.921% Increased: 56.079 % No Change: 0.000 \n",
      "Initial Average Uncertainty: 0.1053, Final Average Uncertainty: 0.1049\n",
      "\n",
      "Change in MSE for novel dataset: -0.1112\n",
      "\n",
      "\n",
      "Change in MSE for train dataset: -0.0093\n",
      "\n",
      "\n",
      "Iteration: 3\n",
      "\n",
      "\n",
      "Running classifier selection...\n",
      "\n"
     ]
    },
    {
     "data": {
      "application/vnd.jupyter.widget-view+json": {
       "model_id": "96c4b877f162463385a4baec4d9dcbb5",
       "version_major": 2,
       "version_minor": 0
      },
      "text/plain": [
       "  0%|          | 0/100 [00:00<?, ?it/s]"
      ]
     },
     "metadata": {},
     "output_type": "display_data"
    },
    {
     "name": "stdout",
     "output_type": "stream",
     "text": [
      "\n",
      "Stable points: 7338\n",
      "Misclassified points: 569\n",
      "Percentage of misclassified points:  5.69%\n",
      "\n",
      "Dropped 7572 rows\n",
      "\n",
      "Running MC Dropout on Novel Data....\n",
      "\n"
     ]
    },
    {
     "data": {
      "application/vnd.jupyter.widget-view+json": {
       "model_id": "9047fd7a726b4133b14bff1823c749bd",
       "version_major": 2,
       "version_minor": 0
      },
      "text/plain": [
       "  0%|          | 0/15 [00:00<?, ?it/s]"
      ]
     },
     "metadata": {},
     "output_type": "display_data"
    },
    {
     "name": "stdout",
     "output_type": "stream",
     "text": [
      "\n",
      "Number of points passed for MC dropout: 2428\n",
      "no valid before : 2174975\n",
      "no valid after : 2176796\n",
      "\n",
      "Running MC Dropout on Training Data....\n",
      "\n"
     ]
    },
    {
     "data": {
      "application/vnd.jupyter.widget-view+json": {
       "model_id": "34474063f9d24d1e894211419d49dab4",
       "version_major": 2,
       "version_minor": 0
      },
      "text/plain": [
       "  0%|          | 0/15 [00:00<?, ?it/s]"
      ]
     },
     "metadata": {},
     "output_type": "display_data"
    },
    {
     "name": "stdout",
     "output_type": "stream",
     "text": [
      "\n",
      "Number of points passed for MC dropout: 11732\n",
      "\n",
      "Retraining regressor...\n",
      "\n",
      "Training on 12339 points\n"
     ]
    },
    {
     "data": {
      "application/vnd.jupyter.widget-view+json": {
       "model_id": "ed4fd303219c484d92b07ea2b03db9f4",
       "version_major": 2,
       "version_minor": 0
      },
      "text/plain": [
       "  0%|          | 0/11 [00:00<?, ?it/s]"
      ]
     },
     "metadata": {},
     "output_type": "display_data"
    },
    {
     "name": "stdout",
     "output_type": "stream",
     "text": [
      "Initial loss: 0.7132\n",
      "Train Step:  0\n",
      "Loss: 2.0182\n",
      "Validation Step:  0\n"
     ]
    },
    {
     "data": {
      "application/vnd.jupyter.widget-view+json": {
       "model_id": "f15cc36cde674ff9bd9a79e19a46317d",
       "version_major": 2,
       "version_minor": 0
      },
      "text/plain": [
       "  0%|          | 0/11 [00:00<?, ?it/s]"
      ]
     },
     "metadata": {},
     "output_type": "display_data"
    },
    {
     "name": "stdout",
     "output_type": "stream",
     "text": [
      "Test loss: 0.6464\n",
      "Train Step:  1\n",
      "Loss: 1.7641\n",
      "Train Step:  2\n",
      "Loss: 1.5704\n",
      "Train Step:  3\n",
      "Loss: 1.4427\n",
      "Train Step:  4\n",
      "Loss: 1.3580\n",
      "Train Step:  5\n",
      "Loss: 1.3103\n",
      "Train Step:  6\n",
      "Loss: 1.2797\n",
      "Train Step:  7\n",
      "Loss: 1.2500\n",
      "Train Step:  8\n",
      "Loss: 1.2243\n",
      "Train Step:  9\n",
      "Loss: 1.1769\n",
      "Train Step:  10\n",
      "Loss: 1.1237\n",
      "Validation Step:  10\n"
     ]
    },
    {
     "data": {
      "application/vnd.jupyter.widget-view+json": {
       "model_id": "b659acae09cc405f971ca15c8899a442",
       "version_major": 2,
       "version_minor": 0
      },
      "text/plain": [
       "  0%|          | 0/11 [00:00<?, ?it/s]"
      ]
     },
     "metadata": {},
     "output_type": "display_data"
    },
    {
     "name": "stdout",
     "output_type": "stream",
     "text": [
      "Test loss: 0.7147\n",
      "Train Step:  11\n",
      "Loss: 1.0504\n",
      "Train Step:  12\n",
      "Loss: 0.9841\n",
      "Train Step:  13\n",
      "Loss: 0.9227\n",
      "Train Step:  14\n",
      "Loss: 0.8803\n",
      "Train Step:  15\n",
      "Loss: 0.8454\n",
      "Train Step:  16\n",
      "Loss: 0.8161\n",
      "Train Step:  17\n",
      "Loss: 0.7779\n",
      "Train Step:  18\n",
      "Loss: 0.7430\n",
      "Train Step:  19\n",
      "Loss: 0.7035\n",
      "Train Step:  20\n",
      "Loss: 0.6804\n",
      "Validation Step:  20\n"
     ]
    },
    {
     "data": {
      "application/vnd.jupyter.widget-view+json": {
       "model_id": "03a53c12c1df413b9d81bcee92f8cffd",
       "version_major": 2,
       "version_minor": 0
      },
      "text/plain": [
       "  0%|          | 0/11 [00:00<?, ?it/s]"
      ]
     },
     "metadata": {},
     "output_type": "display_data"
    },
    {
     "name": "stdout",
     "output_type": "stream",
     "text": [
      "Test loss: 0.4287\n",
      "Train Step:  21\n",
      "Loss: 0.6586\n",
      "Train Step:  22\n",
      "Loss: 0.6474\n",
      "Train Step:  23\n",
      "Loss: 0.6467\n",
      "Train Step:  24\n",
      "Loss: 0.6248\n",
      "Train Step:  25\n",
      "Loss: 0.5945\n",
      "Train Step:  26\n",
      "Loss: 0.5730\n",
      "Train Step:  27\n",
      "Loss: 0.5629\n",
      "Train Step:  28\n",
      "Loss: 0.5425\n",
      "Train Step:  29\n",
      "Loss: 0.5415\n",
      "Train Step:  30\n",
      "Loss: 0.5186\n",
      "Validation Step:  30\n"
     ]
    },
    {
     "data": {
      "application/vnd.jupyter.widget-view+json": {
       "model_id": "3b31ae59e0be458e8ac5e15d8dc75583",
       "version_major": 2,
       "version_minor": 0
      },
      "text/plain": [
       "  0%|          | 0/11 [00:00<?, ?it/s]"
      ]
     },
     "metadata": {},
     "output_type": "display_data"
    },
    {
     "name": "stdout",
     "output_type": "stream",
     "text": [
      "Test loss: 0.3073\n",
      "Train Step:  31\n",
      "Loss: 0.5027\n",
      "Train Step:  32\n",
      "Loss: 0.4803\n",
      "Train Step:  33\n",
      "Loss: 0.4790\n",
      "Train Step:  34\n",
      "Loss: 0.4679\n",
      "Train Step:  35\n",
      "Loss: 0.4522\n",
      "Train Step:  36\n",
      "Loss: 0.4428\n",
      "Train Step:  37\n",
      "Loss: 0.4360\n",
      "Train Step:  38\n",
      "Loss: 0.4319\n",
      "Train Step:  39\n",
      "Loss: 0.4141\n",
      "Train Step:  40\n",
      "Loss: 0.4119\n",
      "Validation Step:  40\n"
     ]
    },
    {
     "data": {
      "application/vnd.jupyter.widget-view+json": {
       "model_id": "5291f37b0c8b46dd929cbac43a2c4469",
       "version_major": 2,
       "version_minor": 0
      },
      "text/plain": [
       "  0%|          | 0/11 [00:00<?, ?it/s]"
      ]
     },
     "metadata": {},
     "output_type": "display_data"
    },
    {
     "name": "stdout",
     "output_type": "stream",
     "text": [
      "Test loss: 0.2800\n",
      "Train Step:  41\n",
      "Loss: 0.4069\n",
      "Train Step:  42\n",
      "Loss: 0.4122\n",
      "Train Step:  43\n",
      "Loss: 0.3920\n",
      "Train Step:  44\n",
      "Loss: 0.3850\n",
      "Train Step:  45\n",
      "Loss: 0.3832\n",
      "Train Step:  46\n",
      "Loss: 0.3777\n",
      "Train Step:  47\n",
      "Loss: 0.3768\n",
      "Train Step:  48\n",
      "Loss: 0.3741\n",
      "Train Step:  49\n",
      "Loss: 0.3673\n",
      "Train Step:  50\n",
      "Loss: 0.3625\n",
      "Validation Step:  50\n"
     ]
    },
    {
     "data": {
      "application/vnd.jupyter.widget-view+json": {
       "model_id": "01e2e0b02e684141b336353cdaf00b27",
       "version_major": 2,
       "version_minor": 0
      },
      "text/plain": [
       "  0%|          | 0/11 [00:00<?, ?it/s]"
      ]
     },
     "metadata": {},
     "output_type": "display_data"
    },
    {
     "name": "stdout",
     "output_type": "stream",
     "text": [
      "Test loss: 0.2387\n",
      "Train Step:  51\n",
      "Loss: 0.3581\n",
      "Train Step:  52\n",
      "Loss: 0.3592\n",
      "Train Step:  53\n",
      "Loss: 0.3580\n",
      "Train Step:  54\n",
      "Loss: 0.3512\n",
      "Train Step:  55\n",
      "Loss: 0.3463\n",
      "Train Step:  56\n",
      "Loss: 0.3514\n",
      "Train Step:  57\n",
      "Loss: 0.3421\n",
      "Train Step:  58\n",
      "Loss: 0.3384\n",
      "Train Step:  59\n",
      "Loss: 0.3366\n",
      "Train Step:  60\n",
      "Loss: 0.3412\n",
      "Validation Step:  60\n"
     ]
    },
    {
     "data": {
      "application/vnd.jupyter.widget-view+json": {
       "model_id": "e8165f51ea0d4787b96d80bbe10dd62c",
       "version_major": 2,
       "version_minor": 0
      },
      "text/plain": [
       "  0%|          | 0/11 [00:00<?, ?it/s]"
      ]
     },
     "metadata": {},
     "output_type": "display_data"
    },
    {
     "name": "stdout",
     "output_type": "stream",
     "text": [
      "Test loss: 0.2250\n",
      "Train Step:  61\n",
      "Loss: 0.3314\n",
      "Train Step:  62\n",
      "Loss: 0.3345\n",
      "Train Step:  63\n",
      "Loss: 0.3317\n",
      "Train Step:  64\n",
      "Loss: 0.3215\n",
      "Train Step:  65\n",
      "Loss: 0.3231\n",
      "Train Step:  66\n",
      "Loss: 0.3221\n",
      "Train Step:  67\n",
      "Loss: 0.3222\n",
      "Train Step:  68\n",
      "Loss: 0.3193\n",
      "Train Step:  69\n",
      "Loss: 0.3105\n",
      "Train Step:  70\n",
      "Loss: 0.3191\n",
      "Validation Step:  70\n"
     ]
    },
    {
     "data": {
      "application/vnd.jupyter.widget-view+json": {
       "model_id": "19a3af7225c54359868f34a67ce14b10",
       "version_major": 2,
       "version_minor": 0
      },
      "text/plain": [
       "  0%|          | 0/11 [00:00<?, ?it/s]"
      ]
     },
     "metadata": {},
     "output_type": "display_data"
    },
    {
     "name": "stdout",
     "output_type": "stream",
     "text": [
      "Test loss: 0.2173\n",
      "Train Step:  71\n",
      "Loss: 0.3164\n",
      "Train Step:  72\n",
      "Loss: 0.3200\n",
      "Train Step:  73\n",
      "Loss: 0.3143\n",
      "Train Step:  74\n",
      "Loss: 0.3167\n",
      "Train Step:  75\n",
      "Loss: 0.3070\n",
      "Train Step:  76\n",
      "Loss: 0.3029\n",
      "Train Step:  77\n",
      "Loss: 0.2986\n",
      "Train Step:  78\n",
      "Loss: 0.3026\n",
      "Train Step:  79\n",
      "Loss: 0.3048\n",
      "Train Step:  80\n",
      "Loss: 0.2985\n",
      "Validation Step:  80\n"
     ]
    },
    {
     "data": {
      "application/vnd.jupyter.widget-view+json": {
       "model_id": "a2d11c01805d4fb0b6ae2fd226a0eef6",
       "version_major": 2,
       "version_minor": 0
      },
      "text/plain": [
       "  0%|          | 0/11 [00:00<?, ?it/s]"
      ]
     },
     "metadata": {},
     "output_type": "display_data"
    },
    {
     "name": "stdout",
     "output_type": "stream",
     "text": [
      "Test loss: 0.2087\n",
      "Train Step:  81\n",
      "Loss: 0.2993\n",
      "Train Step:  82\n",
      "Loss: 0.3033\n",
      "Train Step:  83\n",
      "Loss: 0.2982\n",
      "Train Step:  84\n",
      "Loss: 0.2936\n",
      "Train Step:  85\n",
      "Loss: 0.2934\n",
      "Train Step:  86\n",
      "Loss: 0.2961\n",
      "Train Step:  87\n",
      "Loss: 0.2838\n",
      "Train Step:  88\n",
      "Loss: 0.2919\n",
      "Train Step:  89\n",
      "Loss: 0.2889\n",
      "Train Step:  90\n",
      "Loss: 0.2903\n",
      "Validation Step:  90\n"
     ]
    },
    {
     "data": {
      "application/vnd.jupyter.widget-view+json": {
       "model_id": "ae42f19d63514c1083a6b9f040340329",
       "version_major": 2,
       "version_minor": 0
      },
      "text/plain": [
       "  0%|          | 0/11 [00:00<?, ?it/s]"
      ]
     },
     "metadata": {},
     "output_type": "display_data"
    },
    {
     "name": "stdout",
     "output_type": "stream",
     "text": [
      "Test loss: 0.2014\n",
      "Train Step:  91\n",
      "Loss: 0.2904\n",
      "Train Step:  92\n",
      "Loss: 0.2900\n",
      "Train Step:  93\n",
      "Loss: 0.2908\n",
      "Train Step:  94\n",
      "Loss: 0.2852\n",
      "Train Step:  95\n",
      "Loss: 0.2832\n",
      "Train Step:  96\n",
      "Loss: 0.2813\n",
      "Train Step:  97\n",
      "Loss: 0.2802\n",
      "Train Step:  98\n",
      "Loss: 0.2757\n",
      "Train Step:  99\n",
      "Loss: 0.2777\n",
      "\n",
      "Running MC Dropout on Novel Data....\n",
      "\n"
     ]
    },
    {
     "data": {
      "application/vnd.jupyter.widget-view+json": {
       "model_id": "0022d943ed044c9cb873be1f0d19e6d3",
       "version_major": 2,
       "version_minor": 0
      },
      "text/plain": [
       "  0%|          | 0/15 [00:00<?, ?it/s]"
      ]
     },
     "metadata": {},
     "output_type": "display_data"
    },
    {
     "name": "stdout",
     "output_type": "stream",
     "text": [
      "\n",
      "Number of points passed for MC dropout: 2428\n",
      "\n",
      "Running MC Dropout on Training Data....\n",
      "\n"
     ]
    },
    {
     "data": {
      "application/vnd.jupyter.widget-view+json": {
       "model_id": "d4ec6fcf596c4fcfa323b7ad3b0b118c",
       "version_major": 2,
       "version_minor": 0
      },
      "text/plain": [
       "  0%|          | 0/15 [00:00<?, ?it/s]"
      ]
     },
     "metadata": {},
     "output_type": "display_data"
    },
    {
     "name": "stdout",
     "output_type": "stream",
     "text": [
      "\n",
      "Number of points passed for MC dropout: 11732\n",
      "\n",
      "Novel Data Uncertainty changes...\n",
      "\n",
      " Decreased 69.357% Increased: 30.643 % No Change: 0.000 \n",
      "Initial Average Uncertainty: 0.3625, Final Average Uncertainty: 0.3199\n",
      "\n",
      "Training Data Uncertainty changes...\n",
      "\n",
      " Decreased 40.351% Increased: 59.649 % No Change: 0.000 \n",
      "Initial Average Uncertainty: 0.1165, Final Average Uncertainty: 0.1183\n",
      "\n",
      "Change in MSE for novel dataset: -0.2192\n",
      "\n",
      "\n",
      "Change in MSE for train dataset: -0.0104\n",
      "\n"
     ]
    },
    {
     "data": {
      "image/png": "[encoded data removed]",
      "text/plain": [
       "<Figure size 432x288 with 1 Axes>"
      ]
     },
     "metadata": {
      "needs_background": "light"
     },
     "output_type": "display_data"
    },
    {
     "data": {
      "image/png": "[encoded data removed]",
      "text/plain": [
       "<Figure size 432x288 with 1 Axes>"
      ]
     },
     "metadata": {
      "needs_background": "light"
     },
     "output_type": "display_data"
    },
    {
     "data": {
      "image/png": "[encoded data removed]",
      "text/plain": [
       "<Figure size 432x288 with 1 Axes>"
      ]
     },
     "metadata": {
      "needs_background": "light"
     },
     "output_type": "display_data"
    },
    {
     "data": {
      "image/png": "[encoded data removed]",
      "text/plain": [
       "<Figure size 432x288 with 1 Axes>"
      ]
     },
     "metadata": {
      "needs_background": "light"
     },
     "output_type": "display_data"
    },
    {
     "data": {
      "image/png": "[encoded data removed]",
      "text/plain": [
       "<Figure size 432x288 with 1 Axes>"
      ]
     },
     "metadata": {
      "needs_background": "light"
     },
     "output_type": "display_data"
    },
    {
     "data": {
      "image/png": "[encoded data removed]",
      "text/plain": [
       "<Figure size 432x288 with 1 Axes>"
      ]
     },
     "metadata": {
      "needs_background": "light"
     },
     "output_type": "display_data"
    },
    {
     "data": {
      "image/png": "[encoded data removed]",
      "text/plain": [
       "<Figure size 432x288 with 1 Axes>"
      ]
     },
     "metadata": {
      "needs_background": "light"
     },
     "output_type": "display_data"
    },
    {
     "data": {
      "image/png": "[encoded data removed]",
      "text/plain": [
       "<Figure size 432x288 with 1 Axes>"
      ]
     },
     "metadata": {
      "needs_background": "light"
     },
     "output_type": "display_data"
    }
   ],
   "source": [
    "init_epoch = 25\n",
    "iterations = 4\n",
    "train_losses = []\n",
    "test_losses = []\n",
    "for i in range(iterations):\n",
    "    print(f\"\\nIteration: {i}\\n\")\n",
    "    valid_sample = valid_dataset.sample(10_000)\n",
    "\n",
    "    # remove the sampled data points from the dataset\n",
    "    valid_dataset.remove(valid_sample.data.index)\n",
    "\n",
    "    select_unstable_data(valid_sample, batch_size=100, classifier=models[\"ITG_class\"])\n",
    "\n",
    "    uncertain_datset, uncert_before, data_idx = regressor_uncertainty(\n",
    "    valid_sample, models[\"ITG_reg\"], n_runs=15, keep=0.25,valid_dataset=valid_dataset\n",
    ")\n",
    "    train_sample_origin, train_uncert_before, train_uncert_idx = regressor_uncertainty(\n",
    "        train_sample, models[\"ITG_reg\"], n_runs=15,train_data=True,\n",
    "        )\n",
    "\n",
    "    train_sample.add(uncertain_datset)\n",
    "\n",
    "    uncertain_loader = DataLoader(train_sample, batch_size=len(train_sample), shuffle=True)\n",
    "\n",
    "    prediction_before, prediction_idx_order = models[\"ITG_reg\"].predict(uncertain_loader)\n",
    "\n",
    "    # Switching validation dataset to numpy arrays to see if it is quicker\n",
    "    x_array = valid_dataset.data[train_keys].values\n",
    "    y_array = valid_dataset.data[\"itg\"].values\n",
    "    z_array = valid_dataset.data[\"efiitg_gb\"].values\n",
    "    dataset_numpy = ITGDataset(x_array, y_array, z_array)\n",
    "    valid_loader = DataLoader(\n",
    "        dataset_numpy, batch_size=int(0.1 * len(y_array)), shuffle=True\n",
    "    )\n",
    "\n",
    "    # Retrain Regressor (Further research required)\n",
    "    epochs = init_epoch * (i+1)\n",
    "    train_loss, test_loss = retrain_regressor(\n",
    "        uncertain_loader,\n",
    "        valid_loader,\n",
    "        models[\"ITG_reg\"],\n",
    "        learning_rate=1e-3,\n",
    "        epochs=epochs,\n",
    "        validation_step=True,\n",
    "        mode=\"shrink_perturb\",\n",
    "    )\n",
    "\n",
    "    train_losses.append(train_loss)\n",
    "    test_losses.append(test_loss)\n",
    "\n",
    "    prediction_after,_ = models[\"ITG_reg\"].predict(uncertain_loader, prediction_idx_order)\n",
    "\n",
    "    _, uncert_after,_ = regressor_uncertainty(valid_sample, models[\"ITG_reg\"], n_runs=15, keep=0.25, order_idx=data_idx)\n",
    "    _, train_uncert_after,_ = regressor_uncertainty(train_sample_origin, models[\"ITG_reg\"], n_runs=15,order_idx=train_uncert_idx, train_data=True)\n",
    "   \n",
    "    print(\"\\nNovel Data Uncertainty changes...\\n\")\n",
    "    uncertainty_change(x=uncert_before, y=uncert_after);\n",
    "\n",
    "    print(\"\\nTraining Data Uncertainty changes...\\n\")\n",
    "    uncertainty_change(x=train_uncert_before, y=train_uncert_after);\n",
    "    \n",
    "    mse_change(prediction_before, prediction_after,prediction_idx_order,data_idx, uncertain_loader,[uncert_before, uncert_after])\n",
    "\n",
    "    mse_change(\n",
    "    prediction_before,\n",
    "    prediction_after,\n",
    "    prediction_idx_order,\n",
    "    train_uncert_idx,\n",
    "    uncertain_loader,\n",
    "    uncertainties=[train_uncert_before, train_uncert_after],\n",
    "    data=\"train\"\n",
    "     )"
   ]
  },
  {
   "cell_type": "code",
   "execution_count": 9,
   "metadata": {},
   "outputs": [
    {
     "data": {
      "image/png": "[encoded data removed]",
      "text/plain": [
       "<Figure size 432x288 with 1 Axes>"
      ]
     },
     "metadata": {
      "needs_background": "light"
     },
     "output_type": "display_data"
    }
   ],
   "source": [
    "plt.figure()\n",
    "for i in range(len(train_losses)):\n",
    "    plt.scatter(np.arange(0,len(train_losses[i])), train_losses[i], label =f\"Iteration {i}\");\n",
    "    plt.legend()\n",
    "\n",
    "plt.xlabel(\"Epochs\")\n",
    "plt.ylabel(\"Training Loss\");\n",
    "plt.savefig(\"SP_training_loss.png\", dpi = 300)"
   ]
  },
  {
   "cell_type": "code",
   "execution_count": 10,
   "metadata": {},
   "outputs": [
    {
     "data": {
      "image/png": "[encoded data removed]",
      "text/plain": [
       "<Figure size 432x288 with 1 Axes>"
      ]
     },
     "metadata": {
      "needs_background": "light"
     },
     "output_type": "display_data"
    }
   ],
   "source": [
    "plt.figure()\n",
    "for i in range(len(test_losses)):\n",
    "    plt.plot(np.arange(0,len(test_losses[i])), test_losses[i]);\n",
    "    plt.scatter(np.arange(0,len(test_losses[i])), test_losses[i], label = f\"Iteration {i}\");\n",
    "    \n",
    "plt.legend()\n",
    "plt.xlabel(\"Epochs\")\n",
    "plt.ylabel(\"Test Loss\");\n",
    "plt.savefig(\"SP_test_loss.png\", dpi = 300)"
   ]
  },
  {
   "cell_type": "code",
   "execution_count": null,
   "metadata": {},
   "outputs": [],
   "source": []
  }
 ],
 "metadata": {
  "interpreter": {
   "hash": "35c235ff99f8605ca4fe7a283017706943881a3c0b9b82454bde1f1c1c4aedb1"
  },
  "kernelspec": {
   "display_name": "Python 3 (ipykernel)",
   "language": "python",
   "name": "python3"
  },
  "language_info": {
   "codemirror_mode": {
    "name": "ipython",
    "version": 3
   },
   "file_extension": ".py",
   "mimetype": "text/x-python",
   "name": "python",
   "nbconvert_exporter": "python",
   "pygments_lexer": "ipython3",
   "version": "3.9.0"
  }
 },
 "nbformat": 4,
 "nbformat_minor": 2
}
