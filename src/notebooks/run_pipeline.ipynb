{
 "cells": [
  {
   "cell_type": "code",
   "execution_count": null,
   "metadata": {},
   "outputs": [],
   "source": [
    "from scripts.pipeline_tools import (\n",
    "    prepare_data,\n",
    "    regressor_uncertainty,\n",
    "    select_unstable_data,\n",
    "    retrain_regressor,\n",
    "    uncertainty_change,\n",
    "    mse_change, \n",
    "    get_mse, \n",
    "    plot_mse_change\n",
    ")\n",
    "from scripts.Models import ITGDatasetDF, load_model, ITGDataset\n",
    "from sklearn.preprocessing import StandardScaler\n",
    "from torch.utils.data import DataLoader\n",
    "from scripts.utils import train_keys\n",
    "import copy\n",
    "import numpy as np\n",
    "from tqdm.auto import tqdm\n",
    "import matplotlib.pyplot as plt"
   ]
  },
  {
   "cell_type": "code",
   "execution_count": null,
   "metadata": {},
   "outputs": [],
   "source": [
    "pretrained = {\n",
    "    \"ITG_class\": {\n",
    "        \"trained\": True,\n",
    "        # \"save_path\": \"/home/tmadula/UKAEAGroupProject/src/notebooks/classifier_model.pt\",\n",
    "        # \"save_path\": \"/unix/atlastracking/jbarr/UKAEAGroupProject/src/notebooks/classifier_model.pt\",\n",
    "        \"save_path\": \"/Users/thandikiremadula/Desktop/UKAEA_data/classifier_model.pt\"\n",
    "    },\n",
    "    \"ITG_reg\": {\n",
    "        \"trained\": True,\n",
    "        # \"save_path\": \"/home/tmadula/UKAEAGroupProject/src/notebooks/regression_model.pt\",\n",
    "        # \"save_path\": \"/unix/atlastracking/jbarr/UKAEAGroupProject/src/notebooks/regression_model.pt\",\n",
    "        \"save_path\": \"/Users/thandikiremadula/Desktop/UKAEA_data/regression_model.pt\"\n",
    "    },\n",
    "}\n",
    "\n",
    "# Data loading\n",
    "\n",
    "# TRAIN_PATH = \"/share/rcifdata/jbarr/UKAEAGroupProject/data/train_data_clipped.pkl\"\n",
    "# TRAIN_PATH = \"/unix/atlastracking/jbarr/train_data_clipped.pkl\"\n",
    "TRAIN_PATH = \"/Users/thandikiremadula/Desktop/UKAEA_data/train_data_clipped.pkl\"\n",
    "\n",
    "# VALIDATION_PATH = \"/share/rcifdata/jbarr/UKAEAGroupProject/data/valid_data_clipped.pkl\"\n",
    "# VALIDATION_PATH = \"/unix/atlastracking/jbarr/valid_data_clipped.pkl\"\n",
    "VALIDATION_PATH = \"/Users/thandikiremadula/Desktop/UKAEA_data/valid_data_clipped.pkl\""
   ]
  },
  {
   "cell_type": "code",
   "execution_count": null,
   "metadata": {},
   "outputs": [],
   "source": [
    "train_data, val_data = prepare_data(\n",
    "    TRAIN_PATH, VALIDATION_PATH, target_column=\"efiitg_gb\", target_var=\"itg\"\n",
    ")\n",
    "\n",
    "scaler = StandardScaler()\n",
    "scaler.fit_transform(train_data.drop([\"itg\"], axis=1))\n",
    "\n",
    "train_dataset = ITGDatasetDF(train_data, target_column=\"efiitg_gb\", target_var=\"itg\")\n",
    "valid_dataset = ITGDatasetDF(val_data, target_column=\"efiitg_gb\", target_var=\"itg\")\n",
    "\n",
    "# # TODO: further testing of the scale function\n",
    "train_dataset.scale(scaler)\n",
    "valid_dataset.scale(scaler)"
   ]
  },
  {
   "cell_type": "code",
   "execution_count": null,
   "metadata": {},
   "outputs": [],
   "source": [
    "# Load pretrained models\n",
    "models = {}\n",
    "for model in pretrained:\n",
    "    if pretrained[model][\"trained\"] == True:\n",
    "        trained_model = load_model(model, pretrained[model][\"save_path\"])\n",
    "        models[model] = trained_model\n",
    "print(\"Loaded the following models:\\n\")\n",
    "for model_name in models:\n",
    "    print(f\"Model: {model_name}\\n\")\n",
    "    # print(models[model_name])"
   ]
  },
  {
   "cell_type": "code",
   "execution_count": null,
   "metadata": {},
   "outputs": [],
   "source": [
    "# TODO: Needs to be the true training samples used!!!\n",
    "train_sample = train_dataset.sample(10_000)\n",
    "valid_sample = valid_dataset.sample(10_000)\n",
    "\n",
    "\n",
    "# remove the sampled data points from the dataset\n",
    "valid_dataset.remove(valid_sample.data.index)"
   ]
  },
  {
   "cell_type": "code",
   "execution_count": null,
   "metadata": {},
   "outputs": [],
   "source": [
    "select_unstable_data(valid_sample, batch_size=100, classifier=models[\"ITG_class\"])"
   ]
  },
  {
   "cell_type": "code",
   "execution_count": null,
   "metadata": {},
   "outputs": [],
   "source": [
    "uncertain_datset, uncert_before, data_idx = regressor_uncertainty(\n",
    "    valid_sample, models[\"ITG_reg\"], n_runs=15, keep=0.25\n",
    ")\n",
    "\n",
    "train_sample.add(uncertain_datset)\n",
    "\n",
    "uncertain_loader = DataLoader(train_sample, batch_size=len(train_sample), shuffle=True)"
   ]
  },
  {
   "cell_type": "code",
   "execution_count": null,
   "metadata": {},
   "outputs": [],
   "source": [
    "prediction_before, prediction_idx_order = models[\"ITG_reg\"].predict(uncertain_loader)"
   ]
  },
  {
   "cell_type": "code",
   "execution_count": null,
   "metadata": {},
   "outputs": [],
   "source": [
    "# Switching validation dataset to numpy arrays to see if it is quicker\n",
    "x_array = valid_dataset.data[train_keys].values\n",
    "y_array = valid_dataset.data[\"itg\"].values\n",
    "z_array = valid_dataset.data[\"efiitg_gb\"].values\n",
    "dataset_numpy = ITGDataset(x_array, y_array, z_array)\n",
    "valid_loader = DataLoader(\n",
    "    dataset_numpy, batch_size=int(0.1 * len(y_array)), shuffle=True\n",
    ")"
   ]
  },
  {
   "cell_type": "code",
   "execution_count": null,
   "metadata": {},
   "outputs": [],
   "source": [
    "# Retrain Regressor (Further research required)\n",
    "retrain_regressor(\n",
    "    uncertain_loader,\n",
    "    valid_loader,\n",
    "    models[\"ITG_reg\"],\n",
    "    learning_rate=1e-3,\n",
    "    epochs=50,\n",
    "    validation_step=True,\n",
    "    mode=\"warm_start\",\n",
    ")"
   ]
  },
  {
   "cell_type": "code",
   "execution_count": null,
   "metadata": {},
   "outputs": [],
   "source": [
    "prediction_after,_ = models[\"ITG_reg\"].predict(uncertain_loader, prediction_idx_order)"
   ]
  },
  {
   "cell_type": "code",
   "execution_count": null,
   "metadata": {},
   "outputs": [],
   "source": [
    "_, uncert_after,_ = regressor_uncertainty(valid_sample, models[\"ITG_reg\"], n_runs=15, keep=0.25, order_idx=data_idx)"
   ]
  },
  {
   "cell_type": "code",
   "execution_count": null,
   "metadata": {},
   "outputs": [],
   "source": [
    "uncertainty_change(x=uncert_before, y=uncert_after);"
   ]
  },
  {
   "cell_type": "code",
   "execution_count": null,
   "metadata": {},
   "outputs": [],
   "source": [
    "mse_change(prediction_before, prediction_after,prediction_idx_order,data_idx, uncertain_loader,[uncert_before, uncert_after])"
   ]
  },
  {
   "cell_type": "code",
   "execution_count": null,
   "metadata": {},
   "outputs": [],
   "source": [
    "mse_change(prediction_before, prediction_after,prediction_idx_order,data_idx, uncertain_loader,data='train')"
   ]
  },
  {
   "cell_type": "code",
   "execution_count": null,
   "metadata": {},
   "outputs": [],
   "source": [
    "idxs = prediction_idx_order.astype(int)\n",
    "ground_truth = uncertain_loader.dataset.data.loc[idxs]\n",
    "ground_truth = ground_truth['efiitg_gb']\n",
    "ground_truth = ground_truth.to_numpy()"
   ]
  },
  {
   "cell_type": "code",
   "execution_count": null,
   "metadata": {},
   "outputs": [],
   "source": [
    "mse_before = get_mse(prediction_before, ground_truth)\n",
    "mse_after = get_mse(prediction_after, ground_truth)\n",
    "delta_mse = mse_after - mse_before"
   ]
  },
  {
   "cell_type": "code",
   "execution_count": null,
   "metadata": {},
   "outputs": [],
   "source": [
    "plot_mse_change(ground_truth, prediction_before, prediction_after, uncertainties=None,data=\"no\")"
   ]
  },
  {
   "cell_type": "code",
   "execution_count": null,
   "metadata": {},
   "outputs": [],
   "source": []
  }
 ],
 "metadata": {
  "interpreter": {
   "hash": "35c235ff99f8605ca4fe7a283017706943881a3c0b9b82454bde1f1c1c4aedb1"
  },
  "kernelspec": {
   "display_name": "Python 3.9.0 ('UKAEA')",
   "language": "python",
   "name": "python3"
  },
  "language_info": {
   "codemirror_mode": {
    "name": "ipython",
    "version": 3
   },
   "file_extension": ".py",
   "mimetype": "text/x-python",
   "name": "python",
   "nbconvert_exporter": "python",
   "pygments_lexer": "ipython3",
   "version": "3.9.0"
  },
  "orig_nbformat": 4
 },
 "nbformat": 4,
 "nbformat_minor": 2
}
