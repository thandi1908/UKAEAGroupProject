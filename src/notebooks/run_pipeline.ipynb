{
 "cells": [
  {
   "cell_type": "code",
   "execution_count": 1,
   "metadata": {},
   "outputs": [],
   "source": [
    "from scripts.pipeline_tools import (\n",
    "    prepare_data,\n",
    "    regressor_uncertainty,\n",
    "    select_unstable_data,\n",
    "    retrain_regressor,\n",
    "    uncertainty_change,\n",
    "    mse_change,\n",
    ")\n",
    "from scripts.Models import ITGDatasetDF, load_model, ITGDataset\n",
    "from sklearn.preprocessing import StandardScaler\n",
    "from torch.utils.data import DataLoader\n",
    "from scripts.utils import train_keys\n",
    "import copy\n",
    "import numpy as np\n",
    "from tqdm.auto import tqdm\n",
    "import matplotlib.pyplot as plt\n",
    "import yaml "
   ]
  },
  {
   "cell_type": "code",
   "execution_count": 2,
   "metadata": {},
   "outputs": [],
   "source": [
    "with open('pipeline_config.yaml') as f:\n",
    "    cfg = yaml.load(f, Loader=yaml.FullLoader)\n",
    "\n",
    "pretrained = cfg['pretrained']\n",
    "paths = cfg['data']"
   ]
  },
  {
   "cell_type": "code",
   "execution_count": 3,
   "metadata": {},
   "outputs": [],
   "source": [
    "train_data, val_data = prepare_data(\n",
    "    paths['train'], paths['validation'], target_column=\"efiitg_gb\", target_var=\"itg\"\n",
    ")\n",
    "\n",
    "scaler = StandardScaler()\n",
    "scaler.fit_transform(train_data.drop([\"itg\"], axis=1))\n",
    "\n",
    "train_dataset = ITGDatasetDF(train_data, target_column=\"efiitg_gb\", target_var=\"itg\")\n",
    "valid_dataset = ITGDatasetDF(val_data, target_column=\"efiitg_gb\", target_var=\"itg\")\n",
    "\n",
    "# # TODO: further testing of the scale function\n",
    "train_dataset.scale(scaler)\n",
    "valid_dataset.scale(scaler)"
   ]
  },
  {
   "cell_type": "code",
   "execution_count": 4,
   "metadata": {},
   "outputs": [
    {
     "name": "stdout",
     "output_type": "stream",
     "text": [
      "Loaded the following models:\n",
      "\n",
      "Model Loaded: ITG_class\n",
      "Model Loaded: ITG_reg\n"
     ]
    }
   ],
   "source": [
    "# Load pretrained models\n",
    "print(\"Loaded the following models:\\n\")\n",
    "models = {}\n",
    "for model in pretrained:\n",
    "    if pretrained[model][\"trained\"] == True:\n",
    "        trained_model = load_model(model, pretrained[model][\"save_path\"])\n",
    "        models[model] = trained_model"
   ]
  },
  {
   "cell_type": "code",
   "execution_count": 5,
   "metadata": {},
   "outputs": [],
   "source": [
    "# TODO: Needs to be the true training samples used!!!\n",
    "train_sample = train_dataset.sample(10_000)"
   ]
  },
  {
   "cell_type": "code",
   "execution_count": null,
   "metadata": {
    "scrolled": false
   },
   "outputs": [
    {
     "name": "stdout",
     "output_type": "stream",
     "text": [
      "\n",
      "Iteration: 0\n",
      "\n",
      "\n",
      "Running classifier selection...\n",
      "\n"
     ]
    },
    {
     "data": {
      "application/vnd.jupyter.widget-view+json": {
       "model_id": "53f8c4eb305d4bd7a77778ac391750ce",
       "version_major": 2,
       "version_minor": 0
      },
      "text/plain": [
       "  0%|          | 0/100 [00:00<?, ?it/s]"
      ]
     },
     "metadata": {},
     "output_type": "display_data"
    },
    {
     "name": "stdout",
     "output_type": "stream",
     "text": [
      "\n",
      "Stable points: 7478\n",
      "Misclassified points: 554\n",
      "Percentage of misclassified points:  5.54%\n",
      "\n",
      "Dropped 7704 rows\n",
      "\n",
      "Running MC Dropout on Novel Data....\n",
      "\n"
     ]
    },
    {
     "data": {
      "application/vnd.jupyter.widget-view+json": {
       "model_id": "f5ed9fcb06ea434d9bb65db43ad0c2b0",
       "version_major": 2,
       "version_minor": 0
      },
      "text/plain": [
       "  0%|          | 0/15 [00:00<?, ?it/s]"
      ]
     },
     "metadata": {},
     "output_type": "display_data"
    },
    {
     "name": "stdout",
     "output_type": "stream",
     "text": [
      "\n",
      "Number of points passed for MC dropout: 2296\n",
      "no valid before : 2199776\n",
      "no valid after : 2201498\n",
      "\n",
      "Running MC Dropout on Training Data....\n",
      "\n"
     ]
    },
    {
     "data": {
      "application/vnd.jupyter.widget-view+json": {
       "model_id": "4f07e0c22c0f494d944b7d24f8ad56cd",
       "version_major": 2,
       "version_minor": 0
      },
      "text/plain": [
       "  0%|          | 0/15 [00:00<?, ?it/s]"
      ]
     },
     "metadata": {},
     "output_type": "display_data"
    },
    {
     "name": "stdout",
     "output_type": "stream",
     "text": [
      "\n",
      "Number of points passed for MC dropout: 10000\n",
      "\n",
      "Retraining regressor...\n",
      "\n",
      "Training on 10574 points\n"
     ]
    },
    {
     "data": {
      "application/vnd.jupyter.widget-view+json": {
       "model_id": "a91d6c65625d47fb99a67ff3f95a5c9a",
       "version_major": 2,
       "version_minor": 0
      },
      "text/plain": [
       "  0%|          | 0/11 [00:00<?, ?it/s]"
      ]
     },
     "metadata": {},
     "output_type": "display_data"
    },
    {
     "name": "stdout",
     "output_type": "stream",
     "text": [
      "Initial loss: 0.9512\n",
      "Train Step:  0\n",
      "Loss: 1.3697\n",
      "Validation Step:  0\n"
     ]
    },
    {
     "data": {
      "application/vnd.jupyter.widget-view+json": {
       "model_id": "0d76cd9d72554deea00c1f264bd4c793",
       "version_major": 2,
       "version_minor": 0
      },
      "text/plain": [
       "  0%|          | 0/11 [00:00<?, ?it/s]"
      ]
     },
     "metadata": {},
     "output_type": "display_data"
    },
    {
     "name": "stdout",
     "output_type": "stream",
     "text": [
      "Test loss: 0.9070\n",
      "Train Step:  1\n",
      "Loss: 1.3253\n",
      "Train Step:  2\n",
      "Loss: 1.2822\n",
      "Train Step:  3\n",
      "Loss: 1.2412\n",
      "Train Step:  4\n",
      "Loss: 1.2031\n",
      "Train Step:  5\n",
      "Loss: 1.1643\n",
      "Train Step:  6\n",
      "Loss: 1.1266\n",
      "Train Step:  7\n",
      "Loss: 1.0884\n",
      "Train Step:  8\n",
      "Loss: 1.0501\n",
      "Train Step:  9\n",
      "Loss: 1.0130\n",
      "Train Step:  10\n",
      "Loss: 0.9787\n",
      "Validation Step:  10\n"
     ]
    },
    {
     "data": {
      "application/vnd.jupyter.widget-view+json": {
       "model_id": "a85ef96941594b02b745515e6c9b63df",
       "version_major": 2,
       "version_minor": 0
      },
      "text/plain": [
       "  0%|          | 0/11 [00:00<?, ?it/s]"
      ]
     },
     "metadata": {},
     "output_type": "display_data"
    },
    {
     "name": "stdout",
     "output_type": "stream",
     "text": [
      "Test loss: 0.6114\n",
      "Train Step:  11\n",
      "Loss: 0.9386\n",
      "Train Step:  12\n",
      "Loss: 0.9005\n",
      "Train Step:  13\n",
      "Loss: 0.8591\n",
      "Train Step:  14\n",
      "Loss: 0.8158\n",
      "Train Step:  15\n",
      "Loss: 0.7719\n",
      "Train Step:  16\n",
      "Loss: 0.7304\n",
      "Train Step:  17\n",
      "Loss: 0.6865\n",
      "Train Step:  18\n",
      "Loss: 0.6452\n",
      "Train Step:  19\n",
      "Loss: 0.6002\n",
      "Train Step:  20\n",
      "Loss: 0.5640\n",
      "Validation Step:  20\n"
     ]
    },
    {
     "data": {
      "application/vnd.jupyter.widget-view+json": {
       "model_id": "2da1e450a24b40c3a9d15c5994bd0726",
       "version_major": 2,
       "version_minor": 0
      },
      "text/plain": [
       "  0%|          | 0/11 [00:00<?, ?it/s]"
      ]
     },
     "metadata": {},
     "output_type": "display_data"
    },
    {
     "name": "stdout",
     "output_type": "stream",
     "text": [
      "Test loss: 0.3493\n",
      "Train Step:  21\n",
      "Loss: 0.5212\n",
      "Train Step:  22\n",
      "Loss: 0.4864\n",
      "Train Step:  23\n",
      "Loss: 0.4514\n",
      "Train Step:  24\n",
      "Loss: 0.4162\n",
      "Validation Step:  24\n"
     ]
    },
    {
     "data": {
      "application/vnd.jupyter.widget-view+json": {
       "model_id": "3cc43f08fd2e42a98e4ddaa05b199e4a",
       "version_major": 2,
       "version_minor": 0
      },
      "text/plain": [
       "  0%|          | 0/11 [00:00<?, ?it/s]"
      ]
     },
     "metadata": {},
     "output_type": "display_data"
    },
    {
     "name": "stdout",
     "output_type": "stream",
     "text": [
      "Test loss: 0.2881\n",
      "\n",
      "Running MC Dropout on Novel Data....\n",
      "\n"
     ]
    },
    {
     "data": {
      "application/vnd.jupyter.widget-view+json": {
       "model_id": "46c2014a7d544b5faa2cb6610b2c20d3",
       "version_major": 2,
       "version_minor": 0
      },
      "text/plain": [
       "  0%|          | 0/15 [00:00<?, ?it/s]"
      ]
     },
     "metadata": {},
     "output_type": "display_data"
    },
    {
     "name": "stdout",
     "output_type": "stream",
     "text": [
      "\n",
      "Number of points passed for MC dropout: 2296\n",
      "\n",
      "Running MC Dropout on Training Data....\n",
      "\n"
     ]
    },
    {
     "data": {
      "application/vnd.jupyter.widget-view+json": {
       "model_id": "5ecbbb53334f4bc6969d135882580a2e",
       "version_major": 2,
       "version_minor": 0
      },
      "text/plain": [
       "  0%|          | 0/15 [00:00<?, ?it/s]"
      ]
     },
     "metadata": {},
     "output_type": "display_data"
    },
    {
     "name": "stdout",
     "output_type": "stream",
     "text": [
      "\n",
      "Number of points passed for MC dropout: 10000\n",
      "\n",
      "Novel Data Uncertainty changes...\n",
      "\n",
      " Decreased 98.780% Increased: 1.220 % No Change: 0.000 \n",
      "Initial Average Uncertainty: 0.3793, Final Average Uncertainty: 0.1659\n",
      "\n",
      "Training Data Uncertainty changes...\n",
      "\n",
      " Decreased 40.140% Increased: 59.860 % No Change: 0.000 \n",
      "Initial Average Uncertainty: 0.0782, Final Average Uncertainty: 0.0676\n",
      "\n",
      "Change in MSE for novel dataset: 1.8741\n",
      "\n",
      "\n",
      "Change in MSE for train dataset: 0.1439\n",
      "\n",
      "\n",
      "Iteration: 1\n",
      "\n",
      "\n",
      "Running classifier selection...\n",
      "\n"
     ]
    },
    {
     "data": {
      "application/vnd.jupyter.widget-view+json": {
       "model_id": "6727a939befc4370b99141e09b9448b0",
       "version_major": 2,
       "version_minor": 0
      },
      "text/plain": [
       "  0%|          | 0/100 [00:00<?, ?it/s]"
      ]
     },
     "metadata": {},
     "output_type": "display_data"
    },
    {
     "name": "stdout",
     "output_type": "stream",
     "text": [
      "\n",
      "Stable points: 7381\n",
      "Misclassified points: 519\n",
      "Percentage of misclassified points:  5.19%\n",
      "\n",
      "Dropped 7632 rows\n",
      "\n",
      "Running MC Dropout on Novel Data....\n",
      "\n"
     ]
    },
    {
     "data": {
      "application/vnd.jupyter.widget-view+json": {
       "model_id": "3c5fc017497a4ca194a2e6523d0958ae",
       "version_major": 2,
       "version_minor": 0
      },
      "text/plain": [
       "  0%|          | 0/15 [00:00<?, ?it/s]"
      ]
     },
     "metadata": {},
     "output_type": "display_data"
    },
    {
     "name": "stdout",
     "output_type": "stream",
     "text": [
      "\n",
      "Number of points passed for MC dropout: 2368\n",
      "no valid before : 2191498\n",
      "no valid after : 2193274\n",
      "\n",
      "Running MC Dropout on Training Data....\n",
      "\n"
     ]
    },
    {
     "data": {
      "application/vnd.jupyter.widget-view+json": {
       "model_id": "9c1885dc944b4ea4917fc101f6418beb",
       "version_major": 2,
       "version_minor": 0
      },
      "text/plain": [
       "  0%|          | 0/15 [00:00<?, ?it/s]"
      ]
     },
     "metadata": {},
     "output_type": "display_data"
    },
    {
     "name": "stdout",
     "output_type": "stream",
     "text": [
      "\n",
      "Number of points passed for MC dropout: 10574\n",
      "\n",
      "Retraining regressor...\n",
      "\n",
      "Training on 11166 points\n"
     ]
    },
    {
     "data": {
      "application/vnd.jupyter.widget-view+json": {
       "model_id": "7ad10ce4947f4aa4a971794f63fc73d9",
       "version_major": 2,
       "version_minor": 0
      },
      "text/plain": [
       "  0%|          | 0/11 [00:00<?, ?it/s]"
      ]
     },
     "metadata": {},
     "output_type": "display_data"
    },
    {
     "name": "stdout",
     "output_type": "stream",
     "text": [
      "Initial loss: 0.7196\n",
      "Train Step:  0\n",
      "Loss: 1.2671\n",
      "Validation Step:  0\n"
     ]
    },
    {
     "data": {
      "application/vnd.jupyter.widget-view+json": {
       "model_id": "9d44ab2a1b3d4e55a93af25e132db3d0",
       "version_major": 2,
       "version_minor": 0
      },
      "text/plain": [
       "  0%|          | 0/11 [00:00<?, ?it/s]"
      ]
     },
     "metadata": {},
     "output_type": "display_data"
    },
    {
     "name": "stdout",
     "output_type": "stream",
     "text": [
      "Test loss: 0.6918\n",
      "Train Step:  1\n",
      "Loss: 1.2200\n",
      "Train Step:  2\n",
      "Loss: 1.1736\n",
      "Train Step:  3\n",
      "Loss: 1.1231\n",
      "Train Step:  4\n",
      "Loss: 1.0740\n",
      "Train Step:  5\n",
      "Loss: 1.0201\n",
      "Train Step:  6\n",
      "Loss: 0.9664\n",
      "Train Step:  7\n",
      "Loss: 0.9121\n",
      "Train Step:  8\n",
      "Loss: 0.8523\n",
      "Train Step:  9\n",
      "Loss: 0.7976\n",
      "Train Step:  10\n",
      "Loss: 0.7417\n",
      "Validation Step:  10\n"
     ]
    },
    {
     "data": {
      "application/vnd.jupyter.widget-view+json": {
       "model_id": "03f6f9c4f990434aa83edc813fc32838",
       "version_major": 2,
       "version_minor": 0
      },
      "text/plain": [
       "  0%|          | 0/11 [00:00<?, ?it/s]"
      ]
     },
     "metadata": {},
     "output_type": "display_data"
    },
    {
     "name": "stdout",
     "output_type": "stream",
     "text": [
      "Test loss: 0.4248\n",
      "Train Step:  11\n",
      "Loss: 0.6900\n",
      "Train Step:  12\n",
      "Loss: 0.6447\n",
      "Train Step:  13\n",
      "Loss: 0.5953\n",
      "Train Step:  14\n",
      "Loss: 0.5601\n",
      "Train Step:  15\n",
      "Loss: 0.5235\n",
      "Train Step:  16\n",
      "Loss: 0.4954\n",
      "Train Step:  17\n",
      "Loss: 0.4672\n",
      "Train Step:  18\n",
      "Loss: 0.4397\n",
      "Train Step:  19\n",
      "Loss: 0.4211\n",
      "Train Step:  20\n",
      "Loss: 0.3968\n",
      "Validation Step:  20\n"
     ]
    },
    {
     "data": {
      "application/vnd.jupyter.widget-view+json": {
       "model_id": "b0cd693dc2ce4b0ca44a0e5b986c6daf",
       "version_major": 2,
       "version_minor": 0
      },
      "text/plain": [
       "  0%|          | 0/11 [00:00<?, ?it/s]"
      ]
     },
     "metadata": {},
     "output_type": "display_data"
    },
    {
     "name": "stdout",
     "output_type": "stream",
     "text": [
      "Test loss: 0.2799\n",
      "Train Step:  21\n",
      "Loss: 0.3813\n",
      "Train Step:  22\n",
      "Loss: 0.3603\n",
      "Train Step:  23\n",
      "Loss: 0.3530\n",
      "Train Step:  24\n",
      "Loss: 0.3405\n",
      "Train Step:  25\n",
      "Loss: 0.3286\n",
      "Train Step:  26\n",
      "Loss: 0.3165\n",
      "Train Step:  27\n",
      "Loss: 0.3025\n",
      "Train Step:  28\n",
      "Loss: 0.2998\n",
      "Train Step:  29\n",
      "Loss: 0.2871\n",
      "Train Step:  30\n",
      "Loss: 0.2847\n",
      "Validation Step:  30\n"
     ]
    },
    {
     "data": {
      "application/vnd.jupyter.widget-view+json": {
       "model_id": "5c946fb8643544bab4cc3ddb91f5a537",
       "version_major": 2,
       "version_minor": 0
      },
      "text/plain": [
       "  0%|          | 0/11 [00:00<?, ?it/s]"
      ]
     },
     "metadata": {},
     "output_type": "display_data"
    },
    {
     "name": "stdout",
     "output_type": "stream",
     "text": [
      "Test loss: 0.2193\n",
      "Train Step:  31\n",
      "Loss: 0.2764\n",
      "Train Step:  32\n",
      "Loss: 0.2640\n",
      "Train Step:  33\n",
      "Loss: 0.2590\n",
      "Train Step:  34\n",
      "Loss: 0.2590\n",
      "Train Step:  35\n",
      "Loss: 0.2520\n",
      "Train Step:  36\n",
      "Loss: 0.2475\n",
      "Train Step:  37\n",
      "Loss: 0.2399\n",
      "Train Step:  38\n",
      "Loss: 0.2480\n",
      "Train Step:  39\n",
      "Loss: 0.2434\n",
      "Train Step:  40\n",
      "Loss: 0.2374\n",
      "Validation Step:  40\n"
     ]
    },
    {
     "data": {
      "application/vnd.jupyter.widget-view+json": {
       "model_id": "804bd0c2f8b74535abdd9475b4d8fb07",
       "version_major": 2,
       "version_minor": 0
      },
      "text/plain": [
       "  0%|          | 0/11 [00:00<?, ?it/s]"
      ]
     },
     "metadata": {},
     "output_type": "display_data"
    },
    {
     "name": "stdout",
     "output_type": "stream",
     "text": [
      "Test loss: 0.1935\n",
      "Train Step:  41\n",
      "Loss: 0.2279\n",
      "Train Step:  42\n",
      "Loss: 0.2259\n",
      "Train Step:  43\n",
      "Loss: 0.2301\n",
      "Train Step:  44\n",
      "Loss: 0.2186\n",
      "Train Step:  45\n",
      "Loss: 0.2197\n",
      "Train Step:  46\n",
      "Loss: 0.2181\n",
      "Train Step:  47\n",
      "Loss: 0.2122\n",
      "Train Step:  48\n",
      "Loss: 0.2114\n",
      "Train Step:  49\n",
      "Loss: 0.2106\n",
      "Validation Step:  49\n"
     ]
    },
    {
     "data": {
      "application/vnd.jupyter.widget-view+json": {
       "model_id": "29b081fdcc84493d8a2214e206d6efed",
       "version_major": 2,
       "version_minor": 0
      },
      "text/plain": [
       "  0%|          | 0/11 [00:00<?, ?it/s]"
      ]
     },
     "metadata": {},
     "output_type": "display_data"
    },
    {
     "name": "stdout",
     "output_type": "stream",
     "text": [
      "Test loss: 0.1843\n",
      "\n",
      "Running MC Dropout on Novel Data....\n",
      "\n"
     ]
    },
    {
     "data": {
      "application/vnd.jupyter.widget-view+json": {
       "model_id": "876f5b9c7670466aac08d2f01b85a9ba",
       "version_major": 2,
       "version_minor": 0
      },
      "text/plain": [
       "  0%|          | 0/15 [00:00<?, ?it/s]"
      ]
     },
     "metadata": {},
     "output_type": "display_data"
    },
    {
     "name": "stdout",
     "output_type": "stream",
     "text": [
      "\n",
      "Number of points passed for MC dropout: 2368\n",
      "\n",
      "Running MC Dropout on Training Data....\n",
      "\n"
     ]
    },
    {
     "data": {
      "application/vnd.jupyter.widget-view+json": {
       "model_id": "e30d799a1201495882022a5c3e62530c",
       "version_major": 2,
       "version_minor": 0
      },
      "text/plain": [
       "  0%|          | 0/15 [00:00<?, ?it/s]"
      ]
     },
     "metadata": {},
     "output_type": "display_data"
    }
   ],
   "source": [
    "init_epoch = 25\n",
    "iterations = 4\n",
    "train_losses = []\n",
    "test_losses = []\n",
    "for i in range(iterations):\n",
    "    print(f\"\\nIteration: {i}\\n\")\n",
    "    valid_sample = valid_dataset.sample(10_000)\n",
    "\n",
    "    # remove the sampled data points from the dataset\n",
    "    valid_dataset.remove(valid_sample.data.index)\n",
    "\n",
    "    select_unstable_data(valid_sample, batch_size=100, classifier=models[\"ITG_class\"])\n",
    "\n",
    "    uncertain_datset, uncert_before, data_idx = regressor_uncertainty(\n",
    "    valid_sample, models[\"ITG_reg\"], n_runs=15, keep=0.25,valid_dataset=valid_dataset\n",
    ")\n",
    "    train_sample_origin, train_uncert_before, train_uncert_idx = regressor_uncertainty(\n",
    "        train_sample, models[\"ITG_reg\"], n_runs=15,train_data=True,\n",
    "        )\n",
    "\n",
    "    train_sample.add(uncertain_datset)\n",
    "\n",
    "    uncertain_loader = DataLoader(train_sample, batch_size=len(train_sample), shuffle=True)\n",
    "\n",
    "    prediction_before, prediction_idx_order = models[\"ITG_reg\"].predict(uncertain_loader)\n",
    "\n",
    "    # Switching validation dataset to numpy arrays to see if it is quicker\n",
    "    x_array = valid_dataset.data[train_keys].values\n",
    "    y_array = valid_dataset.data[\"itg\"].values\n",
    "    z_array = valid_dataset.data[\"efiitg_gb\"].values\n",
    "    dataset_numpy = ITGDataset(x_array, y_array, z_array)\n",
    "    valid_loader = DataLoader(\n",
    "        dataset_numpy, batch_size=int(0.1 * len(y_array)), shuffle=True\n",
    "    )\n",
    "\n",
    "    # Retrain Regressor (Further research required)\n",
    "    epochs = init_epoch * (i+1)\n",
    "    train_loss, test_loss = retrain_regressor(\n",
    "        uncertain_loader,\n",
    "        valid_loader,\n",
    "        models[\"ITG_reg\"],\n",
    "        learning_rate=1e-3,\n",
    "        epochs=epochs,\n",
    "        validation_step=True,\n",
    "        lam = 0.6\n",
    "    )\n",
    "\n",
    "    train_losses.append(train_loss)\n",
    "    test_losses.append(test_loss)\n",
    "\n",
    "    prediction_after,_ = models[\"ITG_reg\"].predict(uncertain_loader, prediction_idx_order)\n",
    "\n",
    "    _, uncert_after,_ = regressor_uncertainty(valid_sample, models[\"ITG_reg\"], n_runs=15, keep=0.25, order_idx=data_idx)\n",
    "    _, train_uncert_after,_ = regressor_uncertainty(train_sample_origin, models[\"ITG_reg\"], n_runs=15,order_idx=train_uncert_idx, train_data=True)\n",
    "   \n",
    "    print(\"\\nNovel Data Uncertainty changes...\\n\")\n",
    "    uncertainty_change(x=uncert_before, y=uncert_after);\n",
    "\n",
    "    print(\"\\nTraining Data Uncertainty changes...\\n\")\n",
    "    uncertainty_change(x=train_uncert_before, y=train_uncert_after);\n",
    "    \n",
    "    mse_change(prediction_before, prediction_after,prediction_idx_order,data_idx, uncertain_loader,[uncert_before, uncert_after])\n",
    "\n",
    "    mse_change(\n",
    "    prediction_before,\n",
    "    prediction_after,\n",
    "    prediction_idx_order,\n",
    "    train_uncert_idx,\n",
    "    uncertain_loader,\n",
    "    uncertainties=[train_uncert_before, train_uncert_after],\n",
    "    data=\"train\"\n",
    "     )"
   ]
  },
  {
   "cell_type": "code",
   "execution_count": null,
   "metadata": {},
   "outputs": [],
   "source": [
    "plt.figure()\n",
    "for i in range(len(train_losses)):\n",
    "    plt.scatter(np.arange(0,len(train_losses[i])), train_losses[i], label =f\"Iteration {i}\");\n",
    "    plt.legend()\n",
    "\n",
    "plt.xlabel(\"Epochs\")\n",
    "plt.ylabel(\"Training Loss\");\n",
    "plt.savefig(\"SP_training_loss.png\", dpi = 300)"
   ]
  },
  {
   "cell_type": "code",
   "execution_count": null,
   "metadata": {},
   "outputs": [],
   "source": [
    "plt.figure()\n",
    "for i in range(len(test_losses)):\n",
    "    plt.plot(np.arange(0,len(test_losses[i])), test_losses[i]);\n",
    "    plt.scatter(np.arange(0,len(test_losses[i])), test_losses[i], label = f\"Iteration {i}\");\n",
    "    \n",
    "plt.legend()\n",
    "plt.xlabel(\"Epochs\")\n",
    "plt.ylabel(\"Test Loss\");\n",
    "plt.savefig(\"SP_test_loss.png\", dpi = 300)"
   ]
  },
  {
   "cell_type": "code",
   "execution_count": null,
   "metadata": {},
   "outputs": [],
   "source": []
  }
 ],
 "metadata": {
  "interpreter": {
   "hash": "35c235ff99f8605ca4fe7a283017706943881a3c0b9b82454bde1f1c1c4aedb1"
  },
  "kernelspec": {
   "display_name": "Python 3 (ipykernel)",
   "language": "python",
   "name": "python3"
  },
  "language_info": {
   "codemirror_mode": {
    "name": "ipython",
    "version": 3
   },
   "file_extension": ".py",
   "mimetype": "text/x-python",
   "name": "python",
   "nbconvert_exporter": "python",
   "pygments_lexer": "ipython3",
   "version": "3.9.0"
  }
 },
 "nbformat": 4,
 "nbformat_minor": 2
}
