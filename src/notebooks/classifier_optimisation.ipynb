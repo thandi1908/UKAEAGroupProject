{
 "cells": [
  {
   "cell_type": "code",
   "execution_count": 1,
   "id": "570ee62d",
   "metadata": {},
   "outputs": [],
   "source": [
    "import numpy as np\n",
    "import pandas as pd \n",
    "import matplotlib.pyplot as plt\n",
    "import tensorflow as tf\n",
    "from sklearn.preprocessing import StandardScaler\n",
    "from sklearn.model_selection import train_test_split"
   ]
  },
  {
   "cell_type": "code",
   "execution_count": 2,
   "id": "58b1dfa5",
   "metadata": {},
   "outputs": [],
   "source": [
    "import pickle\n",
    "import sys\n",
    "import keras_tuner as kt"
   ]
  },
  {
   "cell_type": "markdown",
   "id": "836bccae",
   "metadata": {},
   "source": [
    "### Finding the best model architecture from the grid search"
   ]
  },
  {
   "cell_type": "code",
   "execution_count": 3,
   "id": "b928541f",
   "metadata": {},
   "outputs": [],
   "source": [
    "file_path = '/share/rcifdata/jbarr/UKAEAGroupProject/grid_search/'\n",
    "trainings = []\n",
    "for i in range(336):\n",
    "    trial_dict = pickle.load(open(file_path+\"trial_\"+str(i)+\".pkl\", 'rb'))\n",
    "    trainings.append(trial_dict)"
   ]
  },
  {
   "cell_type": "code",
   "execution_count": 4,
   "id": "2e731b88",
   "metadata": {},
   "outputs": [],
   "source": [
    "# Find the best architecture\n",
    "best_trial = None \n",
    "best_val_acc = - sys.float_info.max\n",
    "\n",
    "for trial in trainings:\n",
    "    val_acc = trial[\"perfomance\"][1]\n",
    "    \n",
    "    if val_acc > best_val_acc: \n",
    "        best_val_acc = val_acc\n",
    "        best_trial = trial"
   ]
  },
  {
   "cell_type": "code",
   "execution_count": 5,
   "id": "f18f23bf",
   "metadata": {},
   "outputs": [
    {
     "name": "stdout",
     "output_type": "stream",
     "text": [
      "Best Model\n",
      "\n",
      "Network: [30 30 30 30] \n",
      "\n",
      "Validation accuracy: 0.8433062434196472\n"
     ]
    }
   ],
   "source": [
    "print(\"Best Model\\n\")\n",
    "print(\"Network:\",best_trial[\"nodes\"],\"\\n\" )\n",
    "print(\"Validation accuracy:\", best_trial['perfomance'][1])"
   ]
  },
  {
   "cell_type": "code",
   "execution_count": 6,
   "id": "8d5c31db",
   "metadata": {},
   "outputs": [
    {
     "data": {
      "text/plain": [
       "Text(0, 0.5, 'Accuracy')"
      ]
     },
     "execution_count": 6,
     "metadata": {},
     "output_type": "execute_result"
    },
    {
     "data": {
      "image/png": "[encoded data removed]",
      "text/plain": [
       "<Figure size 432x288 with 1 Axes>"
      ]
     },
     "metadata": {
      "needs_background": "light"
     },
     "output_type": "display_data"
    }
   ],
   "source": [
    "plt.figure()\n",
    "plt.plot(best_trial[\"history\"][\"acc\"])\n",
    "plt.xlabel(\"Epochs\")\n",
    "plt.ylabel(\"Accuracy\")"
   ]
  },
  {
   "cell_type": "code",
   "execution_count": 7,
   "id": "c24fd763",
   "metadata": {},
   "outputs": [
    {
     "data": {
      "text/plain": [
       "Text(0, 0.5, 'MSE')"
      ]
     },
     "execution_count": 7,
     "metadata": {},
     "output_type": "execute_result"
    },
    {
     "data": {
      "image/png": "[encoded data removed]",
      "text/plain": [
       "<Figure size 432x288 with 1 Axes>"
      ]
     },
     "metadata": {
      "needs_background": "light"
     },
     "output_type": "display_data"
    }
   ],
   "source": [
    "plt.figure()\n",
    "plt.plot(best_trial[\"history\"][\"loss\"])\n",
    "plt.xlabel(\"Epochs\")\n",
    "plt.ylabel(\"MSE\")"
   ]
  },
  {
   "cell_type": "markdown",
   "id": "3e1475be",
   "metadata": {},
   "source": [
    "## Hyperparameter optimisation\n",
    "**Hyperparameters that can be optimised:**\n",
    "- Learning rate\n",
    "- Activation function\n",
    "- Batch size\n",
    "- "
   ]
  },
  {
   "cell_type": "code",
   "execution_count": 8,
   "id": "767b8f96",
   "metadata": {},
   "outputs": [],
   "source": [
    "train_data = pd.read_pickle(\"/share/rcifdata/jbarr/UKAEAGroupProject/data/train_data.pkl\")\n",
    "\n",
    "X_train, Y_train = train_data.iloc[:,:-1].to_numpy(), train_data.iloc[:,-1].to_numpy()\n",
    "\n",
    "validation_data = pd.read_pickle(\"/share/rcifdata/jbarr/UKAEAGroupProject/data/validation_data.pkl\")\n",
    "\n",
    "X_val, Y_val = validation_data.iloc[:,:-1].to_numpy(), validation_data.iloc[:,-1].to_numpy()"
   ]
  },
  {
   "cell_type": "code",
   "execution_count": 9,
   "id": "b3b64f3a",
   "metadata": {},
   "outputs": [],
   "source": [
    "# standard scaler\n",
    "scaler = StandardScaler()\n",
    "scaler.fit(X_train)\n",
    "x_train = scaler.transform(X_train)\n",
    "x_val = scaler.transform (X_val)"
   ]
  },
  {
   "cell_type": "code",
   "execution_count": 10,
   "id": "1c7072b5",
   "metadata": {},
   "outputs": [],
   "source": [
    "def model_builder(hp): \n",
    "    model = tf.keras.Sequential()\n",
    "    hp_learning_rate = hp.Choice('learning_rate', values=[1e-2, 1e-3, 1e-4])\n",
    "    hp_act = hp.Choice('activation', values = ['relu','tanh', 'elu', 'gelu', 'swish'])\n",
    "    \n",
    "    model.add(tf.keras.layers.Dense(30, activation=hp_act)),\n",
    "    model.add(tf.keras.layers.Dense(30, activation=hp_act)),\n",
    "    model.add(tf.keras.layers.Dense(30, activation=hp_act)), \n",
    "    model.add(tf.keras.layers.Dense(30, activation=hp_act)), \n",
    "    model.add(tf.keras.layers.Dense(1, activation = 'sigmoid'))\n",
    "    \n",
    "    model.compile(optimizer=tf.keras.optimizers.Adam(learning_rate=hp_learning_rate),\n",
    "                loss='binary_crossentropy', metrics=['accuracy'])\n",
    "    \n",
    "    return model"
   ]
  },
  {
   "cell_type": "code",
   "execution_count": 11,
   "id": "fd4d4665",
   "metadata": {},
   "outputs": [
    {
     "name": "stderr",
     "output_type": "stream",
     "text": [
      "2022-02-01 10:47:14.986643: I tensorflow/compiler/jit/xla_cpu_device.cc:41] Not creating XLA devices, tf_xla_enable_xla_devices not set\n",
      "2022-02-01 10:47:14.987180: I tensorflow/core/platform/cpu_feature_guard.cc:142] This TensorFlow binary is optimized with oneAPI Deep Neural Network Library (oneDNN) to use the following CPU instructions in performance-critical operations:  SSE4.1 SSE4.2 AVX AVX2 AVX512F FMA\n",
      "To enable them in other operations, rebuild TensorFlow with the appropriate compiler flags.\n",
      "2022-02-01 10:47:14.990080: I tensorflow/core/common_runtime/process_util.cc:146] Creating new thread pool with default inter op setting: 2. Tune using inter_op_parallelism_threads for best performance.\n"
     ]
    }
   ],
   "source": [
    "tuner = kt.Hyperband(model_builder,\n",
    "                     objective='val_accuracy',\n",
    "                     max_epochs=10,\n",
    "                     factor=3,\n",
    "                     directory='./',\n",
    "                     project_name='class_hyperband')"
   ]
  },
  {
   "cell_type": "code",
   "execution_count": 12,
   "id": "4f4a1bef",
   "metadata": {},
   "outputs": [],
   "source": [
    "stop_early = tf.keras.callbacks.EarlyStopping(monitor='loss', patience=5)"
   ]
  },
  {
   "cell_type": "code",
   "execution_count": 13,
   "id": "eff13b94",
   "metadata": {},
   "outputs": [
    {
     "name": "stdout",
     "output_type": "stream",
     "text": [
      "Trial 20 Complete [00h 04m 04s]\n",
      "val_accuracy: 0.8327795267105103\n",
      "\n",
      "Best val_accuracy So Far: 0.8417887687683105\n",
      "Total elapsed time: 01h 09m 35s\n",
      "INFO:tensorflow:Oracle triggered exit\n"
     ]
    }
   ],
   "source": [
    "tuner.search(x_train, Y_train, epochs=50, validation_split=0.2,batch_size = 4096, callbacks=[stop_early])"
   ]
  },
  {
   "cell_type": "code",
   "execution_count": 16,
   "id": "5043e01a",
   "metadata": {},
   "outputs": [
    {
     "name": "stdout",
     "output_type": "stream",
     "text": [
      "Epoch 1/50\n",
      "5218/5218 [==============================] - 127s 24ms/step - loss: 0.3794 - accuracy: 0.8127 - val_loss: 0.3367 - val_accuracy: 0.8384\n",
      "Epoch 2/50\n",
      "5218/5218 [==============================] - 121s 23ms/step - loss: 0.3372 - accuracy: 0.8377 - val_loss: 0.3339 - val_accuracy: 0.8393\n",
      "Epoch 3/50\n",
      "5218/5218 [==============================] - 127s 24ms/step - loss: 0.3323 - accuracy: 0.8405 - val_loss: 0.3306 - val_accuracy: 0.8414\n",
      "Epoch 4/50\n",
      "5218/5218 [==============================] - 124s 24ms/step - loss: 0.3300 - accuracy: 0.8418 - val_loss: 0.3302 - val_accuracy: 0.8418\n",
      "Epoch 5/50\n",
      "5218/5218 [==============================] - 123s 24ms/step - loss: 0.3287 - accuracy: 0.8424 - val_loss: 0.3271 - val_accuracy: 0.8435\n",
      "Epoch 6/50\n",
      "5218/5218 [==============================] - 123s 24ms/step - loss: 0.3274 - accuracy: 0.8430 - val_loss: 0.3267 - val_accuracy: 0.8436\n",
      "Epoch 7/50\n",
      "5218/5218 [==============================] - 162s 31ms/step - loss: 0.3266 - accuracy: 0.8436 - val_loss: 0.3273 - val_accuracy: 0.8432\n",
      "Epoch 8/50\n",
      "5218/5218 [==============================] - 134s 26ms/step - loss: 0.3264 - accuracy: 0.8437 - val_loss: 0.3258 - val_accuracy: 0.8440\n",
      "Epoch 9/50\n",
      "5218/5218 [==============================] - 122s 23ms/step - loss: 0.3261 - accuracy: 0.8437 - val_loss: 0.3255 - val_accuracy: 0.8441\n",
      "Epoch 10/50\n",
      "5218/5218 [==============================] - 122s 23ms/step - loss: 0.3256 - accuracy: 0.8440 - val_loss: 0.3245 - val_accuracy: 0.8446\n",
      "Epoch 11/50\n",
      "5218/5218 [==============================] - 122s 23ms/step - loss: 0.3256 - accuracy: 0.8441 - val_loss: 0.3243 - val_accuracy: 0.8451\n",
      "Epoch 12/50\n",
      "5218/5218 [==============================] - 122s 23ms/step - loss: 0.3251 - accuracy: 0.8443 - val_loss: 0.3253 - val_accuracy: 0.8443\n",
      "Epoch 13/50\n",
      "5218/5218 [==============================] - 122s 23ms/step - loss: 0.3252 - accuracy: 0.8443 - val_loss: 0.3239 - val_accuracy: 0.8448\n",
      "Epoch 14/50\n",
      "5218/5218 [==============================] - 122s 23ms/step - loss: 0.3246 - accuracy: 0.8447 - val_loss: 0.3247 - val_accuracy: 0.8445\n",
      "Epoch 15/50\n",
      "5218/5218 [==============================] - 122s 23ms/step - loss: 0.3249 - accuracy: 0.8444 - val_loss: 0.3232 - val_accuracy: 0.8455\n",
      "Epoch 16/50\n",
      "5218/5218 [==============================] - 157s 30ms/step - loss: 0.3244 - accuracy: 0.8448 - val_loss: 0.3252 - val_accuracy: 0.8443\n",
      "Epoch 17/50\n",
      "5218/5218 [==============================] - 285s 55ms/step - loss: 0.3244 - accuracy: 0.8447 - val_loss: 0.3254 - val_accuracy: 0.8444\n",
      "Epoch 18/50\n",
      "5218/5218 [==============================] - 286s 55ms/step - loss: 0.3244 - accuracy: 0.8447 - val_loss: 0.3241 - val_accuracy: 0.8449\n",
      "Epoch 19/50\n",
      "5218/5218 [==============================] - 287s 55ms/step - loss: 0.3243 - accuracy: 0.8448 - val_loss: 0.3245 - val_accuracy: 0.8448\n",
      "Epoch 20/50\n",
      "5218/5218 [==============================] - 285s 55ms/step - loss: 0.3242 - accuracy: 0.8449 - val_loss: 0.3230 - val_accuracy: 0.8457\n",
      "Epoch 21/50\n",
      "5218/5218 [==============================] - 285s 55ms/step - loss: 0.3241 - accuracy: 0.8450 - val_loss: 0.3227 - val_accuracy: 0.8463\n",
      "Epoch 22/50\n",
      "5218/5218 [==============================] - 287s 55ms/step - loss: 0.3238 - accuracy: 0.8452 - val_loss: 0.3239 - val_accuracy: 0.8456\n",
      "Epoch 23/50\n",
      "5218/5218 [==============================] - 287s 55ms/step - loss: 0.3240 - accuracy: 0.8451 - val_loss: 0.3230 - val_accuracy: 0.8457\n",
      "Epoch 24/50\n",
      "5218/5218 [==============================] - 286s 55ms/step - loss: 0.3241 - accuracy: 0.8450 - val_loss: 0.3255 - val_accuracy: 0.8441\n",
      "Epoch 25/50\n",
      "5218/5218 [==============================] - 289s 55ms/step - loss: 0.3238 - accuracy: 0.8451 - val_loss: 0.3239 - val_accuracy: 0.8455\n",
      "Epoch 26/50\n",
      "5218/5218 [==============================] - 290s 56ms/step - loss: 0.3240 - accuracy: 0.8450 - val_loss: 0.3250 - val_accuracy: 0.8446\n"
     ]
    }
   ],
   "source": [
    "best_hps=tuner.get_best_hyperparameters(num_trials=1)[0]\n",
    "model = tuner.hypermodel.build(best_hps)\n",
    "stop_early = tf.keras.callbacks.EarlyStopping(monitor='val_accuracy', patience=5)\n",
    "history = model.fit(x_train, Y_train, epochs=50, validation_split=0.2, batch_size = 4096, callbacks=[stop_early])"
   ]
  },
  {
   "cell_type": "code",
   "execution_count": null,
   "id": "8596fd4c",
   "metadata": {},
   "outputs": [],
   "source": []
  },
  {
   "cell_type": "code",
   "execution_count": null,
   "id": "f9933ae0",
   "metadata": {},
   "outputs": [],
   "source": []
  }
 ],
 "metadata": {
  "kernelspec": {
   "display_name": "Python 3 (ipykernel)",
   "language": "python",
   "name": "python3"
  },
  "language_info": {
   "codemirror_mode": {
    "name": "ipython",
    "version": 3
   },
   "file_extension": ".py",
   "mimetype": "text/x-python",
   "name": "python",
   "nbconvert_exporter": "python",
   "pygments_lexer": "ipython3",
   "version": "3.9.7"
  }
 },
 "nbformat": 4,
 "nbformat_minor": 5
}
