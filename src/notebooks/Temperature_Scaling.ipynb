{
 "cells": [
  {
   "cell_type": "code",
   "execution_count": 1,
   "id": "8efdece9",
   "metadata": {},
   "outputs": [],
   "source": [
    "import pandas as pd\n",
    "import numpy as np\n",
    "import torch.nn as nn\n",
    "import torch.optim as optim\n",
    "import torch\n",
    "\n",
    "from torch.utils.data import Dataset\n",
    "from torch.utils.data import DataLoader\n",
    "from sklearn.preprocessing import StandardScaler\n",
    "import matplotlib.pyplot as plt\n",
    "\n",
    "from tqdm.auto import tqdm"
   ]
  },
  {
   "cell_type": "code",
   "execution_count": 2,
   "id": "9cb7d0c4",
   "metadata": {},
   "outputs": [
    {
     "name": "stdout",
     "output_type": "stream",
     "text": [
      "GPU device: 0\n"
     ]
    }
   ],
   "source": [
    "# do we have a gpu \n",
    "gpu = torch.cuda.is_available()\n",
    "\n",
    "if gpu:\n",
    "    device = torch.cuda.current_device()\n",
    "    print(f'GPU device: {device}')\n",
    "else: \n",
    "    print('No GPU')"
   ]
  },
  {
   "cell_type": "markdown",
   "id": "31159916",
   "metadata": {},
   "source": [
    "### Data Preparation"
   ]
  },
  {
   "cell_type": "code",
   "execution_count": 3,
   "id": "2a512939",
   "metadata": {},
   "outputs": [],
   "source": [
    "train_data = pd.read_pickle(\"/share/rcifdata/jbarr/UKAEAGroupProject/data/train_data_clipped.pkl\")\n",
    "\n",
    "validation_data = pd.read_pickle(\"/share/rcifdata/jbarr/UKAEAGroupProject/data/valid_data_clipped.pkl\")"
   ]
  },
  {
   "cell_type": "code",
   "execution_count": 4,
   "id": "9aefab96",
   "metadata": {},
   "outputs": [],
   "source": [
    "train_keys = [\n",
    "    \"ane\",\n",
    "    \"ate\",\n",
    "    \"autor\",\n",
    "    \"machtor\",\n",
    "    \"x\",\n",
    "    \"zeff\",\n",
    "    \"gammae\",\n",
    "    \"q\",\n",
    "    \"smag\",\n",
    "    \"alpha\",\n",
    "    \"ani1\",\n",
    "    \"ati0\",\n",
    "    \"normni1\",\n",
    "    \"ti_te0\",\n",
    "    \"lognustar\",\n",
    "]\n",
    "\n",
    "target_keys = ['target']"
   ]
  },
  {
   "cell_type": "code",
   "execution_count": 5,
   "id": "8e9f0c8d",
   "metadata": {},
   "outputs": [],
   "source": [
    "x_train, y_train = train_data[train_keys].to_numpy(), train_data[target_keys].to_numpy()\n",
    "\n",
    "x_val, y_val = validation_data[train_keys].to_numpy(), validation_data[target_keys].to_numpy()"
   ]
  },
  {
   "cell_type": "code",
   "execution_count": 6,
   "id": "e763d024",
   "metadata": {},
   "outputs": [],
   "source": [
    "# standard scaler\n",
    "scaler = StandardScaler()\n",
    "scaler.fit(x_train)\n",
    "x_train = scaler.transform(x_train)\n",
    "x_val = scaler.transform (x_val)"
   ]
  },
  {
   "cell_type": "markdown",
   "id": "89d67ecd",
   "metadata": {},
   "source": [
    "### Classifier functions"
   ]
  },
  {
   "cell_type": "code",
   "execution_count": 7,
   "id": "22473211",
   "metadata": {},
   "outputs": [],
   "source": [
    "class Classifier(nn.Module):\n",
    "    def __init__(self, inshape): \n",
    "        super().__init__()\n",
    "        self.model = nn.Sequential(\n",
    "            nn.Linear(inshape, 30), \n",
    "            nn.ReLU(),\n",
    "            nn.Dropout(p=0.1),\n",
    "            nn.Linear(30, 30), \n",
    "            nn.ReLU(),\n",
    "            nn.Dropout(p=0.1),\n",
    "            nn.Linear(30,30),\n",
    "            nn.ReLU(),\n",
    "            nn.Dropout(p=0.1), \n",
    "            nn.Linear(30,1)\n",
    "        )\n",
    "        \n",
    "    def forward(self, x): \n",
    "        output = self.model(x)\n",
    "        \n",
    "        return output"
   ]
  },
  {
   "cell_type": "code",
   "execution_count": 8,
   "id": "6b759299",
   "metadata": {},
   "outputs": [],
   "source": [
    "class ClassifierData(Dataset): \n",
    "    def __init__(self, x, y): \n",
    "        self.x = x \n",
    "        self.y = y\n",
    "        \n",
    "    def __len__(self):\n",
    "        return self.x.shape[0]\n",
    "    \n",
    "    def __getitem__(self, idx):\n",
    "        return self.x[idx], self.y[idx]"
   ]
  },
  {
   "cell_type": "code",
   "execution_count": 9,
   "id": "6708d577",
   "metadata": {},
   "outputs": [],
   "source": [
    "train_set = ClassifierData(x_train, y_train)\n",
    "valid_set = ClassifierData(x_val, y_val)\n",
    "train_loader = DataLoader(train_set, batch_size = 1024, shuffle = True)\n",
    "val_loader = DataLoader(valid_set, batch_size = 1024, shuffle = True)"
   ]
  },
  {
   "cell_type": "code",
   "execution_count": 14,
   "id": "b2e6b34b",
   "metadata": {},
   "outputs": [],
   "source": [
    "def train_loop(model, optimiser, epochs, traindata, validdata=None): \n",
    "    history = {'epoch_loss': [], 'epoch_val_loss': []}\n",
    "    \n",
    "    for epoch in tqdm(range(epochs), desc = 'Epochs'):\n",
    "        \n",
    "        running_loss = []\n",
    "        \n",
    "        for i, data in enumerate(tqdm(traindata, 0)): \n",
    "            x, y = data\n",
    "            x, y = x.to(device), y.to(device)\n",
    "            \n",
    "            \n",
    "            # zero the parameter gradients\n",
    "            optimiser.zero_grad()\n",
    "\n",
    "            #forward + backward + optimize\n",
    "            y_hat = model(x.float())\n",
    "            activation = nn.Sigmoid()\n",
    "            BCE = nn.BCELoss()\n",
    "            loss = BCE(activation(y_hat.float()), y.float())\n",
    "            loss.backward()\n",
    "            optimiser.step()\n",
    "            \n",
    "            # print statistics\n",
    "            running_loss.append(loss.item())\n",
    "            if i % 1000 == 0:    # print every 2000 mini-batches\n",
    "                print(f'[{epoch + 1}, {i + 1:5d}] loss: {np.mean(running_loss) :.6f}')\n",
    "        \n",
    "        history['epoch_loss'].append(np.mean(running_loss))\n",
    "    return history"
   ]
  },
  {
   "cell_type": "code",
   "execution_count": 15,
   "id": "6b65e113",
   "metadata": {},
   "outputs": [],
   "source": [
    "classifier = Classifier(x_train.shape[1]).to(device)"
   ]
  },
  {
   "cell_type": "code",
   "execution_count": 16,
   "id": "8aa31999",
   "metadata": {},
   "outputs": [],
   "source": [
    "optimiser = optim.Adam(classifier.parameters(), lr=0.001)"
   ]
  },
  {
   "cell_type": "code",
   "execution_count": 17,
   "id": "195cd76c",
   "metadata": {},
   "outputs": [
    {
     "data": {
      "application/vnd.jupyter.widget-view+json": {
       "model_id": "7078bcc09e154a2d81c152f08f908117",
       "version_major": 2,
       "version_minor": 0
      },
      "text/plain": [
       "Epochs:   0%|          | 0/1 [00:00<?, ?it/s]"
      ]
     },
     "metadata": {},
     "output_type": "display_data"
    },
    {
     "data": {
      "application/vnd.jupyter.widget-view+json": {
       "model_id": "adbbf52cd681451cbd2e70e12005e265",
       "version_major": 2,
       "version_minor": 0
      },
      "text/plain": [
       "  0%|          | 0/26090 [00:00<?, ?it/s]"
      ]
     },
     "metadata": {},
     "output_type": "display_data"
    },
    {
     "name": "stdout",
     "output_type": "stream",
     "text": [
      "[1,     1] loss: 0.681695\n",
      "[1,  1001] loss: 0.523398\n",
      "[1,  2001] loss: 0.486126\n",
      "[1,  3001] loss: 0.463563\n",
      "[1,  4001] loss: 0.449449\n",
      "[1,  5001] loss: 0.439585\n",
      "[1,  6001] loss: 0.432564\n",
      "[1,  7001] loss: 0.427136\n",
      "[1,  8001] loss: 0.422867\n",
      "[1,  9001] loss: 0.419337\n",
      "[1, 10001] loss: 0.416431\n",
      "[1, 11001] loss: 0.413883\n",
      "[1, 12001] loss: 0.411775\n",
      "[1, 13001] loss: 0.409767\n",
      "[1, 14001] loss: 0.408025\n",
      "[1, 15001] loss: 0.406469\n",
      "[1, 16001] loss: 0.405021\n",
      "[1, 17001] loss: 0.403768\n",
      "[1, 18001] loss: 0.402634\n",
      "[1, 19001] loss: 0.401516\n",
      "[1, 20001] loss: 0.400547\n",
      "[1, 21001] loss: 0.399670\n",
      "[1, 22001] loss: 0.398846\n",
      "[1, 23001] loss: 0.398085\n",
      "[1, 24001] loss: 0.397356\n",
      "[1, 25001] loss: 0.396695\n",
      "[1, 26001] loss: 0.396030\n"
     ]
    }
   ],
   "source": [
    "his = train_loop(model=classifier, optimiser=optimiser, epochs=1, traindata=train_loader)"
   ]
  },
  {
   "cell_type": "code",
   "execution_count": 18,
   "id": "a9099aad",
   "metadata": {},
   "outputs": [],
   "source": [
    "t_vals = []"
   ]
  },
  {
   "cell_type": "code",
   "execution_count": 19,
   "id": "e780ba49",
   "metadata": {},
   "outputs": [],
   "source": [
    "def T_scaling(logits, temperature):\n",
    "    t_vals.append(temperature.item())\n",
    "    output = torch.div(logits, temperature)\n",
    "    activation = nn.Sigmoid()\n",
    "    return activation(output)"
   ]
  },
  {
   "cell_type": "code",
   "execution_count": 20,
   "id": "71665c2a",
   "metadata": {},
   "outputs": [
    {
     "data": {
      "application/vnd.jupyter.widget-view+json": {
       "model_id": "a78d80914ef045cb914087c1f70efc86",
       "version_major": 2,
       "version_minor": 0
      },
      "text/plain": [
       "  0%|          | 0/3262 [00:00<?, ?it/s]"
      ]
     },
     "metadata": {},
     "output_type": "display_data"
    },
    {
     "data": {
      "text/plain": [
       "tensor(0.3808, device='cuda:0', grad_fn=<BinaryCrossEntropyBackward0>)"
      ]
     },
     "execution_count": 20,
     "metadata": {},
     "output_type": "execute_result"
    }
   ],
   "source": [
    "temp = nn.Parameter((1.5*torch.ones(1)).cuda())\n",
    "criterion = nn.BCELoss()\n",
    "# optimizer = optim.LBFGS([temp], lr=0.01, max_iter=50, line_search_fn='strong_wolfe')\n",
    "optimizer = optim.LBFGS([temp], lr=0.01, max_iter=100, line_search_fn='strong_wolfe')\n",
    "logits_list = []\n",
    "labels_list = []\n",
    "\n",
    "for i, data in enumerate(tqdm(val_loader, 0)):\n",
    "    x, y = data[0].to(device), data[1].to(device)\n",
    "    \n",
    "    classifier.eval()\n",
    "    with torch.no_grad():\n",
    "        logits_list.append(classifier(x.float()))\n",
    "        labels_list.append(y.float())\n",
    "\n",
    "# Create tensors\n",
    "logits_list = torch.cat(logits_list).to(device)\n",
    "labels_list = torch.cat(labels_list).to(device)\n",
    "\n",
    "def _eval():\n",
    "    loss = criterion(T_scaling(logits_list, temp), labels_list)\n",
    "    loss.backward()\n",
    "    return loss\n",
    "\n",
    "optimizer.step(_eval)"
   ]
  },
  {
   "cell_type": "code",
   "execution_count": 24,
   "id": "f64e8453",
   "metadata": {},
   "outputs": [
    {
     "data": {
      "image/png": "[encoded data removed]",
      "text/plain": [
       "<Figure size 432x288 with 1 Axes>"
      ]
     },
     "metadata": {
      "needs_background": "light"
     },
     "output_type": "display_data"
    }
   ],
   "source": [
    "plt.figure()\n",
    "plt.plot(t_vals)\n",
    "plt.xlabel('Iteration')\n",
    "plt.ylabel('Temperature (T)');"
   ]
  },
  {
   "cell_type": "code",
   "execution_count": null,
   "id": "712179eb",
   "metadata": {},
   "outputs": [],
   "source": []
  }
 ],
 "metadata": {
  "kernelspec": {
   "display_name": "Python 3 (ipykernel)",
   "language": "python",
   "name": "python3"
  },
  "language_info": {
   "codemirror_mode": {
    "name": "ipython",
    "version": 3
   },
   "file_extension": ".py",
   "mimetype": "text/x-python",
   "name": "python",
   "nbconvert_exporter": "python",
   "pygments_lexer": "ipython3",
   "version": "3.9.0"
  }
 },
 "nbformat": 4,
 "nbformat_minor": 5
}
