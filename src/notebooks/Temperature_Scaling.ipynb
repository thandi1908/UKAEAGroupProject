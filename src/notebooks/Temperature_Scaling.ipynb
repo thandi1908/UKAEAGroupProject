{
 "cells": [
  {
   "cell_type": "code",
   "execution_count": 154,
   "id": "8efdece9",
   "metadata": {},
   "outputs": [],
   "source": [
    "import pandas as pd\n",
    "import numpy as np\n",
    "import torch.nn as nn\n",
    "import torch.optim as optim\n",
    "import torch\n",
    "\n",
    "from torch.utils.data import Dataset\n",
    "from torch.utils.data import DataLoader\n",
    "from sklearn.preprocessing import StandardScaler\n",
    "import matplotlib.pyplot as plt\n",
    "\n",
    "from sklearn.metrics import confusion_matrix\n",
    "from tqdm.auto import tqdm"
   ]
  },
  {
   "cell_type": "code",
   "execution_count": 2,
   "id": "9cb7d0c4",
   "metadata": {},
   "outputs": [
    {
     "name": "stdout",
     "output_type": "stream",
     "text": [
      "GPU device: 0\n"
     ]
    }
   ],
   "source": [
    "# do we have a gpu \n",
    "gpu = torch.cuda.is_available()\n",
    "\n",
    "if gpu:\n",
    "    device = torch.cuda.current_device()\n",
    "    print(f'GPU device: {device}')\n",
    "else: \n",
    "    print('No GPU')"
   ]
  },
  {
   "cell_type": "markdown",
   "id": "31159916",
   "metadata": {},
   "source": [
    "### Data Preparation"
   ]
  },
  {
   "cell_type": "code",
   "execution_count": 3,
   "id": "2a512939",
   "metadata": {},
   "outputs": [],
   "source": [
    "train_data = pd.read_pickle(\"/share/rcifdata/jbarr/UKAEAGroupProject/data/train_data_clipped.pkl\")\n",
    "train_data = train_data.sample(50_000)\n",
    "\n",
    "validation_data = pd.read_pickle(\"/share/rcifdata/jbarr/UKAEAGroupProject/data/valid_data_clipped.pkl\")\n",
    "validation_data = validation_data.sample(50_000)"
   ]
  },
  {
   "cell_type": "code",
   "execution_count": 4,
   "id": "9aefab96",
   "metadata": {},
   "outputs": [],
   "source": [
    "train_keys = [\n",
    "    \"ane\",\n",
    "    \"ate\",\n",
    "    \"autor\",\n",
    "    \"machtor\",\n",
    "    \"x\",\n",
    "    \"zeff\",\n",
    "    \"gammae\",\n",
    "    \"q\",\n",
    "    \"smag\",\n",
    "    \"alpha\",\n",
    "    \"ani1\",\n",
    "    \"ati0\",\n",
    "    \"normni1\",\n",
    "    \"ti_te0\",\n",
    "    \"lognustar\",\n",
    "]\n",
    "\n",
    "target_keys = ['target']"
   ]
  },
  {
   "cell_type": "code",
   "execution_count": 5,
   "id": "8e9f0c8d",
   "metadata": {},
   "outputs": [],
   "source": [
    "x_train, y_train = train_data[train_keys].to_numpy(), train_data[target_keys].to_numpy()\n",
    "\n",
    "x_val, y_val = validation_data[train_keys].to_numpy(), validation_data[target_keys].to_numpy()"
   ]
  },
  {
   "cell_type": "code",
   "execution_count": 6,
   "id": "e763d024",
   "metadata": {},
   "outputs": [],
   "source": [
    "# standard scaler\n",
    "scaler = StandardScaler()\n",
    "scaler.fit(x_train)\n",
    "x_train = scaler.transform(x_train)\n",
    "x_val = scaler.transform (x_val)"
   ]
  },
  {
   "cell_type": "markdown",
   "id": "89d67ecd",
   "metadata": {},
   "source": [
    "### Classifier functions"
   ]
  },
  {
   "cell_type": "code",
   "execution_count": 197,
   "id": "22473211",
   "metadata": {},
   "outputs": [],
   "source": [
    "class Classifier(nn.Module):\n",
    "    def __init__(self, inshape): \n",
    "        super().__init__()\n",
    "        self.model = nn.Sequential(\n",
    "            nn.Linear(inshape, 30), \n",
    "            nn.ReLU(),\n",
    "            nn.Dropout(p=0.1),\n",
    "            nn.Linear(30, 30), \n",
    "            nn.ReLU(),\n",
    "            nn.Dropout(p=0.1),\n",
    "            nn.Linear(30,30),\n",
    "            nn.ReLU(),\n",
    "            nn.Dropout(p=0.1), \n",
    "            nn.Linear(30,30),\n",
    "            nn.ReLU(),\n",
    "            nn.Dropout(p = 0.1),\n",
    "            nn.Linear(30,1)\n",
    "            #nn.Sigmoid()\n",
    "        )\n",
    "        \n",
    "    def forward(self, x): \n",
    "        output = self.model(x)\n",
    "        \n",
    "        return output"
   ]
  },
  {
   "cell_type": "code",
   "execution_count": 198,
   "id": "6b759299",
   "metadata": {},
   "outputs": [],
   "source": [
    "class ClassifierData(Dataset): \n",
    "    def __init__(self, x, y): \n",
    "        self.x = x \n",
    "        self.y = y\n",
    "        \n",
    "    def __len__(self):\n",
    "        return self.x.shape[0]\n",
    "    \n",
    "    def __getitem__(self, idx):\n",
    "        return self.x[idx], self.y[idx]"
   ]
  },
  {
   "cell_type": "code",
   "execution_count": 199,
   "id": "6708d577",
   "metadata": {},
   "outputs": [],
   "source": [
    "train_set = ClassifierData(x_train, y_train)\n",
    "valid_set = ClassifierData(x_val, y_val)\n",
    "train_loader = DataLoader(train_set, batch_size = 1024, shuffle = True)\n",
    "val_loader = DataLoader(valid_set, batch_size = 1024, shuffle = True)"
   ]
  },
  {
   "cell_type": "code",
   "execution_count": 200,
   "id": "b2e6b34b",
   "metadata": {},
   "outputs": [],
   "source": [
    "def train_loop(model, optimiser, epochs, traindata, validdata=None): \n",
    "    history = {'epoch_loss': [], 'epoch_val_loss': []}\n",
    "    \n",
    "    for epoch in tqdm(range(epochs), desc = 'Epochs'):\n",
    "        \n",
    "        running_loss = []\n",
    "        \n",
    "        for i, data in enumerate(tqdm(traindata, 0)): \n",
    "            x, y = data\n",
    "            x, y = x.to(device), y.to(device)\n",
    "            \n",
    "            \n",
    "            # zero the parameter gradients\n",
    "            optimiser.zero_grad()\n",
    "\n",
    "            #forward + backward + optimize\n",
    "            y_hat = model(x.float())\n",
    "            activation = nn.Sigmoid()\n",
    "            BCE = nn.BCELoss()\n",
    "            loss = BCE(activation(y_hat.float()), y.float())\n",
    "            loss.backward()\n",
    "            optimiser.step()\n",
    "            \n",
    "            # print statistics\n",
    "            running_loss.append(loss.item())\n",
    "            if i % 1000 == 0:    # print every 2000 mini-batches\n",
    "                print(f'[{epoch + 1}, {i + 1:5d}] loss: {np.mean(running_loss) :.6f}')\n",
    "        \n",
    "        history['epoch_loss'].append(np.mean(running_loss))\n",
    "    return history"
   ]
  },
  {
   "cell_type": "code",
   "execution_count": 201,
   "id": "6b65e113",
   "metadata": {},
   "outputs": [],
   "source": [
    "classifier = Classifier(x_train.shape[1]).to(device)"
   ]
  },
  {
   "cell_type": "code",
   "execution_count": 202,
   "id": "8aa31999",
   "metadata": {},
   "outputs": [],
   "source": [
    "optimiser = optim.Adam(classifier.parameters(), lr=0.002)"
   ]
  },
  {
   "cell_type": "code",
   "execution_count": 203,
   "id": "195cd76c",
   "metadata": {
    "scrolled": true
   },
   "outputs": [
    {
     "data": {
      "application/vnd.jupyter.widget-view+json": {
       "model_id": "53060ee21f504605842bc9b6023519cd",
       "version_major": 2,
       "version_minor": 0
      },
      "text/plain": [
       "Epochs:   0%|          | 0/50 [00:00<?, ?it/s]"
      ]
     },
     "metadata": {},
     "output_type": "display_data"
    },
    {
     "data": {
      "application/vnd.jupyter.widget-view+json": {
       "model_id": "08700a00361e4a43b8a48255b24e333e",
       "version_major": 2,
       "version_minor": 0
      },
      "text/plain": [
       "  0%|          | 0/49 [00:00<?, ?it/s]"
      ]
     },
     "metadata": {},
     "output_type": "display_data"
    },
    {
     "name": "stdout",
     "output_type": "stream",
     "text": [
      "[1,     1] loss: 0.664071\n"
     ]
    },
    {
     "data": {
      "application/vnd.jupyter.widget-view+json": {
       "model_id": "c1950d3a2c3c463593b772509e96c9f2",
       "version_major": 2,
       "version_minor": 0
      },
      "text/plain": [
       "  0%|          | 0/49 [00:00<?, ?it/s]"
      ]
     },
     "metadata": {},
     "output_type": "display_data"
    },
    {
     "name": "stdout",
     "output_type": "stream",
     "text": [
      "[2,     1] loss: 0.582056\n"
     ]
    },
    {
     "data": {
      "application/vnd.jupyter.widget-view+json": {
       "model_id": "51aabb61abd84dd8af0a7510f09126fc",
       "version_major": 2,
       "version_minor": 0
      },
      "text/plain": [
       "  0%|          | 0/49 [00:00<?, ?it/s]"
      ]
     },
     "metadata": {},
     "output_type": "display_data"
    },
    {
     "name": "stdout",
     "output_type": "stream",
     "text": [
      "[3,     1] loss: 0.562354\n"
     ]
    },
    {
     "data": {
      "application/vnd.jupyter.widget-view+json": {
       "model_id": "2b517e920ede4ca398b9387b52de598f",
       "version_major": 2,
       "version_minor": 0
      },
      "text/plain": [
       "  0%|          | 0/49 [00:00<?, ?it/s]"
      ]
     },
     "metadata": {},
     "output_type": "display_data"
    },
    {
     "name": "stdout",
     "output_type": "stream",
     "text": [
      "[4,     1] loss: 0.530045\n"
     ]
    },
    {
     "data": {
      "application/vnd.jupyter.widget-view+json": {
       "model_id": "9b449fd27e3d4e21a957ca7ddf637e2c",
       "version_major": 2,
       "version_minor": 0
      },
      "text/plain": [
       "  0%|          | 0/49 [00:00<?, ?it/s]"
      ]
     },
     "metadata": {},
     "output_type": "display_data"
    },
    {
     "name": "stdout",
     "output_type": "stream",
     "text": [
      "[5,     1] loss: 0.528491\n"
     ]
    },
    {
     "data": {
      "application/vnd.jupyter.widget-view+json": {
       "model_id": "fe21d9f23e1c491488a3f12112911c6a",
       "version_major": 2,
       "version_minor": 0
      },
      "text/plain": [
       "  0%|          | 0/49 [00:00<?, ?it/s]"
      ]
     },
     "metadata": {},
     "output_type": "display_data"
    },
    {
     "name": "stdout",
     "output_type": "stream",
     "text": [
      "[6,     1] loss: 0.504428\n"
     ]
    },
    {
     "data": {
      "application/vnd.jupyter.widget-view+json": {
       "model_id": "2e2086ce6d5445dd8fdd30b37224b097",
       "version_major": 2,
       "version_minor": 0
      },
      "text/plain": [
       "  0%|          | 0/49 [00:00<?, ?it/s]"
      ]
     },
     "metadata": {},
     "output_type": "display_data"
    },
    {
     "name": "stdout",
     "output_type": "stream",
     "text": [
      "[7,     1] loss: 0.493109\n"
     ]
    },
    {
     "data": {
      "application/vnd.jupyter.widget-view+json": {
       "model_id": "0e86cbdc5d964c9ca6212a1027f72bef",
       "version_major": 2,
       "version_minor": 0
      },
      "text/plain": [
       "  0%|          | 0/49 [00:00<?, ?it/s]"
      ]
     },
     "metadata": {},
     "output_type": "display_data"
    },
    {
     "name": "stdout",
     "output_type": "stream",
     "text": [
      "[8,     1] loss: 0.509332\n"
     ]
    },
    {
     "data": {
      "application/vnd.jupyter.widget-view+json": {
       "model_id": "60eca7bc2d2544ef8fdbf9f5e570e97f",
       "version_major": 2,
       "version_minor": 0
      },
      "text/plain": [
       "  0%|          | 0/49 [00:00<?, ?it/s]"
      ]
     },
     "metadata": {},
     "output_type": "display_data"
    },
    {
     "name": "stdout",
     "output_type": "stream",
     "text": [
      "[9,     1] loss: 0.488445\n"
     ]
    },
    {
     "data": {
      "application/vnd.jupyter.widget-view+json": {
       "model_id": "65c4c4bea720423f8903fabab28e0281",
       "version_major": 2,
       "version_minor": 0
      },
      "text/plain": [
       "  0%|          | 0/49 [00:00<?, ?it/s]"
      ]
     },
     "metadata": {},
     "output_type": "display_data"
    },
    {
     "name": "stdout",
     "output_type": "stream",
     "text": [
      "[10,     1] loss: 0.492542\n"
     ]
    },
    {
     "data": {
      "application/vnd.jupyter.widget-view+json": {
       "model_id": "406d33ee341a4ea982336c34466f9550",
       "version_major": 2,
       "version_minor": 0
      },
      "text/plain": [
       "  0%|          | 0/49 [00:00<?, ?it/s]"
      ]
     },
     "metadata": {},
     "output_type": "display_data"
    },
    {
     "name": "stdout",
     "output_type": "stream",
     "text": [
      "[11,     1] loss: 0.463741\n"
     ]
    },
    {
     "data": {
      "application/vnd.jupyter.widget-view+json": {
       "model_id": "3b4d8a83efd442f9980458c560bc4d8d",
       "version_major": 2,
       "version_minor": 0
      },
      "text/plain": [
       "  0%|          | 0/49 [00:00<?, ?it/s]"
      ]
     },
     "metadata": {},
     "output_type": "display_data"
    },
    {
     "name": "stdout",
     "output_type": "stream",
     "text": [
      "[12,     1] loss: 0.457044\n"
     ]
    },
    {
     "data": {
      "application/vnd.jupyter.widget-view+json": {
       "model_id": "c34003fdb3f34dd3b4f7caacca93e37f",
       "version_major": 2,
       "version_minor": 0
      },
      "text/plain": [
       "  0%|          | 0/49 [00:00<?, ?it/s]"
      ]
     },
     "metadata": {},
     "output_type": "display_data"
    },
    {
     "name": "stdout",
     "output_type": "stream",
     "text": [
      "[13,     1] loss: 0.445040\n"
     ]
    },
    {
     "data": {
      "application/vnd.jupyter.widget-view+json": {
       "model_id": "a4ddf8a6ef8d4936b07ab70a4a5ffe21",
       "version_major": 2,
       "version_minor": 0
      },
      "text/plain": [
       "  0%|          | 0/49 [00:00<?, ?it/s]"
      ]
     },
     "metadata": {},
     "output_type": "display_data"
    },
    {
     "name": "stdout",
     "output_type": "stream",
     "text": [
      "[14,     1] loss: 0.453070\n"
     ]
    },
    {
     "data": {
      "application/vnd.jupyter.widget-view+json": {
       "model_id": "ed4a04520c354e378741018b871b1ea4",
       "version_major": 2,
       "version_minor": 0
      },
      "text/plain": [
       "  0%|          | 0/49 [00:00<?, ?it/s]"
      ]
     },
     "metadata": {},
     "output_type": "display_data"
    },
    {
     "name": "stdout",
     "output_type": "stream",
     "text": [
      "[15,     1] loss: 0.456409\n"
     ]
    },
    {
     "data": {
      "application/vnd.jupyter.widget-view+json": {
       "model_id": "361691ad0a78442e8cd8744fe265a5a5",
       "version_major": 2,
       "version_minor": 0
      },
      "text/plain": [
       "  0%|          | 0/49 [00:00<?, ?it/s]"
      ]
     },
     "metadata": {},
     "output_type": "display_data"
    },
    {
     "name": "stdout",
     "output_type": "stream",
     "text": [
      "[16,     1] loss: 0.411423\n"
     ]
    },
    {
     "data": {
      "application/vnd.jupyter.widget-view+json": {
       "model_id": "040b53f668364b9eb78f617e03af200a",
       "version_major": 2,
       "version_minor": 0
      },
      "text/plain": [
       "  0%|          | 0/49 [00:00<?, ?it/s]"
      ]
     },
     "metadata": {},
     "output_type": "display_data"
    },
    {
     "name": "stdout",
     "output_type": "stream",
     "text": [
      "[17,     1] loss: 0.458482\n"
     ]
    },
    {
     "data": {
      "application/vnd.jupyter.widget-view+json": {
       "model_id": "b2bb8ad171174f22b5a23185b10b0370",
       "version_major": 2,
       "version_minor": 0
      },
      "text/plain": [
       "  0%|          | 0/49 [00:00<?, ?it/s]"
      ]
     },
     "metadata": {},
     "output_type": "display_data"
    },
    {
     "name": "stdout",
     "output_type": "stream",
     "text": [
      "[18,     1] loss: 0.436573\n"
     ]
    },
    {
     "data": {
      "application/vnd.jupyter.widget-view+json": {
       "model_id": "950757eb7fe745059a81dc1148615fad",
       "version_major": 2,
       "version_minor": 0
      },
      "text/plain": [
       "  0%|          | 0/49 [00:00<?, ?it/s]"
      ]
     },
     "metadata": {},
     "output_type": "display_data"
    },
    {
     "name": "stdout",
     "output_type": "stream",
     "text": [
      "[19,     1] loss: 0.449764\n"
     ]
    },
    {
     "data": {
      "application/vnd.jupyter.widget-view+json": {
       "model_id": "fbe08da6494f4501b86a65405704275c",
       "version_major": 2,
       "version_minor": 0
      },
      "text/plain": [
       "  0%|          | 0/49 [00:00<?, ?it/s]"
      ]
     },
     "metadata": {},
     "output_type": "display_data"
    },
    {
     "name": "stdout",
     "output_type": "stream",
     "text": [
      "[20,     1] loss: 0.422091\n"
     ]
    },
    {
     "data": {
      "application/vnd.jupyter.widget-view+json": {
       "model_id": "2dc52f879a2f4aecb6255db880b84204",
       "version_major": 2,
       "version_minor": 0
      },
      "text/plain": [
       "  0%|          | 0/49 [00:00<?, ?it/s]"
      ]
     },
     "metadata": {},
     "output_type": "display_data"
    },
    {
     "name": "stdout",
     "output_type": "stream",
     "text": [
      "[21,     1] loss: 0.429700\n"
     ]
    },
    {
     "data": {
      "application/vnd.jupyter.widget-view+json": {
       "model_id": "cedf7ecdfd0c4e498fcc02cc414dcf76",
       "version_major": 2,
       "version_minor": 0
      },
      "text/plain": [
       "  0%|          | 0/49 [00:00<?, ?it/s]"
      ]
     },
     "metadata": {},
     "output_type": "display_data"
    },
    {
     "name": "stdout",
     "output_type": "stream",
     "text": [
      "[22,     1] loss: 0.406514\n"
     ]
    },
    {
     "data": {
      "application/vnd.jupyter.widget-view+json": {
       "model_id": "0828220198914397b76c2784ac3b21a9",
       "version_major": 2,
       "version_minor": 0
      },
      "text/plain": [
       "  0%|          | 0/49 [00:00<?, ?it/s]"
      ]
     },
     "metadata": {},
     "output_type": "display_data"
    },
    {
     "name": "stdout",
     "output_type": "stream",
     "text": [
      "[23,     1] loss: 0.430475\n"
     ]
    },
    {
     "data": {
      "application/vnd.jupyter.widget-view+json": {
       "model_id": "87dd82d151be4aadbd0c60d452d78c7d",
       "version_major": 2,
       "version_minor": 0
      },
      "text/plain": [
       "  0%|          | 0/49 [00:00<?, ?it/s]"
      ]
     },
     "metadata": {},
     "output_type": "display_data"
    },
    {
     "name": "stdout",
     "output_type": "stream",
     "text": [
      "[24,     1] loss: 0.437631\n"
     ]
    },
    {
     "data": {
      "application/vnd.jupyter.widget-view+json": {
       "model_id": "d9aeec2823374dd3bf2b4b03a9103a45",
       "version_major": 2,
       "version_minor": 0
      },
      "text/plain": [
       "  0%|          | 0/49 [00:00<?, ?it/s]"
      ]
     },
     "metadata": {},
     "output_type": "display_data"
    },
    {
     "name": "stdout",
     "output_type": "stream",
     "text": [
      "[25,     1] loss: 0.444884\n"
     ]
    },
    {
     "data": {
      "application/vnd.jupyter.widget-view+json": {
       "model_id": "1c496596afe14bc8971b730c96d131a3",
       "version_major": 2,
       "version_minor": 0
      },
      "text/plain": [
       "  0%|          | 0/49 [00:00<?, ?it/s]"
      ]
     },
     "metadata": {},
     "output_type": "display_data"
    },
    {
     "name": "stdout",
     "output_type": "stream",
     "text": [
      "[26,     1] loss: 0.399525\n"
     ]
    },
    {
     "data": {
      "application/vnd.jupyter.widget-view+json": {
       "model_id": "d71d064aaaa34ae4b252f534352dc8db",
       "version_major": 2,
       "version_minor": 0
      },
      "text/plain": [
       "  0%|          | 0/49 [00:00<?, ?it/s]"
      ]
     },
     "metadata": {},
     "output_type": "display_data"
    },
    {
     "name": "stdout",
     "output_type": "stream",
     "text": [
      "[27,     1] loss: 0.398274\n"
     ]
    },
    {
     "data": {
      "application/vnd.jupyter.widget-view+json": {
       "model_id": "c2e684a7d9654847ad377a0c6dfa1ce1",
       "version_major": 2,
       "version_minor": 0
      },
      "text/plain": [
       "  0%|          | 0/49 [00:00<?, ?it/s]"
      ]
     },
     "metadata": {},
     "output_type": "display_data"
    },
    {
     "name": "stdout",
     "output_type": "stream",
     "text": [
      "[28,     1] loss: 0.405088\n"
     ]
    },
    {
     "data": {
      "application/vnd.jupyter.widget-view+json": {
       "model_id": "e39572c2e34b4b66a234818698439ee7",
       "version_major": 2,
       "version_minor": 0
      },
      "text/plain": [
       "  0%|          | 0/49 [00:00<?, ?it/s]"
      ]
     },
     "metadata": {},
     "output_type": "display_data"
    },
    {
     "name": "stdout",
     "output_type": "stream",
     "text": [
      "[29,     1] loss: 0.403837\n"
     ]
    },
    {
     "data": {
      "application/vnd.jupyter.widget-view+json": {
       "model_id": "b57cc16b6491413ebcd4918b636a12cc",
       "version_major": 2,
       "version_minor": 0
      },
      "text/plain": [
       "  0%|          | 0/49 [00:00<?, ?it/s]"
      ]
     },
     "metadata": {},
     "output_type": "display_data"
    },
    {
     "name": "stdout",
     "output_type": "stream",
     "text": [
      "[30,     1] loss: 0.394177\n"
     ]
    },
    {
     "data": {
      "application/vnd.jupyter.widget-view+json": {
       "model_id": "7fc57a03d92643b78a1a581378ea8222",
       "version_major": 2,
       "version_minor": 0
      },
      "text/plain": [
       "  0%|          | 0/49 [00:00<?, ?it/s]"
      ]
     },
     "metadata": {},
     "output_type": "display_data"
    },
    {
     "name": "stdout",
     "output_type": "stream",
     "text": [
      "[31,     1] loss: 0.397941\n"
     ]
    },
    {
     "data": {
      "application/vnd.jupyter.widget-view+json": {
       "model_id": "faf1a8b8f1ae4704bd226d8107dc2545",
       "version_major": 2,
       "version_minor": 0
      },
      "text/plain": [
       "  0%|          | 0/49 [00:00<?, ?it/s]"
      ]
     },
     "metadata": {},
     "output_type": "display_data"
    },
    {
     "name": "stdout",
     "output_type": "stream",
     "text": [
      "[32,     1] loss: 0.410600\n"
     ]
    },
    {
     "data": {
      "application/vnd.jupyter.widget-view+json": {
       "model_id": "4d2a5e311aa2423db737730e548ce4f1",
       "version_major": 2,
       "version_minor": 0
      },
      "text/plain": [
       "  0%|          | 0/49 [00:00<?, ?it/s]"
      ]
     },
     "metadata": {},
     "output_type": "display_data"
    },
    {
     "name": "stdout",
     "output_type": "stream",
     "text": [
      "[33,     1] loss: 0.399944\n"
     ]
    },
    {
     "data": {
      "application/vnd.jupyter.widget-view+json": {
       "model_id": "afbd43970f424b7aa672515157d5972f",
       "version_major": 2,
       "version_minor": 0
      },
      "text/plain": [
       "  0%|          | 0/49 [00:00<?, ?it/s]"
      ]
     },
     "metadata": {},
     "output_type": "display_data"
    },
    {
     "name": "stdout",
     "output_type": "stream",
     "text": [
      "[34,     1] loss: 0.431869\n"
     ]
    },
    {
     "data": {
      "application/vnd.jupyter.widget-view+json": {
       "model_id": "f2d7ff5c2a154939be688456f9fc0ff1",
       "version_major": 2,
       "version_minor": 0
      },
      "text/plain": [
       "  0%|          | 0/49 [00:00<?, ?it/s]"
      ]
     },
     "metadata": {},
     "output_type": "display_data"
    },
    {
     "name": "stdout",
     "output_type": "stream",
     "text": [
      "[35,     1] loss: 0.414283\n"
     ]
    },
    {
     "data": {
      "application/vnd.jupyter.widget-view+json": {
       "model_id": "765f2157466e489f888de04421f6a98a",
       "version_major": 2,
       "version_minor": 0
      },
      "text/plain": [
       "  0%|          | 0/49 [00:00<?, ?it/s]"
      ]
     },
     "metadata": {},
     "output_type": "display_data"
    },
    {
     "name": "stdout",
     "output_type": "stream",
     "text": [
      "[36,     1] loss: 0.389748\n"
     ]
    },
    {
     "data": {
      "application/vnd.jupyter.widget-view+json": {
       "model_id": "0c6b8495df5d40d29db27f95679f66f1",
       "version_major": 2,
       "version_minor": 0
      },
      "text/plain": [
       "  0%|          | 0/49 [00:00<?, ?it/s]"
      ]
     },
     "metadata": {},
     "output_type": "display_data"
    },
    {
     "name": "stdout",
     "output_type": "stream",
     "text": [
      "[37,     1] loss: 0.382002\n"
     ]
    },
    {
     "data": {
      "application/vnd.jupyter.widget-view+json": {
       "model_id": "839ebf8ecf4145ca9d7ddb401dc4e17c",
       "version_major": 2,
       "version_minor": 0
      },
      "text/plain": [
       "  0%|          | 0/49 [00:00<?, ?it/s]"
      ]
     },
     "metadata": {},
     "output_type": "display_data"
    },
    {
     "name": "stdout",
     "output_type": "stream",
     "text": [
      "[38,     1] loss: 0.422721\n"
     ]
    },
    {
     "data": {
      "application/vnd.jupyter.widget-view+json": {
       "model_id": "d4ffd30a19794a7993c424864f9d1d77",
       "version_major": 2,
       "version_minor": 0
      },
      "text/plain": [
       "  0%|          | 0/49 [00:00<?, ?it/s]"
      ]
     },
     "metadata": {},
     "output_type": "display_data"
    },
    {
     "name": "stdout",
     "output_type": "stream",
     "text": [
      "[39,     1] loss: 0.413823\n"
     ]
    },
    {
     "data": {
      "application/vnd.jupyter.widget-view+json": {
       "model_id": "a2d0f26f1dff47f38df41a0b9d70cf6a",
       "version_major": 2,
       "version_minor": 0
      },
      "text/plain": [
       "  0%|          | 0/49 [00:00<?, ?it/s]"
      ]
     },
     "metadata": {},
     "output_type": "display_data"
    },
    {
     "name": "stdout",
     "output_type": "stream",
     "text": [
      "[40,     1] loss: 0.396240\n"
     ]
    },
    {
     "data": {
      "application/vnd.jupyter.widget-view+json": {
       "model_id": "4227d8fbb5814bd3b1d96b70857fcb10",
       "version_major": 2,
       "version_minor": 0
      },
      "text/plain": [
       "  0%|          | 0/49 [00:00<?, ?it/s]"
      ]
     },
     "metadata": {},
     "output_type": "display_data"
    },
    {
     "name": "stdout",
     "output_type": "stream",
     "text": [
      "[41,     1] loss: 0.401980\n"
     ]
    },
    {
     "data": {
      "application/vnd.jupyter.widget-view+json": {
       "model_id": "96ebb539f78c4bfc8e931005e0e9596d",
       "version_major": 2,
       "version_minor": 0
      },
      "text/plain": [
       "  0%|          | 0/49 [00:00<?, ?it/s]"
      ]
     },
     "metadata": {},
     "output_type": "display_data"
    },
    {
     "name": "stdout",
     "output_type": "stream",
     "text": [
      "[42,     1] loss: 0.417041\n"
     ]
    },
    {
     "data": {
      "application/vnd.jupyter.widget-view+json": {
       "model_id": "7030ad2743804443890c8f96b97f8b76",
       "version_major": 2,
       "version_minor": 0
      },
      "text/plain": [
       "  0%|          | 0/49 [00:00<?, ?it/s]"
      ]
     },
     "metadata": {},
     "output_type": "display_data"
    },
    {
     "name": "stdout",
     "output_type": "stream",
     "text": [
      "[43,     1] loss: 0.391300\n"
     ]
    },
    {
     "data": {
      "application/vnd.jupyter.widget-view+json": {
       "model_id": "2d8feff5fe004c5ca4631623d4f95abc",
       "version_major": 2,
       "version_minor": 0
      },
      "text/plain": [
       "  0%|          | 0/49 [00:00<?, ?it/s]"
      ]
     },
     "metadata": {},
     "output_type": "display_data"
    },
    {
     "name": "stdout",
     "output_type": "stream",
     "text": [
      "[44,     1] loss: 0.403460\n"
     ]
    },
    {
     "data": {
      "application/vnd.jupyter.widget-view+json": {
       "model_id": "781ca8b9a10a497fb2f9f2fb6c8139d7",
       "version_major": 2,
       "version_minor": 0
      },
      "text/plain": [
       "  0%|          | 0/49 [00:00<?, ?it/s]"
      ]
     },
     "metadata": {},
     "output_type": "display_data"
    },
    {
     "name": "stdout",
     "output_type": "stream",
     "text": [
      "[45,     1] loss: 0.410421\n"
     ]
    },
    {
     "data": {
      "application/vnd.jupyter.widget-view+json": {
       "model_id": "e02a1048073544b2ac1206a342750c6a",
       "version_major": 2,
       "version_minor": 0
      },
      "text/plain": [
       "  0%|          | 0/49 [00:00<?, ?it/s]"
      ]
     },
     "metadata": {},
     "output_type": "display_data"
    },
    {
     "name": "stdout",
     "output_type": "stream",
     "text": [
      "[46,     1] loss: 0.404106\n"
     ]
    },
    {
     "data": {
      "application/vnd.jupyter.widget-view+json": {
       "model_id": "5ae510d09e274aab88e843b9ce4e3e2d",
       "version_major": 2,
       "version_minor": 0
      },
      "text/plain": [
       "  0%|          | 0/49 [00:00<?, ?it/s]"
      ]
     },
     "metadata": {},
     "output_type": "display_data"
    },
    {
     "name": "stdout",
     "output_type": "stream",
     "text": [
      "[47,     1] loss: 0.393381\n"
     ]
    },
    {
     "data": {
      "application/vnd.jupyter.widget-view+json": {
       "model_id": "e27b68847dfc4dc49c0925c12d0ab9a6",
       "version_major": 2,
       "version_minor": 0
      },
      "text/plain": [
       "  0%|          | 0/49 [00:00<?, ?it/s]"
      ]
     },
     "metadata": {},
     "output_type": "display_data"
    },
    {
     "name": "stdout",
     "output_type": "stream",
     "text": [
      "[48,     1] loss: 0.385004\n"
     ]
    },
    {
     "data": {
      "application/vnd.jupyter.widget-view+json": {
       "model_id": "5e3b39d477ea4d1f90232398328778ba",
       "version_major": 2,
       "version_minor": 0
      },
      "text/plain": [
       "  0%|          | 0/49 [00:00<?, ?it/s]"
      ]
     },
     "metadata": {},
     "output_type": "display_data"
    },
    {
     "name": "stdout",
     "output_type": "stream",
     "text": [
      "[49,     1] loss: 0.394946\n"
     ]
    },
    {
     "data": {
      "application/vnd.jupyter.widget-view+json": {
       "model_id": "57d3e0dc7118427886154d31f44c2d47",
       "version_major": 2,
       "version_minor": 0
      },
      "text/plain": [
       "  0%|          | 0/49 [00:00<?, ?it/s]"
      ]
     },
     "metadata": {},
     "output_type": "display_data"
    },
    {
     "name": "stdout",
     "output_type": "stream",
     "text": [
      "[50,     1] loss: 0.360486\n"
     ]
    }
   ],
   "source": [
    "his = train_loop(model=classifier, optimiser=optimiser, epochs=50, traindata=train_loader)"
   ]
  },
  {
   "cell_type": "code",
   "execution_count": 227,
   "id": "a9099aad",
   "metadata": {},
   "outputs": [],
   "source": [
    "t_vals = []"
   ]
  },
  {
   "cell_type": "code",
   "execution_count": 228,
   "id": "e780ba49",
   "metadata": {},
   "outputs": [],
   "source": [
    "def T_scaling(logits, temperature):\n",
    "    t_vals.append(temperature.item())\n",
    "    output = torch.div(logits, temperature)\n",
    "    activation = nn.Sigmoid()\n",
    "    return activation(output)"
   ]
  },
  {
   "cell_type": "code",
   "execution_count": 229,
   "id": "71665c2a",
   "metadata": {},
   "outputs": [
    {
     "data": {
      "application/vnd.jupyter.widget-view+json": {
       "model_id": "b922a97a35264880a04bbbe9b2a6efb9",
       "version_major": 2,
       "version_minor": 0
      },
      "text/plain": [
       "  0%|          | 0/49 [00:00<?, ?it/s]"
      ]
     },
     "metadata": {},
     "output_type": "display_data"
    },
    {
     "data": {
      "text/plain": [
       "tensor(0.4056, device='cuda:0', grad_fn=<BinaryCrossEntropyBackward0>)"
      ]
     },
     "execution_count": 229,
     "metadata": {},
     "output_type": "execute_result"
    }
   ],
   "source": [
    "temp = nn.Parameter((1.5*torch.ones(1)).cuda())\n",
    "criterion = nn.BCELoss()\n",
    "# optimizer = optim.LBFGS([temp], lr=0.01, max_iter=50, line_search_fn='strong_wolfe')\n",
    "optimizer = optim.LBFGS([temp], lr=0.01, max_iter=500, line_search_fn='strong_wolfe')\n",
    "logits_list = []\n",
    "labels_list = []\n",
    "\n",
    "for i, data in enumerate(tqdm(val_loader, 0)):\n",
    "    x, y = data[0].to(device), data[1].to(device)\n",
    "    \n",
    "    classifier.eval()\n",
    "    with torch.no_grad():\n",
    "        logits_list.append(classifier(x.float()))\n",
    "        labels_list.append(y.float())\n",
    "\n",
    "# Create tensors\n",
    "logits_list = torch.cat(logits_list).to(device)\n",
    "labels_list = torch.cat(labels_list).to(device)\n",
    "\n",
    "def _eval():\n",
    "    loss = criterion(T_scaling(logits_list, temp), labels_list)\n",
    "    loss.backward()\n",
    "    return loss\n",
    "\n",
    "optimizer.step(_eval)"
   ]
  },
  {
   "cell_type": "code",
   "execution_count": 230,
   "id": "f64e8453",
   "metadata": {},
   "outputs": [
    {
     "data": {
      "image/png": "[encoded data removed]",
      "text/plain": [
       "<Figure size 432x288 with 1 Axes>"
      ]
     },
     "metadata": {
      "needs_background": "light"
     },
     "output_type": "display_data"
    }
   ],
   "source": [
    "plt.figure()\n",
    "plt.plot(t_vals)\n",
    "plt.hlines(1, 0, len(t_vals))\n",
    "plt.xlabel('Iteration')\n",
    "plt.ylabel('Temperature (T)');"
   ]
  },
  {
   "cell_type": "code",
   "execution_count": 231,
   "id": "712179eb",
   "metadata": {},
   "outputs": [
    {
     "name": "stdout",
     "output_type": "stream",
     "text": [
      "0.8763574957847595\n"
     ]
    },
    {
     "data": {
      "text/html": [
       "<div>\n",
       "<style scoped>\n",
       "    .dataframe tbody tr th:only-of-type {\n",
       "        vertical-align: middle;\n",
       "    }\n",
       "\n",
       "    .dataframe tbody tr th {\n",
       "        vertical-align: top;\n",
       "    }\n",
       "\n",
       "    .dataframe thead th {\n",
       "        text-align: right;\n",
       "    }\n",
       "</style>\n",
       "<table border=\"1\" class=\"dataframe\">\n",
       "  <thead>\n",
       "    <tr style=\"text-align: right;\">\n",
       "      <th></th>\n",
       "      <th>true_label</th>\n",
       "      <th>pred_label</th>\n",
       "      <th>confidence</th>\n",
       "      <th>new_confidence</th>\n",
       "      <th>temp_scaled</th>\n",
       "    </tr>\n",
       "  </thead>\n",
       "  <tbody>\n",
       "    <tr>\n",
       "      <th>0</th>\n",
       "      <td>1</td>\n",
       "      <td>1.0</td>\n",
       "      <td>0.823594</td>\n",
       "      <td>0.823594</td>\n",
       "      <td>0.852995</td>\n",
       "    </tr>\n",
       "    <tr>\n",
       "      <th>1</th>\n",
       "      <td>0</td>\n",
       "      <td>0.0</td>\n",
       "      <td>0.054308</td>\n",
       "      <td>0.945692</td>\n",
       "      <td>0.036956</td>\n",
       "    </tr>\n",
       "    <tr>\n",
       "      <th>2</th>\n",
       "      <td>0</td>\n",
       "      <td>1.0</td>\n",
       "      <td>0.735112</td>\n",
       "      <td>0.735112</td>\n",
       "      <td>0.762191</td>\n",
       "    </tr>\n",
       "    <tr>\n",
       "      <th>3</th>\n",
       "      <td>0</td>\n",
       "      <td>0.0</td>\n",
       "      <td>0.262606</td>\n",
       "      <td>0.737394</td>\n",
       "      <td>0.235388</td>\n",
       "    </tr>\n",
       "    <tr>\n",
       "      <th>4</th>\n",
       "      <td>0</td>\n",
       "      <td>0.0</td>\n",
       "      <td>0.456735</td>\n",
       "      <td>0.543265</td>\n",
       "      <td>0.450668</td>\n",
       "    </tr>\n",
       "    <tr>\n",
       "      <th>...</th>\n",
       "      <td>...</td>\n",
       "      <td>...</td>\n",
       "      <td>...</td>\n",
       "      <td>...</td>\n",
       "      <td>...</td>\n",
       "    </tr>\n",
       "    <tr>\n",
       "      <th>49995</th>\n",
       "      <td>1</td>\n",
       "      <td>1.0</td>\n",
       "      <td>0.779335</td>\n",
       "      <td>0.779335</td>\n",
       "      <td>0.808427</td>\n",
       "    </tr>\n",
       "    <tr>\n",
       "      <th>49996</th>\n",
       "      <td>0</td>\n",
       "      <td>1.0</td>\n",
       "      <td>0.866329</td>\n",
       "      <td>0.866329</td>\n",
       "      <td>0.894028</td>\n",
       "    </tr>\n",
       "    <tr>\n",
       "      <th>49997</th>\n",
       "      <td>1</td>\n",
       "      <td>1.0</td>\n",
       "      <td>0.997914</td>\n",
       "      <td>0.997914</td>\n",
       "      <td>0.999126</td>\n",
       "    </tr>\n",
       "    <tr>\n",
       "      <th>49998</th>\n",
       "      <td>1</td>\n",
       "      <td>1.0</td>\n",
       "      <td>0.741268</td>\n",
       "      <td>0.741268</td>\n",
       "      <td>0.768716</td>\n",
       "    </tr>\n",
       "    <tr>\n",
       "      <th>49999</th>\n",
       "      <td>0</td>\n",
       "      <td>1.0</td>\n",
       "      <td>0.520383</td>\n",
       "      <td>0.520383</td>\n",
       "      <td>0.523255</td>\n",
       "    </tr>\n",
       "  </tbody>\n",
       "</table>\n",
       "<p>50000 rows × 5 columns</p>\n",
       "</div>"
      ],
      "text/plain": [
       "       true_label  pred_label  confidence  new_confidence  temp_scaled\n",
       "0               1         1.0    0.823594        0.823594     0.852995\n",
       "1               0         0.0    0.054308        0.945692     0.036956\n",
       "2               0         1.0    0.735112        0.735112     0.762191\n",
       "3               0         0.0    0.262606        0.737394     0.235388\n",
       "4               0         0.0    0.456735        0.543265     0.450668\n",
       "...           ...         ...         ...             ...          ...\n",
       "49995           1         1.0    0.779335        0.779335     0.808427\n",
       "49996           0         1.0    0.866329        0.866329     0.894028\n",
       "49997           1         1.0    0.997914        0.997914     0.999126\n",
       "49998           1         1.0    0.741268        0.741268     0.768716\n",
       "49999           0         1.0    0.520383        0.520383     0.523255\n",
       "\n",
       "[50000 rows x 5 columns]"
      ]
     },
     "execution_count": 231,
     "metadata": {},
     "output_type": "execute_result"
    }
   ],
   "source": [
    "activation = nn.Sigmoid()\n",
    "\n",
    "preds = classifier(torch.tensor(x_train).to(device).float()).detach().cpu().numpy()\n",
    "\n",
    "norm_preds = activation(torch.tensor(preds))\n",
    "pred_label = np.rint(norm_preds)\n",
    "\n",
    "df_out = pd.DataFrame(data = y_train, columns = [\"true_label\"])\n",
    "df_out[\"pred_label\"] = pred_label\n",
    "df_out[\"confidence\"] = norm_preds\n",
    "\n",
    "def f(row):\n",
    "    if row[\"pred_label\"] == 1:\n",
    "        confidence = row[\"confidence\"]\n",
    "    else:\n",
    "        confidence = 1 - row[\"confidence\"]\n",
    "        \n",
    "    return confidence\n",
    "\n",
    "# for predicted labels \n",
    "df_out[\"new_confidence\"] = df_out.apply(lambda x: x[\"confidence\"] if x[\"pred_label\"] == 1 else 1 - x[\"confidence\"], axis = 1)\n",
    "\n",
    "new_preds = activation(\n",
    "    torch.div(\n",
    "        torch.tensor(preds),\n",
    "        torch.tensor(t_vals[-1])\n",
    "        )\n",
    "    )\n",
    "new_preds = new_preds.numpy()\n",
    "\n",
    "df_out[\"temp_scaled\"] = new_preds\n",
    "#df_out[\"\"]\n",
    "print(t_vals[-1])\n",
    "#df_out.to_csv(index=False);\n",
    "df_out"
   ]
  },
  {
   "cell_type": "code",
   "execution_count": 232,
   "id": "08ba2687",
   "metadata": {},
   "outputs": [
    {
     "data": {
      "text/plain": [
       "array([[0.69949167, 0.30050833],\n",
       "       [0.1216976 , 0.8783024 ]])"
      ]
     },
     "execution_count": 232,
     "metadata": {},
     "output_type": "execute_result"
    }
   ],
   "source": [
    "confusion_matrix(df_out.true_label, df_out.pred_label, normalize = \"true\")"
   ]
  },
  {
   "cell_type": "code",
   "execution_count": 233,
   "id": "ea467f4e",
   "metadata": {},
   "outputs": [
    {
     "name": "stderr",
     "output_type": "stream",
     "text": [
      "/tmp/ipykernel_118270/2298429955.py:173: UserWarning: FixedFormatter should only be used together with FixedLocator\n",
      "  ax[1].set_yticklabels(new_ticks)\n"
     ]
    },
    {
     "data": {
      "image/png": "[encoded data removed]",
      "text/plain": [
       "<Figure size 600x840 with 2 Axes>"
      ]
     },
     "metadata": {
      "needs_background": "light"
     },
     "output_type": "display_data"
    }
   ],
   "source": [
    "title = \"Reliability Diagram\"\n",
    "\n",
    "ones = np.ones(len(df_out.true_label))\n",
    "\n",
    "fig = reliability_diagram(df_out.true_label, ones, df_out.confidence, num_bins=10, draw_ece=True,\n",
    "                          draw_bin_importance=\"alpha\", draw_averages=True,\n",
    "                          title=title, figsize=(6, 6), dpi=100, \n",
    "                          return_fig=True)"
   ]
  },
  {
   "cell_type": "code",
   "execution_count": 234,
   "id": "6a4901bf",
   "metadata": {},
   "outputs": [
    {
     "name": "stderr",
     "output_type": "stream",
     "text": [
      "/tmp/ipykernel_118270/2298429955.py:173: UserWarning: FixedFormatter should only be used together with FixedLocator\n",
      "  ax[1].set_yticklabels(new_ticks)\n"
     ]
    },
    {
     "data": {
      "image/png": "[encoded data removed]",
      "text/plain": [
       "<Figure size 600x840 with 2 Axes>"
      ]
     },
     "metadata": {
      "needs_background": "light"
     },
     "output_type": "display_data"
    }
   ],
   "source": [
    "title = \"Reliability Diagram\"\n",
    "\n",
    "fig = reliability_diagram(df_out.true_label, ones, df_out.temp_scaled, num_bins=10, draw_ece=True,\n",
    "                          draw_bin_importance=\"alpha\", draw_averages=True,\n",
    "                          title=title, figsize=(6, 6), dpi=100, \n",
    "                          return_fig=True)"
   ]
  },
  {
   "cell_type": "code",
   "execution_count": 218,
   "id": "495c33b9",
   "metadata": {},
   "outputs": [
    {
     "data": {
      "image/png": "[encoded data removed]",
      "text/plain": [
       "<Figure size 864x576 with 1 Axes>"
      ]
     },
     "metadata": {
      "needs_background": "light"
     },
     "output_type": "display_data"
    }
   ],
   "source": [
    "plt.figure(figsize = (12,8))\n",
    "\n",
    "yes = norm_preds[y_train == 1].numpy()\n",
    "no = norm_preds[y_train == 0].numpy()\n",
    "\n",
    "plt.hist(yes, bins = 20, histtype = \"step\");\n",
    "plt.hist(no, bins = 20, histtype = \"step\");"
   ]
  },
  {
   "cell_type": "code",
   "execution_count": 235,
   "id": "dc6a9fd2",
   "metadata": {},
   "outputs": [],
   "source": [
    "\"\"\"\n",
    "Using this code for the calibration plot, will create our own from this later\n",
    "https://github.com/hollance/reliability-diagrams\n",
    "\"\"\"\n",
    "\n",
    "\n",
    "import os\n",
    "import numpy as np\n",
    "import matplotlib.pyplot as plt\n",
    "\n",
    "\n",
    "def compute_calibration(true_labels, pred_labels, confidences, num_bins=10):\n",
    "    \"\"\"Collects predictions into bins used to draw a reliability diagram.\n",
    "    Arguments:\n",
    "        true_labels: the true labels for the test examples\n",
    "        pred_labels: the predicted labels for the test examples\n",
    "        confidences: the predicted confidences for the test examples\n",
    "        num_bins: number of bins\n",
    "    The true_labels, pred_labels, confidences arguments must be NumPy arrays;\n",
    "    pred_labels and true_labels may contain numeric or string labels.\n",
    "    For a multi-class model, the predicted label and confidence should be those\n",
    "    of the highest scoring class.\n",
    "    Returns a dictionary containing the following NumPy arrays:\n",
    "        accuracies: the average accuracy for each bin\n",
    "        confidences: the average confidence for each bin\n",
    "        counts: the number of examples in each bin\n",
    "        bins: the confidence thresholds for each bin\n",
    "        avg_accuracy: the accuracy over the entire test set\n",
    "        avg_confidence: the average confidence over the entire test set\n",
    "        expected_calibration_error: a weighted average of all calibration gaps\n",
    "        max_calibration_error: the largest calibration gap across all bins\n",
    "    \"\"\"\n",
    "    assert(len(confidences) == len(pred_labels))\n",
    "    assert(len(confidences) == len(true_labels))\n",
    "    assert(num_bins > 0)\n",
    "\n",
    "    bin_size = 1.0 / num_bins\n",
    "    bins = np.linspace(0.0, 1.0, num_bins + 1)\n",
    "    indices = np.digitize(confidences, bins, right=True)\n",
    "\n",
    "    bin_accuracies = np.zeros(num_bins, dtype=np.float)\n",
    "    bin_confidences = np.zeros(num_bins, dtype=np.float)\n",
    "    bin_counts = np.zeros(num_bins, dtype=np.int)\n",
    "\n",
    "    for b in range(num_bins):\n",
    "        selected = np.where(indices == b + 1)[0]\n",
    "        if len(selected) > 0:\n",
    "            bin_accuracies[b] = np.mean(true_labels[selected] == pred_labels[selected])\n",
    "            bin_confidences[b] = np.mean(confidences[selected])\n",
    "            bin_counts[b] = len(selected)\n",
    "\n",
    "    avg_acc = np.sum(bin_accuracies * bin_counts) / np.sum(bin_counts)\n",
    "    avg_conf = np.sum(bin_confidences * bin_counts) / np.sum(bin_counts)\n",
    "\n",
    "    gaps = np.abs(bin_accuracies - bin_confidences)\n",
    "    ece = np.sum(gaps * bin_counts) / np.sum(bin_counts)\n",
    "    mce = np.max(gaps)\n",
    "\n",
    "    return { \"accuracies\": bin_accuracies, \n",
    "             \"confidences\": bin_confidences, \n",
    "             \"counts\": bin_counts, \n",
    "             \"bins\": bins,\n",
    "             \"avg_accuracy\": avg_acc,\n",
    "             \"avg_confidence\": avg_conf,\n",
    "             \"expected_calibration_error\": ece,\n",
    "             \"max_calibration_error\": mce }\n",
    "\n",
    "\n",
    "def _reliability_diagram_subplot(ax, bin_data, \n",
    "                                 draw_ece=True, \n",
    "                                 draw_bin_importance=False,\n",
    "                                 title=\"Reliability Diagram\", \n",
    "                                 xlabel=\"Confidence\", \n",
    "                                 ylabel=\"Expected Accuracy\"):\n",
    "    \"\"\"Draws a reliability diagram into a subplot.\"\"\"\n",
    "    accuracies = bin_data[\"accuracies\"]\n",
    "    confidences = bin_data[\"confidences\"]\n",
    "    counts = bin_data[\"counts\"]\n",
    "    bins = bin_data[\"bins\"]\n",
    "\n",
    "    bin_size = 1.0 / len(counts)\n",
    "    positions = bins[:-1] + bin_size/2.0\n",
    "\n",
    "    widths = bin_size\n",
    "    alphas = 0.3\n",
    "    min_count = np.min(counts)\n",
    "    max_count = np.max(counts)\n",
    "    normalized_counts = (counts - min_count) / (max_count - min_count)\n",
    "\n",
    "    if draw_bin_importance == \"alpha\":\n",
    "        alphas = 0.2 + 0.8*normalized_counts\n",
    "    elif draw_bin_importance == \"width\":\n",
    "        widths = 0.1*bin_size + 0.9*bin_size*normalized_counts\n",
    "\n",
    "    colors = np.zeros((len(counts), 4))\n",
    "    colors[:, 0] = 240 / 255.\n",
    "    colors[:, 1] = 60 / 255.\n",
    "    colors[:, 2] = 60 / 255.\n",
    "    colors[:, 3] = alphas\n",
    "\n",
    "    gap_plt = ax.bar(positions, np.abs(accuracies - confidences), \n",
    "                     bottom=np.minimum(accuracies, confidences), width=widths,\n",
    "                     edgecolor=colors, color=colors, linewidth=1, label=\"Gap\")\n",
    "\n",
    "    acc_plt = ax.bar(positions, 0, bottom=accuracies, width=widths,\n",
    "                     edgecolor=\"black\", color=\"black\", alpha=1.0, linewidth=3,\n",
    "                     label=\"Accuracy\")\n",
    "\n",
    "    ax.set_aspect(\"equal\")\n",
    "    ax.plot([0,1], [0,1], linestyle = \"--\", color=\"gray\")\n",
    "    \n",
    "    if draw_ece:\n",
    "        ece = (bin_data[\"expected_calibration_error\"] * 100)\n",
    "        ax.text(0.98, 0.02, \"ECE=%.2f\" % ece, color=\"black\", \n",
    "                ha=\"right\", va=\"bottom\", transform=ax.transAxes)\n",
    "\n",
    "    ax.set_xlim(0, 1)\n",
    "    ax.set_ylim(0, 1)\n",
    "    #ax.set_xticks(bins)\n",
    "\n",
    "    ax.set_title(title)\n",
    "    ax.set_xlabel(xlabel)\n",
    "    ax.set_ylabel(ylabel)\n",
    "\n",
    "    ax.legend(handles=[gap_plt, acc_plt])\n",
    "\n",
    "\n",
    "def _confidence_histogram_subplot(ax, bin_data, \n",
    "                                  draw_averages=True,\n",
    "                                  title=\"Examples per bin\", \n",
    "                                  xlabel=\"Confidence\",\n",
    "                                  ylabel=\"Count\"):\n",
    "    \"\"\"Draws a confidence histogram into a subplot.\"\"\"\n",
    "    counts = bin_data[\"counts\"]\n",
    "    bins = bin_data[\"bins\"]\n",
    "\n",
    "    bin_size = 1.0 / len(counts)\n",
    "    positions = bins[:-1] + bin_size/2.0\n",
    "\n",
    "    ax.bar(positions, counts, width=bin_size * 0.9)\n",
    "   \n",
    "    ax.set_xlim(0, 1)\n",
    "    ax.set_title(title)\n",
    "    ax.set_xlabel(xlabel)\n",
    "    ax.set_ylabel(ylabel)\n",
    "\n",
    "    if draw_averages:\n",
    "        acc_plt = ax.axvline(x=bin_data[\"avg_accuracy\"], ls=\"solid\", lw=3, \n",
    "                             c=\"black\", label=\"Accuracy\")\n",
    "        conf_plt = ax.axvline(x=bin_data[\"avg_confidence\"], ls=\"dotted\", lw=3, \n",
    "                              c=\"#444\", label=\"Avg. confidence\")\n",
    "        ax.legend(handles=[acc_plt, conf_plt])\n",
    "\n",
    "\n",
    "def _reliability_diagram_combined(bin_data, \n",
    "                                  draw_ece, draw_bin_importance, draw_averages, \n",
    "                                  title, figsize, dpi, return_fig):\n",
    "    \"\"\"Draws a reliability diagram and confidence histogram using the output\n",
    "    from compute_calibration().\"\"\"\n",
    "    figsize = (figsize[0], figsize[0] * 1.4)\n",
    "\n",
    "    fig, ax = plt.subplots(nrows=2, ncols=1, sharex=True, figsize=figsize, dpi=dpi, \n",
    "                           gridspec_kw={\"height_ratios\": [4, 1]})\n",
    "\n",
    "    plt.tight_layout()\n",
    "    plt.subplots_adjust(hspace=-0.1)\n",
    "\n",
    "    _reliability_diagram_subplot(ax[0], bin_data, draw_ece, draw_bin_importance, \n",
    "                                 title=title, xlabel=\"\")\n",
    "\n",
    "    # Draw the confidence histogram upside down.\n",
    "    orig_counts = bin_data[\"counts\"]\n",
    "    bin_data[\"counts\"] = -bin_data[\"counts\"]\n",
    "    _confidence_histogram_subplot(ax[1], bin_data, draw_averages, title=\"\")\n",
    "    bin_data[\"counts\"] = orig_counts\n",
    "\n",
    "    # Also negate the ticks for the upside-down histogram.\n",
    "    new_ticks = np.abs(ax[1].get_yticks()).astype(np.int)\n",
    "    ax[1].set_yticklabels(new_ticks)    \n",
    "\n",
    "    plt.show()\n",
    "\n",
    "    if return_fig: return fig\n",
    "\n",
    "\n",
    "def reliability_diagram(true_labels, pred_labels, confidences, num_bins=10,\n",
    "                        draw_ece=True, draw_bin_importance=False, \n",
    "                        draw_averages=True, title=\"Reliability Diagram\", \n",
    "                        figsize=(6, 6), dpi=72, return_fig=False):\n",
    "    \"\"\"Draws a reliability diagram and confidence histogram in a single plot.\n",
    "    \n",
    "    First, the model's predictions are divided up into bins based on their\n",
    "    confidence scores.\n",
    "    The reliability diagram shows the gap between average accuracy and average \n",
    "    confidence in each bin. These are the red bars.\n",
    "    The black line is the accuracy, the other end of the bar is the confidence.\n",
    "    Ideally, there is no gap and the black line is on the dotted diagonal.\n",
    "    In that case, the model is properly calibrated and we can interpret the\n",
    "    confidence scores as probabilities.\n",
    "    The confidence histogram visualizes how many examples are in each bin. \n",
    "    This is useful for judging how much each bin contributes to the calibration\n",
    "    error.\n",
    "    The confidence histogram also shows the overall accuracy and confidence. \n",
    "    The closer these two lines are together, the better the calibration.\n",
    "    \n",
    "    The ECE or Expected Calibration Error is a summary statistic that gives the\n",
    "    difference in expectation between confidence and accuracy. In other words,\n",
    "    it's a weighted average of the gaps across all bins. A lower ECE is better.\n",
    "    Arguments:\n",
    "        true_labels: the true labels for the test examples\n",
    "        pred_labels: the predicted labels for the test examples\n",
    "        confidences: the predicted confidences for the test examples\n",
    "        num_bins: number of bins\n",
    "        draw_ece: whether to include the Expected Calibration Error\n",
    "        draw_bin_importance: whether to represent how much each bin contributes\n",
    "            to the total accuracy: False, \"alpha\", \"widths\"\n",
    "        draw_averages: whether to draw the overall accuracy and confidence in\n",
    "            the confidence histogram\n",
    "        title: optional title for the plot\n",
    "        figsize: setting for matplotlib; height is ignored\n",
    "        dpi: setting for matplotlib\n",
    "        return_fig: if True, returns the matplotlib Figure object\n",
    "    \"\"\"\n",
    "    bin_data = compute_calibration(true_labels, pred_labels, confidences, num_bins)\n",
    "    return _reliability_diagram_combined(bin_data, draw_ece, draw_bin_importance,\n",
    "                                         draw_averages, title, figsize=figsize, \n",
    "                                         dpi=dpi, return_fig=return_fig)\n",
    "\n",
    "\n",
    "def reliability_diagrams(results, num_bins=10,\n",
    "                         draw_ece=True, draw_bin_importance=False, \n",
    "                         num_cols=4, dpi=72, return_fig=False):\n",
    "    \"\"\"Draws reliability diagrams for one or more models.\n",
    "    \n",
    "    Arguments:\n",
    "        results: dictionary where the key is the model name and the value is\n",
    "            a dictionary containing the true labels, predicated labels, and\n",
    "            confidences for this model\n",
    "        num_bins: number of bins\n",
    "        draw_ece: whether to include the Expected Calibration Error\n",
    "        draw_bin_importance: whether to represent how much each bin contributes\n",
    "            to the total accuracy: False, \"alpha\", \"widths\"\n",
    "        num_cols: how wide to make the plot\n",
    "        dpi: setting for matplotlib\n",
    "        return_fig: if True, returns the matplotlib Figure object\n",
    "    \"\"\"\n",
    "    ncols = num_cols\n",
    "    nrows = (len(results) + ncols - 1) // ncols\n",
    "    figsize = (ncols * 4, nrows * 4)\n",
    "\n",
    "    fig, ax = plt.subplots(nrows=nrows, ncols=ncols, sharex=True, sharey=True, \n",
    "                           figsize=figsize, dpi=dpi, constrained_layout=True)\n",
    "\n",
    "    for i, (plot_name, data) in enumerate(results.items()):\n",
    "        y_true = data[\"true_labels\"]\n",
    "        y_pred = data[\"pred_labels\"]\n",
    "        y_conf = data[\"confidences\"]\n",
    "        \n",
    "        bin_data = compute_calibration(y_true, y_pred, y_conf, num_bins)\n",
    "        \n",
    "        row = i // ncols\n",
    "        col = i % ncols\n",
    "        _reliability_diagram_subplot(ax[row, col], bin_data, draw_ece, \n",
    "                                     draw_bin_importance, \n",
    "                                     title=\"\\n\".join(plot_name.split()),\n",
    "                                     xlabel=\"Confidence\" if row == nrows - 1 else \"\",\n",
    "                                     ylabel=\"Expected Accuracy\" if col == 0 else \"\")\n",
    "\n",
    "    for i in range(i + 1, nrows * ncols):\n",
    "        row = i // ncols\n",
    "        col = i % ncols        \n",
    "        ax[row, col].axis(\"off\")\n",
    "        \n",
    "    plt.show()\n",
    "\n",
    "    if return_fig: return fig\n",
    "\n",
    "\n"
   ]
  },
  {
   "cell_type": "code",
   "execution_count": null,
   "id": "969aabcc",
   "metadata": {},
   "outputs": [],
   "source": []
  }
 ],
 "metadata": {
  "kernelspec": {
   "display_name": "Python 3 (ipykernel)",
   "language": "python",
   "name": "python3"
  },
  "language_info": {
   "codemirror_mode": {
    "name": "ipython",
    "version": 3
   },
   "file_extension": ".py",
   "mimetype": "text/x-python",
   "name": "python",
   "nbconvert_exporter": "python",
   "pygments_lexer": "ipython3",
   "version": "3.9.7"
  }
 },
 "nbformat": 4,
 "nbformat_minor": 5
}
