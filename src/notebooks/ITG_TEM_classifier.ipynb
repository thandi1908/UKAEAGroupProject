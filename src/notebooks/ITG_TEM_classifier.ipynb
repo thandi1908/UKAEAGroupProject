{
 "cells": [
  {
   "cell_type": "code",
   "execution_count": 19,
   "id": "7141c582-969e-4275-a01c-f7df5e11c898",
   "metadata": {},
   "outputs": [],
   "source": [
    "import sys\n",
    "path = '/lustre/home/pr5739/qualikiz/UKAEAGroupProject/src/'\n",
    "path2 = '/lustre/home/pr5739/qualikiz/UKAEAGroupProject/src/scripts'\n",
    "sys.path.append(path)\n",
    "sys.path.append(path2)\n",
    "import numpy as np \n",
    "import pandas as pd\n",
    "import h5py as h5\n",
    "import seaborn as sns\n",
    "\n",
    "plt.rcParams['ytick.minor.visible']=True\n",
    "plt.rcParams['xtick.minor.visible']=True\n",
    "plt.rcParams['axes.linewidth']=5\n",
    "plt.rcParams['xtick.major.size'] =15\n",
    "\n",
    "plt.rcParams['ytick.major.size'] =15\n",
    "plt.rcParams['xtick.minor.size'] =10\n",
    "plt.rcParams['ytick.minor.size'] =10\n",
    "plt.rcParams['xtick.major.width'] =5\n",
    "plt.rcParams['ytick.major.width'] =5\n",
    "plt.rcParams['xtick.minor.width'] =5\n",
    "plt.rcParams['ytick.minor.width'] =5\n",
    "plt.rcParams['axes.titlepad'] = 10\n",
    "\n",
    "plt.rcParams['font.size']=55\n",
    "plt.rcParams['figure.figsize']=(10,10)\n",
    "\n",
    "\n",
    "from sklearn.preprocessing import StandardScaler\n",
    "from sklearn.model_selection import train_test_split\n",
    "from sklearn.metrics import confusion_matrix, accuracy_score, f1_score, precision_score, recall_score, precision_recall_curve, roc_curve, roc_auc_score\n",
    "import torch\n",
    "from scripts.utils import train_keys\n",
    "from scripts.Classifier import Classifier, ClassifierDataset\n",
    "import pickle\n",
    "import matplotlib.pyplot as plt\n",
    "import seaborn as sns\n",
    "import comet_ml\n",
    "\n",
    "from pytorch_lightning.loggers import CometLogger\n",
    "from sklearn.preprocessing import StandardScaler"
   ]
  },
  {
   "cell_type": "code",
   "execution_count": 2,
   "id": "0338f926-9d66-491b-8361-99010f657bba",
   "metadata": {},
   "outputs": [],
   "source": [
    "datapath = \"/lustre/home/pr5739/qualikiz/UKAEAGroupProject\""
   ]
  },
  {
   "cell_type": "markdown",
   "id": "a5c09290-a280-4302-8b02-42bdf225aad5",
   "metadata": {},
   "source": [
    "# Analysis"
   ]
  },
  {
   "cell_type": "code",
   "execution_count": 4,
   "id": "91e1d4e7-e435-4252-b3c1-8e40f0a34601",
   "metadata": {},
   "outputs": [],
   "source": [
    "checkpoint = f'{path}/../logs/ITG_TEM/correct_checkpoints/experiment_name=0-epoch=26-val_acc=0.94.ckpt'\n",
    "#1/experiment_name=0-epoch=48-val_loss=0.46.ckpt'\n",
    "model = Classifier.load_from_checkpoint(checkpoint)"
   ]
  },
  {
   "cell_type": "code",
   "execution_count": 5,
   "id": "368bae4f-44f8-47dc-b311-6aa18d398e1e",
   "metadata": {},
   "outputs": [],
   "source": [
    "train = pd.read_pickle(f'{datapath}/data/ITG_TEM/train.pkl')\n",
    "val = pd.read_pickle(f'{datapath}/data/ITG_TEM/valid.pkl')\n",
    "test = pd.read_pickle(f'{datapath}/data/ITG_TEM/test.pkl')    \n"
   ]
  },
  {
   "cell_type": "code",
   "execution_count": 6,
   "id": "fb722e3a-6fe2-4ae3-bc7b-f951ba039234",
   "metadata": {},
   "outputs": [],
   "source": [
    "X_train = train[train_keys]\n",
    "Y_train = train['turb_type']\n",
    "X_val = val[train_keys]\n",
    "Y_val = val['turb_type']\n",
    "X_test = test[train_keys]\n",
    "Y_test = test['turb_type']"
   ]
  },
  {
   "cell_type": "code",
   "execution_count": 7,
   "id": "e1740287-f89d-4a40-921b-9955dd7a6b7a",
   "metadata": {},
   "outputs": [],
   "source": [
    "scaler = StandardScaler()\n",
    "X_train = scaler.fit_transform(X_train)\n",
    "X_val = scaler.transform(X_val)\n",
    "X_test = scaler.transform(X_test)"
   ]
  },
  {
   "cell_type": "code",
   "execution_count": 8,
   "id": "116e7683-7093-4269-bd5b-d0895aa92240",
   "metadata": {},
   "outputs": [],
   "source": [
    "#ds_test = torch.utils.data.TensorDataset(torch.from_numpy(X_test).float(), torch.from_numpy(Y_test).int())\n",
    "#dl_test = torch.utils.data.DataLoader(ds_test, batch_size=256, shuffle=False, num_workers=16)\n",
    "\n",
    "predictions = model(torch.tensor(X_test, dtype=torch.float)).detach().numpy()\n"
   ]
  },
  {
   "cell_type": "code",
   "execution_count": 14,
   "id": "f2ca0a3c-3f36-44d6-9d2f-2187e64ae9c1",
   "metadata": {},
   "outputs": [],
   "source": [
    "test_pred = np.argmax(predictions,axis=1)\n"
   ]
  },
  {
   "cell_type": "code",
   "execution_count": 15,
   "id": "8ddb2858-97b5-431b-98cb-df25528c7005",
   "metadata": {},
   "outputs": [],
   "source": [
    "n_0 = np.where(Y_test ==0)[0].shape[0]\n",
    "n_1 = np.where(Y_test ==1)[0].shape[0]\n",
    "n_2 = np.where(Y_test ==2)[0].shape[0]\n",
    "div_arr = np.array([[n_0, n_1, n_2]]).T"
   ]
  },
  {
   "cell_type": "markdown",
   "id": "a9714739-b542-4b8e-9caf-a2f63535a808",
   "metadata": {},
   "source": [
    "### metrics"
   ]
  },
  {
   "cell_type": "code",
   "execution_count": 22,
   "id": "0fda21ae-df29-4a49-9f83-3088b0a90a58",
   "metadata": {},
   "outputs": [
    {
     "name": "stdout",
     "output_type": "stream",
     "text": [
      "For test set:\n",
      "accuracy: 0.9325782144811361\n",
      "F1; 0.9325782144811361\n",
      "precision: 0.9325782144811361\n",
      "recall:0.9325782144811361\n"
     ]
    }
   ],
   "source": [
    "accuracy = accuracy_score(Y_test, test_pred)\n",
    "F1 = f1_score(Y_test, test_pred, labels=[0,1,2], average='micro')\n",
    "precision = precision_score(Y_test, test_pred,labels=[0,1,2], average='micro')\n",
    "recall =recall_score(Y_test,test_pred,labels=[0,1,2], average='micro')\n",
    "\n",
    "print('For test set:')\n",
    "print(f'accuracy: {accuracy}\\nF1; {F1}\\nprecision: {precision}\\nrecall:{recall}')"
   ]
  },
  {
   "cell_type": "code",
   "execution_count": 23,
   "id": "727d9832-bd52-4259-a4e5-170fceb62d96",
   "metadata": {
    "collapsed": true,
    "jupyter": {
     "outputs_hidden": true
    },
    "tags": []
   },
   "outputs": [
    {
     "ename": "ValueError",
     "evalue": "multiclass format is not supported",
     "output_type": "error",
     "traceback": [
      "\u001b[0;31m---------------------------------------------------------------------------\u001b[0m",
      "\u001b[0;31mValueError\u001b[0m                                Traceback (most recent call last)",
      "\u001b[0;32m/tmp/ipykernel_38206/2278523071.py\u001b[0m in \u001b[0;36m<module>\u001b[0;34m\u001b[0m\n\u001b[0;32m----> 1\u001b[0;31m \u001b[0mfpr\u001b[0m\u001b[0;34m,\u001b[0m\u001b[0mtpr\u001b[0m\u001b[0;34m,\u001b[0m\u001b[0m_\u001b[0m \u001b[0;34m=\u001b[0m \u001b[0mroc_curve\u001b[0m\u001b[0;34m(\u001b[0m\u001b[0mY_test\u001b[0m\u001b[0;34m,\u001b[0m\u001b[0mpredictions\u001b[0m\u001b[0;34m)\u001b[0m\u001b[0;34m\u001b[0m\u001b[0;34m\u001b[0m\u001b[0m\n\u001b[0m\u001b[1;32m      2\u001b[0m \u001b[0mplt\u001b[0m\u001b[0;34m.\u001b[0m\u001b[0mplot\u001b[0m\u001b[0;34m(\u001b[0m\u001b[0mfpr\u001b[0m\u001b[0;34m,\u001b[0m\u001b[0mtpr\u001b[0m\u001b[0;34m)\u001b[0m\u001b[0;34m\u001b[0m\u001b[0;34m\u001b[0m\u001b[0m\n\u001b[1;32m      3\u001b[0m \u001b[0mplt\u001b[0m\u001b[0;34m.\u001b[0m\u001b[0mxlabel\u001b[0m\u001b[0;34m(\u001b[0m\u001b[0;34m'FPR'\u001b[0m\u001b[0;34m)\u001b[0m\u001b[0;34m\u001b[0m\u001b[0;34m\u001b[0m\u001b[0m\n\u001b[1;32m      4\u001b[0m \u001b[0mplt\u001b[0m\u001b[0;34m.\u001b[0m\u001b[0mylabel\u001b[0m\u001b[0;34m(\u001b[0m\u001b[0;34m'TPR'\u001b[0m\u001b[0;34m)\u001b[0m\u001b[0;34m\u001b[0m\u001b[0;34m\u001b[0m\u001b[0m\n\u001b[1;32m      5\u001b[0m \u001b[0mprint\u001b[0m\u001b[0;34m(\u001b[0m\u001b[0;34mf'ROC AUC:{roc_auc_score(Y_test,test_pred)}'\u001b[0m\u001b[0;34m)\u001b[0m\u001b[0;34m\u001b[0m\u001b[0;34m\u001b[0m\u001b[0m\n",
      "\u001b[0;32m~/anaconda3/envs/UCL/lib/python3.9/site-packages/sklearn/metrics/_ranking.py\u001b[0m in \u001b[0;36mroc_curve\u001b[0;34m(y_true, y_score, pos_label, sample_weight, drop_intermediate)\u001b[0m\n\u001b[1;32m    960\u001b[0m \u001b[0;34m\u001b[0m\u001b[0m\n\u001b[1;32m    961\u001b[0m     \"\"\"\n\u001b[0;32m--> 962\u001b[0;31m     fps, tps, thresholds = _binary_clf_curve(\n\u001b[0m\u001b[1;32m    963\u001b[0m         \u001b[0my_true\u001b[0m\u001b[0;34m,\u001b[0m \u001b[0my_score\u001b[0m\u001b[0;34m,\u001b[0m \u001b[0mpos_label\u001b[0m\u001b[0;34m=\u001b[0m\u001b[0mpos_label\u001b[0m\u001b[0;34m,\u001b[0m \u001b[0msample_weight\u001b[0m\u001b[0;34m=\u001b[0m\u001b[0msample_weight\u001b[0m\u001b[0;34m\u001b[0m\u001b[0;34m\u001b[0m\u001b[0m\n\u001b[1;32m    964\u001b[0m     )\n",
      "\u001b[0;32m~/anaconda3/envs/UCL/lib/python3.9/site-packages/sklearn/metrics/_ranking.py\u001b[0m in \u001b[0;36m_binary_clf_curve\u001b[0;34m(y_true, y_score, pos_label, sample_weight)\u001b[0m\n\u001b[1;32m    729\u001b[0m     \u001b[0my_type\u001b[0m \u001b[0;34m=\u001b[0m \u001b[0mtype_of_target\u001b[0m\u001b[0;34m(\u001b[0m\u001b[0my_true\u001b[0m\u001b[0;34m)\u001b[0m\u001b[0;34m\u001b[0m\u001b[0;34m\u001b[0m\u001b[0m\n\u001b[1;32m    730\u001b[0m     \u001b[0;32mif\u001b[0m \u001b[0;32mnot\u001b[0m \u001b[0;34m(\u001b[0m\u001b[0my_type\u001b[0m \u001b[0;34m==\u001b[0m \u001b[0;34m\"binary\"\u001b[0m \u001b[0;32mor\u001b[0m \u001b[0;34m(\u001b[0m\u001b[0my_type\u001b[0m \u001b[0;34m==\u001b[0m \u001b[0;34m\"multiclass\"\u001b[0m \u001b[0;32mand\u001b[0m \u001b[0mpos_label\u001b[0m \u001b[0;32mis\u001b[0m \u001b[0;32mnot\u001b[0m \u001b[0;32mNone\u001b[0m\u001b[0;34m)\u001b[0m\u001b[0;34m)\u001b[0m\u001b[0;34m:\u001b[0m\u001b[0;34m\u001b[0m\u001b[0;34m\u001b[0m\u001b[0m\n\u001b[0;32m--> 731\u001b[0;31m         \u001b[0;32mraise\u001b[0m \u001b[0mValueError\u001b[0m\u001b[0;34m(\u001b[0m\u001b[0;34m\"{0} format is not supported\"\u001b[0m\u001b[0;34m.\u001b[0m\u001b[0mformat\u001b[0m\u001b[0;34m(\u001b[0m\u001b[0my_type\u001b[0m\u001b[0;34m)\u001b[0m\u001b[0;34m)\u001b[0m\u001b[0;34m\u001b[0m\u001b[0;34m\u001b[0m\u001b[0m\n\u001b[0m\u001b[1;32m    732\u001b[0m \u001b[0;34m\u001b[0m\u001b[0m\n\u001b[1;32m    733\u001b[0m     \u001b[0mcheck_consistent_length\u001b[0m\u001b[0;34m(\u001b[0m\u001b[0my_true\u001b[0m\u001b[0;34m,\u001b[0m \u001b[0my_score\u001b[0m\u001b[0;34m,\u001b[0m \u001b[0msample_weight\u001b[0m\u001b[0;34m)\u001b[0m\u001b[0;34m\u001b[0m\u001b[0;34m\u001b[0m\u001b[0m\n",
      "\u001b[0;31mValueError\u001b[0m: multiclass format is not supported"
     ]
    }
   ],
   "source": [
    "fpr,tpr,_ = roc_curve(Y_test,predictions)\n",
    "plt.plot(fpr,tpr)\n",
    "plt.xlabel('FPR')\n",
    "plt.ylabel('TPR')\n",
    "print(f'ROC AUC:{roc_auc_score(Y_test,test_pred)}')"
   ]
  },
  {
   "cell_type": "code",
   "execution_count": 18,
   "id": "5d8ad2cf-a283-4fb4-b66d-54671cbd1bc9",
   "metadata": {},
   "outputs": [
    {
     "data": {
      "text/plain": [
       "[Text(0.5, 1.0, 'Confusion Matrix'),\n",
       " Text(0.5, 15.0, 'Predicted'),\n",
       " Text(33.0, 0.5, 'Actual')]"
      ]
     },
     "execution_count": 18,
     "metadata": {},
     "output_type": "execute_result"
    },
    {
     "data": {
      "image/png": "[encoded data removed]",
      "text/plain": [
       "<Figure size 432x288 with 2 Axes>"
      ]
     },
     "metadata": {
      "needs_background": "light"
     },
     "output_type": "display_data"
    }
   ],
   "source": [
    "con_mat = confusion_matrix(Y_test, test_pred, labels =[0,1,2])/div_arr\n",
    "sns.heatmap(con_mat, annot=True, xticklabels=['ITG','TEM','both'], yticklabels=['ITG','TEM','both']).set(title='Confusion Matrix', xlabel='Predicted', ylabel='Actual')"
   ]
  },
  {
   "cell_type": "code",
   "execution_count": null,
   "id": "496a9d37-2203-4cd4-87d7-94b57a6b6a5d",
   "metadata": {},
   "outputs": [],
   "source": []
  }
 ],
 "metadata": {
  "kernelspec": {
   "display_name": "Python [conda env:UCL]",
   "language": "python",
   "name": "conda-env-UCL-py"
  },
  "language_info": {
   "codemirror_mode": {
    "name": "ipython",
    "version": 3
   },
   "file_extension": ".py",
   "mimetype": "text/x-python",
   "name": "python",
   "nbconvert_exporter": "python",
   "pygments_lexer": "ipython3",
   "version": "3.9.7"
  }
 },
 "nbformat": 4,
 "nbformat_minor": 5
}
