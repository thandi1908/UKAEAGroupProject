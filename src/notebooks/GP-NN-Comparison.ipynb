{
 "cells": [
  {
   "cell_type": "code",
   "execution_count": 1,
   "id": "7418bcc5",
   "metadata": {},
   "outputs": [],
   "source": [
    "import numpy as np\n",
    "import pandas as pd\n",
    "import matplotlib.pyplot as plt\n",
    "import seaborn as sns\n",
    "import glob\n",
    "import pickle\n",
    "\n",
    "import torch\n",
    "import torch.nn as nn\n",
    "import pytorch_lightning as pl\n",
    "from pytorch_lightning import Trainer\n",
    "from torch.utils.data import Dataset, DataLoader\n",
    "\n",
    "from scripts.utils import train_keys, target_keys\n",
    "from scripts.QLKNN import QLKNNDataset, QLKNNBig\n",
    "\n",
    "plt.style.use(\"default\")\n",
    "%matplotlib inline"
   ]
  },
  {
   "cell_type": "code",
   "execution_count": 2,
   "id": "2ca3004e",
   "metadata": {},
   "outputs": [],
   "source": [
    "gp_data = pd.read_pickle(\"/home/tmadula/submit/outputs/gp_outputs_1000.pkl\")"
   ]
  },
  {
   "cell_type": "code",
   "execution_count": null,
   "id": "f6cb4f6c",
   "metadata": {},
   "outputs": [],
   "source": [
    "!ls /share/rcifdata/jbarr/UKAEAGroupProject/logs/QLKNN-Regressor/"
   ]
  },
  {
   "cell_type": "code",
   "execution_count": 12,
   "id": "c18f0354",
   "metadata": {},
   "outputs": [],
   "source": [
    "test_data_path = \"/share/rcifdata/jbarr/UKAEAGroupProject/data/test_data_clipped.pkl\"\n",
    "train_data_path = \"/share/rcifdata/jbarr/UKAEAGroupProject/data/train_data_clipped.pkl\"\n",
    "\n",
    "predictions_list = {}\n",
    "\n",
    "for target in target_keys:\n",
    "    path = glob.glob(f\"/share/rcifdata/jbarr/UKAEAGroupProject/logs/QLKNN-Regressor/Run-6/Run-6-{target}/*.ckpt\")[0]\n",
    "    model = QLKNN.load_from_checkpoint(path, n_input = 15, batch_size = 2048, epochs = 25, learning_rate = 0.002)\n",
    "    \n",
    "    train_data = QLKNNDataset(test_data_path, columns = train_keys + [target], train = True)\n",
    "    train_data.scale()\n",
    "\n",
    "    test_data = QLKNNDataset(test_data_path, columns = train_keys + [target], train = False)\n",
    "    test_data.scale()\n",
    "\n",
    "    test_loader = DataLoader(test_data, batch_size = 2048, shuffle = True, num_workers = 1)\n",
    "    \n",
    "    y = test_data.data[target]\n",
    "    y = torch.tensor(y.values)\n",
    "    X = test_data.data[train_keys]\n",
    "    X = torch.tensor(X.values)\n",
    "    \n",
    "    predictions = model(X).detach().numpy()\n",
    "    predictions_list[target] = predictions"
   ]
  },
  {
   "cell_type": "code",
   "execution_count": null,
   "id": "5c386648",
   "metadata": {
    "scrolled": false
   },
   "outputs": [
    {
     "ename": "NameError",
     "evalue": "name 'target_keys' is not defined",
     "output_type": "error",
     "traceback": [
      "\u001b[0;31m---------------------------------------------------------------------------\u001b[0m",
      "\u001b[0;31mNameError\u001b[0m                                 Traceback (most recent call last)",
      "\u001b[0;32m/tmp/ipykernel_89549/1386204539.py\u001b[0m in \u001b[0;36m<module>\u001b[0;34m\u001b[0m\n\u001b[1;32m      1\u001b[0m \u001b[0;31m#idx = np.random.choice(len(test_data.data), 10_000, replace = False)\u001b[0m\u001b[0;34m\u001b[0m\u001b[0;34m\u001b[0m\u001b[0m\n\u001b[1;32m      2\u001b[0m \u001b[0;34m\u001b[0m\u001b[0m\n\u001b[0;32m----> 3\u001b[0;31m \u001b[0;32mfor\u001b[0m \u001b[0mtarget\u001b[0m \u001b[0;32min\u001b[0m \u001b[0mtarget_keys\u001b[0m\u001b[0;34m:\u001b[0m\u001b[0;34m\u001b[0m\u001b[0;34m\u001b[0m\u001b[0m\n\u001b[0m\u001b[1;32m      4\u001b[0m \u001b[0;34m\u001b[0m\u001b[0m\n\u001b[1;32m      5\u001b[0m     \u001b[0mtrain_data\u001b[0m \u001b[0;34m=\u001b[0m \u001b[0mQLKNNDataset\u001b[0m\u001b[0;34m(\u001b[0m\u001b[0mtest_data_path\u001b[0m\u001b[0;34m,\u001b[0m \u001b[0mcolumns\u001b[0m \u001b[0;34m=\u001b[0m \u001b[0mtrain_keys\u001b[0m \u001b[0;34m+\u001b[0m \u001b[0;34m[\u001b[0m\u001b[0mtarget\u001b[0m\u001b[0;34m]\u001b[0m\u001b[0;34m,\u001b[0m \u001b[0mtrain\u001b[0m \u001b[0;34m=\u001b[0m \u001b[0;32mTrue\u001b[0m\u001b[0;34m)\u001b[0m\u001b[0;34m\u001b[0m\u001b[0;34m\u001b[0m\u001b[0m\n",
      "\u001b[0;31mNameError\u001b[0m: name 'target_keys' is not defined"
     ]
    }
   ],
   "source": [
    "#idx = np.random.choice(len(test_data.data), 10_000, replace = False)\n",
    "\n",
    "for target in target_keys:\n",
    "    \n",
    "    train_data = QLKNNDataset(test_data_path, columns = train_keys + [target], train = True)\n",
    "    train_data.scale()\n",
    "    \n",
    "    test_data = QLKNNDataset(test_data_path, columns =  train_keys + [target], train = False)\n",
    "    test_data.scale()  \n",
    "    \n",
    "    plt.figure()\n",
    "    \n",
    "    x_ = np.linspace(test_data.data[target].min(), test_data.data[target].max(), 100)\n",
    "    \n",
    "    plt.plot(test_data.data[target], predictions_list[target], \"o\", color = 'forestgreen')\n",
    "    plt.plot(x_, x_, \"--\", color = 'black')\n",
    "    \n",
    "    plt.xlabel('Ground Truth Value', fontsize = 12)\n",
    "    plt.ylabel('Predicted Value', fontsize = 12)\n",
    "    plt.title(target, fontsize = 14)"
   ]
  },
  {
   "cell_type": "code",
   "execution_count": null,
   "id": "b0fb84b7",
   "metadata": {
    "scrolled": false
   },
   "outputs": [],
   "source": [
    "for target in target_keys:\n",
    "    \n",
    "        \n",
    "    train_data = QLKNNDataset(test_data_path, columns = train_keys + [target], train = True)\n",
    "    train_data.scale()\n",
    "    \n",
    "    test_data = QLKNNDataset(test_data_path, columns =  train_keys + [target], train = False)\n",
    "    #test_data.data = test_data.data.iloc[idx]\n",
    "    \n",
    "    test_data.scale()  \n",
    "    \n",
    "    plt.figure()\n",
    "    x_ = np.linspace(test_data.data[target].min(), test_data.data[target].max(), 100)\n",
    "    \n",
    "    plt.plot(test_data.data[target], x[target][\"means\"], \"o\")\n",
    "    plt.plot(x_, x_, \"--\")\n",
    "    \n",
    "    plt.xlabel(target)"
   ]
  },
  {
   "cell_type": "code",
   "execution_count": null,
   "id": "7e79ef3b",
   "metadata": {},
   "outputs": [],
   "source": []
  }
 ],
 "metadata": {
  "kernelspec": {
   "display_name": "Python 3 (ipykernel)",
   "language": "python",
   "name": "python3"
  },
  "language_info": {
   "codemirror_mode": {
    "name": "ipython",
    "version": 3
   },
   "file_extension": ".py",
   "mimetype": "text/x-python",
   "name": "python",
   "nbconvert_exporter": "python",
   "pygments_lexer": "ipython3",
   "version": "3.9.0"
  }
 },
 "nbformat": 4,
 "nbformat_minor": 5
}
