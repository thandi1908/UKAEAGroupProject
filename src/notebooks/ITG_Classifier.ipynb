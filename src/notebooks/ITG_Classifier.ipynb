{
 "cells": [
  {
   "cell_type": "code",
   "execution_count": 1,
   "id": "d8a36cf0",
   "metadata": {},
   "outputs": [],
   "source": [
    "import numpy as np \n",
    "import pandas as pd\n",
    "import h5py as h5\n",
    "import seaborn as sns\n",
    "import tensorflow as tf\n",
    "import sys\n",
    "\n",
    "from sklearn.utils import resample\n",
    "from sklearn.preprocessing import StandardScaler\n",
    "from sklearn.metrics import confusion_matrix\n",
    "from sklearn.metrics import f1_score\n",
    "\n",
    "import pickle\n",
    "import matplotlib.pyplot as plt\n",
    "\n",
    "from torch.utils.data import Dataset, DataLoader\n",
    "import torch\n",
    "from tqdm.auto import tqdm"
   ]
  },
  {
   "cell_type": "code",
   "execution_count": 2,
   "id": "1e0a57ac",
   "metadata": {},
   "outputs": [
    {
     "name": "stderr",
     "output_type": "stream",
     "text": [
      "/home/tmadula/.conda/envs/UKAEA/lib/python3.9/site-packages/tensorflow_addons/utils/ensure_tf_install.py:53: UserWarning: Tensorflow Addons supports using Python ops for all Tensorflow versions above or equal to 2.6.0 and strictly below 2.9.0 (nightly versions are not supported). \n",
      " The versions of TensorFlow you are currently using is 2.4.1 and is not supported. \n",
      "Some things might work, some things might not.\n",
      "If you were to encounter a bug, do not file an issue.\n",
      "If you want to make sure you're using a tested and supported configuration, either change the TensorFlow version or the TensorFlow Addons's version. \n",
      "You can find the compatibility matrix in TensorFlow Addon's readme:\n",
      "https://github.com/tensorflow/addons\n",
      "  warnings.warn(\n"
     ]
    }
   ],
   "source": [
    "import tensorflow_addons as tfa"
   ]
  },
  {
   "cell_type": "code",
   "execution_count": 3,
   "id": "438fbbbf",
   "metadata": {},
   "outputs": [
    {
     "name": "stdout",
     "output_type": "stream",
     "text": [
      "GPU device: 0\n"
     ]
    }
   ],
   "source": [
    "# do we have a gpu \n",
    "gpu = torch.cuda.is_available()\n",
    "\n",
    "if gpu:\n",
    "    device = torch.cuda.current_device()\n",
    "    print(f'GPU device: {device}')\n",
    "else: \n",
    "    print('No GPU')\n"
   ]
  },
  {
   "cell_type": "markdown",
   "id": "b962801c",
   "metadata": {},
   "source": [
    "## Data Prep"
   ]
  },
  {
   "cell_type": "code",
   "execution_count": 4,
   "id": "92adda46",
   "metadata": {},
   "outputs": [],
   "source": [
    "train_data = pd.read_pickle(\"/share/rcifdata/jbarr/UKAEAGroupProject/data/train_data_clipped.pkl\")\n",
    "validation_data = pd.read_pickle(\"/share/rcifdata/jbarr/UKAEAGroupProject/data/valid_data_clipped.pkl\")"
   ]
  },
  {
   "cell_type": "code",
   "execution_count": 5,
   "id": "a2582525",
   "metadata": {},
   "outputs": [],
   "source": [
    "keep_keys = ['ane', 'ate', 'autor', 'zeff', 'gammae', \n",
    "              'q', 'smag', 'alpha', 'ani1', 'ati0', 'ti_te0', 'x', 'normni1', 'machtor', 'lognustar', 'efiitg_gb']"
   ]
  },
  {
   "cell_type": "code",
   "execution_count": 6,
   "id": "5fc7d716",
   "metadata": {},
   "outputs": [],
   "source": [
    "train_data = train_data[keep_keys]\n",
    "validation_data = validation_data[keep_keys]\n",
    "\n",
    "nt, nv = train_data.shape[0], validation_data.shape[0]\n",
    "nt_nan, nv_nan =  train_data['efiitg_gb'].isna().sum(), validation_data['efiitg_gb'].isna().sum()\n",
    "\n",
    "train_data = train_data.dropna()\n",
    "validation_data = validation_data.dropna()\n",
    "\n",
    "assert train_data.shape[0] + nt_nan == nt\n",
    "assert validation_data.shape[0] + nv_nan == nv\n",
    "\n",
    "train_data['efiitg_gb'].loc[train_data['efiitg_gb'] != 0] = 1\n",
    "\n",
    "validation_data['efiitg_gb'].loc[validation_data['efiitg_gb'] != 0] = 1\n",
    "\n",
    "assert len(train_data['efiitg_gb'].unique()) == 2\n",
    "assert len(validation_data['efiitg_gb'].unique()) == 2\n",
    "\n",
    "# train_data = train_data.reset_index(drop=True)\n",
    "# validation_data = validation_data.reset_index(drop=True);"
   ]
  },
  {
   "cell_type": "code",
   "execution_count": 7,
   "id": "2067c195",
   "metadata": {},
   "outputs": [],
   "source": [
    "# # Sort out class imbalances\n",
    "# train_majority = train_data[train_data['efiitg_gb'] == 0]\n",
    "# train_minority = train_data[train_data['efiitg_gb'] == 1]\n",
    "\n",
    "# n_minority = train_minority.shape[0]\n",
    "\n",
    "# # Downsample majority class\n",
    "# train_maj_ds = resample(train_majority, \n",
    "#                                  replace=False,    # sample without replacement\n",
    "#                                  n_samples=n_minority,     # to match minority class\n",
    "#                                  random_state=123)     # reproducible results\n",
    "\n",
    "# # Combine minority class with downsampled majority class\n",
    "# df_downsampled = pd.concat([train_maj_ds, train_minority])"
   ]
  },
  {
   "cell_type": "code",
   "execution_count": 8,
   "id": "4c826e3c",
   "metadata": {},
   "outputs": [],
   "source": [
    "# df_downsampled.efiitg_gb.value_counts()"
   ]
  },
  {
   "cell_type": "code",
   "execution_count": 9,
   "id": "f98fce7c",
   "metadata": {},
   "outputs": [],
   "source": [
    "# split the data into inputs and output\n",
    "# x_train, y_train = train_data.iloc[:,:-1].to_numpy(), train_data.iloc[:,-1].to_numpy()\n",
    "x_train, y_train = train_data.iloc[:,:-1].to_numpy(), train_data.iloc[:,-1].to_numpy()\n",
    "x_val, y_val = validation_data.iloc[:,:-1].to_numpy(), validation_data.iloc[:,-1].to_numpy()"
   ]
  },
  {
   "cell_type": "code",
   "execution_count": 10,
   "id": "a69e54ce",
   "metadata": {},
   "outputs": [],
   "source": [
    "# standard scaler\n",
    "scaler = StandardScaler()\n",
    "scaler.fit(x_train)\n",
    "x_train = scaler.transform(x_train)\n",
    "x_val = scaler.transform (x_val)"
   ]
  },
  {
   "cell_type": "markdown",
   "id": "1c646e7f",
   "metadata": {},
   "source": [
    "## Classifier (tensorflow implementation)"
   ]
  },
  {
   "cell_type": "code",
   "execution_count": 48,
   "id": "8d030aa8",
   "metadata": {},
   "outputs": [],
   "source": [
    "def nn_classifier():\n",
    "    model = tf.keras.Sequential([\n",
    "    tf.keras.layers.Dense(30, activation = 'relu'),\n",
    "#     tf.keras.layers.Dropout(0.1),\n",
    "    tf.keras.layers.Dense(30, activation = 'relu'),\n",
    "#     tf.keras.layers.Dropout(0.1),\n",
    "    tf.keras.layers.Dense(30, activation = 'relu'),\n",
    "#     tf.keras.layers.Dropout(0.1),\n",
    "    tf.keras.layers.Dense(1, activation = 'sigmoid')   \n",
    "    ])\n",
    "    return model"
   ]
  },
  {
   "cell_type": "code",
   "execution_count": 19,
   "id": "1e1dd3e8",
   "metadata": {},
   "outputs": [
    {
     "name": "stderr",
     "output_type": "stream",
     "text": [
      "2022-02-19 16:07:15.950517: I tensorflow/compiler/jit/xla_cpu_device.cc:41] Not creating XLA devices, tf_xla_enable_xla_devices not set\n",
      "2022-02-19 16:07:15.950925: I tensorflow/core/platform/cpu_feature_guard.cc:142] This TensorFlow binary is optimized with oneAPI Deep Neural Network Library (oneDNN) to use the following CPU instructions in performance-critical operations:  SSE4.1 SSE4.2 AVX AVX2 AVX512F FMA\n",
      "To enable them in other operations, rebuild TensorFlow with the appropriate compiler flags.\n",
      "2022-02-19 16:07:15.951021: I tensorflow/core/common_runtime/process_util.cc:146] Creating new thread pool with default inter op setting: 2. Tune using inter_op_parallelism_threads for best performance.\n"
     ]
    }
   ],
   "source": [
    "model = nn_classifier()"
   ]
  },
  {
   "cell_type": "code",
   "execution_count": 20,
   "id": "c76e1b5a",
   "metadata": {},
   "outputs": [],
   "source": [
    "f1 = tfa.metrics.F1Score(num_classes=1, threshold=0.5)"
   ]
  },
  {
   "cell_type": "code",
   "execution_count": 21,
   "id": "aebd5165",
   "metadata": {},
   "outputs": [],
   "source": [
    "model.compile(optimizer = 'adam', loss ='binary_crossentropy', metrics = ['acc', f1])\n",
    "stop_early = tf.keras.callbacks.EarlyStopping(monitor='val_f1_score', patience=5, mode ='max')"
   ]
  },
  {
   "cell_type": "code",
   "execution_count": 22,
   "id": "30585521",
   "metadata": {},
   "outputs": [
    {
     "name": "stderr",
     "output_type": "stream",
     "text": [
      "2022-02-19 16:07:18.089351: I tensorflow/compiler/mlir/mlir_graph_optimization_pass.cc:116] None of the MLIR optimization passes are enabled (registered 2)\n",
      "2022-02-19 16:07:18.090171: I tensorflow/core/platform/profile_utils/cpu_utils.cc:112] CPU Frequency: 2200000000 Hz\n"
     ]
    },
    {
     "name": "stdout",
     "output_type": "stream",
     "text": [
      "Epoch 1/80\n",
      "4315/4315 [==============================] - 59s 13ms/step - loss: 0.2025 - acc: 0.9120 - f1_score: 0.8196 - val_loss: 0.1122 - val_acc: 0.9531 - val_f1_score: 0.9094\n",
      "Epoch 2/80\n",
      "4315/4315 [==============================] - 48s 11ms/step - loss: 0.1262 - acc: 0.9474 - f1_score: 0.8991 - val_loss: 0.1059 - val_acc: 0.9561 - val_f1_score: 0.9159\n",
      "Epoch 3/80\n",
      "4315/4315 [==============================] - 49s 11ms/step - loss: 0.1206 - acc: 0.9500 - f1_score: 0.9044 - val_loss: 0.1036 - val_acc: 0.9572 - val_f1_score: 0.9184\n",
      "Epoch 4/80\n",
      "4315/4315 [==============================] - 48s 11ms/step - loss: 0.1185 - acc: 0.9511 - f1_score: 0.9065 - val_loss: 0.1018 - val_acc: 0.9580 - val_f1_score: 0.9201\n",
      "Epoch 5/80\n",
      "4315/4315 [==============================] - 49s 11ms/step - loss: 0.1174 - acc: 0.9515 - f1_score: 0.9074 - val_loss: 0.1018 - val_acc: 0.9581 - val_f1_score: 0.9204\n",
      "Epoch 6/80\n",
      "4315/4315 [==============================] - 48s 11ms/step - loss: 0.1169 - acc: 0.9517 - f1_score: 0.9078 - val_loss: 0.1020 - val_acc: 0.9581 - val_f1_score: 0.9207\n",
      "Epoch 7/80\n",
      "4315/4315 [==============================] - 49s 11ms/step - loss: 0.1162 - acc: 0.9520 - f1_score: 0.9083 - val_loss: 0.1011 - val_acc: 0.9584 - val_f1_score: 0.9211\n",
      "Epoch 8/80\n",
      "4315/4315 [==============================] - 49s 11ms/step - loss: 0.1161 - acc: 0.9521 - f1_score: 0.9085 - val_loss: 0.1011 - val_acc: 0.9584 - val_f1_score: 0.9213\n",
      "Epoch 9/80\n",
      "4315/4315 [==============================] - 48s 11ms/step - loss: 0.1157 - acc: 0.9522 - f1_score: 0.9087 - val_loss: 0.1007 - val_acc: 0.9588 - val_f1_score: 0.9214\n",
      "Epoch 10/80\n",
      "4315/4315 [==============================] - 48s 11ms/step - loss: 0.1154 - acc: 0.9524 - f1_score: 0.9090 - val_loss: 0.1004 - val_acc: 0.9588 - val_f1_score: 0.9216\n",
      "Epoch 11/80\n",
      "4315/4315 [==============================] - 49s 11ms/step - loss: 0.1153 - acc: 0.9524 - f1_score: 0.9091 - val_loss: 0.1006 - val_acc: 0.9588 - val_f1_score: 0.9216\n",
      "Epoch 12/80\n",
      "4315/4315 [==============================] - 49s 11ms/step - loss: 0.1151 - acc: 0.9525 - f1_score: 0.9093 - val_loss: 0.1001 - val_acc: 0.9589 - val_f1_score: 0.9217\n",
      "Epoch 13/80\n",
      "4315/4315 [==============================] - 49s 11ms/step - loss: 0.1150 - acc: 0.9525 - f1_score: 0.9093 - val_loss: 0.1000 - val_acc: 0.9590 - val_f1_score: 0.9220\n",
      "Epoch 14/80\n",
      "4315/4315 [==============================] - 49s 11ms/step - loss: 0.1148 - acc: 0.9525 - f1_score: 0.9093 - val_loss: 0.1008 - val_acc: 0.9589 - val_f1_score: 0.9223\n",
      "Epoch 15/80\n",
      "4315/4315 [==============================] - 49s 11ms/step - loss: 0.1149 - acc: 0.9526 - f1_score: 0.9096 - val_loss: 0.1002 - val_acc: 0.9590 - val_f1_score: 0.9221\n",
      "Epoch 16/80\n",
      "4315/4315 [==============================] - 49s 11ms/step - loss: 0.1147 - acc: 0.9527 - f1_score: 0.9095 - val_loss: 0.1000 - val_acc: 0.9591 - val_f1_score: 0.9223\n",
      "Epoch 17/80\n",
      "4315/4315 [==============================] - 49s 11ms/step - loss: 0.1149 - acc: 0.9525 - f1_score: 0.9094 - val_loss: 0.1003 - val_acc: 0.9588 - val_f1_score: 0.9215\n",
      "Epoch 18/80\n",
      "4315/4315 [==============================] - 48s 11ms/step - loss: 0.1147 - acc: 0.9527 - f1_score: 0.9096 - val_loss: 0.1001 - val_acc: 0.9589 - val_f1_score: 0.9220\n",
      "Epoch 19/80\n",
      "4315/4315 [==============================] - 48s 11ms/step - loss: 0.1144 - acc: 0.9527 - f1_score: 0.9098 - val_loss: 0.1000 - val_acc: 0.9591 - val_f1_score: 0.9221\n",
      "Epoch 20/80\n",
      "4315/4315 [==============================] - 49s 11ms/step - loss: 0.1144 - acc: 0.9527 - f1_score: 0.9099 - val_loss: 0.1000 - val_acc: 0.9592 - val_f1_score: 0.9226\n",
      "Epoch 21/80\n",
      "4315/4315 [==============================] - 49s 11ms/step - loss: 0.1145 - acc: 0.9527 - f1_score: 0.9098 - val_loss: 0.0996 - val_acc: 0.9592 - val_f1_score: 0.9222\n",
      "Epoch 22/80\n",
      "4315/4315 [==============================] - 49s 11ms/step - loss: 0.1145 - acc: 0.9527 - f1_score: 0.9096 - val_loss: 0.0998 - val_acc: 0.9591 - val_f1_score: 0.9223\n",
      "Epoch 23/80\n",
      "4315/4315 [==============================] - 49s 11ms/step - loss: 0.1143 - acc: 0.9528 - f1_score: 0.9099 - val_loss: 0.0999 - val_acc: 0.9589 - val_f1_score: 0.9221\n",
      "Epoch 24/80\n",
      "4315/4315 [==============================] - 49s 11ms/step - loss: 0.1142 - acc: 0.9528 - f1_score: 0.9101 - val_loss: 0.0996 - val_acc: 0.9593 - val_f1_score: 0.9224\n",
      "Epoch 25/80\n",
      "4315/4315 [==============================] - 49s 11ms/step - loss: 0.1141 - acc: 0.9528 - f1_score: 0.9099 - val_loss: 0.1000 - val_acc: 0.9592 - val_f1_score: 0.9224\n"
     ]
    }
   ],
   "source": [
    "history = model.fit(x_train, y_train, validation_data = (x_val, y_val), batch_size = 4096, epochs =80, callbacks=[stop_early], shuffle = True)"
   ]
  },
  {
   "cell_type": "code",
   "execution_count": 47,
   "id": "44e638ed",
   "metadata": {},
   "outputs": [
    {
     "data": {
      "text/plain": [
       "<matplotlib.legend.Legend at 0x7f26b71e9bb0>"
      ]
     },
     "execution_count": 47,
     "metadata": {},
     "output_type": "execute_result"
    },
    {
     "data": {
      "image/png": "[encoded data removed]",
      "text/plain": [
       "<Figure size 432x288 with 1 Axes>"
      ]
     },
     "metadata": {
      "needs_background": "light"
     },
     "output_type": "display_data"
    }
   ],
   "source": [
    "plt.figure()\n",
    "plt.plot(history.history['loss'], '.', label = 'training')\n",
    "plt.plot(history.history['val_loss'], '.',label = 'validation' )\n",
    "plt.xlabel('Epochs');\n",
    "plt.ylabel('Loss');\n",
    "plt.legend()"
   ]
  },
  {
   "cell_type": "code",
   "execution_count": 46,
   "id": "922d971d",
   "metadata": {},
   "outputs": [
    {
     "data": {
      "text/plain": [
       "<matplotlib.legend.Legend at 0x7f26b7404d00>"
      ]
     },
     "execution_count": 46,
     "metadata": {},
     "output_type": "execute_result"
    },
    {
     "data": {
      "image/png": "[encoded data removed]",
      "text/plain": [
       "<Figure size 432x288 with 1 Axes>"
      ]
     },
     "metadata": {
      "needs_background": "light"
     },
     "output_type": "display_data"
    }
   ],
   "source": [
    "plt.figure()\n",
    "plt.plot(history.history['acc'], '.', label = 'training')\n",
    "plt.plot(history.history['val_acc'], '.', label = 'validation')\n",
    "plt.xlabel('Epochs');\n",
    "plt.ylabel(\"Accuracy\");\n",
    "plt.legend()"
   ]
  },
  {
   "cell_type": "code",
   "execution_count": 34,
   "id": "45157b97",
   "metadata": {},
   "outputs": [
    {
     "data": {
      "text/plain": [
       "Text(0, 0.5, 'F1 Score')"
      ]
     },
     "execution_count": 34,
     "metadata": {},
     "output_type": "execute_result"
    },
    {
     "data": {
      "image/png": "[encoded data removed]",
      "text/plain": [
       "<Figure size 432x288 with 1 Axes>"
      ]
     },
     "metadata": {
      "needs_background": "light"
     },
     "output_type": "display_data"
    }
   ],
   "source": [
    "plt.figure()\n",
    "plt.plot(history.history['f1_score'], '.')\n",
    "plt.plot(history.history['val_f1_score'], '.')\n",
    "plt.xlabel('Epochs');\n",
    "plt.ylabel(\"F1 Score\")"
   ]
  },
  {
   "cell_type": "code",
   "execution_count": 39,
   "id": "02ae3fee",
   "metadata": {},
   "outputs": [],
   "source": [
    "from sklearn.metrics import roc_curve\n",
    "from sklearn.metrics import roc_auc_score"
   ]
  },
  {
   "cell_type": "code",
   "execution_count": 35,
   "id": "a6543481",
   "metadata": {},
   "outputs": [],
   "source": [
    "test_data = pd.read_pickle(\"/share/rcifdata/jbarr/UKAEAGroupProject/data/test_data_clipped.pkl\")"
   ]
  },
  {
   "cell_type": "code",
   "execution_count": 36,
   "id": "41abc33e",
   "metadata": {},
   "outputs": [],
   "source": [
    "test_data = test_data[keep_keys]\n",
    "\n",
    "nt = test_data.shape[0]\n",
    "nt_nan =  test_data['efiitg_gb'].isna().sum()\n",
    "\n",
    "test_data = test_data.dropna()\n",
    "\n",
    "assert test_data.shape[0] + nt_nan == nt\n",
    "\n",
    "test_data['efiitg_gb'].loc[test_data['efiitg_gb'] != 0] = 1\n",
    "\n",
    "assert len(test_data['efiitg_gb'].unique()) == 2"
   ]
  },
  {
   "cell_type": "code",
   "execution_count": 37,
   "id": "1bebc4f6",
   "metadata": {},
   "outputs": [],
   "source": [
    "x_test, y_test = test_data.iloc[:,:-1].to_numpy(), test_data.iloc[:,-1].to_numpy()"
   ]
  },
  {
   "cell_type": "code",
   "execution_count": 38,
   "id": "e33a5a50",
   "metadata": {},
   "outputs": [],
   "source": [
    "x_test = scaler.transform(x_test)"
   ]
  },
  {
   "cell_type": "code",
   "execution_count": 40,
   "id": "ec9eb1fc",
   "metadata": {},
   "outputs": [],
   "source": [
    "predictions = model.predict(x_test)\n",
    "\n",
    "fpr, tpr, thresholds = roc_curve(y_test, predictions)"
   ]
  },
  {
   "cell_type": "code",
   "execution_count": 41,
   "id": "fa1c37cd",
   "metadata": {},
   "outputs": [],
   "source": [
    "auc = roc_auc_score(y_test, predictions)"
   ]
  },
  {
   "cell_type": "code",
   "execution_count": 42,
   "id": "86d20d3c",
   "metadata": {},
   "outputs": [
    {
     "data": {
      "text/plain": [
       "Text(0.8, 0.2, 'auc =  0.99')"
      ]
     },
     "execution_count": 42,
     "metadata": {},
     "output_type": "execute_result"
    },
    {
     "data": {
      "image/png": "[encoded data removed]",
      "text/plain": [
       "<Figure size 432x288 with 1 Axes>"
      ]
     },
     "metadata": {
      "needs_background": "light"
     },
     "output_type": "display_data"
    }
   ],
   "source": [
    "plt.figure()\n",
    "plt.plot(fpr, tpr)\n",
    "random_class = np.arange(0,1,0.005)\n",
    "plt.plot(random_class, random_class, '--')\n",
    "plt.xlabel('False Positive Rate')\n",
    "plt.ylabel('Flase Negative Rate')\n",
    "plt.text(0.8, 0.2, f'auc = {auc: .2f}', fontsize=10)"
   ]
  },
  {
   "cell_type": "code",
   "execution_count": 43,
   "id": "315ce625",
   "metadata": {},
   "outputs": [],
   "source": [
    "test_pred = np.where(predictions < 0.5, predictions, 1)\n",
    "test_pred = np.where(predictions >= 0.5, test_pred, 0)\n",
    "\n",
    "n_positive = np.where(y_test ==0)[0].shape[0]\n",
    "n_negative = np.where(y_test ==1)[0].shape[0]\n",
    "div_arr = np.array([[n_positive, n_negative]]).T"
   ]
  },
  {
   "cell_type": "code",
   "execution_count": 45,
   "id": "491a7fbe",
   "metadata": {},
   "outputs": [
    {
     "data": {
      "image/png": "[encoded data removed]",
      "text/plain": [
       "<Figure size 432x288 with 2 Axes>"
      ]
     },
     "metadata": {
      "needs_background": "light"
     },
     "output_type": "display_data"
    }
   ],
   "source": [
    "con_mat = confusion_matrix(y_test, test_pred, labels =[0,1])/div_arr\n",
    "sns.heatmap(con_mat, annot=True).set(title='Confusion Matrix', xlabel='Predicted', ylabel='Actual');"
   ]
  },
  {
   "cell_type": "markdown",
   "id": "4aff57a9",
   "metadata": {},
   "source": [
    "## Sanity check for val_loss > train_loss"
   ]
  },
  {
   "cell_type": "code",
   "execution_count": 53,
   "id": "f302fc51",
   "metadata": {},
   "outputs": [],
   "source": [
    "model2 = nn_classifier()"
   ]
  },
  {
   "cell_type": "code",
   "execution_count": 54,
   "id": "7ba86cd5",
   "metadata": {},
   "outputs": [],
   "source": [
    "f1 = tfa.metrics.F1Score(num_classes=1, threshold=0.5)\n",
    "model2.compile(optimizer = 'adam', loss ='binary_crossentropy', metrics = ['acc', f1])\n",
    "stop_early = tf.keras.callbacks.EarlyStopping(monitor='val_f1_score', patience=5, mode ='max')"
   ]
  },
  {
   "cell_type": "code",
   "execution_count": 55,
   "id": "7be7c767",
   "metadata": {},
   "outputs": [
    {
     "name": "stdout",
     "output_type": "stream",
     "text": [
      "Epoch 1/80\n",
      "4315/4315 [==============================] - 24s 5ms/step - loss: 0.1849 - acc: 0.9175 - f1_score: 0.8330 - val_loss: 0.1053 - val_acc: 0.9561 - val_f1_score: 0.9162\n",
      "Epoch 2/80\n",
      "4315/4315 [==============================] - 21s 5ms/step - loss: 0.1029 - acc: 0.9571 - f1_score: 0.9182 - val_loss: 0.0989 - val_acc: 0.9590 - val_f1_score: 0.9219\n",
      "Epoch 3/80\n",
      "4315/4315 [==============================] - 22s 5ms/step - loss: 0.0981 - acc: 0.9592 - f1_score: 0.9223 - val_loss: 0.0959 - val_acc: 0.9601 - val_f1_score: 0.9242\n",
      "Epoch 4/80\n",
      "4315/4315 [==============================] - 21s 5ms/step - loss: 0.0958 - acc: 0.9602 - f1_score: 0.9243 - val_loss: 0.0944 - val_acc: 0.9609 - val_f1_score: 0.9252\n",
      "Epoch 5/80\n",
      "4315/4315 [==============================] - 21s 5ms/step - loss: 0.0940 - acc: 0.9610 - f1_score: 0.9257 - val_loss: 0.0935 - val_acc: 0.9611 - val_f1_score: 0.9257\n",
      "Epoch 6/80\n",
      "4315/4315 [==============================] - 22s 5ms/step - loss: 0.0928 - acc: 0.9615 - f1_score: 0.9268 - val_loss: 0.0918 - val_acc: 0.9620 - val_f1_score: 0.9274\n",
      "Epoch 7/80\n",
      "4315/4315 [==============================] - 21s 5ms/step - loss: 0.0916 - acc: 0.9620 - f1_score: 0.9278 - val_loss: 0.0910 - val_acc: 0.9623 - val_f1_score: 0.9285\n",
      "Epoch 8/80\n",
      "4315/4315 [==============================] - 22s 5ms/step - loss: 0.0909 - acc: 0.9623 - f1_score: 0.9283 - val_loss: 0.0908 - val_acc: 0.9624 - val_f1_score: 0.9277\n",
      "Epoch 9/80\n",
      "4315/4315 [==============================] - 22s 5ms/step - loss: 0.0900 - acc: 0.9626 - f1_score: 0.9290 - val_loss: 0.0898 - val_acc: 0.9626 - val_f1_score: 0.9293\n",
      "Epoch 10/80\n",
      "4315/4315 [==============================] - 22s 5ms/step - loss: 0.0895 - acc: 0.9627 - f1_score: 0.9292 - val_loss: 0.0887 - val_acc: 0.9632 - val_f1_score: 0.9303\n",
      "Epoch 11/80\n",
      "4315/4315 [==============================] - 22s 5ms/step - loss: 0.0890 - acc: 0.9629 - f1_score: 0.9296 - val_loss: 0.0882 - val_acc: 0.9634 - val_f1_score: 0.9305\n",
      "Epoch 12/80\n",
      "4315/4315 [==============================] - 22s 5ms/step - loss: 0.0885 - acc: 0.9632 - f1_score: 0.9301 - val_loss: 0.0881 - val_acc: 0.9633 - val_f1_score: 0.9308\n",
      "Epoch 13/80\n",
      "4315/4315 [==============================] - 22s 5ms/step - loss: 0.0882 - acc: 0.9633 - f1_score: 0.9303 - val_loss: 0.0877 - val_acc: 0.9635 - val_f1_score: 0.9309\n",
      "Epoch 14/80\n",
      "4315/4315 [==============================] - 22s 5ms/step - loss: 0.0879 - acc: 0.9635 - f1_score: 0.9306 - val_loss: 0.0882 - val_acc: 0.9635 - val_f1_score: 0.9301\n",
      "Epoch 15/80\n",
      "4315/4315 [==============================] - 22s 5ms/step - loss: 0.0874 - acc: 0.9636 - f1_score: 0.9309 - val_loss: 0.0869 - val_acc: 0.9639 - val_f1_score: 0.9317\n",
      "Epoch 16/80\n",
      "4315/4315 [==============================] - 22s 5ms/step - loss: 0.0872 - acc: 0.9637 - f1_score: 0.9312 - val_loss: 0.0869 - val_acc: 0.9640 - val_f1_score: 0.9318\n",
      "Epoch 17/80\n",
      "4315/4315 [==============================] - 22s 5ms/step - loss: 0.0869 - acc: 0.9638 - f1_score: 0.9312 - val_loss: 0.0870 - val_acc: 0.9638 - val_f1_score: 0.9315\n",
      "Epoch 18/80\n",
      "4315/4315 [==============================] - 22s 5ms/step - loss: 0.0868 - acc: 0.9639 - f1_score: 0.9314 - val_loss: 0.0864 - val_acc: 0.9639 - val_f1_score: 0.9319\n",
      "Epoch 19/80\n",
      "4315/4315 [==============================] - 21s 5ms/step - loss: 0.0865 - acc: 0.9640 - f1_score: 0.9317 - val_loss: 0.0859 - val_acc: 0.9644 - val_f1_score: 0.9325\n",
      "Epoch 20/80\n",
      "4315/4315 [==============================] - 21s 5ms/step - loss: 0.0864 - acc: 0.9640 - f1_score: 0.9317 - val_loss: 0.0862 - val_acc: 0.9642 - val_f1_score: 0.9324\n",
      "Epoch 21/80\n",
      "4315/4315 [==============================] - 22s 5ms/step - loss: 0.0862 - acc: 0.9641 - f1_score: 0.9319 - val_loss: 0.0870 - val_acc: 0.9639 - val_f1_score: 0.9304\n",
      "Epoch 22/80\n",
      "4315/4315 [==============================] - 21s 5ms/step - loss: 0.0860 - acc: 0.9642 - f1_score: 0.9321 - val_loss: 0.0858 - val_acc: 0.9643 - val_f1_score: 0.9326\n",
      "Epoch 23/80\n",
      "4315/4315 [==============================] - 22s 5ms/step - loss: 0.0857 - acc: 0.9643 - f1_score: 0.9323 - val_loss: 0.0863 - val_acc: 0.9643 - val_f1_score: 0.9315\n",
      "Epoch 24/80\n",
      "4315/4315 [==============================] - 21s 5ms/step - loss: 0.0856 - acc: 0.9643 - f1_score: 0.9323 - val_loss: 0.0849 - val_acc: 0.9648 - val_f1_score: 0.9331\n",
      "Epoch 25/80\n",
      "4315/4315 [==============================] - 21s 5ms/step - loss: 0.0854 - acc: 0.9644 - f1_score: 0.9325 - val_loss: 0.0851 - val_acc: 0.9648 - val_f1_score: 0.9329\n",
      "Epoch 26/80\n",
      "4315/4315 [==============================] - 21s 5ms/step - loss: 0.0853 - acc: 0.9645 - f1_score: 0.9328 - val_loss: 0.0849 - val_acc: 0.9648 - val_f1_score: 0.9328\n",
      "Epoch 27/80\n",
      "4315/4315 [==============================] - 21s 5ms/step - loss: 0.0852 - acc: 0.9646 - f1_score: 0.9328 - val_loss: 0.0851 - val_acc: 0.9647 - val_f1_score: 0.9325\n",
      "Epoch 28/80\n",
      "4315/4315 [==============================] - 22s 5ms/step - loss: 0.0849 - acc: 0.9647 - f1_score: 0.9330 - val_loss: 0.0849 - val_acc: 0.9648 - val_f1_score: 0.9335\n",
      "Epoch 29/80\n",
      "4315/4315 [==============================] - 22s 5ms/step - loss: 0.0848 - acc: 0.9647 - f1_score: 0.9330 - val_loss: 0.0848 - val_acc: 0.9649 - val_f1_score: 0.9333\n",
      "Epoch 30/80\n",
      "4315/4315 [==============================] - 22s 5ms/step - loss: 0.0847 - acc: 0.9647 - f1_score: 0.9331 - val_loss: 0.0843 - val_acc: 0.9650 - val_f1_score: 0.9335\n",
      "Epoch 31/80\n",
      "4315/4315 [==============================] - 21s 5ms/step - loss: 0.0847 - acc: 0.9648 - f1_score: 0.9331 - val_loss: 0.0844 - val_acc: 0.9651 - val_f1_score: 0.9336\n",
      "Epoch 32/80\n",
      "4315/4315 [==============================] - 22s 5ms/step - loss: 0.0844 - acc: 0.9649 - f1_score: 0.9334 - val_loss: 0.0839 - val_acc: 0.9653 - val_f1_score: 0.9342\n",
      "Epoch 33/80\n",
      "4315/4315 [==============================] - 22s 5ms/step - loss: 0.0844 - acc: 0.9648 - f1_score: 0.9333 - val_loss: 0.0850 - val_acc: 0.9648 - val_f1_score: 0.9327\n",
      "Epoch 34/80\n",
      "4315/4315 [==============================] - 22s 5ms/step - loss: 0.0842 - acc: 0.9650 - f1_score: 0.9335 - val_loss: 0.0849 - val_acc: 0.9646 - val_f1_score: 0.9337\n",
      "Epoch 35/80\n",
      "4315/4315 [==============================] - 22s 5ms/step - loss: 0.0841 - acc: 0.9650 - f1_score: 0.9336 - val_loss: 0.0869 - val_acc: 0.9637 - val_f1_score: 0.9325\n",
      "Epoch 36/80\n",
      "4315/4315 [==============================] - 22s 5ms/step - loss: 0.0840 - acc: 0.9650 - f1_score: 0.9336 - val_loss: 0.0838 - val_acc: 0.9652 - val_f1_score: 0.9343\n",
      "Epoch 37/80\n",
      "4315/4315 [==============================] - 22s 5ms/step - loss: 0.0840 - acc: 0.9650 - f1_score: 0.9337 - val_loss: 0.0838 - val_acc: 0.9653 - val_f1_score: 0.9338\n",
      "Epoch 38/80\n",
      "4315/4315 [==============================] - 22s 5ms/step - loss: 0.0839 - acc: 0.9651 - f1_score: 0.9338 - val_loss: 0.0837 - val_acc: 0.9653 - val_f1_score: 0.9341\n",
      "Epoch 39/80\n",
      "4315/4315 [==============================] - 22s 5ms/step - loss: 0.0840 - acc: 0.9650 - f1_score: 0.9336 - val_loss: 0.0833 - val_acc: 0.9655 - val_f1_score: 0.9344\n",
      "Epoch 40/80\n",
      "4315/4315 [==============================] - 22s 5ms/step - loss: 0.0836 - acc: 0.9652 - f1_score: 0.9339 - val_loss: 0.0840 - val_acc: 0.9653 - val_f1_score: 0.9338\n",
      "Epoch 41/80\n",
      "4315/4315 [==============================] - 22s 5ms/step - loss: 0.0836 - acc: 0.9652 - f1_score: 0.9341 - val_loss: 0.0836 - val_acc: 0.9654 - val_f1_score: 0.9341\n",
      "Epoch 42/80\n",
      "4315/4315 [==============================] - 21s 5ms/step - loss: 0.0836 - acc: 0.9653 - f1_score: 0.9341 - val_loss: 0.0835 - val_acc: 0.9654 - val_f1_score: 0.9346\n",
      "Epoch 43/80\n",
      "4315/4315 [==============================] - 21s 5ms/step - loss: 0.0835 - acc: 0.9652 - f1_score: 0.9341 - val_loss: 0.0836 - val_acc: 0.9653 - val_f1_score: 0.9345\n",
      "Epoch 44/80\n",
      "4315/4315 [==============================] - 22s 5ms/step - loss: 0.0836 - acc: 0.9653 - f1_score: 0.9340 - val_loss: 0.0834 - val_acc: 0.9654 - val_f1_score: 0.9343\n",
      "Epoch 45/80\n",
      "4315/4315 [==============================] - 22s 5ms/step - loss: 0.0834 - acc: 0.9653 - f1_score: 0.9343 - val_loss: 0.0835 - val_acc: 0.9654 - val_f1_score: 0.9343\n",
      "Epoch 46/80\n",
      "4315/4315 [==============================] - 21s 5ms/step - loss: 0.0833 - acc: 0.9654 - f1_score: 0.9343 - val_loss: 0.0832 - val_acc: 0.9655 - val_f1_score: 0.9345\n",
      "Epoch 47/80\n",
      "4315/4315 [==============================] - 21s 5ms/step - loss: 0.0832 - acc: 0.9654 - f1_score: 0.9344 - val_loss: 0.0835 - val_acc: 0.9654 - val_f1_score: 0.9344\n"
     ]
    }
   ],
   "source": [
    "history2 = model2.fit(x_train, y_train, validation_data = (x_val, y_val), batch_size = 4096, epochs =80, callbacks=[stop_early], shuffle = True)"
   ]
  },
  {
   "cell_type": "code",
   "execution_count": 56,
   "id": "cd596a78",
   "metadata": {},
   "outputs": [
    {
     "data": {
      "text/plain": [
       "<matplotlib.legend.Legend at 0x7f26b43ca280>"
      ]
     },
     "execution_count": 56,
     "metadata": {},
     "output_type": "execute_result"
    },
    {
     "data": {
      "image/png": "[encoded data removed]",
      "text/plain": [
       "<Figure size 432x288 with 1 Axes>"
      ]
     },
     "metadata": {
      "needs_background": "light"
     },
     "output_type": "display_data"
    }
   ],
   "source": [
    "plt.figure()\n",
    "plt.plot(history2.history['loss'], '.', label = 'training')\n",
    "plt.plot(history2.history['val_loss'], '.',label = 'validation' )\n",
    "plt.xlabel('Epochs');\n",
    "plt.ylabel('Loss');\n",
    "plt.legend()"
   ]
  },
  {
   "cell_type": "code",
   "execution_count": 57,
   "id": "0b836a82",
   "metadata": {},
   "outputs": [
    {
     "data": {
      "text/plain": [
       "<matplotlib.legend.Legend at 0x7f26b43a4550>"
      ]
     },
     "execution_count": 57,
     "metadata": {},
     "output_type": "execute_result"
    },
    {
     "data": {
      "image/png": "[encoded data removed]",
      "text/plain": [
       "<Figure size 432x288 with 1 Axes>"
      ]
     },
     "metadata": {
      "needs_background": "light"
     },
     "output_type": "display_data"
    }
   ],
   "source": [
    "plt.figure()\n",
    "plt.plot(history2.history['acc'], '.', label = 'training')\n",
    "plt.plot(history2.history['val_acc'], '.', label = 'validation')\n",
    "plt.xlabel('Epochs');\n",
    "plt.ylabel(\"Accuracy\");\n",
    "plt.legend()"
   ]
  },
  {
   "cell_type": "code",
   "execution_count": 58,
   "id": "afcb6207",
   "metadata": {},
   "outputs": [
    {
     "data": {
      "text/plain": [
       "Text(0, 0.5, 'F1 Score')"
      ]
     },
     "execution_count": 58,
     "metadata": {},
     "output_type": "execute_result"
    },
    {
     "data": {
      "image/png": "[encoded data removed]",
      "text/plain": [
       "<Figure size 432x288 with 1 Axes>"
      ]
     },
     "metadata": {
      "needs_background": "light"
     },
     "output_type": "display_data"
    }
   ],
   "source": [
    "plt.figure()\n",
    "plt.plot(history2.history['f1_score'], '.')\n",
    "plt.plot(history2.history['val_f1_score'], '.')\n",
    "plt.xlabel('Epochs');\n",
    "plt.ylabel(\"F1 Score\")"
   ]
  },
  {
   "cell_type": "code",
   "execution_count": null,
   "id": "9c57db97",
   "metadata": {},
   "outputs": [],
   "source": []
  }
 ],
 "metadata": {
  "kernelspec": {
   "display_name": "Python 3 (ipykernel)",
   "language": "python",
   "name": "python3"
  },
  "language_info": {
   "codemirror_mode": {
    "name": "ipython",
    "version": 3
   },
   "file_extension": ".py",
   "mimetype": "text/x-python",
   "name": "python",
   "nbconvert_exporter": "python",
   "pygments_lexer": "ipython3",
   "version": "3.9.7"
  }
 },
 "nbformat": 4,
 "nbformat_minor": 5
}
