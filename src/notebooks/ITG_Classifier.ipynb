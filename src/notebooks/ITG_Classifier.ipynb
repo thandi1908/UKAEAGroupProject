{
 "cells": [
  {
   "cell_type": "code",
   "execution_count": 1,
   "id": "d8a36cf0",
   "metadata": {},
   "outputs": [],
   "source": [
    "import numpy as np \n",
    "import pandas as pd\n",
    "import h5py as h5\n",
    "import seaborn as sns\n",
    "import tensorflow as tf\n",
    "import sys\n",
    "\n",
    "from sklearn.utils import resample\n",
    "from sklearn.preprocessing import StandardScaler\n",
    "from sklearn.metrics import confusion_matrix\n",
    "from sklearn.metrics import f1_score\n",
    "\n",
    "import pickle\n",
    "import matplotlib.pyplot as plt\n",
    "\n",
    "from torch.utils.data import Dataset, DataLoader\n",
    "import torch\n",
    "from tqdm.auto import tqdm"
   ]
  },
  {
   "cell_type": "code",
   "execution_count": 2,
   "id": "1e0a57ac",
   "metadata": {},
   "outputs": [],
   "source": [
    "import tensorflow_addons as tfa"
   ]
  },
  {
   "cell_type": "code",
   "execution_count": 3,
   "id": "438fbbbf",
   "metadata": {},
   "outputs": [
    {
     "name": "stdout",
     "output_type": "stream",
     "text": [
      "No GPU\n"
     ]
    }
   ],
   "source": [
    "# do we have a gpu \n",
    "gpu = torch.cuda.is_available()\n",
    "\n",
    "if gpu:\n",
    "    device = torch.cuda.current_device()\n",
    "    print(f'GPU device: {device}')\n",
    "else: \n",
    "    print('No GPU')\n"
   ]
  },
  {
   "cell_type": "markdown",
   "id": "b962801c",
   "metadata": {},
   "source": [
    "## Data Prep"
   ]
  },
  {
   "cell_type": "code",
   "execution_count": 4,
   "id": "92adda46",
   "metadata": {},
   "outputs": [],
   "source": [
    "train_data = pd.read_pickle(\"/share/rcifdata/jbarr/UKAEAGroupProject/data/train_data_clipped.pkl\")\n",
    "validation_data = pd.read_pickle(\"/share/rcifdata/jbarr/UKAEAGroupProject/data/valid_data_clipped.pkl\")"
   ]
  },
  {
   "cell_type": "code",
   "execution_count": 5,
   "id": "a2582525",
   "metadata": {},
   "outputs": [],
   "source": [
    "keep_keys = ['ane', 'ate', 'autor', 'zeff', 'gammae', \n",
    "              'q', 'smag', 'alpha', 'ani1', 'ati0', 'ti_te0', 'x', 'normni1', 'machtor', 'lognustar', 'efiitg_gb']"
   ]
  },
  {
   "cell_type": "code",
   "execution_count": 6,
   "id": "5fc7d716",
   "metadata": {},
   "outputs": [],
   "source": [
    "train_data = train_data[keep_keys]\n",
    "validation_data = validation_data[keep_keys]\n",
    "\n",
    "nt, nv = train_data.shape[0], validation_data.shape[0]\n",
    "nt_nan, nv_nan =  train_data['efiitg_gb'].isna().sum(), validation_data['efiitg_gb'].isna().sum()\n",
    "\n",
    "train_data = train_data.dropna()\n",
    "validation_data = validation_data.dropna()\n",
    "\n",
    "assert train_data.shape[0] + nt_nan == nt\n",
    "assert validation_data.shape[0] + nv_nan == nv\n",
    "\n",
    "train_data['efiitg_gb'].loc[train_data['efiitg_gb'] != 0] = 1\n",
    "\n",
    "validation_data['efiitg_gb'].loc[validation_data['efiitg_gb'] != 0] = 1\n",
    "\n",
    "assert len(train_data['efiitg_gb'].unique()) == 2\n",
    "assert len(validation_data['efiitg_gb'].unique()) == 2"
   ]
  },
  {
   "cell_type": "code",
   "execution_count": 7,
   "id": "f98fce7c",
   "metadata": {},
   "outputs": [],
   "source": [
    "x_train, y_train = train_data.iloc[:,:-1].to_numpy(), train_data.iloc[:,-1].to_numpy()\n",
    "x_val, y_val = validation_data.iloc[:,:-1].to_numpy(), validation_data.iloc[:,-1].to_numpy()"
   ]
  },
  {
   "cell_type": "code",
   "execution_count": 8,
   "id": "a69e54ce",
   "metadata": {},
   "outputs": [],
   "source": [
    "# standard scaler\n",
    "scaler = StandardScaler()\n",
    "scaler.fit(x_train)\n",
    "x_train = scaler.transform(x_train)\n",
    "x_val = scaler.transform (x_val)"
   ]
  },
  {
   "cell_type": "markdown",
   "id": "75e932c7",
   "metadata": {},
   "source": [
    "### Dealing with Class imbalance\n",
    "\n",
    "To deal with our class imbalance we will add sample weights to each class using the inverse number of samples"
   ]
  },
  {
   "cell_type": "code",
   "execution_count": 9,
   "id": "396b7d17",
   "metadata": {},
   "outputs": [],
   "source": [
    "def get_weights(num_of_classes: int, samples_per_class: np.ndarray, power: int =1): \n",
    "    weights_for_samples = 1/samples_per_class\n",
    "    weights_for_samples = weights_for_samples/np.sum(weights_for_samples)*num_of_classes\n",
    "    return weights_for_samples"
   ]
  },
  {
   "cell_type": "code",
   "execution_count": 10,
   "id": "102bb20d",
   "metadata": {},
   "outputs": [
    {
     "name": "stdout",
     "output_type": "stream",
     "text": [
      "N stable: 12951558, N unstable: 4719843\n"
     ]
    }
   ],
   "source": [
    "n_stable = len(y_train[y_train==0])\n",
    "n_nstable = len(y_train[y_train==1])\n",
    "\n",
    "print(f'N stable: {n_stable}, N unstable: {n_nstable}')\n",
    "\n",
    "w = get_weights(2,np.array([n_stable,n_nstable]))"
   ]
  },
  {
   "cell_type": "code",
   "execution_count": 11,
   "id": "e175cfc6",
   "metadata": {},
   "outputs": [],
   "source": [
    "w = get_weights(2,np.array([n_stable,n_nstable]))\n",
    "    \n",
    "class_weights = {0:w[0], 1:w[1]}"
   ]
  },
  {
   "cell_type": "code",
   "execution_count": 12,
   "id": "be1b5391",
   "metadata": {},
   "outputs": [],
   "source": [
    "y_train = tf.keras.utils.to_categorical(y_train, num_classes=2)\n",
    "y_val = tf.keras.utils.to_categorical(y_val, num_classes=2)"
   ]
  },
  {
   "cell_type": "markdown",
   "id": "1c646e7f",
   "metadata": {},
   "source": [
    "## Classifier (tensorflow implementation)"
   ]
  },
  {
   "cell_type": "code",
   "execution_count": 13,
   "id": "8d030aa8",
   "metadata": {},
   "outputs": [],
   "source": [
    "def nn_classifier():\n",
    "    model = tf.keras.Sequential([\n",
    "    tf.keras.layers.Dense(128, activation = 'relu'),\n",
    "    tf.keras.layers.Dropout(0.1),\n",
    "    tf.keras.layers.Dense(128, activation = 'relu'),\n",
    "    tf.keras.layers.Dropout(0.1),\n",
    "    tf.keras.layers.Dense(128, activation = 'relu'),\n",
    "    tf.keras.layers.Dropout(0.1),\n",
    "    tf.keras.layers.Dense(2, activation = 'softmax')   \n",
    "    ])\n",
    "    return model"
   ]
  },
  {
   "cell_type": "code",
   "execution_count": 14,
   "id": "f54f98a4",
   "metadata": {},
   "outputs": [
    {
     "name": "stdout",
     "output_type": "stream",
     "text": [
      "Num GPUs Available:  1\n"
     ]
    }
   ],
   "source": [
    "print(\"Num GPUs Available: \", len(tf.config.list_physical_devices('GPU')))"
   ]
  },
  {
   "cell_type": "code",
   "execution_count": 15,
   "id": "d155f105",
   "metadata": {},
   "outputs": [
    {
     "name": "stderr",
     "output_type": "stream",
     "text": [
      "2022-04-28 11:18:28.185784: I tensorflow/core/platform/cpu_feature_guard.cc:151] This TensorFlow binary is optimized with oneAPI Deep Neural Network Library (oneDNN) to use the following CPU instructions in performance-critical operations:  AVX2 AVX512F FMA\n",
      "To enable them in other operations, rebuild TensorFlow with the appropriate compiler flags.\n",
      "2022-04-28 11:18:28.969085: I tensorflow/core/common_runtime/gpu/gpu_device.cc:1525] Created device /job:localhost/replica:0/task:0/device:GPU:0 with 14639 MB memory:  -> device: 0, name: Tesla V100-PCIE-16GB, pci bus id: 0000:1b:00.0, compute capability: 7.0\n"
     ]
    }
   ],
   "source": [
    "model = nn_classifier()"
   ]
  },
  {
   "cell_type": "code",
   "execution_count": 16,
   "id": "091aa6e5",
   "metadata": {},
   "outputs": [],
   "source": [
    "train_shuffle = np.random.permutation(y_train.shape[0])\n",
    "valid_shuffle = np.random.permutation(y_val.shape[0])\n",
    "\n",
    "x_train, y_train = x_train[train_shuffle], y_train[train_shuffle]\n",
    "x_val, y_val = x_val[valid_shuffle], y_val[valid_shuffle]"
   ]
  },
  {
   "cell_type": "code",
   "execution_count": 17,
   "id": "368e6f32",
   "metadata": {},
   "outputs": [],
   "source": [
    "x_train_sample, y_train_sample = x_train, y_train"
   ]
  },
  {
   "cell_type": "code",
   "execution_count": 18,
   "id": "0bc3817d",
   "metadata": {},
   "outputs": [
    {
     "name": "stdout",
     "output_type": "stream",
     "text": [
      "Epoch 1/100\n",
      "4315/4315 [==============================] - 31s 6ms/step - loss: 0.1022 - acc: 0.9425 - f1_score: 0.9434 - val_loss: 0.0956 - val_acc: 0.9590 - val_f1_score: 0.9594\n",
      "Epoch 2/100\n",
      "4315/4315 [==============================] - 23s 5ms/step - loss: 0.0827 - acc: 0.9538 - f1_score: 0.9544 - val_loss: 0.0949 - val_acc: 0.9588 - val_f1_score: 0.9593\n",
      "Epoch 3/100\n",
      "4315/4315 [==============================] - 23s 5ms/step - loss: 0.0791 - acc: 0.9558 - f1_score: 0.9564 - val_loss: 0.0876 - val_acc: 0.9622 - val_f1_score: 0.9626\n",
      "Epoch 4/100\n",
      "4315/4315 [==============================] - 23s 5ms/step - loss: 0.0772 - acc: 0.9569 - f1_score: 0.9574 - val_loss: 0.0877 - val_acc: 0.9620 - val_f1_score: 0.9624\n",
      "Epoch 5/100\n",
      "4315/4315 [==============================] - 24s 5ms/step - loss: 0.0759 - acc: 0.9576 - f1_score: 0.9581 - val_loss: 0.0841 - val_acc: 0.9638 - val_f1_score: 0.9641\n",
      "Epoch 6/100\n",
      "4315/4315 [==============================] - 23s 5ms/step - loss: 0.0751 - acc: 0.9581 - f1_score: 0.9586 - val_loss: 0.0861 - val_acc: 0.9627 - val_f1_score: 0.9631\n",
      "Epoch 7/100\n",
      "4315/4315 [==============================] - 24s 5ms/step - loss: 0.0743 - acc: 0.9585 - f1_score: 0.9590 - val_loss: 0.0857 - val_acc: 0.9627 - val_f1_score: 0.9632\n",
      "Epoch 8/100\n",
      "4315/4315 [==============================] - 23s 5ms/step - loss: 0.0738 - acc: 0.9588 - f1_score: 0.9593 - val_loss: 0.0843 - val_acc: 0.9635 - val_f1_score: 0.9639\n",
      "Epoch 9/100\n",
      "4315/4315 [==============================] - 23s 5ms/step - loss: 0.0733 - acc: 0.9591 - f1_score: 0.9596 - val_loss: 0.0842 - val_acc: 0.9638 - val_f1_score: 0.9642\n",
      "Epoch 10/100\n",
      "4315/4315 [==============================] - 28s 6ms/step - loss: 0.0729 - acc: 0.9594 - f1_score: 0.9599 - val_loss: 0.0840 - val_acc: 0.9639 - val_f1_score: 0.9642\n",
      "Epoch 11/100\n",
      "4315/4315 [==============================] - 31s 7ms/step - loss: 0.0726 - acc: 0.9596 - f1_score: 0.9600 - val_loss: 0.0868 - val_acc: 0.9623 - val_f1_score: 0.9627\n",
      "Epoch 12/100\n",
      "4315/4315 [==============================] - 31s 7ms/step - loss: 0.0722 - acc: 0.9598 - f1_score: 0.9602 - val_loss: 0.0830 - val_acc: 0.9642 - val_f1_score: 0.9646\n",
      "Epoch 13/100\n",
      "4315/4315 [==============================] - 31s 7ms/step - loss: 0.0720 - acc: 0.9599 - f1_score: 0.9603 - val_loss: 0.0810 - val_acc: 0.9653 - val_f1_score: 0.9657\n",
      "Epoch 14/100\n",
      "4315/4315 [==============================] - 31s 7ms/step - loss: 0.0718 - acc: 0.9600 - f1_score: 0.9604 - val_loss: 0.0822 - val_acc: 0.9645 - val_f1_score: 0.9649\n",
      "Epoch 15/100\n",
      "4315/4315 [==============================] - 31s 7ms/step - loss: 0.0716 - acc: 0.9602 - f1_score: 0.9606 - val_loss: 0.0856 - val_acc: 0.9627 - val_f1_score: 0.9631\n",
      "Epoch 16/100\n",
      "4315/4315 [==============================] - 31s 7ms/step - loss: 0.0714 - acc: 0.9603 - f1_score: 0.9607 - val_loss: 0.0831 - val_acc: 0.9643 - val_f1_score: 0.9647\n",
      "Epoch 17/100\n",
      "4315/4315 [==============================] - 31s 7ms/step - loss: 0.0713 - acc: 0.9603 - f1_score: 0.9608 - val_loss: 0.0809 - val_acc: 0.9653 - val_f1_score: 0.9657\n",
      "Epoch 18/100\n",
      "4315/4315 [==============================] - 32s 7ms/step - loss: 0.0711 - acc: 0.9604 - f1_score: 0.9609 - val_loss: 0.0828 - val_acc: 0.9643 - val_f1_score: 0.9647\n",
      "Epoch 19/100\n",
      "4315/4315 [==============================] - 32s 7ms/step - loss: 0.0709 - acc: 0.9606 - f1_score: 0.9610 - val_loss: 0.0830 - val_acc: 0.9641 - val_f1_score: 0.9645\n",
      "Epoch 20/100\n",
      "4315/4315 [==============================] - 32s 7ms/step - loss: 0.0708 - acc: 0.9606 - f1_score: 0.9610 - val_loss: 0.0836 - val_acc: 0.9638 - val_f1_score: 0.9642\n",
      "Epoch 21/100\n",
      "4315/4315 [==============================] - 32s 7ms/step - loss: 0.0706 - acc: 0.9607 - f1_score: 0.9611 - val_loss: 0.0822 - val_acc: 0.9646 - val_f1_score: 0.9650\n",
      "Epoch 22/100\n",
      "4315/4315 [==============================] - 31s 7ms/step - loss: 0.0705 - acc: 0.9607 - f1_score: 0.9612 - val_loss: 0.0840 - val_acc: 0.9636 - val_f1_score: 0.9640\n"
     ]
    }
   ],
   "source": [
    "f1 = tfa.metrics.F1Score(num_classes=2, threshold=0.5, average=\"weighted\" )\n",
    "model.compile(optimizer = 'adam', loss = 'categorical_crossentropy', metrics = ['acc', f1])\n",
    "stop_early = tf.keras.callbacks.EarlyStopping(monitor ='val_f1_score', patience = 5, mode='max')\n",
    "history = model.fit(x_train_sample,\n",
    "                    y_train_sample,\n",
    "                    class_weight=class_weights,\n",
    "                    validation_data = (x_val, y_val),\n",
    "                    batch_size = 4096,\n",
    "                    epochs = 100, \n",
    "                   callbacks=[stop_early])"
   ]
  },
  {
   "cell_type": "code",
   "execution_count": 19,
   "id": "00b67f82",
   "metadata": {},
   "outputs": [],
   "source": [
    "# model = tf.keras.models.load_model(\"saved_model/itg_classifier\")"
   ]
  },
  {
   "cell_type": "code",
   "execution_count": 20,
   "id": "02ae3fee",
   "metadata": {},
   "outputs": [],
   "source": [
    "from sklearn.metrics import roc_curve\n",
    "from sklearn.metrics import roc_auc_score"
   ]
  },
  {
   "cell_type": "code",
   "execution_count": 21,
   "id": "a6543481",
   "metadata": {},
   "outputs": [],
   "source": [
    "test_data = pd.read_pickle(\"/share/rcifdata/jbarr/UKAEAGroupProject/data/valid_data_clipped.pkl\")"
   ]
  },
  {
   "cell_type": "code",
   "execution_count": 22,
   "id": "41abc33e",
   "metadata": {},
   "outputs": [],
   "source": [
    "test_data = test_data[keep_keys]\n",
    "\n",
    "nt = test_data.shape[0]\n",
    "nt_nan =  test_data['efiitg_gb'].isna().sum()\n",
    "\n",
    "test_data = test_data.dropna()\n",
    "\n",
    "assert test_data.shape[0] + nt_nan == nt\n",
    "\n",
    "test_data['efiitg_gb'].loc[test_data['efiitg_gb'] != 0] = 1\n",
    "\n",
    "assert len(test_data['efiitg_gb'].unique()) == 2"
   ]
  },
  {
   "cell_type": "code",
   "execution_count": 23,
   "id": "1bebc4f6",
   "metadata": {},
   "outputs": [],
   "source": [
    "x_test, y_test = test_data.iloc[:,:-1].to_numpy(), test_data.iloc[:,-1].to_numpy()"
   ]
  },
  {
   "cell_type": "code",
   "execution_count": 24,
   "id": "e33a5a50",
   "metadata": {},
   "outputs": [],
   "source": [
    "x_test = scaler.transform(x_test)"
   ]
  },
  {
   "cell_type": "code",
   "execution_count": 25,
   "id": "1e9ad8e6",
   "metadata": {},
   "outputs": [],
   "source": [
    "y_test = tf.keras.utils.to_categorical(y_test, num_classes=2)"
   ]
  },
  {
   "cell_type": "code",
   "execution_count": 26,
   "id": "86aee36f",
   "metadata": {},
   "outputs": [
    {
     "data": {
      "text/plain": [
       "(2209776, 2)"
      ]
     },
     "execution_count": 26,
     "metadata": {},
     "output_type": "execute_result"
    }
   ],
   "source": [
    "y_test.shape"
   ]
  },
  {
   "cell_type": "code",
   "execution_count": 27,
   "id": "8f3e1481",
   "metadata": {},
   "outputs": [],
   "source": [
    "predictions = model.predict(x_test)\n",
    "fpr, tpr, thresholds = roc_curve(y_test[:,1], predictions[:,1])\n",
    "auc = roc_auc_score(y_test, predictions)"
   ]
  },
  {
   "cell_type": "code",
   "execution_count": 28,
   "id": "68ac0944",
   "metadata": {},
   "outputs": [
    {
     "data": {
      "text/plain": [
       "Text(0.8, 0.2, 'auc =  1.00')"
      ]
     },
     "execution_count": 28,
     "metadata": {},
     "output_type": "execute_result"
    },
    {
     "data": {
      "image/png": "[encoded data removed]",
      "text/plain": [
       "<Figure size 432x288 with 1 Axes>"
      ]
     },
     "metadata": {
      "needs_background": "light"
     },
     "output_type": "display_data"
    }
   ],
   "source": [
    "plt.figure()\n",
    "plt.plot(fpr, tpr)\n",
    "random_class = np.arange(0,1,0.005)\n",
    "plt.plot(random_class, random_class, '--')\n",
    "plt.xlabel('False Positive Rate')\n",
    "plt.ylabel('Flase Negative Rate')\n",
    "plt.text(0.8, 0.2, f'auc = {auc: .2f}', fontsize=10)"
   ]
  },
  {
   "cell_type": "code",
   "execution_count": 29,
   "id": "e3bc02dd",
   "metadata": {},
   "outputs": [],
   "source": [
    "test_pred = np.where(predictions[:,1] < 0.5, predictions[:,1], 1)\n",
    "test_pred = np.where(predictions[:,1] >= 0.5, test_pred, 0)\n",
    "\n",
    "n_positive = np.where(y_test[:,1] ==0)[0].shape[0]\n",
    "n_negative = np.where(y_test[:,1] ==1)[0].shape[0]\n",
    "div_arr = np.array([[n_positive, n_negative]]).T"
   ]
  },
  {
   "cell_type": "code",
   "execution_count": 30,
   "id": "22035a88",
   "metadata": {},
   "outputs": [
    {
     "data": {
      "image/png": "[encoded data removed]",
      "text/plain": [
       "<Figure size 432x288 with 2 Axes>"
      ]
     },
     "metadata": {
      "needs_background": "light"
     },
     "output_type": "display_data"
    }
   ],
   "source": [
    "con_mat = confusion_matrix(y_test[:,1], test_pred, labels =[0,1])/div_arr\n",
    "sns.heatmap(con_mat, annot=True, cmap ='Oranges').set(title='Confusion Matrix', xlabel='Predicted', ylabel='Actual');\n",
    "# plt.savefig(\"ITG_Con_full.png\", dpi=300)"
   ]
  },
  {
   "cell_type": "code",
   "execution_count": 31,
   "id": "e2730305",
   "metadata": {},
   "outputs": [
    {
     "data": {
      "text/plain": [
       "(17671401, 15)"
      ]
     },
     "execution_count": 31,
     "metadata": {},
     "output_type": "execute_result"
    }
   ],
   "source": [
    "x_train.shape"
   ]
  },
  {
   "cell_type": "code",
   "execution_count": 32,
   "id": "8496e695",
   "metadata": {},
   "outputs": [],
   "source": [
    "data_dict = pickle.load(open(\"/home/tmadula/submit/outputs/itg_outputs_3.pkl\", 'rb'))"
   ]
  },
  {
   "cell_type": "code",
   "execution_count": 33,
   "id": "a08f0ecc",
   "metadata": {},
   "outputs": [
    {
     "data": {
      "text/plain": [
       "dict_keys(['training_size', 'train_losses', 'val_losses', 'train_f1', 'val_f1', 'eval_out'])"
      ]
     },
     "execution_count": 33,
     "metadata": {},
     "output_type": "execute_result"
    }
   ],
   "source": [
    "data_dict.keys()"
   ]
  },
  {
   "cell_type": "code",
   "execution_count": 34,
   "id": "d210b8f7",
   "metadata": {},
   "outputs": [],
   "source": [
    "training_size = data_dict['training_size']\n",
    "val_losses = data_dict['val_losses']\n",
    "val_f1 = data_dict['val_f1']"
   ]
  },
  {
   "cell_type": "code",
   "execution_count": 35,
   "id": "000a0ecc",
   "metadata": {},
   "outputs": [],
   "source": [
    "model=nn_classifier()\n",
    "model.build(input_shape =(1,15))"
   ]
  },
  {
   "cell_type": "code",
   "execution_count": 36,
   "id": "b2d3268e",
   "metadata": {},
   "outputs": [
    {
     "data": {
      "image/png": "[encoded data removed]",
      "text/plain": [
       "<Figure size 864x576 with 2 Axes>"
      ]
     },
     "metadata": {
      "needs_background": "light"
     },
     "output_type": "display_data"
    }
   ],
   "source": [
    "loss_ = [x[-1] for x in val_losses]\n",
    "f1_ = [x[-1] for x in data_dict['eval_out']]\n",
    "# acc_ = [x[-2] for x in data_dict['eval_out']]\n",
    "\n",
    "trainable_params = np.sum([np.prod(v.get_shape()) for v in model.trainable_weights])\n",
    "ratio = training_size / trainable_params\n",
    "\n",
    "\n",
    "mosaic = \"\"\"\n",
    "    A\n",
    "    A\n",
    "    B\n",
    "\"\"\"\n",
    "\n",
    "fig = plt.figure(constrained_layout= True, figsize = (12,8))\n",
    "\n",
    "ax_dict = fig.subplot_mosaic(mosaic)\n",
    "\n",
    "ax_dict[\"A\"].plot(training_size, f1_, \"-o\", color ='blue')\n",
    "# ax_dict[\"A\"].plot(training_size, acc_, \"-o\")\n",
    "\n",
    "ax_dict[\"A\"].set_xscale(\"log\");\n",
    "ax_dict[\"A\"].set_ylabel(\"Validation F1 Score\", size = 18);\n",
    "ax_dict[\"A\"].grid()\n",
    "\n",
    "ax_dict[\"B\"].plot(training_size, ratio, \"-o\", color = \"magenta\")\n",
    "ax_dict[\"B\"].set_xscale(\"log\");\n",
    "ax_dict[\"B\"].set_yscale(\"log\");\n",
    "ax_dict[\"B\"].hlines(1, training_size[0], training_size[-1], linestyles = \"dashed\", color = \"k\")\n",
    "ax_dict[\"B\"].grid()\n",
    "ax_dict[\"B\"].set_ylabel(r\"$\\frac{Training\\ Points}{Number\\ of\\ Parameters}$\", size = 18);\n",
    "\n",
    "plt.xlabel(\"Number of Training Points\");\n",
    "\n",
    "# plt.savefig(\"ITG_F1.png\", dpi=300)"
   ]
  },
  {
   "cell_type": "code",
   "execution_count": 43,
   "id": "e06020f4",
   "metadata": {},
   "outputs": [],
   "source": [
    "# !pip install shap"
   ]
  },
  {
   "cell_type": "code",
   "execution_count": 44,
   "id": "9c57db97",
   "metadata": {},
   "outputs": [
    {
     "ename": "ModuleNotFoundError",
     "evalue": "No module named 'shap'",
     "output_type": "error",
     "traceback": [
      "\u001b[0;31m---------------------------------------------------------------------------\u001b[0m",
      "\u001b[0;31mModuleNotFoundError\u001b[0m                       Traceback (most recent call last)",
      "Input \u001b[0;32mIn [44]\u001b[0m, in \u001b[0;36m<cell line: 1>\u001b[0;34m()\u001b[0m\n\u001b[0;32m----> 1\u001b[0m \u001b[38;5;28;01mimport\u001b[39;00m \u001b[38;5;21;01mshap\u001b[39;00m\n\u001b[1;32m      2\u001b[0m \u001b[38;5;28;01mfrom\u001b[39;00m \u001b[38;5;21;01mscripts\u001b[39;00m\u001b[38;5;21;01m.\u001b[39;00m\u001b[38;5;21;01mutils\u001b[39;00m \u001b[38;5;28;01mimport\u001b[39;00m train_keys\n",
      "\u001b[0;31mModuleNotFoundError\u001b[0m: No module named 'shap'"
     ]
    }
   ],
   "source": [
    "import shap\n",
    "from scripts.utils import train_keys"
   ]
  },
  {
   "cell_type": "code",
   "execution_count": null,
   "id": "64f62671",
   "metadata": {},
   "outputs": [],
   "source": [
    "x_train_df = pd.DataFrame(x_train, columns = train_keys)\n",
    "x_val_df = pd.DataFrame(x_val, columns = train_keys)"
   ]
  },
  {
   "cell_type": "code",
   "execution_count": null,
   "id": "cc7cec00",
   "metadata": {},
   "outputs": [],
   "source": [
    "f = lambda x: model.predict(x)\n",
    "med = np.median(x_train, axis = 0).reshape((1,x_train.shape[1]))\n",
    "\n",
    "explainer = shap.Explainer(f, med)\n",
    "shap_values = explainer(x_val_df.iloc[:1000])"
   ]
  },
  {
   "cell_type": "code",
   "execution_count": null,
   "id": "78412c8d",
   "metadata": {},
   "outputs": [],
   "source": [
    "shap.plots.beeswarm(shap_values, max_display = 20)"
   ]
  },
  {
   "cell_type": "code",
   "execution_count": null,
   "id": "366b5a63",
   "metadata": {},
   "outputs": [],
   "source": []
  }
 ],
 "metadata": {
  "kernelspec": {
   "display_name": "Python 3 (ipykernel)",
   "language": "python",
   "name": "python3"
  },
  "language_info": {
   "codemirror_mode": {
    "name": "ipython",
    "version": 3
   },
   "file_extension": ".py",
   "mimetype": "text/x-python",
   "name": "python",
   "nbconvert_exporter": "python",
   "pygments_lexer": "ipython3",
   "version": "3.8.13"
  }
 },
 "nbformat": 4,
 "nbformat_minor": 5
}
