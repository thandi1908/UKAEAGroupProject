{
 "cells": [
  {
   "cell_type": "code",
   "execution_count": null,
   "id": "c7e41e35",
   "metadata": {},
   "outputs": [],
   "source": [
    "import math\n",
    "import torch\n",
    "import gpytorch\n",
    "from matplotlib import pyplot as plt\n",
    "\n",
    "import pandas as pd\n",
    "import numpy as np\n",
    "\n",
    "\n",
    "%matplotlib inline\n",
    "%load_ext autoreload\n",
    "%autoreload 2"
   ]
  },
  {
   "cell_type": "markdown",
   "id": "7dc5f738",
   "metadata": {},
   "source": [
    "###  Loading and pre-processing the data"
   ]
  },
  {
   "cell_type": "code",
   "execution_count": null,
   "id": "9be4951d",
   "metadata": {},
   "outputs": [],
   "source": [
    "train_data = pd.read_pickle(\"/share/rcifdata/jbarr/UKAEAGroupProject/data/QLKNN_train_data.pkl\")"
   ]
  },
  {
   "cell_type": "code",
   "execution_count": null,
   "id": "a5a4406f",
   "metadata": {},
   "outputs": [],
   "source": [
    "# choosing one input dimension and one output dimension as random\n",
    "input_dim = np.random.permutation(list(train_data.iloc[:,:15].columns))\n",
    "output_dim = np.random.permutation(list(train_data.iloc[:,15:].columns))"
   ]
  },
  {
   "cell_type": "code",
   "execution_count": null,
   "id": "d940fbde",
   "metadata": {},
   "outputs": [],
   "source": [
    "print(f\"Input dimension to use: {input_dim[0]} and {input_dim[1]}\")\n",
    "print(f\"Input dimension to use: {output_dim[0]}\")"
   ]
  },
  {
   "cell_type": "code",
   "execution_count": null,
   "id": "eec05429",
   "metadata": {},
   "outputs": [],
   "source": [
    "drop_data = train_data[[f'{input_dim[0]}',f'{input_dim[1]}',f'{output_dim[0]}']].dropna()"
   ]
  },
  {
   "cell_type": "code",
   "execution_count": null,
   "id": "26eea2d7",
   "metadata": {},
   "outputs": [],
   "source": [
    "x_train_data = drop_data.iloc[:,:2]\n",
    "y_train_data = drop_data.iloc[:,2:]\n",
    "\n",
    "assert x_train_data.shape[0] == y_train_data.shape[0]"
   ]
  },
  {
   "cell_type": "code",
   "execution_count": null,
   "id": "cf1e4bab",
   "metadata": {},
   "outputs": [],
   "source": [
    "n = 100\n",
    "idx = np.random.permutation(n)"
   ]
  },
  {
   "cell_type": "code",
   "execution_count": null,
   "id": "a776dd75",
   "metadata": {},
   "outputs": [],
   "source": [
    "x_train_data = torch.tensor(x_train_data.values)[idx]\n",
    "y_train_data = torch.tensor(y_train_data.values)[idx]\n",
    "\n",
    "x_min, x_max = x_train_data.min(), x_train_data.max()"
   ]
  },
  {
   "cell_type": "code",
   "execution_count": null,
   "id": "d17bd1fa",
   "metadata": {},
   "outputs": [],
   "source": [
    "# We will use the simplest form of GP model, exact inference\n",
    "class ExactGPModel(gpytorch.models.ExactGP):\n",
    "    def __init__(self, train_x, train_y, likelihood):\n",
    "        super(ExactGPModel, self).__init__(train_x, train_y, likelihood)\n",
    "        self.mean_module = gpytorch.means.ConstantMean()\n",
    "        self.covar_module = gpytorch.kernels.ScaleKernel(gpytorch.kernels.RBFKernel(ard_num_dims=2), num_dims=2)\n",
    "\n",
    "    def forward(self, x):\n",
    "        mean_x = self.mean_module(x)\n",
    "        covar_x = self.covar_module(x)\n",
    "        return gpytorch.distributions.MultivariateNormal(mean_x, covar_x)"
   ]
  },
  {
   "cell_type": "code",
   "execution_count": null,
   "id": "8280835b",
   "metadata": {},
   "outputs": [],
   "source": [
    "# initialize likelihood and model\n",
    "likelihood = gpytorch.likelihoods.GaussianLikelihood()\n",
    "model = ExactGPModel(x_train_data, y_train_data, likelihood)"
   ]
  },
  {
   "cell_type": "code",
   "execution_count": null,
   "id": "ffd4f166",
   "metadata": {},
   "outputs": [],
   "source": [
    "# this is for running the notebook in our testing framework\n",
    "import os\n",
    "smoke_test = ('CI' in os.environ)\n",
    "training_iter = 2 if smoke_test else 100\n",
    "\n",
    "\n",
    "# Find optimal model hyperparameters\n",
    "model.train()\n",
    "likelihood.train()\n",
    "\n",
    "# Use the adam optimizer\n",
    "optimizer = torch.optim.Adam(model.parameters(), lr=0.1)  # Includes GaussianLikelihood parameters\n",
    "\n",
    "# \"Loss\" for GPs - the marginal log likelihood\n",
    "mll = gpytorch.mlls.ExactMarginalLogLikelihood(likelihood, model)\n",
    "\n",
    "for i in range(training_iter):\n",
    "    # Zero gradients from previous iteration\n",
    "    optimizer.zero_grad()\n",
    "    # Output from model\n",
    "    output = model(x_train_data)\n",
    "    # Calc loss and backprop gradients\n",
    "    loss = -mll(output, y_train_data).mean()\n",
    "    loss.backward()\n",
    "    \n",
    "    lenlist = model.covar_module.base_kernel.lengthscale.tolist()[0]\n",
    "    \n",
    "    noise = model.likelihood.noise.item()\n",
    "    \n",
    "    lengthscales = [f'{lenlist[0]:.3f}', f'{lenlist[1]:.3f}']\n",
    "    \n",
    "    print(f'Iter {(i+1)/training_iter} - Loss: {loss.item():.3f} lengthscales:{lengthscales} noise: {noise:.4f} ')\n",
    "    \n",
    "    optimizer.step()"
   ]
  },
  {
   "cell_type": "code",
   "execution_count": null,
   "id": "4dd25f4a",
   "metadata": {},
   "outputs": [],
   "source": [
    "# Get into evaluation (predictive posterior) mode\n",
    "model.eval()\n",
    "likelihood.eval()\n",
    "\n",
    "# Test points are regularly spaced along [0,1]\n",
    "# Make predictions by feeding model through likelihood\n",
    "with torch.no_grad(), gpytorch.settings.fast_pred_var():\n",
    "    testx1 = np.linspace(x_min, x_max , 50)\n",
    "    testx2 =  np.linspace(x_min, x_max , 50)\n",
    "    \n",
    "    test_x = torch.tensor(np.array(np.meshgrid(testx1, testx2)).T.reshape(-1,2), dtype = torch.double)\n",
    "    \n",
    "    print(x_train_data.shape)\n",
    "    print(test_x.shape)\n",
    "    \n",
    "    observed_pred = likelihood(model(test_x))"
   ]
  },
  {
   "cell_type": "code",
   "execution_count": null,
   "id": "ed400d6f",
   "metadata": {},
   "outputs": [],
   "source": [
    "with torch.no_grad():\n",
    "    # Initialize plot\n",
    "    f, ax = plt.subplots(1, 1, figsize=(8, 6))\n",
    "\n",
    "    # Get upper and lower confidence bounds\n",
    "    lower, upper = observed_pred.confidence_region()\n",
    "    # Plot training data as black stars\n",
    "    ax.plot(x_train_data.numpy(), y_train_data.numpy(), 'k*')\n",
    "    # Plot predictive means as blue line\n",
    "    ax.plot(test_x, observed_pred.mean.numpy(), 'b')\n",
    "    # Shade between the lower and upper confidence bounds\n",
    "    ax.fill_between(test_x.numpy(), lower.numpy(), upper.numpy(), alpha=0.5)\n",
    "#     ax.set_ylim([-3, 3])\n",
    "    ax.legend(['Observed Data', 'Mean', 'Confidence'])"
   ]
  },
  {
   "cell_type": "code",
   "execution_count": null,
   "id": "ecea384d",
   "metadata": {},
   "outputs": [],
   "source": []
  },
  {
   "cell_type": "code",
   "execution_count": null,
   "id": "bd2e5cb1",
   "metadata": {},
   "outputs": [],
   "source": []
  }
 ],
 "metadata": {
  "kernelspec": {
   "display_name": "Python 3 (ipykernel)",
   "language": "python",
   "name": "python3"
  },
  "language_info": {
   "codemirror_mode": {
    "name": "ipython",
    "version": 3
   },
   "file_extension": ".py",
   "mimetype": "text/x-python",
   "name": "python",
   "nbconvert_exporter": "python",
   "pygments_lexer": "ipython3",
   "version": "3.9.7"
  }
 },
 "nbformat": 4,
 "nbformat_minor": 5
}
