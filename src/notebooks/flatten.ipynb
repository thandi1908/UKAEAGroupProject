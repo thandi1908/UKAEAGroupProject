{
 "cells": [
  {
   "cell_type": "code",
   "execution_count": 1,
   "metadata": {},
   "outputs": [
    {
     "name": "stderr",
     "output_type": "stream",
     "text": [
      "/unix/atlastracking/jbarr/ukaea-env/lib/python3.9/site-packages/tqdm/auto.py:22: TqdmWarning: IProgress not found. Please update jupyter and ipywidgets. See https://ipywidgets.readthedocs.io/en/stable/user_install.html\n",
      "  from .autonotebook import tqdm as notebook_tqdm\n"
     ]
    }
   ],
   "source": [
    "import numpy as np \n",
    "import pandas as pd\n",
    "import h5py as h5\n",
    "import seaborn as sns\n",
    "import tensorflow as tf\n",
    "import sys\n",
    "\n",
    "from sklearn.utils import resample\n",
    "from sklearn.preprocessing import StandardScaler\n",
    "from sklearn.metrics import confusion_matrix\n",
    "from sklearn.metrics import f1_score\n",
    "\n",
    "import pickle\n",
    "import matplotlib.pyplot as plt\n",
    "import seaborn as sns\n",
    "\n",
    "from torch.utils.data import Dataset, DataLoader\n",
    "import torch\n",
    "import torch.nn as nn\n",
    "import pytorch_lightning as pl\n",
    "from tqdm.auto import tqdm\n",
    "\n",
    "from scripts.utils import ScaleData, train_keys, target_keys"
   ]
  },
  {
   "cell_type": "code",
   "execution_count": 2,
   "metadata": {},
   "outputs": [],
   "source": [
    "train_data = pd.read_pickle(\"/unix/atlastracking/jbarr/train_data_clipped.pkl\")\n",
    "validation_data = pd.read_pickle(\"/unix/atlastracking/jbarr/valid_data_clipped.pkl\")\n",
    "\n",
    "# Keep only the data that gives an output\n",
    "train_data = train_data[train_data[\"target\"] == 1]\n",
    "validation_data = validation_data[validation_data[\"target\"] == 1]\n"
   ]
  },
  {
   "cell_type": "code",
   "execution_count": 3,
   "metadata": {},
   "outputs": [],
   "source": [
    "train_data = train_data[train_keys]\n",
    "validation_data = validation_data[train_keys].sample(100_000)\n",
    "\n",
    "train_data = train_data.dropna()\n",
    "validation_data = validation_data.dropna()"
   ]
  },
  {
   "cell_type": "code",
   "execution_count": 60,
   "metadata": {},
   "outputs": [],
   "source": [
    "scaler = StandardScaler()\n",
    "scaler.fit(train_data);\n",
    "\n",
    "train_data = pd.DataFrame(scaler.transform(train_data), columns = train_keys, index = train_data.index)"
   ]
  },
  {
   "cell_type": "code",
   "execution_count": 5,
   "metadata": {},
   "outputs": [
    {
     "data": {
      "text/html": [
       "<div>\n",
       "<style scoped>\n",
       "    .dataframe tbody tr th:only-of-type {\n",
       "        vertical-align: middle;\n",
       "    }\n",
       "\n",
       "    .dataframe tbody tr th {\n",
       "        vertical-align: top;\n",
       "    }\n",
       "\n",
       "    .dataframe thead th {\n",
       "        text-align: right;\n",
       "    }\n",
       "</style>\n",
       "<table border=\"1\" class=\"dataframe\">\n",
       "  <thead>\n",
       "    <tr style=\"text-align: right;\">\n",
       "      <th></th>\n",
       "      <th>ane</th>\n",
       "      <th>ate</th>\n",
       "      <th>autor</th>\n",
       "      <th>machtor</th>\n",
       "      <th>x</th>\n",
       "      <th>zeff</th>\n",
       "      <th>gammae</th>\n",
       "      <th>q</th>\n",
       "      <th>smag</th>\n",
       "      <th>alpha</th>\n",
       "      <th>ani1</th>\n",
       "      <th>ati0</th>\n",
       "      <th>normni1</th>\n",
       "      <th>ti_te0</th>\n",
       "      <th>lognustar</th>\n",
       "    </tr>\n",
       "  </thead>\n",
       "  <tbody>\n",
       "    <tr>\n",
       "      <th>count</th>\n",
       "      <td>1.767140e+07</td>\n",
       "      <td>1.767140e+07</td>\n",
       "      <td>1.767140e+07</td>\n",
       "      <td>1.767140e+07</td>\n",
       "      <td>1.767140e+07</td>\n",
       "      <td>1.767140e+07</td>\n",
       "      <td>1.767140e+07</td>\n",
       "      <td>1.767140e+07</td>\n",
       "      <td>1.767140e+07</td>\n",
       "      <td>1.767140e+07</td>\n",
       "      <td>1.767140e+07</td>\n",
       "      <td>1.767140e+07</td>\n",
       "      <td>1.767140e+07</td>\n",
       "      <td>1.767140e+07</td>\n",
       "      <td>1.767140e+07</td>\n",
       "    </tr>\n",
       "    <tr>\n",
       "      <th>mean</th>\n",
       "      <td>-3.958502e-17</td>\n",
       "      <td>1.696684e-15</td>\n",
       "      <td>-2.437888e-14</td>\n",
       "      <td>-2.516612e-14</td>\n",
       "      <td>-1.820788e-15</td>\n",
       "      <td>2.945447e-15</td>\n",
       "      <td>-6.716735e-16</td>\n",
       "      <td>-4.186142e-16</td>\n",
       "      <td>-6.428617e-17</td>\n",
       "      <td>6.452415e-16</td>\n",
       "      <td>3.792929e-16</td>\n",
       "      <td>5.547417e-17</td>\n",
       "      <td>1.539766e-15</td>\n",
       "      <td>1.584160e-14</td>\n",
       "      <td>-6.179673e-16</td>\n",
       "    </tr>\n",
       "    <tr>\n",
       "      <th>std</th>\n",
       "      <td>1.000000e+00</td>\n",
       "      <td>1.000000e+00</td>\n",
       "      <td>1.000000e+00</td>\n",
       "      <td>1.000000e+00</td>\n",
       "      <td>1.000000e+00</td>\n",
       "      <td>1.000000e+00</td>\n",
       "      <td>1.000000e+00</td>\n",
       "      <td>1.000000e+00</td>\n",
       "      <td>1.000000e+00</td>\n",
       "      <td>1.000000e+00</td>\n",
       "      <td>1.000000e+00</td>\n",
       "      <td>1.000000e+00</td>\n",
       "      <td>1.000000e+00</td>\n",
       "      <td>1.000000e+00</td>\n",
       "      <td>1.000000e+00</td>\n",
       "    </tr>\n",
       "    <tr>\n",
       "      <th>min</th>\n",
       "      <td>-1.384102e+01</td>\n",
       "      <td>-6.582257e+00</td>\n",
       "      <td>-1.882100e+01</td>\n",
       "      <td>-2.065595e+00</td>\n",
       "      <td>-1.685506e+00</td>\n",
       "      <td>-1.271060e+00</td>\n",
       "      <td>-2.605025e+01</td>\n",
       "      <td>-1.226443e+00</td>\n",
       "      <td>-2.207086e+00</td>\n",
       "      <td>-4.268325e+00</td>\n",
       "      <td>-1.542676e+01</td>\n",
       "      <td>-7.614343e+00</td>\n",
       "      <td>-1.810241e+00</td>\n",
       "      <td>-3.962275e+00</td>\n",
       "      <td>-3.129014e+00</td>\n",
       "    </tr>\n",
       "    <tr>\n",
       "      <th>25%</th>\n",
       "      <td>-4.041627e-01</td>\n",
       "      <td>-5.670069e-01</td>\n",
       "      <td>-2.918354e-01</td>\n",
       "      <td>-5.309520e-01</td>\n",
       "      <td>-9.630133e-01</td>\n",
       "      <td>-7.968845e-01</td>\n",
       "      <td>4.277525e-02</td>\n",
       "      <td>-7.363622e-01</td>\n",
       "      <td>-6.534619e-01</td>\n",
       "      <td>-4.753213e-01</td>\n",
       "      <td>-3.501552e-01</td>\n",
       "      <td>-5.469898e-01</td>\n",
       "      <td>-2.686555e-01</td>\n",
       "      <td>-1.082246e-01</td>\n",
       "      <td>-7.264126e-01</td>\n",
       "    </tr>\n",
       "    <tr>\n",
       "      <th>50%</th>\n",
       "      <td>-2.006210e-01</td>\n",
       "      <td>-2.616913e-01</td>\n",
       "      <td>-2.918354e-01</td>\n",
       "      <td>-5.309520e-01</td>\n",
       "      <td>-1.397456e-01</td>\n",
       "      <td>-1.544057e-01</td>\n",
       "      <td>4.277525e-02</td>\n",
       "      <td>-2.878132e-01</td>\n",
       "      <td>-3.920014e-01</td>\n",
       "      <td>-3.347898e-01</td>\n",
       "      <td>-1.956857e-01</td>\n",
       "      <td>-2.503829e-01</td>\n",
       "      <td>-2.116134e-01</td>\n",
       "      <td>-1.082246e-01</td>\n",
       "      <td>-1.346292e-01</td>\n",
       "    </tr>\n",
       "    <tr>\n",
       "      <th>75%</th>\n",
       "      <td>9.574553e-02</td>\n",
       "      <td>2.093155e-01</td>\n",
       "      <td>-2.745655e-02</td>\n",
       "      <td>1.498512e-01</td>\n",
       "      <td>9.349263e-01</td>\n",
       "      <td>5.066977e-01</td>\n",
       "      <td>4.277525e-02</td>\n",
       "      <td>4.395909e-01</td>\n",
       "      <td>2.818189e-01</td>\n",
       "      <td>8.084447e-02</td>\n",
       "      <td>4.690494e-02</td>\n",
       "      <td>2.638452e-01</td>\n",
       "      <td>-9.626997e-02</td>\n",
       "      <td>-1.082246e-01</td>\n",
       "      <td>5.858492e-01</td>\n",
       "    </tr>\n",
       "    <tr>\n",
       "      <th>max</th>\n",
       "      <td>1.377702e+01</td>\n",
       "      <td>1.087267e+01</td>\n",
       "      <td>2.903888e+01</td>\n",
       "      <td>5.551486e+00</td>\n",
       "      <td>1.679190e+00</td>\n",
       "      <td>1.529302e+01</td>\n",
       "      <td>1.310111e+01</td>\n",
       "      <td>2.522869e+01</td>\n",
       "      <td>6.817504e+00</td>\n",
       "      <td>1.857961e+01</td>\n",
       "      <td>1.447637e+01</td>\n",
       "      <td>1.282485e+01</td>\n",
       "      <td>2.073419e+01</td>\n",
       "      <td>2.024054e+01</td>\n",
       "      <td>6.969731e+00</td>\n",
       "    </tr>\n",
       "  </tbody>\n",
       "</table>\n",
       "</div>"
      ],
      "text/plain": [
       "                ane           ate         autor       machtor             x  \\\n",
       "count  1.767140e+07  1.767140e+07  1.767140e+07  1.767140e+07  1.767140e+07   \n",
       "mean  -3.958502e-17  1.696684e-15 -2.437888e-14 -2.516612e-14 -1.820788e-15   \n",
       "std    1.000000e+00  1.000000e+00  1.000000e+00  1.000000e+00  1.000000e+00   \n",
       "min   -1.384102e+01 -6.582257e+00 -1.882100e+01 -2.065595e+00 -1.685506e+00   \n",
       "25%   -4.041627e-01 -5.670069e-01 -2.918354e-01 -5.309520e-01 -9.630133e-01   \n",
       "50%   -2.006210e-01 -2.616913e-01 -2.918354e-01 -5.309520e-01 -1.397456e-01   \n",
       "75%    9.574553e-02  2.093155e-01 -2.745655e-02  1.498512e-01  9.349263e-01   \n",
       "max    1.377702e+01  1.087267e+01  2.903888e+01  5.551486e+00  1.679190e+00   \n",
       "\n",
       "               zeff        gammae             q          smag         alpha  \\\n",
       "count  1.767140e+07  1.767140e+07  1.767140e+07  1.767140e+07  1.767140e+07   \n",
       "mean   2.945447e-15 -6.716735e-16 -4.186142e-16 -6.428617e-17  6.452415e-16   \n",
       "std    1.000000e+00  1.000000e+00  1.000000e+00  1.000000e+00  1.000000e+00   \n",
       "min   -1.271060e+00 -2.605025e+01 -1.226443e+00 -2.207086e+00 -4.268325e+00   \n",
       "25%   -7.968845e-01  4.277525e-02 -7.363622e-01 -6.534619e-01 -4.753213e-01   \n",
       "50%   -1.544057e-01  4.277525e-02 -2.878132e-01 -3.920014e-01 -3.347898e-01   \n",
       "75%    5.066977e-01  4.277525e-02  4.395909e-01  2.818189e-01  8.084447e-02   \n",
       "max    1.529302e+01  1.310111e+01  2.522869e+01  6.817504e+00  1.857961e+01   \n",
       "\n",
       "               ani1          ati0       normni1        ti_te0     lognustar  \n",
       "count  1.767140e+07  1.767140e+07  1.767140e+07  1.767140e+07  1.767140e+07  \n",
       "mean   3.792929e-16  5.547417e-17  1.539766e-15  1.584160e-14 -6.179673e-16  \n",
       "std    1.000000e+00  1.000000e+00  1.000000e+00  1.000000e+00  1.000000e+00  \n",
       "min   -1.542676e+01 -7.614343e+00 -1.810241e+00 -3.962275e+00 -3.129014e+00  \n",
       "25%   -3.501552e-01 -5.469898e-01 -2.686555e-01 -1.082246e-01 -7.264126e-01  \n",
       "50%   -1.956857e-01 -2.503829e-01 -2.116134e-01 -1.082246e-01 -1.346292e-01  \n",
       "75%    4.690494e-02  2.638452e-01 -9.626997e-02 -1.082246e-01  5.858492e-01  \n",
       "max    1.447637e+01  1.282485e+01  2.073419e+01  2.024054e+01  6.969731e+00  "
      ]
     },
     "execution_count": 5,
     "metadata": {},
     "output_type": "execute_result"
    }
   ],
   "source": [
    "train_data.describe()"
   ]
  },
  {
   "cell_type": "code",
   "execution_count": 6,
   "metadata": {},
   "outputs": [
    {
     "data": {
      "image/png": "[encoded data removed]",
      "text/plain": [
       "<Figure size 432x288 with 1 Axes>"
      ]
     },
     "metadata": {
      "needs_background": "light"
     },
     "output_type": "display_data"
    },
    {
     "data": {
      "image/png": "[encoded data removed]",
      "text/plain": [
       "<Figure size 432x288 with 1 Axes>"
      ]
     },
     "metadata": {
      "needs_background": "light"
     },
     "output_type": "display_data"
    },
    {
     "data": {
      "image/png": "[encoded data removed]",
      "text/plain": [
       "<Figure size 432x288 with 1 Axes>"
      ]
     },
     "metadata": {
      "needs_background": "light"
     },
     "output_type": "display_data"
    },
    {
     "data": {
      "image/png": "[encoded data removed]",
      "text/plain": [
       "<Figure size 432x288 with 1 Axes>"
      ]
     },
     "metadata": {
      "needs_background": "light"
     },
     "output_type": "display_data"
    },
    {
     "data": {
      "image/png": "[encoded data removed]",
      "text/plain": [
       "<Figure size 432x288 with 1 Axes>"
      ]
     },
     "metadata": {
      "needs_background": "light"
     },
     "output_type": "display_data"
    },
    {
     "data": {
      "image/png": "[encoded data removed]",
      "text/plain": [
       "<Figure size 432x288 with 1 Axes>"
      ]
     },
     "metadata": {
      "needs_background": "light"
     },
     "output_type": "display_data"
    },
    {
     "data": {
      "image/png": "[encoded data removed]",
      "text/plain": [
       "<Figure size 432x288 with 1 Axes>"
      ]
     },
     "metadata": {
      "needs_background": "light"
     },
     "output_type": "display_data"
    },
    {
     "data": {
      "image/png": "[encoded data removed]",
      "text/plain": [
       "<Figure size 432x288 with 1 Axes>"
      ]
     },
     "metadata": {
      "needs_background": "light"
     },
     "output_type": "display_data"
    },
    {
     "data": {
      "image/png": "[encoded data removed]",
      "text/plain": [
       "<Figure size 432x288 with 1 Axes>"
      ]
     },
     "metadata": {
      "needs_background": "light"
     },
     "output_type": "display_data"
    },
    {
     "data": {
      "image/png": "[encoded data removed]",
      "text/plain": [
       "<Figure size 432x288 with 1 Axes>"
      ]
     },
     "metadata": {
      "needs_background": "light"
     },
     "output_type": "display_data"
    },
    {
     "data": {
      "image/png": "[encoded data removed]",
      "text/plain": [
       "<Figure size 432x288 with 1 Axes>"
      ]
     },
     "metadata": {
      "needs_background": "light"
     },
     "output_type": "display_data"
    },
    {
     "data": {
      "image/png": "[encoded data removed]",
      "text/plain": [
       "<Figure size 432x288 with 1 Axes>"
      ]
     },
     "metadata": {
      "needs_background": "light"
     },
     "output_type": "display_data"
    },
    {
     "data": {
      "image/png": "[encoded data removed]",
      "text/plain": [
       "<Figure size 432x288 with 1 Axes>"
      ]
     },
     "metadata": {
      "needs_background": "light"
     },
     "output_type": "display_data"
    },
    {
     "data": {
      "image/png": "[encoded data removed]",
      "text/plain": [
       "<Figure size 432x288 with 1 Axes>"
      ]
     },
     "metadata": {
      "needs_background": "light"
     },
     "output_type": "display_data"
    },
    {
     "data": {
      "image/png": "[encoded data removed]",
      "text/plain": [
       "<Figure size 432x288 with 1 Axes>"
      ]
     },
     "metadata": {
      "needs_background": "light"
     },
     "output_type": "display_data"
    }
   ],
   "source": [
    "for i in train_keys:\n",
    "    plt.figure()\n",
    "    sns.histplot(data = train_data, x = i, bins = 50)"
   ]
  },
  {
   "cell_type": "code",
   "execution_count": 7,
   "metadata": {},
   "outputs": [
    {
     "data": {
      "text/plain": [
       "{'ane': [-13.841016764527534, 13.777024039385351],\n",
       " 'ate': [-6.582256824699131, 10.872672978231225],\n",
       " 'autor': [-18.820996058432463, 29.03888476760202],\n",
       " 'machtor': [-2.065595333579178, 5.551486487631029],\n",
       " 'x': [-1.6855056250853842, 1.6791903367379197],\n",
       " 'zeff': [-1.2710598430094526, 15.293016339332652],\n",
       " 'gammae': [-26.05024918477381, 13.101109904783291],\n",
       " 'q': [-1.226442635241779, 25.22869461657117],\n",
       " 'smag': [-2.2070857958969796, 6.817504212990487],\n",
       " 'alpha': [-4.268324987997649, 18.57961203838916],\n",
       " 'ani1': [-15.426763159208013, 14.476368476961794],\n",
       " 'ati0': [-7.614342528297113, 12.824849572166386],\n",
       " 'normni1': [-1.8102413817747534, 20.734186225948772],\n",
       " 'ti_te0': [-3.9622746749361144, 20.24053993289624],\n",
       " 'lognustar': [-3.129013932222588, 6.969731171060493]}"
      ]
     },
     "execution_count": 7,
     "metadata": {},
     "output_type": "execute_result"
    }
   ],
   "source": [
    "# get upper and lower bounds for each variable and store in a dictionary\n",
    "bounds_dict = {}\n",
    "for i in train_keys:\n",
    "    bounds_dict[i] = [train_data[i].min(), train_data[i].max()]\n",
    "\n",
    "bounds_dict"
   ]
  },
  {
   "cell_type": "code",
   "execution_count": 8,
   "metadata": {},
   "outputs": [],
   "source": [
    "# Sample a point uniformly from each dimension\n",
    "def sample_point(bounds_dict, n_points = 1):\n",
    "    samples = []\n",
    "    for i in range(n_points):\n",
    "        point = {}\n",
    "        for i in train_keys:\n",
    "            point[i] = np.random.uniform(bounds_dict[i][0], bounds_dict[i][1])\n",
    "        samples.append(point)\n",
    "\n",
    "    return samples\n"
   ]
  },
  {
   "cell_type": "code",
   "execution_count": 9,
   "metadata": {},
   "outputs": [
    {
     "name": "stdout",
     "output_type": "stream",
     "text": [
      "{'ane': -5.210451292149408, 'ate': -1.6666409952209307, 'autor': 19.927714466658706, 'machtor': -0.5411904884135428, 'x': 0.5072703039747843, 'zeff': 14.241079807236407, 'gammae': -5.260962728720287, 'q': 5.050682905715308, 'smag': 6.734839904093986, 'alpha': 15.745554055674834, 'ani1': 5.946499961169286, 'ati0': -6.277162872631688, 'normni1': 5.25611603629593, 'ti_te0': 1.0201959879526181, 'lognustar': 1.461209666412819}\n"
     ]
    }
   ],
   "source": [
    "sampled_points = sample_point(bounds_dict, 10)\n",
    "print(sampled_points[0])"
   ]
  },
  {
   "cell_type": "code",
   "execution_count": 10,
   "metadata": {},
   "outputs": [],
   "source": [
    "# Find point in training data closest to sampled point by L2 distance\n",
    "def distance(row, sampled_point):\n",
    "    distance = 0\n",
    "    for i in train_keys:\n",
    "        distance += (row[i] - sampled_point[i])**2\n",
    "    return np.sqrt(distance)\n",
    "\n",
    "def find_closest_point(sampled_point, train_data):\n",
    "    distances = train_data.progress_apply(distance, axis = 1, args = (sampled_point,))\n",
    "    # return closest point\n",
    "    #return train_data.iloc[np.argmin(distances)]\n",
    "    #return top 100\n",
    "    return train_data.iloc[np.argsort(distances)[:100]]\n",
    "    #return distances.idxmin()\n"
   ]
  },
  {
   "cell_type": "code",
   "execution_count": 12,
   "metadata": {},
   "outputs": [
    {
     "name": "stderr",
     "output_type": "stream",
     "text": [
      "100%|██████████| 176714/176714 [00:09<00:00, 17899.98it/s]\n",
      "100%|██████████| 176714/176714 [00:10<00:00, 17049.03it/s]\n",
      "100%|██████████| 176714/176714 [00:10<00:00, 17443.30it/s]\n",
      "100%|██████████| 176714/176714 [00:10<00:00, 17187.57it/s]\n",
      "100%|██████████| 176714/176714 [00:10<00:00, 17307.17it/s]\n",
      "100%|██████████| 176714/176714 [00:10<00:00, 17444.23it/s]\n",
      "100%|██████████| 176714/176714 [00:10<00:00, 17576.09it/s]\n",
      "100%|██████████| 176714/176714 [00:10<00:00, 17548.40it/s]\n",
      "100%|██████████| 176714/176714 [00:10<00:00, 17119.96it/s]\n",
      "100%|██████████| 176714/176714 [00:10<00:00, 17219.77it/s]\n"
     ]
    }
   ],
   "source": [
    "tqdm.pandas()\n",
    "closest = []\n",
    "for i in sampled_points:\n",
    "    closest.append(find_closest_point(i, train_data.sample(frac = 0.01)))"
   ]
  },
  {
   "cell_type": "code",
   "execution_count": 13,
   "metadata": {},
   "outputs": [
    {
     "data": {
      "image/png": "[encoded data removed]",
      "text/plain": [
       "<Figure size 432x288 with 1 Axes>"
      ]
     },
     "metadata": {
      "needs_background": "light"
     },
     "output_type": "display_data"
    }
   ],
   "source": [
    "distances = []\n",
    "for i in range(len(sampled_points)):\n",
    "    distances.append(distance(closest[0], sampled_points[0]))\n",
    "\n",
    "x = np.asarray(distances).flatten()\n",
    "plt.figure()\n",
    "plt.hist(x, bins = 50);"
   ]
  },
  {
   "cell_type": "code",
   "execution_count": 14,
   "metadata": {},
   "outputs": [],
   "source": [
    "# find first point closer than a distance of 25\n",
    "def find_closest_point_threshold(sampled_point, train_data, distance_threshold = 30):\n",
    "    #for row in train_data.itertuples():\n",
    "    for row in train_data.iterrows():\n",
    "        vals = row[1]\n",
    "\n",
    "        # calculate l2 distance\n",
    "        distance = 0\n",
    "        for i in train_keys:\n",
    "            distance += (vals[i] - sampled_point[i])**2\n",
    "        distance = np.sqrt(distance)\n",
    "\n",
    "        # if distance is less than threshold, return point\n",
    "        if distance < distance_threshold:\n",
    "            return vals\n",
    "    "
   ]
  },
  {
   "cell_type": "code",
   "execution_count": 16,
   "metadata": {},
   "outputs": [],
   "source": [
    "closest_threshold = find_closest_point_threshold(sampled_points[0], train_data.sample(frac = 0.1))"
   ]
  },
  {
   "cell_type": "code",
   "execution_count": 18,
   "metadata": {},
   "outputs": [
    {
     "data": {
      "text/plain": [
       "26.34541929264012"
      ]
     },
     "execution_count": 18,
     "metadata": {},
     "output_type": "execute_result"
    }
   ],
   "source": [
    "distance(closest_threshold, sampled_points[0])"
   ]
  },
  {
   "cell_type": "code",
   "execution_count": 21,
   "metadata": {},
   "outputs": [],
   "source": [
    "# Sample 1000 points \n",
    "samples = sample_point(bounds_dict, n_points = 10)"
   ]
  },
  {
   "cell_type": "code",
   "execution_count": 22,
   "metadata": {},
   "outputs": [
    {
     "name": "stderr",
     "output_type": "stream",
     "text": [
      "100%|██████████| 10/10 [00:11<00:00,  1.19s/it]\n"
     ]
    }
   ],
   "source": [
    "closest_points = []\n",
    "for i in tqdm(samples):\n",
    "    closest_points.append(find_closest_point_threshold(i, train_data.sample(frac = 0.1), distance_threshold = 35))"
   ]
  },
  {
   "cell_type": "code",
   "execution_count": 23,
   "metadata": {},
   "outputs": [],
   "source": [
    "import numba as nb"
   ]
  },
  {
   "cell_type": "code",
   "execution_count": 24,
   "metadata": {},
   "outputs": [],
   "source": [
    "def sample_point_array(bounds_dict, n_points = 10):\n",
    "    samples = []\n",
    "    for i in range(n_points):\n",
    "        point = []\n",
    "        for i in train_keys:\n",
    "            point.append(np.random.uniform(bounds_dict[i][0], bounds_dict[i][1]))\n",
    "        samples.append(point)\n",
    "\n",
    "    return np.asarray(samples)"
   ]
  },
  {
   "cell_type": "code",
   "execution_count": 39,
   "metadata": {},
   "outputs": [],
   "source": [
    "samples_array = sample_point_array(bounds_dict, n_points = 10_000)\n",
    "#train_data_array = train_data.sample(frac = 0.1).values\n",
    "train_data_array = train_data.sample(frac = 0.1).values"
   ]
  },
  {
   "cell_type": "code",
   "execution_count": 40,
   "metadata": {},
   "outputs": [],
   "source": [
    "\n",
    "# create numba version of find_closest_point_threshold\n",
    "@nb.jit\n",
    "def find_closest_point_threshold_numba(sample, train_data, distance_threshold = 30):\n",
    "    for row in train_data:\n",
    "        # calculate l2 distance\n",
    "        distance = np.linalg.norm(row - sample)\n",
    "\n",
    "        # if distance is less than threshold, return point\n",
    "        if distance < distance_threshold:\n",
    "            return row"
   ]
  },
  {
   "cell_type": "code",
   "execution_count": 41,
   "metadata": {},
   "outputs": [],
   "source": [
    "closest_array = np.apply_along_axis(find_closest_point_threshold_numba, 1, samples_array, train_data_array, distance_threshold = 30)"
   ]
  },
  {
   "cell_type": "code",
   "execution_count": 42,
   "metadata": {},
   "outputs": [
    {
     "data": {
      "text/plain": [
       "29.07824316909899"
      ]
     },
     "execution_count": 42,
     "metadata": {},
     "output_type": "execute_result"
    }
   ],
   "source": [
    "np.linalg.norm(closest_array[0] - samples_array[0])"
   ]
  },
  {
   "cell_type": "code",
   "execution_count": 43,
   "metadata": {},
   "outputs": [],
   "source": [
    "closest_df = pd.DataFrame(closest_array, columns = train_keys)"
   ]
  },
  {
   "cell_type": "code",
   "execution_count": 44,
   "metadata": {},
   "outputs": [
    {
     "name": "stdout",
     "output_type": "stream",
     "text": [
      "ane          778\n",
      "ate          778\n",
      "autor        778\n",
      "machtor      778\n",
      "x            778\n",
      "zeff         778\n",
      "gammae       778\n",
      "q            778\n",
      "smag         778\n",
      "alpha        778\n",
      "ani1         778\n",
      "ati0         778\n",
      "normni1      778\n",
      "ti_te0       778\n",
      "lognustar    778\n",
      "dtype: int64\n"
     ]
    }
   ],
   "source": [
    "print(closest_df.isna().sum())\n",
    "\n",
    "closest_df = closest_df.dropna()"
   ]
  },
  {
   "cell_type": "code",
   "execution_count": 45,
   "metadata": {},
   "outputs": [],
   "source": [
    "train_data_copy = train_data.copy()\n",
    "\n",
    "train_data_copy[\"hue\"] = \"original\"\n",
    "closest_df[\"hue\"] = \"closest\"\n",
    "\n",
    "concat_df = pd.concat([train_data_copy.sample(len(closest_df.index)), closest_df]).reset_index(drop = True)"
   ]
  },
  {
   "cell_type": "code",
   "execution_count": 46,
   "metadata": {},
   "outputs": [
    {
     "data": {
      "text/html": [
       "<div>\n",
       "<style scoped>\n",
       "    .dataframe tbody tr th:only-of-type {\n",
       "        vertical-align: middle;\n",
       "    }\n",
       "\n",
       "    .dataframe tbody tr th {\n",
       "        vertical-align: top;\n",
       "    }\n",
       "\n",
       "    .dataframe thead th {\n",
       "        text-align: right;\n",
       "    }\n",
       "</style>\n",
       "<table border=\"1\" class=\"dataframe\">\n",
       "  <thead>\n",
       "    <tr style=\"text-align: right;\">\n",
       "      <th></th>\n",
       "      <th>ane</th>\n",
       "      <th>ate</th>\n",
       "      <th>autor</th>\n",
       "      <th>machtor</th>\n",
       "      <th>x</th>\n",
       "      <th>zeff</th>\n",
       "      <th>gammae</th>\n",
       "      <th>q</th>\n",
       "      <th>smag</th>\n",
       "      <th>alpha</th>\n",
       "      <th>ani1</th>\n",
       "      <th>ati0</th>\n",
       "      <th>normni1</th>\n",
       "      <th>ti_te0</th>\n",
       "      <th>lognustar</th>\n",
       "      <th>hue</th>\n",
       "    </tr>\n",
       "  </thead>\n",
       "  <tbody>\n",
       "    <tr>\n",
       "      <th>0</th>\n",
       "      <td>-0.091259</td>\n",
       "      <td>0.969682</td>\n",
       "      <td>-0.291835</td>\n",
       "      <td>-0.530952</td>\n",
       "      <td>1.200953</td>\n",
       "      <td>0.232934</td>\n",
       "      <td>0.042775</td>\n",
       "      <td>1.648665</td>\n",
       "      <td>0.662594</td>\n",
       "      <td>-0.303045</td>\n",
       "      <td>-0.052202</td>\n",
       "      <td>0.163634</td>\n",
       "      <td>-0.254491</td>\n",
       "      <td>-0.108225</td>\n",
       "      <td>1.458881</td>\n",
       "      <td>original</td>\n",
       "    </tr>\n",
       "    <tr>\n",
       "      <th>1</th>\n",
       "      <td>-0.595114</td>\n",
       "      <td>-0.733873</td>\n",
       "      <td>-0.291835</td>\n",
       "      <td>-0.530952</td>\n",
       "      <td>-1.367708</td>\n",
       "      <td>-0.503023</td>\n",
       "      <td>0.042775</td>\n",
       "      <td>-0.847463</td>\n",
       "      <td>-0.692942</td>\n",
       "      <td>-0.462165</td>\n",
       "      <td>-0.443898</td>\n",
       "      <td>-0.700140</td>\n",
       "      <td>-0.226227</td>\n",
       "      <td>-0.156001</td>\n",
       "      <td>-0.052054</td>\n",
       "      <td>original</td>\n",
       "    </tr>\n",
       "    <tr>\n",
       "      <th>2</th>\n",
       "      <td>0.850855</td>\n",
       "      <td>1.065906</td>\n",
       "      <td>1.030580</td>\n",
       "      <td>0.269880</td>\n",
       "      <td>1.296334</td>\n",
       "      <td>-0.128186</td>\n",
       "      <td>0.241523</td>\n",
       "      <td>0.530048</td>\n",
       "      <td>1.279155</td>\n",
       "      <td>1.489571</td>\n",
       "      <td>1.485588</td>\n",
       "      <td>-0.565373</td>\n",
       "      <td>-0.820834</td>\n",
       "      <td>0.153586</td>\n",
       "      <td>-0.368190</td>\n",
       "      <td>original</td>\n",
       "    </tr>\n",
       "    <tr>\n",
       "      <th>3</th>\n",
       "      <td>-0.367069</td>\n",
       "      <td>-0.744665</td>\n",
       "      <td>-0.102375</td>\n",
       "      <td>1.153770</td>\n",
       "      <td>-1.365876</td>\n",
       "      <td>-1.113822</td>\n",
       "      <td>0.537673</td>\n",
       "      <td>-0.923788</td>\n",
       "      <td>-0.663865</td>\n",
       "      <td>-0.327923</td>\n",
       "      <td>-0.343984</td>\n",
       "      <td>-0.738487</td>\n",
       "      <td>-1.001111</td>\n",
       "      <td>-0.523094</td>\n",
       "      <td>1.036198</td>\n",
       "      <td>original</td>\n",
       "    </tr>\n",
       "    <tr>\n",
       "      <th>4</th>\n",
       "      <td>-0.154614</td>\n",
       "      <td>-0.250072</td>\n",
       "      <td>-0.291835</td>\n",
       "      <td>-0.530952</td>\n",
       "      <td>-1.009704</td>\n",
       "      <td>2.742640</td>\n",
       "      <td>0.042775</td>\n",
       "      <td>-0.280737</td>\n",
       "      <td>-0.645797</td>\n",
       "      <td>-0.517647</td>\n",
       "      <td>-0.268579</td>\n",
       "      <td>-0.572125</td>\n",
       "      <td>1.198787</td>\n",
       "      <td>-0.108225</td>\n",
       "      <td>0.592879</td>\n",
       "      <td>original</td>\n",
       "    </tr>\n",
       "    <tr>\n",
       "      <th>...</th>\n",
       "      <td>...</td>\n",
       "      <td>...</td>\n",
       "      <td>...</td>\n",
       "      <td>...</td>\n",
       "      <td>...</td>\n",
       "      <td>...</td>\n",
       "      <td>...</td>\n",
       "      <td>...</td>\n",
       "      <td>...</td>\n",
       "      <td>...</td>\n",
       "      <td>...</td>\n",
       "      <td>...</td>\n",
       "      <td>...</td>\n",
       "      <td>...</td>\n",
       "      <td>...</td>\n",
       "      <td>...</td>\n",
       "    </tr>\n",
       "    <tr>\n",
       "      <th>18439</th>\n",
       "      <td>6.857983</td>\n",
       "      <td>2.008415</td>\n",
       "      <td>0.708489</td>\n",
       "      <td>-0.040592</td>\n",
       "      <td>1.590951</td>\n",
       "      <td>1.285467</td>\n",
       "      <td>-0.191404</td>\n",
       "      <td>2.317186</td>\n",
       "      <td>1.357950</td>\n",
       "      <td>3.397277</td>\n",
       "      <td>7.273252</td>\n",
       "      <td>3.107147</td>\n",
       "      <td>-0.705424</td>\n",
       "      <td>4.372419</td>\n",
       "      <td>1.794545</td>\n",
       "      <td>closest</td>\n",
       "    </tr>\n",
       "    <tr>\n",
       "      <th>18440</th>\n",
       "      <td>1.103623</td>\n",
       "      <td>-0.852688</td>\n",
       "      <td>-0.291835</td>\n",
       "      <td>-0.530952</td>\n",
       "      <td>1.596151</td>\n",
       "      <td>-0.075832</td>\n",
       "      <td>0.042775</td>\n",
       "      <td>3.268411</td>\n",
       "      <td>3.382721</td>\n",
       "      <td>0.975708</td>\n",
       "      <td>1.211874</td>\n",
       "      <td>1.668640</td>\n",
       "      <td>-0.109316</td>\n",
       "      <td>3.906713</td>\n",
       "      <td>1.678088</td>\n",
       "      <td>closest</td>\n",
       "    </tr>\n",
       "    <tr>\n",
       "      <th>18441</th>\n",
       "      <td>1.461595</td>\n",
       "      <td>2.947934</td>\n",
       "      <td>-0.291835</td>\n",
       "      <td>-0.530952</td>\n",
       "      <td>1.616729</td>\n",
       "      <td>-0.843207</td>\n",
       "      <td>0.042775</td>\n",
       "      <td>1.250593</td>\n",
       "      <td>0.817798</td>\n",
       "      <td>-0.207480</td>\n",
       "      <td>0.259319</td>\n",
       "      <td>5.006976</td>\n",
       "      <td>-0.213163</td>\n",
       "      <td>-0.108225</td>\n",
       "      <td>1.322243</td>\n",
       "      <td>closest</td>\n",
       "    </tr>\n",
       "    <tr>\n",
       "      <th>18442</th>\n",
       "      <td>-0.135777</td>\n",
       "      <td>4.973408</td>\n",
       "      <td>-0.291835</td>\n",
       "      <td>-0.530952</td>\n",
       "      <td>1.532967</td>\n",
       "      <td>0.983099</td>\n",
       "      <td>0.042775</td>\n",
       "      <td>2.344148</td>\n",
       "      <td>-0.019404</td>\n",
       "      <td>-0.335264</td>\n",
       "      <td>-0.099298</td>\n",
       "      <td>-1.841720</td>\n",
       "      <td>1.338090</td>\n",
       "      <td>-0.108225</td>\n",
       "      <td>1.557460</td>\n",
       "      <td>closest</td>\n",
       "    </tr>\n",
       "    <tr>\n",
       "      <th>18443</th>\n",
       "      <td>0.074475</td>\n",
       "      <td>0.421983</td>\n",
       "      <td>-0.273580</td>\n",
       "      <td>-0.053488</td>\n",
       "      <td>-0.953535</td>\n",
       "      <td>-0.178214</td>\n",
       "      <td>-0.107806</td>\n",
       "      <td>-0.659390</td>\n",
       "      <td>-0.577625</td>\n",
       "      <td>-0.406454</td>\n",
       "      <td>0.007200</td>\n",
       "      <td>-0.101783</td>\n",
       "      <td>20.473113</td>\n",
       "      <td>-1.730409</td>\n",
       "      <td>-0.883183</td>\n",
       "      <td>closest</td>\n",
       "    </tr>\n",
       "  </tbody>\n",
       "</table>\n",
       "<p>18444 rows × 16 columns</p>\n",
       "</div>"
      ],
      "text/plain": [
       "            ane       ate     autor   machtor         x      zeff    gammae  \\\n",
       "0     -0.091259  0.969682 -0.291835 -0.530952  1.200953  0.232934  0.042775   \n",
       "1     -0.595114 -0.733873 -0.291835 -0.530952 -1.367708 -0.503023  0.042775   \n",
       "2      0.850855  1.065906  1.030580  0.269880  1.296334 -0.128186  0.241523   \n",
       "3     -0.367069 -0.744665 -0.102375  1.153770 -1.365876 -1.113822  0.537673   \n",
       "4     -0.154614 -0.250072 -0.291835 -0.530952 -1.009704  2.742640  0.042775   \n",
       "...         ...       ...       ...       ...       ...       ...       ...   \n",
       "18439  6.857983  2.008415  0.708489 -0.040592  1.590951  1.285467 -0.191404   \n",
       "18440  1.103623 -0.852688 -0.291835 -0.530952  1.596151 -0.075832  0.042775   \n",
       "18441  1.461595  2.947934 -0.291835 -0.530952  1.616729 -0.843207  0.042775   \n",
       "18442 -0.135777  4.973408 -0.291835 -0.530952  1.532967  0.983099  0.042775   \n",
       "18443  0.074475  0.421983 -0.273580 -0.053488 -0.953535 -0.178214 -0.107806   \n",
       "\n",
       "              q      smag     alpha      ani1      ati0    normni1    ti_te0  \\\n",
       "0      1.648665  0.662594 -0.303045 -0.052202  0.163634  -0.254491 -0.108225   \n",
       "1     -0.847463 -0.692942 -0.462165 -0.443898 -0.700140  -0.226227 -0.156001   \n",
       "2      0.530048  1.279155  1.489571  1.485588 -0.565373  -0.820834  0.153586   \n",
       "3     -0.923788 -0.663865 -0.327923 -0.343984 -0.738487  -1.001111 -0.523094   \n",
       "4     -0.280737 -0.645797 -0.517647 -0.268579 -0.572125   1.198787 -0.108225   \n",
       "...         ...       ...       ...       ...       ...        ...       ...   \n",
       "18439  2.317186  1.357950  3.397277  7.273252  3.107147  -0.705424  4.372419   \n",
       "18440  3.268411  3.382721  0.975708  1.211874  1.668640  -0.109316  3.906713   \n",
       "18441  1.250593  0.817798 -0.207480  0.259319  5.006976  -0.213163 -0.108225   \n",
       "18442  2.344148 -0.019404 -0.335264 -0.099298 -1.841720   1.338090 -0.108225   \n",
       "18443 -0.659390 -0.577625 -0.406454  0.007200 -0.101783  20.473113 -1.730409   \n",
       "\n",
       "       lognustar       hue  \n",
       "0       1.458881  original  \n",
       "1      -0.052054  original  \n",
       "2      -0.368190  original  \n",
       "3       1.036198  original  \n",
       "4       0.592879  original  \n",
       "...          ...       ...  \n",
       "18439   1.794545   closest  \n",
       "18440   1.678088   closest  \n",
       "18441   1.322243   closest  \n",
       "18442   1.557460   closest  \n",
       "18443  -0.883183   closest  \n",
       "\n",
       "[18444 rows x 16 columns]"
      ]
     },
     "execution_count": 46,
     "metadata": {},
     "output_type": "execute_result"
    }
   ],
   "source": [
    "concat_df"
   ]
  },
  {
   "cell_type": "code",
   "execution_count": 47,
   "metadata": {},
   "outputs": [
    {
     "data": {
      "image/png": "[encoded data removed]",
      "text/plain": [
       "<Figure size 432x288 with 1 Axes>"
      ]
     },
     "metadata": {
      "needs_background": "light"
     },
     "output_type": "display_data"
    },
    {
     "data": {
      "image/png": "[encoded data removed]",
      "text/plain": [
       "<Figure size 432x288 with 1 Axes>"
      ]
     },
     "metadata": {
      "needs_background": "light"
     },
     "output_type": "display_data"
    },
    {
     "data": {
      "image/png": "[encoded data removed]",
      "text/plain": [
       "<Figure size 432x288 with 1 Axes>"
      ]
     },
     "metadata": {
      "needs_background": "light"
     },
     "output_type": "display_data"
    },
    {
     "data": {
      "image/png": "[encoded data removed]",
      "text/plain": [
       "<Figure size 432x288 with 1 Axes>"
      ]
     },
     "metadata": {
      "needs_background": "light"
     },
     "output_type": "display_data"
    },
    {
     "data": {
      "image/png": "[encoded data removed]",
      "text/plain": [
       "<Figure size 432x288 with 1 Axes>"
      ]
     },
     "metadata": {
      "needs_background": "light"
     },
     "output_type": "display_data"
    },
    {
     "data": {
      "image/png": "[encoded data removed]",
      "text/plain": [
       "<Figure size 432x288 with 1 Axes>"
      ]
     },
     "metadata": {
      "needs_background": "light"
     },
     "output_type": "display_data"
    },
    {
     "data": {
      "image/png": "[encoded data removed]",
      "text/plain": [
       "<Figure size 432x288 with 1 Axes>"
      ]
     },
     "metadata": {
      "needs_background": "light"
     },
     "output_type": "display_data"
    },
    {
     "data": {
      "image/png": "[encoded data removed]",
      "text/plain": [
       "<Figure size 432x288 with 1 Axes>"
      ]
     },
     "metadata": {
      "needs_background": "light"
     },
     "output_type": "display_data"
    },
    {
     "data": {
      "image/png": "[encoded data removed]",
      "text/plain": [
       "<Figure size 432x288 with 1 Axes>"
      ]
     },
     "metadata": {
      "needs_background": "light"
     },
     "output_type": "display_data"
    },
    {
     "data": {
      "image/png": "[encoded data removed]",
      "text/plain": [
       "<Figure size 432x288 with 1 Axes>"
      ]
     },
     "metadata": {
      "needs_background": "light"
     },
     "output_type": "display_data"
    },
    {
     "data": {
      "image/png": "[encoded data removed]",
      "text/plain": [
       "<Figure size 432x288 with 1 Axes>"
      ]
     },
     "metadata": {
      "needs_background": "light"
     },
     "output_type": "display_data"
    },
    {
     "data": {
      "image/png": "[encoded data removed]",
      "text/plain": [
       "<Figure size 432x288 with 1 Axes>"
      ]
     },
     "metadata": {
      "needs_background": "light"
     },
     "output_type": "display_data"
    },
    {
     "data": {
      "image/png": "[encoded data removed]",
      "text/plain": [
       "<Figure size 432x288 with 1 Axes>"
      ]
     },
     "metadata": {
      "needs_background": "light"
     },
     "output_type": "display_data"
    },
    {
     "data": {
      "image/png": "[encoded data removed]",
      "text/plain": [
       "<Figure size 432x288 with 1 Axes>"
      ]
     },
     "metadata": {
      "needs_background": "light"
     },
     "output_type": "display_data"
    },
    {
     "data": {
      "image/png": "[encoded data removed]",
      "text/plain": [
       "<Figure size 432x288 with 1 Axes>"
      ]
     },
     "metadata": {
      "needs_background": "light"
     },
     "output_type": "display_data"
    }
   ],
   "source": [
    "for i in train_keys:\n",
    "    plt.figure()\n",
    "    sns.histplot(data = concat_df, x = i, bins = 50, hue = \"hue\")"
   ]
  },
  {
   "cell_type": "code",
   "execution_count": 50,
   "metadata": {},
   "outputs": [],
   "source": [
    "samples_array2 = sample_point_array(bounds_dict, n_points = 100)\n",
    "train_data_array2 = train_data.values"
   ]
  },
  {
   "cell_type": "code",
   "execution_count": 51,
   "metadata": {},
   "outputs": [],
   "source": [
    "closest_array = np.apply_along_axis(find_closest_point_threshold_numba, 1, samples_array2, train_data_array2, distance_threshold = 30)"
   ]
  },
  {
   "cell_type": "markdown",
   "metadata": {},
   "source": [
    "### Using Autoencoder to reduce dimensionality"
   ]
  },
  {
   "cell_type": "code",
   "execution_count": 11,
   "metadata": {},
   "outputs": [],
   "source": [
    "from scripts.AutoEncoder import AutoEncoder, AutoEncoderDataset, Encoder, Decoder\n",
    "from scripts.AutoEncoder import EncoderBig, DecoderBig, EncoderHuge, DecoderHuge"
   ]
  },
  {
   "cell_type": "code",
   "execution_count": 89,
   "metadata": {},
   "outputs": [],
   "source": [
    "path = \"/unix/atlastracking/jbarr/UKAEAGroupProject/experiment_name=0-epoch=127-val_loss=0.03.ckpt\"\n",
    "model = AutoEncoder.load_from_checkpoint(path, encoder = EncoderHuge, decoder = DecoderHuge,\n",
    "                                         n_input = 15, batch_size = 2048, epochs = 150, learning_rate = 0.001)\n",
    "encoder = model.encoder"
   ]
  },
  {
   "cell_type": "code",
   "execution_count": 179,
   "metadata": {},
   "outputs": [],
   "source": [
    "train_data = pd.read_pickle(\"/unix/atlastracking/jbarr/train_data_clipped.pkl\")\n",
    "validation_data = pd.read_pickle(\"/unix/atlastracking/jbarr/valid_data_clipped.pkl\")\n",
    "\n",
    "# Keep only the data that gives an output\n",
    "train_data = train_data[train_data[\"target\"] == 1]\n",
    "validation_data = validation_data[validation_data[\"target\"] == 1]"
   ]
  },
  {
   "cell_type": "code",
   "execution_count": 180,
   "metadata": {},
   "outputs": [],
   "source": [
    "keys = train_keys + ['efiitg_gb']\n",
    "train_data = train_data[keys]\n",
    "validation_data = validation_data[keys].sample(100_000)\n",
    "\n",
    "train_data = train_data.dropna()\n",
    "validation_data = validation_data.dropna()"
   ]
  },
  {
   "cell_type": "code",
   "execution_count": 181,
   "metadata": {},
   "outputs": [],
   "source": [
    "scaler = StandardScaler()\n",
    "scaler.fit(train_data);\n",
    "\n",
    "train_data = pd.DataFrame(scaler.transform(train_data), columns = keys, index = train_data.index)\n",
    "\n",
    "target = train_data['efiitg_gb']\n",
    "train_data = train_data.drop(columns = ['efiitg_gb'])"
   ]
  },
  {
   "cell_type": "code",
   "execution_count": 182,
   "metadata": {},
   "outputs": [],
   "source": [
    "train_data_array = train_data.values\n",
    "index_array = train_data.index.values\n",
    "train_tensor = torch.tensor(train_data_array, dtype = torch.float32)\n",
    "\n",
    "encoded_points = encoder(train_tensor)\n",
    "encoded_array = encoded_points.detach().numpy()"
   ]
  },
  {
   "cell_type": "code",
   "execution_count": 183,
   "metadata": {},
   "outputs": [],
   "source": [
    "H, edges = np.histogramdd(encoded_array, bins = (50, 50, 50))\n"
   ]
  },
  {
   "cell_type": "code",
   "execution_count": 184,
   "metadata": {},
   "outputs": [
    {
     "data": {
      "image/png": "[encoded data removed]",
      "text/plain": [
       "<Figure size 432x288 with 1 Axes>"
      ]
     },
     "metadata": {
      "needs_background": "light"
     },
     "output_type": "display_data"
    },
    {
     "data": {
      "image/png": "[encoded data removed]",
      "text/plain": [
       "<Figure size 432x288 with 1 Axes>"
      ]
     },
     "metadata": {
      "needs_background": "light"
     },
     "output_type": "display_data"
    },
    {
     "data": {
      "image/png": "[encoded data removed]",
      "text/plain": [
       "<Figure size 432x288 with 1 Axes>"
      ]
     },
     "metadata": {
      "needs_background": "light"
     },
     "output_type": "display_data"
    }
   ],
   "source": [
    "# plot 1D histogram slices\n",
    "for i in range(3):\n",
    "    plt.figure()\n",
    "    plt.hist(encoded_array[:, i], bins = 50)"
   ]
  },
  {
   "cell_type": "code",
   "execution_count": 185,
   "metadata": {},
   "outputs": [],
   "source": [
    "#!!! np digitize has an extra bin at the end compared to histogramdd!!\n",
    "\n",
    "# get which bin each point is in\n",
    "bin_x = np.fmin(np.digitize(encoded_array[:, 0], edges[0]), len(edges[0]) - 1)\n",
    "bin_y = np.fmin(np.digitize(encoded_array[:, 1], edges[1]), len(edges[1]) - 1)\n",
    "bin_z = np.fmin(np.digitize(encoded_array[:, 2], edges[2]), len(edges[2]) - 1)"
   ]
  },
  {
   "cell_type": "code",
   "execution_count": 186,
   "metadata": {},
   "outputs": [],
   "source": [
    "bin_lists = [[] for _ in range (50**3)]\n",
    "\n",
    "for i in range(len(encoded_array)):\n",
    "    # digitize returns 1 indexed arrays instead of 0 indexed for some reason!!\n",
    "    idx = np.ravel_multi_index((bin_x[i] - 1, bin_y[i] - 1, bin_z[i] - 1), (50, 50, 50))\n",
    "    bin_lists[idx].append(i) #appending the index of the point in the list of points in the bin"
   ]
  },
  {
   "cell_type": "code",
   "execution_count": 187,
   "metadata": {},
   "outputs": [],
   "source": [
    "\n",
    "def get_points_in_bin(bin_list, n_points = 10):\n",
    "    index = []\n",
    "    counts = []\n",
    "\n",
    "    for i in range(n_points):\n",
    "        sampled = False\n",
    "        count = 0\n",
    "        while not sampled:\n",
    "            count += 1\n",
    "\n",
    "            # randomly select integer from 0 to len(bin_lists) and sample a point from that bin\n",
    "            bin_number = np.random.randint(0, len(bin_lists))\n",
    "\n",
    "            bin_length = len(bin_lists[bin_number])\n",
    "\n",
    "            # sample from bin only if bin is not empty\n",
    "            if bin_length > 0:\n",
    "                sampled_index = bin_lists[bin_number][np.random.randint(0, bin_length)]\n",
    "\n",
    "                # check if point is already sampled\n",
    "                if sampled not in index:\n",
    "                    sampled = True\n",
    "\n",
    "        index.append(sampled_index)\n",
    "        counts.append(count)\n",
    "\n",
    "    return index, counts\n"
   ]
  },
  {
   "cell_type": "code",
   "execution_count": 188,
   "metadata": {},
   "outputs": [],
   "source": [
    "indices, counts = get_points_in_bin(bin_lists, n_points = 10_000)"
   ]
  },
  {
   "cell_type": "code",
   "execution_count": 189,
   "metadata": {},
   "outputs": [
    {
     "name": "stdout",
     "output_type": "stream",
     "text": [
      "32.9979\n"
     ]
    },
    {
     "data": {
      "image/png": "[encoded data removed]",
      "text/plain": [
       "<Figure size 432x288 with 1 Axes>"
      ]
     },
     "metadata": {
      "needs_background": "light"
     },
     "output_type": "display_data"
    }
   ],
   "source": [
    "plt.figure()\n",
    "plt.hist(counts, bins = 50);\n",
    "print(np.mean(counts))"
   ]
  },
  {
   "cell_type": "code",
   "execution_count": 190,
   "metadata": {},
   "outputs": [
    {
     "data": {
      "text/html": [
       "<div>\n",
       "<style scoped>\n",
       "    .dataframe tbody tr th:only-of-type {\n",
       "        vertical-align: middle;\n",
       "    }\n",
       "\n",
       "    .dataframe tbody tr th {\n",
       "        vertical-align: top;\n",
       "    }\n",
       "\n",
       "    .dataframe thead th {\n",
       "        text-align: right;\n",
       "    }\n",
       "</style>\n",
       "<table border=\"1\" class=\"dataframe\">\n",
       "  <thead>\n",
       "    <tr style=\"text-align: right;\">\n",
       "      <th></th>\n",
       "      <th>ane</th>\n",
       "      <th>ate</th>\n",
       "      <th>autor</th>\n",
       "      <th>machtor</th>\n",
       "      <th>x</th>\n",
       "      <th>zeff</th>\n",
       "      <th>gammae</th>\n",
       "      <th>q</th>\n",
       "      <th>smag</th>\n",
       "      <th>alpha</th>\n",
       "      <th>ani1</th>\n",
       "      <th>ati0</th>\n",
       "      <th>normni1</th>\n",
       "      <th>ti_te0</th>\n",
       "      <th>lognustar</th>\n",
       "    </tr>\n",
       "  </thead>\n",
       "  <tbody>\n",
       "    <tr>\n",
       "      <th>22053823</th>\n",
       "      <td>10.363671</td>\n",
       "      <td>4.548238</td>\n",
       "      <td>0.504898</td>\n",
       "      <td>-0.423483</td>\n",
       "      <td>1.586443</td>\n",
       "      <td>-0.579279</td>\n",
       "      <td>-0.503254</td>\n",
       "      <td>1.005714</td>\n",
       "      <td>0.188066</td>\n",
       "      <td>3.038949</td>\n",
       "      <td>9.147718</td>\n",
       "      <td>2.412368</td>\n",
       "      <td>-1.363214</td>\n",
       "      <td>-1.062304</td>\n",
       "      <td>0.530965</td>\n",
       "    </tr>\n",
       "    <tr>\n",
       "      <th>18164940</th>\n",
       "      <td>-1.870584</td>\n",
       "      <td>0.036724</td>\n",
       "      <td>-0.291835</td>\n",
       "      <td>-0.530952</td>\n",
       "      <td>1.545710</td>\n",
       "      <td>-0.971207</td>\n",
       "      <td>0.042775</td>\n",
       "      <td>4.277935</td>\n",
       "      <td>-1.809371</td>\n",
       "      <td>-0.296954</td>\n",
       "      <td>0.225674</td>\n",
       "      <td>-0.902771</td>\n",
       "      <td>-0.267232</td>\n",
       "      <td>-0.108225</td>\n",
       "      <td>2.484799</td>\n",
       "    </tr>\n",
       "    <tr>\n",
       "      <th>2116833</th>\n",
       "      <td>-0.699329</td>\n",
       "      <td>-0.229863</td>\n",
       "      <td>-0.291835</td>\n",
       "      <td>-0.530952</td>\n",
       "      <td>0.597547</td>\n",
       "      <td>-0.015176</td>\n",
       "      <td>0.042775</td>\n",
       "      <td>-0.098085</td>\n",
       "      <td>-0.344454</td>\n",
       "      <td>-3.981170</td>\n",
       "      <td>-0.217657</td>\n",
       "      <td>2.767611</td>\n",
       "      <td>-0.111843</td>\n",
       "      <td>2.208646</td>\n",
       "      <td>0.993321</td>\n",
       "    </tr>\n",
       "    <tr>\n",
       "      <th>19430367</th>\n",
       "      <td>7.274465</td>\n",
       "      <td>-3.813488</td>\n",
       "      <td>-0.291835</td>\n",
       "      <td>-0.530952</td>\n",
       "      <td>1.644566</td>\n",
       "      <td>-0.295595</td>\n",
       "      <td>0.042775</td>\n",
       "      <td>5.856724</td>\n",
       "      <td>-1.165366</td>\n",
       "      <td>-0.712895</td>\n",
       "      <td>1.332605</td>\n",
       "      <td>-4.372198</td>\n",
       "      <td>-0.234193</td>\n",
       "      <td>-0.108225</td>\n",
       "      <td>4.374199</td>\n",
       "    </tr>\n",
       "    <tr>\n",
       "      <th>21187002</th>\n",
       "      <td>5.433699</td>\n",
       "      <td>-4.926201</td>\n",
       "      <td>-0.291835</td>\n",
       "      <td>-0.530952</td>\n",
       "      <td>1.646007</td>\n",
       "      <td>-0.311139</td>\n",
       "      <td>0.042775</td>\n",
       "      <td>6.334601</td>\n",
       "      <td>2.970641</td>\n",
       "      <td>-0.476970</td>\n",
       "      <td>2.411978</td>\n",
       "      <td>-1.206724</td>\n",
       "      <td>-0.233596</td>\n",
       "      <td>-0.108225</td>\n",
       "      <td>5.398550</td>\n",
       "    </tr>\n",
       "    <tr>\n",
       "      <th>...</th>\n",
       "      <td>...</td>\n",
       "      <td>...</td>\n",
       "      <td>...</td>\n",
       "      <td>...</td>\n",
       "      <td>...</td>\n",
       "      <td>...</td>\n",
       "      <td>...</td>\n",
       "      <td>...</td>\n",
       "      <td>...</td>\n",
       "      <td>...</td>\n",
       "      <td>...</td>\n",
       "      <td>...</td>\n",
       "      <td>...</td>\n",
       "      <td>...</td>\n",
       "      <td>...</td>\n",
       "    </tr>\n",
       "    <tr>\n",
       "      <th>26185832</th>\n",
       "      <td>5.547447</td>\n",
       "      <td>-5.276798</td>\n",
       "      <td>25.005561</td>\n",
       "      <td>-1.612535</td>\n",
       "      <td>1.611296</td>\n",
       "      <td>2.060768</td>\n",
       "      <td>2.810790</td>\n",
       "      <td>2.868450</td>\n",
       "      <td>6.563766</td>\n",
       "      <td>2.950041</td>\n",
       "      <td>5.913037</td>\n",
       "      <td>0.272902</td>\n",
       "      <td>1.252771</td>\n",
       "      <td>15.209425</td>\n",
       "      <td>3.528866</td>\n",
       "    </tr>\n",
       "    <tr>\n",
       "      <th>26613055</th>\n",
       "      <td>-1.184997</td>\n",
       "      <td>0.281671</td>\n",
       "      <td>7.588417</td>\n",
       "      <td>-0.750001</td>\n",
       "      <td>1.585946</td>\n",
       "      <td>0.411430</td>\n",
       "      <td>-1.545862</td>\n",
       "      <td>1.861797</td>\n",
       "      <td>5.400331</td>\n",
       "      <td>7.531843</td>\n",
       "      <td>0.884536</td>\n",
       "      <td>2.059711</td>\n",
       "      <td>1.383351</td>\n",
       "      <td>0.484214</td>\n",
       "      <td>0.734833</td>\n",
       "    </tr>\n",
       "    <tr>\n",
       "      <th>13776627</th>\n",
       "      <td>7.237692</td>\n",
       "      <td>-6.099473</td>\n",
       "      <td>-0.291835</td>\n",
       "      <td>-0.530952</td>\n",
       "      <td>1.640017</td>\n",
       "      <td>-0.934434</td>\n",
       "      <td>0.042775</td>\n",
       "      <td>8.939268</td>\n",
       "      <td>3.444413</td>\n",
       "      <td>-0.765814</td>\n",
       "      <td>-2.222859</td>\n",
       "      <td>-2.456689</td>\n",
       "      <td>-0.209659</td>\n",
       "      <td>-0.108225</td>\n",
       "      <td>6.850231</td>\n",
       "    </tr>\n",
       "    <tr>\n",
       "      <th>23049037</th>\n",
       "      <td>11.166644</td>\n",
       "      <td>-0.674037</td>\n",
       "      <td>0.448495</td>\n",
       "      <td>-0.053574</td>\n",
       "      <td>1.614479</td>\n",
       "      <td>0.495067</td>\n",
       "      <td>-0.417438</td>\n",
       "      <td>0.907219</td>\n",
       "      <td>4.171131</td>\n",
       "      <td>1.305560</td>\n",
       "      <td>1.844842</td>\n",
       "      <td>3.696261</td>\n",
       "      <td>-0.683064</td>\n",
       "      <td>0.944847</td>\n",
       "      <td>2.649204</td>\n",
       "    </tr>\n",
       "    <tr>\n",
       "      <th>4825039</th>\n",
       "      <td>-5.722841</td>\n",
       "      <td>3.839421</td>\n",
       "      <td>-0.291835</td>\n",
       "      <td>-0.530952</td>\n",
       "      <td>1.616424</td>\n",
       "      <td>0.308930</td>\n",
       "      <td>0.042775</td>\n",
       "      <td>2.343181</td>\n",
       "      <td>2.410559</td>\n",
       "      <td>-0.083017</td>\n",
       "      <td>-0.461519</td>\n",
       "      <td>4.589125</td>\n",
       "      <td>1.391465</td>\n",
       "      <td>-0.108225</td>\n",
       "      <td>0.833148</td>\n",
       "    </tr>\n",
       "  </tbody>\n",
       "</table>\n",
       "<p>10000 rows × 15 columns</p>\n",
       "</div>"
      ],
      "text/plain": [
       "                ane       ate      autor   machtor         x      zeff  \\\n",
       "22053823  10.363671  4.548238   0.504898 -0.423483  1.586443 -0.579279   \n",
       "18164940  -1.870584  0.036724  -0.291835 -0.530952  1.545710 -0.971207   \n",
       "2116833   -0.699329 -0.229863  -0.291835 -0.530952  0.597547 -0.015176   \n",
       "19430367   7.274465 -3.813488  -0.291835 -0.530952  1.644566 -0.295595   \n",
       "21187002   5.433699 -4.926201  -0.291835 -0.530952  1.646007 -0.311139   \n",
       "...             ...       ...        ...       ...       ...       ...   \n",
       "26185832   5.547447 -5.276798  25.005561 -1.612535  1.611296  2.060768   \n",
       "26613055  -1.184997  0.281671   7.588417 -0.750001  1.585946  0.411430   \n",
       "13776627   7.237692 -6.099473  -0.291835 -0.530952  1.640017 -0.934434   \n",
       "23049037  11.166644 -0.674037   0.448495 -0.053574  1.614479  0.495067   \n",
       "4825039   -5.722841  3.839421  -0.291835 -0.530952  1.616424  0.308930   \n",
       "\n",
       "            gammae         q      smag     alpha      ani1      ati0  \\\n",
       "22053823 -0.503254  1.005714  0.188066  3.038949  9.147718  2.412368   \n",
       "18164940  0.042775  4.277935 -1.809371 -0.296954  0.225674 -0.902771   \n",
       "2116833   0.042775 -0.098085 -0.344454 -3.981170 -0.217657  2.767611   \n",
       "19430367  0.042775  5.856724 -1.165366 -0.712895  1.332605 -4.372198   \n",
       "21187002  0.042775  6.334601  2.970641 -0.476970  2.411978 -1.206724   \n",
       "...            ...       ...       ...       ...       ...       ...   \n",
       "26185832  2.810790  2.868450  6.563766  2.950041  5.913037  0.272902   \n",
       "26613055 -1.545862  1.861797  5.400331  7.531843  0.884536  2.059711   \n",
       "13776627  0.042775  8.939268  3.444413 -0.765814 -2.222859 -2.456689   \n",
       "23049037 -0.417438  0.907219  4.171131  1.305560  1.844842  3.696261   \n",
       "4825039   0.042775  2.343181  2.410559 -0.083017 -0.461519  4.589125   \n",
       "\n",
       "           normni1     ti_te0  lognustar  \n",
       "22053823 -1.363214  -1.062304   0.530965  \n",
       "18164940 -0.267232  -0.108225   2.484799  \n",
       "2116833  -0.111843   2.208646   0.993321  \n",
       "19430367 -0.234193  -0.108225   4.374199  \n",
       "21187002 -0.233596  -0.108225   5.398550  \n",
       "...            ...        ...        ...  \n",
       "26185832  1.252771  15.209425   3.528866  \n",
       "26613055  1.383351   0.484214   0.734833  \n",
       "13776627 -0.209659  -0.108225   6.850231  \n",
       "23049037 -0.683064   0.944847   2.649204  \n",
       "4825039   1.391465  -0.108225   0.833148  \n",
       "\n",
       "[10000 rows x 15 columns]"
      ]
     },
     "execution_count": 190,
     "metadata": {},
     "output_type": "execute_result"
    }
   ],
   "source": [
    "sampled_values = train_data_array[indices]\n",
    "sampled_df = pd.DataFrame(sampled_values, columns = train_keys, index = index_array[indices])\n",
    "sampled_df"
   ]
  },
  {
   "cell_type": "code",
   "execution_count": 191,
   "metadata": {},
   "outputs": [],
   "source": [
    "# add back efiitg_gb\n",
    "sampled_df[\"efiitg_gb\"] = target.loc[index_array[indices]]\n",
    "\n",
    "# unnormalize\n",
    "sampled_df_unscaled = pd.DataFrame(scaler.inverse_transform(sampled_df),\n",
    "    columns = scaler.feature_names_in_,\n",
    "    index = sampled_df.index\n",
    "    )"
   ]
  },
  {
   "cell_type": "code",
   "execution_count": 192,
   "metadata": {},
   "outputs": [
    {
     "data": {
      "text/html": [
       "<div>\n",
       "<style scoped>\n",
       "    .dataframe tbody tr th:only-of-type {\n",
       "        vertical-align: middle;\n",
       "    }\n",
       "\n",
       "    .dataframe tbody tr th {\n",
       "        vertical-align: top;\n",
       "    }\n",
       "\n",
       "    .dataframe thead th {\n",
       "        text-align: right;\n",
       "    }\n",
       "</style>\n",
       "<table border=\"1\" class=\"dataframe\">\n",
       "  <thead>\n",
       "    <tr style=\"text-align: right;\">\n",
       "      <th></th>\n",
       "      <th>ane</th>\n",
       "      <th>ate</th>\n",
       "      <th>autor</th>\n",
       "      <th>machtor</th>\n",
       "      <th>x</th>\n",
       "      <th>zeff</th>\n",
       "      <th>gammae</th>\n",
       "      <th>q</th>\n",
       "      <th>smag</th>\n",
       "      <th>alpha</th>\n",
       "      <th>ani1</th>\n",
       "      <th>ati0</th>\n",
       "      <th>normni1</th>\n",
       "      <th>ti_te0</th>\n",
       "      <th>lognustar</th>\n",
       "      <th>efiitg_gb</th>\n",
       "    </tr>\n",
       "  </thead>\n",
       "  <tbody>\n",
       "    <tr>\n",
       "      <th>22053823</th>\n",
       "      <td>76.003840</td>\n",
       "      <td>45.645990</td>\n",
       "      <td>1.288696</td>\n",
       "      <td>0.020460</td>\n",
       "      <td>0.928450</td>\n",
       "      <td>1.445477</td>\n",
       "      <td>-0.414564</td>\n",
       "      <td>3.281224</td>\n",
       "      <td>1.186726</td>\n",
       "      <td>1.674246</td>\n",
       "      <td>63.652180</td>\n",
       "      <td>23.594930</td>\n",
       "      <td>0.004655</td>\n",
       "      <td>0.813141</td>\n",
       "      <td>-0.187191</td>\n",
       "      <td>0.0000</td>\n",
       "    </tr>\n",
       "    <tr>\n",
       "      <th>18164940</th>\n",
       "      <td>-9.924100</td>\n",
       "      <td>6.902524</td>\n",
       "      <td>0.000000</td>\n",
       "      <td>0.000000</td>\n",
       "      <td>0.917172</td>\n",
       "      <td>1.193691</td>\n",
       "      <td>0.000000</td>\n",
       "      <td>7.146319</td>\n",
       "      <td>-1.467759</td>\n",
       "      <td>0.127152</td>\n",
       "      <td>4.417931</td>\n",
       "      <td>-0.717716</td>\n",
       "      <td>0.016057</td>\n",
       "      <td>1.000000</td>\n",
       "      <td>0.775721</td>\n",
       "      <td>0.0000</td>\n",
       "    </tr>\n",
       "    <tr>\n",
       "      <th>2116833</th>\n",
       "      <td>-1.697728</td>\n",
       "      <td>4.613157</td>\n",
       "      <td>0.000000</td>\n",
       "      <td>0.000000</td>\n",
       "      <td>0.654632</td>\n",
       "      <td>1.807873</td>\n",
       "      <td>0.000000</td>\n",
       "      <td>1.977434</td>\n",
       "      <td>0.479037</td>\n",
       "      <td>-1.581480</td>\n",
       "      <td>1.474611</td>\n",
       "      <td>26.200220</td>\n",
       "      <td>0.017674</td>\n",
       "      <td>1.453765</td>\n",
       "      <td>0.040673</td>\n",
       "      <td>136.9459</td>\n",
       "    </tr>\n",
       "    <tr>\n",
       "      <th>19430367</th>\n",
       "      <td>54.306640</td>\n",
       "      <td>-26.161890</td>\n",
       "      <td>0.000000</td>\n",
       "      <td>0.000000</td>\n",
       "      <td>0.944544</td>\n",
       "      <td>1.627724</td>\n",
       "      <td>0.000000</td>\n",
       "      <td>9.011159</td>\n",
       "      <td>-0.611912</td>\n",
       "      <td>-0.065750</td>\n",
       "      <td>11.766940</td>\n",
       "      <td>-26.161890</td>\n",
       "      <td>0.016401</td>\n",
       "      <td>1.000000</td>\n",
       "      <td>1.706878</td>\n",
       "      <td>0.0000</td>\n",
       "    </tr>\n",
       "    <tr>\n",
       "      <th>21187002</th>\n",
       "      <td>41.377920</td>\n",
       "      <td>-35.717520</td>\n",
       "      <td>0.000000</td>\n",
       "      <td>0.000000</td>\n",
       "      <td>0.944944</td>\n",
       "      <td>1.617738</td>\n",
       "      <td>0.000000</td>\n",
       "      <td>9.575620</td>\n",
       "      <td>4.884619</td>\n",
       "      <td>0.043666</td>\n",
       "      <td>18.933000</td>\n",
       "      <td>-2.946859</td>\n",
       "      <td>0.016407</td>\n",
       "      <td>1.000000</td>\n",
       "      <td>2.211711</td>\n",
       "      <td>0.0000</td>\n",
       "    </tr>\n",
       "    <tr>\n",
       "      <th>...</th>\n",
       "      <td>...</td>\n",
       "      <td>...</td>\n",
       "      <td>...</td>\n",
       "      <td>...</td>\n",
       "      <td>...</td>\n",
       "      <td>...</td>\n",
       "      <td>...</td>\n",
       "      <td>...</td>\n",
       "      <td>...</td>\n",
       "      <td>...</td>\n",
       "      <td>...</td>\n",
       "      <td>...</td>\n",
       "      <td>...</td>\n",
       "      <td>...</td>\n",
       "      <td>...</td>\n",
       "      <td>...</td>\n",
       "    </tr>\n",
       "    <tr>\n",
       "      <th>26185832</th>\n",
       "      <td>42.176840</td>\n",
       "      <td>-38.728340</td>\n",
       "      <td>40.917900</td>\n",
       "      <td>-0.205908</td>\n",
       "      <td>0.935332</td>\n",
       "      <td>3.141520</td>\n",
       "      <td>2.101572</td>\n",
       "      <td>5.481457</td>\n",
       "      <td>9.659688</td>\n",
       "      <td>1.633013</td>\n",
       "      <td>42.176840</td>\n",
       "      <td>7.904461</td>\n",
       "      <td>0.031870</td>\n",
       "      <td>4.000001</td>\n",
       "      <td>1.290271</td>\n",
       "      <td>0.0000</td>\n",
       "    </tr>\n",
       "    <tr>\n",
       "      <th>26613055</th>\n",
       "      <td>-5.108843</td>\n",
       "      <td>9.006051</td>\n",
       "      <td>12.746110</td>\n",
       "      <td>-0.041702</td>\n",
       "      <td>0.928313</td>\n",
       "      <td>2.081937</td>\n",
       "      <td>-1.206148</td>\n",
       "      <td>4.292415</td>\n",
       "      <td>8.113545</td>\n",
       "      <td>3.757919</td>\n",
       "      <td>8.792170</td>\n",
       "      <td>21.008610</td>\n",
       "      <td>0.033228</td>\n",
       "      <td>1.116031</td>\n",
       "      <td>-0.086718</td>\n",
       "      <td>0.0000</td>\n",
       "    </tr>\n",
       "    <tr>\n",
       "      <th>13776627</th>\n",
       "      <td>54.048360</td>\n",
       "      <td>-45.793210</td>\n",
       "      <td>0.000000</td>\n",
       "      <td>0.000000</td>\n",
       "      <td>0.943285</td>\n",
       "      <td>1.217315</td>\n",
       "      <td>0.000000</td>\n",
       "      <td>12.652210</td>\n",
       "      <td>5.514236</td>\n",
       "      <td>-0.090292</td>\n",
       "      <td>-11.838100</td>\n",
       "      <td>-12.113880</td>\n",
       "      <td>0.016656</td>\n",
       "      <td>1.000000</td>\n",
       "      <td>2.927146</td>\n",
       "      <td>0.0000</td>\n",
       "    </tr>\n",
       "    <tr>\n",
       "      <th>23049037</th>\n",
       "      <td>81.643570</td>\n",
       "      <td>0.798729</td>\n",
       "      <td>1.197465</td>\n",
       "      <td>0.090882</td>\n",
       "      <td>0.936214</td>\n",
       "      <td>2.135668</td>\n",
       "      <td>-0.349409</td>\n",
       "      <td>3.164883</td>\n",
       "      <td>6.480005</td>\n",
       "      <td>0.870351</td>\n",
       "      <td>15.167730</td>\n",
       "      <td>33.010780</td>\n",
       "      <td>0.011731</td>\n",
       "      <td>1.206247</td>\n",
       "      <td>0.856745</td>\n",
       "      <td>0.0000</td>\n",
       "    </tr>\n",
       "    <tr>\n",
       "      <th>4825039</th>\n",
       "      <td>-36.980630</td>\n",
       "      <td>39.558890</td>\n",
       "      <td>0.000000</td>\n",
       "      <td>0.000000</td>\n",
       "      <td>0.936752</td>\n",
       "      <td>2.016088</td>\n",
       "      <td>0.000000</td>\n",
       "      <td>4.861018</td>\n",
       "      <td>4.140300</td>\n",
       "      <td>0.226370</td>\n",
       "      <td>-0.144408</td>\n",
       "      <td>39.558890</td>\n",
       "      <td>0.033313</td>\n",
       "      <td>1.000000</td>\n",
       "      <td>-0.038266</td>\n",
       "      <td>40.9731</td>\n",
       "    </tr>\n",
       "  </tbody>\n",
       "</table>\n",
       "<p>10000 rows × 16 columns</p>\n",
       "</div>"
      ],
      "text/plain": [
       "                ane        ate      autor   machtor         x      zeff  \\\n",
       "22053823  76.003840  45.645990   1.288696  0.020460  0.928450  1.445477   \n",
       "18164940  -9.924100   6.902524   0.000000  0.000000  0.917172  1.193691   \n",
       "2116833   -1.697728   4.613157   0.000000  0.000000  0.654632  1.807873   \n",
       "19430367  54.306640 -26.161890   0.000000  0.000000  0.944544  1.627724   \n",
       "21187002  41.377920 -35.717520   0.000000  0.000000  0.944944  1.617738   \n",
       "...             ...        ...        ...       ...       ...       ...   \n",
       "26185832  42.176840 -38.728340  40.917900 -0.205908  0.935332  3.141520   \n",
       "26613055  -5.108843   9.006051  12.746110 -0.041702  0.928313  2.081937   \n",
       "13776627  54.048360 -45.793210   0.000000  0.000000  0.943285  1.217315   \n",
       "23049037  81.643570   0.798729   1.197465  0.090882  0.936214  2.135668   \n",
       "4825039  -36.980630  39.558890   0.000000  0.000000  0.936752  2.016088   \n",
       "\n",
       "            gammae          q      smag     alpha       ani1       ati0  \\\n",
       "22053823 -0.414564   3.281224  1.186726  1.674246  63.652180  23.594930   \n",
       "18164940  0.000000   7.146319 -1.467759  0.127152   4.417931  -0.717716   \n",
       "2116833   0.000000   1.977434  0.479037 -1.581480   1.474611  26.200220   \n",
       "19430367  0.000000   9.011159 -0.611912 -0.065750  11.766940 -26.161890   \n",
       "21187002  0.000000   9.575620  4.884619  0.043666  18.933000  -2.946859   \n",
       "...            ...        ...       ...       ...        ...        ...   \n",
       "26185832  2.101572   5.481457  9.659688  1.633013  42.176840   7.904461   \n",
       "26613055 -1.206148   4.292415  8.113545  3.757919   8.792170  21.008610   \n",
       "13776627  0.000000  12.652210  5.514236 -0.090292 -11.838100 -12.113880   \n",
       "23049037 -0.349409   3.164883  6.480005  0.870351  15.167730  33.010780   \n",
       "4825039   0.000000   4.861018  4.140300  0.226370  -0.144408  39.558890   \n",
       "\n",
       "           normni1    ti_te0  lognustar  efiitg_gb  \n",
       "22053823  0.004655  0.813141  -0.187191     0.0000  \n",
       "18164940  0.016057  1.000000   0.775721     0.0000  \n",
       "2116833   0.017674  1.453765   0.040673   136.9459  \n",
       "19430367  0.016401  1.000000   1.706878     0.0000  \n",
       "21187002  0.016407  1.000000   2.211711     0.0000  \n",
       "...            ...       ...        ...        ...  \n",
       "26185832  0.031870  4.000001   1.290271     0.0000  \n",
       "26613055  0.033228  1.116031  -0.086718     0.0000  \n",
       "13776627  0.016656  1.000000   2.927146     0.0000  \n",
       "23049037  0.011731  1.206247   0.856745     0.0000  \n",
       "4825039   0.033313  1.000000  -0.038266    40.9731  \n",
       "\n",
       "[10000 rows x 16 columns]"
      ]
     },
     "execution_count": 192,
     "metadata": {},
     "output_type": "execute_result"
    }
   ],
   "source": [
    "sampled_df_unscaled"
   ]
  },
  {
   "cell_type": "code",
   "execution_count": 193,
   "metadata": {},
   "outputs": [],
   "source": [
    "sanity_check = train_data.loc[index_array[indices]]"
   ]
  },
  {
   "cell_type": "code",
   "execution_count": 194,
   "metadata": {},
   "outputs": [
    {
     "data": {
      "text/plain": [
       "(10000,)"
      ]
     },
     "execution_count": 194,
     "metadata": {},
     "output_type": "execute_result"
    }
   ],
   "source": [
    "index_array[indices].shape"
   ]
  },
  {
   "cell_type": "code",
   "execution_count": 202,
   "metadata": {},
   "outputs": [
    {
     "data": {
      "text/plain": [
       "False"
      ]
     },
     "execution_count": 202,
     "metadata": {},
     "output_type": "execute_result"
    }
   ],
   "source": [
    "sanity_check.equals(sampled_df_unscaled.drop(columns = ['efiitg_gb']))"
   ]
  },
  {
   "cell_type": "code",
   "execution_count": 204,
   "metadata": {},
   "outputs": [
    {
     "data": {
      "text/html": [
       "<div>\n",
       "<style scoped>\n",
       "    .dataframe tbody tr th:only-of-type {\n",
       "        vertical-align: middle;\n",
       "    }\n",
       "\n",
       "    .dataframe tbody tr th {\n",
       "        vertical-align: top;\n",
       "    }\n",
       "\n",
       "    .dataframe thead th {\n",
       "        text-align: right;\n",
       "    }\n",
       "</style>\n",
       "<table border=\"1\" class=\"dataframe\">\n",
       "  <thead>\n",
       "    <tr style=\"text-align: right;\">\n",
       "      <th></th>\n",
       "      <th>ane</th>\n",
       "      <th>ate</th>\n",
       "      <th>autor</th>\n",
       "      <th>machtor</th>\n",
       "      <th>x</th>\n",
       "      <th>zeff</th>\n",
       "      <th>gammae</th>\n",
       "      <th>q</th>\n",
       "      <th>smag</th>\n",
       "      <th>alpha</th>\n",
       "      <th>ani1</th>\n",
       "      <th>ati0</th>\n",
       "      <th>normni1</th>\n",
       "      <th>ti_te0</th>\n",
       "      <th>lognustar</th>\n",
       "    </tr>\n",
       "  </thead>\n",
       "  <tbody>\n",
       "    <tr>\n",
       "      <th>22053823</th>\n",
       "      <td>10.363671</td>\n",
       "      <td>4.548238</td>\n",
       "      <td>0.504898</td>\n",
       "      <td>-0.423483</td>\n",
       "      <td>1.586443</td>\n",
       "      <td>-0.579279</td>\n",
       "      <td>-0.503254</td>\n",
       "      <td>1.005714</td>\n",
       "      <td>0.188066</td>\n",
       "      <td>3.038949</td>\n",
       "      <td>9.147718</td>\n",
       "      <td>2.412368</td>\n",
       "      <td>-1.363214</td>\n",
       "      <td>-1.062304</td>\n",
       "      <td>0.530965</td>\n",
       "    </tr>\n",
       "    <tr>\n",
       "      <th>18164940</th>\n",
       "      <td>-1.870584</td>\n",
       "      <td>0.036724</td>\n",
       "      <td>-0.291835</td>\n",
       "      <td>-0.530952</td>\n",
       "      <td>1.545710</td>\n",
       "      <td>-0.971207</td>\n",
       "      <td>0.042775</td>\n",
       "      <td>4.277935</td>\n",
       "      <td>-1.809371</td>\n",
       "      <td>-0.296954</td>\n",
       "      <td>0.225674</td>\n",
       "      <td>-0.902771</td>\n",
       "      <td>-0.267232</td>\n",
       "      <td>-0.108225</td>\n",
       "      <td>2.484799</td>\n",
       "    </tr>\n",
       "    <tr>\n",
       "      <th>2116833</th>\n",
       "      <td>-0.699329</td>\n",
       "      <td>-0.229863</td>\n",
       "      <td>-0.291835</td>\n",
       "      <td>-0.530952</td>\n",
       "      <td>0.597547</td>\n",
       "      <td>-0.015176</td>\n",
       "      <td>0.042775</td>\n",
       "      <td>-0.098085</td>\n",
       "      <td>-0.344454</td>\n",
       "      <td>-3.981170</td>\n",
       "      <td>-0.217657</td>\n",
       "      <td>2.767611</td>\n",
       "      <td>-0.111843</td>\n",
       "      <td>2.208646</td>\n",
       "      <td>0.993321</td>\n",
       "    </tr>\n",
       "    <tr>\n",
       "      <th>19430367</th>\n",
       "      <td>7.274465</td>\n",
       "      <td>-3.813488</td>\n",
       "      <td>-0.291835</td>\n",
       "      <td>-0.530952</td>\n",
       "      <td>1.644566</td>\n",
       "      <td>-0.295595</td>\n",
       "      <td>0.042775</td>\n",
       "      <td>5.856724</td>\n",
       "      <td>-1.165366</td>\n",
       "      <td>-0.712895</td>\n",
       "      <td>1.332605</td>\n",
       "      <td>-4.372198</td>\n",
       "      <td>-0.234193</td>\n",
       "      <td>-0.108225</td>\n",
       "      <td>4.374199</td>\n",
       "    </tr>\n",
       "    <tr>\n",
       "      <th>21187002</th>\n",
       "      <td>5.433699</td>\n",
       "      <td>-4.926201</td>\n",
       "      <td>-0.291835</td>\n",
       "      <td>-0.530952</td>\n",
       "      <td>1.646007</td>\n",
       "      <td>-0.311139</td>\n",
       "      <td>0.042775</td>\n",
       "      <td>6.334601</td>\n",
       "      <td>2.970641</td>\n",
       "      <td>-0.476970</td>\n",
       "      <td>2.411978</td>\n",
       "      <td>-1.206724</td>\n",
       "      <td>-0.233596</td>\n",
       "      <td>-0.108225</td>\n",
       "      <td>5.398550</td>\n",
       "    </tr>\n",
       "    <tr>\n",
       "      <th>...</th>\n",
       "      <td>...</td>\n",
       "      <td>...</td>\n",
       "      <td>...</td>\n",
       "      <td>...</td>\n",
       "      <td>...</td>\n",
       "      <td>...</td>\n",
       "      <td>...</td>\n",
       "      <td>...</td>\n",
       "      <td>...</td>\n",
       "      <td>...</td>\n",
       "      <td>...</td>\n",
       "      <td>...</td>\n",
       "      <td>...</td>\n",
       "      <td>...</td>\n",
       "      <td>...</td>\n",
       "    </tr>\n",
       "    <tr>\n",
       "      <th>26185832</th>\n",
       "      <td>5.547447</td>\n",
       "      <td>-5.276798</td>\n",
       "      <td>25.005561</td>\n",
       "      <td>-1.612535</td>\n",
       "      <td>1.611296</td>\n",
       "      <td>2.060768</td>\n",
       "      <td>2.810790</td>\n",
       "      <td>2.868450</td>\n",
       "      <td>6.563766</td>\n",
       "      <td>2.950041</td>\n",
       "      <td>5.913037</td>\n",
       "      <td>0.272902</td>\n",
       "      <td>1.252771</td>\n",
       "      <td>15.209425</td>\n",
       "      <td>3.528866</td>\n",
       "    </tr>\n",
       "    <tr>\n",
       "      <th>26613055</th>\n",
       "      <td>-1.184997</td>\n",
       "      <td>0.281671</td>\n",
       "      <td>7.588417</td>\n",
       "      <td>-0.750001</td>\n",
       "      <td>1.585946</td>\n",
       "      <td>0.411430</td>\n",
       "      <td>-1.545862</td>\n",
       "      <td>1.861797</td>\n",
       "      <td>5.400331</td>\n",
       "      <td>7.531843</td>\n",
       "      <td>0.884536</td>\n",
       "      <td>2.059711</td>\n",
       "      <td>1.383351</td>\n",
       "      <td>0.484214</td>\n",
       "      <td>0.734833</td>\n",
       "    </tr>\n",
       "    <tr>\n",
       "      <th>13776627</th>\n",
       "      <td>7.237692</td>\n",
       "      <td>-6.099473</td>\n",
       "      <td>-0.291835</td>\n",
       "      <td>-0.530952</td>\n",
       "      <td>1.640017</td>\n",
       "      <td>-0.934434</td>\n",
       "      <td>0.042775</td>\n",
       "      <td>8.939268</td>\n",
       "      <td>3.444413</td>\n",
       "      <td>-0.765814</td>\n",
       "      <td>-2.222859</td>\n",
       "      <td>-2.456689</td>\n",
       "      <td>-0.209659</td>\n",
       "      <td>-0.108225</td>\n",
       "      <td>6.850231</td>\n",
       "    </tr>\n",
       "    <tr>\n",
       "      <th>23049037</th>\n",
       "      <td>11.166644</td>\n",
       "      <td>-0.674037</td>\n",
       "      <td>0.448495</td>\n",
       "      <td>-0.053574</td>\n",
       "      <td>1.614479</td>\n",
       "      <td>0.495067</td>\n",
       "      <td>-0.417438</td>\n",
       "      <td>0.907219</td>\n",
       "      <td>4.171131</td>\n",
       "      <td>1.305560</td>\n",
       "      <td>1.844842</td>\n",
       "      <td>3.696261</td>\n",
       "      <td>-0.683064</td>\n",
       "      <td>0.944847</td>\n",
       "      <td>2.649204</td>\n",
       "    </tr>\n",
       "    <tr>\n",
       "      <th>4825039</th>\n",
       "      <td>-5.722841</td>\n",
       "      <td>3.839421</td>\n",
       "      <td>-0.291835</td>\n",
       "      <td>-0.530952</td>\n",
       "      <td>1.616424</td>\n",
       "      <td>0.308930</td>\n",
       "      <td>0.042775</td>\n",
       "      <td>2.343181</td>\n",
       "      <td>2.410559</td>\n",
       "      <td>-0.083017</td>\n",
       "      <td>-0.461519</td>\n",
       "      <td>4.589125</td>\n",
       "      <td>1.391465</td>\n",
       "      <td>-0.108225</td>\n",
       "      <td>0.833148</td>\n",
       "    </tr>\n",
       "  </tbody>\n",
       "</table>\n",
       "<p>10000 rows × 15 columns</p>\n",
       "</div>"
      ],
      "text/plain": [
       "                ane       ate      autor   machtor         x      zeff  \\\n",
       "22053823  10.363671  4.548238   0.504898 -0.423483  1.586443 -0.579279   \n",
       "18164940  -1.870584  0.036724  -0.291835 -0.530952  1.545710 -0.971207   \n",
       "2116833   -0.699329 -0.229863  -0.291835 -0.530952  0.597547 -0.015176   \n",
       "19430367   7.274465 -3.813488  -0.291835 -0.530952  1.644566 -0.295595   \n",
       "21187002   5.433699 -4.926201  -0.291835 -0.530952  1.646007 -0.311139   \n",
       "...             ...       ...        ...       ...       ...       ...   \n",
       "26185832   5.547447 -5.276798  25.005561 -1.612535  1.611296  2.060768   \n",
       "26613055  -1.184997  0.281671   7.588417 -0.750001  1.585946  0.411430   \n",
       "13776627   7.237692 -6.099473  -0.291835 -0.530952  1.640017 -0.934434   \n",
       "23049037  11.166644 -0.674037   0.448495 -0.053574  1.614479  0.495067   \n",
       "4825039   -5.722841  3.839421  -0.291835 -0.530952  1.616424  0.308930   \n",
       "\n",
       "            gammae         q      smag     alpha      ani1      ati0  \\\n",
       "22053823 -0.503254  1.005714  0.188066  3.038949  9.147718  2.412368   \n",
       "18164940  0.042775  4.277935 -1.809371 -0.296954  0.225674 -0.902771   \n",
       "2116833   0.042775 -0.098085 -0.344454 -3.981170 -0.217657  2.767611   \n",
       "19430367  0.042775  5.856724 -1.165366 -0.712895  1.332605 -4.372198   \n",
       "21187002  0.042775  6.334601  2.970641 -0.476970  2.411978 -1.206724   \n",
       "...            ...       ...       ...       ...       ...       ...   \n",
       "26185832  2.810790  2.868450  6.563766  2.950041  5.913037  0.272902   \n",
       "26613055 -1.545862  1.861797  5.400331  7.531843  0.884536  2.059711   \n",
       "13776627  0.042775  8.939268  3.444413 -0.765814 -2.222859 -2.456689   \n",
       "23049037 -0.417438  0.907219  4.171131  1.305560  1.844842  3.696261   \n",
       "4825039   0.042775  2.343181  2.410559 -0.083017 -0.461519  4.589125   \n",
       "\n",
       "           normni1     ti_te0  lognustar  \n",
       "22053823 -1.363214  -1.062304   0.530965  \n",
       "18164940 -0.267232  -0.108225   2.484799  \n",
       "2116833  -0.111843   2.208646   0.993321  \n",
       "19430367 -0.234193  -0.108225   4.374199  \n",
       "21187002 -0.233596  -0.108225   5.398550  \n",
       "...            ...        ...        ...  \n",
       "26185832  1.252771  15.209425   3.528866  \n",
       "26613055  1.383351   0.484214   0.734833  \n",
       "13776627 -0.209659  -0.108225   6.850231  \n",
       "23049037 -0.683064   0.944847   2.649204  \n",
       "4825039   1.391465  -0.108225   0.833148  \n",
       "\n",
       "[10000 rows x 15 columns]"
      ]
     },
     "execution_count": 204,
     "metadata": {},
     "output_type": "execute_result"
    }
   ],
   "source": [
    "sanity_check"
   ]
  },
  {
   "cell_type": "code",
   "execution_count": 203,
   "metadata": {},
   "outputs": [
    {
     "data": {
      "text/html": [
       "<div>\n",
       "<style scoped>\n",
       "    .dataframe tbody tr th:only-of-type {\n",
       "        vertical-align: middle;\n",
       "    }\n",
       "\n",
       "    .dataframe tbody tr th {\n",
       "        vertical-align: top;\n",
       "    }\n",
       "\n",
       "    .dataframe thead th {\n",
       "        text-align: right;\n",
       "    }\n",
       "</style>\n",
       "<table border=\"1\" class=\"dataframe\">\n",
       "  <thead>\n",
       "    <tr style=\"text-align: right;\">\n",
       "      <th></th>\n",
       "      <th>ane</th>\n",
       "      <th>ate</th>\n",
       "      <th>autor</th>\n",
       "      <th>machtor</th>\n",
       "      <th>x</th>\n",
       "      <th>zeff</th>\n",
       "      <th>gammae</th>\n",
       "      <th>q</th>\n",
       "      <th>smag</th>\n",
       "      <th>alpha</th>\n",
       "      <th>ani1</th>\n",
       "      <th>ati0</th>\n",
       "      <th>normni1</th>\n",
       "      <th>ti_te0</th>\n",
       "      <th>lognustar</th>\n",
       "      <th>efiitg_gb</th>\n",
       "    </tr>\n",
       "  </thead>\n",
       "  <tbody>\n",
       "    <tr>\n",
       "      <th>22053823</th>\n",
       "      <td>76.003840</td>\n",
       "      <td>45.645990</td>\n",
       "      <td>1.288696</td>\n",
       "      <td>0.020460</td>\n",
       "      <td>0.928450</td>\n",
       "      <td>1.445477</td>\n",
       "      <td>-0.414564</td>\n",
       "      <td>3.281224</td>\n",
       "      <td>1.186726</td>\n",
       "      <td>1.674246</td>\n",
       "      <td>63.652180</td>\n",
       "      <td>23.594930</td>\n",
       "      <td>0.004655</td>\n",
       "      <td>0.813141</td>\n",
       "      <td>-0.187191</td>\n",
       "      <td>0.0000</td>\n",
       "    </tr>\n",
       "    <tr>\n",
       "      <th>18164940</th>\n",
       "      <td>-9.924100</td>\n",
       "      <td>6.902524</td>\n",
       "      <td>0.000000</td>\n",
       "      <td>0.000000</td>\n",
       "      <td>0.917172</td>\n",
       "      <td>1.193691</td>\n",
       "      <td>0.000000</td>\n",
       "      <td>7.146319</td>\n",
       "      <td>-1.467759</td>\n",
       "      <td>0.127152</td>\n",
       "      <td>4.417931</td>\n",
       "      <td>-0.717716</td>\n",
       "      <td>0.016057</td>\n",
       "      <td>1.000000</td>\n",
       "      <td>0.775721</td>\n",
       "      <td>0.0000</td>\n",
       "    </tr>\n",
       "    <tr>\n",
       "      <th>2116833</th>\n",
       "      <td>-1.697728</td>\n",
       "      <td>4.613157</td>\n",
       "      <td>0.000000</td>\n",
       "      <td>0.000000</td>\n",
       "      <td>0.654632</td>\n",
       "      <td>1.807873</td>\n",
       "      <td>0.000000</td>\n",
       "      <td>1.977434</td>\n",
       "      <td>0.479037</td>\n",
       "      <td>-1.581480</td>\n",
       "      <td>1.474611</td>\n",
       "      <td>26.200220</td>\n",
       "      <td>0.017674</td>\n",
       "      <td>1.453765</td>\n",
       "      <td>0.040673</td>\n",
       "      <td>136.9459</td>\n",
       "    </tr>\n",
       "    <tr>\n",
       "      <th>19430367</th>\n",
       "      <td>54.306640</td>\n",
       "      <td>-26.161890</td>\n",
       "      <td>0.000000</td>\n",
       "      <td>0.000000</td>\n",
       "      <td>0.944544</td>\n",
       "      <td>1.627724</td>\n",
       "      <td>0.000000</td>\n",
       "      <td>9.011159</td>\n",
       "      <td>-0.611912</td>\n",
       "      <td>-0.065750</td>\n",
       "      <td>11.766940</td>\n",
       "      <td>-26.161890</td>\n",
       "      <td>0.016401</td>\n",
       "      <td>1.000000</td>\n",
       "      <td>1.706878</td>\n",
       "      <td>0.0000</td>\n",
       "    </tr>\n",
       "    <tr>\n",
       "      <th>21187002</th>\n",
       "      <td>41.377920</td>\n",
       "      <td>-35.717520</td>\n",
       "      <td>0.000000</td>\n",
       "      <td>0.000000</td>\n",
       "      <td>0.944944</td>\n",
       "      <td>1.617738</td>\n",
       "      <td>0.000000</td>\n",
       "      <td>9.575620</td>\n",
       "      <td>4.884619</td>\n",
       "      <td>0.043666</td>\n",
       "      <td>18.933000</td>\n",
       "      <td>-2.946859</td>\n",
       "      <td>0.016407</td>\n",
       "      <td>1.000000</td>\n",
       "      <td>2.211711</td>\n",
       "      <td>0.0000</td>\n",
       "    </tr>\n",
       "    <tr>\n",
       "      <th>...</th>\n",
       "      <td>...</td>\n",
       "      <td>...</td>\n",
       "      <td>...</td>\n",
       "      <td>...</td>\n",
       "      <td>...</td>\n",
       "      <td>...</td>\n",
       "      <td>...</td>\n",
       "      <td>...</td>\n",
       "      <td>...</td>\n",
       "      <td>...</td>\n",
       "      <td>...</td>\n",
       "      <td>...</td>\n",
       "      <td>...</td>\n",
       "      <td>...</td>\n",
       "      <td>...</td>\n",
       "      <td>...</td>\n",
       "    </tr>\n",
       "    <tr>\n",
       "      <th>26185832</th>\n",
       "      <td>42.176840</td>\n",
       "      <td>-38.728340</td>\n",
       "      <td>40.917900</td>\n",
       "      <td>-0.205908</td>\n",
       "      <td>0.935332</td>\n",
       "      <td>3.141520</td>\n",
       "      <td>2.101572</td>\n",
       "      <td>5.481457</td>\n",
       "      <td>9.659688</td>\n",
       "      <td>1.633013</td>\n",
       "      <td>42.176840</td>\n",
       "      <td>7.904461</td>\n",
       "      <td>0.031870</td>\n",
       "      <td>4.000001</td>\n",
       "      <td>1.290271</td>\n",
       "      <td>0.0000</td>\n",
       "    </tr>\n",
       "    <tr>\n",
       "      <th>26613055</th>\n",
       "      <td>-5.108843</td>\n",
       "      <td>9.006051</td>\n",
       "      <td>12.746110</td>\n",
       "      <td>-0.041702</td>\n",
       "      <td>0.928313</td>\n",
       "      <td>2.081937</td>\n",
       "      <td>-1.206148</td>\n",
       "      <td>4.292415</td>\n",
       "      <td>8.113545</td>\n",
       "      <td>3.757919</td>\n",
       "      <td>8.792170</td>\n",
       "      <td>21.008610</td>\n",
       "      <td>0.033228</td>\n",
       "      <td>1.116031</td>\n",
       "      <td>-0.086718</td>\n",
       "      <td>0.0000</td>\n",
       "    </tr>\n",
       "    <tr>\n",
       "      <th>13776627</th>\n",
       "      <td>54.048360</td>\n",
       "      <td>-45.793210</td>\n",
       "      <td>0.000000</td>\n",
       "      <td>0.000000</td>\n",
       "      <td>0.943285</td>\n",
       "      <td>1.217315</td>\n",
       "      <td>0.000000</td>\n",
       "      <td>12.652210</td>\n",
       "      <td>5.514236</td>\n",
       "      <td>-0.090292</td>\n",
       "      <td>-11.838100</td>\n",
       "      <td>-12.113880</td>\n",
       "      <td>0.016656</td>\n",
       "      <td>1.000000</td>\n",
       "      <td>2.927146</td>\n",
       "      <td>0.0000</td>\n",
       "    </tr>\n",
       "    <tr>\n",
       "      <th>23049037</th>\n",
       "      <td>81.643570</td>\n",
       "      <td>0.798729</td>\n",
       "      <td>1.197465</td>\n",
       "      <td>0.090882</td>\n",
       "      <td>0.936214</td>\n",
       "      <td>2.135668</td>\n",
       "      <td>-0.349409</td>\n",
       "      <td>3.164883</td>\n",
       "      <td>6.480005</td>\n",
       "      <td>0.870351</td>\n",
       "      <td>15.167730</td>\n",
       "      <td>33.010780</td>\n",
       "      <td>0.011731</td>\n",
       "      <td>1.206247</td>\n",
       "      <td>0.856745</td>\n",
       "      <td>0.0000</td>\n",
       "    </tr>\n",
       "    <tr>\n",
       "      <th>4825039</th>\n",
       "      <td>-36.980630</td>\n",
       "      <td>39.558890</td>\n",
       "      <td>0.000000</td>\n",
       "      <td>0.000000</td>\n",
       "      <td>0.936752</td>\n",
       "      <td>2.016088</td>\n",
       "      <td>0.000000</td>\n",
       "      <td>4.861018</td>\n",
       "      <td>4.140300</td>\n",
       "      <td>0.226370</td>\n",
       "      <td>-0.144408</td>\n",
       "      <td>39.558890</td>\n",
       "      <td>0.033313</td>\n",
       "      <td>1.000000</td>\n",
       "      <td>-0.038266</td>\n",
       "      <td>40.9731</td>\n",
       "    </tr>\n",
       "  </tbody>\n",
       "</table>\n",
       "<p>10000 rows × 16 columns</p>\n",
       "</div>"
      ],
      "text/plain": [
       "                ane        ate      autor   machtor         x      zeff  \\\n",
       "22053823  76.003840  45.645990   1.288696  0.020460  0.928450  1.445477   \n",
       "18164940  -9.924100   6.902524   0.000000  0.000000  0.917172  1.193691   \n",
       "2116833   -1.697728   4.613157   0.000000  0.000000  0.654632  1.807873   \n",
       "19430367  54.306640 -26.161890   0.000000  0.000000  0.944544  1.627724   \n",
       "21187002  41.377920 -35.717520   0.000000  0.000000  0.944944  1.617738   \n",
       "...             ...        ...        ...       ...       ...       ...   \n",
       "26185832  42.176840 -38.728340  40.917900 -0.205908  0.935332  3.141520   \n",
       "26613055  -5.108843   9.006051  12.746110 -0.041702  0.928313  2.081937   \n",
       "13776627  54.048360 -45.793210   0.000000  0.000000  0.943285  1.217315   \n",
       "23049037  81.643570   0.798729   1.197465  0.090882  0.936214  2.135668   \n",
       "4825039  -36.980630  39.558890   0.000000  0.000000  0.936752  2.016088   \n",
       "\n",
       "            gammae          q      smag     alpha       ani1       ati0  \\\n",
       "22053823 -0.414564   3.281224  1.186726  1.674246  63.652180  23.594930   \n",
       "18164940  0.000000   7.146319 -1.467759  0.127152   4.417931  -0.717716   \n",
       "2116833   0.000000   1.977434  0.479037 -1.581480   1.474611  26.200220   \n",
       "19430367  0.000000   9.011159 -0.611912 -0.065750  11.766940 -26.161890   \n",
       "21187002  0.000000   9.575620  4.884619  0.043666  18.933000  -2.946859   \n",
       "...            ...        ...       ...       ...        ...        ...   \n",
       "26185832  2.101572   5.481457  9.659688  1.633013  42.176840   7.904461   \n",
       "26613055 -1.206148   4.292415  8.113545  3.757919   8.792170  21.008610   \n",
       "13776627  0.000000  12.652210  5.514236 -0.090292 -11.838100 -12.113880   \n",
       "23049037 -0.349409   3.164883  6.480005  0.870351  15.167730  33.010780   \n",
       "4825039   0.000000   4.861018  4.140300  0.226370  -0.144408  39.558890   \n",
       "\n",
       "           normni1    ti_te0  lognustar  efiitg_gb  \n",
       "22053823  0.004655  0.813141  -0.187191     0.0000  \n",
       "18164940  0.016057  1.000000   0.775721     0.0000  \n",
       "2116833   0.017674  1.453765   0.040673   136.9459  \n",
       "19430367  0.016401  1.000000   1.706878     0.0000  \n",
       "21187002  0.016407  1.000000   2.211711     0.0000  \n",
       "...            ...       ...        ...        ...  \n",
       "26185832  0.031870  4.000001   1.290271     0.0000  \n",
       "26613055  0.033228  1.116031  -0.086718     0.0000  \n",
       "13776627  0.016656  1.000000   2.927146     0.0000  \n",
       "23049037  0.011731  1.206247   0.856745     0.0000  \n",
       "4825039   0.033313  1.000000  -0.038266    40.9731  \n",
       "\n",
       "[10000 rows x 16 columns]"
      ]
     },
     "execution_count": 203,
     "metadata": {},
     "output_type": "execute_result"
    }
   ],
   "source": [
    "sampled_df_unscaled"
   ]
  },
  {
   "cell_type": "code",
   "execution_count": 205,
   "metadata": {},
   "outputs": [],
   "source": [
    "# pickle sampled data\n",
    "with open(\"sampled_data.pkl\", \"wb\") as f:\n",
    "    pickle.dump(sampled_df_unscaled, f)"
   ]
  },
  {
   "cell_type": "code",
   "execution_count": 57,
   "metadata": {},
   "outputs": [],
   "source": [
    "train_data_copy = train_data.copy()\n",
    "\n",
    "train_data_copy[\"hue\"] = \"original\"\n",
    "sampled_df[\"hue\"] = \"closest\"\n",
    "\n",
    "concat_df = pd.concat([train_data_copy.sample(len(sampled_df.index)), sampled_df]).reset_index(drop = True)"
   ]
  },
  {
   "cell_type": "code",
   "execution_count": 58,
   "metadata": {},
   "outputs": [
    {
     "data": {
      "image/png": "[encoded data removed]",
      "text/plain": [
       "<Figure size 432x288 with 1 Axes>"
      ]
     },
     "metadata": {
      "needs_background": "light"
     },
     "output_type": "display_data"
    },
    {
     "data": {
      "image/png": "[encoded data removed]",
      "text/plain": [
       "<Figure size 432x288 with 1 Axes>"
      ]
     },
     "metadata": {
      "needs_background": "light"
     },
     "output_type": "display_data"
    },
    {
     "data": {
      "image/png": "[encoded data removed]",
      "text/plain": [
       "<Figure size 432x288 with 1 Axes>"
      ]
     },
     "metadata": {
      "needs_background": "light"
     },
     "output_type": "display_data"
    },
    {
     "data": {
      "image/png": "[encoded data removed]",
      "text/plain": [
       "<Figure size 432x288 with 1 Axes>"
      ]
     },
     "metadata": {
      "needs_background": "light"
     },
     "output_type": "display_data"
    },
    {
     "data": {
      "image/png": "[encoded data removed]",
      "text/plain": [
       "<Figure size 432x288 with 1 Axes>"
      ]
     },
     "metadata": {
      "needs_background": "light"
     },
     "output_type": "display_data"
    },
    {
     "data": {
      "image/png": "[encoded data removed]",
      "text/plain": [
       "<Figure size 432x288 with 1 Axes>"
      ]
     },
     "metadata": {
      "needs_background": "light"
     },
     "output_type": "display_data"
    },
    {
     "data": {
      "image/png": "[encoded data removed]",
      "text/plain": [
       "<Figure size 432x288 with 1 Axes>"
      ]
     },
     "metadata": {
      "needs_background": "light"
     },
     "output_type": "display_data"
    },
    {
     "data": {
      "image/png": "[encoded data removed]",
      "text/plain": [
       "<Figure size 432x288 with 1 Axes>"
      ]
     },
     "metadata": {
      "needs_background": "light"
     },
     "output_type": "display_data"
    },
    {
     "data": {
      "image/png": "[encoded data removed]",
      "text/plain": [
       "<Figure size 432x288 with 1 Axes>"
      ]
     },
     "metadata": {
      "needs_background": "light"
     },
     "output_type": "display_data"
    },
    {
     "data": {
      "image/png": "[encoded data removed]",
      "text/plain": [
       "<Figure size 432x288 with 1 Axes>"
      ]
     },
     "metadata": {
      "needs_background": "light"
     },
     "output_type": "display_data"
    },
    {
     "data": {
      "image/png": "[encoded data removed]",
      "text/plain": [
       "<Figure size 432x288 with 1 Axes>"
      ]
     },
     "metadata": {
      "needs_background": "light"
     },
     "output_type": "display_data"
    },
    {
     "data": {
      "image/png": "[encoded data removed]",
      "text/plain": [
       "<Figure size 432x288 with 1 Axes>"
      ]
     },
     "metadata": {
      "needs_background": "light"
     },
     "output_type": "display_data"
    },
    {
     "data": {
      "image/png": "[encoded data removed]",
      "text/plain": [
       "<Figure size 432x288 with 1 Axes>"
      ]
     },
     "metadata": {
      "needs_background": "light"
     },
     "output_type": "display_data"
    },
    {
     "data": {
      "image/png": "[encoded data removed]",
      "text/plain": [
       "<Figure size 432x288 with 1 Axes>"
      ]
     },
     "metadata": {
      "needs_background": "light"
     },
     "output_type": "display_data"
    },
    {
     "data": {
      "image/png": "[encoded data removed]",
      "text/plain": [
       "<Figure size 432x288 with 1 Axes>"
      ]
     },
     "metadata": {
      "needs_background": "light"
     },
     "output_type": "display_data"
    }
   ],
   "source": [
    "for i in train_keys:\n",
    "    plt.figure()\n",
    "    sns.histplot(data = concat_df, x = i, bins = 50, hue = \"hue\")"
   ]
  },
  {
   "cell_type": "markdown",
   "metadata": {},
   "source": [
    "## Try method of getting coordinates and sampling coordinates"
   ]
  },
  {
   "cell_type": "code",
   "execution_count": null,
   "metadata": {},
   "outputs": [],
   "source": []
  },
  {
   "cell_type": "code",
   "execution_count": 67,
   "metadata": {},
   "outputs": [],
   "source": [
    "# for each column, get bin edges\n",
    "bin_edges = []\n",
    "for i in train_keys:\n",
    "    bin_edges.append(np.linspace(train_data[i].min(), train_data[i].max(), 50)) \n",
    "\n",
    "bin_edges = np.array(bin_edges)"
   ]
  },
  {
   "cell_type": "code",
   "execution_count": 80,
   "metadata": {},
   "outputs": [
    {
     "data": {
      "text/plain": [
       "array([-13.84101676, -13.27738328, -12.71374979, -12.15011631,\n",
       "       -11.58648282, -11.02284934, -10.45921585,  -9.89558236,\n",
       "        -9.33194888,  -8.76831539,  -8.20468191,  -7.64104842,\n",
       "        -7.07741493,  -6.51378145,  -5.95014796,  -5.38651448,\n",
       "        -4.82288099,  -4.25924751,  -3.69561402,  -3.13198053,\n",
       "        -2.56834705,  -2.00471356,  -1.44108008,  -0.87744659,\n",
       "        -0.31381311,   0.24982038,   0.81345387,   1.37708735,\n",
       "         1.94072084,   2.50435432,   3.06798781,   3.6316213 ,\n",
       "         4.19525478,   4.75888827,   5.32252175,   5.88615524,\n",
       "         6.44978872,   7.01342221,   7.5770557 ,   8.14068918,\n",
       "         8.70432267,   9.26795615,   9.83158964,  10.39522312,\n",
       "        10.95885661,  11.5224901 ,  12.08612358,  12.64975707,\n",
       "        13.21339055,  13.77702404])"
      ]
     },
     "execution_count": 80,
     "metadata": {},
     "output_type": "execute_result"
    }
   ],
   "source": [
    "bin_edges[0]"
   ]
  },
  {
   "cell_type": "code",
   "execution_count": 59,
   "metadata": {},
   "outputs": [],
   "source": [
    "train_samples = train_data.sample(100).values"
   ]
  },
  {
   "cell_type": "code",
   "execution_count": 70,
   "metadata": {},
   "outputs": [
    {
     "ename": "ValueError",
     "evalue": "object too deep for desired array",
     "output_type": "error",
     "traceback": [
      "\u001b[0;31m---------------------------------------------------------------------------\u001b[0m",
      "\u001b[0;31mValueError\u001b[0m                                Traceback (most recent call last)",
      "\u001b[1;32m/unix/atlastracking/jbarr/UKAEAGroupProject/src/notebooks/flatten.ipynb Cell 35'\u001b[0m in \u001b[0;36m<cell line: 1>\u001b[0;34m()\u001b[0m\n\u001b[0;32m----> <a href='vscode-notebook-cell://ssh-remote%2Bgpu/unix/atlastracking/jbarr/UKAEAGroupProject/src/notebooks/flatten.ipynb#ch0000050vscode-remote?line=0'>1</a>\u001b[0m edges \u001b[39m=\u001b[39m np\u001b[39m.\u001b[39;49mdigitize(train_samples[\u001b[39m0\u001b[39;49m], bin_edges)\n",
      "File \u001b[0;32m<__array_function__ internals>:5\u001b[0m, in \u001b[0;36mdigitize\u001b[0;34m(*args, **kwargs)\u001b[0m\n",
      "File \u001b[0;32m/unix/atlastracking/jbarr/ukaea-env/lib/python3.9/site-packages/numpy/lib/function_base.py:4922\u001b[0m, in \u001b[0;36mdigitize\u001b[0;34m(x, bins, right)\u001b[0m\n\u001b[1;32m   <a href='file:///unix/atlastracking/jbarr/ukaea-env/lib/python3.9/site-packages/numpy/lib/function_base.py?line=4918'>4919</a>\u001b[0m \u001b[39mif\u001b[39;00m np\u001b[39m.\u001b[39missubdtype(x\u001b[39m.\u001b[39mdtype, _nx\u001b[39m.\u001b[39mcomplexfloating):\n\u001b[1;32m   <a href='file:///unix/atlastracking/jbarr/ukaea-env/lib/python3.9/site-packages/numpy/lib/function_base.py?line=4919'>4920</a>\u001b[0m     \u001b[39mraise\u001b[39;00m \u001b[39mTypeError\u001b[39;00m(\u001b[39m\"\u001b[39m\u001b[39mx may not be complex\u001b[39m\u001b[39m\"\u001b[39m)\n\u001b[0;32m-> <a href='file:///unix/atlastracking/jbarr/ukaea-env/lib/python3.9/site-packages/numpy/lib/function_base.py?line=4921'>4922</a>\u001b[0m mono \u001b[39m=\u001b[39m _monotonicity(bins)\n\u001b[1;32m   <a href='file:///unix/atlastracking/jbarr/ukaea-env/lib/python3.9/site-packages/numpy/lib/function_base.py?line=4922'>4923</a>\u001b[0m \u001b[39mif\u001b[39;00m mono \u001b[39m==\u001b[39m \u001b[39m0\u001b[39m:\n\u001b[1;32m   <a href='file:///unix/atlastracking/jbarr/ukaea-env/lib/python3.9/site-packages/numpy/lib/function_base.py?line=4923'>4924</a>\u001b[0m     \u001b[39mraise\u001b[39;00m \u001b[39mValueError\u001b[39;00m(\u001b[39m\"\u001b[39m\u001b[39mbins must be monotonically increasing or decreasing\u001b[39m\u001b[39m\"\u001b[39m)\n",
      "\u001b[0;31mValueError\u001b[0m: object too deep for desired array"
     ]
    }
   ],
   "source": [
    "edges = np.digitize(train_samples[0], bin_edges)"
   ]
  },
  {
   "cell_type": "code",
   "execution_count": 91,
   "metadata": {},
   "outputs": [],
   "source": [
    "train_data_sample = train_data.copy()"
   ]
  },
  {
   "cell_type": "code",
   "execution_count": 103,
   "metadata": {},
   "outputs": [],
   "source": [
    "for i in range(len(train_keys)):\n",
    "    train_data_sample[f\"{train_keys[i]}_bin\"] = np.digitize(train_data_sample[train_keys[i]], bin_edges[i])\n",
    "\n",
    "train_data_coords = train_data_sample.drop(columns = train_keys)"
   ]
  },
  {
   "cell_type": "code",
   "execution_count": 104,
   "metadata": {},
   "outputs": [
    {
     "data": {
      "text/html": [
       "<div>\n",
       "<style scoped>\n",
       "    .dataframe tbody tr th:only-of-type {\n",
       "        vertical-align: middle;\n",
       "    }\n",
       "\n",
       "    .dataframe tbody tr th {\n",
       "        vertical-align: top;\n",
       "    }\n",
       "\n",
       "    .dataframe thead th {\n",
       "        text-align: right;\n",
       "    }\n",
       "</style>\n",
       "<table border=\"1\" class=\"dataframe\">\n",
       "  <thead>\n",
       "    <tr style=\"text-align: right;\">\n",
       "      <th></th>\n",
       "      <th>ane_bin</th>\n",
       "      <th>ate_bin</th>\n",
       "      <th>autor_bin</th>\n",
       "      <th>machtor_bin</th>\n",
       "      <th>x_bin</th>\n",
       "      <th>zeff_bin</th>\n",
       "      <th>gammae_bin</th>\n",
       "      <th>q_bin</th>\n",
       "      <th>smag_bin</th>\n",
       "      <th>alpha_bin</th>\n",
       "      <th>ani1_bin</th>\n",
       "      <th>ati0_bin</th>\n",
       "      <th>normni1_bin</th>\n",
       "      <th>ti_te0_bin</th>\n",
       "      <th>lognustar_bin</th>\n",
       "    </tr>\n",
       "  </thead>\n",
       "  <tbody>\n",
       "    <tr>\n",
       "      <th>31980701</th>\n",
       "      <td>24</td>\n",
       "      <td>18</td>\n",
       "      <td>20</td>\n",
       "      <td>29</td>\n",
       "      <td>11</td>\n",
       "      <td>2</td>\n",
       "      <td>36</td>\n",
       "      <td>1</td>\n",
       "      <td>9</td>\n",
       "      <td>9</td>\n",
       "      <td>26</td>\n",
       "      <td>18</td>\n",
       "      <td>4</td>\n",
       "      <td>10</td>\n",
       "      <td>11</td>\n",
       "    </tr>\n",
       "    <tr>\n",
       "      <th>30920680</th>\n",
       "      <td>24</td>\n",
       "      <td>17</td>\n",
       "      <td>20</td>\n",
       "      <td>30</td>\n",
       "      <td>11</td>\n",
       "      <td>1</td>\n",
       "      <td>33</td>\n",
       "      <td>2</td>\n",
       "      <td>9</td>\n",
       "      <td>10</td>\n",
       "      <td>25</td>\n",
       "      <td>18</td>\n",
       "      <td>2</td>\n",
       "      <td>8</td>\n",
       "      <td>12</td>\n",
       "    </tr>\n",
       "    <tr>\n",
       "      <th>5951936</th>\n",
       "      <td>27</td>\n",
       "      <td>6</td>\n",
       "      <td>19</td>\n",
       "      <td>10</td>\n",
       "      <td>48</td>\n",
       "      <td>3</td>\n",
       "      <td>33</td>\n",
       "      <td>6</td>\n",
       "      <td>13</td>\n",
       "      <td>9</td>\n",
       "      <td>26</td>\n",
       "      <td>16</td>\n",
       "      <td>4</td>\n",
       "      <td>8</td>\n",
       "      <td>28</td>\n",
       "    </tr>\n",
       "    <tr>\n",
       "      <th>8815332</th>\n",
       "      <td>25</td>\n",
       "      <td>18</td>\n",
       "      <td>19</td>\n",
       "      <td>10</td>\n",
       "      <td>17</td>\n",
       "      <td>2</td>\n",
       "      <td>33</td>\n",
       "      <td>1</td>\n",
       "      <td>9</td>\n",
       "      <td>8</td>\n",
       "      <td>25</td>\n",
       "      <td>17</td>\n",
       "      <td>3</td>\n",
       "      <td>8</td>\n",
       "      <td>9</td>\n",
       "    </tr>\n",
       "    <tr>\n",
       "      <th>6161299</th>\n",
       "      <td>24</td>\n",
       "      <td>18</td>\n",
       "      <td>19</td>\n",
       "      <td>10</td>\n",
       "      <td>17</td>\n",
       "      <td>3</td>\n",
       "      <td>33</td>\n",
       "      <td>1</td>\n",
       "      <td>10</td>\n",
       "      <td>8</td>\n",
       "      <td>25</td>\n",
       "      <td>18</td>\n",
       "      <td>4</td>\n",
       "      <td>8</td>\n",
       "      <td>11</td>\n",
       "    </tr>\n",
       "    <tr>\n",
       "      <th>...</th>\n",
       "      <td>...</td>\n",
       "      <td>...</td>\n",
       "      <td>...</td>\n",
       "      <td>...</td>\n",
       "      <td>...</td>\n",
       "      <td>...</td>\n",
       "      <td>...</td>\n",
       "      <td>...</td>\n",
       "      <td>...</td>\n",
       "      <td>...</td>\n",
       "      <td>...</td>\n",
       "      <td>...</td>\n",
       "      <td>...</td>\n",
       "      <td>...</td>\n",
       "      <td>...</td>\n",
       "    </tr>\n",
       "    <tr>\n",
       "      <th>13315092</th>\n",
       "      <td>24</td>\n",
       "      <td>17</td>\n",
       "      <td>19</td>\n",
       "      <td>10</td>\n",
       "      <td>5</td>\n",
       "      <td>2</td>\n",
       "      <td>33</td>\n",
       "      <td>1</td>\n",
       "      <td>9</td>\n",
       "      <td>8</td>\n",
       "      <td>25</td>\n",
       "      <td>17</td>\n",
       "      <td>4</td>\n",
       "      <td>8</td>\n",
       "      <td>20</td>\n",
       "    </tr>\n",
       "    <tr>\n",
       "      <th>26858567</th>\n",
       "      <td>25</td>\n",
       "      <td>19</td>\n",
       "      <td>21</td>\n",
       "      <td>22</td>\n",
       "      <td>34</td>\n",
       "      <td>3</td>\n",
       "      <td>33</td>\n",
       "      <td>2</td>\n",
       "      <td>13</td>\n",
       "      <td>10</td>\n",
       "      <td>26</td>\n",
       "      <td>18</td>\n",
       "      <td>4</td>\n",
       "      <td>8</td>\n",
       "      <td>12</td>\n",
       "    </tr>\n",
       "    <tr>\n",
       "      <th>23327850</th>\n",
       "      <td>25</td>\n",
       "      <td>19</td>\n",
       "      <td>20</td>\n",
       "      <td>26</td>\n",
       "      <td>33</td>\n",
       "      <td>5</td>\n",
       "      <td>27</td>\n",
       "      <td>2</td>\n",
       "      <td>13</td>\n",
       "      <td>11</td>\n",
       "      <td>25</td>\n",
       "      <td>18</td>\n",
       "      <td>6</td>\n",
       "      <td>9</td>\n",
       "      <td>10</td>\n",
       "    </tr>\n",
       "    <tr>\n",
       "      <th>23200604</th>\n",
       "      <td>25</td>\n",
       "      <td>18</td>\n",
       "      <td>20</td>\n",
       "      <td>37</td>\n",
       "      <td>16</td>\n",
       "      <td>7</td>\n",
       "      <td>36</td>\n",
       "      <td>1</td>\n",
       "      <td>8</td>\n",
       "      <td>10</td>\n",
       "      <td>28</td>\n",
       "      <td>19</td>\n",
       "      <td>8</td>\n",
       "      <td>11</td>\n",
       "      <td>11</td>\n",
       "    </tr>\n",
       "    <tr>\n",
       "      <th>31579238</th>\n",
       "      <td>25</td>\n",
       "      <td>17</td>\n",
       "      <td>20</td>\n",
       "      <td>27</td>\n",
       "      <td>11</td>\n",
       "      <td>2</td>\n",
       "      <td>36</td>\n",
       "      <td>1</td>\n",
       "      <td>9</td>\n",
       "      <td>10</td>\n",
       "      <td>25</td>\n",
       "      <td>18</td>\n",
       "      <td>4</td>\n",
       "      <td>10</td>\n",
       "      <td>13</td>\n",
       "    </tr>\n",
       "  </tbody>\n",
       "</table>\n",
       "<p>17671401 rows × 15 columns</p>\n",
       "</div>"
      ],
      "text/plain": [
       "          ane_bin  ate_bin  autor_bin  machtor_bin  x_bin  zeff_bin  \\\n",
       "31980701       24       18         20           29     11         2   \n",
       "30920680       24       17         20           30     11         1   \n",
       "5951936        27        6         19           10     48         3   \n",
       "8815332        25       18         19           10     17         2   \n",
       "6161299        24       18         19           10     17         3   \n",
       "...           ...      ...        ...          ...    ...       ...   \n",
       "13315092       24       17         19           10      5         2   \n",
       "26858567       25       19         21           22     34         3   \n",
       "23327850       25       19         20           26     33         5   \n",
       "23200604       25       18         20           37     16         7   \n",
       "31579238       25       17         20           27     11         2   \n",
       "\n",
       "          gammae_bin  q_bin  smag_bin  alpha_bin  ani1_bin  ati0_bin  \\\n",
       "31980701          36      1         9          9        26        18   \n",
       "30920680          33      2         9         10        25        18   \n",
       "5951936           33      6        13          9        26        16   \n",
       "8815332           33      1         9          8        25        17   \n",
       "6161299           33      1        10          8        25        18   \n",
       "...              ...    ...       ...        ...       ...       ...   \n",
       "13315092          33      1         9          8        25        17   \n",
       "26858567          33      2        13         10        26        18   \n",
       "23327850          27      2        13         11        25        18   \n",
       "23200604          36      1         8         10        28        19   \n",
       "31579238          36      1         9         10        25        18   \n",
       "\n",
       "          normni1_bin  ti_te0_bin  lognustar_bin  \n",
       "31980701            4          10             11  \n",
       "30920680            2           8             12  \n",
       "5951936             4           8             28  \n",
       "8815332             3           8              9  \n",
       "6161299             4           8             11  \n",
       "...               ...         ...            ...  \n",
       "13315092            4           8             20  \n",
       "26858567            4           8             12  \n",
       "23327850            6           9             10  \n",
       "23200604            8          11             11  \n",
       "31579238            4          10             13  \n",
       "\n",
       "[17671401 rows x 15 columns]"
      ]
     },
     "execution_count": 104,
     "metadata": {},
     "output_type": "execute_result"
    }
   ],
   "source": [
    "train_data_coords"
   ]
  },
  {
   "cell_type": "code",
   "execution_count": 111,
   "metadata": {},
   "outputs": [],
   "source": [
    "sample_coordinates = np.random.randint(0, 50, size = 15)"
   ]
  },
  {
   "cell_type": "code",
   "execution_count": 121,
   "metadata": {},
   "outputs": [
    {
     "name": "stdout",
     "output_type": "stream",
     "text": [
      "0\n",
      "1\n",
      "2\n",
      "3\n",
      "4\n",
      "5\n",
      "6\n",
      "7\n",
      "8\n",
      "9\n",
      "10\n",
      "11\n",
      "12\n",
      "13\n",
      "14\n",
      "15\n",
      "16\n",
      "17\n",
      "18\n",
      "19\n",
      "20\n",
      "21\n",
      "22\n",
      "23\n",
      "24\n",
      "25\n",
      "26\n",
      "27\n",
      "28\n",
      "29\n",
      "30\n",
      "31\n",
      "32\n",
      "33\n",
      "34\n",
      "35\n",
      "36\n",
      "37\n",
      "38\n",
      "39\n",
      "40\n",
      "41\n",
      "42\n",
      "43\n",
      "44\n",
      "45\n",
      "46\n",
      "47\n",
      "48\n",
      "49\n",
      "50\n",
      "51\n",
      "52\n",
      "53\n",
      "54\n",
      "55\n",
      "56\n",
      "57\n",
      "58\n",
      "59\n",
      "60\n",
      "61\n",
      "62\n",
      "63\n",
      "64\n",
      "65\n",
      "66\n",
      "67\n",
      "68\n",
      "69\n",
      "70\n",
      "71\n",
      "72\n",
      "73\n",
      "74\n",
      "75\n",
      "76\n",
      "77\n",
      "78\n",
      "79\n",
      "80\n",
      "81\n",
      "82\n",
      "83\n",
      "84\n",
      "85\n",
      "86\n",
      "87\n",
      "88\n",
      "89\n",
      "90\n",
      "91\n",
      "92\n",
      "93\n",
      "94\n",
      "95\n",
      "96\n",
      "97\n",
      "98\n",
      "99\n",
      "100\n",
      "101\n",
      "102\n",
      "103\n",
      "104\n",
      "105\n",
      "106\n",
      "107\n",
      "108\n",
      "109\n",
      "110\n",
      "111\n",
      "112\n",
      "113\n",
      "114\n",
      "115\n",
      "116\n",
      "117\n",
      "118\n",
      "119\n",
      "120\n",
      "121\n",
      "122\n",
      "123\n",
      "124\n",
      "125\n",
      "126\n",
      "127\n",
      "128\n",
      "129\n",
      "130\n",
      "131\n",
      "132\n",
      "133\n",
      "134\n",
      "135\n",
      "136\n",
      "137\n",
      "138\n",
      "139\n",
      "140\n",
      "141\n",
      "142\n",
      "143\n",
      "144\n",
      "145\n",
      "146\n",
      "147\n",
      "148\n",
      "149\n",
      "150\n",
      "151\n",
      "152\n",
      "153\n",
      "154\n",
      "155\n",
      "156\n",
      "157\n",
      "158\n",
      "159\n",
      "160\n",
      "161\n",
      "162\n",
      "163\n",
      "164\n",
      "165\n",
      "166\n",
      "167\n",
      "168\n",
      "169\n",
      "170\n",
      "171\n",
      "172\n",
      "173\n",
      "174\n",
      "175\n",
      "176\n",
      "177\n",
      "178\n",
      "179\n",
      "180\n",
      "181\n",
      "182\n",
      "183\n",
      "184\n",
      "185\n",
      "186\n",
      "187\n",
      "188\n",
      "189\n",
      "190\n",
      "191\n",
      "192\n",
      "193\n",
      "194\n",
      "195\n",
      "196\n",
      "197\n",
      "198\n",
      "199\n",
      "200\n",
      "201\n",
      "202\n",
      "203\n",
      "204\n",
      "205\n",
      "206\n",
      "207\n",
      "208\n",
      "209\n",
      "210\n",
      "211\n",
      "212\n",
      "213\n",
      "214\n",
      "215\n",
      "216\n",
      "217\n",
      "218\n",
      "219\n",
      "220\n",
      "221\n",
      "222\n",
      "223\n",
      "224\n",
      "225\n",
      "226\n",
      "227\n",
      "228\n",
      "229\n",
      "230\n",
      "231\n",
      "232\n",
      "233\n",
      "234\n",
      "235\n",
      "236\n",
      "237\n",
      "238\n",
      "239\n",
      "240\n",
      "241\n",
      "242\n",
      "Found a value after 243 tries\n"
     ]
    }
   ],
   "source": [
    "\n",
    "flag = False\n",
    "count = 0\n",
    "while not flag:\n",
    "    print(count)\n",
    "    sample_coordinates = np.random.randint(0, 50, size = 15)\n",
    "    # check if any row in train_data_coords has the same coordinates as sample_coordinates\n",
    "    true_vals = train_data[train_data_coords.isin(sample_coordinates).all(axis = 1) == True]\n",
    "\n",
    "    flag = bool(len(true_vals))\n",
    "    count += 1\n",
    "\n",
    "    if count > 500:\n",
    "        break\n",
    "\n",
    "print(f\"Found a value after {count} tries\")\n"
   ]
  },
  {
   "cell_type": "code",
   "execution_count": null,
   "metadata": {},
   "outputs": [],
   "source": []
  },
  {
   "cell_type": "code",
   "execution_count": 141,
   "metadata": {},
   "outputs": [],
   "source": [
    "import scripts.Models as models\n",
    "import scripts.pipeline_tools as tools"
   ]
  },
  {
   "cell_type": "code",
   "execution_count": 111,
   "metadata": {},
   "outputs": [],
   "source": [
    "train_path = \"/unix/atlastracking/jbarr/UKAEAGroupProject/src/notebooks/sampled_data.pkl\"\n",
    "valid_path = \"/unix/atlastracking/jbarr/valid_data_clipped.pkl\"\n",
    "\n",
    "train, val = tools.prepare_data(\n",
    "    train_path,\n",
    "    valid_path,\n",
    "    target_column=\"efiitg_gb\",\n",
    "    target_var=\"itg\",\n",
    "    valid_size=1_000_000,\n",
    ")"
   ]
  },
  {
   "cell_type": "code",
   "execution_count": 112,
   "metadata": {},
   "outputs": [
    {
     "data": {
      "text/plain": [
       "array([[-0.82731773, -0.47579851,  0.88442714, ..., -0.61575254,\n",
       "        -0.9499439 , -0.31453427],\n",
       "       [ 1.48127319, -0.2204763 , -0.00479462, ...,  0.19970545,\n",
       "         0.24974183,  0.74133687],\n",
       "       [ 0.88724178,  0.28726886,  0.66212241, ...,  1.55044382,\n",
       "         0.80222337, -0.31453427],\n",
       "       ...,\n",
       "       [-1.10201421, -0.95192003, -0.2465237 , ..., -0.72713151,\n",
       "         1.58221654, -0.31453427],\n",
       "       [-0.40598413, -0.35467319, -0.08712077, ...,  2.43739344,\n",
       "        -0.44270453, -0.31453427],\n",
       "       [ 1.04945917,  1.09968337,  0.31794517, ...,  0.20237899,\n",
       "        -0.62498154,  4.26141652]])"
      ]
     },
     "execution_count": 112,
     "metadata": {},
     "output_type": "execute_result"
    }
   ],
   "source": [
    "scaler = StandardScaler()\n",
    "scaler.fit_transform(train_data.drop([\"itg\"], axis=1))"
   ]
  },
  {
   "cell_type": "code",
   "execution_count": 139,
   "metadata": {},
   "outputs": [],
   "source": [
    "train_dataset = models.ITGDatasetDF(train_data, target_column=\"efiitg_gb\", target_var=\"itg\")\n",
    "valid_dataset = models.ITGDatasetDF(val_data, target_column=\"efiitg_gb\", target_var=\"itg\")\n",
    "\n",
    "train_dataset.scale(scaler)\n",
    "valid_dataset.scale(scaler)\n",
    "\n",
    "train_loader = DataLoader(train_dataset, batch_size=1000, shuffle=True, num_workers=4)\n",
    "\n",
    "\n",
    "# Switching validation dataset to numpy arrays to see if it is quicker\n",
    "x_array = valid_dataset.data[train_keys].values\n",
    "y_array = valid_dataset.data[\"itg\"].values\n",
    "z_array = valid_dataset.data[\"efiitg_gb\"].values\n",
    "dataset_numpy = models.ITGDataset(x_array, y_array, z_array)\n",
    "\n",
    "valid_loader = DataLoader(\n",
    "    dataset_numpy, batch_size=int(0.1 * len(y_array)), shuffle=True\n",
    ")"
   ]
  },
  {
   "cell_type": "code",
   "execution_count": 207,
   "metadata": {},
   "outputs": [
    {
     "name": "stderr",
     "output_type": "stream",
     "text": [
      "  0%|          | 0/50 [00:00<?, ?it/s]"
     ]
    },
    {
     "name": "stdout",
     "output_type": "stream",
     "text": [
      "Epoch 0\n",
      "Average loss: 0.5964\n"
     ]
    },
    {
     "name": "stderr",
     "output_type": "stream",
     "text": [
      "  2%|▏         | 1/50 [00:22<18:06, 22.17s/it]"
     ]
    },
    {
     "name": "stdout",
     "output_type": "stream",
     "text": [
      "Test accuracy: 0.733050, loss: 35.341300\n",
      "Epoch 1\n",
      "Average loss: 0.4839\n"
     ]
    },
    {
     "name": "stderr",
     "output_type": "stream",
     "text": [
      "  4%|▍         | 2/50 [01:03<26:39, 33.33s/it]"
     ]
    },
    {
     "name": "stdout",
     "output_type": "stream",
     "text": [
      "Test accuracy: 0.733050, loss: 31.975742\n",
      "Epoch 2\n",
      "Average loss: 0.4368\n"
     ]
    },
    {
     "name": "stderr",
     "output_type": "stream",
     "text": [
      "  6%|▌         | 3/50 [01:18<19:37, 25.04s/it]"
     ]
    },
    {
     "name": "stdout",
     "output_type": "stream",
     "text": [
      "Test accuracy: 0.733050, loss: 33.419690\n",
      "Epoch 3\n",
      "Average loss: 0.4109\n"
     ]
    },
    {
     "name": "stderr",
     "output_type": "stream",
     "text": [
      "  8%|▊         | 4/50 [01:33<16:14, 21.18s/it]"
     ]
    },
    {
     "name": "stdout",
     "output_type": "stream",
     "text": [
      "Test accuracy: 0.733050, loss: 31.458599\n",
      "Epoch 4\n",
      "Average loss: 0.3944\n"
     ]
    }
   ],
   "source": [
    "classifier = ITG_Classifier()\n",
    "\n",
    "train_loss, val_loss, val_acc = train_model(classifier, \n",
    "    train_loader, \n",
    "    valid_loader, \n",
    "    epochs=50,\n",
    "    learning_rate=0.001,\n",
    "    weight_decay=1e-4,\n",
    "    )"
   ]
  },
  {
   "cell_type": "code",
   "execution_count": 163,
   "metadata": {},
   "outputs": [],
   "source": [
    "def train_model(\n",
    "    model, train_loader, val_loader, epochs, learning_rate, weight_decay=None\n",
    "):\n",
    "\n",
    "    # Initialise the optimiser\n",
    "    if weight_decay:\n",
    "        opt = torch.optim.Adam(model.parameters(), lr=learning_rate, weight_decay=1e-4)\n",
    "    else:\n",
    "        opt = torch.optim.Adam(model.parameters(), lr=learning_rate)\n",
    "\n",
    "    losses = []\n",
    "    validation_losses = []\n",
    "\n",
    "    if model.type == \"classifier\":\n",
    "        val_acc = []\n",
    "\n",
    "        for epoch in tqdm(range(epochs)):\n",
    "            print(f\"Epoch {epoch}\")\n",
    "            loss = model.train_step(train_loader, opt)\n",
    "            losses.append(loss)\n",
    "\n",
    "            val_loss, acc = model.validation_step(val_loader)\n",
    "            validation_losses.append(validation_losses)\n",
    "            val_acc.append(acc)\n",
    "        return losses, validation_losses, val_acc\n",
    "\n",
    "    elif model.type == \"regressor\":\n",
    "\n",
    "        for epoch in tqdm(range(epochs)):\n",
    "            print(f\"Epoch {epoch}\")\n",
    "            loss = model.train_step(train_loader, opt)\n",
    "            losses.append(loss)\n",
    "\n",
    "            val_loss = model.validation_step(val_loader)\n",
    "            validation_losses.append(validation_losses)\n",
    "\n",
    "        return losses, validation_losses\n",
    "\n",
    "    else:\n",
    "        raise ValueError(\"Model type not recognised\")"
   ]
  },
  {
   "cell_type": "code",
   "execution_count": 206,
   "metadata": {},
   "outputs": [],
   "source": [
    "class ITG_Classifier(nn.Module):\n",
    "    def __init__(self):\n",
    "        super().__init__()\n",
    "        self.type = \"classifier\"\n",
    "        self.model = self.model = nn.Sequential(\n",
    "            nn.Linear(15, 128),\n",
    "            nn.Dropout(p=0.1),\n",
    "            nn.ReLU(),\n",
    "            nn.Linear(128, 128),\n",
    "            nn.Dropout(p=0.1),\n",
    "            nn.ReLU(),\n",
    "            nn.Linear(128, 128),\n",
    "            nn.Dropout(p=0.1),\n",
    "            nn.ReLU(),\n",
    "            nn.Linear(128, 1),\n",
    "            nn.Sigmoid(),\n",
    "        )\n",
    "\n",
    "    def forward(self, x):\n",
    "        y_hat = self.model(x)\n",
    "        return y_hat\n",
    "\n",
    "    def train_step(self, dataloader, optimizer):\n",
    "        # Initalise loss function\n",
    "        BCE = nn.BCELoss(reduction=\"sum\")\n",
    "\n",
    "        size = len(dataloader.dataset)\n",
    "        num_batches = len(dataloader)\n",
    "\n",
    "        losses = []\n",
    "        for batch, (X, y, z, idx) in enumerate(dataloader):\n",
    "\n",
    "            y_hat = self.forward(X.float())\n",
    "            loss = BCE(y_hat, y.unsqueeze(-1).float())\n",
    "\n",
    "            # Backpropagation\n",
    "            optimizer.zero_grad()\n",
    "            loss.backward()\n",
    "            optimizer.step()\n",
    "            \n",
    "            losses.append(loss.item())\n",
    "\n",
    "        print(f\"Average loss: {np.sum(losses) / size:.4f}\")\n",
    "        return np.sum(losses) / size\n",
    "\n",
    "    def validation_step(self, dataloader):\n",
    "        size = len(dataloader.dataset)\n",
    "        # Initalise loss function\n",
    "        BCE = nn.BCELoss(reduction=\"sum\")\n",
    "\n",
    "        test_loss = []\n",
    "        correct = 0\n",
    "\n",
    "        with torch.no_grad():\n",
    "            for X, y, z in dataloader:\n",
    "                y_hat = self.forward(X.float())\n",
    "                test_loss.append(BCE(y.unsqueeze(-1).float(), y_hat).item())\n",
    "\n",
    "                # calculate test accuracy\n",
    "                pred_class = torch.round(y_hat.squeeze())\n",
    "                correct += torch.sum(pred_class == y.float()).item()\n",
    "\n",
    "        correct /= size\n",
    "        average_loss = np.sum(test_loss) / size\n",
    "        print(f\"Test accuracy: {correct:>7f}, loss: {average_loss:>7f}\")\n",
    "        return average_loss, correct\n",
    "\n",
    "\n",
    "class ITG_Regressor(nn.Module):\n",
    "    def __init__(self):\n",
    "        super().__init__()\n",
    "        self.type = \"regressor\"\n",
    "        self.model = nn.Sequential(\n",
    "            nn.Linear(15, 128),\n",
    "            nn.Dropout(p=0.1),\n",
    "            nn.ReLU(),\n",
    "            nn.Linear(128, 128),\n",
    "            nn.Dropout(p=0.1),\n",
    "            nn.ReLU(),\n",
    "            nn.Linear(128, 128),\n",
    "            nn.Dropout(p=0.1),\n",
    "            nn.ReLU(),\n",
    "            nn.Linear(128, 1),\n",
    "        )\n",
    "\n",
    "    def forward(self, x):\n",
    "        y_hat = self.model(x.float())\n",
    "        return y_hat\n",
    "\n",
    "    def enable_dropout(self):\n",
    "        \"\"\"Function to enable the dropout layers during test-time\"\"\"\n",
    "        for m in self.model.modules():\n",
    "            if m.__class__.__name__.startswith(\"Dropout\"):\n",
    "                m.train()\n",
    "\n",
    "    def reset_weights(self):\n",
    "        self.model.apply(weight_reset)\n",
    "\n",
    "    def shrink_perturb(self, lam, loc, scale):\n",
    "        noise_dist = torch.distributions.Normal(\n",
    "            torch.Tensor([loc]), torch.Tensor([scale])\n",
    "        )\n",
    "        noise = noise_dist.sample()\n",
    "\n",
    "        with torch.no_grad():\n",
    "            for param in self.model.parameters():\n",
    "                param_update = (param * lam) + noise\n",
    "                param.copy_(param_update)\n",
    "\n",
    "    def loss_function(self, y, y_hat):\n",
    "        MSE_loss = nn.MSELoss(reduction=\"sum\")\n",
    "        return MSE_loss(y_hat, y.float())\n",
    "\n",
    "    def train_step(self, dataloader, optimizer):\n",
    "\n",
    "        size = len(dataloader.dataset)\n",
    "        num_batches = len(dataloader)\n",
    "\n",
    "        losses = []\n",
    "        for batch, (X, y, z, idx) in enumerate(dataloader):\n",
    "            batch_size = len(X)\n",
    "            z_hat = self.forward(X.float())\n",
    "            loss = self.loss_function(z.unsqueeze(-1).float(), z_hat)\n",
    "\n",
    "            # Backpropagation\n",
    "            optimizer.zero_grad()\n",
    "            loss.backward()\n",
    "            optimizer.step()\n",
    "\n",
    "            loss = loss.item()\n",
    "            losses.append(loss)\n",
    "\n",
    "        return np.sum(losses) / size\n",
    "\n",
    "    def validation_step(self, dataloader):\n",
    "        size = len(dataloader.dataset)\n",
    "\n",
    "        test_loss = []\n",
    "        with torch.no_grad():\n",
    "            # for X, y, z, idx in tqdm(dataloader):\n",
    "            for X, y, z in tqdm(dataloader):\n",
    "                z_hat = self.forward(X.float())\n",
    "                test_loss.append(\n",
    "                    self.loss_function(z.unsqueeze(-1).float(), z_hat).item()\n",
    "                )\n",
    "\n",
    "        return np.sum(test_loss) / size\n",
    "\n",
    "    def predict(self, dataloader, order_outputs=None):\n",
    "        pred = []\n",
    "        index_ordering = []\n",
    "        for (x, y, z, idx) in dataloader:\n",
    "            y_hat = self.forward(x.float())\n",
    "            pred.append(y_hat.squeeze().detach().numpy())\n",
    "            index_ordering.append(idx.detach().numpy())\n",
    "\n",
    "        idx_array = np.asarray(index_ordering, dtype=object).flatten()\n",
    "        pred = np.asarray(pred).flatten()\n",
    "\n",
    "        if order_outputs is not None:\n",
    "            reorder = np.array(\n",
    "                [np.where(idx_array == i) for i in order_outputs]\n",
    "            ).flatten()\n",
    "            pred = pred[reorder]\n",
    "            real_idx = idx_array[reorder]\n",
    "            # Make sure the reording has worked\n",
    "            assert real_idx.tolist() == order_outputs.tolist(), print(\"Ordering error\")\n",
    "\n",
    "        return pred, idx_array"
   ]
  },
  {
   "cell_type": "code",
   "execution_count": null,
   "metadata": {},
   "outputs": [],
   "source": []
  }
 ],
 "metadata": {
  "interpreter": {
   "hash": "10538d370d8114bd993108ac19f3a035b791430c11fc23d790b0fcdf7a735f69"
  },
  "kernelspec": {
   "display_name": "Python 3.9.7 (conda)",
   "language": "python",
   "name": "python3"
  },
  "language_info": {
   "codemirror_mode": {
    "name": "ipython",
    "version": 3
   },
   "file_extension": ".py",
   "mimetype": "text/x-python",
   "name": "python",
   "nbconvert_exporter": "python",
   "pygments_lexer": "ipython3",
   "version": "3.9.7"
  },
  "orig_nbformat": 4
 },
 "nbformat": 4,
 "nbformat_minor": 2
}
