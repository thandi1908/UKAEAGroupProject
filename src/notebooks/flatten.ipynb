{
 "cells": [
  {
   "cell_type": "code",
   "execution_count": 1,
   "metadata": {},
   "outputs": [
    {
     "name": "stderr",
     "output_type": "stream",
     "text": [
      "/unix/atlastracking/jbarr/ukaea-env/lib/python3.9/site-packages/tqdm/auto.py:22: TqdmWarning: IProgress not found. Please update jupyter and ipywidgets. See https://ipywidgets.readthedocs.io/en/stable/user_install.html\n",
      "  from .autonotebook import tqdm as notebook_tqdm\n"
     ]
    }
   ],
   "source": [
    "import numpy as np \n",
    "import pandas as pd\n",
    "import h5py as h5\n",
    "import seaborn as sns\n",
    "import tensorflow as tf\n",
    "import sys\n",
    "\n",
    "from sklearn.utils import resample\n",
    "from sklearn.preprocessing import StandardScaler\n",
    "from sklearn.metrics import confusion_matrix\n",
    "from sklearn.metrics import f1_score\n",
    "\n",
    "import pickle\n",
    "import matplotlib.pyplot as plt\n",
    "import seaborn as sns\n",
    "\n",
    "from torch.utils.data import Dataset, DataLoader\n",
    "import torch\n",
    "import torch.nn as nn\n",
    "import pytorch_lightning as pl\n",
    "from tqdm.auto import tqdm\n",
    "\n",
    "from scripts.utils import ScaleData, train_keys, target_keys"
   ]
  },
  {
   "cell_type": "code",
   "execution_count": 2,
   "metadata": {},
   "outputs": [],
   "source": [
    "train_data = pd.read_pickle(\"/unix/atlastracking/jbarr/train_data_clipped.pkl\")\n",
    "validation_data = pd.read_pickle(\"/unix/atlastracking/jbarr/valid_data_clipped.pkl\")\n",
    "\n",
    "# Keep only the data that gives an output\n",
    "train_data = train_data[train_data[\"target\"] == 1]\n",
    "validation_data = validation_data[validation_data[\"target\"] == 1]\n"
   ]
  },
  {
   "cell_type": "code",
   "execution_count": 3,
   "metadata": {},
   "outputs": [],
   "source": [
    "train_data = train_data[train_keys]\n",
    "validation_data = validation_data[train_keys].sample(100_000)\n",
    "\n",
    "train_data = train_data.dropna()\n",
    "validation_data = validation_data.dropna()"
   ]
  },
  {
   "cell_type": "code",
   "execution_count": 4,
   "metadata": {},
   "outputs": [],
   "source": [
    "scaler = StandardScaler()\n",
    "scaler.fit(train_data);\n",
    "\n",
    "train_data = pd.DataFrame(scaler.transform(train_data), columns = train_keys, index = train_data.index)"
   ]
  },
  {
   "cell_type": "code",
   "execution_count": 5,
   "metadata": {},
   "outputs": [
    {
     "data": {
      "text/html": [
       "<div>\n",
       "<style scoped>\n",
       "    .dataframe tbody tr th:only-of-type {\n",
       "        vertical-align: middle;\n",
       "    }\n",
       "\n",
       "    .dataframe tbody tr th {\n",
       "        vertical-align: top;\n",
       "    }\n",
       "\n",
       "    .dataframe thead th {\n",
       "        text-align: right;\n",
       "    }\n",
       "</style>\n",
       "<table border=\"1\" class=\"dataframe\">\n",
       "  <thead>\n",
       "    <tr style=\"text-align: right;\">\n",
       "      <th></th>\n",
       "      <th>ane</th>\n",
       "      <th>ate</th>\n",
       "      <th>autor</th>\n",
       "      <th>machtor</th>\n",
       "      <th>x</th>\n",
       "      <th>zeff</th>\n",
       "      <th>gammae</th>\n",
       "      <th>q</th>\n",
       "      <th>smag</th>\n",
       "      <th>alpha</th>\n",
       "      <th>ani1</th>\n",
       "      <th>ati0</th>\n",
       "      <th>normni1</th>\n",
       "      <th>ti_te0</th>\n",
       "      <th>lognustar</th>\n",
       "    </tr>\n",
       "  </thead>\n",
       "  <tbody>\n",
       "    <tr>\n",
       "      <th>count</th>\n",
       "      <td>1.767140e+07</td>\n",
       "      <td>1.767140e+07</td>\n",
       "      <td>1.767140e+07</td>\n",
       "      <td>1.767140e+07</td>\n",
       "      <td>1.767140e+07</td>\n",
       "      <td>1.767140e+07</td>\n",
       "      <td>1.767140e+07</td>\n",
       "      <td>1.767140e+07</td>\n",
       "      <td>1.767140e+07</td>\n",
       "      <td>1.767140e+07</td>\n",
       "      <td>1.767140e+07</td>\n",
       "      <td>1.767140e+07</td>\n",
       "      <td>1.767140e+07</td>\n",
       "      <td>1.767140e+07</td>\n",
       "      <td>1.767140e+07</td>\n",
       "    </tr>\n",
       "    <tr>\n",
       "      <th>mean</th>\n",
       "      <td>-3.958502e-17</td>\n",
       "      <td>1.696684e-15</td>\n",
       "      <td>-2.437888e-14</td>\n",
       "      <td>-2.516612e-14</td>\n",
       "      <td>-1.820788e-15</td>\n",
       "      <td>2.945447e-15</td>\n",
       "      <td>-6.716735e-16</td>\n",
       "      <td>-4.186142e-16</td>\n",
       "      <td>-6.428617e-17</td>\n",
       "      <td>6.452415e-16</td>\n",
       "      <td>3.792929e-16</td>\n",
       "      <td>5.547417e-17</td>\n",
       "      <td>1.539766e-15</td>\n",
       "      <td>1.584160e-14</td>\n",
       "      <td>-6.179673e-16</td>\n",
       "    </tr>\n",
       "    <tr>\n",
       "      <th>std</th>\n",
       "      <td>1.000000e+00</td>\n",
       "      <td>1.000000e+00</td>\n",
       "      <td>1.000000e+00</td>\n",
       "      <td>1.000000e+00</td>\n",
       "      <td>1.000000e+00</td>\n",
       "      <td>1.000000e+00</td>\n",
       "      <td>1.000000e+00</td>\n",
       "      <td>1.000000e+00</td>\n",
       "      <td>1.000000e+00</td>\n",
       "      <td>1.000000e+00</td>\n",
       "      <td>1.000000e+00</td>\n",
       "      <td>1.000000e+00</td>\n",
       "      <td>1.000000e+00</td>\n",
       "      <td>1.000000e+00</td>\n",
       "      <td>1.000000e+00</td>\n",
       "    </tr>\n",
       "    <tr>\n",
       "      <th>min</th>\n",
       "      <td>-1.384102e+01</td>\n",
       "      <td>-6.582257e+00</td>\n",
       "      <td>-1.882100e+01</td>\n",
       "      <td>-2.065595e+00</td>\n",
       "      <td>-1.685506e+00</td>\n",
       "      <td>-1.271060e+00</td>\n",
       "      <td>-2.605025e+01</td>\n",
       "      <td>-1.226443e+00</td>\n",
       "      <td>-2.207086e+00</td>\n",
       "      <td>-4.268325e+00</td>\n",
       "      <td>-1.542676e+01</td>\n",
       "      <td>-7.614343e+00</td>\n",
       "      <td>-1.810241e+00</td>\n",
       "      <td>-3.962275e+00</td>\n",
       "      <td>-3.129014e+00</td>\n",
       "    </tr>\n",
       "    <tr>\n",
       "      <th>25%</th>\n",
       "      <td>-4.041627e-01</td>\n",
       "      <td>-5.670069e-01</td>\n",
       "      <td>-2.918354e-01</td>\n",
       "      <td>-5.309520e-01</td>\n",
       "      <td>-9.630133e-01</td>\n",
       "      <td>-7.968845e-01</td>\n",
       "      <td>4.277525e-02</td>\n",
       "      <td>-7.363622e-01</td>\n",
       "      <td>-6.534619e-01</td>\n",
       "      <td>-4.753213e-01</td>\n",
       "      <td>-3.501552e-01</td>\n",
       "      <td>-5.469898e-01</td>\n",
       "      <td>-2.686555e-01</td>\n",
       "      <td>-1.082246e-01</td>\n",
       "      <td>-7.264126e-01</td>\n",
       "    </tr>\n",
       "    <tr>\n",
       "      <th>50%</th>\n",
       "      <td>-2.006210e-01</td>\n",
       "      <td>-2.616913e-01</td>\n",
       "      <td>-2.918354e-01</td>\n",
       "      <td>-5.309520e-01</td>\n",
       "      <td>-1.397456e-01</td>\n",
       "      <td>-1.544057e-01</td>\n",
       "      <td>4.277525e-02</td>\n",
       "      <td>-2.878132e-01</td>\n",
       "      <td>-3.920014e-01</td>\n",
       "      <td>-3.347898e-01</td>\n",
       "      <td>-1.956857e-01</td>\n",
       "      <td>-2.503829e-01</td>\n",
       "      <td>-2.116134e-01</td>\n",
       "      <td>-1.082246e-01</td>\n",
       "      <td>-1.346292e-01</td>\n",
       "    </tr>\n",
       "    <tr>\n",
       "      <th>75%</th>\n",
       "      <td>9.574553e-02</td>\n",
       "      <td>2.093155e-01</td>\n",
       "      <td>-2.745655e-02</td>\n",
       "      <td>1.498512e-01</td>\n",
       "      <td>9.349263e-01</td>\n",
       "      <td>5.066977e-01</td>\n",
       "      <td>4.277525e-02</td>\n",
       "      <td>4.395909e-01</td>\n",
       "      <td>2.818189e-01</td>\n",
       "      <td>8.084447e-02</td>\n",
       "      <td>4.690494e-02</td>\n",
       "      <td>2.638452e-01</td>\n",
       "      <td>-9.626997e-02</td>\n",
       "      <td>-1.082246e-01</td>\n",
       "      <td>5.858492e-01</td>\n",
       "    </tr>\n",
       "    <tr>\n",
       "      <th>max</th>\n",
       "      <td>1.377702e+01</td>\n",
       "      <td>1.087267e+01</td>\n",
       "      <td>2.903888e+01</td>\n",
       "      <td>5.551486e+00</td>\n",
       "      <td>1.679190e+00</td>\n",
       "      <td>1.529302e+01</td>\n",
       "      <td>1.310111e+01</td>\n",
       "      <td>2.522869e+01</td>\n",
       "      <td>6.817504e+00</td>\n",
       "      <td>1.857961e+01</td>\n",
       "      <td>1.447637e+01</td>\n",
       "      <td>1.282485e+01</td>\n",
       "      <td>2.073419e+01</td>\n",
       "      <td>2.024054e+01</td>\n",
       "      <td>6.969731e+00</td>\n",
       "    </tr>\n",
       "  </tbody>\n",
       "</table>\n",
       "</div>"
      ],
      "text/plain": [
       "                ane           ate         autor       machtor             x  \\\n",
       "count  1.767140e+07  1.767140e+07  1.767140e+07  1.767140e+07  1.767140e+07   \n",
       "mean  -3.958502e-17  1.696684e-15 -2.437888e-14 -2.516612e-14 -1.820788e-15   \n",
       "std    1.000000e+00  1.000000e+00  1.000000e+00  1.000000e+00  1.000000e+00   \n",
       "min   -1.384102e+01 -6.582257e+00 -1.882100e+01 -2.065595e+00 -1.685506e+00   \n",
       "25%   -4.041627e-01 -5.670069e-01 -2.918354e-01 -5.309520e-01 -9.630133e-01   \n",
       "50%   -2.006210e-01 -2.616913e-01 -2.918354e-01 -5.309520e-01 -1.397456e-01   \n",
       "75%    9.574553e-02  2.093155e-01 -2.745655e-02  1.498512e-01  9.349263e-01   \n",
       "max    1.377702e+01  1.087267e+01  2.903888e+01  5.551486e+00  1.679190e+00   \n",
       "\n",
       "               zeff        gammae             q          smag         alpha  \\\n",
       "count  1.767140e+07  1.767140e+07  1.767140e+07  1.767140e+07  1.767140e+07   \n",
       "mean   2.945447e-15 -6.716735e-16 -4.186142e-16 -6.428617e-17  6.452415e-16   \n",
       "std    1.000000e+00  1.000000e+00  1.000000e+00  1.000000e+00  1.000000e+00   \n",
       "min   -1.271060e+00 -2.605025e+01 -1.226443e+00 -2.207086e+00 -4.268325e+00   \n",
       "25%   -7.968845e-01  4.277525e-02 -7.363622e-01 -6.534619e-01 -4.753213e-01   \n",
       "50%   -1.544057e-01  4.277525e-02 -2.878132e-01 -3.920014e-01 -3.347898e-01   \n",
       "75%    5.066977e-01  4.277525e-02  4.395909e-01  2.818189e-01  8.084447e-02   \n",
       "max    1.529302e+01  1.310111e+01  2.522869e+01  6.817504e+00  1.857961e+01   \n",
       "\n",
       "               ani1          ati0       normni1        ti_te0     lognustar  \n",
       "count  1.767140e+07  1.767140e+07  1.767140e+07  1.767140e+07  1.767140e+07  \n",
       "mean   3.792929e-16  5.547417e-17  1.539766e-15  1.584160e-14 -6.179673e-16  \n",
       "std    1.000000e+00  1.000000e+00  1.000000e+00  1.000000e+00  1.000000e+00  \n",
       "min   -1.542676e+01 -7.614343e+00 -1.810241e+00 -3.962275e+00 -3.129014e+00  \n",
       "25%   -3.501552e-01 -5.469898e-01 -2.686555e-01 -1.082246e-01 -7.264126e-01  \n",
       "50%   -1.956857e-01 -2.503829e-01 -2.116134e-01 -1.082246e-01 -1.346292e-01  \n",
       "75%    4.690494e-02  2.638452e-01 -9.626997e-02 -1.082246e-01  5.858492e-01  \n",
       "max    1.447637e+01  1.282485e+01  2.073419e+01  2.024054e+01  6.969731e+00  "
      ]
     },
     "execution_count": 5,
     "metadata": {},
     "output_type": "execute_result"
    }
   ],
   "source": [
    "train_data.describe()"
   ]
  },
  {
   "cell_type": "code",
   "execution_count": 6,
   "metadata": {},
   "outputs": [
    {
     "data": {
      "image/png": "[encoded data removed]",
      "text/plain": [
       "<Figure size 432x288 with 1 Axes>"
      ]
     },
     "metadata": {
      "needs_background": "light"
     },
     "output_type": "display_data"
    },
    {
     "data": {
      "image/png": "[encoded data removed]",
      "text/plain": [
       "<Figure size 432x288 with 1 Axes>"
      ]
     },
     "metadata": {
      "needs_background": "light"
     },
     "output_type": "display_data"
    },
    {
     "data": {
      "image/png": "[encoded data removed]",
      "text/plain": [
       "<Figure size 432x288 with 1 Axes>"
      ]
     },
     "metadata": {
      "needs_background": "light"
     },
     "output_type": "display_data"
    },
    {
     "data": {
      "image/png": "[encoded data removed]",
      "text/plain": [
       "<Figure size 432x288 with 1 Axes>"
      ]
     },
     "metadata": {
      "needs_background": "light"
     },
     "output_type": "display_data"
    },
    {
     "data": {
      "image/png": "[encoded data removed]",
      "text/plain": [
       "<Figure size 432x288 with 1 Axes>"
      ]
     },
     "metadata": {
      "needs_background": "light"
     },
     "output_type": "display_data"
    },
    {
     "data": {
      "image/png": "[encoded data removed]",
      "text/plain": [
       "<Figure size 432x288 with 1 Axes>"
      ]
     },
     "metadata": {
      "needs_background": "light"
     },
     "output_type": "display_data"
    },
    {
     "data": {
      "image/png": "[encoded data removed]",
      "text/plain": [
       "<Figure size 432x288 with 1 Axes>"
      ]
     },
     "metadata": {
      "needs_background": "light"
     },
     "output_type": "display_data"
    },
    {
     "data": {
      "image/png": "[encoded data removed]",
      "text/plain": [
       "<Figure size 432x288 with 1 Axes>"
      ]
     },
     "metadata": {
      "needs_background": "light"
     },
     "output_type": "display_data"
    },
    {
     "data": {
      "image/png": "[encoded data removed]",
      "text/plain": [
       "<Figure size 432x288 with 1 Axes>"
      ]
     },
     "metadata": {
      "needs_background": "light"
     },
     "output_type": "display_data"
    },
    {
     "data": {
      "image/png": "[encoded data removed]",
      "text/plain": [
       "<Figure size 432x288 with 1 Axes>"
      ]
     },
     "metadata": {
      "needs_background": "light"
     },
     "output_type": "display_data"
    },
    {
     "data": {
      "image/png": "[encoded data removed]",
      "text/plain": [
       "<Figure size 432x288 with 1 Axes>"
      ]
     },
     "metadata": {
      "needs_background": "light"
     },
     "output_type": "display_data"
    },
    {
     "data": {
      "image/png": "[encoded data removed]",
      "text/plain": [
       "<Figure size 432x288 with 1 Axes>"
      ]
     },
     "metadata": {
      "needs_background": "light"
     },
     "output_type": "display_data"
    },
    {
     "data": {
      "image/png": "[encoded data removed]",
      "text/plain": [
       "<Figure size 432x288 with 1 Axes>"
      ]
     },
     "metadata": {
      "needs_background": "light"
     },
     "output_type": "display_data"
    },
    {
     "data": {
      "image/png": "[encoded data removed]",
      "text/plain": [
       "<Figure size 432x288 with 1 Axes>"
      ]
     },
     "metadata": {
      "needs_background": "light"
     },
     "output_type": "display_data"
    },
    {
     "data": {
      "image/png": "[encoded data removed]",
      "text/plain": [
       "<Figure size 432x288 with 1 Axes>"
      ]
     },
     "metadata": {
      "needs_background": "light"
     },
     "output_type": "display_data"
    }
   ],
   "source": [
    "for i in train_keys:\n",
    "    plt.figure()\n",
    "    sns.histplot(data = train_data, x = i, bins = 50)"
   ]
  },
  {
   "cell_type": "code",
   "execution_count": 7,
   "metadata": {},
   "outputs": [
    {
     "data": {
      "text/plain": [
       "{'ane': [-13.841016764527534, 13.777024039385351],\n",
       " 'ate': [-6.582256824699131, 10.872672978231225],\n",
       " 'autor': [-18.820996058432463, 29.03888476760202],\n",
       " 'machtor': [-2.065595333579178, 5.551486487631029],\n",
       " 'x': [-1.6855056250853842, 1.6791903367379197],\n",
       " 'zeff': [-1.2710598430094526, 15.293016339332652],\n",
       " 'gammae': [-26.05024918477381, 13.101109904783291],\n",
       " 'q': [-1.226442635241779, 25.22869461657117],\n",
       " 'smag': [-2.2070857958969796, 6.817504212990487],\n",
       " 'alpha': [-4.268324987997649, 18.57961203838916],\n",
       " 'ani1': [-15.426763159208013, 14.476368476961794],\n",
       " 'ati0': [-7.614342528297113, 12.824849572166386],\n",
       " 'normni1': [-1.8102413817747534, 20.734186225948772],\n",
       " 'ti_te0': [-3.9622746749361144, 20.24053993289624],\n",
       " 'lognustar': [-3.129013932222588, 6.969731171060493]}"
      ]
     },
     "execution_count": 7,
     "metadata": {},
     "output_type": "execute_result"
    }
   ],
   "source": [
    "# get upper and lower bounds for each variable and store in a dictionary\n",
    "bounds_dict = {}\n",
    "for i in train_keys:\n",
    "    bounds_dict[i] = [train_data[i].min(), train_data[i].max()]\n",
    "\n",
    "bounds_dict"
   ]
  },
  {
   "cell_type": "code",
   "execution_count": 8,
   "metadata": {},
   "outputs": [],
   "source": [
    "# Sample a point uniformly from each dimension\n",
    "def sample_point(bounds_dict, n_points = 1):\n",
    "    samples = []\n",
    "    for i in range(n_points):\n",
    "        point = {}\n",
    "        for i in train_keys:\n",
    "            point[i] = np.random.uniform(bounds_dict[i][0], bounds_dict[i][1])\n",
    "        samples.append(point)\n",
    "\n",
    "    return samples\n"
   ]
  },
  {
   "cell_type": "code",
   "execution_count": 10,
   "metadata": {},
   "outputs": [
    {
     "name": "stdout",
     "output_type": "stream",
     "text": [
      "{'ane': 0.10563217131272573, 'ate': -5.440885736162596, 'autor': -4.154467661763125, 'machtor': 4.103943228155288, 'x': 1.2849696577594807, 'zeff': 13.900720875607846, 'gammae': 8.100677322809844, 'q': 13.943596024637747, 'smag': 3.667799427726921, 'alpha': 1.703290047170693, 'ani1': -5.327110507309197, 'ati0': 6.216119456096729, 'normni1': 16.008953933526243, 'ti_te0': 0.08104426665883002, 'lognustar': 3.5898982192862756}\n"
     ]
    }
   ],
   "source": [
    "sampled_points = sample_point(bounds_dict, 10)\n",
    "print(sampled_points[0])"
   ]
  },
  {
   "cell_type": "code",
   "execution_count": 11,
   "metadata": {},
   "outputs": [],
   "source": [
    "# Find point in training data closest to sampled point by L2 distance\n",
    "def distance(row, sampled_point):\n",
    "    distance = 0\n",
    "    for i in train_keys:\n",
    "        distance += (row[i] - sampled_point[i])**2\n",
    "    return np.sqrt(distance)\n",
    "\n",
    "def find_closest_point(sampled_point, train_data):\n",
    "    distances = train_data.progress_apply(distance, axis = 1, args = (sampled_point,))\n",
    "    # return closest point\n",
    "    #return train_data.iloc[np.argmin(distances)]\n",
    "    #return top 100\n",
    "    return train_data.iloc[np.argsort(distances)[:100]]\n",
    "    #return distances.idxmin()\n"
   ]
  },
  {
   "cell_type": "code",
   "execution_count": 12,
   "metadata": {},
   "outputs": [
    {
     "name": "stderr",
     "output_type": "stream",
     "text": [
      "100%|██████████| 176714/176714 [00:09<00:00, 17899.98it/s]\n",
      "100%|██████████| 176714/176714 [00:10<00:00, 17049.03it/s]\n",
      "100%|██████████| 176714/176714 [00:10<00:00, 17443.30it/s]\n",
      "100%|██████████| 176714/176714 [00:10<00:00, 17187.57it/s]\n",
      "100%|██████████| 176714/176714 [00:10<00:00, 17307.17it/s]\n",
      "100%|██████████| 176714/176714 [00:10<00:00, 17444.23it/s]\n",
      "100%|██████████| 176714/176714 [00:10<00:00, 17576.09it/s]\n",
      "100%|██████████| 176714/176714 [00:10<00:00, 17548.40it/s]\n",
      "100%|██████████| 176714/176714 [00:10<00:00, 17119.96it/s]\n",
      "100%|██████████| 176714/176714 [00:10<00:00, 17219.77it/s]\n"
     ]
    }
   ],
   "source": [
    "tqdm.pandas()\n",
    "closest = []\n",
    "for i in sampled_points:\n",
    "    closest.append(find_closest_point(i, train_data.sample(frac = 0.01)))"
   ]
  },
  {
   "cell_type": "code",
   "execution_count": 13,
   "metadata": {},
   "outputs": [
    {
     "data": {
      "image/png": "[encoded data removed]",
      "text/plain": [
       "<Figure size 432x288 with 1 Axes>"
      ]
     },
     "metadata": {
      "needs_background": "light"
     },
     "output_type": "display_data"
    }
   ],
   "source": [
    "distances = []\n",
    "for i in range(len(sampled_points)):\n",
    "    distances.append(distance(closest[0], sampled_points[0]))\n",
    "\n",
    "x = np.asarray(distances).flatten()\n",
    "plt.figure()\n",
    "plt.hist(x, bins = 50);"
   ]
  },
  {
   "cell_type": "code",
   "execution_count": 14,
   "metadata": {},
   "outputs": [],
   "source": [
    "# find first point closer than a distance of 25\n",
    "def find_closest_point_threshold(sampled_point, train_data, distance_threshold = 30):\n",
    "    #for row in train_data.itertuples():\n",
    "    for row in train_data.iterrows():\n",
    "        vals = row[1]\n",
    "\n",
    "        # calculate l2 distance\n",
    "        distance = 0\n",
    "        for i in train_keys:\n",
    "            distance += (vals[i] - sampled_point[i])**2\n",
    "        distance = np.sqrt(distance)\n",
    "\n",
    "        # if distance is less than threshold, return point\n",
    "        if distance < distance_threshold:\n",
    "            return vals\n",
    "    "
   ]
  },
  {
   "cell_type": "code",
   "execution_count": 16,
   "metadata": {},
   "outputs": [],
   "source": [
    "closest_threshold = find_closest_point_threshold(sampled_points[0], train_data.sample(frac = 0.1))"
   ]
  },
  {
   "cell_type": "code",
   "execution_count": 18,
   "metadata": {},
   "outputs": [
    {
     "data": {
      "text/plain": [
       "26.34541929264012"
      ]
     },
     "execution_count": 18,
     "metadata": {},
     "output_type": "execute_result"
    }
   ],
   "source": [
    "distance(closest_threshold, sampled_points[0])"
   ]
  },
  {
   "cell_type": "code",
   "execution_count": 21,
   "metadata": {},
   "outputs": [],
   "source": [
    "# Sample 1000 points \n",
    "samples = sample_point(bounds_dict, n_points = 10)"
   ]
  },
  {
   "cell_type": "code",
   "execution_count": 22,
   "metadata": {},
   "outputs": [
    {
     "name": "stderr",
     "output_type": "stream",
     "text": [
      "100%|██████████| 10/10 [00:11<00:00,  1.19s/it]\n"
     ]
    }
   ],
   "source": [
    "closest_points = []\n",
    "for i in tqdm(samples):\n",
    "    closest_points.append(find_closest_point_threshold(i, train_data.sample(frac = 0.1), distance_threshold = 35))"
   ]
  },
  {
   "cell_type": "code",
   "execution_count": 23,
   "metadata": {},
   "outputs": [],
   "source": [
    "import numba as nb"
   ]
  },
  {
   "cell_type": "code",
   "execution_count": 24,
   "metadata": {},
   "outputs": [],
   "source": [
    "def sample_point_array(bounds_dict, n_points = 10):\n",
    "    samples = []\n",
    "    for i in range(n_points):\n",
    "        point = []\n",
    "        for i in train_keys:\n",
    "            point.append(np.random.uniform(bounds_dict[i][0], bounds_dict[i][1]))\n",
    "        samples.append(point)\n",
    "\n",
    "    return np.asarray(samples)"
   ]
  },
  {
   "cell_type": "code",
   "execution_count": 39,
   "metadata": {},
   "outputs": [],
   "source": [
    "samples_array = sample_point_array(bounds_dict, n_points = 10_000)\n",
    "#train_data_array = train_data.sample(frac = 0.1).values\n",
    "train_data_array = train_data.sample(frac = 0.1).values"
   ]
  },
  {
   "cell_type": "code",
   "execution_count": 40,
   "metadata": {},
   "outputs": [],
   "source": [
    "\n",
    "# create numba version of find_closest_point_threshold\n",
    "@nb.jit\n",
    "def find_closest_point_threshold_numba(sample, train_data, distance_threshold = 30):\n",
    "    for row in train_data:\n",
    "        # calculate l2 distance\n",
    "        distance = np.linalg.norm(row - sample)\n",
    "\n",
    "        # if distance is less than threshold, return point\n",
    "        if distance < distance_threshold:\n",
    "            return row"
   ]
  },
  {
   "cell_type": "code",
   "execution_count": 41,
   "metadata": {},
   "outputs": [],
   "source": [
    "closest_array = np.apply_along_axis(find_closest_point_threshold_numba, 1, samples_array, train_data_array, distance_threshold = 30)"
   ]
  },
  {
   "cell_type": "code",
   "execution_count": 42,
   "metadata": {},
   "outputs": [
    {
     "data": {
      "text/plain": [
       "29.07824316909899"
      ]
     },
     "execution_count": 42,
     "metadata": {},
     "output_type": "execute_result"
    }
   ],
   "source": [
    "np.linalg.norm(closest_array[0] - samples_array[0])"
   ]
  },
  {
   "cell_type": "code",
   "execution_count": 43,
   "metadata": {},
   "outputs": [],
   "source": [
    "closest_df = pd.DataFrame(closest_array, columns = train_keys)"
   ]
  },
  {
   "cell_type": "code",
   "execution_count": 44,
   "metadata": {},
   "outputs": [
    {
     "name": "stdout",
     "output_type": "stream",
     "text": [
      "ane          778\n",
      "ate          778\n",
      "autor        778\n",
      "machtor      778\n",
      "x            778\n",
      "zeff         778\n",
      "gammae       778\n",
      "q            778\n",
      "smag         778\n",
      "alpha        778\n",
      "ani1         778\n",
      "ati0         778\n",
      "normni1      778\n",
      "ti_te0       778\n",
      "lognustar    778\n",
      "dtype: int64\n"
     ]
    }
   ],
   "source": [
    "print(closest_df.isna().sum())\n",
    "\n",
    "closest_df = closest_df.dropna()"
   ]
  },
  {
   "cell_type": "code",
   "execution_count": 45,
   "metadata": {},
   "outputs": [],
   "source": [
    "train_data_copy = train_data.copy()\n",
    "\n",
    "train_data_copy[\"hue\"] = \"original\"\n",
    "closest_df[\"hue\"] = \"closest\"\n",
    "\n",
    "concat_df = pd.concat([train_data_copy.sample(len(closest_df.index)), closest_df]).reset_index(drop = True)"
   ]
  },
  {
   "cell_type": "code",
   "execution_count": 46,
   "metadata": {},
   "outputs": [
    {
     "data": {
      "text/html": [
       "<div>\n",
       "<style scoped>\n",
       "    .dataframe tbody tr th:only-of-type {\n",
       "        vertical-align: middle;\n",
       "    }\n",
       "\n",
       "    .dataframe tbody tr th {\n",
       "        vertical-align: top;\n",
       "    }\n",
       "\n",
       "    .dataframe thead th {\n",
       "        text-align: right;\n",
       "    }\n",
       "</style>\n",
       "<table border=\"1\" class=\"dataframe\">\n",
       "  <thead>\n",
       "    <tr style=\"text-align: right;\">\n",
       "      <th></th>\n",
       "      <th>ane</th>\n",
       "      <th>ate</th>\n",
       "      <th>autor</th>\n",
       "      <th>machtor</th>\n",
       "      <th>x</th>\n",
       "      <th>zeff</th>\n",
       "      <th>gammae</th>\n",
       "      <th>q</th>\n",
       "      <th>smag</th>\n",
       "      <th>alpha</th>\n",
       "      <th>ani1</th>\n",
       "      <th>ati0</th>\n",
       "      <th>normni1</th>\n",
       "      <th>ti_te0</th>\n",
       "      <th>lognustar</th>\n",
       "      <th>hue</th>\n",
       "    </tr>\n",
       "  </thead>\n",
       "  <tbody>\n",
       "    <tr>\n",
       "      <th>0</th>\n",
       "      <td>-0.091259</td>\n",
       "      <td>0.969682</td>\n",
       "      <td>-0.291835</td>\n",
       "      <td>-0.530952</td>\n",
       "      <td>1.200953</td>\n",
       "      <td>0.232934</td>\n",
       "      <td>0.042775</td>\n",
       "      <td>1.648665</td>\n",
       "      <td>0.662594</td>\n",
       "      <td>-0.303045</td>\n",
       "      <td>-0.052202</td>\n",
       "      <td>0.163634</td>\n",
       "      <td>-0.254491</td>\n",
       "      <td>-0.108225</td>\n",
       "      <td>1.458881</td>\n",
       "      <td>original</td>\n",
       "    </tr>\n",
       "    <tr>\n",
       "      <th>1</th>\n",
       "      <td>-0.595114</td>\n",
       "      <td>-0.733873</td>\n",
       "      <td>-0.291835</td>\n",
       "      <td>-0.530952</td>\n",
       "      <td>-1.367708</td>\n",
       "      <td>-0.503023</td>\n",
       "      <td>0.042775</td>\n",
       "      <td>-0.847463</td>\n",
       "      <td>-0.692942</td>\n",
       "      <td>-0.462165</td>\n",
       "      <td>-0.443898</td>\n",
       "      <td>-0.700140</td>\n",
       "      <td>-0.226227</td>\n",
       "      <td>-0.156001</td>\n",
       "      <td>-0.052054</td>\n",
       "      <td>original</td>\n",
       "    </tr>\n",
       "    <tr>\n",
       "      <th>2</th>\n",
       "      <td>0.850855</td>\n",
       "      <td>1.065906</td>\n",
       "      <td>1.030580</td>\n",
       "      <td>0.269880</td>\n",
       "      <td>1.296334</td>\n",
       "      <td>-0.128186</td>\n",
       "      <td>0.241523</td>\n",
       "      <td>0.530048</td>\n",
       "      <td>1.279155</td>\n",
       "      <td>1.489571</td>\n",
       "      <td>1.485588</td>\n",
       "      <td>-0.565373</td>\n",
       "      <td>-0.820834</td>\n",
       "      <td>0.153586</td>\n",
       "      <td>-0.368190</td>\n",
       "      <td>original</td>\n",
       "    </tr>\n",
       "    <tr>\n",
       "      <th>3</th>\n",
       "      <td>-0.367069</td>\n",
       "      <td>-0.744665</td>\n",
       "      <td>-0.102375</td>\n",
       "      <td>1.153770</td>\n",
       "      <td>-1.365876</td>\n",
       "      <td>-1.113822</td>\n",
       "      <td>0.537673</td>\n",
       "      <td>-0.923788</td>\n",
       "      <td>-0.663865</td>\n",
       "      <td>-0.327923</td>\n",
       "      <td>-0.343984</td>\n",
       "      <td>-0.738487</td>\n",
       "      <td>-1.001111</td>\n",
       "      <td>-0.523094</td>\n",
       "      <td>1.036198</td>\n",
       "      <td>original</td>\n",
       "    </tr>\n",
       "    <tr>\n",
       "      <th>4</th>\n",
       "      <td>-0.154614</td>\n",
       "      <td>-0.250072</td>\n",
       "      <td>-0.291835</td>\n",
       "      <td>-0.530952</td>\n",
       "      <td>-1.009704</td>\n",
       "      <td>2.742640</td>\n",
       "      <td>0.042775</td>\n",
       "      <td>-0.280737</td>\n",
       "      <td>-0.645797</td>\n",
       "      <td>-0.517647</td>\n",
       "      <td>-0.268579</td>\n",
       "      <td>-0.572125</td>\n",
       "      <td>1.198787</td>\n",
       "      <td>-0.108225</td>\n",
       "      <td>0.592879</td>\n",
       "      <td>original</td>\n",
       "    </tr>\n",
       "    <tr>\n",
       "      <th>...</th>\n",
       "      <td>...</td>\n",
       "      <td>...</td>\n",
       "      <td>...</td>\n",
       "      <td>...</td>\n",
       "      <td>...</td>\n",
       "      <td>...</td>\n",
       "      <td>...</td>\n",
       "      <td>...</td>\n",
       "      <td>...</td>\n",
       "      <td>...</td>\n",
       "      <td>...</td>\n",
       "      <td>...</td>\n",
       "      <td>...</td>\n",
       "      <td>...</td>\n",
       "      <td>...</td>\n",
       "      <td>...</td>\n",
       "    </tr>\n",
       "    <tr>\n",
       "      <th>18439</th>\n",
       "      <td>6.857983</td>\n",
       "      <td>2.008415</td>\n",
       "      <td>0.708489</td>\n",
       "      <td>-0.040592</td>\n",
       "      <td>1.590951</td>\n",
       "      <td>1.285467</td>\n",
       "      <td>-0.191404</td>\n",
       "      <td>2.317186</td>\n",
       "      <td>1.357950</td>\n",
       "      <td>3.397277</td>\n",
       "      <td>7.273252</td>\n",
       "      <td>3.107147</td>\n",
       "      <td>-0.705424</td>\n",
       "      <td>4.372419</td>\n",
       "      <td>1.794545</td>\n",
       "      <td>closest</td>\n",
       "    </tr>\n",
       "    <tr>\n",
       "      <th>18440</th>\n",
       "      <td>1.103623</td>\n",
       "      <td>-0.852688</td>\n",
       "      <td>-0.291835</td>\n",
       "      <td>-0.530952</td>\n",
       "      <td>1.596151</td>\n",
       "      <td>-0.075832</td>\n",
       "      <td>0.042775</td>\n",
       "      <td>3.268411</td>\n",
       "      <td>3.382721</td>\n",
       "      <td>0.975708</td>\n",
       "      <td>1.211874</td>\n",
       "      <td>1.668640</td>\n",
       "      <td>-0.109316</td>\n",
       "      <td>3.906713</td>\n",
       "      <td>1.678088</td>\n",
       "      <td>closest</td>\n",
       "    </tr>\n",
       "    <tr>\n",
       "      <th>18441</th>\n",
       "      <td>1.461595</td>\n",
       "      <td>2.947934</td>\n",
       "      <td>-0.291835</td>\n",
       "      <td>-0.530952</td>\n",
       "      <td>1.616729</td>\n",
       "      <td>-0.843207</td>\n",
       "      <td>0.042775</td>\n",
       "      <td>1.250593</td>\n",
       "      <td>0.817798</td>\n",
       "      <td>-0.207480</td>\n",
       "      <td>0.259319</td>\n",
       "      <td>5.006976</td>\n",
       "      <td>-0.213163</td>\n",
       "      <td>-0.108225</td>\n",
       "      <td>1.322243</td>\n",
       "      <td>closest</td>\n",
       "    </tr>\n",
       "    <tr>\n",
       "      <th>18442</th>\n",
       "      <td>-0.135777</td>\n",
       "      <td>4.973408</td>\n",
       "      <td>-0.291835</td>\n",
       "      <td>-0.530952</td>\n",
       "      <td>1.532967</td>\n",
       "      <td>0.983099</td>\n",
       "      <td>0.042775</td>\n",
       "      <td>2.344148</td>\n",
       "      <td>-0.019404</td>\n",
       "      <td>-0.335264</td>\n",
       "      <td>-0.099298</td>\n",
       "      <td>-1.841720</td>\n",
       "      <td>1.338090</td>\n",
       "      <td>-0.108225</td>\n",
       "      <td>1.557460</td>\n",
       "      <td>closest</td>\n",
       "    </tr>\n",
       "    <tr>\n",
       "      <th>18443</th>\n",
       "      <td>0.074475</td>\n",
       "      <td>0.421983</td>\n",
       "      <td>-0.273580</td>\n",
       "      <td>-0.053488</td>\n",
       "      <td>-0.953535</td>\n",
       "      <td>-0.178214</td>\n",
       "      <td>-0.107806</td>\n",
       "      <td>-0.659390</td>\n",
       "      <td>-0.577625</td>\n",
       "      <td>-0.406454</td>\n",
       "      <td>0.007200</td>\n",
       "      <td>-0.101783</td>\n",
       "      <td>20.473113</td>\n",
       "      <td>-1.730409</td>\n",
       "      <td>-0.883183</td>\n",
       "      <td>closest</td>\n",
       "    </tr>\n",
       "  </tbody>\n",
       "</table>\n",
       "<p>18444 rows × 16 columns</p>\n",
       "</div>"
      ],
      "text/plain": [
       "            ane       ate     autor   machtor         x      zeff    gammae  \\\n",
       "0     -0.091259  0.969682 -0.291835 -0.530952  1.200953  0.232934  0.042775   \n",
       "1     -0.595114 -0.733873 -0.291835 -0.530952 -1.367708 -0.503023  0.042775   \n",
       "2      0.850855  1.065906  1.030580  0.269880  1.296334 -0.128186  0.241523   \n",
       "3     -0.367069 -0.744665 -0.102375  1.153770 -1.365876 -1.113822  0.537673   \n",
       "4     -0.154614 -0.250072 -0.291835 -0.530952 -1.009704  2.742640  0.042775   \n",
       "...         ...       ...       ...       ...       ...       ...       ...   \n",
       "18439  6.857983  2.008415  0.708489 -0.040592  1.590951  1.285467 -0.191404   \n",
       "18440  1.103623 -0.852688 -0.291835 -0.530952  1.596151 -0.075832  0.042775   \n",
       "18441  1.461595  2.947934 -0.291835 -0.530952  1.616729 -0.843207  0.042775   \n",
       "18442 -0.135777  4.973408 -0.291835 -0.530952  1.532967  0.983099  0.042775   \n",
       "18443  0.074475  0.421983 -0.273580 -0.053488 -0.953535 -0.178214 -0.107806   \n",
       "\n",
       "              q      smag     alpha      ani1      ati0    normni1    ti_te0  \\\n",
       "0      1.648665  0.662594 -0.303045 -0.052202  0.163634  -0.254491 -0.108225   \n",
       "1     -0.847463 -0.692942 -0.462165 -0.443898 -0.700140  -0.226227 -0.156001   \n",
       "2      0.530048  1.279155  1.489571  1.485588 -0.565373  -0.820834  0.153586   \n",
       "3     -0.923788 -0.663865 -0.327923 -0.343984 -0.738487  -1.001111 -0.523094   \n",
       "4     -0.280737 -0.645797 -0.517647 -0.268579 -0.572125   1.198787 -0.108225   \n",
       "...         ...       ...       ...       ...       ...        ...       ...   \n",
       "18439  2.317186  1.357950  3.397277  7.273252  3.107147  -0.705424  4.372419   \n",
       "18440  3.268411  3.382721  0.975708  1.211874  1.668640  -0.109316  3.906713   \n",
       "18441  1.250593  0.817798 -0.207480  0.259319  5.006976  -0.213163 -0.108225   \n",
       "18442  2.344148 -0.019404 -0.335264 -0.099298 -1.841720   1.338090 -0.108225   \n",
       "18443 -0.659390 -0.577625 -0.406454  0.007200 -0.101783  20.473113 -1.730409   \n",
       "\n",
       "       lognustar       hue  \n",
       "0       1.458881  original  \n",
       "1      -0.052054  original  \n",
       "2      -0.368190  original  \n",
       "3       1.036198  original  \n",
       "4       0.592879  original  \n",
       "...          ...       ...  \n",
       "18439   1.794545   closest  \n",
       "18440   1.678088   closest  \n",
       "18441   1.322243   closest  \n",
       "18442   1.557460   closest  \n",
       "18443  -0.883183   closest  \n",
       "\n",
       "[18444 rows x 16 columns]"
      ]
     },
     "execution_count": 46,
     "metadata": {},
     "output_type": "execute_result"
    }
   ],
   "source": [
    "concat_df"
   ]
  },
  {
   "cell_type": "code",
   "execution_count": 47,
   "metadata": {},
   "outputs": [
    {
     "data": {
      "image/png": "[encoded data removed]",
      "text/plain": [
       "<Figure size 432x288 with 1 Axes>"
      ]
     },
     "metadata": {
      "needs_background": "light"
     },
     "output_type": "display_data"
    },
    {
     "data": {
      "image/png": "[encoded data removed]",
      "text/plain": [
       "<Figure size 432x288 with 1 Axes>"
      ]
     },
     "metadata": {
      "needs_background": "light"
     },
     "output_type": "display_data"
    },
    {
     "data": {
      "image/png": "[encoded data removed]",
      "text/plain": [
       "<Figure size 432x288 with 1 Axes>"
      ]
     },
     "metadata": {
      "needs_background": "light"
     },
     "output_type": "display_data"
    },
    {
     "data": {
      "image/png": "[encoded data removed]",
      "text/plain": [
       "<Figure size 432x288 with 1 Axes>"
      ]
     },
     "metadata": {
      "needs_background": "light"
     },
     "output_type": "display_data"
    },
    {
     "data": {
      "image/png": "[encoded data removed]",
      "text/plain": [
       "<Figure size 432x288 with 1 Axes>"
      ]
     },
     "metadata": {
      "needs_background": "light"
     },
     "output_type": "display_data"
    },
    {
     "data": {
      "image/png": "[encoded data removed]",
      "text/plain": [
       "<Figure size 432x288 with 1 Axes>"
      ]
     },
     "metadata": {
      "needs_background": "light"
     },
     "output_type": "display_data"
    },
    {
     "data": {
      "image/png": "[encoded data removed]",
      "text/plain": [
       "<Figure size 432x288 with 1 Axes>"
      ]
     },
     "metadata": {
      "needs_background": "light"
     },
     "output_type": "display_data"
    },
    {
     "data": {
      "image/png": "[encoded data removed]",
      "text/plain": [
       "<Figure size 432x288 with 1 Axes>"
      ]
     },
     "metadata": {
      "needs_background": "light"
     },
     "output_type": "display_data"
    },
    {
     "data": {
      "image/png": "[encoded data removed]",
      "text/plain": [
       "<Figure size 432x288 with 1 Axes>"
      ]
     },
     "metadata": {
      "needs_background": "light"
     },
     "output_type": "display_data"
    },
    {
     "data": {
      "image/png": "[encoded data removed]",
      "text/plain": [
       "<Figure size 432x288 with 1 Axes>"
      ]
     },
     "metadata": {
      "needs_background": "light"
     },
     "output_type": "display_data"
    },
    {
     "data": {
      "image/png": "[encoded data removed]",
      "text/plain": [
       "<Figure size 432x288 with 1 Axes>"
      ]
     },
     "metadata": {
      "needs_background": "light"
     },
     "output_type": "display_data"
    },
    {
     "data": {
      "image/png": "[encoded data removed]",
      "text/plain": [
       "<Figure size 432x288 with 1 Axes>"
      ]
     },
     "metadata": {
      "needs_background": "light"
     },
     "output_type": "display_data"
    },
    {
     "data": {
      "image/png": "[encoded data removed]",
      "text/plain": [
       "<Figure size 432x288 with 1 Axes>"
      ]
     },
     "metadata": {
      "needs_background": "light"
     },
     "output_type": "display_data"
    },
    {
     "data": {
      "image/png": "[encoded data removed]",
      "text/plain": [
       "<Figure size 432x288 with 1 Axes>"
      ]
     },
     "metadata": {
      "needs_background": "light"
     },
     "output_type": "display_data"
    },
    {
     "data": {
      "image/png": "[encoded data removed]",
      "text/plain": [
       "<Figure size 432x288 with 1 Axes>"
      ]
     },
     "metadata": {
      "needs_background": "light"
     },
     "output_type": "display_data"
    }
   ],
   "source": [
    "for i in train_keys:\n",
    "    plt.figure()\n",
    "    sns.histplot(data = concat_df, x = i, bins = 50, hue = \"hue\")"
   ]
  },
  {
   "cell_type": "code",
   "execution_count": 50,
   "metadata": {},
   "outputs": [],
   "source": [
    "samples_array2 = sample_point_array(bounds_dict, n_points = 100)\n",
    "train_data_array2 = train_data.values"
   ]
  },
  {
   "cell_type": "code",
   "execution_count": 51,
   "metadata": {},
   "outputs": [],
   "source": [
    "closest_array = np.apply_along_axis(find_closest_point_threshold_numba, 1, samples_array2, train_data_array2, distance_threshold = 30)"
   ]
  },
  {
   "cell_type": "code",
   "execution_count": null,
   "metadata": {},
   "outputs": [],
   "source": []
  },
  {
   "cell_type": "markdown",
   "metadata": {},
   "source": [
    "## Try method of getting coordinates and sampling coordinates"
   ]
  },
  {
   "cell_type": "code",
   "execution_count": 67,
   "metadata": {},
   "outputs": [],
   "source": [
    "# for each column, get bin edges\n",
    "bin_edges = []\n",
    "for i in train_keys:\n",
    "    bin_edges.append(np.linspace(train_data[i].min(), train_data[i].max(), 50)) \n",
    "\n",
    "bin_edges = np.array(bin_edges)"
   ]
  },
  {
   "cell_type": "code",
   "execution_count": 80,
   "metadata": {},
   "outputs": [
    {
     "data": {
      "text/plain": [
       "array([-13.84101676, -13.27738328, -12.71374979, -12.15011631,\n",
       "       -11.58648282, -11.02284934, -10.45921585,  -9.89558236,\n",
       "        -9.33194888,  -8.76831539,  -8.20468191,  -7.64104842,\n",
       "        -7.07741493,  -6.51378145,  -5.95014796,  -5.38651448,\n",
       "        -4.82288099,  -4.25924751,  -3.69561402,  -3.13198053,\n",
       "        -2.56834705,  -2.00471356,  -1.44108008,  -0.87744659,\n",
       "        -0.31381311,   0.24982038,   0.81345387,   1.37708735,\n",
       "         1.94072084,   2.50435432,   3.06798781,   3.6316213 ,\n",
       "         4.19525478,   4.75888827,   5.32252175,   5.88615524,\n",
       "         6.44978872,   7.01342221,   7.5770557 ,   8.14068918,\n",
       "         8.70432267,   9.26795615,   9.83158964,  10.39522312,\n",
       "        10.95885661,  11.5224901 ,  12.08612358,  12.64975707,\n",
       "        13.21339055,  13.77702404])"
      ]
     },
     "execution_count": 80,
     "metadata": {},
     "output_type": "execute_result"
    }
   ],
   "source": [
    "bin_edges[0]"
   ]
  },
  {
   "cell_type": "code",
   "execution_count": 59,
   "metadata": {},
   "outputs": [],
   "source": [
    "train_samples = train_data.sample(100).values"
   ]
  },
  {
   "cell_type": "code",
   "execution_count": 70,
   "metadata": {},
   "outputs": [
    {
     "ename": "ValueError",
     "evalue": "object too deep for desired array",
     "output_type": "error",
     "traceback": [
      "\u001b[0;31m---------------------------------------------------------------------------\u001b[0m",
      "\u001b[0;31mValueError\u001b[0m                                Traceback (most recent call last)",
      "\u001b[1;32m/unix/atlastracking/jbarr/UKAEAGroupProject/src/notebooks/flatten.ipynb Cell 35'\u001b[0m in \u001b[0;36m<cell line: 1>\u001b[0;34m()\u001b[0m\n\u001b[0;32m----> <a href='vscode-notebook-cell://ssh-remote%2Bgpu/unix/atlastracking/jbarr/UKAEAGroupProject/src/notebooks/flatten.ipynb#ch0000050vscode-remote?line=0'>1</a>\u001b[0m edges \u001b[39m=\u001b[39m np\u001b[39m.\u001b[39;49mdigitize(train_samples[\u001b[39m0\u001b[39;49m], bin_edges)\n",
      "File \u001b[0;32m<__array_function__ internals>:5\u001b[0m, in \u001b[0;36mdigitize\u001b[0;34m(*args, **kwargs)\u001b[0m\n",
      "File \u001b[0;32m/unix/atlastracking/jbarr/ukaea-env/lib/python3.9/site-packages/numpy/lib/function_base.py:4922\u001b[0m, in \u001b[0;36mdigitize\u001b[0;34m(x, bins, right)\u001b[0m\n\u001b[1;32m   <a href='file:///unix/atlastracking/jbarr/ukaea-env/lib/python3.9/site-packages/numpy/lib/function_base.py?line=4918'>4919</a>\u001b[0m \u001b[39mif\u001b[39;00m np\u001b[39m.\u001b[39missubdtype(x\u001b[39m.\u001b[39mdtype, _nx\u001b[39m.\u001b[39mcomplexfloating):\n\u001b[1;32m   <a href='file:///unix/atlastracking/jbarr/ukaea-env/lib/python3.9/site-packages/numpy/lib/function_base.py?line=4919'>4920</a>\u001b[0m     \u001b[39mraise\u001b[39;00m \u001b[39mTypeError\u001b[39;00m(\u001b[39m\"\u001b[39m\u001b[39mx may not be complex\u001b[39m\u001b[39m\"\u001b[39m)\n\u001b[0;32m-> <a href='file:///unix/atlastracking/jbarr/ukaea-env/lib/python3.9/site-packages/numpy/lib/function_base.py?line=4921'>4922</a>\u001b[0m mono \u001b[39m=\u001b[39m _monotonicity(bins)\n\u001b[1;32m   <a href='file:///unix/atlastracking/jbarr/ukaea-env/lib/python3.9/site-packages/numpy/lib/function_base.py?line=4922'>4923</a>\u001b[0m \u001b[39mif\u001b[39;00m mono \u001b[39m==\u001b[39m \u001b[39m0\u001b[39m:\n\u001b[1;32m   <a href='file:///unix/atlastracking/jbarr/ukaea-env/lib/python3.9/site-packages/numpy/lib/function_base.py?line=4923'>4924</a>\u001b[0m     \u001b[39mraise\u001b[39;00m \u001b[39mValueError\u001b[39;00m(\u001b[39m\"\u001b[39m\u001b[39mbins must be monotonically increasing or decreasing\u001b[39m\u001b[39m\"\u001b[39m)\n",
      "\u001b[0;31mValueError\u001b[0m: object too deep for desired array"
     ]
    }
   ],
   "source": [
    "edges = np.digitize(train_samples[0], bin_edges)"
   ]
  },
  {
   "cell_type": "code",
   "execution_count": 91,
   "metadata": {},
   "outputs": [],
   "source": [
    "train_data_sample = train_data.copy()"
   ]
  },
  {
   "cell_type": "code",
   "execution_count": 103,
   "metadata": {},
   "outputs": [],
   "source": [
    "for i in range(len(train_keys)):\n",
    "    train_data_sample[f\"{train_keys[i]}_bin\"] = np.digitize(train_data_sample[train_keys[i]], bin_edges[i])\n",
    "\n",
    "train_data_coords = train_data_sample.drop(columns = train_keys)"
   ]
  },
  {
   "cell_type": "code",
   "execution_count": 104,
   "metadata": {},
   "outputs": [
    {
     "data": {
      "text/html": [
       "<div>\n",
       "<style scoped>\n",
       "    .dataframe tbody tr th:only-of-type {\n",
       "        vertical-align: middle;\n",
       "    }\n",
       "\n",
       "    .dataframe tbody tr th {\n",
       "        vertical-align: top;\n",
       "    }\n",
       "\n",
       "    .dataframe thead th {\n",
       "        text-align: right;\n",
       "    }\n",
       "</style>\n",
       "<table border=\"1\" class=\"dataframe\">\n",
       "  <thead>\n",
       "    <tr style=\"text-align: right;\">\n",
       "      <th></th>\n",
       "      <th>ane_bin</th>\n",
       "      <th>ate_bin</th>\n",
       "      <th>autor_bin</th>\n",
       "      <th>machtor_bin</th>\n",
       "      <th>x_bin</th>\n",
       "      <th>zeff_bin</th>\n",
       "      <th>gammae_bin</th>\n",
       "      <th>q_bin</th>\n",
       "      <th>smag_bin</th>\n",
       "      <th>alpha_bin</th>\n",
       "      <th>ani1_bin</th>\n",
       "      <th>ati0_bin</th>\n",
       "      <th>normni1_bin</th>\n",
       "      <th>ti_te0_bin</th>\n",
       "      <th>lognustar_bin</th>\n",
       "    </tr>\n",
       "  </thead>\n",
       "  <tbody>\n",
       "    <tr>\n",
       "      <th>31980701</th>\n",
       "      <td>24</td>\n",
       "      <td>18</td>\n",
       "      <td>20</td>\n",
       "      <td>29</td>\n",
       "      <td>11</td>\n",
       "      <td>2</td>\n",
       "      <td>36</td>\n",
       "      <td>1</td>\n",
       "      <td>9</td>\n",
       "      <td>9</td>\n",
       "      <td>26</td>\n",
       "      <td>18</td>\n",
       "      <td>4</td>\n",
       "      <td>10</td>\n",
       "      <td>11</td>\n",
       "    </tr>\n",
       "    <tr>\n",
       "      <th>30920680</th>\n",
       "      <td>24</td>\n",
       "      <td>17</td>\n",
       "      <td>20</td>\n",
       "      <td>30</td>\n",
       "      <td>11</td>\n",
       "      <td>1</td>\n",
       "      <td>33</td>\n",
       "      <td>2</td>\n",
       "      <td>9</td>\n",
       "      <td>10</td>\n",
       "      <td>25</td>\n",
       "      <td>18</td>\n",
       "      <td>2</td>\n",
       "      <td>8</td>\n",
       "      <td>12</td>\n",
       "    </tr>\n",
       "    <tr>\n",
       "      <th>5951936</th>\n",
       "      <td>27</td>\n",
       "      <td>6</td>\n",
       "      <td>19</td>\n",
       "      <td>10</td>\n",
       "      <td>48</td>\n",
       "      <td>3</td>\n",
       "      <td>33</td>\n",
       "      <td>6</td>\n",
       "      <td>13</td>\n",
       "      <td>9</td>\n",
       "      <td>26</td>\n",
       "      <td>16</td>\n",
       "      <td>4</td>\n",
       "      <td>8</td>\n",
       "      <td>28</td>\n",
       "    </tr>\n",
       "    <tr>\n",
       "      <th>8815332</th>\n",
       "      <td>25</td>\n",
       "      <td>18</td>\n",
       "      <td>19</td>\n",
       "      <td>10</td>\n",
       "      <td>17</td>\n",
       "      <td>2</td>\n",
       "      <td>33</td>\n",
       "      <td>1</td>\n",
       "      <td>9</td>\n",
       "      <td>8</td>\n",
       "      <td>25</td>\n",
       "      <td>17</td>\n",
       "      <td>3</td>\n",
       "      <td>8</td>\n",
       "      <td>9</td>\n",
       "    </tr>\n",
       "    <tr>\n",
       "      <th>6161299</th>\n",
       "      <td>24</td>\n",
       "      <td>18</td>\n",
       "      <td>19</td>\n",
       "      <td>10</td>\n",
       "      <td>17</td>\n",
       "      <td>3</td>\n",
       "      <td>33</td>\n",
       "      <td>1</td>\n",
       "      <td>10</td>\n",
       "      <td>8</td>\n",
       "      <td>25</td>\n",
       "      <td>18</td>\n",
       "      <td>4</td>\n",
       "      <td>8</td>\n",
       "      <td>11</td>\n",
       "    </tr>\n",
       "    <tr>\n",
       "      <th>...</th>\n",
       "      <td>...</td>\n",
       "      <td>...</td>\n",
       "      <td>...</td>\n",
       "      <td>...</td>\n",
       "      <td>...</td>\n",
       "      <td>...</td>\n",
       "      <td>...</td>\n",
       "      <td>...</td>\n",
       "      <td>...</td>\n",
       "      <td>...</td>\n",
       "      <td>...</td>\n",
       "      <td>...</td>\n",
       "      <td>...</td>\n",
       "      <td>...</td>\n",
       "      <td>...</td>\n",
       "    </tr>\n",
       "    <tr>\n",
       "      <th>13315092</th>\n",
       "      <td>24</td>\n",
       "      <td>17</td>\n",
       "      <td>19</td>\n",
       "      <td>10</td>\n",
       "      <td>5</td>\n",
       "      <td>2</td>\n",
       "      <td>33</td>\n",
       "      <td>1</td>\n",
       "      <td>9</td>\n",
       "      <td>8</td>\n",
       "      <td>25</td>\n",
       "      <td>17</td>\n",
       "      <td>4</td>\n",
       "      <td>8</td>\n",
       "      <td>20</td>\n",
       "    </tr>\n",
       "    <tr>\n",
       "      <th>26858567</th>\n",
       "      <td>25</td>\n",
       "      <td>19</td>\n",
       "      <td>21</td>\n",
       "      <td>22</td>\n",
       "      <td>34</td>\n",
       "      <td>3</td>\n",
       "      <td>33</td>\n",
       "      <td>2</td>\n",
       "      <td>13</td>\n",
       "      <td>10</td>\n",
       "      <td>26</td>\n",
       "      <td>18</td>\n",
       "      <td>4</td>\n",
       "      <td>8</td>\n",
       "      <td>12</td>\n",
       "    </tr>\n",
       "    <tr>\n",
       "      <th>23327850</th>\n",
       "      <td>25</td>\n",
       "      <td>19</td>\n",
       "      <td>20</td>\n",
       "      <td>26</td>\n",
       "      <td>33</td>\n",
       "      <td>5</td>\n",
       "      <td>27</td>\n",
       "      <td>2</td>\n",
       "      <td>13</td>\n",
       "      <td>11</td>\n",
       "      <td>25</td>\n",
       "      <td>18</td>\n",
       "      <td>6</td>\n",
       "      <td>9</td>\n",
       "      <td>10</td>\n",
       "    </tr>\n",
       "    <tr>\n",
       "      <th>23200604</th>\n",
       "      <td>25</td>\n",
       "      <td>18</td>\n",
       "      <td>20</td>\n",
       "      <td>37</td>\n",
       "      <td>16</td>\n",
       "      <td>7</td>\n",
       "      <td>36</td>\n",
       "      <td>1</td>\n",
       "      <td>8</td>\n",
       "      <td>10</td>\n",
       "      <td>28</td>\n",
       "      <td>19</td>\n",
       "      <td>8</td>\n",
       "      <td>11</td>\n",
       "      <td>11</td>\n",
       "    </tr>\n",
       "    <tr>\n",
       "      <th>31579238</th>\n",
       "      <td>25</td>\n",
       "      <td>17</td>\n",
       "      <td>20</td>\n",
       "      <td>27</td>\n",
       "      <td>11</td>\n",
       "      <td>2</td>\n",
       "      <td>36</td>\n",
       "      <td>1</td>\n",
       "      <td>9</td>\n",
       "      <td>10</td>\n",
       "      <td>25</td>\n",
       "      <td>18</td>\n",
       "      <td>4</td>\n",
       "      <td>10</td>\n",
       "      <td>13</td>\n",
       "    </tr>\n",
       "  </tbody>\n",
       "</table>\n",
       "<p>17671401 rows × 15 columns</p>\n",
       "</div>"
      ],
      "text/plain": [
       "          ane_bin  ate_bin  autor_bin  machtor_bin  x_bin  zeff_bin  \\\n",
       "31980701       24       18         20           29     11         2   \n",
       "30920680       24       17         20           30     11         1   \n",
       "5951936        27        6         19           10     48         3   \n",
       "8815332        25       18         19           10     17         2   \n",
       "6161299        24       18         19           10     17         3   \n",
       "...           ...      ...        ...          ...    ...       ...   \n",
       "13315092       24       17         19           10      5         2   \n",
       "26858567       25       19         21           22     34         3   \n",
       "23327850       25       19         20           26     33         5   \n",
       "23200604       25       18         20           37     16         7   \n",
       "31579238       25       17         20           27     11         2   \n",
       "\n",
       "          gammae_bin  q_bin  smag_bin  alpha_bin  ani1_bin  ati0_bin  \\\n",
       "31980701          36      1         9          9        26        18   \n",
       "30920680          33      2         9         10        25        18   \n",
       "5951936           33      6        13          9        26        16   \n",
       "8815332           33      1         9          8        25        17   \n",
       "6161299           33      1        10          8        25        18   \n",
       "...              ...    ...       ...        ...       ...       ...   \n",
       "13315092          33      1         9          8        25        17   \n",
       "26858567          33      2        13         10        26        18   \n",
       "23327850          27      2        13         11        25        18   \n",
       "23200604          36      1         8         10        28        19   \n",
       "31579238          36      1         9         10        25        18   \n",
       "\n",
       "          normni1_bin  ti_te0_bin  lognustar_bin  \n",
       "31980701            4          10             11  \n",
       "30920680            2           8             12  \n",
       "5951936             4           8             28  \n",
       "8815332             3           8              9  \n",
       "6161299             4           8             11  \n",
       "...               ...         ...            ...  \n",
       "13315092            4           8             20  \n",
       "26858567            4           8             12  \n",
       "23327850            6           9             10  \n",
       "23200604            8          11             11  \n",
       "31579238            4          10             13  \n",
       "\n",
       "[17671401 rows x 15 columns]"
      ]
     },
     "execution_count": 104,
     "metadata": {},
     "output_type": "execute_result"
    }
   ],
   "source": [
    "train_data_coords"
   ]
  },
  {
   "cell_type": "code",
   "execution_count": 111,
   "metadata": {},
   "outputs": [],
   "source": [
    "sample_coordinates = np.random.randint(0, 50, size = 15)"
   ]
  },
  {
   "cell_type": "code",
   "execution_count": 120,
   "metadata": {},
   "outputs": [
    {
     "name": "stdout",
     "output_type": "stream",
     "text": [
      "0\n",
      "1\n",
      "2\n",
      "3\n",
      "4\n",
      "5\n",
      "6\n",
      "7\n",
      "8\n",
      "9\n",
      "10\n",
      "11\n",
      "12\n",
      "13\n",
      "14\n",
      "15\n",
      "16\n",
      "17\n",
      "18\n",
      "19\n",
      "20\n",
      "21\n",
      "22\n",
      "23\n",
      "24\n",
      "25\n",
      "26\n",
      "27\n",
      "28\n",
      "29\n",
      "30\n",
      "31\n",
      "32\n",
      "33\n",
      "34\n",
      "35\n",
      "36\n",
      "37\n",
      "38\n",
      "39\n",
      "40\n",
      "41\n",
      "42\n",
      "43\n",
      "44\n",
      "45\n",
      "46\n",
      "47\n",
      "48\n",
      "49\n",
      "50\n",
      "51\n",
      "52\n",
      "53\n",
      "54\n",
      "55\n",
      "56\n",
      "57\n",
      "58\n",
      "59\n",
      "60\n",
      "61\n",
      "62\n",
      "63\n",
      "64\n",
      "65\n",
      "66\n",
      "67\n",
      "68\n",
      "69\n",
      "70\n",
      "71\n",
      "72\n",
      "73\n",
      "74\n",
      "75\n",
      "76\n",
      "77\n",
      "78\n",
      "79\n",
      "80\n",
      "81\n",
      "82\n",
      "83\n",
      "84\n",
      "85\n",
      "86\n",
      "87\n",
      "88\n",
      "89\n",
      "90\n",
      "91\n",
      "92\n",
      "93\n",
      "94\n",
      "95\n",
      "96\n",
      "97\n",
      "98\n",
      "99\n",
      "100\n",
      "101\n",
      "102\n",
      "103\n",
      "104\n",
      "105\n",
      "106\n",
      "107\n",
      "108\n",
      "109\n",
      "110\n",
      "111\n",
      "112\n",
      "113\n",
      "114\n",
      "115\n",
      "116\n",
      "117\n",
      "118\n",
      "119\n",
      "120\n",
      "121\n",
      "122\n",
      "123\n",
      "124\n",
      "125\n",
      "126\n",
      "127\n",
      "128\n",
      "129\n",
      "130\n",
      "131\n",
      "132\n",
      "133\n",
      "134\n",
      "135\n",
      "136\n",
      "137\n",
      "138\n",
      "139\n",
      "140\n",
      "141\n",
      "142\n",
      "143\n",
      "144\n",
      "145\n",
      "146\n",
      "147\n",
      "148\n",
      "149\n",
      "150\n",
      "Found a value after 151 tries\n"
     ]
    }
   ],
   "source": [
    "\n",
    "flag = False\n",
    "count = 0\n",
    "while not flag:\n",
    "    print(count)\n",
    "    sample_coordinates = np.random.randint(0, 50, size = 15)\n",
    "    # check if any row in train_data_coords has the same coordinates as sample_coordinates\n",
    "    true_vals = train_data[train_data_coords.isin(sample_coordinates).all(axis = 1) == True]\n",
    "\n",
    "    flag = bool(len(true_vals))\n",
    "    count += 1\n",
    "\n",
    "    if count > 150:\n",
    "        break\n",
    "\n",
    "print(f\"Found a value after {count} tries\")\n"
   ]
  },
  {
   "cell_type": "code",
   "execution_count": null,
   "metadata": {},
   "outputs": [],
   "source": []
  }
 ],
 "metadata": {
  "interpreter": {
   "hash": "10538d370d8114bd993108ac19f3a035b791430c11fc23d790b0fcdf7a735f69"
  },
  "kernelspec": {
   "display_name": "Python 3.9.7 (conda)",
   "language": "python",
   "name": "python3"
  },
  "language_info": {
   "codemirror_mode": {
    "name": "ipython",
    "version": 3
   },
   "file_extension": ".py",
   "mimetype": "text/x-python",
   "name": "python",
   "nbconvert_exporter": "python",
   "pygments_lexer": "ipython3",
   "version": "3.9.7"
  },
  "orig_nbformat": 4
 },
 "nbformat": 4,
 "nbformat_minor": 2
}
