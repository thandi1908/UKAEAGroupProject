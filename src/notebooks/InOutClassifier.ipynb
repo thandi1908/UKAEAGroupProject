{
 "cells": [
  {
   "cell_type": "code",
   "execution_count": 36,
   "metadata": {},
   "outputs": [],
   "source": [
    "import numpy as np\n",
    "import h5py as h5\n",
    "import pandas as pd\n",
    "import matplotlib.pyplot as plt\n",
    "import seaborn as sns\n",
    "\n",
    "from sklearn.model_selection import train_test_split\n",
    "from sklearn.preprocessing import StandardScaler\n",
    "import tensorflow as tf\n",
    "from sklearn import metrics"
   ]
  },
  {
   "cell_type": "code",
   "execution_count": 2,
   "metadata": {},
   "outputs": [],
   "source": []
  },
  {
   "cell_type": "code",
   "execution_count": 3,
   "metadata": {},
   "outputs": [],
   "source": [
    "with h5.File('../qlk_jetexp_nn_training_database_minimal.h5', \"r\") as f:\n",
    "    inputs = f['input']['block0_values'][()]\n",
    "    input_names = f['input']['block0_items'][()]\n",
    "    index_inp = f['input']['axis1'][()]   #row number from 0 to len(inputs)\n",
    "\n",
    "    outputs = f['output']['block0_values'][()]\n",
    "    output_names = f['output']['block0_items'][()]\n",
    "    index_out = f['output']['axis1'][()]   #row number from 0 to len(inputs) with some missing rows"
   ]
  },
  {
   "cell_type": "code",
   "execution_count": 4,
   "metadata": {},
   "outputs": [],
   "source": [
    "df_in = pd.DataFrame(inputs, index_inp, input_names)\n",
    "df_out = pd.DataFrame(outputs, index_out, output_names)"
   ]
  },
  {
   "cell_type": "markdown",
   "metadata": {},
   "source": [
    "Give a class label of 1 to inputs which have an output and 0 to inputs without a corresponding QuaLiKz output."
   ]
  },
  {
   "cell_type": "code",
   "execution_count": 5,
   "metadata": {},
   "outputs": [],
   "source": [
    "y = np.where(np.in1d(index_inp, index_out), 1, 0)"
   ]
  },
  {
   "cell_type": "code",
   "execution_count": 6,
   "metadata": {},
   "outputs": [],
   "source": [
    "X_train, X_temp, y_train, y_temp = train_test_split(df_in, y, test_size = 0.2, random_state = 42)\n",
    "\n",
    "X_valid, X_test, y_valid, y_test = train_test_split(X_temp, y_temp, test_size = 0.5, random_state = 42)"
   ]
  },
  {
   "cell_type": "code",
   "execution_count": 7,
   "metadata": {},
   "outputs": [],
   "source": [
    "train_df = X_train\n",
    "train_df['Target'] = y_train\n",
    "\n",
    "valid_df = X_valid\n",
    "valid_df['Target'] = y_valid\n",
    "\n",
    "test_df = X_test\n",
    "test_df['Target'] = y_test\n",
    "\n",
    "train_df.to_pickle(\"./train_data.pkl\")\n",
    "valid_df.to_pickle(\"./validation_data.pkl\")\n",
    "test_df.to_pickle(\"./test_data.pkl\")"
   ]
  },
  {
   "cell_type": "code",
   "execution_count": 35,
   "metadata": {},
   "outputs": [],
   "source": [
    "train_data = pd.read_pickle(\"./train_data.pkl\")\n",
    "X_train, y_train = train_data.iloc[:, : -1].to_numpy(), train_data.iloc[:, -1].to_numpy()\n",
    "\n",
    "validation_data = pd.read_pickle(\"./validation_data.pkl\")\n",
    "X_valid, y_valid = validation_data.iloc[:, : -1].to_numpy(), validation_data.iloc[:, -1].to_numpy()\n",
    "\n",
    "test_data = pd.read_pickle(\"./test_data.pkl\")\n",
    "X_test, y_test = test_data.iloc[:, : -1].to_numpy(), test_data.iloc[:, -1].to_numpy()"
   ]
  },
  {
   "cell_type": "code",
   "execution_count": 37,
   "metadata": {},
   "outputs": [
    {
     "data": {
      "text/plain": [
       "array([[-0.02655201, -0.34483678, -0.21996927, ..., -0.12259543,\n",
       "        -0.08693051, -1.3025643 ],\n",
       "       [-0.03970308,  0.36700906, -0.21996927, ..., -0.12814888,\n",
       "        -0.08693051, -0.66269063],\n",
       "       [-0.01090123, -0.08919354, -0.21996927, ..., -1.50555962,\n",
       "        -0.08693051, -0.03155273],\n",
       "       ...,\n",
       "       [ 0.31205872, -0.2599409 ,  0.52726849, ..., -0.22799285,\n",
       "        -1.66667635,  0.03588118],\n",
       "       [-0.00409869, -0.18213573, -0.21996927, ...,  1.24037531,\n",
       "        -0.08693051,  0.09789765],\n",
       "       [ 0.00643201,  0.01521229, -0.21996927, ...,  1.31148725,\n",
       "         0.32877127, -1.61544452]])"
      ]
     },
     "execution_count": 37,
     "metadata": {},
     "output_type": "execute_result"
    }
   ],
   "source": [
    "scaler = StandardScaler()\n",
    "\n",
    "scaler.fit(X_train)\n",
    "scaler.fit(X_train)\n",
    "scaler.transform(X_valid)\n",
    "scaler.transform(X_test)"
   ]
  },
  {
   "cell_type": "code",
   "execution_count": 41,
   "metadata": {},
   "outputs": [],
   "source": [
    "#scaler = StandardScaler()\n",
    "#print(X_train)\n",
    "#scaler.fit(X_train)\n",
    "#scaler.transform(X_train)\n",
    "#print(X_train)\n",
    "model = tf.keras.Sequential([\n",
    "    tf.keras.layers.Dense(20, activation='relu'),\n",
    "    tf.keras.layers.Dense(10, activation = 'relu'),\n",
    "    tf.keras.layers.Dense(1, activation = 'sigmoid')\n",
    "])\n",
    "\n",
    "model.compile(optimizer=\"Adam\", loss = 'binary_crossentropy', metrics=[\"acc\",tf.keras.metrics.AUC()])"
   ]
  },
  {
   "cell_type": "markdown",
   "metadata": {},
   "source": [
    "Using first 10,000 points gives perfect classifier"
   ]
  },
  {
   "cell_type": "code",
   "execution_count": 42,
   "metadata": {},
   "outputs": [
    {
     "name": "stdout",
     "output_type": "stream",
     "text": [
      "Epoch 1/10\n",
      "6523/6523 [==============================] - 154s 23ms/step - loss: 0.4915 - acc: 0.7544 - auc_8: 0.8158 - val_loss: 0.3904 - val_acc: 0.8082 - val_auc_8: 0.8872\n",
      "Epoch 2/10\n",
      "6523/6523 [==============================] - 206s 32ms/step - loss: 0.3867 - acc: 0.8103 - auc_8: 0.8893 - val_loss: 0.3792 - val_acc: 0.8148 - val_auc_8: 0.8940\n",
      "Epoch 3/10\n",
      "6523/6523 [==============================] - 206s 32ms/step - loss: 0.3778 - acc: 0.8156 - auc_8: 0.8949 - val_loss: 0.3740 - val_acc: 0.8177 - val_auc_8: 0.8971\n",
      "Epoch 4/10\n",
      "6523/6523 [==============================] - 205s 31ms/step - loss: 0.3735 - acc: 0.8183 - auc_8: 0.8974 - val_loss: 0.3711 - val_acc: 0.8196 - val_auc_8: 0.8991\n",
      "Epoch 5/10\n",
      "6523/6523 [==============================] - 206s 32ms/step - loss: 0.3707 - acc: 0.8199 - auc_8: 0.8990 - val_loss: 0.3697 - val_acc: 0.8201 - val_auc_8: 0.8996\n",
      "Epoch 6/10\n",
      "6523/6523 [==============================] - 205s 32ms/step - loss: 0.3693 - acc: 0.8207 - auc_8: 0.8998 - val_loss: 0.3683 - val_acc: 0.8217 - val_auc_8: 0.9007\n",
      "Epoch 7/10\n",
      "6523/6523 [==============================] - 207s 32ms/step - loss: 0.3682 - acc: 0.8213 - auc_8: 0.9005 - val_loss: 0.3682 - val_acc: 0.8215 - val_auc_8: 0.9009\n",
      "Epoch 8/10\n",
      "6523/6523 [==============================] - 173s 27ms/step - loss: 0.3674 - acc: 0.8217 - auc_8: 0.9010 - val_loss: 0.3666 - val_acc: 0.8220 - val_auc_8: 0.9014\n",
      "Epoch 9/10\n",
      "6523/6523 [==============================] - 128s 20ms/step - loss: 0.3669 - acc: 0.8220 - auc_8: 0.9013 - val_loss: 0.3666 - val_acc: 0.8224 - val_auc_8: 0.9016\n",
      "Epoch 10/10\n",
      "6523/6523 [==============================] - 125s 19ms/step - loss: 0.3662 - acc: 0.8224 - auc_8: 0.9017 - val_loss: 0.3661 - val_acc: 0.8225 - val_auc_8: 0.9017\n"
     ]
    }
   ],
   "source": [
    "#rdm_df = pd.DataFrame(X_train)\n",
    "#rdm_series = pd.Series(y_train)\n",
    "\n",
    "#rdm_sample = rdm_df.sample(100_000)\n",
    "#rdm_y = rdm_series.sample(100_000)\n",
    "\n",
    "#rdm_sample = rdm_sample.to_numpy()\n",
    "#rdm_y = rdm_y.to_numpy()\n",
    "\n",
    "y_train_tmp = pd.Series(y_train)\n",
    "y_valid_tmp = pd.Series(y_valid)\n",
    "\n",
    "callback = tf.keras.callbacks.EarlyStopping(monitor='loss', patience=3)\n",
    "\n",
    "history = model.fit(X_train, y_train_tmp, epochs = 10, \n",
    "                    validation_data = (X_valid, y_valid_tmp), validation_batch_size = 4096,\n",
    "                    batch_size = 4096, callbacks = [callback] )\n"
   ]
  },
  {
   "cell_type": "code",
   "execution_count": 43,
   "metadata": {},
   "outputs": [
    {
     "name": "stdout",
     "output_type": "stream",
     "text": [
      "INFO:tensorflow:Assets written to: input_output_model/assets\n"
     ]
    }
   ],
   "source": [
    "#model.save(\"input_output_model\")"
   ]
  },
  {
   "cell_type": "code",
   "execution_count": 44,
   "metadata": {},
   "outputs": [
    {
     "name": "stdout",
     "output_type": "stream",
     "text": [
      "104360/104360 [==============================] - 148s 1ms/step - loss: 0.3666 - acc: 0.8222 - auc_8: 0.9014\n",
      "Loss:  0.36655938625335693\n",
      "Accuracy:  0.82224440574646\n",
      "AUC 0.9013649225234985\n"
     ]
    }
   ],
   "source": [
    "loss, accuracy, auc = model.evaluate(X_test,y_test)\n",
    "\n",
    "print(\"Loss: \", loss)\n",
    "print(\"Accuracy: \", accuracy)\n",
    "print(\"AUC\", auc)"
   ]
  },
  {
   "cell_type": "code",
   "execution_count": 46,
   "metadata": {},
   "outputs": [
    {
     "name": "stdout",
     "output_type": "stream",
     "text": [
      "[ 0. -1.  1. ...  1.  0.  1.]\n"
     ]
    }
   ],
   "source": [
    "predicted = model.predict(X_test)\n",
    "x = np.round(predicted).flatten()\n",
    "diff = x - y_test\n",
    "print(diff)\n",
    "\n",
    "\n",
    "yes_out = X_test[np.where(x == 1)]\n",
    "no_out = X_test[np.where(x == 0)]\n",
    " "
   ]
  },
  {
   "cell_type": "code",
   "execution_count": 47,
   "metadata": {},
   "outputs": [
    {
     "data": {
      "text/plain": [
       "[<matplotlib.lines.Line2D at 0x7f51401edcd0>]"
      ]
     },
     "execution_count": 47,
     "metadata": {},
     "output_type": "execute_result"
    },
    {
     "data": {
      "image/png": "[encoded data removed]",
      "text/plain": [
       "<Figure size 432x288 with 1 Axes>"
      ]
     },
     "metadata": {
      "needs_background": "light"
     },
     "output_type": "display_data"
    }
   ],
   "source": [
    "fpr, tpr, thresholds = metrics.roc_curve(y_test, predicted)\n",
    "\n",
    "plt.figure()\n",
    "\n",
    "plt.plot(fpr,tpr)"
   ]
  },
  {
   "cell_type": "code",
   "execution_count": 48,
   "metadata": {},
   "outputs": [
    {
     "data": {
      "text/plain": [
       "dict_keys(['loss', 'acc', 'auc_8', 'val_loss', 'val_acc', 'val_auc_8'])"
      ]
     },
     "execution_count": 48,
     "metadata": {},
     "output_type": "execute_result"
    }
   ],
   "source": [
    "history_dict = history.history\n",
    "history_dict.keys()\n"
   ]
  },
  {
   "cell_type": "code",
   "execution_count": 51,
   "metadata": {},
   "outputs": [
    {
     "data": {
      "image/png": "[encoded data removed]",
      "text/plain": [
       "<Figure size 432x288 with 1 Axes>"
      ]
     },
     "metadata": {
      "needs_background": "light"
     },
     "output_type": "display_data"
    }
   ],
   "source": [
    "acc = history_dict['acc']\n",
    "loss = history_dict['loss']\n",
    "val_loss = history_dict['val_loss']\n",
    "\n",
    "epochs = range(1, len(acc) + 1)\n",
    "\n",
    "# \"bo\" is for \"blue dot\"\n",
    "plt.plot(epochs, loss, 'bo', label='Training loss')\n",
    "plt.plot(epochs, val_loss, 'ro', label = 'Validation loss' )\n",
    "# b is for \"solid blue line\"\n",
    "plt.title('Training and loss')\n",
    "plt.xlabel('Epochs')\n",
    "plt.ylabel('Loss')\n",
    "plt.legend()\n",
    "\n",
    "plt.show()\n"
   ]
  },
  {
   "cell_type": "code",
   "execution_count": null,
   "metadata": {},
   "outputs": [],
   "source": [
    "plt.hist([a,b])"
   ]
  }
 ],
 "metadata": {
  "kernelspec": {
   "display_name": "Python 3 (ipykernel)",
   "language": "python",
   "name": "python3"
  },
  "language_info": {
   "codemirror_mode": {
    "name": "ipython",
    "version": 3
   },
   "file_extension": ".py",
   "mimetype": "text/x-python",
   "name": "python",
   "nbconvert_exporter": "python",
   "pygments_lexer": "ipython3",
   "version": "3.9.7"
  }
 },
 "nbformat": 4,
 "nbformat_minor": 2
}
