{
 "cells": [
  {
   "cell_type": "code",
   "execution_count": 1,
   "id": "eb26f467",
   "metadata": {},
   "outputs": [],
   "source": [
    "import pandas as pd\n",
    "import numpy as np\n",
    "import torch.nn as nn\n",
    "import torch.distributions as dist\n",
    "import torch\n",
    "import copy\n",
    "import matplotlib.pyplot as plt\n",
    "from pytorch_lightning import LightningModule, Trainer\n",
    "from pytorch_lightning.callbacks import Callback\n",
    "import torch.nn.functional as F\n",
    "\n",
    "from torch.utils.data import Dataset, DataLoader\n",
    "from scripts.utils import ScaleData, train_keys\n",
    "from scripts.AutoEncoder import AutoEncoderDataset\n",
    "from tqdm import tqdm\n",
    "\n",
    "import itertools\n",
    "import seaborn as sns\n",
    "#%matplotlib notebook\n",
    "from tqdm.auto import tqdm"
   ]
  },
  {
   "cell_type": "code",
   "execution_count": 2,
   "id": "5fa2be01",
   "metadata": {},
   "outputs": [
    {
     "name": "stdout",
     "output_type": "stream",
     "text": [
      "GPU device: 0\n"
     ]
    }
   ],
   "source": [
    "# do we have a gpu \n",
    "gpu = torch.cuda.is_available()\n",
    "\n",
    "if gpu:\n",
    "    device = torch.cuda.current_device()\n",
    "    print(f'GPU device: {device}')\n",
    "else: \n",
    "    print('No GPU')"
   ]
  },
  {
   "cell_type": "code",
   "execution_count": 3,
   "id": "64e68a05",
   "metadata": {},
   "outputs": [
    {
     "data": {
      "text/plain": [
       "1"
      ]
     },
     "execution_count": 3,
     "metadata": {},
     "output_type": "execute_result"
    }
   ],
   "source": [
    "torch.cuda.device_count()"
   ]
  },
  {
   "cell_type": "code",
   "execution_count": 4,
   "id": "16a0a8b8",
   "metadata": {},
   "outputs": [],
   "source": [
    "train_data_path = \"/share/rcifdata/jbarr/UKAEAGroupProject/data/train_data_clipped.pkl\"\n",
    "train_data = AutoEncoderDataset(train_data_path, columns = train_keys, train = True)\n",
    "n = 500_000\n",
    "train_data.data = train_data.data.sample(n)\n",
    "train_data.scale()\n",
    "\n",
    "train_loader = DataLoader(train_data, shuffle = True, batch_size = 2048)\n",
    "\n",
    "# valid_data_path = \"/share/rcifdata/jbarr/UKAEAGroupProject/data/valid_data_clipped.pkl\"\n",
    "# valid_data = AutoEncoderDataset(valid_data_path, columns = train_keys, train = True)\n",
    "# # valid_data.data = valid_data.data.sample(100_000)\n",
    "# valid_data.scale()\n",
    "\n",
    "# valid_loader = DataLoader(valid_data, shuffle = True, batch_size = 2048)"
   ]
  },
  {
   "cell_type": "code",
   "execution_count": 5,
   "id": "e1005e66",
   "metadata": {},
   "outputs": [
    {
     "data": {
      "text/html": [
       "<div>\n",
       "<style scoped>\n",
       "    .dataframe tbody tr th:only-of-type {\n",
       "        vertical-align: middle;\n",
       "    }\n",
       "\n",
       "    .dataframe tbody tr th {\n",
       "        vertical-align: top;\n",
       "    }\n",
       "\n",
       "    .dataframe thead th {\n",
       "        text-align: right;\n",
       "    }\n",
       "</style>\n",
       "<table border=\"1\" class=\"dataframe\">\n",
       "  <thead>\n",
       "    <tr style=\"text-align: right;\">\n",
       "      <th></th>\n",
       "      <th>ane</th>\n",
       "      <th>ate</th>\n",
       "      <th>autor</th>\n",
       "      <th>machtor</th>\n",
       "      <th>x</th>\n",
       "      <th>zeff</th>\n",
       "      <th>gammae</th>\n",
       "      <th>q</th>\n",
       "      <th>smag</th>\n",
       "      <th>alpha</th>\n",
       "      <th>ani1</th>\n",
       "      <th>ati0</th>\n",
       "      <th>normni1</th>\n",
       "      <th>ti_te0</th>\n",
       "      <th>lognustar</th>\n",
       "    </tr>\n",
       "  </thead>\n",
       "  <tbody>\n",
       "    <tr>\n",
       "      <th>count</th>\n",
       "      <td>6.662000e+03</td>\n",
       "      <td>6.662000e+03</td>\n",
       "      <td>6.662000e+03</td>\n",
       "      <td>6.662000e+03</td>\n",
       "      <td>6.662000e+03</td>\n",
       "      <td>6.662000e+03</td>\n",
       "      <td>6.662000e+03</td>\n",
       "      <td>6.662000e+03</td>\n",
       "      <td>6.662000e+03</td>\n",
       "      <td>6.662000e+03</td>\n",
       "      <td>6.662000e+03</td>\n",
       "      <td>6.662000e+03</td>\n",
       "      <td>6.662000e+03</td>\n",
       "      <td>6.662000e+03</td>\n",
       "      <td>6.662000e+03</td>\n",
       "    </tr>\n",
       "    <tr>\n",
       "      <th>mean</th>\n",
       "      <td>7.514462e-17</td>\n",
       "      <td>-7.833805e-17</td>\n",
       "      <td>6.326038e-17</td>\n",
       "      <td>2.558746e-16</td>\n",
       "      <td>-2.308604e-16</td>\n",
       "      <td>1.134554e-16</td>\n",
       "      <td>5.994404e-17</td>\n",
       "      <td>-1.391528e-18</td>\n",
       "      <td>7.682570e-18</td>\n",
       "      <td>-5.020335e-17</td>\n",
       "      <td>7.890883e-18</td>\n",
       "      <td>2.955748e-17</td>\n",
       "      <td>-2.061462e-17</td>\n",
       "      <td>-2.289939e-16</td>\n",
       "      <td>-5.532784e-18</td>\n",
       "    </tr>\n",
       "    <tr>\n",
       "      <th>std</th>\n",
       "      <td>1.000075e+00</td>\n",
       "      <td>1.000075e+00</td>\n",
       "      <td>1.000075e+00</td>\n",
       "      <td>1.000075e+00</td>\n",
       "      <td>1.000075e+00</td>\n",
       "      <td>1.000075e+00</td>\n",
       "      <td>1.000075e+00</td>\n",
       "      <td>1.000075e+00</td>\n",
       "      <td>1.000075e+00</td>\n",
       "      <td>1.000075e+00</td>\n",
       "      <td>1.000075e+00</td>\n",
       "      <td>1.000075e+00</td>\n",
       "      <td>1.000075e+00</td>\n",
       "      <td>1.000075e+00</td>\n",
       "      <td>1.000075e+00</td>\n",
       "    </tr>\n",
       "    <tr>\n",
       "      <th>min</th>\n",
       "      <td>-8.246319e+00</td>\n",
       "      <td>-4.834005e+00</td>\n",
       "      <td>-1.683633e+01</td>\n",
       "      <td>-2.003776e+00</td>\n",
       "      <td>-1.405803e+00</td>\n",
       "      <td>-1.289087e+00</td>\n",
       "      <td>-1.600047e+01</td>\n",
       "      <td>-1.177809e+00</td>\n",
       "      <td>-2.048813e+00</td>\n",
       "      <td>-1.339634e+00</td>\n",
       "      <td>-1.456247e+01</td>\n",
       "      <td>-6.922448e+00</td>\n",
       "      <td>-1.740265e+00</td>\n",
       "      <td>-3.086787e+00</td>\n",
       "      <td>-2.614868e+00</td>\n",
       "    </tr>\n",
       "    <tr>\n",
       "      <th>25%</th>\n",
       "      <td>-3.998261e-01</td>\n",
       "      <td>-5.652019e-01</td>\n",
       "      <td>-2.866524e-01</td>\n",
       "      <td>-5.289648e-01</td>\n",
       "      <td>-9.503429e-01</td>\n",
       "      <td>-7.924778e-01</td>\n",
       "      <td>5.362704e-02</td>\n",
       "      <td>-7.297155e-01</td>\n",
       "      <td>-6.452027e-01</td>\n",
       "      <td>-4.664775e-01</td>\n",
       "      <td>-3.376382e-01</td>\n",
       "      <td>-5.703632e-01</td>\n",
       "      <td>-2.591979e-01</td>\n",
       "      <td>-9.937517e-02</td>\n",
       "      <td>-7.325699e-01</td>\n",
       "    </tr>\n",
       "    <tr>\n",
       "      <th>50%</th>\n",
       "      <td>-1.987239e-01</td>\n",
       "      <td>-2.718186e-01</td>\n",
       "      <td>-2.866524e-01</td>\n",
       "      <td>-5.289648e-01</td>\n",
       "      <td>-1.469086e-01</td>\n",
       "      <td>-1.459247e-01</td>\n",
       "      <td>5.362704e-02</td>\n",
       "      <td>-2.951385e-01</td>\n",
       "      <td>-3.984473e-01</td>\n",
       "      <td>-3.317653e-01</td>\n",
       "      <td>-1.895628e-01</td>\n",
       "      <td>-2.535986e-01</td>\n",
       "      <td>-2.113275e-01</td>\n",
       "      <td>-9.937517e-02</td>\n",
       "      <td>-1.380538e-01</td>\n",
       "    </tr>\n",
       "    <tr>\n",
       "      <th>75%</th>\n",
       "      <td>9.249870e-02</td>\n",
       "      <td>1.904012e-01</td>\n",
       "      <td>-3.572610e-02</td>\n",
       "      <td>1.382456e-01</td>\n",
       "      <td>9.423925e-01</td>\n",
       "      <td>4.942120e-01</td>\n",
       "      <td>5.362704e-02</td>\n",
       "      <td>4.270559e-01</td>\n",
       "      <td>2.751255e-01</td>\n",
       "      <td>6.800283e-02</td>\n",
       "      <td>3.533291e-02</td>\n",
       "      <td>2.865737e-01</td>\n",
       "      <td>-1.009471e-01</td>\n",
       "      <td>-9.937517e-02</td>\n",
       "      <td>5.875904e-01</td>\n",
       "    </tr>\n",
       "    <tr>\n",
       "      <th>max</th>\n",
       "      <td>1.209957e+01</td>\n",
       "      <td>9.578633e+00</td>\n",
       "      <td>1.764753e+01</td>\n",
       "      <td>5.252982e+00</td>\n",
       "      <td>1.657479e+00</td>\n",
       "      <td>1.493632e+01</td>\n",
       "      <td>1.275081e+01</td>\n",
       "      <td>9.284174e+00</td>\n",
       "      <td>6.405865e+00</td>\n",
       "      <td>1.334339e+01</td>\n",
       "      <td>1.356769e+01</td>\n",
       "      <td>9.439807e+00</td>\n",
       "      <td>1.732922e+01</td>\n",
       "      <td>2.001491e+01</td>\n",
       "      <td>5.683631e+00</td>\n",
       "    </tr>\n",
       "  </tbody>\n",
       "</table>\n",
       "</div>"
      ],
      "text/plain": [
       "                ane           ate         autor       machtor             x  \\\n",
       "count  6.662000e+03  6.662000e+03  6.662000e+03  6.662000e+03  6.662000e+03   \n",
       "mean   7.514462e-17 -7.833805e-17  6.326038e-17  2.558746e-16 -2.308604e-16   \n",
       "std    1.000075e+00  1.000075e+00  1.000075e+00  1.000075e+00  1.000075e+00   \n",
       "min   -8.246319e+00 -4.834005e+00 -1.683633e+01 -2.003776e+00 -1.405803e+00   \n",
       "25%   -3.998261e-01 -5.652019e-01 -2.866524e-01 -5.289648e-01 -9.503429e-01   \n",
       "50%   -1.987239e-01 -2.718186e-01 -2.866524e-01 -5.289648e-01 -1.469086e-01   \n",
       "75%    9.249870e-02  1.904012e-01 -3.572610e-02  1.382456e-01  9.423925e-01   \n",
       "max    1.209957e+01  9.578633e+00  1.764753e+01  5.252982e+00  1.657479e+00   \n",
       "\n",
       "               zeff        gammae             q          smag         alpha  \\\n",
       "count  6.662000e+03  6.662000e+03  6.662000e+03  6.662000e+03  6.662000e+03   \n",
       "mean   1.134554e-16  5.994404e-17 -1.391528e-18  7.682570e-18 -5.020335e-17   \n",
       "std    1.000075e+00  1.000075e+00  1.000075e+00  1.000075e+00  1.000075e+00   \n",
       "min   -1.289087e+00 -1.600047e+01 -1.177809e+00 -2.048813e+00 -1.339634e+00   \n",
       "25%   -7.924778e-01  5.362704e-02 -7.297155e-01 -6.452027e-01 -4.664775e-01   \n",
       "50%   -1.459247e-01  5.362704e-02 -2.951385e-01 -3.984473e-01 -3.317653e-01   \n",
       "75%    4.942120e-01  5.362704e-02  4.270559e-01  2.751255e-01  6.800283e-02   \n",
       "max    1.493632e+01  1.275081e+01  9.284174e+00  6.405865e+00  1.334339e+01   \n",
       "\n",
       "               ani1          ati0       normni1        ti_te0     lognustar  \n",
       "count  6.662000e+03  6.662000e+03  6.662000e+03  6.662000e+03  6.662000e+03  \n",
       "mean   7.890883e-18  2.955748e-17 -2.061462e-17 -2.289939e-16 -5.532784e-18  \n",
       "std    1.000075e+00  1.000075e+00  1.000075e+00  1.000075e+00  1.000075e+00  \n",
       "min   -1.456247e+01 -6.922448e+00 -1.740265e+00 -3.086787e+00 -2.614868e+00  \n",
       "25%   -3.376382e-01 -5.703632e-01 -2.591979e-01 -9.937517e-02 -7.325699e-01  \n",
       "50%   -1.895628e-01 -2.535986e-01 -2.113275e-01 -9.937517e-02 -1.380538e-01  \n",
       "75%    3.533291e-02  2.865737e-01 -1.009471e-01 -9.937517e-02  5.875904e-01  \n",
       "max    1.356769e+01  9.439807e+00  1.732922e+01  2.001491e+01  5.683631e+00  "
      ]
     },
     "execution_count": 5,
     "metadata": {},
     "output_type": "execute_result"
    }
   ],
   "source": [
    "test = \"/share/rcifdata/jbarr/UKAEAGroupProject/data/test_data_clipped.pkl\"\n",
    "\n",
    "df_test = pd.read_pickle(test)\n",
    "df_test = df_test.sample(10_000)\n",
    "target = df_test['target']\n",
    "df_test_good = df_test[df_test.target == 1]\n",
    "df_test_good = df_test_good[train_keys]\n",
    "\n",
    "df_test_good,_ = ScaleData(df_test_good)\n",
    "\n",
    "df_test_bad = df_test[df_test.target == 0]\n",
    "df_test_bad = df_test_bad[train_keys]\n",
    "df_test_bad,_ = ScaleData(df_test_bad)\n",
    "\n",
    "df_test_good.describe()"
   ]
  },
  {
   "cell_type": "code",
   "execution_count": 6,
   "id": "e2edb3b0",
   "metadata": {},
   "outputs": [],
   "source": [
    "data_good = torch.from_numpy(df_test_good.values).float()\n",
    "data_bad = torch.from_numpy(df_test_bad.values).float()\n",
    "#data_good_batch = next(iter(data_good_loader))\n",
    "# with torch.no_grad():\n",
    "#     outputs_good = encoder.forward(data_good).sample()\n",
    "#     outputs_bad = encoder.forward(data_bad).sample()\n",
    "# #    outputs_good = encoder.forward(data_good).sample().detach().numpy()\n",
    "    \n",
    "# plt.figure()\n",
    "# plt.scatter(outputs_good[:,0], outputs_good[:,1])\n",
    "# plt.scatter(outputs_bad[:,0], outputs_bad[:,1])"
   ]
  },
  {
   "cell_type": "markdown",
   "id": "8e38a4e6",
   "metadata": {},
   "source": [
    "### Alternative VAE Implemention"
   ]
  },
  {
   "cell_type": "code",
   "execution_count": 7,
   "id": "89236c6b",
   "metadata": {},
   "outputs": [],
   "source": [
    "class VariationalEncoder(nn.Module):\n",
    "    def __init__(self, latent_dims):\n",
    "        super(VariationalEncoder, self).__init__()\n",
    "        self.linear1 = nn.Linear(15, 150)\n",
    "        self.linear2 = nn.Linear(150, 75)\n",
    "        self.linear3 = nn.Linear(75, 30)\n",
    "        self.linear4 = nn.Linear(30, 15)\n",
    "        \n",
    "        self.mu = nn.Linear(15, latent_dims)\n",
    "        self.logvar = nn.Linear(15, latent_dims)\n",
    "\n",
    "        self.N = torch.distributions.Normal(0, 1)\n",
    "        self.N.loc = self.N.loc.cuda() # hack to get sampling on the GPU\n",
    "        self.N.scale = self.N.scale.cuda()\n",
    "        self.kl = 0\n",
    "\n",
    "    def forward(self, x):\n",
    "        x = x.float()\n",
    "        x = F.relu(self.linear1(x))\n",
    "        x = F.relu(self.linear2(x))\n",
    "        x = F.relu(self.linear3(x))\n",
    "        x = F.relu(self.linear4(x))\n",
    "        \n",
    "        mu =  self.mu(x)\n",
    "        sigma = torch.exp(self.logvar(x))\n",
    "        z = mu + sigma*self.N.sample(mu.shape)\n",
    "        self.kl = (sigma**2 + mu**2 - torch.log(sigma) - 1/2).sum()\n",
    "        return z"
   ]
  },
  {
   "cell_type": "code",
   "execution_count": 8,
   "id": "3e80c476",
   "metadata": {},
   "outputs": [],
   "source": [
    "class VariationalDecoder(nn.Module):\n",
    "    def __init__(self, latent_dims):\n",
    "        super(Decoder, self).__init__()\n",
    "        self.linear1 = nn.Linear(latent_dims, 15)\n",
    "        self.linear2 = nn.Linear(15, 30)\n",
    "        self.linear3 = nn.Linear(30, 75)\n",
    "        self.linear4 = nn.Linear(75, 150)\n",
    "        self.linear5 = nn.Linear(150,15)\n",
    "\n",
    "    def forward(self, z):\n",
    "        z = F.relu(self.linear1(z))\n",
    "        z = F.relu(self.linear2(z))\n",
    "        z = F.relu(self.linear3(z))\n",
    "        z = F.relu(self.linear4(z))\n",
    "        z = self.linear5(z)\n",
    "        return z"
   ]
  },
  {
   "cell_type": "code",
   "execution_count": 9,
   "id": "68ede2d8",
   "metadata": {},
   "outputs": [],
   "source": [
    "class VariationalAutoencoder(nn.Module):\n",
    "    def __init__(self, latent_dims):\n",
    "        super(VariationalAutoencoder, self).__init__()\n",
    "        self.encoder = VariationalEncoder(latent_dims)\n",
    "        self.decoder = Decoder(latent_dims)\n",
    "\n",
    "    def forward(self, x):\n",
    "        z = self.encoder(x)\n",
    "        return self.decoder(z)"
   ]
  },
  {
   "cell_type": "code",
   "execution_count": 10,
   "id": "1d9cd42e",
   "metadata": {},
   "outputs": [],
   "source": [
    "def train(autoencoder, data, epochs=50):\n",
    "    opt = torch.optim.Adam(autoencoder.parameters(), lr =lr)\n",
    "    \n",
    "    for epoch in range(epochs):\n",
    "        running_loss = 0\n",
    "        for i, x in enumerate(tqdm(data, desc=f'Epoch {epoch}')):\n",
    "            x = x.to(device) # GPU\n",
    "            opt.zero_grad()\n",
    "            x_hat = autoencoder(x)\n",
    "            loss = ((x - x_hat)**2).sum() + autoencoder.encoder.kl\n",
    "            loss.backward()\n",
    "            running_loss += loss.item()\n",
    "            opt.step()\n",
    "        print(f'Loss: {np.mean(running_loss/n):.3f}')\n",
    "    return autoencoder"
   ]
  },
  {
   "cell_type": "code",
   "execution_count": 11,
   "id": "8dc1a645",
   "metadata": {
    "scrolled": true
   },
   "outputs": [
    {
     "data": {
      "application/vnd.jupyter.widget-view+json": {
       "model_id": "f73e892c8d67452d9ddd987c397bab8e",
       "version_major": 2,
       "version_minor": 0
      },
      "text/plain": [
       "Epoch 0:   0%|          | 0/245 [00:00<?, ?it/s]"
      ]
     },
     "metadata": {},
     "output_type": "display_data"
    },
    {
     "name": "stdout",
     "output_type": "stream",
     "text": [
      "Loss: 15.628\n"
     ]
    },
    {
     "data": {
      "application/vnd.jupyter.widget-view+json": {
       "model_id": "10cd235d57724b3c8a3fb531ca3431c3",
       "version_major": 2,
       "version_minor": 0
      },
      "text/plain": [
       "Epoch 1:   0%|          | 0/245 [00:00<?, ?it/s]"
      ]
     },
     "metadata": {},
     "output_type": "display_data"
    },
    {
     "name": "stdout",
     "output_type": "stream",
     "text": [
      "Loss: 13.701\n"
     ]
    },
    {
     "data": {
      "application/vnd.jupyter.widget-view+json": {
       "model_id": "18d111dcc0124356b61e1369659dc134",
       "version_major": 2,
       "version_minor": 0
      },
      "text/plain": [
       "Epoch 2:   0%|          | 0/245 [00:00<?, ?it/s]"
      ]
     },
     "metadata": {},
     "output_type": "display_data"
    },
    {
     "name": "stdout",
     "output_type": "stream",
     "text": [
      "Loss: 13.394\n"
     ]
    },
    {
     "data": {
      "application/vnd.jupyter.widget-view+json": {
       "model_id": "7d22ec35f84a4240a5c274a7fcc71883",
       "version_major": 2,
       "version_minor": 0
      },
      "text/plain": [
       "Epoch 3:   0%|          | 0/245 [00:00<?, ?it/s]"
      ]
     },
     "metadata": {},
     "output_type": "display_data"
    },
    {
     "name": "stdout",
     "output_type": "stream",
     "text": [
      "Loss: 13.000\n"
     ]
    },
    {
     "data": {
      "application/vnd.jupyter.widget-view+json": {
       "model_id": "e132c2a1799a4db1aa4a4af511881ff2",
       "version_major": 2,
       "version_minor": 0
      },
      "text/plain": [
       "Epoch 4:   0%|          | 0/245 [00:00<?, ?it/s]"
      ]
     },
     "metadata": {},
     "output_type": "display_data"
    },
    {
     "name": "stdout",
     "output_type": "stream",
     "text": [
      "Loss: 12.669\n"
     ]
    },
    {
     "data": {
      "application/vnd.jupyter.widget-view+json": {
       "model_id": "b00bf8c82f1a47f38a0cfd83d0391a46",
       "version_major": 2,
       "version_minor": 0
      },
      "text/plain": [
       "Epoch 5:   0%|          | 0/245 [00:00<?, ?it/s]"
      ]
     },
     "metadata": {},
     "output_type": "display_data"
    },
    {
     "name": "stdout",
     "output_type": "stream",
     "text": [
      "Loss: 12.528\n"
     ]
    },
    {
     "data": {
      "application/vnd.jupyter.widget-view+json": {
       "model_id": "a1cffdef5e6a4fc3a5badf9f63dc0afc",
       "version_major": 2,
       "version_minor": 0
      },
      "text/plain": [
       "Epoch 6:   0%|          | 0/245 [00:00<?, ?it/s]"
      ]
     },
     "metadata": {},
     "output_type": "display_data"
    },
    {
     "name": "stdout",
     "output_type": "stream",
     "text": [
      "Loss: 12.071\n"
     ]
    },
    {
     "data": {
      "application/vnd.jupyter.widget-view+json": {
       "model_id": "ae96ee1e46634955b7c783f1ef32798d",
       "version_major": 2,
       "version_minor": 0
      },
      "text/plain": [
       "Epoch 7:   0%|          | 0/245 [00:00<?, ?it/s]"
      ]
     },
     "metadata": {},
     "output_type": "display_data"
    },
    {
     "name": "stdout",
     "output_type": "stream",
     "text": [
      "Loss: 11.667\n"
     ]
    },
    {
     "data": {
      "application/vnd.jupyter.widget-view+json": {
       "model_id": "ef96f6c6e29e40bd8ae6f7e9be3ce991",
       "version_major": 2,
       "version_minor": 0
      },
      "text/plain": [
       "Epoch 8:   0%|          | 0/245 [00:00<?, ?it/s]"
      ]
     },
     "metadata": {},
     "output_type": "display_data"
    },
    {
     "name": "stdout",
     "output_type": "stream",
     "text": [
      "Loss: 11.254\n"
     ]
    },
    {
     "data": {
      "application/vnd.jupyter.widget-view+json": {
       "model_id": "b47a6bf0f38e4414a7e415d2310f283e",
       "version_major": 2,
       "version_minor": 0
      },
      "text/plain": [
       "Epoch 9:   0%|          | 0/245 [00:00<?, ?it/s]"
      ]
     },
     "metadata": {},
     "output_type": "display_data"
    },
    {
     "name": "stdout",
     "output_type": "stream",
     "text": [
      "Loss: 10.973\n"
     ]
    },
    {
     "data": {
      "application/vnd.jupyter.widget-view+json": {
       "model_id": "f78bf3b2a0d543b6bb6b3e5aad3121fd",
       "version_major": 2,
       "version_minor": 0
      },
      "text/plain": [
       "Epoch 10:   0%|          | 0/245 [00:00<?, ?it/s]"
      ]
     },
     "metadata": {},
     "output_type": "display_data"
    },
    {
     "name": "stdout",
     "output_type": "stream",
     "text": [
      "Loss: 10.846\n"
     ]
    },
    {
     "data": {
      "application/vnd.jupyter.widget-view+json": {
       "model_id": "752bfa1fac894a348dfebd018c4dde1e",
       "version_major": 2,
       "version_minor": 0
      },
      "text/plain": [
       "Epoch 11:   0%|          | 0/245 [00:00<?, ?it/s]"
      ]
     },
     "metadata": {},
     "output_type": "display_data"
    },
    {
     "name": "stdout",
     "output_type": "stream",
     "text": [
      "Loss: 10.510\n"
     ]
    },
    {
     "data": {
      "application/vnd.jupyter.widget-view+json": {
       "model_id": "725dcc720b804725aa48ee6f967a1857",
       "version_major": 2,
       "version_minor": 0
      },
      "text/plain": [
       "Epoch 12:   0%|          | 0/245 [00:00<?, ?it/s]"
      ]
     },
     "metadata": {},
     "output_type": "display_data"
    },
    {
     "name": "stdout",
     "output_type": "stream",
     "text": [
      "Loss: 10.219\n"
     ]
    },
    {
     "data": {
      "application/vnd.jupyter.widget-view+json": {
       "model_id": "c2d67722d5cc4fdf8ac818319d2b124f",
       "version_major": 2,
       "version_minor": 0
      },
      "text/plain": [
       "Epoch 13:   0%|          | 0/245 [00:00<?, ?it/s]"
      ]
     },
     "metadata": {},
     "output_type": "display_data"
    },
    {
     "name": "stdout",
     "output_type": "stream",
     "text": [
      "Loss: 10.161\n"
     ]
    },
    {
     "data": {
      "application/vnd.jupyter.widget-view+json": {
       "model_id": "1bd10bb2061d46e7b42aa609fb8d2d95",
       "version_major": 2,
       "version_minor": 0
      },
      "text/plain": [
       "Epoch 14:   0%|          | 0/245 [00:00<?, ?it/s]"
      ]
     },
     "metadata": {},
     "output_type": "display_data"
    },
    {
     "name": "stdout",
     "output_type": "stream",
     "text": [
      "Loss: 10.275\n"
     ]
    },
    {
     "data": {
      "application/vnd.jupyter.widget-view+json": {
       "model_id": "d59fa2dd117e41f087764fbff876b83f",
       "version_major": 2,
       "version_minor": 0
      },
      "text/plain": [
       "Epoch 15:   0%|          | 0/245 [00:00<?, ?it/s]"
      ]
     },
     "metadata": {},
     "output_type": "display_data"
    },
    {
     "name": "stdout",
     "output_type": "stream",
     "text": [
      "Loss: 10.027\n"
     ]
    },
    {
     "data": {
      "application/vnd.jupyter.widget-view+json": {
       "model_id": "a5bf29f778c14a00be9b626890263c71",
       "version_major": 2,
       "version_minor": 0
      },
      "text/plain": [
       "Epoch 16:   0%|          | 0/245 [00:00<?, ?it/s]"
      ]
     },
     "metadata": {},
     "output_type": "display_data"
    },
    {
     "name": "stdout",
     "output_type": "stream",
     "text": [
      "Loss: 9.787\n"
     ]
    },
    {
     "data": {
      "application/vnd.jupyter.widget-view+json": {
       "model_id": "9edf2f80429049bea1eb2291304c3c11",
       "version_major": 2,
       "version_minor": 0
      },
      "text/plain": [
       "Epoch 17:   0%|          | 0/245 [00:00<?, ?it/s]"
      ]
     },
     "metadata": {},
     "output_type": "display_data"
    },
    {
     "name": "stdout",
     "output_type": "stream",
     "text": [
      "Loss: 9.598\n"
     ]
    },
    {
     "data": {
      "application/vnd.jupyter.widget-view+json": {
       "model_id": "c62f499e2eaf45499a7df80d29ef7d8c",
       "version_major": 2,
       "version_minor": 0
      },
      "text/plain": [
       "Epoch 18:   0%|          | 0/245 [00:00<?, ?it/s]"
      ]
     },
     "metadata": {},
     "output_type": "display_data"
    },
    {
     "name": "stdout",
     "output_type": "stream",
     "text": [
      "Loss: 9.575\n"
     ]
    },
    {
     "data": {
      "application/vnd.jupyter.widget-view+json": {
       "model_id": "d608922a12cf47e3a067442f76e1699d",
       "version_major": 2,
       "version_minor": 0
      },
      "text/plain": [
       "Epoch 19:   0%|          | 0/245 [00:00<?, ?it/s]"
      ]
     },
     "metadata": {},
     "output_type": "display_data"
    },
    {
     "name": "stdout",
     "output_type": "stream",
     "text": [
      "Loss: 9.455\n"
     ]
    },
    {
     "data": {
      "application/vnd.jupyter.widget-view+json": {
       "model_id": "833dce93f2d247c1a964347c5fa80e28",
       "version_major": 2,
       "version_minor": 0
      },
      "text/plain": [
       "Epoch 20:   0%|          | 0/245 [00:00<?, ?it/s]"
      ]
     },
     "metadata": {},
     "output_type": "display_data"
    },
    {
     "name": "stdout",
     "output_type": "stream",
     "text": [
      "Loss: 9.397\n"
     ]
    },
    {
     "data": {
      "application/vnd.jupyter.widget-view+json": {
       "model_id": "30a1391776f04a9aa048ab90f0b455d7",
       "version_major": 2,
       "version_minor": 0
      },
      "text/plain": [
       "Epoch 21:   0%|          | 0/245 [00:00<?, ?it/s]"
      ]
     },
     "metadata": {},
     "output_type": "display_data"
    },
    {
     "name": "stdout",
     "output_type": "stream",
     "text": [
      "Loss: 9.181\n"
     ]
    },
    {
     "data": {
      "application/vnd.jupyter.widget-view+json": {
       "model_id": "3742f0aa408b4514a3b5b4999781d971",
       "version_major": 2,
       "version_minor": 0
      },
      "text/plain": [
       "Epoch 22:   0%|          | 0/245 [00:00<?, ?it/s]"
      ]
     },
     "metadata": {},
     "output_type": "display_data"
    },
    {
     "name": "stdout",
     "output_type": "stream",
     "text": [
      "Loss: 9.017\n"
     ]
    },
    {
     "data": {
      "application/vnd.jupyter.widget-view+json": {
       "model_id": "87c010faaa2c48efa25e7fb802cb8fa4",
       "version_major": 2,
       "version_minor": 0
      },
      "text/plain": [
       "Epoch 23:   0%|          | 0/245 [00:00<?, ?it/s]"
      ]
     },
     "metadata": {},
     "output_type": "display_data"
    },
    {
     "name": "stdout",
     "output_type": "stream",
     "text": [
      "Loss: 8.930\n"
     ]
    },
    {
     "data": {
      "application/vnd.jupyter.widget-view+json": {
       "model_id": "98220fec60114ce0b15c7732420ebcab",
       "version_major": 2,
       "version_minor": 0
      },
      "text/plain": [
       "Epoch 24:   0%|          | 0/245 [00:00<?, ?it/s]"
      ]
     },
     "metadata": {},
     "output_type": "display_data"
    },
    {
     "name": "stdout",
     "output_type": "stream",
     "text": [
      "Loss: 8.887\n"
     ]
    },
    {
     "data": {
      "application/vnd.jupyter.widget-view+json": {
       "model_id": "99e297fd956e4222a9574345c220e8c3",
       "version_major": 2,
       "version_minor": 0
      },
      "text/plain": [
       "Epoch 25:   0%|          | 0/245 [00:00<?, ?it/s]"
      ]
     },
     "metadata": {},
     "output_type": "display_data"
    },
    {
     "name": "stdout",
     "output_type": "stream",
     "text": [
      "Loss: 8.758\n"
     ]
    },
    {
     "data": {
      "application/vnd.jupyter.widget-view+json": {
       "model_id": "2c3ba0d9dce546efa51075391880ab32",
       "version_major": 2,
       "version_minor": 0
      },
      "text/plain": [
       "Epoch 26:   0%|          | 0/245 [00:00<?, ?it/s]"
      ]
     },
     "metadata": {},
     "output_type": "display_data"
    },
    {
     "name": "stdout",
     "output_type": "stream",
     "text": [
      "Loss: 8.633\n"
     ]
    },
    {
     "data": {
      "application/vnd.jupyter.widget-view+json": {
       "model_id": "fe84d0e12233473da395dfe90b1b31aa",
       "version_major": 2,
       "version_minor": 0
      },
      "text/plain": [
       "Epoch 27:   0%|          | 0/245 [00:00<?, ?it/s]"
      ]
     },
     "metadata": {},
     "output_type": "display_data"
    },
    {
     "name": "stdout",
     "output_type": "stream",
     "text": [
      "Loss: 8.528\n"
     ]
    },
    {
     "data": {
      "application/vnd.jupyter.widget-view+json": {
       "model_id": "ba96df6e146541c982ad8bef08492bac",
       "version_major": 2,
       "version_minor": 0
      },
      "text/plain": [
       "Epoch 28:   0%|          | 0/245 [00:00<?, ?it/s]"
      ]
     },
     "metadata": {},
     "output_type": "display_data"
    },
    {
     "name": "stdout",
     "output_type": "stream",
     "text": [
      "Loss: 8.461\n"
     ]
    },
    {
     "data": {
      "application/vnd.jupyter.widget-view+json": {
       "model_id": "4a9f5983d2d34e5b97434153935492c8",
       "version_major": 2,
       "version_minor": 0
      },
      "text/plain": [
       "Epoch 29:   0%|          | 0/245 [00:00<?, ?it/s]"
      ]
     },
     "metadata": {},
     "output_type": "display_data"
    },
    {
     "name": "stdout",
     "output_type": "stream",
     "text": [
      "Loss: 8.377\n"
     ]
    },
    {
     "data": {
      "application/vnd.jupyter.widget-view+json": {
       "model_id": "875669b3a76349f483258dd12ee067d0",
       "version_major": 2,
       "version_minor": 0
      },
      "text/plain": [
       "Epoch 30:   0%|          | 0/245 [00:00<?, ?it/s]"
      ]
     },
     "metadata": {},
     "output_type": "display_data"
    },
    {
     "name": "stdout",
     "output_type": "stream",
     "text": [
      "Loss: 8.405\n"
     ]
    },
    {
     "data": {
      "application/vnd.jupyter.widget-view+json": {
       "model_id": "822d9b3e1cde4804a446fb38674bfbfa",
       "version_major": 2,
       "version_minor": 0
      },
      "text/plain": [
       "Epoch 31:   0%|          | 0/245 [00:00<?, ?it/s]"
      ]
     },
     "metadata": {},
     "output_type": "display_data"
    },
    {
     "name": "stdout",
     "output_type": "stream",
     "text": [
      "Loss: 8.420\n"
     ]
    },
    {
     "data": {
      "application/vnd.jupyter.widget-view+json": {
       "model_id": "e150d1e7b0404becb9e21678b072de20",
       "version_major": 2,
       "version_minor": 0
      },
      "text/plain": [
       "Epoch 32:   0%|          | 0/245 [00:00<?, ?it/s]"
      ]
     },
     "metadata": {},
     "output_type": "display_data"
    },
    {
     "name": "stdout",
     "output_type": "stream",
     "text": [
      "Loss: 8.443\n"
     ]
    },
    {
     "data": {
      "application/vnd.jupyter.widget-view+json": {
       "model_id": "c3f0a9d17adb47858735b695aa70efa2",
       "version_major": 2,
       "version_minor": 0
      },
      "text/plain": [
       "Epoch 33:   0%|          | 0/245 [00:00<?, ?it/s]"
      ]
     },
     "metadata": {},
     "output_type": "display_data"
    },
    {
     "name": "stdout",
     "output_type": "stream",
     "text": [
      "Loss: 8.416\n"
     ]
    },
    {
     "data": {
      "application/vnd.jupyter.widget-view+json": {
       "model_id": "ee7bcff953dd48f3af57ef557f753f3a",
       "version_major": 2,
       "version_minor": 0
      },
      "text/plain": [
       "Epoch 34:   0%|          | 0/245 [00:00<?, ?it/s]"
      ]
     },
     "metadata": {},
     "output_type": "display_data"
    },
    {
     "name": "stdout",
     "output_type": "stream",
     "text": [
      "Loss: 8.354\n"
     ]
    },
    {
     "data": {
      "application/vnd.jupyter.widget-view+json": {
       "model_id": "3379650dfc704b74979dad623a5b1238",
       "version_major": 2,
       "version_minor": 0
      },
      "text/plain": [
       "Epoch 35:   0%|          | 0/245 [00:00<?, ?it/s]"
      ]
     },
     "metadata": {},
     "output_type": "display_data"
    },
    {
     "name": "stdout",
     "output_type": "stream",
     "text": [
      "Loss: 8.368\n"
     ]
    },
    {
     "data": {
      "application/vnd.jupyter.widget-view+json": {
       "model_id": "d19e469a1a944c16b6c3e3d4a486bd8f",
       "version_major": 2,
       "version_minor": 0
      },
      "text/plain": [
       "Epoch 36:   0%|          | 0/245 [00:00<?, ?it/s]"
      ]
     },
     "metadata": {},
     "output_type": "display_data"
    },
    {
     "name": "stdout",
     "output_type": "stream",
     "text": [
      "Loss: 8.321\n"
     ]
    },
    {
     "data": {
      "application/vnd.jupyter.widget-view+json": {
       "model_id": "21f200ffbc8842378f902b60194bce0a",
       "version_major": 2,
       "version_minor": 0
      },
      "text/plain": [
       "Epoch 37:   0%|          | 0/245 [00:00<?, ?it/s]"
      ]
     },
     "metadata": {},
     "output_type": "display_data"
    },
    {
     "name": "stdout",
     "output_type": "stream",
     "text": [
      "Loss: 8.331\n"
     ]
    },
    {
     "data": {
      "application/vnd.jupyter.widget-view+json": {
       "model_id": "5e7e7fef8d284fc0b17248172c9924ee",
       "version_major": 2,
       "version_minor": 0
      },
      "text/plain": [
       "Epoch 38:   0%|          | 0/245 [00:00<?, ?it/s]"
      ]
     },
     "metadata": {},
     "output_type": "display_data"
    },
    {
     "name": "stdout",
     "output_type": "stream",
     "text": [
      "Loss: 8.262\n"
     ]
    },
    {
     "data": {
      "application/vnd.jupyter.widget-view+json": {
       "model_id": "1fb94a4c71e84c71bfde51fb4be88c13",
       "version_major": 2,
       "version_minor": 0
      },
      "text/plain": [
       "Epoch 39:   0%|          | 0/245 [00:00<?, ?it/s]"
      ]
     },
     "metadata": {},
     "output_type": "display_data"
    },
    {
     "name": "stdout",
     "output_type": "stream",
     "text": [
      "Loss: 8.413\n"
     ]
    },
    {
     "data": {
      "application/vnd.jupyter.widget-view+json": {
       "model_id": "db3d97ee7588434ea9b997f6a1a2c3f3",
       "version_major": 2,
       "version_minor": 0
      },
      "text/plain": [
       "Epoch 40:   0%|          | 0/245 [00:00<?, ?it/s]"
      ]
     },
     "metadata": {},
     "output_type": "display_data"
    },
    {
     "name": "stdout",
     "output_type": "stream",
     "text": [
      "Loss: 8.569\n"
     ]
    },
    {
     "data": {
      "application/vnd.jupyter.widget-view+json": {
       "model_id": "39dd3853e3ae4fafab45a8b2da5b7a70",
       "version_major": 2,
       "version_minor": 0
      },
      "text/plain": [
       "Epoch 41:   0%|          | 0/245 [00:00<?, ?it/s]"
      ]
     },
     "metadata": {},
     "output_type": "display_data"
    },
    {
     "name": "stdout",
     "output_type": "stream",
     "text": [
      "Loss: 8.424\n"
     ]
    },
    {
     "data": {
      "application/vnd.jupyter.widget-view+json": {
       "model_id": "cb47a90a8d834ce3b4ad7783f2325b28",
       "version_major": 2,
       "version_minor": 0
      },
      "text/plain": [
       "Epoch 42:   0%|          | 0/245 [00:00<?, ?it/s]"
      ]
     },
     "metadata": {},
     "output_type": "display_data"
    },
    {
     "name": "stdout",
     "output_type": "stream",
     "text": [
      "Loss: 8.325\n"
     ]
    },
    {
     "data": {
      "application/vnd.jupyter.widget-view+json": {
       "model_id": "c7cb594e4bdf4fdd972dd7133b61c528",
       "version_major": 2,
       "version_minor": 0
      },
      "text/plain": [
       "Epoch 43:   0%|          | 0/245 [00:00<?, ?it/s]"
      ]
     },
     "metadata": {},
     "output_type": "display_data"
    },
    {
     "name": "stdout",
     "output_type": "stream",
     "text": [
      "Loss: 8.272\n"
     ]
    },
    {
     "data": {
      "application/vnd.jupyter.widget-view+json": {
       "model_id": "25093f646a66412cac5cf1b0a801dcae",
       "version_major": 2,
       "version_minor": 0
      },
      "text/plain": [
       "Epoch 44:   0%|          | 0/245 [00:00<?, ?it/s]"
      ]
     },
     "metadata": {},
     "output_type": "display_data"
    },
    {
     "name": "stdout",
     "output_type": "stream",
     "text": [
      "Loss: 8.114\n"
     ]
    },
    {
     "data": {
      "application/vnd.jupyter.widget-view+json": {
       "model_id": "be5f20eb35d140cd90ae878fd766b212",
       "version_major": 2,
       "version_minor": 0
      },
      "text/plain": [
       "Epoch 45:   0%|          | 0/245 [00:00<?, ?it/s]"
      ]
     },
     "metadata": {},
     "output_type": "display_data"
    },
    {
     "name": "stdout",
     "output_type": "stream",
     "text": [
      "Loss: 8.320\n"
     ]
    },
    {
     "data": {
      "application/vnd.jupyter.widget-view+json": {
       "model_id": "a92259cb32f444acb5f1d07d3f97fc02",
       "version_major": 2,
       "version_minor": 0
      },
      "text/plain": [
       "Epoch 46:   0%|          | 0/245 [00:00<?, ?it/s]"
      ]
     },
     "metadata": {},
     "output_type": "display_data"
    },
    {
     "name": "stdout",
     "output_type": "stream",
     "text": [
      "Loss: 8.443\n"
     ]
    },
    {
     "data": {
      "application/vnd.jupyter.widget-view+json": {
       "model_id": "1e27c33e035f4a449758a200c4500ca6",
       "version_major": 2,
       "version_minor": 0
      },
      "text/plain": [
       "Epoch 47:   0%|          | 0/245 [00:00<?, ?it/s]"
      ]
     },
     "metadata": {},
     "output_type": "display_data"
    },
    {
     "name": "stdout",
     "output_type": "stream",
     "text": [
      "Loss: 8.153\n"
     ]
    },
    {
     "data": {
      "application/vnd.jupyter.widget-view+json": {
       "model_id": "a9bd8c8e78234842bdce22aa00905106",
       "version_major": 2,
       "version_minor": 0
      },
      "text/plain": [
       "Epoch 48:   0%|          | 0/245 [00:00<?, ?it/s]"
      ]
     },
     "metadata": {},
     "output_type": "display_data"
    },
    {
     "name": "stdout",
     "output_type": "stream",
     "text": [
      "Loss: 8.087\n"
     ]
    },
    {
     "data": {
      "application/vnd.jupyter.widget-view+json": {
       "model_id": "88453131762a42968e02b982e74e7aaa",
       "version_major": 2,
       "version_minor": 0
      },
      "text/plain": [
       "Epoch 49:   0%|          | 0/245 [00:00<?, ?it/s]"
      ]
     },
     "metadata": {},
     "output_type": "display_data"
    },
    {
     "name": "stdout",
     "output_type": "stream",
     "text": [
      "Loss: 8.059\n"
     ]
    }
   ],
   "source": [
    "lr = 1e-3\n",
    "latent_dims = 3\n",
    "vae = VariationalAutoencoder(latent_dims).to(device) # GPU\n",
    "vae = train(vae, train_loader)"
   ]
  },
  {
   "cell_type": "code",
   "execution_count": 12,
   "id": "3c400179",
   "metadata": {},
   "outputs": [],
   "source": [
    "vae.cuda()\n",
    "good_data = data_good.cuda()\n",
    "AE_output2 = vae(good_data)\n",
    "\n",
    "AE_output2 = AE_output2.to('cpu')\n",
    "AE_output2 = AE_output2.detach().numpy()\n",
    "df_ae_output2 = pd.DataFrame(AE_output2, columns = train_keys)\n",
    "df_ae_output2['AE'] = 'Outputs'\n",
    "\n",
    "df_test_tmp = df_test_good\n",
    "df_test_tmp['AE'] = 'Inputs'\n",
    "\n",
    "df_compare2 = pd.concat([df_ae_output2, df_test_tmp], ignore_index=True)\n",
    "df_compare_sample2= df_compare2.sample(10_000)"
   ]
  },
  {
   "cell_type": "code",
   "execution_count": 13,
   "id": "b0e1ed3f",
   "metadata": {},
   "outputs": [
    {
     "data": {
      "image/png": "[encoded data removed]",
      "text/plain": [
       "<Figure size 432x288 with 1 Axes>"
      ]
     },
     "metadata": {
      "needs_background": "light"
     },
     "output_type": "display_data"
    },
    {
     "data": {
      "image/png": "[encoded data removed]",
      "text/plain": [
       "<Figure size 432x288 with 1 Axes>"
      ]
     },
     "metadata": {
      "needs_background": "light"
     },
     "output_type": "display_data"
    },
    {
     "data": {
      "image/png": "[encoded data removed]",
      "text/plain": [
       "<Figure size 432x288 with 1 Axes>"
      ]
     },
     "metadata": {
      "needs_background": "light"
     },
     "output_type": "display_data"
    },
    {
     "data": {
      "image/png": "[encoded data removed]",
      "text/plain": [
       "<Figure size 432x288 with 1 Axes>"
      ]
     },
     "metadata": {
      "needs_background": "light"
     },
     "output_type": "display_data"
    },
    {
     "data": {
      "image/png": "[encoded data removed]",
      "text/plain": [
       "<Figure size 432x288 with 1 Axes>"
      ]
     },
     "metadata": {
      "needs_background": "light"
     },
     "output_type": "display_data"
    },
    {
     "data": {
      "image/png": "[encoded data removed]",
      "text/plain": [
       "<Figure size 432x288 with 1 Axes>"
      ]
     },
     "metadata": {
      "needs_background": "light"
     },
     "output_type": "display_data"
    },
    {
     "data": {
      "image/png": "[encoded data removed]",
      "text/plain": [
       "<Figure size 432x288 with 1 Axes>"
      ]
     },
     "metadata": {
      "needs_background": "light"
     },
     "output_type": "display_data"
    },
    {
     "data": {
      "image/png": "[encoded data removed]",
      "text/plain": [
       "<Figure size 432x288 with 1 Axes>"
      ]
     },
     "metadata": {
      "needs_background": "light"
     },
     "output_type": "display_data"
    },
    {
     "data": {
      "image/png": "[encoded data removed]",
      "text/plain": [
       "<Figure size 432x288 with 1 Axes>"
      ]
     },
     "metadata": {
      "needs_background": "light"
     },
     "output_type": "display_data"
    },
    {
     "data": {
      "image/png": "[encoded data removed]",
      "text/plain": [
       "<Figure size 432x288 with 1 Axes>"
      ]
     },
     "metadata": {
      "needs_background": "light"
     },
     "output_type": "display_data"
    },
    {
     "data": {
      "image/png": "[encoded data removed]",
      "text/plain": [
       "<Figure size 432x288 with 1 Axes>"
      ]
     },
     "metadata": {
      "needs_background": "light"
     },
     "output_type": "display_data"
    },
    {
     "data": {
      "image/png": "[encoded data removed]",
      "text/plain": [
       "<Figure size 432x288 with 1 Axes>"
      ]
     },
     "metadata": {
      "needs_background": "light"
     },
     "output_type": "display_data"
    },
    {
     "data": {
      "image/png": "[encoded data removed]",
      "text/plain": [
       "<Figure size 432x288 with 1 Axes>"
      ]
     },
     "metadata": {
      "needs_background": "light"
     },
     "output_type": "display_data"
    },
    {
     "data": {
      "image/png": "[encoded data removed]",
      "text/plain": [
       "<Figure size 432x288 with 1 Axes>"
      ]
     },
     "metadata": {
      "needs_background": "light"
     },
     "output_type": "display_data"
    },
    {
     "data": {
      "image/png": "[encoded data removed]",
      "text/plain": [
       "<Figure size 432x288 with 1 Axes>"
      ]
     },
     "metadata": {
      "needs_background": "light"
     },
     "output_type": "display_data"
    }
   ],
   "source": [
    "for i in train_keys:\n",
    "    plt.figure()\n",
    "    x_min = df_compare_sample2[i].quantile(0.1)\n",
    "    x_max = df_compare_sample2[i].quantile(0.9)\n",
    "    sns.histplot(data = df_compare_sample2, x = i, hue = \"AE\", binrange = (x_min, x_max), bins = 100);\n",
    "    plt.xlabel(i)"
   ]
  },
  {
   "cell_type": "code",
   "execution_count": null,
   "id": "7ed50bc2",
   "metadata": {},
   "outputs": [],
   "source": []
  }
 ],
 "metadata": {
  "kernelspec": {
   "display_name": "Python 3 (ipykernel)",
   "language": "python",
   "name": "python3"
  },
  "language_info": {
   "codemirror_mode": {
    "name": "ipython",
    "version": 3
   },
   "file_extension": ".py",
   "mimetype": "text/x-python",
   "name": "python",
   "nbconvert_exporter": "python",
   "pygments_lexer": "ipython3",
   "version": "3.9.0"
  }
 },
 "nbformat": 4,
 "nbformat_minor": 5
}
