{
 "cells": [
  {
   "cell_type": "code",
   "execution_count": 1,
   "id": "eb26f467",
   "metadata": {},
   "outputs": [],
   "source": [
    "import pandas as pd\n",
    "import numpy as np\n",
    "import torch.nn as nn\n",
    "import torch.distributions as dist\n",
    "import torch\n",
    "import copy\n",
    "import matplotlib.pyplot as plt\n",
    "from pytorch_lightning import LightningModule, Trainer\n",
    "from pytorch_lightning.callbacks import Callback\n",
    "import torch.nn.functional as F\n",
    "\n",
    "from torch.utils.data import Dataset, DataLoader\n",
    "from scripts.utils import ScaleData, train_keys\n",
    "from scripts.AutoEncoder import AutoEncoderDataset\n",
    "from tqdm import tqdm\n",
    "\n",
    "import itertools\n",
    "import seaborn as sns\n",
    "#%matplotlib notebook\n",
    "from tqdm import tqdm"
   ]
  },
  {
   "cell_type": "code",
   "execution_count": 2,
   "id": "5fa2be01",
   "metadata": {},
   "outputs": [
    {
     "name": "stdout",
     "output_type": "stream",
     "text": [
      "GPU device: 0\n"
     ]
    }
   ],
   "source": [
    "# do we have a gpu \n",
    "gpu = torch.cuda.is_available()\n",
    "\n",
    "if gpu:\n",
    "    device = torch.cuda.current_device()\n",
    "    print(f'GPU device: {device}')\n",
    "else: \n",
    "    print('No GPU')"
   ]
  },
  {
   "cell_type": "code",
   "execution_count": 3,
   "id": "64e68a05",
   "metadata": {},
   "outputs": [
    {
     "data": {
      "text/plain": [
       "1"
      ]
     },
     "execution_count": 3,
     "metadata": {},
     "output_type": "execute_result"
    }
   ],
   "source": [
    "torch.cuda.device_count()"
   ]
  },
  {
   "cell_type": "code",
   "execution_count": 4,
   "id": "16a0a8b8",
   "metadata": {},
   "outputs": [],
   "source": [
    "train_data_path = \"/share/rcifdata/jbarr/UKAEAGroupProject/data/train_data_clipped.pkl\"\n",
    "train_data = AutoEncoderDataset(train_data_path, columns = train_keys, train = True)\n",
    "train_data.data = train_data.data.sample(100_000)\n",
    "train_data.scale()\n",
    "\n",
    "train_loader = DataLoader(train_data, shuffle = True, batch_size = 1024)\n",
    "\n",
    "valid_data_path = \"/share/rcifdata/jbarr/UKAEAGroupProject/data/valid_data_clipped.pkl\"\n",
    "valid_data = AutoEncoderDataset(valid_data_path, columns = train_keys, train = True)\n",
    "valid_data.data = valid_data.data.sample(100_000)\n",
    "valid_data.scale()\n",
    "\n",
    "valid_loader = DataLoader(valid_data, shuffle = True, batch_size = 1024)"
   ]
  },
  {
   "cell_type": "code",
   "execution_count": 5,
   "id": "e1005e66",
   "metadata": {},
   "outputs": [
    {
     "data": {
      "text/html": [
       "<div>\n",
       "<style scoped>\n",
       "    .dataframe tbody tr th:only-of-type {\n",
       "        vertical-align: middle;\n",
       "    }\n",
       "\n",
       "    .dataframe tbody tr th {\n",
       "        vertical-align: top;\n",
       "    }\n",
       "\n",
       "    .dataframe thead th {\n",
       "        text-align: right;\n",
       "    }\n",
       "</style>\n",
       "<table border=\"1\" class=\"dataframe\">\n",
       "  <thead>\n",
       "    <tr style=\"text-align: right;\">\n",
       "      <th></th>\n",
       "      <th>ane</th>\n",
       "      <th>ate</th>\n",
       "      <th>autor</th>\n",
       "      <th>machtor</th>\n",
       "      <th>x</th>\n",
       "      <th>zeff</th>\n",
       "      <th>gammae</th>\n",
       "      <th>q</th>\n",
       "      <th>smag</th>\n",
       "      <th>alpha</th>\n",
       "      <th>ani1</th>\n",
       "      <th>ati0</th>\n",
       "      <th>normni1</th>\n",
       "      <th>ti_te0</th>\n",
       "      <th>lognustar</th>\n",
       "    </tr>\n",
       "  </thead>\n",
       "  <tbody>\n",
       "    <tr>\n",
       "      <th>count</th>\n",
       "      <td>6.633000e+03</td>\n",
       "      <td>6.633000e+03</td>\n",
       "      <td>6.633000e+03</td>\n",
       "      <td>6.633000e+03</td>\n",
       "      <td>6.633000e+03</td>\n",
       "      <td>6.633000e+03</td>\n",
       "      <td>6.633000e+03</td>\n",
       "      <td>6.633000e+03</td>\n",
       "      <td>6.633000e+03</td>\n",
       "      <td>6.633000e+03</td>\n",
       "      <td>6.633000e+03</td>\n",
       "      <td>6.633000e+03</td>\n",
       "      <td>6.633000e+03</td>\n",
       "      <td>6.633000e+03</td>\n",
       "      <td>6.633000e+03</td>\n",
       "    </tr>\n",
       "    <tr>\n",
       "      <th>mean</th>\n",
       "      <td>6.669623e-17</td>\n",
       "      <td>-1.355768e-16</td>\n",
       "      <td>1.803673e-16</td>\n",
       "      <td>3.193084e-16</td>\n",
       "      <td>9.826804e-17</td>\n",
       "      <td>7.611547e-17</td>\n",
       "      <td>3.910940e-16</td>\n",
       "      <td>1.020592e-16</td>\n",
       "      <td>-3.311588e-17</td>\n",
       "      <td>9.329690e-17</td>\n",
       "      <td>5.186439e-17</td>\n",
       "      <td>7.555475e-17</td>\n",
       "      <td>7.350018e-17</td>\n",
       "      <td>4.743304e-16</td>\n",
       "      <td>-4.039267e-17</td>\n",
       "    </tr>\n",
       "    <tr>\n",
       "      <th>std</th>\n",
       "      <td>1.000075e+00</td>\n",
       "      <td>1.000075e+00</td>\n",
       "      <td>1.000075e+00</td>\n",
       "      <td>1.000075e+00</td>\n",
       "      <td>1.000075e+00</td>\n",
       "      <td>1.000075e+00</td>\n",
       "      <td>1.000075e+00</td>\n",
       "      <td>1.000075e+00</td>\n",
       "      <td>1.000075e+00</td>\n",
       "      <td>1.000075e+00</td>\n",
       "      <td>1.000075e+00</td>\n",
       "      <td>1.000075e+00</td>\n",
       "      <td>1.000075e+00</td>\n",
       "      <td>1.000075e+00</td>\n",
       "      <td>1.000075e+00</td>\n",
       "    </tr>\n",
       "    <tr>\n",
       "      <th>min</th>\n",
       "      <td>-4.898531e+00</td>\n",
       "      <td>-4.301904e+00</td>\n",
       "      <td>-1.484548e+01</td>\n",
       "      <td>-1.644001e+00</td>\n",
       "      <td>-1.383666e+00</td>\n",
       "      <td>-1.275362e+00</td>\n",
       "      <td>-2.069906e+01</td>\n",
       "      <td>-1.169380e+00</td>\n",
       "      <td>-2.181364e+00</td>\n",
       "      <td>-3.195940e+00</td>\n",
       "      <td>-1.164715e+01</td>\n",
       "      <td>-7.412891e+00</td>\n",
       "      <td>-1.686743e+00</td>\n",
       "      <td>-2.817961e+00</td>\n",
       "      <td>-2.583028e+00</td>\n",
       "    </tr>\n",
       "    <tr>\n",
       "      <th>25%</th>\n",
       "      <td>-3.742496e-01</td>\n",
       "      <td>-5.678438e-01</td>\n",
       "      <td>-2.619801e-01</td>\n",
       "      <td>-5.326864e-01</td>\n",
       "      <td>-9.474992e-01</td>\n",
       "      <td>-8.169511e-01</td>\n",
       "      <td>4.014181e-02</td>\n",
       "      <td>-7.364102e-01</td>\n",
       "      <td>-6.545582e-01</td>\n",
       "      <td>-4.935636e-01</td>\n",
       "      <td>-3.348020e-01</td>\n",
       "      <td>-5.512120e-01</td>\n",
       "      <td>-2.566955e-01</td>\n",
       "      <td>-1.093560e-01</td>\n",
       "      <td>-7.198887e-01</td>\n",
       "    </tr>\n",
       "    <tr>\n",
       "      <th>50%</th>\n",
       "      <td>-1.879619e-01</td>\n",
       "      <td>-2.723099e-01</td>\n",
       "      <td>-2.619801e-01</td>\n",
       "      <td>-5.326864e-01</td>\n",
       "      <td>-1.405430e-01</td>\n",
       "      <td>-1.656191e-01</td>\n",
       "      <td>4.014181e-02</td>\n",
       "      <td>-3.021009e-01</td>\n",
       "      <td>-3.926616e-01</td>\n",
       "      <td>-3.469698e-01</td>\n",
       "      <td>-1.899593e-01</td>\n",
       "      <td>-2.519139e-01</td>\n",
       "      <td>-2.010104e-01</td>\n",
       "      <td>-1.093560e-01</td>\n",
       "      <td>-1.539245e-01</td>\n",
       "    </tr>\n",
       "    <tr>\n",
       "      <th>75%</th>\n",
       "      <td>7.445478e-02</td>\n",
       "      <td>1.943297e-01</td>\n",
       "      <td>-3.500034e-02</td>\n",
       "      <td>1.601299e-01</td>\n",
       "      <td>9.481858e-01</td>\n",
       "      <td>5.243449e-01</td>\n",
       "      <td>4.014181e-02</td>\n",
       "      <td>4.561829e-01</td>\n",
       "      <td>2.785231e-01</td>\n",
       "      <td>1.029299e-01</td>\n",
       "      <td>4.160282e-02</td>\n",
       "      <td>2.509507e-01</td>\n",
       "      <td>-9.365665e-02</td>\n",
       "      <td>-1.093560e-01</td>\n",
       "      <td>5.972833e-01</td>\n",
       "    </tr>\n",
       "    <tr>\n",
       "      <th>max</th>\n",
       "      <td>1.194332e+01</td>\n",
       "      <td>9.869968e+00</td>\n",
       "      <td>2.413887e+01</td>\n",
       "      <td>5.569359e+00</td>\n",
       "      <td>1.662172e+00</td>\n",
       "      <td>6.474970e+00</td>\n",
       "      <td>1.069204e+01</td>\n",
       "      <td>6.220629e+00</td>\n",
       "      <td>6.693203e+00</td>\n",
       "      <td>1.028978e+01</td>\n",
       "      <td>1.375674e+01</td>\n",
       "      <td>1.236867e+01</td>\n",
       "      <td>1.908740e+01</td>\n",
       "      <td>2.064346e+01</td>\n",
       "      <td>5.066276e+00</td>\n",
       "    </tr>\n",
       "  </tbody>\n",
       "</table>\n",
       "</div>"
      ],
      "text/plain": [
       "                ane           ate         autor       machtor             x  \\\n",
       "count  6.633000e+03  6.633000e+03  6.633000e+03  6.633000e+03  6.633000e+03   \n",
       "mean   6.669623e-17 -1.355768e-16  1.803673e-16  3.193084e-16  9.826804e-17   \n",
       "std    1.000075e+00  1.000075e+00  1.000075e+00  1.000075e+00  1.000075e+00   \n",
       "min   -4.898531e+00 -4.301904e+00 -1.484548e+01 -1.644001e+00 -1.383666e+00   \n",
       "25%   -3.742496e-01 -5.678438e-01 -2.619801e-01 -5.326864e-01 -9.474992e-01   \n",
       "50%   -1.879619e-01 -2.723099e-01 -2.619801e-01 -5.326864e-01 -1.405430e-01   \n",
       "75%    7.445478e-02  1.943297e-01 -3.500034e-02  1.601299e-01  9.481858e-01   \n",
       "max    1.194332e+01  9.869968e+00  2.413887e+01  5.569359e+00  1.662172e+00   \n",
       "\n",
       "               zeff        gammae             q          smag         alpha  \\\n",
       "count  6.633000e+03  6.633000e+03  6.633000e+03  6.633000e+03  6.633000e+03   \n",
       "mean   7.611547e-17  3.910940e-16  1.020592e-16 -3.311588e-17  9.329690e-17   \n",
       "std    1.000075e+00  1.000075e+00  1.000075e+00  1.000075e+00  1.000075e+00   \n",
       "min   -1.275362e+00 -2.069906e+01 -1.169380e+00 -2.181364e+00 -3.195940e+00   \n",
       "25%   -8.169511e-01  4.014181e-02 -7.364102e-01 -6.545582e-01 -4.935636e-01   \n",
       "50%   -1.656191e-01  4.014181e-02 -3.021009e-01 -3.926616e-01 -3.469698e-01   \n",
       "75%    5.243449e-01  4.014181e-02  4.561829e-01  2.785231e-01  1.029299e-01   \n",
       "max    6.474970e+00  1.069204e+01  6.220629e+00  6.693203e+00  1.028978e+01   \n",
       "\n",
       "               ani1          ati0       normni1        ti_te0     lognustar  \n",
       "count  6.633000e+03  6.633000e+03  6.633000e+03  6.633000e+03  6.633000e+03  \n",
       "mean   5.186439e-17  7.555475e-17  7.350018e-17  4.743304e-16 -4.039267e-17  \n",
       "std    1.000075e+00  1.000075e+00  1.000075e+00  1.000075e+00  1.000075e+00  \n",
       "min   -1.164715e+01 -7.412891e+00 -1.686743e+00 -2.817961e+00 -2.583028e+00  \n",
       "25%   -3.348020e-01 -5.512120e-01 -2.566955e-01 -1.093560e-01 -7.198887e-01  \n",
       "50%   -1.899593e-01 -2.519139e-01 -2.010104e-01 -1.093560e-01 -1.539245e-01  \n",
       "75%    4.160282e-02  2.509507e-01 -9.365665e-02 -1.093560e-01  5.972833e-01  \n",
       "max    1.375674e+01  1.236867e+01  1.908740e+01  2.064346e+01  5.066276e+00  "
      ]
     },
     "execution_count": 5,
     "metadata": {},
     "output_type": "execute_result"
    }
   ],
   "source": [
    "test = \"/share/rcifdata/jbarr/UKAEAGroupProject/data/test_data_clipped.pkl\"\n",
    "\n",
    "df_test = pd.read_pickle(test)\n",
    "df_test = df_test.sample(10_000)\n",
    "target = df_test['target']\n",
    "df_test_good = df_test[df_test.target == 1]\n",
    "df_test_good = df_test_good[train_keys]\n",
    "\n",
    "df_test_good,_ = ScaleData(df_test_good)\n",
    "\n",
    "df_test_bad = df_test[df_test.target == 0]\n",
    "df_test_bad = df_test_bad[train_keys]\n",
    "df_test_bad,_ = ScaleData(df_test_bad)\n",
    "\n",
    "df_test_good.describe()"
   ]
  },
  {
   "cell_type": "code",
   "execution_count": 6,
   "id": "e2edb3b0",
   "metadata": {},
   "outputs": [],
   "source": [
    "data_good = torch.from_numpy(df_test_good.values).float()\n",
    "data_bad = torch.from_numpy(df_test_bad.values).float()\n",
    "#data_good_batch = next(iter(data_good_loader))\n",
    "# with torch.no_grad():\n",
    "#     outputs_good = encoder.forward(data_good).sample()\n",
    "#     outputs_bad = encoder.forward(data_bad).sample()\n",
    "# #    outputs_good = encoder.forward(data_good).sample().detach().numpy()\n",
    "    \n",
    "# plt.figure()\n",
    "# plt.scatter(outputs_good[:,0], outputs_good[:,1])\n",
    "# plt.scatter(outputs_bad[:,0], outputs_bad[:,1])"
   ]
  },
  {
   "cell_type": "markdown",
   "id": "62c8a592",
   "metadata": {},
   "source": [
    "# VAE 2"
   ]
  },
  {
   "cell_type": "code",
   "execution_count": 7,
   "id": "6f1cfea7",
   "metadata": {},
   "outputs": [],
   "source": [
    "class LinearVAE(nn.Module):\n",
    "    def __init__(self):\n",
    "        super(LinearVAE, self).__init__()\n",
    "        \n",
    " \n",
    "        # encoder\n",
    "        self.enc1 = nn.Linear(in_features=15, out_features =150)\n",
    "        self.enc2 = nn.Linear(in_features=150, out_features=75)\n",
    "        self.enc3 = nn.Linear(in_features=75, out_features =30)\n",
    "        self.enc4 = nn.Linear(in_features=30, out_features =10)\n",
    "        self.mu = nn.Linear(10,5 )\n",
    "        self.sigma = nn.Linear(10,5)\n",
    " \n",
    "        # decoder \n",
    "        self.dec1 = nn.Linear(in_features = 5, out_features = 10)\n",
    "        self.dec2 = nn.Linear(in_features = 10, out_features = 30)\n",
    "        self.dec3 = nn.Linear(in_features = 30, out_features = 75)\n",
    "        self.dec4 = nn.Linear(in_features = 75, out_features = 150)\n",
    "        self.dec5 = nn.Linear(150, 15)\n",
    "        \n",
    "    def reparameterize(self, mu, log_var):\n",
    "        \"\"\"\n",
    "        :param mu: mean from the encoder's latent space\n",
    "        :param log_var: log variance from the encoder's latent space\n",
    "        \"\"\"\n",
    "        std = torch.exp(0.5*log_var) # standard deviation\n",
    "        eps = torch.randn_like(std) # `randn_like` as we need the same size\n",
    "        sample = mu + (eps * std) # sampling as if coming from the input space\n",
    "        return sample\n",
    " \n",
    "    def forward(self, x):\n",
    "        # encoding\n",
    "        x = x.float()\n",
    "        x = F.relu(self.enc1(x.float()))\n",
    "        x = F.relu(self.enc2(x.float()))\n",
    "        x = F.relu(self.enc3(x.float()))\n",
    "        x = F.relu(self.enc4(x.float()))\n",
    "        # get `mu` and `log_var`\n",
    "        mu = self.mu(x) # the first feature values as mean\n",
    "        log_var = self.sigma(x) # the other feature values as variance\n",
    "        # get the latent vector through reparameterization\n",
    "        z = self.reparameterize(mu, log_var)\n",
    " \n",
    "        # decoding\n",
    "        z = F.relu(self.dec1(z.float()))\n",
    "        z = F.relu(self.dec2(z.float()))\n",
    "        z = F.relu(self.dec3(z.float()))\n",
    "        z = F.relu(self.dec4(z.float()))\n",
    "        \n",
    "        reconstruction = self.dec5(z.float())\n",
    "        return reconstruction.float(), mu.float(), log_var.float()"
   ]
  },
  {
   "cell_type": "code",
   "execution_count": 8,
   "id": "17374265",
   "metadata": {},
   "outputs": [],
   "source": [
    "batch_size = 2048\n",
    "lr = 1e-3\n",
    "epochs = 100\n",
    "\n",
    "model = LinearVAE().to(device)\n",
    "optimizer = torch.optim.Adam(model.parameters(), lr=lr)\n",
    "criterion = nn.MSELoss(reduction ='none')"
   ]
  },
  {
   "cell_type": "code",
   "execution_count": 9,
   "id": "31ab8fc5",
   "metadata": {},
   "outputs": [],
   "source": [
    "def final_loss(MSE_loss, mu, logvar):\n",
    "    \"\"\"\n",
    "    This function will add the reconstruction loss (BCELoss) and the \n",
    "    KL-Divergence.\n",
    "    KL-Divergence = 0.5 * sum(1 + log(sigma^2) - mu^2 - sigma^2)\n",
    "    :param bce_loss: recontruction loss\n",
    "    :param mu: the mean from the latent vector\n",
    "    :param logvar: log variance from the latent vector\n",
    "    \"\"\"\n",
    "    MSE = MSE_loss \n",
    "    KLD = -0.5 * torch.sum(1 + logvar - mu.pow(2) - logvar.exp())\n",
    "    return MSE, KLD"
   ]
  },
  {
   "cell_type": "code",
   "execution_count": 10,
   "id": "3588de97",
   "metadata": {},
   "outputs": [
    {
     "data": {
      "text/plain": [
       "100000"
      ]
     },
     "execution_count": 10,
     "metadata": {},
     "output_type": "execute_result"
    }
   ],
   "source": [
    "len(train_loader.dataset)"
   ]
  },
  {
   "cell_type": "code",
   "execution_count": 11,
   "id": "ee8f3d51",
   "metadata": {},
   "outputs": [],
   "source": [
    "def vae_loss(y_pred,y, mu, log_var): \n",
    "    reconstruction_error = (0.5 * (y - y_pred)**2).sum()\n",
    "    \n",
    "    kl_divergence = (-0.5 * torch.sum(1 + log_var - mu**2 - log_var.exp()))\n",
    "    \n",
    "    return reconstruction_error, kl_divergence"
   ]
  },
  {
   "cell_type": "code",
   "execution_count": 12,
   "id": "6803a22e",
   "metadata": {},
   "outputs": [],
   "source": [
    "def fit(model, dataloader):\n",
    "    model.train()\n",
    "    running_loss = 0.0\n",
    "    MSE_log = []\n",
    "    KLD_log = []\n",
    "    for i, data in tqdm(enumerate(dataloader), total=int(len(train_data)/dataloader.batch_size)):\n",
    "        #data, _ = data\n",
    "        data = data.to(device)\n",
    "        #data = data.view(data.size(0), -1)\n",
    "        optimizer.zero_grad()\n",
    "        reconstruction, mu, logvar = model(data)\n",
    "#         MSE_loss = criterion(reconstruction.float(), data.float())\n",
    "        MSE, KLD = vae_loss(reconstruction.float(), data.float(), mu, logvar)\n",
    "        MSE_log.append(torch.mean(MSE).item())\n",
    "        KLD_log.append(torch.mean(KLD).item())\n",
    "        loss = (MSE + KLD).sum()\n",
    "        running_loss += loss.item()\n",
    "#         print(loss.item())\n",
    "        loss.backward()\n",
    "        optimizer.step()\n",
    "    train_loss = running_loss\n",
    "    return train_loss, MSE_log, KLD_log"
   ]
  },
  {
   "cell_type": "code",
   "execution_count": 13,
   "id": "4f92049a",
   "metadata": {},
   "outputs": [],
   "source": [
    "def validate(model, dataloader):\n",
    "    model.eval()\n",
    "    running_loss = 0.0\n",
    "    with torch.no_grad():\n",
    "        for i, data in tqdm(enumerate(dataloader), total=int(len(valid_data)/dataloader.batch_size)):\n",
    "            data = data.to(device)\n",
    "            #data = data.view(data.size(0), -1)\n",
    "            reconstruction, mu, logvar = model(data)\n",
    "#             MSE_loss = criterion(reconstruction.float(), data.float())\n",
    "            mse, kld = vae_loss(reconstruction.float(), data.float(), mu, logvar)\n",
    "            loss = (mse + kld).sum()\n",
    "            running_loss += loss.item()\n",
    "        \n",
    "    val_loss = running_loss\n",
    "    return val_loss"
   ]
  },
  {
   "cell_type": "code",
   "execution_count": 14,
   "id": "ddf09f0d",
   "metadata": {
    "scrolled": true
   },
   "outputs": [
    {
     "name": "stdout",
     "output_type": "stream",
     "text": [
      "Epoch 1 of 100\n"
     ]
    },
    {
     "name": "stderr",
     "output_type": "stream",
     "text": [
      "98it [00:09, 10.55it/s]                        \n",
      "98it [00:08, 12.16it/s]                        \n"
     ]
    },
    {
     "name": "stdout",
     "output_type": "stream",
     "text": [
      "Train Loss: 753980.9819\n",
      "Val Loss: 750810.8472\n",
      "Epoch 2 of 100\n"
     ]
    },
    {
     "name": "stderr",
     "output_type": "stream",
     "text": [
      "98it [00:08, 11.32it/s]                        \n",
      "98it [00:08, 11.93it/s]                        \n"
     ]
    },
    {
     "name": "stdout",
     "output_type": "stream",
     "text": [
      "Train Loss: 749883.4636\n",
      "Val Loss: 744859.7244\n",
      "Epoch 3 of 100\n"
     ]
    },
    {
     "name": "stderr",
     "output_type": "stream",
     "text": [
      "98it [00:08, 11.08it/s]                        \n",
      "98it [00:08, 11.83it/s]                        \n"
     ]
    },
    {
     "name": "stdout",
     "output_type": "stream",
     "text": [
      "Train Loss: 715567.1802\n",
      "Val Loss: 711487.9456\n",
      "Epoch 4 of 100\n"
     ]
    },
    {
     "name": "stderr",
     "output_type": "stream",
     "text": [
      "98it [00:09, 10.75it/s]                        \n",
      "98it [00:08, 12.14it/s]                        \n"
     ]
    },
    {
     "name": "stdout",
     "output_type": "stream",
     "text": [
      "Train Loss: 696279.6174\n",
      "Val Loss: 700013.9683\n",
      "Epoch 5 of 100\n"
     ]
    },
    {
     "name": "stderr",
     "output_type": "stream",
     "text": [
      "98it [00:08, 11.24it/s]                        \n",
      "98it [00:08, 12.14it/s]                        \n"
     ]
    },
    {
     "name": "stdout",
     "output_type": "stream",
     "text": [
      "Train Loss: 672701.1802\n",
      "Val Loss: 678088.7183\n",
      "Epoch 6 of 100\n"
     ]
    },
    {
     "name": "stderr",
     "output_type": "stream",
     "text": [
      "98it [00:08, 11.23it/s]                        \n",
      "98it [00:08, 11.92it/s]                        \n"
     ]
    },
    {
     "name": "stdout",
     "output_type": "stream",
     "text": [
      "Train Loss: 659021.3088\n",
      "Val Loss: 670492.8955\n",
      "Epoch 7 of 100\n"
     ]
    },
    {
     "name": "stderr",
     "output_type": "stream",
     "text": [
      "98it [00:08, 10.97it/s]                        \n",
      "98it [00:08, 12.12it/s]                        \n"
     ]
    },
    {
     "name": "stdout",
     "output_type": "stream",
     "text": [
      "Train Loss: 648497.6064\n",
      "Val Loss: 652616.7566\n",
      "Epoch 8 of 100\n"
     ]
    },
    {
     "name": "stderr",
     "output_type": "stream",
     "text": [
      "98it [00:09, 10.56it/s]                        \n",
      "98it [00:08, 12.06it/s]                        \n"
     ]
    },
    {
     "name": "stdout",
     "output_type": "stream",
     "text": [
      "Train Loss: 621195.2012\n",
      "Val Loss: 641729.2852\n",
      "Epoch 9 of 100\n"
     ]
    },
    {
     "name": "stderr",
     "output_type": "stream",
     "text": [
      "98it [00:08, 11.25it/s]                        \n",
      "98it [00:08, 11.96it/s]                        \n"
     ]
    },
    {
     "name": "stdout",
     "output_type": "stream",
     "text": [
      "Train Loss: 618200.6721\n",
      "Val Loss: 644524.4768\n",
      "Epoch 10 of 100\n"
     ]
    },
    {
     "name": "stderr",
     "output_type": "stream",
     "text": [
      "98it [00:08, 10.93it/s]                        \n",
      "98it [00:08, 12.05it/s]                        \n"
     ]
    },
    {
     "name": "stdout",
     "output_type": "stream",
     "text": [
      "Train Loss: 618782.8933\n",
      "Val Loss: 652378.0986\n",
      "Epoch 11 of 100\n"
     ]
    },
    {
     "name": "stderr",
     "output_type": "stream",
     "text": [
      "98it [00:08, 11.19it/s]                        \n",
      "98it [00:08, 11.72it/s]                        \n"
     ]
    },
    {
     "name": "stdout",
     "output_type": "stream",
     "text": [
      "Train Loss: 622810.0422\n",
      "Val Loss: 637724.3313\n",
      "Epoch 12 of 100\n"
     ]
    },
    {
     "name": "stderr",
     "output_type": "stream",
     "text": [
      "98it [00:08, 11.15it/s]                        \n",
      "98it [00:08, 12.08it/s]                        \n"
     ]
    },
    {
     "name": "stdout",
     "output_type": "stream",
     "text": [
      "Train Loss: 616323.0935\n",
      "Val Loss: 634082.4250\n",
      "Epoch 13 of 100\n"
     ]
    },
    {
     "name": "stderr",
     "output_type": "stream",
     "text": [
      "98it [00:08, 11.23it/s]                        \n",
      "98it [00:08, 11.65it/s]                        \n"
     ]
    },
    {
     "name": "stdout",
     "output_type": "stream",
     "text": [
      "Train Loss: 604427.3525\n",
      "Val Loss: 631490.0249\n",
      "Epoch 14 of 100\n"
     ]
    },
    {
     "name": "stderr",
     "output_type": "stream",
     "text": [
      "98it [00:08, 11.21it/s]                        \n",
      "98it [00:08, 11.99it/s]                        \n"
     ]
    },
    {
     "name": "stdout",
     "output_type": "stream",
     "text": [
      "Train Loss: 601401.6833\n",
      "Val Loss: 629663.9441\n",
      "Epoch 15 of 100\n"
     ]
    },
    {
     "name": "stderr",
     "output_type": "stream",
     "text": [
      "98it [00:08, 11.25it/s]                        \n",
      "98it [00:08, 12.08it/s]                        \n"
     ]
    },
    {
     "name": "stdout",
     "output_type": "stream",
     "text": [
      "Train Loss: 599975.2168\n",
      "Val Loss: 631787.9746\n",
      "Epoch 16 of 100\n"
     ]
    },
    {
     "name": "stderr",
     "output_type": "stream",
     "text": [
      "98it [00:09, 10.74it/s]                        \n",
      "98it [00:08, 11.73it/s]                        \n"
     ]
    },
    {
     "name": "stdout",
     "output_type": "stream",
     "text": [
      "Train Loss: 600796.1707\n",
      "Val Loss: 628772.3845\n",
      "Epoch 17 of 100\n"
     ]
    },
    {
     "name": "stderr",
     "output_type": "stream",
     "text": [
      "98it [00:08, 11.23it/s]                        \n",
      "98it [00:08, 11.31it/s]                        \n"
     ]
    },
    {
     "name": "stdout",
     "output_type": "stream",
     "text": [
      "Train Loss: 605905.1956\n",
      "Val Loss: 634185.8818\n",
      "Epoch 18 of 100\n"
     ]
    },
    {
     "name": "stderr",
     "output_type": "stream",
     "text": [
      "98it [00:09, 10.46it/s]                        \n",
      "98it [00:08, 12.08it/s]                        \n"
     ]
    },
    {
     "name": "stdout",
     "output_type": "stream",
     "text": [
      "Train Loss: 602315.8101\n",
      "Val Loss: 631016.8464\n",
      "Epoch 19 of 100\n"
     ]
    },
    {
     "name": "stderr",
     "output_type": "stream",
     "text": [
      "98it [00:09, 10.78it/s]                        \n",
      "98it [00:08, 11.95it/s]                        \n"
     ]
    },
    {
     "name": "stdout",
     "output_type": "stream",
     "text": [
      "Train Loss: 600624.9009\n",
      "Val Loss: 626215.6943\n",
      "Epoch 20 of 100\n"
     ]
    },
    {
     "name": "stderr",
     "output_type": "stream",
     "text": [
      "98it [00:08, 10.95it/s]                        \n",
      "98it [00:08, 12.07it/s]                        \n"
     ]
    },
    {
     "name": "stdout",
     "output_type": "stream",
     "text": [
      "Train Loss: 597218.3770\n",
      "Val Loss: 629010.3940\n",
      "Epoch 21 of 100\n"
     ]
    },
    {
     "name": "stderr",
     "output_type": "stream",
     "text": [
      "98it [00:08, 11.13it/s]                        \n",
      "98it [00:08, 11.70it/s]                        \n"
     ]
    },
    {
     "name": "stdout",
     "output_type": "stream",
     "text": [
      "Train Loss: 595808.3311\n",
      "Val Loss: 626589.7942\n",
      "Epoch 22 of 100\n"
     ]
    },
    {
     "name": "stderr",
     "output_type": "stream",
     "text": [
      "98it [00:08, 11.18it/s]                        \n",
      "98it [00:08, 11.95it/s]                        \n"
     ]
    },
    {
     "name": "stdout",
     "output_type": "stream",
     "text": [
      "Train Loss: 595927.3435\n",
      "Val Loss: 625068.8411\n",
      "Epoch 23 of 100\n"
     ]
    },
    {
     "name": "stderr",
     "output_type": "stream",
     "text": [
      "98it [00:08, 10.91it/s]                        \n",
      "98it [00:08, 12.08it/s]                        \n"
     ]
    },
    {
     "name": "stdout",
     "output_type": "stream",
     "text": [
      "Train Loss: 596135.4961\n",
      "Val Loss: 626704.5354\n",
      "Epoch 24 of 100\n"
     ]
    },
    {
     "name": "stderr",
     "output_type": "stream",
     "text": [
      "98it [00:08, 11.20it/s]                        \n",
      "98it [00:08, 11.84it/s]                        \n"
     ]
    },
    {
     "name": "stdout",
     "output_type": "stream",
     "text": [
      "Train Loss: 594485.8828\n",
      "Val Loss: 625989.2161\n",
      "Epoch 25 of 100\n"
     ]
    },
    {
     "name": "stderr",
     "output_type": "stream",
     "text": [
      "98it [00:08, 11.04it/s]                        \n",
      "98it [00:08, 12.05it/s]                        \n"
     ]
    },
    {
     "name": "stdout",
     "output_type": "stream",
     "text": [
      "Train Loss: 593972.8030\n",
      "Val Loss: 627400.5439\n",
      "Epoch 26 of 100\n"
     ]
    },
    {
     "name": "stderr",
     "output_type": "stream",
     "text": [
      "98it [00:08, 10.94it/s]                        \n",
      "98it [00:08, 11.94it/s]                        \n"
     ]
    },
    {
     "name": "stdout",
     "output_type": "stream",
     "text": [
      "Train Loss: 593748.9612\n",
      "Val Loss: 630966.3982\n",
      "Epoch 27 of 100\n"
     ]
    },
    {
     "name": "stderr",
     "output_type": "stream",
     "text": [
      "98it [00:08, 11.24it/s]                        \n",
      "98it [00:08, 11.82it/s]                        \n"
     ]
    },
    {
     "name": "stdout",
     "output_type": "stream",
     "text": [
      "Train Loss: 598805.3384\n",
      "Val Loss: 631036.8267\n",
      "Epoch 28 of 100\n"
     ]
    },
    {
     "name": "stderr",
     "output_type": "stream",
     "text": [
      "98it [00:08, 11.26it/s]                        \n",
      "98it [00:08, 12.12it/s]                        \n"
     ]
    },
    {
     "name": "stdout",
     "output_type": "stream",
     "text": [
      "Train Loss: 597364.9912\n",
      "Val Loss: 631133.7004\n",
      "Epoch 29 of 100\n"
     ]
    },
    {
     "name": "stderr",
     "output_type": "stream",
     "text": [
      "98it [00:08, 11.25it/s]                        \n",
      "98it [00:08, 12.08it/s]                        \n"
     ]
    },
    {
     "name": "stdout",
     "output_type": "stream",
     "text": [
      "Train Loss: 595893.3928\n",
      "Val Loss: 621496.8567\n",
      "Epoch 30 of 100\n"
     ]
    },
    {
     "name": "stderr",
     "output_type": "stream",
     "text": [
      "98it [00:08, 11.04it/s]                        \n",
      "98it [00:08, 12.09it/s]                        \n"
     ]
    },
    {
     "name": "stdout",
     "output_type": "stream",
     "text": [
      "Train Loss: 591285.6497\n",
      "Val Loss: 621723.8179\n",
      "Epoch 31 of 100\n"
     ]
    },
    {
     "name": "stderr",
     "output_type": "stream",
     "text": [
      "98it [00:09, 10.68it/s]                        \n",
      "98it [00:08, 12.08it/s]                        \n"
     ]
    },
    {
     "name": "stdout",
     "output_type": "stream",
     "text": [
      "Train Loss: 589099.2063\n",
      "Val Loss: 622974.6113\n",
      "Epoch 32 of 100\n"
     ]
    },
    {
     "name": "stderr",
     "output_type": "stream",
     "text": [
      "98it [00:09, 10.71it/s]                        \n",
      "98it [00:08, 11.99it/s]                        \n"
     ]
    },
    {
     "name": "stdout",
     "output_type": "stream",
     "text": [
      "Train Loss: 587317.9529\n",
      "Val Loss: 619885.2781\n",
      "Epoch 33 of 100\n"
     ]
    },
    {
     "name": "stderr",
     "output_type": "stream",
     "text": [
      "98it [00:08, 11.17it/s]                        \n",
      "98it [00:08, 11.66it/s]                        \n"
     ]
    },
    {
     "name": "stdout",
     "output_type": "stream",
     "text": [
      "Train Loss: 588385.2617\n",
      "Val Loss: 628056.9778\n",
      "Epoch 34 of 100\n"
     ]
    },
    {
     "name": "stderr",
     "output_type": "stream",
     "text": [
      "98it [00:08, 11.18it/s]                        \n",
      "98it [00:08, 11.67it/s]                        \n"
     ]
    },
    {
     "name": "stdout",
     "output_type": "stream",
     "text": [
      "Train Loss: 591260.8699\n",
      "Val Loss: 626171.9980\n",
      "Epoch 35 of 100\n"
     ]
    },
    {
     "name": "stderr",
     "output_type": "stream",
     "text": [
      "98it [00:08, 11.03it/s]                        \n",
      "98it [00:08, 11.35it/s]                        \n"
     ]
    },
    {
     "name": "stdout",
     "output_type": "stream",
     "text": [
      "Train Loss: 598625.5828\n",
      "Val Loss: 633311.4988\n",
      "Epoch 36 of 100\n"
     ]
    },
    {
     "name": "stderr",
     "output_type": "stream",
     "text": [
      "98it [00:09, 10.78it/s]                        \n",
      "98it [00:08, 12.07it/s]                        \n"
     ]
    },
    {
     "name": "stdout",
     "output_type": "stream",
     "text": [
      "Train Loss: 597248.2607\n",
      "Val Loss: 621950.0581\n",
      "Epoch 37 of 100\n"
     ]
    },
    {
     "name": "stderr",
     "output_type": "stream",
     "text": [
      "98it [00:09, 10.71it/s]                        \n",
      "98it [00:08, 12.03it/s]                        \n"
     ]
    },
    {
     "name": "stdout",
     "output_type": "stream",
     "text": [
      "Train Loss: 588180.6265\n",
      "Val Loss: 620497.1284\n",
      "Epoch 38 of 100\n"
     ]
    },
    {
     "name": "stderr",
     "output_type": "stream",
     "text": [
      "98it [00:09, 10.66it/s]                        \n",
      "98it [00:08, 11.70it/s]                        \n"
     ]
    },
    {
     "name": "stdout",
     "output_type": "stream",
     "text": [
      "Train Loss: 590391.3176\n",
      "Val Loss: 623791.5530\n",
      "Epoch 39 of 100\n"
     ]
    },
    {
     "name": "stderr",
     "output_type": "stream",
     "text": [
      "98it [00:09, 10.87it/s]                        \n",
      "98it [00:08, 11.84it/s]                        \n"
     ]
    },
    {
     "name": "stdout",
     "output_type": "stream",
     "text": [
      "Train Loss: 587793.9153\n",
      "Val Loss: 623975.5588\n",
      "Epoch 40 of 100\n"
     ]
    },
    {
     "name": "stderr",
     "output_type": "stream",
     "text": [
      "98it [00:08, 10.92it/s]                        \n",
      "98it [00:08, 11.72it/s]                        \n"
     ]
    },
    {
     "name": "stdout",
     "output_type": "stream",
     "text": [
      "Train Loss: 589362.7810\n",
      "Val Loss: 623772.6711\n",
      "Epoch 41 of 100\n"
     ]
    },
    {
     "name": "stderr",
     "output_type": "stream",
     "text": [
      "98it [00:08, 10.99it/s]                        \n",
      "98it [00:08, 12.04it/s]                        \n"
     ]
    },
    {
     "name": "stdout",
     "output_type": "stream",
     "text": [
      "Train Loss: 589903.0193\n",
      "Val Loss: 633119.5796\n",
      "Epoch 42 of 100\n"
     ]
    },
    {
     "name": "stderr",
     "output_type": "stream",
     "text": [
      "98it [00:08, 11.04it/s]                        \n",
      "98it [00:08, 11.73it/s]                        \n"
     ]
    },
    {
     "name": "stdout",
     "output_type": "stream",
     "text": [
      "Train Loss: 594760.1743\n",
      "Val Loss: 617554.7520\n",
      "Epoch 43 of 100\n"
     ]
    },
    {
     "name": "stderr",
     "output_type": "stream",
     "text": [
      "98it [00:08, 11.21it/s]                        \n",
      "98it [00:08, 11.96it/s]                        \n"
     ]
    },
    {
     "name": "stdout",
     "output_type": "stream",
     "text": [
      "Train Loss: 580268.6294\n",
      "Val Loss: 619603.5615\n",
      "Epoch 44 of 100\n"
     ]
    },
    {
     "name": "stderr",
     "output_type": "stream",
     "text": [
      "98it [00:08, 11.17it/s]                        \n",
      "98it [00:08, 11.95it/s]                        \n"
     ]
    },
    {
     "name": "stdout",
     "output_type": "stream",
     "text": [
      "Train Loss: 578170.4487\n",
      "Val Loss: 616145.1030\n",
      "Epoch 45 of 100\n"
     ]
    },
    {
     "name": "stderr",
     "output_type": "stream",
     "text": [
      "98it [00:08, 10.93it/s]                        \n",
      "98it [00:08, 12.03it/s]                        \n"
     ]
    },
    {
     "name": "stdout",
     "output_type": "stream",
     "text": [
      "Train Loss: 580706.8408\n",
      "Val Loss: 625997.6704\n",
      "Epoch 46 of 100\n"
     ]
    },
    {
     "name": "stderr",
     "output_type": "stream",
     "text": [
      "98it [00:08, 10.95it/s]                        \n",
      "98it [00:08, 11.57it/s]                        \n"
     ]
    },
    {
     "name": "stdout",
     "output_type": "stream",
     "text": [
      "Train Loss: 579328.5232\n",
      "Val Loss: 616668.2632\n",
      "Epoch 47 of 100\n"
     ]
    },
    {
     "name": "stderr",
     "output_type": "stream",
     "text": [
      "98it [00:08, 11.18it/s]                        \n",
      "98it [00:08, 11.89it/s]                        \n"
     ]
    },
    {
     "name": "stdout",
     "output_type": "stream",
     "text": [
      "Train Loss: 575406.6592\n",
      "Val Loss: 618230.7871\n",
      "Epoch 48 of 100\n"
     ]
    },
    {
     "name": "stderr",
     "output_type": "stream",
     "text": [
      "98it [00:09, 10.75it/s]                        \n",
      "98it [00:08, 11.85it/s]                        \n"
     ]
    },
    {
     "name": "stdout",
     "output_type": "stream",
     "text": [
      "Train Loss: 576161.6614\n",
      "Val Loss: 626026.5195\n",
      "Epoch 49 of 100\n"
     ]
    },
    {
     "name": "stderr",
     "output_type": "stream",
     "text": [
      "98it [00:08, 10.95it/s]                        \n",
      "98it [00:08, 11.92it/s]                        \n"
     ]
    },
    {
     "name": "stdout",
     "output_type": "stream",
     "text": [
      "Train Loss: 584101.7056\n",
      "Val Loss: 613512.9006\n",
      "Epoch 50 of 100\n"
     ]
    },
    {
     "name": "stderr",
     "output_type": "stream",
     "text": [
      "98it [00:08, 11.16it/s]                        \n",
      "98it [00:08, 12.00it/s]                        \n"
     ]
    },
    {
     "name": "stdout",
     "output_type": "stream",
     "text": [
      "Train Loss: 574194.9241\n",
      "Val Loss: 627178.3572\n",
      "Epoch 51 of 100\n"
     ]
    },
    {
     "name": "stderr",
     "output_type": "stream",
     "text": [
      "98it [00:09, 10.78it/s]                        \n",
      "98it [00:08, 11.94it/s]                        \n"
     ]
    },
    {
     "name": "stdout",
     "output_type": "stream",
     "text": [
      "Train Loss: 590706.7524\n",
      "Val Loss: 618299.0730\n",
      "Epoch 52 of 100\n"
     ]
    },
    {
     "name": "stderr",
     "output_type": "stream",
     "text": [
      "98it [00:08, 10.98it/s]                        \n",
      "98it [00:08, 11.90it/s]                        \n"
     ]
    },
    {
     "name": "stdout",
     "output_type": "stream",
     "text": [
      "Train Loss: 573235.7371\n",
      "Val Loss: 621896.4185\n",
      "Epoch 53 of 100\n"
     ]
    },
    {
     "name": "stderr",
     "output_type": "stream",
     "text": [
      "98it [00:08, 11.13it/s]                        \n",
      "98it [00:08, 11.66it/s]                        \n"
     ]
    },
    {
     "name": "stdout",
     "output_type": "stream",
     "text": [
      "Train Loss: 582026.2219\n",
      "Val Loss: 612933.6863\n",
      "Epoch 54 of 100\n"
     ]
    },
    {
     "name": "stderr",
     "output_type": "stream",
     "text": [
      "98it [00:09, 10.62it/s]                        \n",
      "98it [00:08, 11.87it/s]                        \n"
     ]
    },
    {
     "name": "stdout",
     "output_type": "stream",
     "text": [
      "Train Loss: 571352.7930\n",
      "Val Loss: 613060.0557\n",
      "Epoch 55 of 100\n"
     ]
    },
    {
     "name": "stderr",
     "output_type": "stream",
     "text": [
      "98it [00:08, 11.17it/s]                        \n",
      "98it [00:08, 12.04it/s]                        \n"
     ]
    },
    {
     "name": "stdout",
     "output_type": "stream",
     "text": [
      "Train Loss: 566737.6516\n",
      "Val Loss: 622255.9985\n",
      "Epoch 56 of 100\n"
     ]
    },
    {
     "name": "stderr",
     "output_type": "stream",
     "text": [
      "98it [00:08, 11.09it/s]                        \n",
      "98it [00:08, 12.00it/s]                        \n"
     ]
    },
    {
     "name": "stdout",
     "output_type": "stream",
     "text": [
      "Train Loss: 568534.2200\n",
      "Val Loss: 616503.2175\n",
      "Epoch 57 of 100\n"
     ]
    },
    {
     "name": "stderr",
     "output_type": "stream",
     "text": [
      "98it [00:08, 10.91it/s]                        \n",
      "98it [00:08, 11.78it/s]                        \n"
     ]
    },
    {
     "name": "stdout",
     "output_type": "stream",
     "text": [
      "Train Loss: 566613.0774\n",
      "Val Loss: 612516.3967\n",
      "Epoch 58 of 100\n"
     ]
    },
    {
     "name": "stderr",
     "output_type": "stream",
     "text": [
      "98it [00:08, 11.02it/s]                        \n",
      "98it [00:08, 11.89it/s]                        \n"
     ]
    },
    {
     "name": "stdout",
     "output_type": "stream",
     "text": [
      "Train Loss: 566377.8865\n",
      "Val Loss: 621327.0496\n",
      "Epoch 59 of 100\n"
     ]
    },
    {
     "name": "stderr",
     "output_type": "stream",
     "text": [
      "98it [00:09, 10.15it/s]                        \n",
      "98it [00:08, 11.85it/s]                        \n"
     ]
    },
    {
     "name": "stdout",
     "output_type": "stream",
     "text": [
      "Train Loss: 577392.7849\n",
      "Val Loss: 613418.3975\n",
      "Epoch 60 of 100\n"
     ]
    },
    {
     "name": "stderr",
     "output_type": "stream",
     "text": [
      "98it [00:08, 11.05it/s]                        \n",
      "98it [00:08, 11.91it/s]                        \n"
     ]
    },
    {
     "name": "stdout",
     "output_type": "stream",
     "text": [
      "Train Loss: 560619.7827\n",
      "Val Loss: 612254.3118\n",
      "Epoch 61 of 100\n"
     ]
    },
    {
     "name": "stderr",
     "output_type": "stream",
     "text": [
      "98it [00:09, 10.14it/s]                        \n",
      "98it [00:08, 11.93it/s]                        \n"
     ]
    },
    {
     "name": "stdout",
     "output_type": "stream",
     "text": [
      "Train Loss: 558990.4185\n",
      "Val Loss: 611189.2537\n",
      "Epoch 62 of 100\n"
     ]
    },
    {
     "name": "stderr",
     "output_type": "stream",
     "text": [
      "98it [00:09, 10.79it/s]                        \n",
      "98it [00:08, 11.92it/s]                        \n"
     ]
    },
    {
     "name": "stdout",
     "output_type": "stream",
     "text": [
      "Train Loss: 557114.6233\n",
      "Val Loss: 615241.4976\n",
      "Epoch 63 of 100\n"
     ]
    },
    {
     "name": "stderr",
     "output_type": "stream",
     "text": [
      "98it [00:08, 10.93it/s]                        \n",
      "98it [00:08, 11.82it/s]                        \n"
     ]
    },
    {
     "name": "stdout",
     "output_type": "stream",
     "text": [
      "Train Loss: 565260.0315\n",
      "Val Loss: 623867.5513\n",
      "Epoch 64 of 100\n"
     ]
    },
    {
     "name": "stderr",
     "output_type": "stream",
     "text": [
      "98it [00:09, 10.65it/s]                        \n",
      "98it [00:08, 11.57it/s]                        \n"
     ]
    },
    {
     "name": "stdout",
     "output_type": "stream",
     "text": [
      "Train Loss: 568289.7295\n",
      "Val Loss: 633369.6267\n",
      "Epoch 65 of 100\n"
     ]
    },
    {
     "name": "stderr",
     "output_type": "stream",
     "text": [
      "98it [00:09, 10.53it/s]                        \n",
      "98it [00:08, 11.73it/s]                        \n"
     ]
    },
    {
     "name": "stdout",
     "output_type": "stream",
     "text": [
      "Train Loss: 580552.3599\n",
      "Val Loss: 612929.1189\n",
      "Epoch 66 of 100\n"
     ]
    },
    {
     "name": "stderr",
     "output_type": "stream",
     "text": [
      "98it [00:08, 11.07it/s]                        \n",
      "98it [00:08, 11.80it/s]                        \n"
     ]
    },
    {
     "name": "stdout",
     "output_type": "stream",
     "text": [
      "Train Loss: 560014.0261\n",
      "Val Loss: 605843.4197\n",
      "Epoch 67 of 100\n"
     ]
    },
    {
     "name": "stderr",
     "output_type": "stream",
     "text": [
      "98it [00:09, 10.46it/s]                        \n",
      "98it [00:08, 11.25it/s]                        \n"
     ]
    },
    {
     "name": "stdout",
     "output_type": "stream",
     "text": [
      "Train Loss: 556697.1912\n",
      "Val Loss: 608458.8450\n",
      "Epoch 68 of 100\n"
     ]
    },
    {
     "name": "stderr",
     "output_type": "stream",
     "text": [
      "98it [00:08, 10.96it/s]                        \n",
      "98it [00:08, 11.62it/s]                        \n"
     ]
    },
    {
     "name": "stdout",
     "output_type": "stream",
     "text": [
      "Train Loss: 557391.1602\n",
      "Val Loss: 608464.3450\n",
      "Epoch 69 of 100\n"
     ]
    },
    {
     "name": "stderr",
     "output_type": "stream",
     "text": [
      "98it [00:08, 10.97it/s]                        \n",
      "98it [00:08, 11.80it/s]                        \n"
     ]
    },
    {
     "name": "stdout",
     "output_type": "stream",
     "text": [
      "Train Loss: 556430.5820\n",
      "Val Loss: 605375.3438\n",
      "Epoch 70 of 100\n"
     ]
    },
    {
     "name": "stderr",
     "output_type": "stream",
     "text": [
      "98it [00:09, 10.47it/s]                        \n",
      "98it [00:08, 11.79it/s]                        \n"
     ]
    },
    {
     "name": "stdout",
     "output_type": "stream",
     "text": [
      "Train Loss: 556650.0847\n",
      "Val Loss: 602429.0889\n",
      "Epoch 71 of 100\n"
     ]
    },
    {
     "name": "stderr",
     "output_type": "stream",
     "text": [
      "98it [00:09, 10.87it/s]                        \n",
      "98it [00:08, 11.62it/s]                        \n"
     ]
    },
    {
     "name": "stdout",
     "output_type": "stream",
     "text": [
      "Train Loss: 554950.4282\n",
      "Val Loss: 623454.6038\n",
      "Epoch 72 of 100\n"
     ]
    },
    {
     "name": "stderr",
     "output_type": "stream",
     "text": [
      "98it [00:08, 10.98it/s]                        \n",
      "98it [00:08, 11.57it/s]                        \n"
     ]
    },
    {
     "name": "stdout",
     "output_type": "stream",
     "text": [
      "Train Loss: 564682.8740\n",
      "Val Loss: 603971.1782\n",
      "Epoch 73 of 100\n"
     ]
    },
    {
     "name": "stderr",
     "output_type": "stream",
     "text": [
      "98it [00:08, 10.92it/s]                        \n",
      "98it [00:08, 11.23it/s]                        \n"
     ]
    },
    {
     "name": "stdout",
     "output_type": "stream",
     "text": [
      "Train Loss: 558717.2039\n",
      "Val Loss: 620659.8677\n",
      "Epoch 74 of 100\n"
     ]
    },
    {
     "name": "stderr",
     "output_type": "stream",
     "text": [
      "98it [00:09, 10.78it/s]                        \n",
      "98it [00:08, 11.80it/s]                        \n"
     ]
    },
    {
     "name": "stdout",
     "output_type": "stream",
     "text": [
      "Train Loss: 580543.7610\n",
      "Val Loss: 601659.7395\n",
      "Epoch 75 of 100\n"
     ]
    },
    {
     "name": "stderr",
     "output_type": "stream",
     "text": [
      "98it [00:09, 10.71it/s]                        \n",
      "98it [00:08, 11.62it/s]                        \n"
     ]
    },
    {
     "name": "stdout",
     "output_type": "stream",
     "text": [
      "Train Loss: 553623.1558\n",
      "Val Loss: 605237.6912\n",
      "Epoch 76 of 100\n"
     ]
    },
    {
     "name": "stderr",
     "output_type": "stream",
     "text": [
      "98it [00:09, 10.61it/s]                        \n",
      "98it [00:08, 11.44it/s]                        \n"
     ]
    },
    {
     "name": "stdout",
     "output_type": "stream",
     "text": [
      "Train Loss: 553135.0452\n",
      "Val Loss: 609308.6187\n",
      "Epoch 77 of 100\n"
     ]
    },
    {
     "name": "stderr",
     "output_type": "stream",
     "text": [
      "98it [00:09, 10.81it/s]                        \n",
      "98it [00:08, 11.74it/s]                        \n"
     ]
    },
    {
     "name": "stdout",
     "output_type": "stream",
     "text": [
      "Train Loss: 556330.5898\n",
      "Val Loss: 602230.6157\n",
      "Epoch 78 of 100\n"
     ]
    },
    {
     "name": "stderr",
     "output_type": "stream",
     "text": [
      "98it [00:08, 10.95it/s]                        \n",
      "98it [00:08, 11.59it/s]                        \n"
     ]
    },
    {
     "name": "stdout",
     "output_type": "stream",
     "text": [
      "Train Loss: 552606.0881\n",
      "Val Loss: 618713.7158\n",
      "Epoch 79 of 100\n"
     ]
    },
    {
     "name": "stderr",
     "output_type": "stream",
     "text": [
      "98it [00:09, 10.63it/s]                        \n",
      "98it [00:08, 11.51it/s]                        \n"
     ]
    },
    {
     "name": "stdout",
     "output_type": "stream",
     "text": [
      "Train Loss: 557914.4204\n",
      "Val Loss: 601154.3381\n",
      "Epoch 80 of 100\n"
     ]
    },
    {
     "name": "stderr",
     "output_type": "stream",
     "text": [
      "98it [00:09, 10.88it/s]                        \n",
      "98it [00:08, 11.62it/s]                        \n"
     ]
    },
    {
     "name": "stdout",
     "output_type": "stream",
     "text": [
      "Train Loss: 549095.8315\n",
      "Val Loss: 605026.6812\n",
      "Epoch 81 of 100\n"
     ]
    },
    {
     "name": "stderr",
     "output_type": "stream",
     "text": [
      "98it [00:08, 10.90it/s]                        \n",
      "98it [00:08, 11.75it/s]                        \n"
     ]
    },
    {
     "name": "stdout",
     "output_type": "stream",
     "text": [
      "Train Loss: 549928.2517\n",
      "Val Loss: 600418.3291\n",
      "Epoch 82 of 100\n"
     ]
    },
    {
     "name": "stderr",
     "output_type": "stream",
     "text": [
      "98it [00:08, 10.91it/s]                        \n",
      "98it [00:08, 11.75it/s]                        \n"
     ]
    },
    {
     "name": "stdout",
     "output_type": "stream",
     "text": [
      "Train Loss: 549231.4695\n",
      "Val Loss: 612459.0032\n",
      "Epoch 83 of 100\n"
     ]
    },
    {
     "name": "stderr",
     "output_type": "stream",
     "text": [
      "98it [00:09, 10.87it/s]                        \n",
      "98it [00:08, 11.73it/s]                        \n"
     ]
    },
    {
     "name": "stdout",
     "output_type": "stream",
     "text": [
      "Train Loss: 555832.9768\n",
      "Val Loss: 603507.0552\n",
      "Epoch 84 of 100\n"
     ]
    },
    {
     "name": "stderr",
     "output_type": "stream",
     "text": [
      "98it [00:08, 10.95it/s]                        \n",
      "98it [00:09, 10.76it/s]                        \n"
     ]
    },
    {
     "name": "stdout",
     "output_type": "stream",
     "text": [
      "Train Loss: 547995.3154\n",
      "Val Loss: 613450.1567\n",
      "Epoch 85 of 100\n"
     ]
    },
    {
     "name": "stderr",
     "output_type": "stream",
     "text": [
      "98it [00:09, 10.71it/s]                        \n",
      "98it [00:08, 11.52it/s]                        \n"
     ]
    },
    {
     "name": "stdout",
     "output_type": "stream",
     "text": [
      "Train Loss: 555470.1719\n",
      "Val Loss: 598844.1577\n",
      "Epoch 86 of 100\n"
     ]
    },
    {
     "name": "stderr",
     "output_type": "stream",
     "text": [
      "98it [00:09, 10.87it/s]                        \n",
      "98it [00:08, 11.43it/s]                        \n"
     ]
    },
    {
     "name": "stdout",
     "output_type": "stream",
     "text": [
      "Train Loss: 546127.2131\n",
      "Val Loss: 609361.4407\n",
      "Epoch 87 of 100\n"
     ]
    },
    {
     "name": "stderr",
     "output_type": "stream",
     "text": [
      "98it [00:09, 10.88it/s]                        \n",
      "98it [00:08, 11.53it/s]                        \n"
     ]
    },
    {
     "name": "stdout",
     "output_type": "stream",
     "text": [
      "Train Loss: 555801.9363\n",
      "Val Loss: 594880.4810\n",
      "Epoch 88 of 100\n"
     ]
    },
    {
     "name": "stderr",
     "output_type": "stream",
     "text": [
      "98it [00:09, 10.86it/s]                        \n",
      "98it [00:08, 11.77it/s]                        \n"
     ]
    },
    {
     "name": "stdout",
     "output_type": "stream",
     "text": [
      "Train Loss: 551410.2056\n",
      "Val Loss: 619723.7544\n",
      "Epoch 89 of 100\n"
     ]
    },
    {
     "name": "stderr",
     "output_type": "stream",
     "text": [
      "98it [00:09, 10.42it/s]                        \n",
      "98it [00:08, 11.78it/s]                        \n"
     ]
    },
    {
     "name": "stdout",
     "output_type": "stream",
     "text": [
      "Train Loss: 557570.6416\n",
      "Val Loss: 627581.3188\n",
      "Epoch 90 of 100\n"
     ]
    },
    {
     "name": "stderr",
     "output_type": "stream",
     "text": [
      "98it [00:09, 10.74it/s]                        \n",
      "98it [00:08, 11.46it/s]                        \n"
     ]
    },
    {
     "name": "stdout",
     "output_type": "stream",
     "text": [
      "Train Loss: 550837.4558\n",
      "Val Loss: 603272.7566\n",
      "Epoch 91 of 100\n"
     ]
    },
    {
     "name": "stderr",
     "output_type": "stream",
     "text": [
      "98it [00:09, 10.81it/s]                        \n",
      "98it [00:08, 11.74it/s]                        \n"
     ]
    },
    {
     "name": "stdout",
     "output_type": "stream",
     "text": [
      "Train Loss: 549071.8499\n",
      "Val Loss: 596734.8110\n",
      "Epoch 92 of 100\n"
     ]
    },
    {
     "name": "stderr",
     "output_type": "stream",
     "text": [
      "98it [00:09, 10.19it/s]                        \n",
      "98it [00:08, 11.77it/s]                        \n"
     ]
    },
    {
     "name": "stdout",
     "output_type": "stream",
     "text": [
      "Train Loss: 538489.3992\n",
      "Val Loss: 597481.0488\n",
      "Epoch 93 of 100\n"
     ]
    },
    {
     "name": "stderr",
     "output_type": "stream",
     "text": [
      "98it [00:08, 10.91it/s]                        \n",
      "98it [00:08, 11.77it/s]                        \n"
     ]
    },
    {
     "name": "stdout",
     "output_type": "stream",
     "text": [
      "Train Loss: 540475.3306\n",
      "Val Loss: 600081.3252\n",
      "Epoch 94 of 100\n"
     ]
    },
    {
     "name": "stderr",
     "output_type": "stream",
     "text": [
      "98it [00:08, 10.96it/s]                        \n",
      "98it [00:08, 11.76it/s]                        \n"
     ]
    },
    {
     "name": "stdout",
     "output_type": "stream",
     "text": [
      "Train Loss: 538414.1555\n",
      "Val Loss: 604841.7017\n",
      "Epoch 95 of 100\n"
     ]
    },
    {
     "name": "stderr",
     "output_type": "stream",
     "text": [
      "98it [00:08, 10.92it/s]                        \n",
      "98it [00:08, 11.73it/s]                        \n"
     ]
    },
    {
     "name": "stdout",
     "output_type": "stream",
     "text": [
      "Train Loss: 538795.4431\n",
      "Val Loss: 599947.7485\n",
      "Epoch 96 of 100\n"
     ]
    },
    {
     "name": "stderr",
     "output_type": "stream",
     "text": [
      "98it [00:09, 10.54it/s]                        \n",
      "98it [00:08, 11.80it/s]                        \n"
     ]
    },
    {
     "name": "stdout",
     "output_type": "stream",
     "text": [
      "Train Loss: 539391.3296\n",
      "Val Loss: 607407.1772\n",
      "Epoch 97 of 100\n"
     ]
    },
    {
     "name": "stderr",
     "output_type": "stream",
     "text": [
      "98it [00:08, 10.96it/s]                        \n",
      "98it [00:08, 11.72it/s]                        \n"
     ]
    },
    {
     "name": "stdout",
     "output_type": "stream",
     "text": [
      "Train Loss: 554489.4922\n",
      "Val Loss: 595544.3398\n",
      "Epoch 98 of 100\n"
     ]
    },
    {
     "name": "stderr",
     "output_type": "stream",
     "text": [
      "98it [00:09, 10.88it/s]                        \n",
      "98it [00:08, 11.76it/s]                        \n"
     ]
    },
    {
     "name": "stdout",
     "output_type": "stream",
     "text": [
      "Train Loss: 534126.1665\n",
      "Val Loss: 598768.9998\n",
      "Epoch 99 of 100\n"
     ]
    },
    {
     "name": "stderr",
     "output_type": "stream",
     "text": [
      "98it [00:09, 10.39it/s]                        \n",
      "98it [00:08, 11.01it/s]                        \n"
     ]
    },
    {
     "name": "stdout",
     "output_type": "stream",
     "text": [
      "Train Loss: 532726.4622\n",
      "Val Loss: 594245.4937\n",
      "Epoch 100 of 100\n"
     ]
    },
    {
     "name": "stderr",
     "output_type": "stream",
     "text": [
      "98it [00:08, 10.91it/s]                        \n",
      "98it [00:08, 11.67it/s]                        "
     ]
    },
    {
     "name": "stdout",
     "output_type": "stream",
     "text": [
      "Train Loss: 534931.4851\n",
      "Val Loss: 597098.1150\n"
     ]
    },
    {
     "name": "stderr",
     "output_type": "stream",
     "text": [
      "\n"
     ]
    }
   ],
   "source": [
    "train_loss = []\n",
    "val_loss = []\n",
    "MSE_epoch = []\n",
    "KLD_epoch = []\n",
    "for epoch in range(epochs):\n",
    "    print(f\"Epoch {epoch+1} of {epochs}\")\n",
    "    train_epoch_loss, mse,kld = fit(model, train_loader)\n",
    "    val_epoch_loss = validate(model, valid_loader)\n",
    "    train_loss.append(train_epoch_loss)\n",
    "    val_loss.append(val_epoch_loss)\n",
    "    MSE_epoch.append(np.mean(mse))\n",
    "    KLD_epoch.append(np.mean(kld))\n",
    "    print(f\"Train Loss: {train_epoch_loss:.4f}\")\n",
    "    print(f\"Val Loss: {val_epoch_loss:.4f}\")"
   ]
  },
  {
   "cell_type": "code",
   "execution_count": 15,
   "id": "3800778e",
   "metadata": {},
   "outputs": [
    {
     "data": {
      "text/plain": [
       "<matplotlib.legend.Legend at 0x7f5c7e620820>"
      ]
     },
     "execution_count": 15,
     "metadata": {},
     "output_type": "execute_result"
    },
    {
     "data": {
      "image/png": "[encoded data removed]",
      "text/plain": [
       "<Figure size 432x288 with 1 Axes>"
      ]
     },
     "metadata": {
      "needs_background": "light"
     },
     "output_type": "display_data"
    }
   ],
   "source": [
    "plt.figure()\n",
    "plt.plot(MSE_epoch, label ='MSE')\n",
    "plt.plot(KLD_epoch, label = 'KLD')\n",
    "plt.xlabel('Epoch')\n",
    "plt.ylabel('Loss')\n",
    "plt.legend()"
   ]
  },
  {
   "cell_type": "code",
   "execution_count": 16,
   "id": "45525a35",
   "metadata": {},
   "outputs": [],
   "source": [
    "model.to('cpu')\n",
    "AE_output2,_,_ = model(data_good)\n",
    "AE_output2 = AE_output2.detach().numpy()\n",
    "df_ae_output2 = pd.DataFrame(AE_output2, columns = train_keys)\n",
    "df_ae_output2['AE'] = 'Outputs'\n",
    "\n",
    "df_test_tmp = df_test_good\n",
    "df_test_tmp['AE'] = 'Inputs'\n",
    "\n",
    "df_compare2 = pd.concat([df_ae_output2, df_test_tmp], ignore_index=True)\n",
    "df_compare_sample2= df_compare2.sample(10_000)"
   ]
  },
  {
   "cell_type": "code",
   "execution_count": 17,
   "id": "4ff728fd",
   "metadata": {
    "scrolled": false
   },
   "outputs": [
    {
     "data": {
      "image/png": "[encoded data removed]",
      "text/plain": [
       "<Figure size 432x288 with 1 Axes>"
      ]
     },
     "metadata": {
      "needs_background": "light"
     },
     "output_type": "display_data"
    },
    {
     "data": {
      "image/png": "[encoded data removed]",
      "text/plain": [
       "<Figure size 432x288 with 1 Axes>"
      ]
     },
     "metadata": {
      "needs_background": "light"
     },
     "output_type": "display_data"
    },
    {
     "data": {
      "image/png": "[encoded data removed]",
      "text/plain": [
       "<Figure size 432x288 with 1 Axes>"
      ]
     },
     "metadata": {
      "needs_background": "light"
     },
     "output_type": "display_data"
    },
    {
     "data": {
      "image/png": "[encoded data removed]",
      "text/plain": [
       "<Figure size 432x288 with 1 Axes>"
      ]
     },
     "metadata": {
      "needs_background": "light"
     },
     "output_type": "display_data"
    },
    {
     "data": {
      "image/png": "[encoded data removed]",
      "text/plain": [
       "<Figure size 432x288 with 1 Axes>"
      ]
     },
     "metadata": {
      "needs_background": "light"
     },
     "output_type": "display_data"
    },
    {
     "data": {
      "image/png": "[encoded data removed]",
      "text/plain": [
       "<Figure size 432x288 with 1 Axes>"
      ]
     },
     "metadata": {
      "needs_background": "light"
     },
     "output_type": "display_data"
    },
    {
     "data": {
      "image/png": "[encoded data removed]",
      "text/plain": [
       "<Figure size 432x288 with 1 Axes>"
      ]
     },
     "metadata": {
      "needs_background": "light"
     },
     "output_type": "display_data"
    },
    {
     "data": {
      "image/png": "[encoded data removed]",
      "text/plain": [
       "<Figure size 432x288 with 1 Axes>"
      ]
     },
     "metadata": {
      "needs_background": "light"
     },
     "output_type": "display_data"
    },
    {
     "data": {
      "image/png": "[encoded data removed]",
      "text/plain": [
       "<Figure size 432x288 with 1 Axes>"
      ]
     },
     "metadata": {
      "needs_background": "light"
     },
     "output_type": "display_data"
    },
    {
     "data": {
      "image/png": "[encoded data removed]",
      "text/plain": [
       "<Figure size 432x288 with 1 Axes>"
      ]
     },
     "metadata": {
      "needs_background": "light"
     },
     "output_type": "display_data"
    },
    {
     "data": {
      "image/png": "[encoded data removed]",
      "text/plain": [
       "<Figure size 432x288 with 1 Axes>"
      ]
     },
     "metadata": {
      "needs_background": "light"
     },
     "output_type": "display_data"
    },
    {
     "data": {
      "image/png": "[encoded data removed]",
      "text/plain": [
       "<Figure size 432x288 with 1 Axes>"
      ]
     },
     "metadata": {
      "needs_background": "light"
     },
     "output_type": "display_data"
    },
    {
     "data": {
      "image/png": "[encoded data removed]",
      "text/plain": [
       "<Figure size 432x288 with 1 Axes>"
      ]
     },
     "metadata": {
      "needs_background": "light"
     },
     "output_type": "display_data"
    },
    {
     "data": {
      "image/png": "[encoded data removed]",
      "text/plain": [
       "<Figure size 432x288 with 1 Axes>"
      ]
     },
     "metadata": {
      "needs_background": "light"
     },
     "output_type": "display_data"
    },
    {
     "data": {
      "image/png": "[encoded data removed]",
      "text/plain": [
       "<Figure size 432x288 with 1 Axes>"
      ]
     },
     "metadata": {
      "needs_background": "light"
     },
     "output_type": "display_data"
    }
   ],
   "source": [
    "for i in train_keys:\n",
    "    plt.figure()\n",
    "    x_min = df_compare_sample2[i].quantile(0.1)\n",
    "    x_max = df_compare_sample2[i].quantile(0.9)\n",
    "    sns.histplot(data = df_compare_sample2, x = i, hue = \"AE\", binrange = (x_min, x_max), bins = 100);\n",
    "    plt.xlabel(i)"
   ]
  },
  {
   "cell_type": "code",
   "execution_count": null,
   "id": "02c6a3f2",
   "metadata": {},
   "outputs": [],
   "source": []
  }
 ],
 "metadata": {
  "kernelspec": {
   "display_name": "Python 3 (ipykernel)",
   "language": "python",
   "name": "python3"
  },
  "language_info": {
   "codemirror_mode": {
    "name": "ipython",
    "version": 3
   },
   "file_extension": ".py",
   "mimetype": "text/x-python",
   "name": "python",
   "nbconvert_exporter": "python",
   "pygments_lexer": "ipython3",
   "version": "3.9.0"
  }
 },
 "nbformat": 4,
 "nbformat_minor": 5
}
