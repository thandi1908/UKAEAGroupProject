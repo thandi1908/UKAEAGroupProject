{
 "cells": [
  {
   "cell_type": "code",
   "execution_count": 6,
   "id": "c7e41e35",
   "metadata": {},
   "outputs": [],
   "source": [
    "import torch\n",
    "import gpytorch\n",
    "from matplotlib import pyplot as plt\n",
    "\n",
    "import pandas as pd\n",
    "import numpy as np\n",
    "import gc\n",
    "\n",
    "%matplotlib inline\n",
    "%load_ext autoreload\n",
    "%autoreload 2"
   ]
  },
  {
   "cell_type": "code",
   "execution_count": 12,
   "id": "14e23034",
   "metadata": {},
   "outputs": [],
   "source": [
    "from scripts.utils import train_keys, target_keys, ScaleData"
   ]
  },
  {
   "cell_type": "code",
   "execution_count": 13,
   "id": "8991d32b",
   "metadata": {},
   "outputs": [
    {
     "data": {
      "text/plain": [
       "['dfeitg_gb_div_efiitg_gb',\n",
       " 'dfetem_gb_div_efetem_gb',\n",
       " 'dfiitg_gb_div_efiitg_gb',\n",
       " 'dfitem_gb_div_efetem_gb',\n",
       " 'efeetg_gb',\n",
       " 'efeitg_gb_div_efiitg_gb',\n",
       " 'efetem_gb',\n",
       " 'efiitg_gb',\n",
       " 'efitem_gb_div_efetem_gb',\n",
       " 'pfeitg_gb_div_efiitg_gb',\n",
       " 'pfetem_gb_div_efetem_gb',\n",
       " 'pfiitg_gb_div_efiitg_gb',\n",
       " 'pfitem_gb_div_efetem_gb',\n",
       " 'vceitg_gb_div_efiitg_gb',\n",
       " 'vcetem_gb_div_efetem_gb',\n",
       " 'vciitg_gb_div_efiitg_gb',\n",
       " 'vcitem_gb_div_efetem_gb',\n",
       " 'vfiitg_gb_div_efiitg_gb',\n",
       " 'vfitem_gb_div_efetem_gb',\n",
       " 'vriitg_gb_div_efiitg_gb',\n",
       " 'vritem_gb_div_efetem_gb',\n",
       " 'vteitg_gb_div_efiitg_gb',\n",
       " 'vtiitg_gb_div_efiitg_gb']"
      ]
     },
     "execution_count": 13,
     "metadata": {},
     "output_type": "execute_result"
    }
   ],
   "source": [
    "target_keys"
   ]
  },
  {
   "cell_type": "code",
   "execution_count": 34,
   "id": "f2de441a",
   "metadata": {},
   "outputs": [],
   "source": [
    "train_data_path = \"../../data/train_data_clipped.pkl\"\n",
    "df_train = pd.read_pickle(train_data_path)"
   ]
  },
  {
   "cell_type": "code",
   "execution_count": 65,
   "id": "922cb436",
   "metadata": {},
   "outputs": [],
   "source": [
    "used = train_keys + ['efeitg_gb_div_efiitg_gb']\n",
    "\n",
    "training_data = df_train[used].dropna().sample(100_000)\n",
    "training_data, scaler = ScaleData(training_data)\n",
    "\n",
    "X_train = training_data[train_keys]\n",
    "y_train = training_data['efeitg_gb_div_efiitg_gb']\n",
    "\n",
    "X_train = torch.tensor(X_train.values, dtype = torch.float)\n",
    "y_train = torch.tensor(y_train.values, dtype = torch.float)"
   ]
  },
  {
   "cell_type": "code",
   "execution_count": 67,
   "id": "676192da",
   "metadata": {},
   "outputs": [],
   "source": [
    "data_dim = 15\n",
    "\n",
    "class LargeFeatureExtractor(torch.nn.Sequential):\n",
    "    def __init__(self):\n",
    "        super(LargeFeatureExtractor, self).__init__()\n",
    "        self.add_module('linear1', torch.nn.Linear(data_dim, 100))\n",
    "        self.add_module('relu1', torch.nn.ReLU())\n",
    "        self.add_module('linear2', torch.nn.Linear(100, 50))\n",
    "        self.add_module('relu2', torch.nn.ReLU())\n",
    "        self.add_module('linear3', torch.nn.Linear(50, 10))\n",
    "        self.add_module('relu3', torch.nn.ReLU())\n",
    "        self.add_module('linear4', torch.nn.Linear(10, 2))\n",
    "\n",
    "feature_extractor = LargeFeatureExtractor()"
   ]
  },
  {
   "cell_type": "code",
   "execution_count": 68,
   "id": "5ea82b23",
   "metadata": {},
   "outputs": [],
   "source": [
    "class GPRegressionModel(gpytorch.models.ExactGP):\n",
    "        def __init__(self, train_x, train_y, likelihood):\n",
    "            super(GPRegressionModel, self).__init__(train_x, train_y, likelihood)\n",
    "            self.mean_module = gpytorch.means.ConstantMean()\n",
    "            self.covar_module = gpytorch.kernels.GridInterpolationKernel(\n",
    "                gpytorch.kernels.ScaleKernel(gpytorch.kernels.RBFKernel(ard_num_dims=2)),\n",
    "                num_dims=2, grid_size=100\n",
    "            )\n",
    "            self.feature_extractor = feature_extractor\n",
    "\n",
    "            # This module will scale the NN features so that they're nice values\n",
    "            self.scale_to_bounds = gpytorch.utils.grid.ScaleToBounds(-1., 1.)\n",
    "\n",
    "        def forward(self, x):\n",
    "            # We're first putting our data through a deep net (feature extractor)\n",
    "            projected_x = self.feature_extractor(x)\n",
    "            projected_x = self.scale_to_bounds(projected_x)  # Make the NN values \"nice\"\n",
    "\n",
    "            mean_x = self.mean_module(projected_x)\n",
    "            covar_x = self.covar_module(projected_x)\n",
    "            return gpytorch.distributions.MultivariateNormal(mean_x, covar_x)"
   ]
  },
  {
   "cell_type": "code",
   "execution_count": 69,
   "id": "d4b16e4b",
   "metadata": {},
   "outputs": [],
   "source": [
    "likelihood = gpytorch.likelihoods.GaussianLikelihood()\n",
    "model = GPRegressionModel(X_train, y_train, likelihood)"
   ]
  },
  {
   "cell_type": "code",
   "execution_count": 82,
   "id": "03593a30",
   "metadata": {},
   "outputs": [
    {
     "data": {
      "application/vnd.jupyter.widget-view+json": {
       "model_id": "8f73dfbb70934d4f81c70914c5682152",
       "version_major": 2,
       "version_minor": 0
      },
      "text/plain": [
       "  0%|          | 0/50 [00:00<?, ?it/s]"
      ]
     },
     "metadata": {},
     "output_type": "display_data"
    },
    {
     "name": "stderr",
     "output_type": "stream",
     "text": [
      "/home/jbarr/.conda/envs/UKAEA/lib/python3.9/site-packages/gpytorch/utils/linear_cg.py:321: NumericalWarning: CG terminated in 1000 iterations with average residual norm 1.7826359272003174 which is larger than the tolerance of 1 specified by gpytorch.settings.cg_tolerance. If performance is affected, consider raising the maximum number of CG iterations by running code in a gpytorch.settings.max_cg_iterations(value) context.\n",
      "  warnings.warn(\n",
      "/home/jbarr/.conda/envs/UKAEA/lib/python3.9/site-packages/gpytorch/utils/linear_cg.py:321: NumericalWarning: CG terminated in 1000 iterations with average residual norm 1.8652383089065552 which is larger than the tolerance of 1 specified by gpytorch.settings.cg_tolerance. If performance is affected, consider raising the maximum number of CG iterations by running code in a gpytorch.settings.max_cg_iterations(value) context.\n",
      "  warnings.warn(\n",
      "/home/jbarr/.conda/envs/UKAEA/lib/python3.9/site-packages/gpytorch/utils/linear_cg.py:321: NumericalWarning: CG terminated in 1000 iterations with average residual norm 1.548629641532898 which is larger than the tolerance of 1 specified by gpytorch.settings.cg_tolerance. If performance is affected, consider raising the maximum number of CG iterations by running code in a gpytorch.settings.max_cg_iterations(value) context.\n",
      "  warnings.warn(\n"
     ]
    },
    {
     "name": "stdout",
     "output_type": "stream",
     "text": [
      "CPU times: user 22min 37s, sys: 28.5 s, total: 23min 6s\n",
      "Wall time: 23min 10s\n"
     ]
    }
   ],
   "source": [
    "training_iterations = 50\n",
    "\n",
    "# Find optimal model hyperparameters\n",
    "model.train()\n",
    "likelihood.train()\n",
    "\n",
    "# Use the adam optimizer\n",
    "optimizer = torch.optim.Adam([\n",
    "    {'params': model.feature_extractor.parameters()},\n",
    "    {'params': model.covar_module.parameters()},\n",
    "    {'params': model.mean_module.parameters()},\n",
    "    {'params': model.likelihood.parameters()},\n",
    "], lr=0.01)\n",
    "\n",
    "# \"Loss\" for GPs - the marginal log likelihood\n",
    "mll = gpytorch.mlls.ExactMarginalLogLikelihood(likelihood, model)\n",
    "\n",
    "def train():\n",
    "    iterator = tqdm.notebook.tqdm(range(training_iterations))\n",
    "    for i in iterator:\n",
    "        # Zero backprop gradients\n",
    "        optimizer.zero_grad()\n",
    "        # Get output from model\n",
    "        output = model(X_train)\n",
    "        # Calc loss and backprop derivatives\n",
    "        loss = -mll(output, y_train)\n",
    "        loss.backward()\n",
    "        iterator.set_postfix(loss=loss.item())\n",
    "        optimizer.step()\n",
    "\n",
    "%time train()\n",
    "\n"
   ]
  },
  {
   "cell_type": "code",
   "execution_count": 36,
   "id": "24982e11",
   "metadata": {},
   "outputs": [],
   "source": [
    "test_data_path = \"../../data/valid_data_clipped.pkl\"\n",
    "df_test = pd.read_pickle(test_data_path)\n",
    "\n",
    "used = train_keys + ['efeitg_gb_div_efiitg_gb']\n",
    "\n",
    "test_data = df_test[used].dropna().sample(10_000)\n",
    "test_data, scaler = ScaleData(training_data, scaler)\n",
    "\n",
    "X_test = test_data[train_keys]\n",
    "y_test = test_data['efeitg_gb_div_efiitg_gb']\n",
    "\n",
    "X_test = torch.tensor(X_test.values, dtype = torch.float)\n",
    "y_test = torch.tensor(y_test.values, dtype = torch.float)"
   ]
  },
  {
   "cell_type": "code",
   "execution_count": 83,
   "id": "0de0d5e6",
   "metadata": {},
   "outputs": [
    {
     "name": "stderr",
     "output_type": "stream",
     "text": [
      "/home/jbarr/.conda/envs/UKAEA/lib/python3.9/site-packages/gpytorch/utils/linear_cg.py:321: NumericalWarning: CG terminated in 1000 iterations with average residual norm 0.039956722408533096 which is larger than the tolerance of 0.01 specified by gpytorch.settings.cg_tolerance. If performance is affected, consider raising the maximum number of CG iterations by running code in a gpytorch.settings.max_cg_iterations(value) context.\n",
      "  warnings.warn(\n"
     ]
    }
   ],
   "source": [
    "model.eval()\n",
    "likelihood.eval()\n",
    "with torch.no_grad(), gpytorch.settings.use_toeplitz(False), gpytorch.settings.fast_pred_var():\n",
    "    preds = model(X_test)\n"
   ]
  },
  {
   "cell_type": "code",
   "execution_count": 84,
   "id": "2cf6ca95",
   "metadata": {},
   "outputs": [
    {
     "name": "stdout",
     "output_type": "stream",
     "text": [
      "Test MAE: 3.40828013420105\n"
     ]
    }
   ],
   "source": [
    "print('Test MAE: {}'.format(torch.mean(torch.abs(preds.mean - y_test))))"
   ]
  },
  {
   "cell_type": "code",
   "execution_count": 85,
   "id": "56e66515",
   "metadata": {},
   "outputs": [
    {
     "data": {
      "text/plain": [
       "<matplotlib.legend.Legend at 0x7f9348f47a90>"
      ]
     },
     "execution_count": 85,
     "metadata": {},
     "output_type": "execute_result"
    },
    {
     "data": {
      "image/png": "[encoded data removed]",
      "text/plain": [
       "<Figure size 720x576 with 1 Axes>"
      ]
     },
     "metadata": {
      "needs_background": "light"
     },
     "output_type": "display_data"
    }
   ],
   "source": [
    "plt.figure(figsize = (10,8))\n",
    "plt.hist(preds.mean.detach().numpy(), bins = 100, histtype = 'step', label = \"GP\", density = True);\n",
    "plt.hist(y_test.detach().numpy(), bins = 100, histtype = 'step', label = \"QuaLiKiz\", density = True);\n",
    "plt.legend()"
   ]
  },
  {
   "cell_type": "code",
   "execution_count": null,
   "id": "732bfea7",
   "metadata": {},
   "outputs": [],
   "source": []
  }
 ],
 "metadata": {
  "kernelspec": {
   "display_name": "Python 3 (ipykernel)",
   "language": "python",
   "name": "python3"
  },
  "language_info": {
   "codemirror_mode": {
    "name": "ipython",
    "version": 3
   },
   "file_extension": ".py",
   "mimetype": "text/x-python",
   "name": "python",
   "nbconvert_exporter": "python",
   "pygments_lexer": "ipython3",
   "version": "3.9.7"
  }
 },
 "nbformat": 4,
 "nbformat_minor": 5
}
