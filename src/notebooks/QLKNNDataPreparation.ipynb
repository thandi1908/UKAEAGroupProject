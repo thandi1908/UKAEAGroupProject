{
 "cells": [
  {
   "cell_type": "code",
   "execution_count": 1,
   "id": "cd614ebf",
   "metadata": {},
   "outputs": [],
   "source": [
    "import numpy as np\n",
    "import h5py as h5\n",
    "import pandas as pd\n",
    "\n",
    "from sklearn.model_selection import train_test_split"
   ]
  },
  {
   "cell_type": "code",
   "execution_count": 3,
   "id": "d3b6d81c",
   "metadata": {},
   "outputs": [],
   "source": [
    "with h5.File('../qlk_jetexp_nn_training_database_minimal.h5', \"r\") as f:\n",
    "    inputs = f['input']['block0_values'][()]\n",
    "    input_names = f['input']['block0_items'][()]\n",
    "    index_inp = f['input']['axis1'][()]   #row number from 0 to len(inputs)\n",
    "\n",
    "    outputs = f['output']['block0_values'][()]\n",
    "    output_names = f['output']['block0_items'][()]\n",
    "    index_out = f['output']['axis1'][()]   #row number from 0 to len(inputs) with some missing rows\n",
    "\n",
    "good_idx = np.intersect1d(index_inp, index_out)\n",
    "print(f'Percentage of good inputs: {100*(len(good_idx)/ len(index_inp))}'"
   ]
  },
  {
   "cell_type": "code",
   "execution_count": 6,
   "id": "465cb6d1",
   "metadata": {},
   "outputs": [],
   "source": [
    "df_in = pd.DataFrame(inputs, index_inp, input_names)\n",
    "df_in = df_in.loc[good_idx]\n",
    "df_in.rename(columns=lambda x: str(x.decode(\"utf-8\")).lower() , inplace=True)\n",
    "\n",
    "df_out = pd.DataFrame(outputs, index_out, output_names)\n",
    "df_out = df_out.loc[good_idx]\n",
    "df_out.rename(columns=lambda x: str(x.decode(\"utf-8\")).lower() , inplace=True)"
   ]
  },
  {
   "cell_type": "code",
   "execution_count": 10,
   "id": "9251db59",
   "metadata": {},
   "outputs": [],
   "source": [
    "keys_used = ['dfeitg_gb_div_efiitg_gb', 'dfetem_gb_div_efetem_gb',\n",
    "       'dfiitg_gb_div_efiitg_gb', 'dfitem_gb_div_efetem_gb', 'efeetg_gb',\n",
    "       'efeitg_gb_div_efiitg_gb', 'efetem_gb', 'efiitg_gb',\n",
    "       'efitem_gb_div_efetem_gb', 'pfeitg_gb_div_efiitg_gb',\n",
    "       'pfetem_gb_div_efetem_gb', 'pfiitg_gb_div_efiitg_gb',\n",
    "       'pfitem_gb_div_efetem_gb', 'vceitg_gb_div_efiitg_gb',\n",
    "       'vcetem_gb_div_efetem_gb', 'vciitg_gb_div_efiitg_gb',\n",
    "       'vcitem_gb_div_efetem_gb', 'vfiitg_gb_div_efiitg_gb',\n",
    "       'vfitem_gb_div_efetem_gb', 'vriitg_gb_div_efiitg_gb',\n",
    "       'vritem_gb_div_efetem_gb', 'vteitg_gb_div_efiitg_gb',\n",
    "        'vtiitg_gb_div_efiitg_gb',]"
   ]
  },
  {
   "cell_type": "code",
   "execution_count": 13,
   "id": "c055ed6d",
   "metadata": {},
   "outputs": [],
   "source": [
    "X_train, X_temp, y_train, y_temp = train_test_split(df_in, df_used, test_size = 0.2, random_state = 42)\n",
    "\n",
    "X_valid, X_test, y_valid, y_test = train_test_split(X_temp, y_temp, test_size = 0.5, random_state = 42)"
   ]
  },
  {
   "cell_type": "code",
   "execution_count": 14,
   "id": "c5c243dd",
   "metadata": {},
   "outputs": [],
   "source": [
    "train_df = pd.concat([X_train, y_train], axis=1)\n",
    "valid_df = pd.concat([X_valid, y_valid], axis=1)\n",
    "test_df = pd.concat([X_test, y_test], axis=1)\n",
    "\n",
    "train_df.to_pickle(\"<Data Path>.pkl\")\n",
    "valid_df.to_pickle(\"<Data Path>.pk\")\n",
    "test_df.to_pickle(\"<Data Path>.pkl\")"
   ]
  }
 ],
 "metadata": {
  "kernelspec": {
   "display_name": "Python 3 (ipykernel)",
   "language": "python",
   "name": "python3"
  },
  "language_info": {
   "codemirror_mode": {
    "name": "ipython",
    "version": 3
   },
   "file_extension": ".py",
   "mimetype": "text/x-python",
   "name": "python",
   "nbconvert_exporter": "python",
   "pygments_lexer": "ipython3",
   "version": "3.9.7"
  }
 },
 "nbformat": 4,
 "nbformat_minor": 5
}
