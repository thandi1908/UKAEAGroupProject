{
 "cells": [
  {
   "cell_type": "markdown",
   "id": "207040a2",
   "metadata": {},
   "source": [
    "# Note to self:\n",
    "\n",
    "## draw histogram of each output for QLKNN and target to compare"
   ]
  },
  {
   "cell_type": "code",
   "execution_count": 27,
   "id": "66258a72",
   "metadata": {},
   "outputs": [],
   "source": [
    "import numpy as np\n",
    "import pandas as pd\n",
    "import matplotlib.pyplot as plt\n",
    "import seaborn as sns\n",
    "\n",
    "import torch\n",
    "import pytorch_lightning as pl\n",
    "from pytorch_lightning import Trainer\n",
    "from torch.utils.data import Dataset, DataLoader\n",
    "\n",
    "from sklearn.preprocessing import StandardScaler"
   ]
  },
  {
   "cell_type": "code",
   "execution_count": 28,
   "id": "7a9e7868",
   "metadata": {},
   "outputs": [],
   "source": [
    "from QLKNN import QLKNN, QLKNN_Dataset, train_keys, target_keys"
   ]
  },
  {
   "cell_type": "code",
   "execution_count": 68,
   "id": "c1196272",
   "metadata": {},
   "outputs": [],
   "source": [
    "model = QLKNN.load_from_checkpoint(\"logs/QLKNN-Regressor/dfeitg_gb_div_efiitg_gb/target=0-epoch=24-val_loss=0.28.ckpt\",\n",
    "                                   n_input = 15, batch_size = 2048, epochs = 25, learning_rate = 0.001)\n",
    "\n",
    "target = 'dfeitg_gb_div_efiitg_gb'\n",
    "target = 'efetem_gb'\n",
    "\n",
    "test_data_path = \"data/QLKNN_test_data.pkl\"\n",
    "test_data = QLKNN_Dataset(test_data_path, columns = train_keys + [target])\n",
    "\n",
    "scaler = StandardScaler()\n",
    "test_data.data = scaler.fit_transform(test_data.data)\n",
    "test_data.data = pd.DataFrame(test_data.data, columns = train_keys + [target])\n",
    "\n",
    "test_loader = DataLoader(test_data, batch_size = 2048, shuffle = True, num_workers = 1)"
   ]
  },
  {
   "cell_type": "code",
   "execution_count": 69,
   "id": "d2fb1e4c",
   "metadata": {},
   "outputs": [],
   "source": [
    "y = test_data.data[target]\n",
    "y = torch.tensor(y.values)\n",
    "X = test_data.data[train_keys]\n",
    "X = torch.tensor(X.values)\n"
   ]
  },
  {
   "cell_type": "code",
   "execution_count": 70,
   "id": "fc8cce9c",
   "metadata": {},
   "outputs": [],
   "source": [
    "predictions = model(X)"
   ]
  },
  {
   "cell_type": "code",
   "execution_count": 77,
   "id": "0ac2a783",
   "metadata": {},
   "outputs": [
    {
     "data": {
      "image/png": "[encoded data removed]",
      "text/plain": [
       "<Figure size 432x288 with 1 Axes>"
      ]
     },
     "metadata": {
      "needs_background": "light"
     },
     "output_type": "display_data"
    }
   ],
   "source": [
    "plt.figure()\n",
    "\n",
    "x = test_data.data[train_keys[5]]\n",
    "y = test_data.data[target]\n",
    "\n",
    "x_range = [x.min(), x.mean() + 3*x.std()]\n",
    "y_range = [y.mean(), y.mean() + 2*y.std()]\n",
    "\n",
    "plt.hist2d(test_data.data[train_keys[6]], test_data.data[target], range = [x_range, y_range], bins = 100);"
   ]
  },
  {
   "cell_type": "code",
   "execution_count": 13,
   "id": "2f468d54",
   "metadata": {},
   "outputs": [
    {
     "data": {
      "text/html": [
       "<div>\n",
       "<style scoped>\n",
       "    .dataframe tbody tr th:only-of-type {\n",
       "        vertical-align: middle;\n",
       "    }\n",
       "\n",
       "    .dataframe tbody tr th {\n",
       "        vertical-align: top;\n",
       "    }\n",
       "\n",
       "    .dataframe thead th {\n",
       "        text-align: right;\n",
       "    }\n",
       "</style>\n",
       "<table border=\"1\" class=\"dataframe\">\n",
       "  <thead>\n",
       "    <tr style=\"text-align: right;\">\n",
       "      <th></th>\n",
       "      <th>x</th>\n",
       "      <th>y</th>\n",
       "      <th>type</th>\n",
       "    </tr>\n",
       "  </thead>\n",
       "  <tbody>\n",
       "    <tr>\n",
       "      <th>0</th>\n",
       "      <td>-0.527808</td>\n",
       "      <td>-0.346224</td>\n",
       "      <td>QLKNN</td>\n",
       "    </tr>\n",
       "    <tr>\n",
       "      <th>1</th>\n",
       "      <td>-0.527808</td>\n",
       "      <td>0.229583</td>\n",
       "      <td>QLKNN</td>\n",
       "    </tr>\n",
       "    <tr>\n",
       "      <th>2</th>\n",
       "      <td>-0.527808</td>\n",
       "      <td>-0.010027</td>\n",
       "      <td>QLKNN</td>\n",
       "    </tr>\n",
       "    <tr>\n",
       "      <th>3</th>\n",
       "      <td>1.179245</td>\n",
       "      <td>-0.076614</td>\n",
       "      <td>QLKNN</td>\n",
       "    </tr>\n",
       "    <tr>\n",
       "      <th>4</th>\n",
       "      <td>-0.527808</td>\n",
       "      <td>0.042413</td>\n",
       "      <td>QLKNN</td>\n",
       "    </tr>\n",
       "    <tr>\n",
       "      <th>...</th>\n",
       "      <td>...</td>\n",
       "      <td>...</td>\n",
       "      <td>...</td>\n",
       "    </tr>\n",
       "    <tr>\n",
       "      <th>9995</th>\n",
       "      <td>-0.527808</td>\n",
       "      <td>-0.381980</td>\n",
       "      <td>target</td>\n",
       "    </tr>\n",
       "    <tr>\n",
       "      <th>9996</th>\n",
       "      <td>-0.527808</td>\n",
       "      <td>0.278875</td>\n",
       "      <td>target</td>\n",
       "    </tr>\n",
       "    <tr>\n",
       "      <th>9997</th>\n",
       "      <td>-0.527808</td>\n",
       "      <td>0.216100</td>\n",
       "      <td>target</td>\n",
       "    </tr>\n",
       "    <tr>\n",
       "      <th>9998</th>\n",
       "      <td>1.938282</td>\n",
       "      <td>-0.131613</td>\n",
       "      <td>target</td>\n",
       "    </tr>\n",
       "    <tr>\n",
       "      <th>9999</th>\n",
       "      <td>-0.527808</td>\n",
       "      <td>-0.234875</td>\n",
       "      <td>target</td>\n",
       "    </tr>\n",
       "  </tbody>\n",
       "</table>\n",
       "<p>10000 rows × 3 columns</p>\n",
       "</div>"
      ],
      "text/plain": [
       "             x         y    type\n",
       "0    -0.527808 -0.346224   QLKNN\n",
       "1    -0.527808  0.229583   QLKNN\n",
       "2    -0.527808 -0.010027   QLKNN\n",
       "3     1.179245 -0.076614   QLKNN\n",
       "4    -0.527808  0.042413   QLKNN\n",
       "...        ...       ...     ...\n",
       "9995 -0.527808 -0.381980  target\n",
       "9996 -0.527808  0.278875  target\n",
       "9997 -0.527808  0.216100  target\n",
       "9998  1.938282 -0.131613  target\n",
       "9999 -0.527808 -0.234875  target\n",
       "\n",
       "[10000 rows x 3 columns]"
      ]
     },
     "execution_count": 13,
     "metadata": {},
     "output_type": "execute_result"
    }
   ],
   "source": [
    "predictions_numpy = predictions.squeeze().detach().numpy()\n",
    "\n",
    "random_variable = test_data.data[train_keys[3]].to_numpy()\n",
    "\n",
    "predictions_dict = {'x': random_variable, 'y': predictions_numpy}\n",
    "predictions_df = pd.DataFrame(data = predictions_dict)\n",
    "predictions_df['type'] = 'QLKNN'\n",
    "\n",
    "target_dict = {'x': random_variable, 'y': test_data.data[target]}\n",
    "target_df = pd.DataFrame(data = target_dict)\n",
    "target_df['type'] = 'target'\n",
    "\n",
    "plot_df = pd.concat([predictions_df.sample(5_000), target_df.sample(5_000)], axis = 0, ignore_index = True)\n",
    "\n",
    "plot_df"
   ]
  },
  {
   "cell_type": "code",
   "execution_count": 16,
   "id": "abb421bf",
   "metadata": {},
   "outputs": [
    {
     "data": {
      "text/plain": [
       "<seaborn.axisgrid.JointGrid at 0x7f65ba009670>"
      ]
     },
     "execution_count": 16,
     "metadata": {},
     "output_type": "execute_result"
    },
    {
     "data": {
      "image/png": "[encoded data removed]",
      "text/plain": [
       "<Figure size 432x432 with 3 Axes>"
      ]
     },
     "metadata": {
      "needs_background": "light"
     },
     "output_type": "display_data"
    }
   ],
   "source": [
    "sns.jointplot(data = plot_df, x = 'x', y = 'y', hue = 'type', kind = 'kde')"
   ]
  },
  {
   "cell_type": "code",
   "execution_count": null,
   "id": "b17556b0",
   "metadata": {},
   "outputs": [],
   "source": [
    "trainer = Trainer()\n",
    "\n",
    "trainer.test(model = model, dataloaders = test_loader)"
   ]
  },
  {
   "cell_type": "code",
   "execution_count": null,
   "id": "cdbce3da",
   "metadata": {},
   "outputs": [],
   "source": []
  }
 ],
 "metadata": {
  "kernelspec": {
   "display_name": "Python 3 (ipykernel)",
   "language": "python",
   "name": "python3"
  },
  "language_info": {
   "codemirror_mode": {
    "name": "ipython",
    "version": 3
   },
   "file_extension": ".py",
   "mimetype": "text/x-python",
   "name": "python",
   "nbconvert_exporter": "python",
   "pygments_lexer": "ipython3",
   "version": "3.9.7"
  }
 },
 "nbformat": 4,
 "nbformat_minor": 5
}
