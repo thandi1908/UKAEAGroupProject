{
 "cells": [
  {
   "cell_type": "markdown",
   "id": "33210b17",
   "metadata": {},
   "source": [
    "### Required Modules"
   ]
  },
  {
   "cell_type": "code",
   "execution_count": null,
   "id": "8aa0b0ae",
   "metadata": {},
   "outputs": [],
   "source": [
    "import numpy as np \n",
    "import pandas as pd\n",
    "import h5py as h5\n",
    "import seaborn as sns\n",
    "import tensorflow as tf\n",
    "import sys\n",
    "\n",
    "from sklearn.preprocessing import StandardScaler\n",
    "from sklearn.model_selection import train_test_split"
   ]
  },
  {
   "cell_type": "code",
   "execution_count": null,
   "id": "ecc2e79b",
   "metadata": {},
   "outputs": [],
   "source": [
    "import pickle"
   ]
  },
  {
   "cell_type": "code",
   "execution_count": null,
   "id": "fa31f7d1",
   "metadata": {},
   "outputs": [],
   "source": [
    "# The inputs to the Neural Network\n",
    "with h5.File('../qlk_jetexp_nn_training_database_minimal.h5', \"r\") as f:\n",
    "        inputs = f['input']['block0_values'][()]\n",
    "        input_names = f['input']['block0_items'][()]\n",
    "        index_inp = f['input']['axis1'][()]   #row number from 0 to len(inputs)\n",
    "        \n",
    "        # The target outputs for the NN\n",
    "        outputs = f['output']['block0_values'][()]\n",
    "        output_names = f['output']['block0_items'][()]\n",
    "        index_out = f['output']['axis1'][()]   #row number from 0 to len(inputs) with some missing rows\n",
    "        "
   ]
  },
  {
   "cell_type": "code",
   "execution_count": null,
   "id": "20435232",
   "metadata": {},
   "outputs": [],
   "source": [
    "#Load the data into the dataframe\n",
    "df_in = pd.DataFrame(inputs,index_inp,input_names)\n",
    "df_out = pd.DataFrame(outputs,index_out, output_names)"
   ]
  },
  {
   "cell_type": "markdown",
   "id": "7b2cf0fb",
   "metadata": {},
   "source": [
    "### Load Data "
   ]
  },
  {
   "cell_type": "code",
   "execution_count": null,
   "id": "bd1c6aef",
   "metadata": {},
   "outputs": [],
   "source": [
    "train_data = pd.read_pickle(\"/share/rcifdata/jbarr/UKAEAGroupProject/data/train_data.pkl\")\n",
    "\n",
    "X_train, Y_train = train_data.iloc[:,:-1].to_numpy(), train_data.iloc[:,-1].to_numpy()\n",
    "\n",
    "validation_data = pd.read_pickle(\"/share/rcifdata/jbarr/UKAEAGroupProject/data/validation_data.pkl\")\n",
    "\n",
    "X_val, Y_val = validation_data.iloc[:,:-1].to_numpy(), validation_data.iloc[:,-1].to_numpy()"
   ]
  },
  {
   "cell_type": "code",
   "execution_count": null,
   "id": "fb9c2a54",
   "metadata": {},
   "outputs": [],
   "source": [
    "# standard scaler\n",
    "scaler = StandardScaler()\n",
    "scaler.fit(X_train)\n",
    "x_train = scaler.transform(X_train)\n",
    "x_val = scaler.transform (X_val)\n"
   ]
  },
  {
   "cell_type": "markdown",
   "id": "db6df297",
   "metadata": {},
   "source": [
    "### Grid Search: Network Depth and Node Number"
   ]
  },
  {
   "cell_type": "code",
   "execution_count": null,
   "id": "a5d0691c",
   "metadata": {},
   "outputs": [],
   "source": [
    "parameters = {\n",
    "    'nodes': [5,10,20,30],\n",
    "    'layers': [2,3,4]\n",
    "}"
   ]
  },
  {
   "cell_type": "code",
   "execution_count": null,
   "id": "a1d69086",
   "metadata": {},
   "outputs": [],
   "source": [
    "def grid_search(build_fn, parameters, train_data, val_data): \n",
    "    '''\n",
    "    Inputs: \n",
    "        build_fn: a function that will be used to build the neural network\n",
    "        parameters: a dictionary of model parameters\n",
    "        train_data: \n",
    "        val_data\n",
    "    '''\n",
    "    \n",
    "    # unpack data \n",
    "    \n",
    "    x_train, y_train = train_data\n",
    "    \n",
    "    x_val, y_val = val_data\n",
    "    \n",
    "    \n",
    "    results_dict = {}\n",
    "    \n",
    "    \n",
    "    counter = 0\n",
    "    \n",
    "    best_val_loss = sys.float_info.max\n",
    "    \n",
    "    for i in parameters['layers']:\n",
    "        \n",
    "        \n",
    "        #List of possible node combinations\n",
    "        n = i \n",
    "        nodes = tuple([parameters['nodes'] for j in range(i)])\n",
    "        \n",
    "        combs = np.array(np.meshgrid(*nodes)).T.reshape(-1,n)\n",
    "        \n",
    "        for node in combs:\n",
    "    \n",
    "        \n",
    "            # build model\n",
    "            model = build_fn(i,node)\n",
    "            \n",
    "            model.compile(optimizer = 'adam', loss ='binary_crossentropy', metrics = 'acc')\n",
    "            \n",
    "            history = model.fit(x_train, y_train,batch_size = 4096, epochs =25)\n",
    "            \n",
    "            evaluate = model.evaluate(x_val, y_val, batch_sze = 4096)\n",
    "            \n",
    "                        \n",
    "            trial_dict = {\n",
    "                'layers': i,\n",
    "                'nodes': node,\n",
    "                'history': history, \n",
    "                'perfomance': evaluate\n",
    "            }\n",
    "            \n",
    "            \n",
    "            \n",
    "            if evaluate[1] < best_val_loss: \n",
    "                results_dict['best_model'] = trial_dict\n",
    "        \n",
    "            \n",
    "            results_dict['trial'+str(counter)] = trial_dict\n",
    "            \n",
    "            counter += 1"
   ]
  },
  {
   "cell_type": "code",
   "execution_count": null,
   "id": "70b5c24d",
   "metadata": {},
   "outputs": [],
   "source": [
    "def build_classifier(n_layers,nodes):\n",
    "    model = tf.keras.Sequential()\n",
    "    \n",
    "    # Flexible number of hidden layers\n",
    "    for i in range(n_layers):\n",
    "        model.add(tf.keras.layers.Dense(nodes[i],activation ='relu'))\n",
    "    \n",
    "    # Final classifer layer \n",
    "    model.add(tf.keras.layers.Dense(1, activation ='sigmoid'))\n",
    "    \n",
    "    return model"
   ]
  },
  {
   "cell_type": "markdown",
   "id": "2406bbaa",
   "metadata": {},
   "source": [
    "###  Best Neural Network Classifier"
   ]
  },
  {
   "cell_type": "code",
   "execution_count": null,
   "id": "6bdd9bb7",
   "metadata": {},
   "outputs": [],
   "source": [
    "def nn_classifier():\n",
    "    model = tf.keras.Sequential([\n",
    "    tf.keras.layers.Dense(30, activation = 'relu'),\n",
    "    tf.keras.layers.Dense(10, activation = 'relu'),\n",
    "    tf.keras.layers.Dense(1, activation = 'sigmoid')   \n",
    "    ])\n",
    "    return model"
   ]
  },
  {
   "cell_type": "code",
   "execution_count": null,
   "id": "fd72645d",
   "metadata": {},
   "outputs": [],
   "source": [
    "model = nn_classifier()"
   ]
  },
  {
   "cell_type": "code",
   "execution_count": null,
   "id": "de731df1",
   "metadata": {},
   "outputs": [],
   "source": [
    "model.compile(optimizer = 'adam', loss ='binary_crossentropy', metrics = 'acc')"
   ]
  },
  {
   "cell_type": "code",
   "execution_count": null,
   "id": "45621c72",
   "metadata": {},
   "outputs": [],
   "source": [
    "history = model.fit(x_train, Y_train, validation_data = (x_val, Y_val), batch_size = 4096, epochs =25)"
   ]
  },
  {
   "cell_type": "code",
   "execution_count": null,
   "id": "30f6582b",
   "metadata": {},
   "outputs": [],
   "source": [
    "import matplotlib.pyplot as plt"
   ]
  },
  {
   "cell_type": "code",
   "execution_count": null,
   "id": "ca8ac323",
   "metadata": {},
   "outputs": [],
   "source": [
    "plt.figure()\n",
    "plt.plot(history.history['acc'], 'o', label = 'Train acc')\n",
    "plt.plot(history.history['val_acc'], 'o', label = 'Val acc')\n",
    "plt.xlabel('Epoch')\n",
    "plt.ylabel('Accuracy')\n",
    "plt.legend()"
   ]
  },
  {
   "cell_type": "code",
   "execution_count": null,
   "id": "e56127d7",
   "metadata": {},
   "outputs": [],
   "source": [
    "plt.figure()\n",
    "plt.plot(history.history['loss'], 'o', label = 'Train loss')\n",
    "plt.plot(history.history['val_loss'], 'o', label = 'Val loss')\n",
    "plt.xlabel('Epoch')\n",
    "plt.ylabel('Loss')\n",
    "plt.legend()"
   ]
  },
  {
   "cell_type": "markdown",
   "id": "e398f7d9",
   "metadata": {},
   "source": [
    "### Evaluate Model on Test Set"
   ]
  },
  {
   "cell_type": "code",
   "execution_count": null,
   "id": "7648b33f",
   "metadata": {},
   "outputs": [],
   "source": [
    "from sklearn.metrics import roc_curve"
   ]
  },
  {
   "cell_type": "code",
   "execution_count": null,
   "id": "25260b99",
   "metadata": {},
   "outputs": [],
   "source": [
    "test_data = pd.read_pickle(\"/share/rcifdata/jbarr/UKAEAGroupProject/test_data.pkl\")\n",
    "\n",
    "X_test, Y_test = test_data.iloc[:,:-1].to_numpy(), test_data.iloc[:,-1].to_numpy()"
   ]
  },
  {
   "cell_type": "code",
   "execution_count": null,
   "id": "0bdb9b16",
   "metadata": {},
   "outputs": [],
   "source": [
    "x_test = scaler.transform(X_test)"
   ]
  },
  {
   "cell_type": "code",
   "execution_count": null,
   "id": "66f92687",
   "metadata": {},
   "outputs": [],
   "source": [
    "predictions = model.predict(x_test)\n",
    "\n",
    "fpr, tpr, thresholds = roc_curve(Y_test, predictions)"
   ]
  },
  {
   "cell_type": "code",
   "execution_count": null,
   "id": "831a5a08",
   "metadata": {},
   "outputs": [],
   "source": [
    "from sklearn.metrics import roc_auc_score\n",
    "auc = roc_auc_score(Y_test, predictions)"
   ]
  },
  {
   "cell_type": "code",
   "execution_count": null,
   "id": "b9ca55ee",
   "metadata": {},
   "outputs": [],
   "source": [
    "plt.figure()\n",
    "plt.plot(fpr, tpr)\n",
    "random_class = np.arange(0,1,0.005)\n",
    "plt.plot(random_class, random_class, '--')\n",
    "plt.xlabel('False Positive Rate')\n",
    "plt.ylabel('Flase Negative Rate')\n",
    "plt.text(0.8, 0.2, f'auc = {auc: .2f}', fontsize=10)"
   ]
  },
  {
   "cell_type": "markdown",
   "id": "fc73e3fd",
   "metadata": {},
   "source": [
    "### Distributions from classifier"
   ]
  },
  {
   "cell_type": "code",
   "execution_count": null,
   "id": "cea3e9d1",
   "metadata": {},
   "outputs": [],
   "source": [
    "preds = np.round(predictions).flatten()"
   ]
  },
  {
   "cell_type": "code",
   "execution_count": null,
   "id": "7d485338",
   "metadata": {},
   "outputs": [],
   "source": [
    "no_output = x_test[np.where(preds == 0)]\n",
    "yes_output = x_test[np.where(preds == 1)] \n",
    "assert no_output.shape[0] + yes_output.shape[0] == x_test.shape[0]"
   ]
  },
  {
   "cell_type": "code",
   "execution_count": null,
   "id": "b96807ce",
   "metadata": {},
   "outputs": [],
   "source": [
    "columns = list(train_data.iloc[:,:-1].columns)\n",
    "print(columns)"
   ]
  },
  {
   "cell_type": "code",
   "execution_count": null,
   "id": "9fcb7b4e",
   "metadata": {
    "scrolled": false
   },
   "outputs": [],
   "source": [
    "for i, column in enumerate(columns):\n",
    "    plt.figure()\n",
    "    plt.hist(no_output[:,i], histtype = 'step', color = 'lime', label =\" No output\", density = True);\n",
    "    plt.hist(yes_output[:,i], histtype = 'step', color = 'purple', label = \"Output\", density = True);\n",
    "    plt.legend()\n",
    "    plt.xlabel(column)"
   ]
  },
  {
   "cell_type": "code",
   "execution_count": null,
   "id": "7ca1430e",
   "metadata": {},
   "outputs": [],
   "source": []
  }
 ],
 "metadata": {
  "kernelspec": {
   "display_name": "Python 3 (ipykernel)",
   "language": "python",
   "name": "python3"
  },
  "language_info": {
   "codemirror_mode": {
    "name": "ipython",
    "version": 3
   },
   "file_extension": ".py",
   "mimetype": "text/x-python",
   "name": "python",
   "nbconvert_exporter": "python",
   "pygments_lexer": "ipython3",
   "version": "3.9.7"
  }
 },
 "nbformat": 4,
 "nbformat_minor": 5
}
